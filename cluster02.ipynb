{
 "cells": [
  {
   "cell_type": "markdown",
   "source": [
    "importações"
   ],
   "metadata": {
    "collapsed": false,
    "pycharm": {
     "name": "#%% md\n"
    }
   }
  },
  {
   "cell_type": "code",
   "execution_count": 19,
   "metadata": {
    "collapsed": true,
    "pycharm": {
     "name": "#%%\n"
    }
   },
   "outputs": [],
   "source": [
    "import plotly.express as px\n",
    "import plotly.graph_objects as go\n",
    "import numpy as np\n",
    "from sklearn.preprocessing import StandardScaler\n",
    "from sklearn.cluster import KMeans\n",
    "import pandas as pd"
   ]
  },
  {
   "cell_type": "markdown",
   "source": [
    "leitura do csv"
   ],
   "metadata": {
    "collapsed": false,
    "pycharm": {
     "name": "#%% md\n"
    }
   }
  },
  {
   "cell_type": "code",
   "execution_count": 20,
   "outputs": [],
   "source": [
    "df = pd.read_csv('./bi/dataframe_cotacao.tsv', sep='\\t')"
   ],
   "metadata": {
    "collapsed": false,
    "pycharm": {
     "name": "#%%\n"
    }
   }
  },
  {
   "cell_type": "markdown",
   "source": [
    "variaveis de leitura do tsv"
   ],
   "metadata": {
    "collapsed": false,
    "pycharm": {
     "name": "#%% md\n"
    }
   }
  },
  {
   "cell_type": "code",
   "execution_count": 21,
   "outputs": [],
   "source": [
    "# variavel para guardar a liquidez\n",
    "liquidez_valor = df['Liquidez_Diária']\n",
    "# variavel para guardar os valores das cotas\n",
    "valor_cota = df['Preco_Atual']"
   ],
   "metadata": {
    "collapsed": false,
    "pycharm": {
     "name": "#%%\n"
    }
   }
  },
  {
   "cell_type": "code",
   "execution_count": 22,
   "outputs": [],
   "source": [
    "rotulo = df['Setor']"
   ],
   "metadata": {
    "collapsed": false,
    "pycharm": {
     "name": "#%%\n"
    }
   }
  },
  {
   "cell_type": "markdown",
   "source": [
    "preparando o as listas dos graficos"
   ],
   "metadata": {
    "collapsed": false,
    "pycharm": {
     "name": "#%% md\n"
    }
   }
  },
  {
   "cell_type": "code",
   "execution_count": 23,
   "outputs": [],
   "source": [
    "lista_lq = [] #liquidez_diaria\n",
    "lista_vc = [] #preço atual\n",
    "for lq, vc in zip(liquidez_valor,valor_cota):\n",
    "    try:\n",
    "        lista_lq.append(lq)\n",
    "        lista_vc.append(vc)\n",
    "    except:\n",
    "        pass"
   ],
   "metadata": {
    "collapsed": false,
    "pycharm": {
     "name": "#%%\n"
    }
   }
  },
  {
   "cell_type": "markdown",
   "source": [
    "grafico de dispersão"
   ],
   "metadata": {
    "collapsed": false,
    "pycharm": {
     "name": "#%% md\n"
    }
   }
  },
  {
   "cell_type": "markdown",
   "source": [
    "altura referece a liquidez diaria, x referece ao valor da cota"
   ],
   "metadata": {
    "collapsed": false,
    "pycharm": {
     "name": "#%% md\n"
    }
   }
  },
  {
   "cell_type": "code",
   "execution_count": 24,
   "outputs": [
    {
     "data": {
      "application/vnd.plotly.v1+json": {
       "data": [
        {
         "hovertemplate": "x=%{x}<br>y=%{y}<extra></extra>",
         "legendgroup": "",
         "marker": {
          "color": "#636efa",
          "symbol": "circle"
         },
         "mode": "markers",
         "name": "",
         "orientation": "v",
         "showlegend": false,
         "x": [
          2.38,
          14.7,
          6.29,
          842.0,
          9.4,
          93.0,
          165.0,
          84.96,
          351.0,
          115.5,
          4.49,
          33.85,
          112.0,
          784.0,
          62.01,
          0.0,
          0.96,
          3.71,
          35.06,
          42.42,
          910.0,
          1000.0,
          1.04,
          81.89,
          94.0,
          240.99,
          86.48,
          12.78,
          1520.0,
          7.1,
          70.25,
          4.09,
          79.6,
          0.0,
          28.45,
          0.0,
          62.5,
          8.06,
          98.84,
          89.8,
          195.0,
          87.92,
          0.0,
          97.0,
          93.84,
          97.12,
          153.18,
          13.99,
          92.51,
          98.88,
          99.13,
          124.49,
          9.4,
          85.0,
          7.73,
          87.75,
          71.97,
          80.94,
          65.82,
          101.87,
          69.2,
          78.55,
          103.7,
          109.5,
          0.0,
          43.01,
          80.0,
          87.58,
          85.1,
          75.44,
          0.0,
          72.51,
          54.73,
          10.25,
          14.21,
          112.0,
          108.49,
          160.0,
          95.8,
          2180.0,
          99.46,
          473.51,
          103.3,
          10.82,
          94.8,
          64.8,
          88.2,
          45.97,
          102.66,
          86.19,
          106.84,
          91.98,
          90.0,
          8.16,
          106.03,
          59.6,
          87.88,
          110.77,
          75.4,
          88.04,
          40.68,
          90.25,
          8.18,
          0.0,
          50.7,
          45.69,
          158.02,
          71.7,
          105.5,
          80.17,
          79.4,
          86.3,
          119.49,
          88.08,
          9.39,
          73.9,
          77.76,
          94.15,
          86.09,
          105.46,
          94.0,
          105.15,
          95.06,
          79.31,
          10.9,
          59.99,
          258.97,
          169.49,
          104.0,
          140.77,
          10.24,
          85.4,
          93.98,
          0.0,
          49.88,
          108.17,
          82.74,
          39.97,
          76.98,
          126.47,
          103.4,
          82.99,
          83.64,
          95.34,
          98.0,
          106.0,
          98.7,
          78.78,
          800.0,
          108.07,
          95.55,
          115.77,
          73.66,
          91.48,
          101.74,
          134.1,
          97.97,
          57.1,
          10.25,
          94.73,
          206.79,
          76.0,
          1992.5,
          58.7,
          77.91,
          9.95,
          9.18,
          96.86,
          74.5,
          7.39,
          107.65,
          96.95,
          105.49,
          99.99,
          88.95,
          95.0,
          216.38,
          237.83,
          27.89,
          51.41,
          297.0,
          107.29,
          72.38,
          84.6,
          23999.0,
          79.69,
          82.01,
          94.5,
          46.93,
          73.12,
          115.12,
          67.52,
          66.1,
          94.0,
          133.71,
          6.89,
          98.0,
          9.31,
          7.57,
          84.01,
          79.0,
          69.2,
          91.69,
          85.6,
          8.86,
          106.66,
          66.5,
          97.4,
          82.19,
          70.58,
          92.45,
          61.27,
          86.11,
          143.0,
          95.88,
          49.5,
          101.97,
          78.79,
          97.11,
          99.99,
          97.44,
          61.73,
          97.93,
          62.5,
          92.99,
          86.46,
          135.0,
          137.95,
          690.0,
          162.51,
          91.49,
          72.59,
          79.69,
          92.76,
          66.4,
          89.75,
          103.89,
          75.58,
          105.11,
          101.43,
          9.69,
          75.25,
          10.2,
          91.19,
          100.75,
          9.6,
          97.48,
          89.93,
          95.31,
          73.0,
          71.54,
          90.45,
          76.9,
          88.99,
          99.99,
          67.57,
          80.5,
          81.0,
          116.3,
          137.62,
          100.69,
          99.34,
          89.96,
          86.0,
          75.45,
          86.78,
          100.94,
          95.99,
          102.49,
          107.49,
          100.64,
          95.3,
          95.13,
          95.0,
          76000.0,
          103.69,
          121.72,
          117.23,
          1579.99,
          35.43,
          87.0,
          20.38,
          92.0
         ],
         "xaxis": "x",
         "y": [
          2454,
          44041,
          2702,
          29,
          67,
          3,
          200,
          11,
          5,
          3597,
          1354,
          33,
          5,
          41,
          34,
          0,
          2823,
          98,
          22,
          408,
          5495,
          24,
          2130,
          1539,
          61,
          49,
          7,
          206,
          300,
          47,
          218,
          13485,
          1366,
          0,
          5157,
          0,
          148,
          109581,
          52,
          21378,
          9,
          23,
          0,
          2128,
          69685,
          35771,
          32195,
          3677,
          6629,
          567,
          15393,
          32541,
          61169,
          8879,
          107752,
          92795,
          709,
          480,
          365,
          3651,
          8659,
          919,
          36579,
          79,
          0,
          4545,
          18687,
          211,
          5147,
          1409,
          0,
          22,
          2811,
          116260,
          6335,
          610,
          13381,
          977,
          31461,
          55,
          246,
          853,
          601,
          541,
          11596,
          212,
          3297,
          102,
          91574,
          45855,
          7541,
          3335,
          45273,
          134944,
          184,
          4611,
          1,
          24112,
          26005,
          14,
          647,
          1988,
          62398,
          0,
          33161,
          6721,
          543,
          2197,
          20455,
          3260,
          2210,
          4772,
          751,
          998,
          4139,
          2658,
          3650,
          1813,
          5382,
          3930,
          24404,
          29559,
          7197,
          3944,
          77659,
          386,
          351,
          32085,
          27816,
          26158,
          849453,
          244,
          21080,
          0,
          17020,
          41144,
          11638,
          692,
          3672,
          22874,
          30734,
          305,
          6633,
          28477,
          10,
          11638,
          10284,
          2026,
          142,
          13871,
          11477,
          7915,
          1420,
          11043,
          2754,
          1062,
          38,
          111,
          267,
          843,
          8030,
          285,
          161,
          7316,
          14335,
          329019,
          153140,
          12470,
          193,
          49619,
          17154,
          9617,
          278,
          50021,
          2998,
          17230,
          79,
          69,
          329,
          47,
          45,
          20946,
          1,
          2410,
          1,
          2423,
          6767,
          2,
          5852,
          95,
          25968,
          194,
          20374,
          11,
          253,
          890,
          2630,
          16128,
          96990,
          88,
          1885,
          40929,
          3825,
          7409,
          68383,
          68983,
          2338,
          30704,
          4874,
          44335,
          18060,
          1465,
          13115,
          285,
          55673,
          2977,
          1911,
          744,
          27,
          23,
          6237,
          31884,
          947,
          14629,
          68678,
          2912,
          499,
          4994,
          126,
          324,
          5,
          5143,
          2384,
          25598,
          1924,
          3991,
          7423,
          20076,
          1291,
          59729,
          27409,
          269,
          338989,
          51020,
          35290,
          100860,
          38792,
          51755,
          618,
          1338,
          6492,
          1805,
          501,
          13,
          4815,
          8491,
          1547,
          412,
          26,
          1,
          14246,
          18859,
          1673,
          156,
          39,
          7058,
          19172,
          177,
          62162,
          8,
          17428,
          1580,
          42,
          3,
          1,
          33284,
          91,
          11243,
          15,
          87,
          8717,
          2911,
          3
         ],
         "yaxis": "y",
         "type": "scatter"
        }
       ],
       "layout": {
        "template": {
         "data": {
          "histogram2dcontour": [
           {
            "type": "histogram2dcontour",
            "colorbar": {
             "outlinewidth": 0,
             "ticks": ""
            },
            "colorscale": [
             [
              0.0,
              "#0d0887"
             ],
             [
              0.1111111111111111,
              "#46039f"
             ],
             [
              0.2222222222222222,
              "#7201a8"
             ],
             [
              0.3333333333333333,
              "#9c179e"
             ],
             [
              0.4444444444444444,
              "#bd3786"
             ],
             [
              0.5555555555555556,
              "#d8576b"
             ],
             [
              0.6666666666666666,
              "#ed7953"
             ],
             [
              0.7777777777777778,
              "#fb9f3a"
             ],
             [
              0.8888888888888888,
              "#fdca26"
             ],
             [
              1.0,
              "#f0f921"
             ]
            ]
           }
          ],
          "choropleth": [
           {
            "type": "choropleth",
            "colorbar": {
             "outlinewidth": 0,
             "ticks": ""
            }
           }
          ],
          "histogram2d": [
           {
            "type": "histogram2d",
            "colorbar": {
             "outlinewidth": 0,
             "ticks": ""
            },
            "colorscale": [
             [
              0.0,
              "#0d0887"
             ],
             [
              0.1111111111111111,
              "#46039f"
             ],
             [
              0.2222222222222222,
              "#7201a8"
             ],
             [
              0.3333333333333333,
              "#9c179e"
             ],
             [
              0.4444444444444444,
              "#bd3786"
             ],
             [
              0.5555555555555556,
              "#d8576b"
             ],
             [
              0.6666666666666666,
              "#ed7953"
             ],
             [
              0.7777777777777778,
              "#fb9f3a"
             ],
             [
              0.8888888888888888,
              "#fdca26"
             ],
             [
              1.0,
              "#f0f921"
             ]
            ]
           }
          ],
          "heatmap": [
           {
            "type": "heatmap",
            "colorbar": {
             "outlinewidth": 0,
             "ticks": ""
            },
            "colorscale": [
             [
              0.0,
              "#0d0887"
             ],
             [
              0.1111111111111111,
              "#46039f"
             ],
             [
              0.2222222222222222,
              "#7201a8"
             ],
             [
              0.3333333333333333,
              "#9c179e"
             ],
             [
              0.4444444444444444,
              "#bd3786"
             ],
             [
              0.5555555555555556,
              "#d8576b"
             ],
             [
              0.6666666666666666,
              "#ed7953"
             ],
             [
              0.7777777777777778,
              "#fb9f3a"
             ],
             [
              0.8888888888888888,
              "#fdca26"
             ],
             [
              1.0,
              "#f0f921"
             ]
            ]
           }
          ],
          "heatmapgl": [
           {
            "type": "heatmapgl",
            "colorbar": {
             "outlinewidth": 0,
             "ticks": ""
            },
            "colorscale": [
             [
              0.0,
              "#0d0887"
             ],
             [
              0.1111111111111111,
              "#46039f"
             ],
             [
              0.2222222222222222,
              "#7201a8"
             ],
             [
              0.3333333333333333,
              "#9c179e"
             ],
             [
              0.4444444444444444,
              "#bd3786"
             ],
             [
              0.5555555555555556,
              "#d8576b"
             ],
             [
              0.6666666666666666,
              "#ed7953"
             ],
             [
              0.7777777777777778,
              "#fb9f3a"
             ],
             [
              0.8888888888888888,
              "#fdca26"
             ],
             [
              1.0,
              "#f0f921"
             ]
            ]
           }
          ],
          "contourcarpet": [
           {
            "type": "contourcarpet",
            "colorbar": {
             "outlinewidth": 0,
             "ticks": ""
            }
           }
          ],
          "contour": [
           {
            "type": "contour",
            "colorbar": {
             "outlinewidth": 0,
             "ticks": ""
            },
            "colorscale": [
             [
              0.0,
              "#0d0887"
             ],
             [
              0.1111111111111111,
              "#46039f"
             ],
             [
              0.2222222222222222,
              "#7201a8"
             ],
             [
              0.3333333333333333,
              "#9c179e"
             ],
             [
              0.4444444444444444,
              "#bd3786"
             ],
             [
              0.5555555555555556,
              "#d8576b"
             ],
             [
              0.6666666666666666,
              "#ed7953"
             ],
             [
              0.7777777777777778,
              "#fb9f3a"
             ],
             [
              0.8888888888888888,
              "#fdca26"
             ],
             [
              1.0,
              "#f0f921"
             ]
            ]
           }
          ],
          "surface": [
           {
            "type": "surface",
            "colorbar": {
             "outlinewidth": 0,
             "ticks": ""
            },
            "colorscale": [
             [
              0.0,
              "#0d0887"
             ],
             [
              0.1111111111111111,
              "#46039f"
             ],
             [
              0.2222222222222222,
              "#7201a8"
             ],
             [
              0.3333333333333333,
              "#9c179e"
             ],
             [
              0.4444444444444444,
              "#bd3786"
             ],
             [
              0.5555555555555556,
              "#d8576b"
             ],
             [
              0.6666666666666666,
              "#ed7953"
             ],
             [
              0.7777777777777778,
              "#fb9f3a"
             ],
             [
              0.8888888888888888,
              "#fdca26"
             ],
             [
              1.0,
              "#f0f921"
             ]
            ]
           }
          ],
          "mesh3d": [
           {
            "type": "mesh3d",
            "colorbar": {
             "outlinewidth": 0,
             "ticks": ""
            }
           }
          ],
          "scatter": [
           {
            "marker": {
             "line": {
              "color": "#283442"
             }
            },
            "type": "scatter"
           }
          ],
          "parcoords": [
           {
            "type": "parcoords",
            "line": {
             "colorbar": {
              "outlinewidth": 0,
              "ticks": ""
             }
            }
           }
          ],
          "scatterpolargl": [
           {
            "type": "scatterpolargl",
            "marker": {
             "colorbar": {
              "outlinewidth": 0,
              "ticks": ""
             }
            }
           }
          ],
          "bar": [
           {
            "error_x": {
             "color": "#f2f5fa"
            },
            "error_y": {
             "color": "#f2f5fa"
            },
            "marker": {
             "line": {
              "color": "rgb(17,17,17)",
              "width": 0.5
             },
             "pattern": {
              "fillmode": "overlay",
              "size": 10,
              "solidity": 0.2
             }
            },
            "type": "bar"
           }
          ],
          "scattergeo": [
           {
            "type": "scattergeo",
            "marker": {
             "colorbar": {
              "outlinewidth": 0,
              "ticks": ""
             }
            }
           }
          ],
          "scatterpolar": [
           {
            "type": "scatterpolar",
            "marker": {
             "colorbar": {
              "outlinewidth": 0,
              "ticks": ""
             }
            }
           }
          ],
          "histogram": [
           {
            "marker": {
             "pattern": {
              "fillmode": "overlay",
              "size": 10,
              "solidity": 0.2
             }
            },
            "type": "histogram"
           }
          ],
          "scattergl": [
           {
            "marker": {
             "line": {
              "color": "#283442"
             }
            },
            "type": "scattergl"
           }
          ],
          "scatter3d": [
           {
            "type": "scatter3d",
            "line": {
             "colorbar": {
              "outlinewidth": 0,
              "ticks": ""
             }
            },
            "marker": {
             "colorbar": {
              "outlinewidth": 0,
              "ticks": ""
             }
            }
           }
          ],
          "scattermapbox": [
           {
            "type": "scattermapbox",
            "marker": {
             "colorbar": {
              "outlinewidth": 0,
              "ticks": ""
             }
            }
           }
          ],
          "scatterternary": [
           {
            "type": "scatterternary",
            "marker": {
             "colorbar": {
              "outlinewidth": 0,
              "ticks": ""
             }
            }
           }
          ],
          "scattercarpet": [
           {
            "type": "scattercarpet",
            "marker": {
             "colorbar": {
              "outlinewidth": 0,
              "ticks": ""
             }
            }
           }
          ],
          "carpet": [
           {
            "aaxis": {
             "endlinecolor": "#A2B1C6",
             "gridcolor": "#506784",
             "linecolor": "#506784",
             "minorgridcolor": "#506784",
             "startlinecolor": "#A2B1C6"
            },
            "baxis": {
             "endlinecolor": "#A2B1C6",
             "gridcolor": "#506784",
             "linecolor": "#506784",
             "minorgridcolor": "#506784",
             "startlinecolor": "#A2B1C6"
            },
            "type": "carpet"
           }
          ],
          "table": [
           {
            "cells": {
             "fill": {
              "color": "#506784"
             },
             "line": {
              "color": "rgb(17,17,17)"
             }
            },
            "header": {
             "fill": {
              "color": "#2a3f5f"
             },
             "line": {
              "color": "rgb(17,17,17)"
             }
            },
            "type": "table"
           }
          ],
          "barpolar": [
           {
            "marker": {
             "line": {
              "color": "rgb(17,17,17)",
              "width": 0.5
             },
             "pattern": {
              "fillmode": "overlay",
              "size": 10,
              "solidity": 0.2
             }
            },
            "type": "barpolar"
           }
          ],
          "pie": [
           {
            "automargin": true,
            "type": "pie"
           }
          ]
         },
         "layout": {
          "autotypenumbers": "strict",
          "colorway": [
           "#636efa",
           "#EF553B",
           "#00cc96",
           "#ab63fa",
           "#FFA15A",
           "#19d3f3",
           "#FF6692",
           "#B6E880",
           "#FF97FF",
           "#FECB52"
          ],
          "font": {
           "color": "#f2f5fa"
          },
          "hovermode": "closest",
          "hoverlabel": {
           "align": "left"
          },
          "paper_bgcolor": "rgb(17,17,17)",
          "plot_bgcolor": "rgb(17,17,17)",
          "polar": {
           "bgcolor": "rgb(17,17,17)",
           "angularaxis": {
            "gridcolor": "#506784",
            "linecolor": "#506784",
            "ticks": ""
           },
           "radialaxis": {
            "gridcolor": "#506784",
            "linecolor": "#506784",
            "ticks": ""
           }
          },
          "ternary": {
           "bgcolor": "rgb(17,17,17)",
           "aaxis": {
            "gridcolor": "#506784",
            "linecolor": "#506784",
            "ticks": ""
           },
           "baxis": {
            "gridcolor": "#506784",
            "linecolor": "#506784",
            "ticks": ""
           },
           "caxis": {
            "gridcolor": "#506784",
            "linecolor": "#506784",
            "ticks": ""
           }
          },
          "coloraxis": {
           "colorbar": {
            "outlinewidth": 0,
            "ticks": ""
           }
          },
          "colorscale": {
           "sequential": [
            [
             0.0,
             "#0d0887"
            ],
            [
             0.1111111111111111,
             "#46039f"
            ],
            [
             0.2222222222222222,
             "#7201a8"
            ],
            [
             0.3333333333333333,
             "#9c179e"
            ],
            [
             0.4444444444444444,
             "#bd3786"
            ],
            [
             0.5555555555555556,
             "#d8576b"
            ],
            [
             0.6666666666666666,
             "#ed7953"
            ],
            [
             0.7777777777777778,
             "#fb9f3a"
            ],
            [
             0.8888888888888888,
             "#fdca26"
            ],
            [
             1.0,
             "#f0f921"
            ]
           ],
           "sequentialminus": [
            [
             0.0,
             "#0d0887"
            ],
            [
             0.1111111111111111,
             "#46039f"
            ],
            [
             0.2222222222222222,
             "#7201a8"
            ],
            [
             0.3333333333333333,
             "#9c179e"
            ],
            [
             0.4444444444444444,
             "#bd3786"
            ],
            [
             0.5555555555555556,
             "#d8576b"
            ],
            [
             0.6666666666666666,
             "#ed7953"
            ],
            [
             0.7777777777777778,
             "#fb9f3a"
            ],
            [
             0.8888888888888888,
             "#fdca26"
            ],
            [
             1.0,
             "#f0f921"
            ]
           ],
           "diverging": [
            [
             0,
             "#8e0152"
            ],
            [
             0.1,
             "#c51b7d"
            ],
            [
             0.2,
             "#de77ae"
            ],
            [
             0.3,
             "#f1b6da"
            ],
            [
             0.4,
             "#fde0ef"
            ],
            [
             0.5,
             "#f7f7f7"
            ],
            [
             0.6,
             "#e6f5d0"
            ],
            [
             0.7,
             "#b8e186"
            ],
            [
             0.8,
             "#7fbc41"
            ],
            [
             0.9,
             "#4d9221"
            ],
            [
             1,
             "#276419"
            ]
           ]
          },
          "xaxis": {
           "gridcolor": "#283442",
           "linecolor": "#506784",
           "ticks": "",
           "title": {
            "standoff": 15
           },
           "zerolinecolor": "#283442",
           "automargin": true,
           "zerolinewidth": 2
          },
          "yaxis": {
           "gridcolor": "#283442",
           "linecolor": "#506784",
           "ticks": "",
           "title": {
            "standoff": 15
           },
           "zerolinecolor": "#283442",
           "automargin": true,
           "zerolinewidth": 2
          },
          "scene": {
           "xaxis": {
            "backgroundcolor": "rgb(17,17,17)",
            "gridcolor": "#506784",
            "linecolor": "#506784",
            "showbackground": true,
            "ticks": "",
            "zerolinecolor": "#C8D4E3",
            "gridwidth": 2
           },
           "yaxis": {
            "backgroundcolor": "rgb(17,17,17)",
            "gridcolor": "#506784",
            "linecolor": "#506784",
            "showbackground": true,
            "ticks": "",
            "zerolinecolor": "#C8D4E3",
            "gridwidth": 2
           },
           "zaxis": {
            "backgroundcolor": "rgb(17,17,17)",
            "gridcolor": "#506784",
            "linecolor": "#506784",
            "showbackground": true,
            "ticks": "",
            "zerolinecolor": "#C8D4E3",
            "gridwidth": 2
           }
          },
          "shapedefaults": {
           "line": {
            "color": "#f2f5fa"
           }
          },
          "annotationdefaults": {
           "arrowcolor": "#f2f5fa",
           "arrowhead": 0,
           "arrowwidth": 1
          },
          "geo": {
           "bgcolor": "rgb(17,17,17)",
           "landcolor": "rgb(17,17,17)",
           "subunitcolor": "#506784",
           "showland": true,
           "showlakes": true,
           "lakecolor": "rgb(17,17,17)"
          },
          "title": {
           "x": 0.05
          },
          "updatemenudefaults": {
           "bgcolor": "#506784",
           "borderwidth": 0
          },
          "sliderdefaults": {
           "bgcolor": "#C8D4E3",
           "borderwidth": 1,
           "bordercolor": "rgb(17,17,17)",
           "tickwidth": 0
          },
          "mapbox": {
           "style": "dark"
          }
         }
        },
        "xaxis": {
         "anchor": "y",
         "domain": [
          0.0,
          1.0
         ],
         "title": {
          "text": "x"
         }
        },
        "yaxis": {
         "anchor": "x",
         "domain": [
          0.0,
          1.0
         ],
         "title": {
          "text": "y"
         }
        },
        "legend": {
         "tracegroupgap": 0
        },
        "margin": {
         "t": 60
        }
       },
       "config": {
        "plotlyServerURL": "https://plot.ly"
       }
      },
      "text/html": "<div>                            <div id=\"3234df63-e4b1-4807-b5e9-18d97e2abcf9\" class=\"plotly-graph-div\" style=\"height:525px; width:100%;\"></div>            <script type=\"text/javascript\">                require([\"plotly\"], function(Plotly) {                    window.PLOTLYENV=window.PLOTLYENV || {};                                    if (document.getElementById(\"3234df63-e4b1-4807-b5e9-18d97e2abcf9\")) {                    Plotly.newPlot(                        \"3234df63-e4b1-4807-b5e9-18d97e2abcf9\",                        [{\"hovertemplate\":\"x=%{x}<br>y=%{y}<extra></extra>\",\"legendgroup\":\"\",\"marker\":{\"color\":\"#636efa\",\"symbol\":\"circle\"},\"mode\":\"markers\",\"name\":\"\",\"orientation\":\"v\",\"showlegend\":false,\"x\":[2.38,14.7,6.29,842.0,9.4,93.0,165.0,84.96,351.0,115.5,4.49,33.85,112.0,784.0,62.01,0.0,0.96,3.71,35.06,42.42,910.0,1000.0,1.04,81.89,94.0,240.99,86.48,12.78,1520.0,7.1,70.25,4.09,79.6,0.0,28.45,0.0,62.5,8.06,98.84,89.8,195.0,87.92,0.0,97.0,93.84,97.12,153.18,13.99,92.51,98.88,99.13,124.49,9.4,85.0,7.73,87.75,71.97,80.94,65.82,101.87,69.2,78.55,103.7,109.5,0.0,43.01,80.0,87.58,85.1,75.44,0.0,72.51,54.73,10.25,14.21,112.0,108.49,160.0,95.8,2180.0,99.46,473.51,103.3,10.82,94.8,64.8,88.2,45.97,102.66,86.19,106.84,91.98,90.0,8.16,106.03,59.6,87.88,110.77,75.4,88.04,40.68,90.25,8.18,0.0,50.7,45.69,158.02,71.7,105.5,80.17,79.4,86.3,119.49,88.08,9.39,73.9,77.76,94.15,86.09,105.46,94.0,105.15,95.06,79.31,10.9,59.99,258.97,169.49,104.0,140.77,10.24,85.4,93.98,0.0,49.88,108.17,82.74,39.97,76.98,126.47,103.4,82.99,83.64,95.34,98.0,106.0,98.7,78.78,800.0,108.07,95.55,115.77,73.66,91.48,101.74,134.1,97.97,57.1,10.25,94.73,206.79,76.0,1992.5,58.7,77.91,9.95,9.18,96.86,74.5,7.39,107.65,96.95,105.49,99.99,88.95,95.0,216.38,237.83,27.89,51.41,297.0,107.29,72.38,84.6,23999.0,79.69,82.01,94.5,46.93,73.12,115.12,67.52,66.1,94.0,133.71,6.89,98.0,9.31,7.57,84.01,79.0,69.2,91.69,85.6,8.86,106.66,66.5,97.4,82.19,70.58,92.45,61.27,86.11,143.0,95.88,49.5,101.97,78.79,97.11,99.99,97.44,61.73,97.93,62.5,92.99,86.46,135.0,137.95,690.0,162.51,91.49,72.59,79.69,92.76,66.4,89.75,103.89,75.58,105.11,101.43,9.69,75.25,10.2,91.19,100.75,9.6,97.48,89.93,95.31,73.0,71.54,90.45,76.9,88.99,99.99,67.57,80.5,81.0,116.3,137.62,100.69,99.34,89.96,86.0,75.45,86.78,100.94,95.99,102.49,107.49,100.64,95.3,95.13,95.0,76000.0,103.69,121.72,117.23,1579.99,35.43,87.0,20.38,92.0],\"xaxis\":\"x\",\"y\":[2454,44041,2702,29,67,3,200,11,5,3597,1354,33,5,41,34,0,2823,98,22,408,5495,24,2130,1539,61,49,7,206,300,47,218,13485,1366,0,5157,0,148,109581,52,21378,9,23,0,2128,69685,35771,32195,3677,6629,567,15393,32541,61169,8879,107752,92795,709,480,365,3651,8659,919,36579,79,0,4545,18687,211,5147,1409,0,22,2811,116260,6335,610,13381,977,31461,55,246,853,601,541,11596,212,3297,102,91574,45855,7541,3335,45273,134944,184,4611,1,24112,26005,14,647,1988,62398,0,33161,6721,543,2197,20455,3260,2210,4772,751,998,4139,2658,3650,1813,5382,3930,24404,29559,7197,3944,77659,386,351,32085,27816,26158,849453,244,21080,0,17020,41144,11638,692,3672,22874,30734,305,6633,28477,10,11638,10284,2026,142,13871,11477,7915,1420,11043,2754,1062,38,111,267,843,8030,285,161,7316,14335,329019,153140,12470,193,49619,17154,9617,278,50021,2998,17230,79,69,329,47,45,20946,1,2410,1,2423,6767,2,5852,95,25968,194,20374,11,253,890,2630,16128,96990,88,1885,40929,3825,7409,68383,68983,2338,30704,4874,44335,18060,1465,13115,285,55673,2977,1911,744,27,23,6237,31884,947,14629,68678,2912,499,4994,126,324,5,5143,2384,25598,1924,3991,7423,20076,1291,59729,27409,269,338989,51020,35290,100860,38792,51755,618,1338,6492,1805,501,13,4815,8491,1547,412,26,1,14246,18859,1673,156,39,7058,19172,177,62162,8,17428,1580,42,3,1,33284,91,11243,15,87,8717,2911,3],\"yaxis\":\"y\",\"type\":\"scatter\"}],                        {\"template\":{\"data\":{\"histogram2dcontour\":[{\"type\":\"histogram2dcontour\",\"colorbar\":{\"outlinewidth\":0,\"ticks\":\"\"},\"colorscale\":[[0.0,\"#0d0887\"],[0.1111111111111111,\"#46039f\"],[0.2222222222222222,\"#7201a8\"],[0.3333333333333333,\"#9c179e\"],[0.4444444444444444,\"#bd3786\"],[0.5555555555555556,\"#d8576b\"],[0.6666666666666666,\"#ed7953\"],[0.7777777777777778,\"#fb9f3a\"],[0.8888888888888888,\"#fdca26\"],[1.0,\"#f0f921\"]]}],\"choropleth\":[{\"type\":\"choropleth\",\"colorbar\":{\"outlinewidth\":0,\"ticks\":\"\"}}],\"histogram2d\":[{\"type\":\"histogram2d\",\"colorbar\":{\"outlinewidth\":0,\"ticks\":\"\"},\"colorscale\":[[0.0,\"#0d0887\"],[0.1111111111111111,\"#46039f\"],[0.2222222222222222,\"#7201a8\"],[0.3333333333333333,\"#9c179e\"],[0.4444444444444444,\"#bd3786\"],[0.5555555555555556,\"#d8576b\"],[0.6666666666666666,\"#ed7953\"],[0.7777777777777778,\"#fb9f3a\"],[0.8888888888888888,\"#fdca26\"],[1.0,\"#f0f921\"]]}],\"heatmap\":[{\"type\":\"heatmap\",\"colorbar\":{\"outlinewidth\":0,\"ticks\":\"\"},\"colorscale\":[[0.0,\"#0d0887\"],[0.1111111111111111,\"#46039f\"],[0.2222222222222222,\"#7201a8\"],[0.3333333333333333,\"#9c179e\"],[0.4444444444444444,\"#bd3786\"],[0.5555555555555556,\"#d8576b\"],[0.6666666666666666,\"#ed7953\"],[0.7777777777777778,\"#fb9f3a\"],[0.8888888888888888,\"#fdca26\"],[1.0,\"#f0f921\"]]}],\"heatmapgl\":[{\"type\":\"heatmapgl\",\"colorbar\":{\"outlinewidth\":0,\"ticks\":\"\"},\"colorscale\":[[0.0,\"#0d0887\"],[0.1111111111111111,\"#46039f\"],[0.2222222222222222,\"#7201a8\"],[0.3333333333333333,\"#9c179e\"],[0.4444444444444444,\"#bd3786\"],[0.5555555555555556,\"#d8576b\"],[0.6666666666666666,\"#ed7953\"],[0.7777777777777778,\"#fb9f3a\"],[0.8888888888888888,\"#fdca26\"],[1.0,\"#f0f921\"]]}],\"contourcarpet\":[{\"type\":\"contourcarpet\",\"colorbar\":{\"outlinewidth\":0,\"ticks\":\"\"}}],\"contour\":[{\"type\":\"contour\",\"colorbar\":{\"outlinewidth\":0,\"ticks\":\"\"},\"colorscale\":[[0.0,\"#0d0887\"],[0.1111111111111111,\"#46039f\"],[0.2222222222222222,\"#7201a8\"],[0.3333333333333333,\"#9c179e\"],[0.4444444444444444,\"#bd3786\"],[0.5555555555555556,\"#d8576b\"],[0.6666666666666666,\"#ed7953\"],[0.7777777777777778,\"#fb9f3a\"],[0.8888888888888888,\"#fdca26\"],[1.0,\"#f0f921\"]]}],\"surface\":[{\"type\":\"surface\",\"colorbar\":{\"outlinewidth\":0,\"ticks\":\"\"},\"colorscale\":[[0.0,\"#0d0887\"],[0.1111111111111111,\"#46039f\"],[0.2222222222222222,\"#7201a8\"],[0.3333333333333333,\"#9c179e\"],[0.4444444444444444,\"#bd3786\"],[0.5555555555555556,\"#d8576b\"],[0.6666666666666666,\"#ed7953\"],[0.7777777777777778,\"#fb9f3a\"],[0.8888888888888888,\"#fdca26\"],[1.0,\"#f0f921\"]]}],\"mesh3d\":[{\"type\":\"mesh3d\",\"colorbar\":{\"outlinewidth\":0,\"ticks\":\"\"}}],\"scatter\":[{\"marker\":{\"line\":{\"color\":\"#283442\"}},\"type\":\"scatter\"}],\"parcoords\":[{\"type\":\"parcoords\",\"line\":{\"colorbar\":{\"outlinewidth\":0,\"ticks\":\"\"}}}],\"scatterpolargl\":[{\"type\":\"scatterpolargl\",\"marker\":{\"colorbar\":{\"outlinewidth\":0,\"ticks\":\"\"}}}],\"bar\":[{\"error_x\":{\"color\":\"#f2f5fa\"},\"error_y\":{\"color\":\"#f2f5fa\"},\"marker\":{\"line\":{\"color\":\"rgb(17,17,17)\",\"width\":0.5},\"pattern\":{\"fillmode\":\"overlay\",\"size\":10,\"solidity\":0.2}},\"type\":\"bar\"}],\"scattergeo\":[{\"type\":\"scattergeo\",\"marker\":{\"colorbar\":{\"outlinewidth\":0,\"ticks\":\"\"}}}],\"scatterpolar\":[{\"type\":\"scatterpolar\",\"marker\":{\"colorbar\":{\"outlinewidth\":0,\"ticks\":\"\"}}}],\"histogram\":[{\"marker\":{\"pattern\":{\"fillmode\":\"overlay\",\"size\":10,\"solidity\":0.2}},\"type\":\"histogram\"}],\"scattergl\":[{\"marker\":{\"line\":{\"color\":\"#283442\"}},\"type\":\"scattergl\"}],\"scatter3d\":[{\"type\":\"scatter3d\",\"line\":{\"colorbar\":{\"outlinewidth\":0,\"ticks\":\"\"}},\"marker\":{\"colorbar\":{\"outlinewidth\":0,\"ticks\":\"\"}}}],\"scattermapbox\":[{\"type\":\"scattermapbox\",\"marker\":{\"colorbar\":{\"outlinewidth\":0,\"ticks\":\"\"}}}],\"scatterternary\":[{\"type\":\"scatterternary\",\"marker\":{\"colorbar\":{\"outlinewidth\":0,\"ticks\":\"\"}}}],\"scattercarpet\":[{\"type\":\"scattercarpet\",\"marker\":{\"colorbar\":{\"outlinewidth\":0,\"ticks\":\"\"}}}],\"carpet\":[{\"aaxis\":{\"endlinecolor\":\"#A2B1C6\",\"gridcolor\":\"#506784\",\"linecolor\":\"#506784\",\"minorgridcolor\":\"#506784\",\"startlinecolor\":\"#A2B1C6\"},\"baxis\":{\"endlinecolor\":\"#A2B1C6\",\"gridcolor\":\"#506784\",\"linecolor\":\"#506784\",\"minorgridcolor\":\"#506784\",\"startlinecolor\":\"#A2B1C6\"},\"type\":\"carpet\"}],\"table\":[{\"cells\":{\"fill\":{\"color\":\"#506784\"},\"line\":{\"color\":\"rgb(17,17,17)\"}},\"header\":{\"fill\":{\"color\":\"#2a3f5f\"},\"line\":{\"color\":\"rgb(17,17,17)\"}},\"type\":\"table\"}],\"barpolar\":[{\"marker\":{\"line\":{\"color\":\"rgb(17,17,17)\",\"width\":0.5},\"pattern\":{\"fillmode\":\"overlay\",\"size\":10,\"solidity\":0.2}},\"type\":\"barpolar\"}],\"pie\":[{\"automargin\":true,\"type\":\"pie\"}]},\"layout\":{\"autotypenumbers\":\"strict\",\"colorway\":[\"#636efa\",\"#EF553B\",\"#00cc96\",\"#ab63fa\",\"#FFA15A\",\"#19d3f3\",\"#FF6692\",\"#B6E880\",\"#FF97FF\",\"#FECB52\"],\"font\":{\"color\":\"#f2f5fa\"},\"hovermode\":\"closest\",\"hoverlabel\":{\"align\":\"left\"},\"paper_bgcolor\":\"rgb(17,17,17)\",\"plot_bgcolor\":\"rgb(17,17,17)\",\"polar\":{\"bgcolor\":\"rgb(17,17,17)\",\"angularaxis\":{\"gridcolor\":\"#506784\",\"linecolor\":\"#506784\",\"ticks\":\"\"},\"radialaxis\":{\"gridcolor\":\"#506784\",\"linecolor\":\"#506784\",\"ticks\":\"\"}},\"ternary\":{\"bgcolor\":\"rgb(17,17,17)\",\"aaxis\":{\"gridcolor\":\"#506784\",\"linecolor\":\"#506784\",\"ticks\":\"\"},\"baxis\":{\"gridcolor\":\"#506784\",\"linecolor\":\"#506784\",\"ticks\":\"\"},\"caxis\":{\"gridcolor\":\"#506784\",\"linecolor\":\"#506784\",\"ticks\":\"\"}},\"coloraxis\":{\"colorbar\":{\"outlinewidth\":0,\"ticks\":\"\"}},\"colorscale\":{\"sequential\":[[0.0,\"#0d0887\"],[0.1111111111111111,\"#46039f\"],[0.2222222222222222,\"#7201a8\"],[0.3333333333333333,\"#9c179e\"],[0.4444444444444444,\"#bd3786\"],[0.5555555555555556,\"#d8576b\"],[0.6666666666666666,\"#ed7953\"],[0.7777777777777778,\"#fb9f3a\"],[0.8888888888888888,\"#fdca26\"],[1.0,\"#f0f921\"]],\"sequentialminus\":[[0.0,\"#0d0887\"],[0.1111111111111111,\"#46039f\"],[0.2222222222222222,\"#7201a8\"],[0.3333333333333333,\"#9c179e\"],[0.4444444444444444,\"#bd3786\"],[0.5555555555555556,\"#d8576b\"],[0.6666666666666666,\"#ed7953\"],[0.7777777777777778,\"#fb9f3a\"],[0.8888888888888888,\"#fdca26\"],[1.0,\"#f0f921\"]],\"diverging\":[[0,\"#8e0152\"],[0.1,\"#c51b7d\"],[0.2,\"#de77ae\"],[0.3,\"#f1b6da\"],[0.4,\"#fde0ef\"],[0.5,\"#f7f7f7\"],[0.6,\"#e6f5d0\"],[0.7,\"#b8e186\"],[0.8,\"#7fbc41\"],[0.9,\"#4d9221\"],[1,\"#276419\"]]},\"xaxis\":{\"gridcolor\":\"#283442\",\"linecolor\":\"#506784\",\"ticks\":\"\",\"title\":{\"standoff\":15},\"zerolinecolor\":\"#283442\",\"automargin\":true,\"zerolinewidth\":2},\"yaxis\":{\"gridcolor\":\"#283442\",\"linecolor\":\"#506784\",\"ticks\":\"\",\"title\":{\"standoff\":15},\"zerolinecolor\":\"#283442\",\"automargin\":true,\"zerolinewidth\":2},\"scene\":{\"xaxis\":{\"backgroundcolor\":\"rgb(17,17,17)\",\"gridcolor\":\"#506784\",\"linecolor\":\"#506784\",\"showbackground\":true,\"ticks\":\"\",\"zerolinecolor\":\"#C8D4E3\",\"gridwidth\":2},\"yaxis\":{\"backgroundcolor\":\"rgb(17,17,17)\",\"gridcolor\":\"#506784\",\"linecolor\":\"#506784\",\"showbackground\":true,\"ticks\":\"\",\"zerolinecolor\":\"#C8D4E3\",\"gridwidth\":2},\"zaxis\":{\"backgroundcolor\":\"rgb(17,17,17)\",\"gridcolor\":\"#506784\",\"linecolor\":\"#506784\",\"showbackground\":true,\"ticks\":\"\",\"zerolinecolor\":\"#C8D4E3\",\"gridwidth\":2}},\"shapedefaults\":{\"line\":{\"color\":\"#f2f5fa\"}},\"annotationdefaults\":{\"arrowcolor\":\"#f2f5fa\",\"arrowhead\":0,\"arrowwidth\":1},\"geo\":{\"bgcolor\":\"rgb(17,17,17)\",\"landcolor\":\"rgb(17,17,17)\",\"subunitcolor\":\"#506784\",\"showland\":true,\"showlakes\":true,\"lakecolor\":\"rgb(17,17,17)\"},\"title\":{\"x\":0.05},\"updatemenudefaults\":{\"bgcolor\":\"#506784\",\"borderwidth\":0},\"sliderdefaults\":{\"bgcolor\":\"#C8D4E3\",\"borderwidth\":1,\"bordercolor\":\"rgb(17,17,17)\",\"tickwidth\":0},\"mapbox\":{\"style\":\"dark\"}}},\"xaxis\":{\"anchor\":\"y\",\"domain\":[0.0,1.0],\"title\":{\"text\":\"x\"}},\"yaxis\":{\"anchor\":\"x\",\"domain\":[0.0,1.0],\"title\":{\"text\":\"y\"}},\"legend\":{\"tracegroupgap\":0},\"margin\":{\"t\":60}},                        {\"responsive\": true}                    ).then(function(){\n                            \nvar gd = document.getElementById('3234df63-e4b1-4807-b5e9-18d97e2abcf9');\nvar x = new MutationObserver(function (mutations, observer) {{\n        var display = window.getComputedStyle(gd).display;\n        if (!display || display === 'none') {{\n            console.log([gd, 'removed!']);\n            Plotly.purge(gd);\n            observer.disconnect();\n        }}\n}});\n\n// Listen for the removal of the full notebook cells\nvar notebookContainer = gd.closest('#notebook-container');\nif (notebookContainer) {{\n    x.observe(notebookContainer, {childList: true});\n}}\n\n// Listen for the clearing of the current output cell\nvar outputEl = gd.closest('.output');\nif (outputEl) {{\n    x.observe(outputEl, {childList: true});\n}}\n\n                        })                };                });            </script>        </div>"
     },
     "metadata": {},
     "output_type": "display_data"
    }
   ],
   "source": [
    "grafico_s_rt = px.scatter(y=lista_lq, x=lista_vc)\n",
    "grafico_s_rt.show()"
   ],
   "metadata": {
    "collapsed": false,
    "pycharm": {
     "name": "#%%\n"
    }
   }
  },
  {
   "cell_type": "code",
   "execution_count": 25,
   "outputs": [],
   "source": [
    "lista_lq = [] #liquidez_diaria\n",
    "lista_vc = [] #preço atual\n",
    "lista_rt = [] #rotulo\n",
    "for lq, vc, rt in zip(liquidez_valor,valor_cota, rotulo):\n",
    "    try:\n",
    "        lista_lq.append(lq)\n",
    "        lista_vc.append(vc)\n",
    "        lista_rt.append(rt)\n",
    "    except:\n",
    "        pass"
   ],
   "metadata": {
    "collapsed": false,
    "pycharm": {
     "name": "#%%\n"
    }
   }
  },
  {
   "cell_type": "code",
   "execution_count": 26,
   "outputs": [
    {
     "data": {
      "application/vnd.plotly.v1+json": {
       "data": [
        {
         "hovertemplate": "color=Shoppings<br>x=%{x}<br>y=%{y}<extra></extra>",
         "legendgroup": "Shoppings",
         "marker": {
          "color": "#636efa",
          "symbol": "circle"
         },
         "mode": "markers",
         "name": "Shoppings",
         "orientation": "v",
         "showlegend": true,
         "x": [
          2.38,
          84.96,
          4.49,
          28.45,
          62.5,
          2180.0,
          90.0,
          87.88,
          110.77,
          800.0,
          108.07,
          115.77,
          73.66,
          206.79,
          76.0,
          58.7,
          79.69,
          6.89,
          84.01,
          103.69,
          1579.99,
          92.0
         ],
         "xaxis": "x",
         "y": [
          2454,
          11,
          1354,
          5157,
          148,
          55,
          45273,
          1,
          24112,
          142,
          13871,
          7915,
          1420,
          8030,
          285,
          7316,
          2423,
          890,
          88,
          33284,
          15,
          3
         ],
         "yaxis": "y",
         "type": "scatter"
        },
        {
         "hovertemplate": "color=Títulos e Val. Mob.<br>x=%{x}<br>y=%{y}<extra></extra>",
         "legendgroup": "Títulos e Val. Mob.",
         "marker": {
          "color": "#EF553B",
          "symbol": "circle"
         },
         "mode": "markers",
         "name": "Títulos e Val. Mob.",
         "orientation": "v",
         "showlegend": true,
         "x": [
          14.7,
          93.0,
          1000.0,
          7.1,
          87.92,
          0.0,
          97.0,
          93.84,
          97.12,
          92.51,
          99.13,
          9.4,
          85.0,
          71.97,
          80.94,
          69.2,
          109.5,
          10.25,
          88.2,
          102.66,
          86.19,
          106.84,
          91.98,
          8.16,
          59.6,
          75.4,
          90.25,
          8.18,
          86.3,
          73.9,
          77.76,
          86.09,
          105.46,
          94.0,
          95.06,
          79.31,
          10.9,
          104.0,
          95.34,
          98.0,
          106.0,
          91.48,
          97.97,
          9.95,
          96.86,
          7.39,
          88.95,
          27.89,
          51.41,
          297.0,
          72.38,
          84.6,
          73.12,
          66.1,
          7.57,
          91.69,
          97.4,
          70.58,
          92.45,
          86.11,
          95.88,
          97.93,
          92.99,
          79.69,
          92.76,
          66.4,
          89.75,
          103.89,
          75.58,
          101.43,
          10.2,
          100.75,
          9.6,
          97.48,
          89.93,
          95.31,
          73.0,
          71.54,
          90.45,
          76.9,
          99.99,
          67.57,
          80.5,
          99.34,
          89.96,
          86.78,
          100.94,
          95.99,
          107.49,
          95.3,
          95.13,
          95.0
         ],
         "xaxis": "x",
         "y": [
          44041,
          3,
          24,
          47,
          23,
          0,
          2128,
          69685,
          35771,
          6629,
          15393,
          61169,
          8879,
          709,
          480,
          8659,
          79,
          116260,
          3297,
          91574,
          45855,
          7541,
          3335,
          134944,
          4611,
          26005,
          1988,
          62398,
          4772,
          2658,
          3650,
          5382,
          3930,
          24404,
          7197,
          3944,
          77659,
          27816,
          28477,
          10,
          11638,
          11043,
          38,
          329019,
          12470,
          49619,
          2998,
          329,
          47,
          45,
          1,
          2410,
          95,
          20374,
          96990,
          3825,
          30704,
          44335,
          18060,
          13115,
          55673,
          947,
          68678,
          2384,
          25598,
          1924,
          3991,
          7423,
          20076,
          59729,
          338989,
          35290,
          100860,
          38792,
          51755,
          618,
          1338,
          6492,
          1805,
          501,
          4815,
          8491,
          1547,
          18859,
          1673,
          7058,
          19172,
          177,
          8,
          1580,
          42,
          3
         ],
         "yaxis": "y",
         "type": "scatter"
        },
        {
         "hovertemplate": "color=Lajes Corporativas<br>x=%{x}<br>y=%{y}<extra></extra>",
         "legendgroup": "Lajes Corporativas",
         "marker": {
          "color": "#00cc96",
          "symbol": "circle"
         },
         "mode": "markers",
         "name": "Lajes Corporativas",
         "orientation": "v",
         "showlegend": true,
         "x": [
          6.29,
          842.0,
          165.0,
          33.85,
          112.0,
          784.0,
          62.01,
          81.89,
          86.48,
          12.78,
          89.8,
          195.0,
          43.01,
          54.73,
          14.21,
          95.8,
          45.97,
          88.04,
          50.7,
          45.69,
          71.7,
          105.5,
          80.17,
          59.99,
          258.97,
          140.77,
          82.74,
          78.78,
          1992.5,
          105.49,
          216.38,
          23999.0,
          82.01,
          61.27,
          97.11,
          137.95,
          162.51,
          91.49,
          116.3,
          35.43,
          20.38
         ],
         "xaxis": "x",
         "y": [
          2702,
          29,
          200,
          33,
          5,
          41,
          34,
          1539,
          7,
          206,
          21378,
          9,
          4545,
          2811,
          6335,
          31461,
          102,
          14,
          33161,
          6721,
          2197,
          20455,
          3260,
          386,
          351,
          26158,
          11638,
          2026,
          161,
          278,
          79,
          1,
          6767,
          1465,
          27,
          4994,
          324,
          5,
          26,
          87,
          2911
         ],
         "yaxis": "y",
         "type": "scatter"
        },
        {
         "hovertemplate": "color=Híbrido<br>x=%{x}<br>y=%{y}<extra></extra>",
         "legendgroup": "Híbrido",
         "marker": {
          "color": "#ab63fa",
          "symbol": "circle"
         },
         "mode": "markers",
         "name": "Híbrido",
         "orientation": "v",
         "showlegend": true,
         "x": [
          9.4,
          35.06,
          1.04,
          4.09,
          0.0,
          98.84,
          153.18,
          98.88,
          124.49,
          87.75,
          65.82,
          101.87,
          80.0,
          87.58,
          85.1,
          0.0,
          72.51,
          99.46,
          473.51,
          94.8,
          64.8,
          40.68,
          88.08,
          9.39,
          10.24,
          0.0,
          103.4,
          101.74,
          77.91,
          74.5,
          96.95,
          99.99,
          67.52,
          94.0,
          133.71,
          98.0,
          69.2,
          101.97,
          78.79,
          62.5,
          86.46,
          72.59,
          105.11,
          9.69,
          81.0,
          137.62,
          100.69,
          76000.0
         ],
         "xaxis": "x",
         "y": [
          67,
          22,
          2130,
          13485,
          0,
          52,
          32195,
          567,
          32541,
          92795,
          365,
          3651,
          18687,
          211,
          5147,
          0,
          22,
          246,
          853,
          11596,
          212,
          647,
          998,
          4139,
          849453,
          0,
          30734,
          2754,
          14335,
          193,
          9617,
          50021,
          194,
          11,
          253,
          2630,
          40929,
          1911,
          744,
          14629,
          2912,
          5143,
          1291,
          27409,
          412,
          1,
          14246,
          1
         ],
         "yaxis": "y",
         "type": "scatter"
        },
        {
         "hovertemplate": "color=Logística<br>x=%{x}<br>y=%{y}<extra></extra>",
         "legendgroup": "Logística",
         "marker": {
          "color": "#FFA15A",
          "symbol": "circle"
         },
         "mode": "markers",
         "name": "Logística",
         "orientation": "v",
         "showlegend": true,
         "x": [
          351.0,
          108.49,
          158.02,
          94.15,
          105.15,
          169.49,
          108.17,
          76.98,
          83.64,
          95.55,
          57.1,
          94.73,
          107.65,
          95.0,
          237.83,
          94.5,
          115.12,
          82.19,
          49.5,
          97.44,
          102.49,
          117.23
         ],
         "xaxis": "x",
         "y": [
          5,
          13381,
          543,
          1813,
          29559,
          32085,
          41144,
          3672,
          6633,
          11477,
          111,
          843,
          17154,
          17230,
          69,
          2,
          25968,
          4874,
          2977,
          6237,
          62162,
          11243
         ],
         "yaxis": "y",
         "type": "scatter"
        },
        {
         "hovertemplate": "color=Hotel<br>x=%{x}<br>y=%{y}<extra></extra>",
         "legendgroup": "Hotel",
         "marker": {
          "color": "#19d3f3",
          "symbol": "circle"
         },
         "mode": "markers",
         "name": "Hotel",
         "orientation": "v",
         "showlegend": true,
         "x": [
          115.5,
          112.0,
          75.25
         ],
         "xaxis": "x",
         "y": [
          3597,
          610,
          269
         ],
         "yaxis": "y",
         "type": "scatter"
        },
        {
         "hovertemplate": "color=Residencial<br>x=%{x}<br>y=%{y}<extra></extra>",
         "legendgroup": "Residencial",
         "marker": {
          "color": "#FF6692",
          "symbol": "circle"
         },
         "mode": "markers",
         "name": "Residencial",
         "orientation": "v",
         "showlegend": true,
         "x": [
          0.0,
          0.96,
          3.71,
          94.0,
          70.25,
          0.0,
          13.99,
          78.55,
          75.44,
          79.4
         ],
         "xaxis": "x",
         "y": [
          0,
          2823,
          98,
          61,
          218,
          0,
          3677,
          919,
          1409,
          2210
         ],
         "yaxis": "y",
         "type": "scatter"
        },
        {
         "hovertemplate": "color=Outros<br>x=%{x}<br>y=%{y}<extra></extra>",
         "legendgroup": "Outros",
         "marker": {
          "color": "#B6E880",
          "symbol": "circle"
         },
         "mode": "markers",
         "name": "Outros",
         "orientation": "v",
         "showlegend": true,
         "x": [
          42.42,
          910.0,
          1520.0,
          79.6,
          8.06,
          7.73,
          103.7,
          0.0,
          103.3,
          10.82,
          106.03,
          0.0,
          119.49,
          85.4,
          93.98,
          49.88,
          39.97,
          126.47,
          82.99,
          98.7,
          134.1,
          9.18,
          107.29,
          46.93,
          9.31,
          79.0,
          85.6,
          8.86,
          106.66,
          66.5,
          143.0,
          99.99,
          61.73,
          135.0,
          690.0,
          91.19,
          88.99,
          86.0,
          75.45,
          100.64,
          121.72,
          87.0
         ],
         "xaxis": "x",
         "y": [
          408,
          5495,
          300,
          1366,
          109581,
          107752,
          36579,
          0,
          601,
          541,
          184,
          0,
          751,
          244,
          21080,
          17020,
          692,
          22874,
          305,
          10284,
          1062,
          153140,
          20946,
          5852,
          16128,
          1885,
          7409,
          68383,
          68983,
          2338,
          285,
          23,
          31884,
          499,
          126,
          51020,
          13,
          156,
          39,
          17428,
          91,
          8717
         ],
         "yaxis": "y",
         "type": "scatter"
        },
        {
         "hovertemplate": "color=Hospital<br>x=%{x}<br>y=%{y}<extra></extra>",
         "legendgroup": "Hospital",
         "marker": {
          "color": "#FF97FF",
          "symbol": "circle"
         },
         "mode": "markers",
         "name": "Hospital",
         "orientation": "v",
         "showlegend": true,
         "x": [
          240.99,
          160.0,
          10.25
         ],
         "xaxis": "x",
         "y": [
          49,
          977,
          267
         ],
         "yaxis": "y",
         "type": "scatter"
        }
       ],
       "layout": {
        "template": {
         "data": {
          "histogram2dcontour": [
           {
            "type": "histogram2dcontour",
            "colorbar": {
             "outlinewidth": 0,
             "ticks": ""
            },
            "colorscale": [
             [
              0.0,
              "#0d0887"
             ],
             [
              0.1111111111111111,
              "#46039f"
             ],
             [
              0.2222222222222222,
              "#7201a8"
             ],
             [
              0.3333333333333333,
              "#9c179e"
             ],
             [
              0.4444444444444444,
              "#bd3786"
             ],
             [
              0.5555555555555556,
              "#d8576b"
             ],
             [
              0.6666666666666666,
              "#ed7953"
             ],
             [
              0.7777777777777778,
              "#fb9f3a"
             ],
             [
              0.8888888888888888,
              "#fdca26"
             ],
             [
              1.0,
              "#f0f921"
             ]
            ]
           }
          ],
          "choropleth": [
           {
            "type": "choropleth",
            "colorbar": {
             "outlinewidth": 0,
             "ticks": ""
            }
           }
          ],
          "histogram2d": [
           {
            "type": "histogram2d",
            "colorbar": {
             "outlinewidth": 0,
             "ticks": ""
            },
            "colorscale": [
             [
              0.0,
              "#0d0887"
             ],
             [
              0.1111111111111111,
              "#46039f"
             ],
             [
              0.2222222222222222,
              "#7201a8"
             ],
             [
              0.3333333333333333,
              "#9c179e"
             ],
             [
              0.4444444444444444,
              "#bd3786"
             ],
             [
              0.5555555555555556,
              "#d8576b"
             ],
             [
              0.6666666666666666,
              "#ed7953"
             ],
             [
              0.7777777777777778,
              "#fb9f3a"
             ],
             [
              0.8888888888888888,
              "#fdca26"
             ],
             [
              1.0,
              "#f0f921"
             ]
            ]
           }
          ],
          "heatmap": [
           {
            "type": "heatmap",
            "colorbar": {
             "outlinewidth": 0,
             "ticks": ""
            },
            "colorscale": [
             [
              0.0,
              "#0d0887"
             ],
             [
              0.1111111111111111,
              "#46039f"
             ],
             [
              0.2222222222222222,
              "#7201a8"
             ],
             [
              0.3333333333333333,
              "#9c179e"
             ],
             [
              0.4444444444444444,
              "#bd3786"
             ],
             [
              0.5555555555555556,
              "#d8576b"
             ],
             [
              0.6666666666666666,
              "#ed7953"
             ],
             [
              0.7777777777777778,
              "#fb9f3a"
             ],
             [
              0.8888888888888888,
              "#fdca26"
             ],
             [
              1.0,
              "#f0f921"
             ]
            ]
           }
          ],
          "heatmapgl": [
           {
            "type": "heatmapgl",
            "colorbar": {
             "outlinewidth": 0,
             "ticks": ""
            },
            "colorscale": [
             [
              0.0,
              "#0d0887"
             ],
             [
              0.1111111111111111,
              "#46039f"
             ],
             [
              0.2222222222222222,
              "#7201a8"
             ],
             [
              0.3333333333333333,
              "#9c179e"
             ],
             [
              0.4444444444444444,
              "#bd3786"
             ],
             [
              0.5555555555555556,
              "#d8576b"
             ],
             [
              0.6666666666666666,
              "#ed7953"
             ],
             [
              0.7777777777777778,
              "#fb9f3a"
             ],
             [
              0.8888888888888888,
              "#fdca26"
             ],
             [
              1.0,
              "#f0f921"
             ]
            ]
           }
          ],
          "contourcarpet": [
           {
            "type": "contourcarpet",
            "colorbar": {
             "outlinewidth": 0,
             "ticks": ""
            }
           }
          ],
          "contour": [
           {
            "type": "contour",
            "colorbar": {
             "outlinewidth": 0,
             "ticks": ""
            },
            "colorscale": [
             [
              0.0,
              "#0d0887"
             ],
             [
              0.1111111111111111,
              "#46039f"
             ],
             [
              0.2222222222222222,
              "#7201a8"
             ],
             [
              0.3333333333333333,
              "#9c179e"
             ],
             [
              0.4444444444444444,
              "#bd3786"
             ],
             [
              0.5555555555555556,
              "#d8576b"
             ],
             [
              0.6666666666666666,
              "#ed7953"
             ],
             [
              0.7777777777777778,
              "#fb9f3a"
             ],
             [
              0.8888888888888888,
              "#fdca26"
             ],
             [
              1.0,
              "#f0f921"
             ]
            ]
           }
          ],
          "surface": [
           {
            "type": "surface",
            "colorbar": {
             "outlinewidth": 0,
             "ticks": ""
            },
            "colorscale": [
             [
              0.0,
              "#0d0887"
             ],
             [
              0.1111111111111111,
              "#46039f"
             ],
             [
              0.2222222222222222,
              "#7201a8"
             ],
             [
              0.3333333333333333,
              "#9c179e"
             ],
             [
              0.4444444444444444,
              "#bd3786"
             ],
             [
              0.5555555555555556,
              "#d8576b"
             ],
             [
              0.6666666666666666,
              "#ed7953"
             ],
             [
              0.7777777777777778,
              "#fb9f3a"
             ],
             [
              0.8888888888888888,
              "#fdca26"
             ],
             [
              1.0,
              "#f0f921"
             ]
            ]
           }
          ],
          "mesh3d": [
           {
            "type": "mesh3d",
            "colorbar": {
             "outlinewidth": 0,
             "ticks": ""
            }
           }
          ],
          "scatter": [
           {
            "marker": {
             "line": {
              "color": "#283442"
             }
            },
            "type": "scatter"
           }
          ],
          "parcoords": [
           {
            "type": "parcoords",
            "line": {
             "colorbar": {
              "outlinewidth": 0,
              "ticks": ""
             }
            }
           }
          ],
          "scatterpolargl": [
           {
            "type": "scatterpolargl",
            "marker": {
             "colorbar": {
              "outlinewidth": 0,
              "ticks": ""
             }
            }
           }
          ],
          "bar": [
           {
            "error_x": {
             "color": "#f2f5fa"
            },
            "error_y": {
             "color": "#f2f5fa"
            },
            "marker": {
             "line": {
              "color": "rgb(17,17,17)",
              "width": 0.5
             },
             "pattern": {
              "fillmode": "overlay",
              "size": 10,
              "solidity": 0.2
             }
            },
            "type": "bar"
           }
          ],
          "scattergeo": [
           {
            "type": "scattergeo",
            "marker": {
             "colorbar": {
              "outlinewidth": 0,
              "ticks": ""
             }
            }
           }
          ],
          "scatterpolar": [
           {
            "type": "scatterpolar",
            "marker": {
             "colorbar": {
              "outlinewidth": 0,
              "ticks": ""
             }
            }
           }
          ],
          "histogram": [
           {
            "marker": {
             "pattern": {
              "fillmode": "overlay",
              "size": 10,
              "solidity": 0.2
             }
            },
            "type": "histogram"
           }
          ],
          "scattergl": [
           {
            "marker": {
             "line": {
              "color": "#283442"
             }
            },
            "type": "scattergl"
           }
          ],
          "scatter3d": [
           {
            "type": "scatter3d",
            "line": {
             "colorbar": {
              "outlinewidth": 0,
              "ticks": ""
             }
            },
            "marker": {
             "colorbar": {
              "outlinewidth": 0,
              "ticks": ""
             }
            }
           }
          ],
          "scattermapbox": [
           {
            "type": "scattermapbox",
            "marker": {
             "colorbar": {
              "outlinewidth": 0,
              "ticks": ""
             }
            }
           }
          ],
          "scatterternary": [
           {
            "type": "scatterternary",
            "marker": {
             "colorbar": {
              "outlinewidth": 0,
              "ticks": ""
             }
            }
           }
          ],
          "scattercarpet": [
           {
            "type": "scattercarpet",
            "marker": {
             "colorbar": {
              "outlinewidth": 0,
              "ticks": ""
             }
            }
           }
          ],
          "carpet": [
           {
            "aaxis": {
             "endlinecolor": "#A2B1C6",
             "gridcolor": "#506784",
             "linecolor": "#506784",
             "minorgridcolor": "#506784",
             "startlinecolor": "#A2B1C6"
            },
            "baxis": {
             "endlinecolor": "#A2B1C6",
             "gridcolor": "#506784",
             "linecolor": "#506784",
             "minorgridcolor": "#506784",
             "startlinecolor": "#A2B1C6"
            },
            "type": "carpet"
           }
          ],
          "table": [
           {
            "cells": {
             "fill": {
              "color": "#506784"
             },
             "line": {
              "color": "rgb(17,17,17)"
             }
            },
            "header": {
             "fill": {
              "color": "#2a3f5f"
             },
             "line": {
              "color": "rgb(17,17,17)"
             }
            },
            "type": "table"
           }
          ],
          "barpolar": [
           {
            "marker": {
             "line": {
              "color": "rgb(17,17,17)",
              "width": 0.5
             },
             "pattern": {
              "fillmode": "overlay",
              "size": 10,
              "solidity": 0.2
             }
            },
            "type": "barpolar"
           }
          ],
          "pie": [
           {
            "automargin": true,
            "type": "pie"
           }
          ]
         },
         "layout": {
          "autotypenumbers": "strict",
          "colorway": [
           "#636efa",
           "#EF553B",
           "#00cc96",
           "#ab63fa",
           "#FFA15A",
           "#19d3f3",
           "#FF6692",
           "#B6E880",
           "#FF97FF",
           "#FECB52"
          ],
          "font": {
           "color": "#f2f5fa"
          },
          "hovermode": "closest",
          "hoverlabel": {
           "align": "left"
          },
          "paper_bgcolor": "rgb(17,17,17)",
          "plot_bgcolor": "rgb(17,17,17)",
          "polar": {
           "bgcolor": "rgb(17,17,17)",
           "angularaxis": {
            "gridcolor": "#506784",
            "linecolor": "#506784",
            "ticks": ""
           },
           "radialaxis": {
            "gridcolor": "#506784",
            "linecolor": "#506784",
            "ticks": ""
           }
          },
          "ternary": {
           "bgcolor": "rgb(17,17,17)",
           "aaxis": {
            "gridcolor": "#506784",
            "linecolor": "#506784",
            "ticks": ""
           },
           "baxis": {
            "gridcolor": "#506784",
            "linecolor": "#506784",
            "ticks": ""
           },
           "caxis": {
            "gridcolor": "#506784",
            "linecolor": "#506784",
            "ticks": ""
           }
          },
          "coloraxis": {
           "colorbar": {
            "outlinewidth": 0,
            "ticks": ""
           }
          },
          "colorscale": {
           "sequential": [
            [
             0.0,
             "#0d0887"
            ],
            [
             0.1111111111111111,
             "#46039f"
            ],
            [
             0.2222222222222222,
             "#7201a8"
            ],
            [
             0.3333333333333333,
             "#9c179e"
            ],
            [
             0.4444444444444444,
             "#bd3786"
            ],
            [
             0.5555555555555556,
             "#d8576b"
            ],
            [
             0.6666666666666666,
             "#ed7953"
            ],
            [
             0.7777777777777778,
             "#fb9f3a"
            ],
            [
             0.8888888888888888,
             "#fdca26"
            ],
            [
             1.0,
             "#f0f921"
            ]
           ],
           "sequentialminus": [
            [
             0.0,
             "#0d0887"
            ],
            [
             0.1111111111111111,
             "#46039f"
            ],
            [
             0.2222222222222222,
             "#7201a8"
            ],
            [
             0.3333333333333333,
             "#9c179e"
            ],
            [
             0.4444444444444444,
             "#bd3786"
            ],
            [
             0.5555555555555556,
             "#d8576b"
            ],
            [
             0.6666666666666666,
             "#ed7953"
            ],
            [
             0.7777777777777778,
             "#fb9f3a"
            ],
            [
             0.8888888888888888,
             "#fdca26"
            ],
            [
             1.0,
             "#f0f921"
            ]
           ],
           "diverging": [
            [
             0,
             "#8e0152"
            ],
            [
             0.1,
             "#c51b7d"
            ],
            [
             0.2,
             "#de77ae"
            ],
            [
             0.3,
             "#f1b6da"
            ],
            [
             0.4,
             "#fde0ef"
            ],
            [
             0.5,
             "#f7f7f7"
            ],
            [
             0.6,
             "#e6f5d0"
            ],
            [
             0.7,
             "#b8e186"
            ],
            [
             0.8,
             "#7fbc41"
            ],
            [
             0.9,
             "#4d9221"
            ],
            [
             1,
             "#276419"
            ]
           ]
          },
          "xaxis": {
           "gridcolor": "#283442",
           "linecolor": "#506784",
           "ticks": "",
           "title": {
            "standoff": 15
           },
           "zerolinecolor": "#283442",
           "automargin": true,
           "zerolinewidth": 2
          },
          "yaxis": {
           "gridcolor": "#283442",
           "linecolor": "#506784",
           "ticks": "",
           "title": {
            "standoff": 15
           },
           "zerolinecolor": "#283442",
           "automargin": true,
           "zerolinewidth": 2
          },
          "scene": {
           "xaxis": {
            "backgroundcolor": "rgb(17,17,17)",
            "gridcolor": "#506784",
            "linecolor": "#506784",
            "showbackground": true,
            "ticks": "",
            "zerolinecolor": "#C8D4E3",
            "gridwidth": 2
           },
           "yaxis": {
            "backgroundcolor": "rgb(17,17,17)",
            "gridcolor": "#506784",
            "linecolor": "#506784",
            "showbackground": true,
            "ticks": "",
            "zerolinecolor": "#C8D4E3",
            "gridwidth": 2
           },
           "zaxis": {
            "backgroundcolor": "rgb(17,17,17)",
            "gridcolor": "#506784",
            "linecolor": "#506784",
            "showbackground": true,
            "ticks": "",
            "zerolinecolor": "#C8D4E3",
            "gridwidth": 2
           }
          },
          "shapedefaults": {
           "line": {
            "color": "#f2f5fa"
           }
          },
          "annotationdefaults": {
           "arrowcolor": "#f2f5fa",
           "arrowhead": 0,
           "arrowwidth": 1
          },
          "geo": {
           "bgcolor": "rgb(17,17,17)",
           "landcolor": "rgb(17,17,17)",
           "subunitcolor": "#506784",
           "showland": true,
           "showlakes": true,
           "lakecolor": "rgb(17,17,17)"
          },
          "title": {
           "x": 0.05
          },
          "updatemenudefaults": {
           "bgcolor": "#506784",
           "borderwidth": 0
          },
          "sliderdefaults": {
           "bgcolor": "#C8D4E3",
           "borderwidth": 1,
           "bordercolor": "rgb(17,17,17)",
           "tickwidth": 0
          },
          "mapbox": {
           "style": "dark"
          }
         }
        },
        "xaxis": {
         "anchor": "y",
         "domain": [
          0.0,
          1.0
         ],
         "title": {
          "text": "x"
         }
        },
        "yaxis": {
         "anchor": "x",
         "domain": [
          0.0,
          1.0
         ],
         "title": {
          "text": "y"
         }
        },
        "legend": {
         "title": {
          "text": "color"
         },
         "tracegroupgap": 0
        },
        "margin": {
         "t": 60
        }
       },
       "config": {
        "plotlyServerURL": "https://plot.ly"
       }
      },
      "text/html": "<div>                            <div id=\"d74952ad-bf7c-4a57-ada1-e16aa7ce0e21\" class=\"plotly-graph-div\" style=\"height:525px; width:100%;\"></div>            <script type=\"text/javascript\">                require([\"plotly\"], function(Plotly) {                    window.PLOTLYENV=window.PLOTLYENV || {};                                    if (document.getElementById(\"d74952ad-bf7c-4a57-ada1-e16aa7ce0e21\")) {                    Plotly.newPlot(                        \"d74952ad-bf7c-4a57-ada1-e16aa7ce0e21\",                        [{\"hovertemplate\":\"color=Shoppings<br>x=%{x}<br>y=%{y}<extra></extra>\",\"legendgroup\":\"Shoppings\",\"marker\":{\"color\":\"#636efa\",\"symbol\":\"circle\"},\"mode\":\"markers\",\"name\":\"Shoppings\",\"orientation\":\"v\",\"showlegend\":true,\"x\":[2.38,84.96,4.49,28.45,62.5,2180.0,90.0,87.88,110.77,800.0,108.07,115.77,73.66,206.79,76.0,58.7,79.69,6.89,84.01,103.69,1579.99,92.0],\"xaxis\":\"x\",\"y\":[2454,11,1354,5157,148,55,45273,1,24112,142,13871,7915,1420,8030,285,7316,2423,890,88,33284,15,3],\"yaxis\":\"y\",\"type\":\"scatter\"},{\"hovertemplate\":\"color=T\\u00edtulos e Val. Mob.<br>x=%{x}<br>y=%{y}<extra></extra>\",\"legendgroup\":\"T\\u00edtulos e Val. Mob.\",\"marker\":{\"color\":\"#EF553B\",\"symbol\":\"circle\"},\"mode\":\"markers\",\"name\":\"T\\u00edtulos e Val. Mob.\",\"orientation\":\"v\",\"showlegend\":true,\"x\":[14.7,93.0,1000.0,7.1,87.92,0.0,97.0,93.84,97.12,92.51,99.13,9.4,85.0,71.97,80.94,69.2,109.5,10.25,88.2,102.66,86.19,106.84,91.98,8.16,59.6,75.4,90.25,8.18,86.3,73.9,77.76,86.09,105.46,94.0,95.06,79.31,10.9,104.0,95.34,98.0,106.0,91.48,97.97,9.95,96.86,7.39,88.95,27.89,51.41,297.0,72.38,84.6,73.12,66.1,7.57,91.69,97.4,70.58,92.45,86.11,95.88,97.93,92.99,79.69,92.76,66.4,89.75,103.89,75.58,101.43,10.2,100.75,9.6,97.48,89.93,95.31,73.0,71.54,90.45,76.9,99.99,67.57,80.5,99.34,89.96,86.78,100.94,95.99,107.49,95.3,95.13,95.0],\"xaxis\":\"x\",\"y\":[44041,3,24,47,23,0,2128,69685,35771,6629,15393,61169,8879,709,480,8659,79,116260,3297,91574,45855,7541,3335,134944,4611,26005,1988,62398,4772,2658,3650,5382,3930,24404,7197,3944,77659,27816,28477,10,11638,11043,38,329019,12470,49619,2998,329,47,45,1,2410,95,20374,96990,3825,30704,44335,18060,13115,55673,947,68678,2384,25598,1924,3991,7423,20076,59729,338989,35290,100860,38792,51755,618,1338,6492,1805,501,4815,8491,1547,18859,1673,7058,19172,177,8,1580,42,3],\"yaxis\":\"y\",\"type\":\"scatter\"},{\"hovertemplate\":\"color=Lajes Corporativas<br>x=%{x}<br>y=%{y}<extra></extra>\",\"legendgroup\":\"Lajes Corporativas\",\"marker\":{\"color\":\"#00cc96\",\"symbol\":\"circle\"},\"mode\":\"markers\",\"name\":\"Lajes Corporativas\",\"orientation\":\"v\",\"showlegend\":true,\"x\":[6.29,842.0,165.0,33.85,112.0,784.0,62.01,81.89,86.48,12.78,89.8,195.0,43.01,54.73,14.21,95.8,45.97,88.04,50.7,45.69,71.7,105.5,80.17,59.99,258.97,140.77,82.74,78.78,1992.5,105.49,216.38,23999.0,82.01,61.27,97.11,137.95,162.51,91.49,116.3,35.43,20.38],\"xaxis\":\"x\",\"y\":[2702,29,200,33,5,41,34,1539,7,206,21378,9,4545,2811,6335,31461,102,14,33161,6721,2197,20455,3260,386,351,26158,11638,2026,161,278,79,1,6767,1465,27,4994,324,5,26,87,2911],\"yaxis\":\"y\",\"type\":\"scatter\"},{\"hovertemplate\":\"color=H\\u00edbrido<br>x=%{x}<br>y=%{y}<extra></extra>\",\"legendgroup\":\"H\\u00edbrido\",\"marker\":{\"color\":\"#ab63fa\",\"symbol\":\"circle\"},\"mode\":\"markers\",\"name\":\"H\\u00edbrido\",\"orientation\":\"v\",\"showlegend\":true,\"x\":[9.4,35.06,1.04,4.09,0.0,98.84,153.18,98.88,124.49,87.75,65.82,101.87,80.0,87.58,85.1,0.0,72.51,99.46,473.51,94.8,64.8,40.68,88.08,9.39,10.24,0.0,103.4,101.74,77.91,74.5,96.95,99.99,67.52,94.0,133.71,98.0,69.2,101.97,78.79,62.5,86.46,72.59,105.11,9.69,81.0,137.62,100.69,76000.0],\"xaxis\":\"x\",\"y\":[67,22,2130,13485,0,52,32195,567,32541,92795,365,3651,18687,211,5147,0,22,246,853,11596,212,647,998,4139,849453,0,30734,2754,14335,193,9617,50021,194,11,253,2630,40929,1911,744,14629,2912,5143,1291,27409,412,1,14246,1],\"yaxis\":\"y\",\"type\":\"scatter\"},{\"hovertemplate\":\"color=Log\\u00edstica<br>x=%{x}<br>y=%{y}<extra></extra>\",\"legendgroup\":\"Log\\u00edstica\",\"marker\":{\"color\":\"#FFA15A\",\"symbol\":\"circle\"},\"mode\":\"markers\",\"name\":\"Log\\u00edstica\",\"orientation\":\"v\",\"showlegend\":true,\"x\":[351.0,108.49,158.02,94.15,105.15,169.49,108.17,76.98,83.64,95.55,57.1,94.73,107.65,95.0,237.83,94.5,115.12,82.19,49.5,97.44,102.49,117.23],\"xaxis\":\"x\",\"y\":[5,13381,543,1813,29559,32085,41144,3672,6633,11477,111,843,17154,17230,69,2,25968,4874,2977,6237,62162,11243],\"yaxis\":\"y\",\"type\":\"scatter\"},{\"hovertemplate\":\"color=Hotel<br>x=%{x}<br>y=%{y}<extra></extra>\",\"legendgroup\":\"Hotel\",\"marker\":{\"color\":\"#19d3f3\",\"symbol\":\"circle\"},\"mode\":\"markers\",\"name\":\"Hotel\",\"orientation\":\"v\",\"showlegend\":true,\"x\":[115.5,112.0,75.25],\"xaxis\":\"x\",\"y\":[3597,610,269],\"yaxis\":\"y\",\"type\":\"scatter\"},{\"hovertemplate\":\"color=Residencial<br>x=%{x}<br>y=%{y}<extra></extra>\",\"legendgroup\":\"Residencial\",\"marker\":{\"color\":\"#FF6692\",\"symbol\":\"circle\"},\"mode\":\"markers\",\"name\":\"Residencial\",\"orientation\":\"v\",\"showlegend\":true,\"x\":[0.0,0.96,3.71,94.0,70.25,0.0,13.99,78.55,75.44,79.4],\"xaxis\":\"x\",\"y\":[0,2823,98,61,218,0,3677,919,1409,2210],\"yaxis\":\"y\",\"type\":\"scatter\"},{\"hovertemplate\":\"color=Outros<br>x=%{x}<br>y=%{y}<extra></extra>\",\"legendgroup\":\"Outros\",\"marker\":{\"color\":\"#B6E880\",\"symbol\":\"circle\"},\"mode\":\"markers\",\"name\":\"Outros\",\"orientation\":\"v\",\"showlegend\":true,\"x\":[42.42,910.0,1520.0,79.6,8.06,7.73,103.7,0.0,103.3,10.82,106.03,0.0,119.49,85.4,93.98,49.88,39.97,126.47,82.99,98.7,134.1,9.18,107.29,46.93,9.31,79.0,85.6,8.86,106.66,66.5,143.0,99.99,61.73,135.0,690.0,91.19,88.99,86.0,75.45,100.64,121.72,87.0],\"xaxis\":\"x\",\"y\":[408,5495,300,1366,109581,107752,36579,0,601,541,184,0,751,244,21080,17020,692,22874,305,10284,1062,153140,20946,5852,16128,1885,7409,68383,68983,2338,285,23,31884,499,126,51020,13,156,39,17428,91,8717],\"yaxis\":\"y\",\"type\":\"scatter\"},{\"hovertemplate\":\"color=Hospital<br>x=%{x}<br>y=%{y}<extra></extra>\",\"legendgroup\":\"Hospital\",\"marker\":{\"color\":\"#FF97FF\",\"symbol\":\"circle\"},\"mode\":\"markers\",\"name\":\"Hospital\",\"orientation\":\"v\",\"showlegend\":true,\"x\":[240.99,160.0,10.25],\"xaxis\":\"x\",\"y\":[49,977,267],\"yaxis\":\"y\",\"type\":\"scatter\"}],                        {\"template\":{\"data\":{\"histogram2dcontour\":[{\"type\":\"histogram2dcontour\",\"colorbar\":{\"outlinewidth\":0,\"ticks\":\"\"},\"colorscale\":[[0.0,\"#0d0887\"],[0.1111111111111111,\"#46039f\"],[0.2222222222222222,\"#7201a8\"],[0.3333333333333333,\"#9c179e\"],[0.4444444444444444,\"#bd3786\"],[0.5555555555555556,\"#d8576b\"],[0.6666666666666666,\"#ed7953\"],[0.7777777777777778,\"#fb9f3a\"],[0.8888888888888888,\"#fdca26\"],[1.0,\"#f0f921\"]]}],\"choropleth\":[{\"type\":\"choropleth\",\"colorbar\":{\"outlinewidth\":0,\"ticks\":\"\"}}],\"histogram2d\":[{\"type\":\"histogram2d\",\"colorbar\":{\"outlinewidth\":0,\"ticks\":\"\"},\"colorscale\":[[0.0,\"#0d0887\"],[0.1111111111111111,\"#46039f\"],[0.2222222222222222,\"#7201a8\"],[0.3333333333333333,\"#9c179e\"],[0.4444444444444444,\"#bd3786\"],[0.5555555555555556,\"#d8576b\"],[0.6666666666666666,\"#ed7953\"],[0.7777777777777778,\"#fb9f3a\"],[0.8888888888888888,\"#fdca26\"],[1.0,\"#f0f921\"]]}],\"heatmap\":[{\"type\":\"heatmap\",\"colorbar\":{\"outlinewidth\":0,\"ticks\":\"\"},\"colorscale\":[[0.0,\"#0d0887\"],[0.1111111111111111,\"#46039f\"],[0.2222222222222222,\"#7201a8\"],[0.3333333333333333,\"#9c179e\"],[0.4444444444444444,\"#bd3786\"],[0.5555555555555556,\"#d8576b\"],[0.6666666666666666,\"#ed7953\"],[0.7777777777777778,\"#fb9f3a\"],[0.8888888888888888,\"#fdca26\"],[1.0,\"#f0f921\"]]}],\"heatmapgl\":[{\"type\":\"heatmapgl\",\"colorbar\":{\"outlinewidth\":0,\"ticks\":\"\"},\"colorscale\":[[0.0,\"#0d0887\"],[0.1111111111111111,\"#46039f\"],[0.2222222222222222,\"#7201a8\"],[0.3333333333333333,\"#9c179e\"],[0.4444444444444444,\"#bd3786\"],[0.5555555555555556,\"#d8576b\"],[0.6666666666666666,\"#ed7953\"],[0.7777777777777778,\"#fb9f3a\"],[0.8888888888888888,\"#fdca26\"],[1.0,\"#f0f921\"]]}],\"contourcarpet\":[{\"type\":\"contourcarpet\",\"colorbar\":{\"outlinewidth\":0,\"ticks\":\"\"}}],\"contour\":[{\"type\":\"contour\",\"colorbar\":{\"outlinewidth\":0,\"ticks\":\"\"},\"colorscale\":[[0.0,\"#0d0887\"],[0.1111111111111111,\"#46039f\"],[0.2222222222222222,\"#7201a8\"],[0.3333333333333333,\"#9c179e\"],[0.4444444444444444,\"#bd3786\"],[0.5555555555555556,\"#d8576b\"],[0.6666666666666666,\"#ed7953\"],[0.7777777777777778,\"#fb9f3a\"],[0.8888888888888888,\"#fdca26\"],[1.0,\"#f0f921\"]]}],\"surface\":[{\"type\":\"surface\",\"colorbar\":{\"outlinewidth\":0,\"ticks\":\"\"},\"colorscale\":[[0.0,\"#0d0887\"],[0.1111111111111111,\"#46039f\"],[0.2222222222222222,\"#7201a8\"],[0.3333333333333333,\"#9c179e\"],[0.4444444444444444,\"#bd3786\"],[0.5555555555555556,\"#d8576b\"],[0.6666666666666666,\"#ed7953\"],[0.7777777777777778,\"#fb9f3a\"],[0.8888888888888888,\"#fdca26\"],[1.0,\"#f0f921\"]]}],\"mesh3d\":[{\"type\":\"mesh3d\",\"colorbar\":{\"outlinewidth\":0,\"ticks\":\"\"}}],\"scatter\":[{\"marker\":{\"line\":{\"color\":\"#283442\"}},\"type\":\"scatter\"}],\"parcoords\":[{\"type\":\"parcoords\",\"line\":{\"colorbar\":{\"outlinewidth\":0,\"ticks\":\"\"}}}],\"scatterpolargl\":[{\"type\":\"scatterpolargl\",\"marker\":{\"colorbar\":{\"outlinewidth\":0,\"ticks\":\"\"}}}],\"bar\":[{\"error_x\":{\"color\":\"#f2f5fa\"},\"error_y\":{\"color\":\"#f2f5fa\"},\"marker\":{\"line\":{\"color\":\"rgb(17,17,17)\",\"width\":0.5},\"pattern\":{\"fillmode\":\"overlay\",\"size\":10,\"solidity\":0.2}},\"type\":\"bar\"}],\"scattergeo\":[{\"type\":\"scattergeo\",\"marker\":{\"colorbar\":{\"outlinewidth\":0,\"ticks\":\"\"}}}],\"scatterpolar\":[{\"type\":\"scatterpolar\",\"marker\":{\"colorbar\":{\"outlinewidth\":0,\"ticks\":\"\"}}}],\"histogram\":[{\"marker\":{\"pattern\":{\"fillmode\":\"overlay\",\"size\":10,\"solidity\":0.2}},\"type\":\"histogram\"}],\"scattergl\":[{\"marker\":{\"line\":{\"color\":\"#283442\"}},\"type\":\"scattergl\"}],\"scatter3d\":[{\"type\":\"scatter3d\",\"line\":{\"colorbar\":{\"outlinewidth\":0,\"ticks\":\"\"}},\"marker\":{\"colorbar\":{\"outlinewidth\":0,\"ticks\":\"\"}}}],\"scattermapbox\":[{\"type\":\"scattermapbox\",\"marker\":{\"colorbar\":{\"outlinewidth\":0,\"ticks\":\"\"}}}],\"scatterternary\":[{\"type\":\"scatterternary\",\"marker\":{\"colorbar\":{\"outlinewidth\":0,\"ticks\":\"\"}}}],\"scattercarpet\":[{\"type\":\"scattercarpet\",\"marker\":{\"colorbar\":{\"outlinewidth\":0,\"ticks\":\"\"}}}],\"carpet\":[{\"aaxis\":{\"endlinecolor\":\"#A2B1C6\",\"gridcolor\":\"#506784\",\"linecolor\":\"#506784\",\"minorgridcolor\":\"#506784\",\"startlinecolor\":\"#A2B1C6\"},\"baxis\":{\"endlinecolor\":\"#A2B1C6\",\"gridcolor\":\"#506784\",\"linecolor\":\"#506784\",\"minorgridcolor\":\"#506784\",\"startlinecolor\":\"#A2B1C6\"},\"type\":\"carpet\"}],\"table\":[{\"cells\":{\"fill\":{\"color\":\"#506784\"},\"line\":{\"color\":\"rgb(17,17,17)\"}},\"header\":{\"fill\":{\"color\":\"#2a3f5f\"},\"line\":{\"color\":\"rgb(17,17,17)\"}},\"type\":\"table\"}],\"barpolar\":[{\"marker\":{\"line\":{\"color\":\"rgb(17,17,17)\",\"width\":0.5},\"pattern\":{\"fillmode\":\"overlay\",\"size\":10,\"solidity\":0.2}},\"type\":\"barpolar\"}],\"pie\":[{\"automargin\":true,\"type\":\"pie\"}]},\"layout\":{\"autotypenumbers\":\"strict\",\"colorway\":[\"#636efa\",\"#EF553B\",\"#00cc96\",\"#ab63fa\",\"#FFA15A\",\"#19d3f3\",\"#FF6692\",\"#B6E880\",\"#FF97FF\",\"#FECB52\"],\"font\":{\"color\":\"#f2f5fa\"},\"hovermode\":\"closest\",\"hoverlabel\":{\"align\":\"left\"},\"paper_bgcolor\":\"rgb(17,17,17)\",\"plot_bgcolor\":\"rgb(17,17,17)\",\"polar\":{\"bgcolor\":\"rgb(17,17,17)\",\"angularaxis\":{\"gridcolor\":\"#506784\",\"linecolor\":\"#506784\",\"ticks\":\"\"},\"radialaxis\":{\"gridcolor\":\"#506784\",\"linecolor\":\"#506784\",\"ticks\":\"\"}},\"ternary\":{\"bgcolor\":\"rgb(17,17,17)\",\"aaxis\":{\"gridcolor\":\"#506784\",\"linecolor\":\"#506784\",\"ticks\":\"\"},\"baxis\":{\"gridcolor\":\"#506784\",\"linecolor\":\"#506784\",\"ticks\":\"\"},\"caxis\":{\"gridcolor\":\"#506784\",\"linecolor\":\"#506784\",\"ticks\":\"\"}},\"coloraxis\":{\"colorbar\":{\"outlinewidth\":0,\"ticks\":\"\"}},\"colorscale\":{\"sequential\":[[0.0,\"#0d0887\"],[0.1111111111111111,\"#46039f\"],[0.2222222222222222,\"#7201a8\"],[0.3333333333333333,\"#9c179e\"],[0.4444444444444444,\"#bd3786\"],[0.5555555555555556,\"#d8576b\"],[0.6666666666666666,\"#ed7953\"],[0.7777777777777778,\"#fb9f3a\"],[0.8888888888888888,\"#fdca26\"],[1.0,\"#f0f921\"]],\"sequentialminus\":[[0.0,\"#0d0887\"],[0.1111111111111111,\"#46039f\"],[0.2222222222222222,\"#7201a8\"],[0.3333333333333333,\"#9c179e\"],[0.4444444444444444,\"#bd3786\"],[0.5555555555555556,\"#d8576b\"],[0.6666666666666666,\"#ed7953\"],[0.7777777777777778,\"#fb9f3a\"],[0.8888888888888888,\"#fdca26\"],[1.0,\"#f0f921\"]],\"diverging\":[[0,\"#8e0152\"],[0.1,\"#c51b7d\"],[0.2,\"#de77ae\"],[0.3,\"#f1b6da\"],[0.4,\"#fde0ef\"],[0.5,\"#f7f7f7\"],[0.6,\"#e6f5d0\"],[0.7,\"#b8e186\"],[0.8,\"#7fbc41\"],[0.9,\"#4d9221\"],[1,\"#276419\"]]},\"xaxis\":{\"gridcolor\":\"#283442\",\"linecolor\":\"#506784\",\"ticks\":\"\",\"title\":{\"standoff\":15},\"zerolinecolor\":\"#283442\",\"automargin\":true,\"zerolinewidth\":2},\"yaxis\":{\"gridcolor\":\"#283442\",\"linecolor\":\"#506784\",\"ticks\":\"\",\"title\":{\"standoff\":15},\"zerolinecolor\":\"#283442\",\"automargin\":true,\"zerolinewidth\":2},\"scene\":{\"xaxis\":{\"backgroundcolor\":\"rgb(17,17,17)\",\"gridcolor\":\"#506784\",\"linecolor\":\"#506784\",\"showbackground\":true,\"ticks\":\"\",\"zerolinecolor\":\"#C8D4E3\",\"gridwidth\":2},\"yaxis\":{\"backgroundcolor\":\"rgb(17,17,17)\",\"gridcolor\":\"#506784\",\"linecolor\":\"#506784\",\"showbackground\":true,\"ticks\":\"\",\"zerolinecolor\":\"#C8D4E3\",\"gridwidth\":2},\"zaxis\":{\"backgroundcolor\":\"rgb(17,17,17)\",\"gridcolor\":\"#506784\",\"linecolor\":\"#506784\",\"showbackground\":true,\"ticks\":\"\",\"zerolinecolor\":\"#C8D4E3\",\"gridwidth\":2}},\"shapedefaults\":{\"line\":{\"color\":\"#f2f5fa\"}},\"annotationdefaults\":{\"arrowcolor\":\"#f2f5fa\",\"arrowhead\":0,\"arrowwidth\":1},\"geo\":{\"bgcolor\":\"rgb(17,17,17)\",\"landcolor\":\"rgb(17,17,17)\",\"subunitcolor\":\"#506784\",\"showland\":true,\"showlakes\":true,\"lakecolor\":\"rgb(17,17,17)\"},\"title\":{\"x\":0.05},\"updatemenudefaults\":{\"bgcolor\":\"#506784\",\"borderwidth\":0},\"sliderdefaults\":{\"bgcolor\":\"#C8D4E3\",\"borderwidth\":1,\"bordercolor\":\"rgb(17,17,17)\",\"tickwidth\":0},\"mapbox\":{\"style\":\"dark\"}}},\"xaxis\":{\"anchor\":\"y\",\"domain\":[0.0,1.0],\"title\":{\"text\":\"x\"}},\"yaxis\":{\"anchor\":\"x\",\"domain\":[0.0,1.0],\"title\":{\"text\":\"y\"}},\"legend\":{\"title\":{\"text\":\"color\"},\"tracegroupgap\":0},\"margin\":{\"t\":60}},                        {\"responsive\": true}                    ).then(function(){\n                            \nvar gd = document.getElementById('d74952ad-bf7c-4a57-ada1-e16aa7ce0e21');\nvar x = new MutationObserver(function (mutations, observer) {{\n        var display = window.getComputedStyle(gd).display;\n        if (!display || display === 'none') {{\n            console.log([gd, 'removed!']);\n            Plotly.purge(gd);\n            observer.disconnect();\n        }}\n}});\n\n// Listen for the removal of the full notebook cells\nvar notebookContainer = gd.closest('#notebook-container');\nif (notebookContainer) {{\n    x.observe(notebookContainer, {childList: true});\n}}\n\n// Listen for the clearing of the current output cell\nvar outputEl = gd.closest('.output');\nif (outputEl) {{\n    x.observe(outputEl, {childList: true});\n}}\n\n                        })                };                });            </script>        </div>"
     },
     "metadata": {},
     "output_type": "display_data"
    }
   ],
   "source": [
    "grafico_c_rt = px.scatter(y=lista_lq, x=lista_vc, color=lista_rt)\n",
    "grafico_c_rt.show()"
   ],
   "metadata": {
    "collapsed": false,
    "pycharm": {
     "name": "#%%\n"
    }
   }
  },
  {
   "cell_type": "markdown",
   "source": [
    "Transformando em matriz"
   ],
   "metadata": {
    "collapsed": false,
    "pycharm": {
     "name": "#%% md\n"
    }
   }
  },
  {
   "cell_type": "code",
   "execution_count": 27,
   "outputs": [
    {
     "name": "stdout",
     "output_type": "stream",
     "text": [
      "[[2454, 2.38], [44041, 14.7], [2702, 6.29], [29, 842.0], [67, 9.4], [3, 93.0], [200, 165.0], [11, 84.96], [5, 351.0], [3597, 115.5], [1354, 4.49], [33, 33.85], [5, 112.0], [41, 784.0], [34, 62.01], [0, 0.0], [2823, 0.96], [98, 3.71], [22, 35.06], [408, 42.42], [5495, 910.0], [24, 1000.0], [2130, 1.04], [1539, 81.89], [61, 94.0], [49, 240.99], [7, 86.48], [206, 12.78], [300, 1520.0], [47, 7.1], [218, 70.25], [13485, 4.09], [1366, 79.6], [0, 0.0], [5157, 28.45], [0, 0.0], [148, 62.5], [109581, 8.06], [52, 98.84], [21378, 89.8], [9, 195.0], [23, 87.92], [0, 0.0], [2128, 97.0], [69685, 93.84], [35771, 97.12], [32195, 153.18], [3677, 13.99], [6629, 92.51], [567, 98.88], [15393, 99.13], [32541, 124.49], [61169, 9.4], [8879, 85.0], [107752, 7.73], [92795, 87.75], [709, 71.97], [480, 80.94], [365, 65.82], [3651, 101.87], [8659, 69.2], [919, 78.55], [36579, 103.7], [79, 109.5], [0, 0.0], [4545, 43.01], [18687, 80.0], [211, 87.58], [5147, 85.1], [1409, 75.44], [0, 0.0], [22, 72.51], [2811, 54.73], [116260, 10.25], [6335, 14.21], [610, 112.0], [13381, 108.49], [977, 160.0], [31461, 95.8], [55, 2180.0], [246, 99.46], [853, 473.51], [601, 103.3], [541, 10.82], [11596, 94.8], [212, 64.8], [3297, 88.2], [102, 45.97], [91574, 102.66], [45855, 86.19], [7541, 106.84], [3335, 91.98], [45273, 90.0], [134944, 8.16], [184, 106.03], [4611, 59.6], [1, 87.88], [24112, 110.77], [26005, 75.4], [14, 88.04], [647, 40.68], [1988, 90.25], [62398, 8.18], [0, 0.0], [33161, 50.7], [6721, 45.69], [543, 158.02], [2197, 71.7], [20455, 105.5], [3260, 80.17], [2210, 79.4], [4772, 86.3], [751, 119.49], [998, 88.08], [4139, 9.39], [2658, 73.9], [3650, 77.76], [1813, 94.15], [5382, 86.09], [3930, 105.46], [24404, 94.0], [29559, 105.15], [7197, 95.06], [3944, 79.31], [77659, 10.9], [386, 59.99], [351, 258.97], [32085, 169.49], [27816, 104.0], [26158, 140.77], [849453, 10.24], [244, 85.4], [21080, 93.98], [0, 0.0], [17020, 49.88], [41144, 108.17], [11638, 82.74], [692, 39.97], [3672, 76.98], [22874, 126.47], [30734, 103.4], [305, 82.99], [6633, 83.64], [28477, 95.34], [10, 98.0], [11638, 106.0], [10284, 98.7], [2026, 78.78], [142, 800.0], [13871, 108.07], [11477, 95.55], [7915, 115.77], [1420, 73.66], [11043, 91.48], [2754, 101.74], [1062, 134.1], [38, 97.97], [111, 57.1], [267, 10.25], [843, 94.73], [8030, 206.79], [285, 76.0], [161, 1992.5], [7316, 58.7], [14335, 77.91], [329019, 9.95], [153140, 9.18], [12470, 96.86], [193, 74.5], [49619, 7.39], [17154, 107.65], [9617, 96.95], [278, 105.49], [50021, 99.99], [2998, 88.95], [17230, 95.0], [79, 216.38], [69, 237.83], [329, 27.89], [47, 51.41], [45, 297.0], [20946, 107.29], [1, 72.38], [2410, 84.6], [1, 23999.0], [2423, 79.69], [6767, 82.01], [2, 94.5], [5852, 46.93], [95, 73.12], [25968, 115.12], [194, 67.52], [20374, 66.1], [11, 94.0], [253, 133.71], [890, 6.89], [2630, 98.0], [16128, 9.31], [96990, 7.57], [88, 84.01], [1885, 79.0], [40929, 69.2], [3825, 91.69], [7409, 85.6], [68383, 8.86], [68983, 106.66], [2338, 66.5], [30704, 97.4], [4874, 82.19], [44335, 70.58], [18060, 92.45], [1465, 61.27], [13115, 86.11], [285, 143.0], [55673, 95.88], [2977, 49.5], [1911, 101.97], [744, 78.79], [27, 97.11], [23, 99.99], [6237, 97.44], [31884, 61.73], [947, 97.93], [14629, 62.5], [68678, 92.99], [2912, 86.46], [499, 135.0], [4994, 137.95], [126, 690.0], [324, 162.51], [5, 91.49], [5143, 72.59], [2384, 79.69], [25598, 92.76], [1924, 66.4], [3991, 89.75], [7423, 103.89], [20076, 75.58], [1291, 105.11], [59729, 101.43], [27409, 9.69], [269, 75.25], [338989, 10.2], [51020, 91.19], [35290, 100.75], [100860, 9.6], [38792, 97.48], [51755, 89.93], [618, 95.31], [1338, 73.0], [6492, 71.54], [1805, 90.45], [501, 76.9], [13, 88.99], [4815, 99.99], [8491, 67.57], [1547, 80.5], [412, 81.0], [26, 116.3], [1, 137.62], [14246, 100.69], [18859, 99.34], [1673, 89.96], [156, 86.0], [39, 75.45], [7058, 86.78], [19172, 100.94], [177, 95.99], [62162, 102.49], [8, 107.49], [17428, 100.64], [1580, 95.3], [42, 95.13], [3, 95.0], [1, 76000.0], [33284, 103.69], [91, 121.72], [11243, 117.23], [15, 1579.99], [87, 35.43], [8717, 87.0], [2911, 20.38], [3, 92.0]]\n"
     ]
    }
   ],
   "source": [
    "lista_cotacao = []\n",
    "for x,y in zip(lista_lq, lista_vc):\n",
    "    item = [x,y]\n",
    "    lista_cotacao.append(item)\n",
    "\n",
    "print(lista_cotacao)"
   ],
   "metadata": {
    "collapsed": false,
    "pycharm": {
     "name": "#%%\n"
    }
   }
  },
  {
   "cell_type": "code",
   "execution_count": 28,
   "outputs": [],
   "source": [
    "base_cotacoes = np.array(lista_cotacao)"
   ],
   "metadata": {
    "collapsed": false,
    "pycharm": {
     "name": "#%%\n"
    }
   }
  },
  {
   "cell_type": "markdown",
   "source": [
    "treino"
   ],
   "metadata": {
    "collapsed": false,
    "pycharm": {
     "name": "#%% md\n"
    }
   }
  },
  {
   "cell_type": "code",
   "execution_count": 29,
   "outputs": [
    {
     "data": {
      "text/plain": "array([[-2.60779409e-01, -1.00325551e-01],\n       [ 4.18408546e-01, -9.77160979e-02],\n       [-2.56729138e-01, -9.94973885e-02],\n       [-3.00383871e-01,  7.75112180e-02],\n       [-2.99763265e-01, -9.88386711e-02],\n       [-3.00808496e-01, -8.11316680e-02],\n       [-2.97591144e-01, -6.58816176e-02],\n       [-3.00677843e-01, -8.28345903e-02],\n       [-3.00775833e-01, -2.64856539e-02],\n       [-2.42112233e-01, -7.63660273e-02],\n       [-2.78744320e-01, -9.98786398e-02],\n       [-3.00318544e-01, -9.36600081e-02],\n       [-3.00775833e-01, -7.71073492e-02],\n       [-3.00187890e-01,  6.52264552e-02],\n       [-3.00302213e-01, -8.76955439e-02],\n       [-3.00857492e-01, -1.00829650e-01],\n       [-2.54752998e-01, -1.00626316e-01],\n       [-2.99256981e-01, -1.00043849e-01],\n       [-3.00498193e-01, -9.34037225e-02],\n       [-2.94194143e-01, -9.18448285e-02],\n       [-2.11114596e-01,  9.19140435e-02],\n       [-3.00465530e-01,  1.10976607e-01],\n       [-2.66070891e-01, -1.00609371e-01],\n       [-2.75722948e-01, -8.34848355e-02],\n       [-2.99861256e-01, -8.09198618e-02],\n       [-3.00057237e-01, -4.97864601e-02],\n       [-3.00743170e-01, -8.25126448e-02],\n       [-2.97493154e-01, -9.81227659e-02],\n       [-2.95957971e-01,  2.21115860e-01],\n       [-3.00089900e-01, -9.93258255e-02],\n       [-2.97297173e-01, -8.59502604e-02],\n       [-8.06240156e-02, -9.99633623e-02],\n       [-2.78548339e-01, -8.39698719e-02],\n       [-3.00857492e-01, -1.00829650e-01],\n       [-2.16634723e-01, -9.48037619e-02],\n       [-3.00857492e-01, -1.00829650e-01],\n       [-2.98440395e-01, -8.75917589e-02],\n       [ 1.48879060e+00, -9.91224915e-02],\n       [-3.00008241e-01, -7.98947195e-02],\n       [ 4.82823861e-02, -8.18094481e-02],\n       [-3.00710506e-01, -5.95274299e-02],\n       [-3.00481862e-01, -8.22076438e-02],\n       [-3.00857492e-01, -1.00829650e-01],\n       [-2.66103555e-01, -8.02844430e-02],\n       [ 8.37219615e-01, -8.09537508e-02],\n       [ 2.83345080e-01, -8.02590263e-02],\n       [ 2.24942787e-01, -6.83851675e-02],\n       [-2.40805694e-01, -9.78664804e-02],\n       [-1.92594406e-01, -8.12354531e-02],\n       [-2.91597397e-01, -7.98862473e-02],\n       [-4.94630610e-02, -7.98332957e-02],\n       [ 2.30593568e-01, -7.44618890e-02],\n       [ 6.98138541e-01, -9.88386711e-02],\n       [-1.55847997e-01, -8.28261181e-02],\n       [ 1.45891985e+00, -9.91923875e-02],\n       [ 1.21464606e+00, -8.22436509e-02],\n       [-2.89278290e-01, -8.55859536e-02],\n       [-2.93018258e-01, -8.36860515e-02],\n       [-2.94896408e-01, -8.68885621e-02],\n       [-2.41230319e-01, -7.92529465e-02],\n       [-1.59440979e-01, -8.61726569e-02],\n       [-2.85848625e-01, -8.41922684e-02],\n       [ 2.96541123e-01, -7.88653411e-02],\n       [-2.99567284e-01, -7.76368648e-02],\n       [-3.00857492e-01, -1.00829650e-01],\n       [-2.26629746e-01, -9.17198628e-02],\n       [ 4.33368129e-03, -8.38851494e-02],\n       [-2.97411495e-01, -8.22796579e-02],\n       [-2.16798040e-01, -8.28049375e-02],\n       [-2.77846074e-01, -8.48509859e-02],\n       [-3.00857492e-01, -1.00829650e-01],\n       [-3.00498193e-01, -8.54715782e-02],\n       [-2.54948978e-01, -8.92374935e-02],\n       [ 1.59787027e+00, -9.86586358e-02],\n       [-1.97395937e-01, -9.78198830e-02],\n       [-2.90895132e-01, -7.71073492e-02],\n       [-8.23225163e-02, -7.78507891e-02],\n       [-2.84901384e-01, -6.69406489e-02],\n       [ 2.12955292e-01, -8.05386105e-02],\n       [-2.99959246e-01,  3.60907989e-01],\n       [-2.96839884e-01, -7.97633996e-02],\n       [-2.86926520e-01, -5.37269397e-04],\n       [-2.91042118e-01, -7.89500636e-02],\n       [-2.92022022e-01, -9.85379062e-02],\n       [-1.11474667e-01, -8.07504168e-02],\n       [-2.97395163e-01, -8.71046045e-02],\n       [-2.47011754e-01, -8.21483381e-02],\n       [-2.99191654e-01, -9.10929163e-02],\n       [ 1.19470501e+00, -7.90856196e-02],\n       [ 4.48034317e-01, -8.25740686e-02],\n       [-1.77699861e-01, -7.82002695e-02],\n       [-2.46391148e-01, -8.13477104e-02],\n       [ 4.38529246e-01, -8.17670868e-02],\n       [ 1.90301245e+00, -9.91013108e-02],\n       [-2.97852452e-01, -7.83718325e-02],\n       [-2.25551851e-01, -8.82059970e-02],\n       [-3.00841160e-01, -8.22161161e-02],\n       [ 9.29333556e-02, -7.73678709e-02],\n       [ 1.23849334e-01, -8.48594582e-02],\n       [-3.00628847e-01, -8.21822271e-02],\n       [-2.90290858e-01, -9.22133714e-02],\n       [-2.68389998e-01, -8.17141352e-02],\n       [ 7.18210246e-01, -9.90970747e-02],\n       [-3.00857492e-01, -1.00829650e-01],\n       [ 2.40719245e-01, -9.00910727e-02],\n       [-1.91091886e-01, -9.11522220e-02],\n       [-2.91989358e-01, -6.73600252e-02],\n       [-2.64976665e-01, -8.56431413e-02],\n       [ 3.32081927e-02, -7.84840898e-02],\n       [-2.47616028e-01, -8.38491423e-02],\n       [-2.64764352e-01, -8.40122331e-02],\n       [-2.22922442e-01, -8.25507700e-02],\n       [-2.88592357e-01, -7.55209203e-02],\n       [-2.84558418e-01, -8.21737548e-02],\n       [-2.33260431e-01, -9.88407891e-02],\n       [-2.57447734e-01, -8.51771675e-02],\n       [-2.41246651e-01, -8.43595954e-02],\n       [-2.71248052e-01, -8.08880908e-02],\n       [-2.12960082e-01, -8.25952493e-02],\n       [-2.36673765e-01, -7.84925621e-02],\n       [ 9.77022228e-02, -8.09198618e-02],\n       [ 1.81892328e-01, -7.85582220e-02],\n       [-1.83317979e-01, -8.06953472e-02],\n       [-2.36445120e-01, -8.40312957e-02],\n       [ 9.67448887e-01, -9.85209617e-02],\n       [-2.94553441e-01, -8.81233926e-02],\n       [-2.95125052e-01, -4.59781837e-02],\n       [ 2.23146296e-01, -6.49306075e-02],\n       [ 1.53426110e-01, -7.88017992e-02],\n       [ 1.26348090e-01, -7.10136832e-02],\n       [ 1.35721857e+01, -9.86607538e-02],\n       [-2.96872548e-01, -8.27413956e-02],\n       [ 4.34155284e-02, -8.09240979e-02],\n       [-3.00857492e-01, -1.00829650e-01],\n       [-2.28913246e-02, -9.02647538e-02],\n       [ 3.71095503e-01, -7.79185671e-02],\n       [-1.10788734e-01, -8.33048002e-02],\n       [-2.89555930e-01, -9.23637538e-02],\n       [-2.40887353e-01, -8.45248043e-02],\n       [ 7.27146649e-02, -7.40425126e-02],\n       [ 2.01082119e-01, -7.89288830e-02],\n       [-2.95876312e-01, -8.32518487e-02],\n       [-1.92529079e-01, -8.31141746e-02],\n       [ 1.64221388e-01, -8.06360414e-02],\n       [-3.00694174e-01, -8.00726368e-02],\n       [-1.10788734e-01, -7.83781867e-02],\n       [-1.32901906e-01, -7.99243724e-02],\n       [-2.67769392e-01, -8.41435530e-02],\n       [-2.98538385e-01,  6.86153553e-02],\n       [-7.43199650e-02, -7.79397478e-02],\n       [-1.13418144e-01, -8.05915621e-02],\n       [-1.71591792e-01, -7.63088396e-02],\n       [-2.77666425e-01, -8.52280010e-02],\n       [-1.20506118e-01, -8.14536135e-02],\n       [-2.55879887e-01, -7.92804814e-02],\n       [-2.83513187e-01, -7.24264309e-02],\n       [-3.00236886e-01, -8.00789909e-02],\n       [-2.99044669e-01, -8.87355126e-02],\n       [-2.96496918e-01, -9.86586358e-02],\n       [-2.87089837e-01, -8.07652432e-02],\n       [-1.69713642e-01, -5.70302341e-02],\n       [-2.96202947e-01, -8.47323744e-02],\n       [-2.98228082e-01,  3.21194316e-01],\n       [-1.81374502e-01, -8.83966226e-02],\n       [-6.67420390e-02, -8.43278244e-02],\n       [ 5.07259435e+00, -9.87221776e-02],\n       [ 2.20018474e+00, -9.88852685e-02],\n       [-9.72007289e-02, -8.03140959e-02],\n       [-2.97705466e-01, -8.50500838e-02],\n       [ 5.09506976e-01, -9.92644017e-02],\n       [-2.07028718e-02, -7.80287064e-02],\n       [-1.43795175e-01, -8.02950333e-02],\n       [-2.96317269e-01, -7.84862079e-02],\n       [ 5.16072335e-01, -7.96511423e-02],\n       [-2.51894944e-01, -8.19894834e-02],\n       [-1.94616598e-02, -8.07080555e-02],\n       [-2.99567284e-01, -5.49990121e-02],\n       [-2.99730602e-01, -5.04557679e-02],\n       [-2.95484350e-01, -9.49223734e-02],\n       [-3.00089900e-01, -8.99406902e-02],\n       [-3.00122564e-01, -3.79231917e-02],\n       [ 4.12270756e-02, -7.81049566e-02],\n       [-3.00841160e-01, -8.54991130e-02],\n       [-2.61498005e-01, -8.29108406e-02],\n       [-3.00841160e-01,  4.98230870e+00],\n       [-2.61285692e-01, -8.39508093e-02],\n       [-1.90340626e-01, -8.34594188e-02],\n       [-3.00824828e-01, -8.08139587e-02],\n       [-2.05284166e-01, -9.08895823e-02],\n       [-2.99305977e-01, -8.53423764e-02],\n       [ 1.23245060e-01, -7.64465136e-02],\n       [-2.97689135e-01, -8.65284915e-02],\n       [ 3.18853219e-02, -8.68292563e-02],\n       [-3.00677843e-01, -8.09198618e-02],\n       [-2.96725562e-01, -7.25090353e-02],\n       [-2.86322246e-01, -9.93703048e-02],\n       [-2.57905023e-01, -8.00726368e-02],\n       [-3.74592342e-02, -9.88577336e-02],\n       [ 1.28315770e+00, -9.92262765e-02],\n       [-2.99420299e-01, -8.30358063e-02],\n       [-2.70072167e-01, -8.40969556e-02],\n       [ 3.67584180e-01, -8.61726569e-02],\n       [-2.38388597e-01, -8.14091342e-02],\n       [-1.79855651e-01, -8.26990343e-02],\n       [ 8.15955693e-01, -9.89530465e-02],\n       [ 8.25754735e-01, -7.82383946e-02],\n       [-2.62673890e-01, -8.67445338e-02],\n       [ 2.00592167e-01, -8.01997205e-02],\n       [-2.21256605e-01, -8.34212937e-02],\n       [ 4.23210077e-01, -8.58803643e-02],\n       [-5.90631793e-03, -8.12481615e-02],\n       [-2.76931497e-01, -8.78522806e-02],\n       [-8.66667584e-02, -8.25910131e-02],\n       [-2.96202947e-01, -7.05413552e-02],\n       [ 6.08379313e-01, -8.05216660e-02],\n       [-2.52237910e-01, -9.03452402e-02],\n       [-2.69647542e-01, -7.92317659e-02],\n       [-2.88706679e-01, -8.41414349e-02],\n       [-3.00416535e-01, -8.02611443e-02],\n       [-3.00481862e-01, -7.96511423e-02],\n       [-1.98996447e-01, -8.01912483e-02],\n       [ 2.19863617e-01, -8.77548497e-02],\n       [-2.85391337e-01, -8.00874632e-02],\n       [-6.19405083e-02, -8.75917589e-02],\n       [ 8.20773555e-01, -8.11337861e-02],\n       [-2.53299473e-01, -8.25168810e-02],\n       [-2.92707955e-01, -7.22358053e-02],\n       [-2.19296796e-01, -7.16109768e-02],\n       [-2.98799693e-01,  4.53166671e-02],\n       [-2.95566009e-01, -6.64090152e-02],\n       [-3.00775833e-01, -8.14514955e-02],\n       [-2.16863367e-01, -8.54546337e-02],\n       [-2.61922630e-01, -8.39508093e-02],\n       [ 1.17202317e-01, -8.11825015e-02],\n       [-2.69435229e-01, -8.67657145e-02],\n       [-2.35677529e-01, -8.18200384e-02],\n       [-1.79627006e-01, -7.88250979e-02],\n       [ 2.70184643e-02, -8.48213330e-02],\n       [-2.79773219e-01, -7.85666943e-02],\n       [ 6.74620839e-01, -7.93461413e-02],\n       [ 1.46779093e-01, -9.87772473e-02],\n       [-2.96464254e-01, -8.48912291e-02],\n       [ 5.23542177e+00, -9.86692261e-02],\n       [ 5.32387740e-01, -8.15150374e-02],\n       [ 2.75489514e-01, -7.94901696e-02],\n       [ 1.34636152e+00, -9.87963098e-02],\n       [ 3.32683258e-01, -8.01827760e-02],\n       [ 5.44391567e-01, -8.17819132e-02],\n       [-2.90764478e-01, -8.06423956e-02],\n       [-2.79005627e-01, -8.53677932e-02],\n       [-1.94831854e-01, -8.56770303e-02],\n       [-2.71378706e-01, -8.16717740e-02],\n       [-2.92675291e-01, -8.45417488e-02],\n       [-3.00645179e-01, -8.19810111e-02],\n       [-2.22220177e-01, -7.96511423e-02],\n       [-1.62184711e-01, -8.65179011e-02],\n       [-2.75592294e-01, -8.37792462e-02],\n       [-2.94128816e-01, -8.36733431e-02],\n       [-3.00432867e-01, -7.61965823e-02],\n       [-3.00841160e-01, -7.16808729e-02],\n       [-6.81955636e-02, -7.95028779e-02],\n       [ 7.14274009e-03, -7.97888164e-02],\n       [-2.73534495e-01, -8.17755591e-02],\n       [-2.98309741e-01, -8.26143118e-02],\n       [-3.00220554e-01, -8.48488678e-02],\n       [-1.85588091e-01, -8.24491030e-02],\n       [ 1.22545738e-02, -7.94499264e-02],\n       [-2.97966774e-01, -8.04983673e-02],\n       [ 7.14355956e-01, -7.91216267e-02],\n       [-3.00726838e-01, -7.80625954e-02],\n       [-1.62279758e-02, -7.95134682e-02],\n       [-2.75053347e-01, -8.06445136e-02],\n       [-3.00171559e-01, -8.06805207e-02],\n       [-3.00808496e-01, -8.07080555e-02],\n       [-3.00841160e-01,  1.59964458e+01],\n       [ 2.42728049e-01, -7.88674592e-02],\n       [-2.99371304e-01, -7.50485924e-02],\n       [-1.17239770e-01, -7.59996024e-02],\n       [-3.00612516e-01,  2.33822117e-01],\n       [-2.99436631e-01, -9.33253542e-02],\n       [-1.58493739e-01, -8.24025056e-02],\n       [-2.53315805e-01, -9.65130384e-02],\n       [-3.00808496e-01, -8.13434743e-02]])"
     },
     "execution_count": 29,
     "metadata": {},
     "output_type": "execute_result"
    }
   ],
   "source": [
    "scaler_base = StandardScaler()\n",
    "base_cotacoes = scaler_base.fit_transform(base_cotacoes)\n",
    "base_cotacoes"
   ],
   "metadata": {
    "collapsed": false,
    "pycharm": {
     "name": "#%%\n"
    }
   }
  },
  {
   "cell_type": "markdown",
   "source": [
    "cluster"
   ],
   "metadata": {
    "collapsed": false,
    "pycharm": {
     "name": "#%% md\n"
    }
   }
  },
  {
   "cell_type": "markdown",
   "source": [
    "separando o numero de segmentos"
   ],
   "metadata": {
    "collapsed": false,
    "pycharm": {
     "name": "#%% md\n"
    }
   }
  },
  {
   "cell_type": "code",
   "execution_count": 30,
   "outputs": [
    {
     "data": {
      "text/plain": "9"
     },
     "execution_count": 30,
     "metadata": {},
     "output_type": "execute_result"
    }
   ],
   "source": [
    "n_cluster = df['Setor']\n",
    "n_cluster = set(n_cluster)\n",
    "n_cluster = len(n_cluster)\n",
    "n_cluster"
   ],
   "metadata": {
    "collapsed": false,
    "pycharm": {
     "name": "#%%\n"
    }
   }
  },
  {
   "cell_type": "code",
   "execution_count": 31,
   "outputs": [
    {
     "data": {
      "text/plain": "KMeans(n_clusters=9)",
      "text/html": "<style>#sk-container-id-2 {color: black;background-color: white;}#sk-container-id-2 pre{padding: 0;}#sk-container-id-2 div.sk-toggleable {background-color: white;}#sk-container-id-2 label.sk-toggleable__label {cursor: pointer;display: block;width: 100%;margin-bottom: 0;padding: 0.3em;box-sizing: border-box;text-align: center;}#sk-container-id-2 label.sk-toggleable__label-arrow:before {content: \"▸\";float: left;margin-right: 0.25em;color: #696969;}#sk-container-id-2 label.sk-toggleable__label-arrow:hover:before {color: black;}#sk-container-id-2 div.sk-estimator:hover label.sk-toggleable__label-arrow:before {color: black;}#sk-container-id-2 div.sk-toggleable__content {max-height: 0;max-width: 0;overflow: hidden;text-align: left;background-color: #f0f8ff;}#sk-container-id-2 div.sk-toggleable__content pre {margin: 0.2em;color: black;border-radius: 0.25em;background-color: #f0f8ff;}#sk-container-id-2 input.sk-toggleable__control:checked~div.sk-toggleable__content {max-height: 200px;max-width: 100%;overflow: auto;}#sk-container-id-2 input.sk-toggleable__control:checked~label.sk-toggleable__label-arrow:before {content: \"▾\";}#sk-container-id-2 div.sk-estimator input.sk-toggleable__control:checked~label.sk-toggleable__label {background-color: #d4ebff;}#sk-container-id-2 div.sk-label input.sk-toggleable__control:checked~label.sk-toggleable__label {background-color: #d4ebff;}#sk-container-id-2 input.sk-hidden--visually {border: 0;clip: rect(1px 1px 1px 1px);clip: rect(1px, 1px, 1px, 1px);height: 1px;margin: -1px;overflow: hidden;padding: 0;position: absolute;width: 1px;}#sk-container-id-2 div.sk-estimator {font-family: monospace;background-color: #f0f8ff;border: 1px dotted black;border-radius: 0.25em;box-sizing: border-box;margin-bottom: 0.5em;}#sk-container-id-2 div.sk-estimator:hover {background-color: #d4ebff;}#sk-container-id-2 div.sk-parallel-item::after {content: \"\";width: 100%;border-bottom: 1px solid gray;flex-grow: 1;}#sk-container-id-2 div.sk-label:hover label.sk-toggleable__label {background-color: #d4ebff;}#sk-container-id-2 div.sk-serial::before {content: \"\";position: absolute;border-left: 1px solid gray;box-sizing: border-box;top: 0;bottom: 0;left: 50%;z-index: 0;}#sk-container-id-2 div.sk-serial {display: flex;flex-direction: column;align-items: center;background-color: white;padding-right: 0.2em;padding-left: 0.2em;position: relative;}#sk-container-id-2 div.sk-item {position: relative;z-index: 1;}#sk-container-id-2 div.sk-parallel {display: flex;align-items: stretch;justify-content: center;background-color: white;position: relative;}#sk-container-id-2 div.sk-item::before, #sk-container-id-2 div.sk-parallel-item::before {content: \"\";position: absolute;border-left: 1px solid gray;box-sizing: border-box;top: 0;bottom: 0;left: 50%;z-index: -1;}#sk-container-id-2 div.sk-parallel-item {display: flex;flex-direction: column;z-index: 1;position: relative;background-color: white;}#sk-container-id-2 div.sk-parallel-item:first-child::after {align-self: flex-end;width: 50%;}#sk-container-id-2 div.sk-parallel-item:last-child::after {align-self: flex-start;width: 50%;}#sk-container-id-2 div.sk-parallel-item:only-child::after {width: 0;}#sk-container-id-2 div.sk-dashed-wrapped {border: 1px dashed gray;margin: 0 0.4em 0.5em 0.4em;box-sizing: border-box;padding-bottom: 0.4em;background-color: white;}#sk-container-id-2 div.sk-label label {font-family: monospace;font-weight: bold;display: inline-block;line-height: 1.2em;}#sk-container-id-2 div.sk-label-container {text-align: center;}#sk-container-id-2 div.sk-container {/* jupyter's `normalize.less` sets `[hidden] { display: none; }` but bootstrap.min.css set `[hidden] { display: none !important; }` so we also need the `!important` here to be able to override the default hidden behavior on the sphinx rendered scikit-learn.org. See: https://github.com/scikit-learn/scikit-learn/issues/21755 */display: inline-block !important;position: relative;}#sk-container-id-2 div.sk-text-repr-fallback {display: none;}</style><div id=\"sk-container-id-2\" class=\"sk-top-container\"><div class=\"sk-text-repr-fallback\"><pre>KMeans(n_clusters=9)</pre><b>In a Jupyter environment, please rerun this cell to show the HTML representation or trust the notebook. <br />On GitHub, the HTML representation is unable to render, please try loading this page with nbviewer.org.</b></div><div class=\"sk-container\" hidden><div class=\"sk-item\"><div class=\"sk-estimator sk-toggleable\"><input class=\"sk-toggleable__control sk-hidden--visually\" id=\"sk-estimator-id-2\" type=\"checkbox\" checked><label for=\"sk-estimator-id-2\" class=\"sk-toggleable__label sk-toggleable__label-arrow\">KMeans</label><div class=\"sk-toggleable__content\"><pre>KMeans(n_clusters=9)</pre></div></div></div></div></div>"
     },
     "execution_count": 31,
     "metadata": {},
     "output_type": "execute_result"
    }
   ],
   "source": [
    "k_means_cotacao = KMeans(n_clusters=n_cluster)\n",
    "k_means_cotacao.fit(base_cotacoes)"
   ],
   "metadata": {
    "collapsed": false,
    "pycharm": {
     "name": "#%%\n"
    }
   }
  },
  {
   "cell_type": "markdown",
   "source": [
    "localizando os pontos de referencia"
   ],
   "metadata": {
    "collapsed": false,
    "pycharm": {
     "name": "#%% md\n"
    }
   }
  },
  {
   "cell_type": "code",
   "execution_count": 32,
   "outputs": [
    {
     "data": {
      "text/plain": "array([[-0.27097913, -0.07026183],\n       [-0.30084116, 15.99644584],\n       [13.57218566, -0.09866075],\n       [ 5.15400806, -0.0986957 ],\n       [ 1.5208498 , -0.09492355],\n       [-0.30084116,  4.9823087 ],\n       [ 0.25142621, -0.08093555],\n       [-0.0353977 , -0.08187602],\n       [ 0.69880114, -0.08692412]])"
     },
     "execution_count": 32,
     "metadata": {},
     "output_type": "execute_result"
    }
   ],
   "source": [
    "centroides = k_means_cotacao.cluster_centers_\n",
    "centroides"
   ],
   "metadata": {
    "collapsed": false,
    "pycharm": {
     "name": "#%%\n"
    }
   }
  },
  {
   "cell_type": "markdown",
   "source": [
    "vizualizando centros em 2D matematicamente pelo reverse scaler"
   ],
   "metadata": {
    "collapsed": false,
    "pycharm": {
     "name": "#%% md\n"
    }
   }
  },
  {
   "cell_type": "code",
   "execution_count": 33,
   "outputs": [],
   "source": [
    "# scaler_base.inverse_transform(k_means_cotacao.cluster_centers_)"
   ],
   "metadata": {
    "collapsed": false,
    "pycharm": {
     "name": "#%%\n"
    }
   }
  },
  {
   "cell_type": "markdown",
   "source": [
    "add rotulos"
   ],
   "metadata": {
    "collapsed": false,
    "pycharm": {
     "name": "#%% md\n"
    }
   }
  },
  {
   "cell_type": "markdown",
   "source": [],
   "metadata": {
    "collapsed": false,
    "pycharm": {
     "name": "#%% md\n"
    }
   }
  },
  {
   "cell_type": "code",
   "execution_count": 34,
   "outputs": [
    {
     "data": {
      "text/plain": "array([0, 6, 0, 0, 0, 0, 0, 0, 0, 0, 0, 0, 0, 0, 0, 0, 0, 0, 0, 0, 0, 0,\n       0, 0, 0, 0, 0, 0, 0, 0, 0, 7, 0, 0, 0, 0, 0, 4, 0, 7, 0, 0, 0, 0,\n       8, 6, 6, 0, 0, 0, 7, 6, 8, 0, 4, 4, 0, 0, 0, 0, 0, 0, 6, 0, 0, 0,\n       7, 0, 0, 0, 0, 0, 0, 4, 0, 0, 7, 0, 6, 0, 0, 0, 0, 0, 7, 0, 0, 0,\n       4, 6, 0, 0, 6, 4, 0, 0, 0, 7, 6, 0, 0, 0, 8, 0, 6, 0, 0, 0, 7, 0,\n       0, 0, 0, 0, 0, 0, 0, 0, 0, 0, 7, 6, 0, 0, 8, 0, 0, 6, 6, 6, 2, 0,\n       7, 0, 7, 6, 7, 0, 0, 7, 6, 0, 0, 6, 0, 7, 7, 0, 0, 7, 7, 0, 0, 7,\n       0, 0, 0, 0, 0, 0, 0, 0, 0, 0, 7, 3, 4, 7, 0, 8, 7, 7, 0, 8, 0, 7,\n       0, 0, 0, 0, 0, 7, 0, 0, 5, 0, 0, 0, 0, 0, 6, 0, 7, 0, 0, 0, 0, 7,\n       4, 0, 0, 6, 0, 0, 8, 8, 0, 6, 0, 6, 7, 0, 7, 0, 8, 0, 0, 0, 0, 0,\n       0, 6, 0, 7, 8, 0, 0, 0, 0, 0, 0, 0, 0, 6, 0, 0, 0, 7, 0, 8, 6, 0,\n       3, 8, 6, 4, 6, 8, 0, 0, 0, 0, 0, 0, 0, 0, 0, 0, 0, 0, 7, 7, 0, 0,\n       0, 0, 7, 0, 8, 0, 7, 0, 0, 0, 1, 6, 0, 7, 0, 0, 0, 0, 0])"
     },
     "execution_count": 34,
     "metadata": {},
     "output_type": "execute_result"
    }
   ],
   "source": [
    "rotulos = k_means_cotacao.labels_\n",
    "rotulos"
   ],
   "metadata": {
    "collapsed": false,
    "pycharm": {
     "name": "#%%\n"
    }
   }
  },
  {
   "cell_type": "markdown",
   "source": [
    "grafico do cluster"
   ],
   "metadata": {
    "collapsed": false,
    "pycharm": {
     "name": "#%% md\n"
    }
   }
  },
  {
   "cell_type": "code",
   "execution_count": 35,
   "outputs": [
    {
     "data": {
      "application/vnd.plotly.v1+json": {
       "data": [
        {
         "hovertemplate": "x=%{x}<br>y=%{y}<br>color=%{marker.color}<extra></extra>",
         "legendgroup": "",
         "marker": {
          "color": [
           0,
           6,
           0,
           0,
           0,
           0,
           0,
           0,
           0,
           0,
           0,
           0,
           0,
           0,
           0,
           0,
           0,
           0,
           0,
           0,
           0,
           0,
           0,
           0,
           0,
           0,
           0,
           0,
           0,
           0,
           0,
           7,
           0,
           0,
           0,
           0,
           0,
           4,
           0,
           7,
           0,
           0,
           0,
           0,
           8,
           6,
           6,
           0,
           0,
           0,
           7,
           6,
           8,
           0,
           4,
           4,
           0,
           0,
           0,
           0,
           0,
           0,
           6,
           0,
           0,
           0,
           7,
           0,
           0,
           0,
           0,
           0,
           0,
           4,
           0,
           0,
           7,
           0,
           6,
           0,
           0,
           0,
           0,
           0,
           7,
           0,
           0,
           0,
           4,
           6,
           0,
           0,
           6,
           4,
           0,
           0,
           0,
           7,
           6,
           0,
           0,
           0,
           8,
           0,
           6,
           0,
           0,
           0,
           7,
           0,
           0,
           0,
           0,
           0,
           0,
           0,
           0,
           0,
           0,
           0,
           7,
           6,
           0,
           0,
           8,
           0,
           0,
           6,
           6,
           6,
           2,
           0,
           7,
           0,
           7,
           6,
           7,
           0,
           0,
           7,
           6,
           0,
           0,
           6,
           0,
           7,
           7,
           0,
           0,
           7,
           7,
           0,
           0,
           7,
           0,
           0,
           0,
           0,
           0,
           0,
           0,
           0,
           0,
           0,
           7,
           3,
           4,
           7,
           0,
           8,
           7,
           7,
           0,
           8,
           0,
           7,
           0,
           0,
           0,
           0,
           0,
           7,
           0,
           0,
           5,
           0,
           0,
           0,
           0,
           0,
           6,
           0,
           7,
           0,
           0,
           0,
           0,
           7,
           4,
           0,
           0,
           6,
           0,
           0,
           8,
           8,
           0,
           6,
           0,
           6,
           7,
           0,
           7,
           0,
           8,
           0,
           0,
           0,
           0,
           0,
           0,
           6,
           0,
           7,
           8,
           0,
           0,
           0,
           0,
           0,
           0,
           0,
           0,
           6,
           0,
           0,
           0,
           7,
           0,
           8,
           6,
           0,
           3,
           8,
           6,
           4,
           6,
           8,
           0,
           0,
           0,
           0,
           0,
           0,
           0,
           0,
           0,
           0,
           0,
           0,
           7,
           7,
           0,
           0,
           0,
           0,
           7,
           0,
           8,
           0,
           7,
           0,
           0,
           0,
           1,
           6,
           0,
           7,
           0,
           0,
           0,
           0,
           0
          ],
          "coloraxis": "coloraxis",
          "symbol": "circle"
         },
         "mode": "markers",
         "name": "",
         "orientation": "v",
         "showlegend": false,
         "x": [
          -0.10032555099918383,
          -0.09771609791968774,
          -0.09949738853645415,
          0.07751121804355231,
          -0.09883867107888655,
          -0.08113166803944878,
          -0.06588161757486122,
          -0.08283459034132773,
          -0.026485653874676707,
          -0.07636602726926517,
          -0.09987863979806884,
          -0.09366000810862035,
          -0.07710734916684929,
          0.06522645516930123,
          -0.087695543926915,
          -0.10082964988954103,
          -0.10062631588334654,
          -0.10004384867810187,
          -0.09340372253831271,
          -0.09184482849082153,
          0.09191404348232944,
          0.1109766065630639,
          -0.10060937138283033,
          -0.08348483554863723,
          -0.08091986178299618,
          -0.049786460147027777,
          -0.08251264483151975,
          -0.09812276593207675,
          0.22111585991841845,
          -0.09932582546872754,
          -0.08595026037374554,
          -0.0999633623006499,
          -0.08396987187591369,
          -0.10082964988954103,
          -0.09480376189346443,
          -0.10082964988954103,
          -0.08759175886125323,
          -0.09912249146253305,
          -0.07989471950176558,
          -0.08180944806009711,
          -0.059527429881283074,
          -0.082207643822228,
          -0.10082964988954103,
          -0.08028444301363837,
          -0.0809537507840286,
          -0.08025902626286405,
          -0.06838516752613101,
          -0.09786648036176909,
          -0.08123545310511056,
          -0.07988624725150746,
          -0.0798332956873943,
          -0.07446188902375625,
          -0.09883867107888655,
          -0.08282611809106961,
          -0.09919238752716239,
          -0.08224365088582496,
          -0.08558595361264706,
          -0.0836860514922672,
          -0.08688856208983058,
          -0.07925294654471417,
          -0.08617265694302077,
          -0.08419226844518891,
          -0.07886534109540591,
          -0.0776368648079808,
          -0.10082964988954103,
          -0.0917198627995145,
          -0.08388514937333265,
          -0.0822796579494219,
          -0.08280493746542436,
          -0.08485098590275653,
          -0.10082964988954103,
          -0.08547157823416265,
          -0.08923749347388997,
          -0.09865863576090184,
          -0.09781988298534952,
          -0.07710734916684929,
          -0.07785078912699793,
          -0.06694064885712425,
          -0.08053861052138148,
          0.36090798917713773,
          -0.07976339962276495,
          -5.372693966680802E-4,
          -0.07895006359798694,
          -0.09853790619472386,
          -0.08075041677783408,
          -0.08710460447141223,
          -0.08214833807042128,
          -0.0910929162804148,
          -0.0790856196021166,
          -0.08257406864589102,
          -0.07820026945014473,
          -0.08134771042103044,
          -0.0817670868088066,
          -0.09910131083688778,
          -0.07837183251787133,
          -0.08820599700496577,
          -0.08221611607248612,
          -0.077367870862286,
          -0.08485945815301461,
          -0.0821822270714537,
          -0.09221337137704906,
          -0.08171413524469344,
          -0.09909707471175873,
          -0.10082964988954103,
          -0.09009107268739397,
          -0.09115222203222152,
          -0.0673600252449004,
          -0.08564314130188927,
          -0.07848408983379122,
          -0.0838491423097357,
          -0.0840122331272042,
          -0.08255076995768122,
          -0.07552092030601927,
          -0.0821737548211956,
          -0.09884078914145109,
          -0.08517716753769353,
          -0.08435959538778648,
          -0.08088809084452828,
          -0.08259524927153629,
          -0.07849256208404932,
          -0.08091986178299618,
          -0.07855822202354962,
          -0.08069534715115641,
          -0.08403129569028493,
          -0.09852096169420765,
          -0.08812339256494926,
          -0.04597818365600993,
          -0.06493060748338902,
          -0.07880179921847012,
          -0.07101368316870783,
          -0.09866075382346635,
          -0.08274139558848857,
          -0.08092409790812523,
          -0.10082964988954103,
          -0.0902647538176851,
          -0.07791856712906275,
          -0.08330480023065251,
          -0.09236375381913042,
          -0.08452480426781951,
          -0.07404251263598009,
          -0.07892888297234169,
          -0.08325184866653935,
          -0.08311417459984516,
          -0.08063604139934968,
          -0.08007263675718575,
          -0.07837818670556491,
          -0.07992437237766893,
          -0.08414355300620481,
          0.06861535527254291,
          -0.07793974775470802,
          -0.08059156208549463,
          -0.07630883958002296,
          -0.08522800103924215,
          -0.08145361354925673,
          -0.079280481358053,
          -0.07242643089924672,
          -0.08007899094487934,
          -0.08873551264609729,
          -0.09865863576090184,
          -0.08076524321578576,
          -0.05703023411770686,
          -0.08473237439914307,
          0.3211943160922743,
          -0.08839662263577312,
          -0.08432782444931858,
          -0.09872217763783762,
          -0.09888526845530612,
          -0.08031409588954172,
          -0.08505008378382196,
          -0.0992644016543563,
          -0.07802870638241811,
          -0.08029503332646099,
          -0.07848620789635574,
          -0.07965114230684507,
          -0.08198948337808183,
          -0.08070805552654357,
          -0.05499901211832638,
          -0.050455767917418,
          -0.09492237339707789,
          -0.08994069024531261,
          -0.03792319172311737,
          -0.07810495663474105,
          -0.08549911304750149,
          -0.08291084059365067,
          4.982308698716524,
          -0.08395080931283296,
          -0.08345941879786291,
          -0.08081395865476987,
          -0.09088958227422028,
          -0.08534237641772656,
          -0.07644651364671716,
          -0.08652849145386116,
          -0.08682925633802385,
          -0.08091986178299618,
          -0.07250903533926324,
          -0.09937030478258259,
          -0.08007263675718575,
          -0.09885773364196729,
          -0.09922627652819482,
          -0.0830358062849577,
          -0.08409695562978525,
          -0.08617265694302077,
          -0.08140913423540169,
          -0.08269903433719807,
          -0.09895304645737095,
          -0.07823839457630619,
          -0.08674453383544281,
          -0.08019972051105731,
          -0.08342129367170144,
          -0.08588036430911618,
          -0.08124816148049771,
          -0.08785228055668994,
          -0.08259101314640722,
          -0.07054135521681854,
          -0.08052166602086527,
          -0.0903452401951371,
          -0.07923176591906891,
          -0.08414143494364029,
          -0.08026114432542857,
          -0.07965114230684507,
          -0.08019124826079921,
          -0.08775484967872173,
          -0.08008746319513743,
          -0.08759175886125323,
          -0.0811337861020133,
          -0.08251688095664882,
          -0.07223580526843937,
          -0.07161097681190419,
          0.04531666706275636,
          -0.06640901515342822,
          -0.08145149548669221,
          -0.08545463373364645,
          -0.08395080931283296,
          -0.0811825015409974,
          -0.08676571446108806,
          -0.08182003837291975,
          -0.07882509790667991,
          -0.08482133302685316,
          -0.07856669427380773,
          -0.07934614129755331,
          -0.0987772472645153,
          -0.08489122909148251,
          -0.09866922607372447,
          -0.08151503736362799,
          -0.07949016955194109,
          -0.09879630982759602,
          -0.0801827760105411,
          -0.08178191324675828,
          -0.08064239558704327,
          -0.08536779316850088,
          -0.08567703030292168,
          -0.08167177399340292,
          -0.08454174876833571,
          -0.08198101112782372,
          -0.07965114230684507,
          -0.08651790114103852,
          -0.08377924624510634,
          -0.08367334311688003,
          -0.07619658226410309,
          -0.07168087287653355,
          -0.07950287792732824,
          -0.07978881637353927,
          -0.0817755590590647,
          -0.08261431183461701,
          -0.084848867840192,
          -0.08244910295458398,
          -0.0794499263632151,
          -0.08049836733265549,
          -0.07912162666571355,
          -0.07806259538345053,
          -0.07951346824015088,
          -0.08064451364960779,
          -0.08068052071320474,
          -0.08070805552654357,
          15.996445840508432,
          -0.07886745915797043,
          -0.07504859235412997,
          -0.07599960244560215,
          0.23382211724301022,
          -0.09332535422342524,
          -0.0824025055781644,
          -0.09651303838303694,
          -0.08134347429590139
         ],
         "xaxis": "x",
         "y": [
          -0.26077940861396326,
          0.4184085461563666,
          -0.25672913778935363,
          -0.30038387131427946,
          -0.29976326530083125,
          -0.30080849648137564,
          -0.2975911442537623,
          -0.3006778425838076,
          -0.30077583300698363,
          -0.24211223299892765,
          -0.2787443195295706,
          -0.3003185443654955,
          -0.30077583300698363,
          -0.30018789046792743,
          -0.3003022126282995,
          -0.30085749169296366,
          -0.25475299758863684,
          -0.29925698144775503,
          -0.3004981934746515,
          -0.294194142916993,
          -0.21111459580090697,
          -0.3004655300002595,
          -0.2660708914654695,
          -0.2757229481483094,
          -0.2998612557240073,
          -0.3000572365703594,
          -0.3007431695325916,
          -0.29749315383058633,
          -0.2959579705341617,
          -0.3000899000447514,
          -0.29729717298423425,
          -0.08062401560481358,
          -0.27854833868321854,
          -0.30085749169296366,
          -0.21663472297315722,
          -0.30085749169296366,
          -0.2984403945879547,
          1.4887906019826445,
          -0.30000824135877135,
          0.04828238608326715,
          -0.3007105060581996,
          -0.3004818617374555,
          -0.30085749169296366,
          -0.2661035549398615,
          0.8372196148107619,
          0.2833450795453913,
          0.22494278733247142,
          -0.2408056940232471,
          -0.1925944058206354,
          -0.2915973967028279,
          -0.04946306103483284,
          0.23059356840228973,
          0.698138540849569,
          -0.15584799712962036,
          1.4589198546511484,
          1.2146460614104764,
          -0.2892782900209949,
          -0.29301825783888047,
          -0.2948964076164212,
          -0.2412303191903433,
          -0.15944097931274184,
          -0.28584862520983356,
          0.2965411231997647,
          -0.29956728445447917,
          -0.30085749169296366,
          -0.2266297461371133,
          0.0043336812888131685,
          -0.2974114951446063,
          -0.2167980403451173,
          -0.27784607398379024,
          -0.30085749169296366,
          -0.3004981934746515,
          -0.2549489784349889,
          1.5978702747147733,
          -0.19739593655626136,
          -0.2908951320033996,
          -0.08232251627319828,
          -0.28490138445246516,
          0.2129552922306025,
          -0.29995924614718333,
          -0.29683988434274605,
          -0.28692651986476997,
          -0.2910421176381637,
          -0.29202202186992404,
          -0.11147466716807021,
          -0.2973951634074103,
          -0.24701175415772966,
          -0.299191654498971,
          1.1947050102941523,
          0.44803431742992267,
          -0.1776998614978773,
          -0.2463911481442814,
          0.4385292463818468,
          1.903012452484962,
          -0.29785245204889843,
          -0.22555185148217688,
          -0.30084115995576766,
          0.0929333555771494,
          0.12384933408919006,
          -0.30062884737221957,
          -0.29029085772714736,
          -0.2683899981473024,
          0.7182102458634612,
          -0.30085749169296366,
          0.24071924546381387,
          -0.19109188599860277,
          -0.29198935839553203,
          -0.264976665073337,
          0.03320819265135298,
          -0.2476160284339819,
          -0.2647643524897889,
          -0.2229224417936198,
          -0.2885923570587627,
          -0.284558417971349,
          -0.23326043143869202,
          -0.25744773422597794,
          -0.2412466509275393,
          -0.2712480521566036,
          -0.21296008210405573,
          -0.23667376451265743,
          0.09770222283838337,
          0.1818923280837978,
          -0.1833179790933036,
          -0.23644512019191333,
          0.9674488872117192,
          -0.2945534411353051,
          -0.2951250519371653,
          0.22314629624091067,
          0.15342611015115815,
          0.1263480898801791,
          13.5721856646665,
          -0.29687254781713807,
          0.04341552839885716,
          -0.30085749169296366,
          -0.02289132461692997,
          0.3710955034995352,
          -0.11078873420583793,
          -0.28955592955332704,
          -0.24088735270922715,
          0.07271466492849314,
          0.20108211928910566,
          -0.29587631184818164,
          -0.19252907887185136,
          0.16422138843771858,
          -0.3006941743210036,
          -0.11078873420583793,
          -0.13290190636923097,
          -0.26776939213385414,
          -0.2985383850111307,
          -0.074319965047155,
          -0.113418143894395,
          -0.1715917917865708,
          -0.2776664248746342,
          -0.1205061178374619,
          -0.25587988745516127,
          -0.28351318679080456,
          -0.30023688567951545,
          -0.29904466886420694,
          -0.2964969178616299,
          -0.28708983723673004,
          -0.16971364200903002,
          -0.2962029465921018,
          -0.2982280820044066,
          -0.1813745023669788,
          -0.06674203898820791,
          5.072594348799958,
          2.2001847425034997,
          -0.09720072885876037,
          -0.29770546641413437,
          0.5095069762356919,
          -0.020702871832665073,
          -0.14379517507896744,
          -0.29631726875247383,
          0.5160723345884866,
          -0.2518949435793357,
          -0.019461659805768566,
          -0.29956728445447917,
          -0.29973060182643924,
          -0.29548435015547747,
          -0.3000899000447514,
          -0.3001225635191434,
          0.04122707561459226,
          -0.30084115995576766,
          -0.26149800505058757,
          -0.30084115995576766,
          -0.2612856924670395,
          -0.19034062608758648,
          -0.30082482821857165,
          -0.20528416562193258,
          -0.29930597665934305,
          0.12324505981293782,
          -0.29768913467693836,
          0.03188532193847644,
          -0.3006778425838076,
          -0.296725562182374,
          -0.2863222455885177,
          -0.2579050228674661,
          -0.03745923419576793,
          1.2831576989477245,
          -0.2994202988197151,
          -0.2700721670784911,
          0.3675841800023938,
          -0.23838859691823813,
          -0.17985565080775018,
          0.8159556929815612,
          0.8257547352991652,
          -0.26267389012870007,
          0.20059216717322545,
          -0.22125660459962712,
          0.4232100768919925,
          -0.005906317933083021,
          -0.2769314967008139,
          -0.08666675836733606,
          -0.2962029465921018,
          0.6083793132203162,
          -0.25223791006045176,
          -0.2696475419113949,
          -0.28870667921913473,
          -0.3004165347886715,
          -0.3004818617374555,
          -0.19899644680147002,
          0.21986361706451335,
          -0.28539133656834537,
          -0.06194050825258195,
          0.8207735554543831,
          -0.2532994729781922,
          -0.29270795483215634,
          -0.2192967961361063,
          -0.29879969280626684,
          -0.2955660088414575,
          -0.30077583300698363,
          -0.21686336729390132,
          -0.26192263021768375,
          0.11720231705041534,
          -0.2694352293278468,
          -0.23567752854370103,
          -0.17962700648700608,
          0.027018464254066447,
          -0.27977321897291907,
          0.6746208392873194,
          0.14677909311238344,
          -0.2964642543872379,
          5.235421768644144,
          0.5323877400472972,
          0.2754895139541121,
          1.3463615218962703,
          0.3326832576145275,
          0.5443915668863621,
          -0.29076447810583156,
          -0.27900562732470674,
          -0.19483185381648832,
          -0.27137870605417164,
          -0.2926752913577643,
          -0.3006451791094156,
          -0.2222201770941915,
          -0.16218471116167096,
          -0.27559229425074133,
          -0.29412881596820895,
          -0.3004328665258675,
          -0.30084115995576766,
          -0.0681955635986525,
          0.007142740086526317,
          -0.2735344953640445,
          -0.2983097406903866,
          -0.30022055394231945,
          -0.18558809056354852,
          0.012254573828876408,
          -0.2979667742092705,
          0.7143559558852036,
          -0.3007268377953956,
          -0.016227975840959242,
          -0.2750533469232731,
          -0.3001715587307314,
          -0.30080849648137564,
          -0.30084115995576766,
          0.24272804913892268,
          -0.2993713036081271,
          -0.11723977039826057,
          -0.30061251563502356,
          -0.2994366305569111,
          -0.15849373855537344,
          -0.2533158047153882,
          -0.30080849648137564
         ],
         "yaxis": "y",
         "type": "scatter"
        },
        {
         "hovertemplate": "x=%{x}<br>y=%{y}<br>size=%{marker.size}<extra></extra>",
         "legendgroup": "",
         "marker": {
          "color": "#636efa",
          "size": [
           1,
           2,
           3,
           4,
           5,
           6,
           7,
           8,
           9
          ],
          "sizemode": "area",
          "sizeref": 0.0225,
          "symbol": "circle"
         },
         "mode": "markers",
         "name": "",
         "orientation": "v",
         "showlegend": false,
         "x": [
          -0.0702618258303883,
          15.996445840508432,
          -0.09866075382346635,
          -0.09869570185578105,
          -0.09492355009850263,
          4.982308698716524,
          -0.080935551135326,
          -0.0818760157406965,
          -0.08692411528287797
         ],
         "xaxis": "x",
         "y": [
          -0.27097912852546946,
          -0.30084115995576766,
          13.5721856646665,
          5.154008058722051,
          1.5208498020984056,
          -0.30084115995576766,
          0.25142621139368476,
          -0.03539770234056914,
          0.6988011427586641
         ],
         "yaxis": "y",
         "type": "scatter"
        }
       ],
       "layout": {
        "template": {
         "data": {
          "histogram2dcontour": [
           {
            "type": "histogram2dcontour",
            "colorbar": {
             "outlinewidth": 0,
             "ticks": ""
            },
            "colorscale": [
             [
              0.0,
              "#0d0887"
             ],
             [
              0.1111111111111111,
              "#46039f"
             ],
             [
              0.2222222222222222,
              "#7201a8"
             ],
             [
              0.3333333333333333,
              "#9c179e"
             ],
             [
              0.4444444444444444,
              "#bd3786"
             ],
             [
              0.5555555555555556,
              "#d8576b"
             ],
             [
              0.6666666666666666,
              "#ed7953"
             ],
             [
              0.7777777777777778,
              "#fb9f3a"
             ],
             [
              0.8888888888888888,
              "#fdca26"
             ],
             [
              1.0,
              "#f0f921"
             ]
            ]
           }
          ],
          "choropleth": [
           {
            "type": "choropleth",
            "colorbar": {
             "outlinewidth": 0,
             "ticks": ""
            }
           }
          ],
          "histogram2d": [
           {
            "type": "histogram2d",
            "colorbar": {
             "outlinewidth": 0,
             "ticks": ""
            },
            "colorscale": [
             [
              0.0,
              "#0d0887"
             ],
             [
              0.1111111111111111,
              "#46039f"
             ],
             [
              0.2222222222222222,
              "#7201a8"
             ],
             [
              0.3333333333333333,
              "#9c179e"
             ],
             [
              0.4444444444444444,
              "#bd3786"
             ],
             [
              0.5555555555555556,
              "#d8576b"
             ],
             [
              0.6666666666666666,
              "#ed7953"
             ],
             [
              0.7777777777777778,
              "#fb9f3a"
             ],
             [
              0.8888888888888888,
              "#fdca26"
             ],
             [
              1.0,
              "#f0f921"
             ]
            ]
           }
          ],
          "heatmap": [
           {
            "type": "heatmap",
            "colorbar": {
             "outlinewidth": 0,
             "ticks": ""
            },
            "colorscale": [
             [
              0.0,
              "#0d0887"
             ],
             [
              0.1111111111111111,
              "#46039f"
             ],
             [
              0.2222222222222222,
              "#7201a8"
             ],
             [
              0.3333333333333333,
              "#9c179e"
             ],
             [
              0.4444444444444444,
              "#bd3786"
             ],
             [
              0.5555555555555556,
              "#d8576b"
             ],
             [
              0.6666666666666666,
              "#ed7953"
             ],
             [
              0.7777777777777778,
              "#fb9f3a"
             ],
             [
              0.8888888888888888,
              "#fdca26"
             ],
             [
              1.0,
              "#f0f921"
             ]
            ]
           }
          ],
          "heatmapgl": [
           {
            "type": "heatmapgl",
            "colorbar": {
             "outlinewidth": 0,
             "ticks": ""
            },
            "colorscale": [
             [
              0.0,
              "#0d0887"
             ],
             [
              0.1111111111111111,
              "#46039f"
             ],
             [
              0.2222222222222222,
              "#7201a8"
             ],
             [
              0.3333333333333333,
              "#9c179e"
             ],
             [
              0.4444444444444444,
              "#bd3786"
             ],
             [
              0.5555555555555556,
              "#d8576b"
             ],
             [
              0.6666666666666666,
              "#ed7953"
             ],
             [
              0.7777777777777778,
              "#fb9f3a"
             ],
             [
              0.8888888888888888,
              "#fdca26"
             ],
             [
              1.0,
              "#f0f921"
             ]
            ]
           }
          ],
          "contourcarpet": [
           {
            "type": "contourcarpet",
            "colorbar": {
             "outlinewidth": 0,
             "ticks": ""
            }
           }
          ],
          "contour": [
           {
            "type": "contour",
            "colorbar": {
             "outlinewidth": 0,
             "ticks": ""
            },
            "colorscale": [
             [
              0.0,
              "#0d0887"
             ],
             [
              0.1111111111111111,
              "#46039f"
             ],
             [
              0.2222222222222222,
              "#7201a8"
             ],
             [
              0.3333333333333333,
              "#9c179e"
             ],
             [
              0.4444444444444444,
              "#bd3786"
             ],
             [
              0.5555555555555556,
              "#d8576b"
             ],
             [
              0.6666666666666666,
              "#ed7953"
             ],
             [
              0.7777777777777778,
              "#fb9f3a"
             ],
             [
              0.8888888888888888,
              "#fdca26"
             ],
             [
              1.0,
              "#f0f921"
             ]
            ]
           }
          ],
          "surface": [
           {
            "type": "surface",
            "colorbar": {
             "outlinewidth": 0,
             "ticks": ""
            },
            "colorscale": [
             [
              0.0,
              "#0d0887"
             ],
             [
              0.1111111111111111,
              "#46039f"
             ],
             [
              0.2222222222222222,
              "#7201a8"
             ],
             [
              0.3333333333333333,
              "#9c179e"
             ],
             [
              0.4444444444444444,
              "#bd3786"
             ],
             [
              0.5555555555555556,
              "#d8576b"
             ],
             [
              0.6666666666666666,
              "#ed7953"
             ],
             [
              0.7777777777777778,
              "#fb9f3a"
             ],
             [
              0.8888888888888888,
              "#fdca26"
             ],
             [
              1.0,
              "#f0f921"
             ]
            ]
           }
          ],
          "mesh3d": [
           {
            "type": "mesh3d",
            "colorbar": {
             "outlinewidth": 0,
             "ticks": ""
            }
           }
          ],
          "scatter": [
           {
            "marker": {
             "line": {
              "color": "#283442"
             }
            },
            "type": "scatter"
           }
          ],
          "parcoords": [
           {
            "type": "parcoords",
            "line": {
             "colorbar": {
              "outlinewidth": 0,
              "ticks": ""
             }
            }
           }
          ],
          "scatterpolargl": [
           {
            "type": "scatterpolargl",
            "marker": {
             "colorbar": {
              "outlinewidth": 0,
              "ticks": ""
             }
            }
           }
          ],
          "bar": [
           {
            "error_x": {
             "color": "#f2f5fa"
            },
            "error_y": {
             "color": "#f2f5fa"
            },
            "marker": {
             "line": {
              "color": "rgb(17,17,17)",
              "width": 0.5
             },
             "pattern": {
              "fillmode": "overlay",
              "size": 10,
              "solidity": 0.2
             }
            },
            "type": "bar"
           }
          ],
          "scattergeo": [
           {
            "type": "scattergeo",
            "marker": {
             "colorbar": {
              "outlinewidth": 0,
              "ticks": ""
             }
            }
           }
          ],
          "scatterpolar": [
           {
            "type": "scatterpolar",
            "marker": {
             "colorbar": {
              "outlinewidth": 0,
              "ticks": ""
             }
            }
           }
          ],
          "histogram": [
           {
            "marker": {
             "pattern": {
              "fillmode": "overlay",
              "size": 10,
              "solidity": 0.2
             }
            },
            "type": "histogram"
           }
          ],
          "scattergl": [
           {
            "marker": {
             "line": {
              "color": "#283442"
             }
            },
            "type": "scattergl"
           }
          ],
          "scatter3d": [
           {
            "type": "scatter3d",
            "line": {
             "colorbar": {
              "outlinewidth": 0,
              "ticks": ""
             }
            },
            "marker": {
             "colorbar": {
              "outlinewidth": 0,
              "ticks": ""
             }
            }
           }
          ],
          "scattermapbox": [
           {
            "type": "scattermapbox",
            "marker": {
             "colorbar": {
              "outlinewidth": 0,
              "ticks": ""
             }
            }
           }
          ],
          "scatterternary": [
           {
            "type": "scatterternary",
            "marker": {
             "colorbar": {
              "outlinewidth": 0,
              "ticks": ""
             }
            }
           }
          ],
          "scattercarpet": [
           {
            "type": "scattercarpet",
            "marker": {
             "colorbar": {
              "outlinewidth": 0,
              "ticks": ""
             }
            }
           }
          ],
          "carpet": [
           {
            "aaxis": {
             "endlinecolor": "#A2B1C6",
             "gridcolor": "#506784",
             "linecolor": "#506784",
             "minorgridcolor": "#506784",
             "startlinecolor": "#A2B1C6"
            },
            "baxis": {
             "endlinecolor": "#A2B1C6",
             "gridcolor": "#506784",
             "linecolor": "#506784",
             "minorgridcolor": "#506784",
             "startlinecolor": "#A2B1C6"
            },
            "type": "carpet"
           }
          ],
          "table": [
           {
            "cells": {
             "fill": {
              "color": "#506784"
             },
             "line": {
              "color": "rgb(17,17,17)"
             }
            },
            "header": {
             "fill": {
              "color": "#2a3f5f"
             },
             "line": {
              "color": "rgb(17,17,17)"
             }
            },
            "type": "table"
           }
          ],
          "barpolar": [
           {
            "marker": {
             "line": {
              "color": "rgb(17,17,17)",
              "width": 0.5
             },
             "pattern": {
              "fillmode": "overlay",
              "size": 10,
              "solidity": 0.2
             }
            },
            "type": "barpolar"
           }
          ],
          "pie": [
           {
            "automargin": true,
            "type": "pie"
           }
          ]
         },
         "layout": {
          "autotypenumbers": "strict",
          "colorway": [
           "#636efa",
           "#EF553B",
           "#00cc96",
           "#ab63fa",
           "#FFA15A",
           "#19d3f3",
           "#FF6692",
           "#B6E880",
           "#FF97FF",
           "#FECB52"
          ],
          "font": {
           "color": "#f2f5fa"
          },
          "hovermode": "closest",
          "hoverlabel": {
           "align": "left"
          },
          "paper_bgcolor": "rgb(17,17,17)",
          "plot_bgcolor": "rgb(17,17,17)",
          "polar": {
           "bgcolor": "rgb(17,17,17)",
           "angularaxis": {
            "gridcolor": "#506784",
            "linecolor": "#506784",
            "ticks": ""
           },
           "radialaxis": {
            "gridcolor": "#506784",
            "linecolor": "#506784",
            "ticks": ""
           }
          },
          "ternary": {
           "bgcolor": "rgb(17,17,17)",
           "aaxis": {
            "gridcolor": "#506784",
            "linecolor": "#506784",
            "ticks": ""
           },
           "baxis": {
            "gridcolor": "#506784",
            "linecolor": "#506784",
            "ticks": ""
           },
           "caxis": {
            "gridcolor": "#506784",
            "linecolor": "#506784",
            "ticks": ""
           }
          },
          "coloraxis": {
           "colorbar": {
            "outlinewidth": 0,
            "ticks": ""
           }
          },
          "colorscale": {
           "sequential": [
            [
             0.0,
             "#0d0887"
            ],
            [
             0.1111111111111111,
             "#46039f"
            ],
            [
             0.2222222222222222,
             "#7201a8"
            ],
            [
             0.3333333333333333,
             "#9c179e"
            ],
            [
             0.4444444444444444,
             "#bd3786"
            ],
            [
             0.5555555555555556,
             "#d8576b"
            ],
            [
             0.6666666666666666,
             "#ed7953"
            ],
            [
             0.7777777777777778,
             "#fb9f3a"
            ],
            [
             0.8888888888888888,
             "#fdca26"
            ],
            [
             1.0,
             "#f0f921"
            ]
           ],
           "sequentialminus": [
            [
             0.0,
             "#0d0887"
            ],
            [
             0.1111111111111111,
             "#46039f"
            ],
            [
             0.2222222222222222,
             "#7201a8"
            ],
            [
             0.3333333333333333,
             "#9c179e"
            ],
            [
             0.4444444444444444,
             "#bd3786"
            ],
            [
             0.5555555555555556,
             "#d8576b"
            ],
            [
             0.6666666666666666,
             "#ed7953"
            ],
            [
             0.7777777777777778,
             "#fb9f3a"
            ],
            [
             0.8888888888888888,
             "#fdca26"
            ],
            [
             1.0,
             "#f0f921"
            ]
           ],
           "diverging": [
            [
             0,
             "#8e0152"
            ],
            [
             0.1,
             "#c51b7d"
            ],
            [
             0.2,
             "#de77ae"
            ],
            [
             0.3,
             "#f1b6da"
            ],
            [
             0.4,
             "#fde0ef"
            ],
            [
             0.5,
             "#f7f7f7"
            ],
            [
             0.6,
             "#e6f5d0"
            ],
            [
             0.7,
             "#b8e186"
            ],
            [
             0.8,
             "#7fbc41"
            ],
            [
             0.9,
             "#4d9221"
            ],
            [
             1,
             "#276419"
            ]
           ]
          },
          "xaxis": {
           "gridcolor": "#283442",
           "linecolor": "#506784",
           "ticks": "",
           "title": {
            "standoff": 15
           },
           "zerolinecolor": "#283442",
           "automargin": true,
           "zerolinewidth": 2
          },
          "yaxis": {
           "gridcolor": "#283442",
           "linecolor": "#506784",
           "ticks": "",
           "title": {
            "standoff": 15
           },
           "zerolinecolor": "#283442",
           "automargin": true,
           "zerolinewidth": 2
          },
          "scene": {
           "xaxis": {
            "backgroundcolor": "rgb(17,17,17)",
            "gridcolor": "#506784",
            "linecolor": "#506784",
            "showbackground": true,
            "ticks": "",
            "zerolinecolor": "#C8D4E3",
            "gridwidth": 2
           },
           "yaxis": {
            "backgroundcolor": "rgb(17,17,17)",
            "gridcolor": "#506784",
            "linecolor": "#506784",
            "showbackground": true,
            "ticks": "",
            "zerolinecolor": "#C8D4E3",
            "gridwidth": 2
           },
           "zaxis": {
            "backgroundcolor": "rgb(17,17,17)",
            "gridcolor": "#506784",
            "linecolor": "#506784",
            "showbackground": true,
            "ticks": "",
            "zerolinecolor": "#C8D4E3",
            "gridwidth": 2
           }
          },
          "shapedefaults": {
           "line": {
            "color": "#f2f5fa"
           }
          },
          "annotationdefaults": {
           "arrowcolor": "#f2f5fa",
           "arrowhead": 0,
           "arrowwidth": 1
          },
          "geo": {
           "bgcolor": "rgb(17,17,17)",
           "landcolor": "rgb(17,17,17)",
           "subunitcolor": "#506784",
           "showland": true,
           "showlakes": true,
           "lakecolor": "rgb(17,17,17)"
          },
          "title": {
           "x": 0.05
          },
          "updatemenudefaults": {
           "bgcolor": "#506784",
           "borderwidth": 0
          },
          "sliderdefaults": {
           "bgcolor": "#C8D4E3",
           "borderwidth": 1,
           "bordercolor": "rgb(17,17,17)",
           "tickwidth": 0
          },
          "mapbox": {
           "style": "dark"
          }
         }
        }
       },
       "config": {
        "plotlyServerURL": "https://plot.ly"
       }
      },
      "text/html": "<div>                            <div id=\"df6f138c-b65e-4309-b742-6993450b45f3\" class=\"plotly-graph-div\" style=\"height:525px; width:100%;\"></div>            <script type=\"text/javascript\">                require([\"plotly\"], function(Plotly) {                    window.PLOTLYENV=window.PLOTLYENV || {};                                    if (document.getElementById(\"df6f138c-b65e-4309-b742-6993450b45f3\")) {                    Plotly.newPlot(                        \"df6f138c-b65e-4309-b742-6993450b45f3\",                        [{\"hovertemplate\":\"x=%{x}<br>y=%{y}<br>color=%{marker.color}<extra></extra>\",\"legendgroup\":\"\",\"marker\":{\"color\":[0,6,0,0,0,0,0,0,0,0,0,0,0,0,0,0,0,0,0,0,0,0,0,0,0,0,0,0,0,0,0,7,0,0,0,0,0,4,0,7,0,0,0,0,8,6,6,0,0,0,7,6,8,0,4,4,0,0,0,0,0,0,6,0,0,0,7,0,0,0,0,0,0,4,0,0,7,0,6,0,0,0,0,0,7,0,0,0,4,6,0,0,6,4,0,0,0,7,6,0,0,0,8,0,6,0,0,0,7,0,0,0,0,0,0,0,0,0,0,0,7,6,0,0,8,0,0,6,6,6,2,0,7,0,7,6,7,0,0,7,6,0,0,6,0,7,7,0,0,7,7,0,0,7,0,0,0,0,0,0,0,0,0,0,7,3,4,7,0,8,7,7,0,8,0,7,0,0,0,0,0,7,0,0,5,0,0,0,0,0,6,0,7,0,0,0,0,7,4,0,0,6,0,0,8,8,0,6,0,6,7,0,7,0,8,0,0,0,0,0,0,6,0,7,8,0,0,0,0,0,0,0,0,6,0,0,0,7,0,8,6,0,3,8,6,4,6,8,0,0,0,0,0,0,0,0,0,0,0,0,7,7,0,0,0,0,7,0,8,0,7,0,0,0,1,6,0,7,0,0,0,0,0],\"coloraxis\":\"coloraxis\",\"symbol\":\"circle\"},\"mode\":\"markers\",\"name\":\"\",\"orientation\":\"v\",\"showlegend\":false,\"x\":[-0.10032555099918383,-0.09771609791968774,-0.09949738853645415,0.07751121804355231,-0.09883867107888655,-0.08113166803944878,-0.06588161757486122,-0.08283459034132773,-0.026485653874676707,-0.07636602726926517,-0.09987863979806884,-0.09366000810862035,-0.07710734916684929,0.06522645516930123,-0.087695543926915,-0.10082964988954103,-0.10062631588334654,-0.10004384867810187,-0.09340372253831271,-0.09184482849082153,0.09191404348232944,0.1109766065630639,-0.10060937138283033,-0.08348483554863723,-0.08091986178299618,-0.049786460147027777,-0.08251264483151975,-0.09812276593207675,0.22111585991841845,-0.09932582546872754,-0.08595026037374554,-0.0999633623006499,-0.08396987187591369,-0.10082964988954103,-0.09480376189346443,-0.10082964988954103,-0.08759175886125323,-0.09912249146253305,-0.07989471950176558,-0.08180944806009711,-0.059527429881283074,-0.082207643822228,-0.10082964988954103,-0.08028444301363837,-0.0809537507840286,-0.08025902626286405,-0.06838516752613101,-0.09786648036176909,-0.08123545310511056,-0.07988624725150746,-0.0798332956873943,-0.07446188902375625,-0.09883867107888655,-0.08282611809106961,-0.09919238752716239,-0.08224365088582496,-0.08558595361264706,-0.0836860514922672,-0.08688856208983058,-0.07925294654471417,-0.08617265694302077,-0.08419226844518891,-0.07886534109540591,-0.0776368648079808,-0.10082964988954103,-0.0917198627995145,-0.08388514937333265,-0.0822796579494219,-0.08280493746542436,-0.08485098590275653,-0.10082964988954103,-0.08547157823416265,-0.08923749347388997,-0.09865863576090184,-0.09781988298534952,-0.07710734916684929,-0.07785078912699793,-0.06694064885712425,-0.08053861052138148,0.36090798917713773,-0.07976339962276495,-0.0005372693966680802,-0.07895006359798694,-0.09853790619472386,-0.08075041677783408,-0.08710460447141223,-0.08214833807042128,-0.0910929162804148,-0.0790856196021166,-0.08257406864589102,-0.07820026945014473,-0.08134771042103044,-0.0817670868088066,-0.09910131083688778,-0.07837183251787133,-0.08820599700496577,-0.08221611607248612,-0.077367870862286,-0.08485945815301461,-0.0821822270714537,-0.09221337137704906,-0.08171413524469344,-0.09909707471175873,-0.10082964988954103,-0.09009107268739397,-0.09115222203222152,-0.0673600252449004,-0.08564314130188927,-0.07848408983379122,-0.0838491423097357,-0.0840122331272042,-0.08255076995768122,-0.07552092030601927,-0.0821737548211956,-0.09884078914145109,-0.08517716753769353,-0.08435959538778648,-0.08088809084452828,-0.08259524927153629,-0.07849256208404932,-0.08091986178299618,-0.07855822202354962,-0.08069534715115641,-0.08403129569028493,-0.09852096169420765,-0.08812339256494926,-0.04597818365600993,-0.06493060748338902,-0.07880179921847012,-0.07101368316870783,-0.09866075382346635,-0.08274139558848857,-0.08092409790812523,-0.10082964988954103,-0.0902647538176851,-0.07791856712906275,-0.08330480023065251,-0.09236375381913042,-0.08452480426781951,-0.07404251263598009,-0.07892888297234169,-0.08325184866653935,-0.08311417459984516,-0.08063604139934968,-0.08007263675718575,-0.07837818670556491,-0.07992437237766893,-0.08414355300620481,0.06861535527254291,-0.07793974775470802,-0.08059156208549463,-0.07630883958002296,-0.08522800103924215,-0.08145361354925673,-0.079280481358053,-0.07242643089924672,-0.08007899094487934,-0.08873551264609729,-0.09865863576090184,-0.08076524321578576,-0.05703023411770686,-0.08473237439914307,0.3211943160922743,-0.08839662263577312,-0.08432782444931858,-0.09872217763783762,-0.09888526845530612,-0.08031409588954172,-0.08505008378382196,-0.0992644016543563,-0.07802870638241811,-0.08029503332646099,-0.07848620789635574,-0.07965114230684507,-0.08198948337808183,-0.08070805552654357,-0.05499901211832638,-0.050455767917418,-0.09492237339707789,-0.08994069024531261,-0.03792319172311737,-0.07810495663474105,-0.08549911304750149,-0.08291084059365067,4.982308698716524,-0.08395080931283296,-0.08345941879786291,-0.08081395865476987,-0.09088958227422028,-0.08534237641772656,-0.07644651364671716,-0.08652849145386116,-0.08682925633802385,-0.08091986178299618,-0.07250903533926324,-0.09937030478258259,-0.08007263675718575,-0.09885773364196729,-0.09922627652819482,-0.0830358062849577,-0.08409695562978525,-0.08617265694302077,-0.08140913423540169,-0.08269903433719807,-0.09895304645737095,-0.07823839457630619,-0.08674453383544281,-0.08019972051105731,-0.08342129367170144,-0.08588036430911618,-0.08124816148049771,-0.08785228055668994,-0.08259101314640722,-0.07054135521681854,-0.08052166602086527,-0.0903452401951371,-0.07923176591906891,-0.08414143494364029,-0.08026114432542857,-0.07965114230684507,-0.08019124826079921,-0.08775484967872173,-0.08008746319513743,-0.08759175886125323,-0.0811337861020133,-0.08251688095664882,-0.07223580526843937,-0.07161097681190419,0.04531666706275636,-0.06640901515342822,-0.08145149548669221,-0.08545463373364645,-0.08395080931283296,-0.0811825015409974,-0.08676571446108806,-0.08182003837291975,-0.07882509790667991,-0.08482133302685316,-0.07856669427380773,-0.07934614129755331,-0.0987772472645153,-0.08489122909148251,-0.09866922607372447,-0.08151503736362799,-0.07949016955194109,-0.09879630982759602,-0.0801827760105411,-0.08178191324675828,-0.08064239558704327,-0.08536779316850088,-0.08567703030292168,-0.08167177399340292,-0.08454174876833571,-0.08198101112782372,-0.07965114230684507,-0.08651790114103852,-0.08377924624510634,-0.08367334311688003,-0.07619658226410309,-0.07168087287653355,-0.07950287792732824,-0.07978881637353927,-0.0817755590590647,-0.08261431183461701,-0.084848867840192,-0.08244910295458398,-0.0794499263632151,-0.08049836733265549,-0.07912162666571355,-0.07806259538345053,-0.07951346824015088,-0.08064451364960779,-0.08068052071320474,-0.08070805552654357,15.996445840508432,-0.07886745915797043,-0.07504859235412997,-0.07599960244560215,0.23382211724301022,-0.09332535422342524,-0.0824025055781644,-0.09651303838303694,-0.08134347429590139],\"xaxis\":\"x\",\"y\":[-0.26077940861396326,0.4184085461563666,-0.25672913778935363,-0.30038387131427946,-0.29976326530083125,-0.30080849648137564,-0.2975911442537623,-0.3006778425838076,-0.30077583300698363,-0.24211223299892765,-0.2787443195295706,-0.3003185443654955,-0.30077583300698363,-0.30018789046792743,-0.3003022126282995,-0.30085749169296366,-0.25475299758863684,-0.29925698144775503,-0.3004981934746515,-0.294194142916993,-0.21111459580090697,-0.3004655300002595,-0.2660708914654695,-0.2757229481483094,-0.2998612557240073,-0.3000572365703594,-0.3007431695325916,-0.29749315383058633,-0.2959579705341617,-0.3000899000447514,-0.29729717298423425,-0.08062401560481358,-0.27854833868321854,-0.30085749169296366,-0.21663472297315722,-0.30085749169296366,-0.2984403945879547,1.4887906019826445,-0.30000824135877135,0.04828238608326715,-0.3007105060581996,-0.3004818617374555,-0.30085749169296366,-0.2661035549398615,0.8372196148107619,0.2833450795453913,0.22494278733247142,-0.2408056940232471,-0.1925944058206354,-0.2915973967028279,-0.04946306103483284,0.23059356840228973,0.698138540849569,-0.15584799712962036,1.4589198546511484,1.2146460614104764,-0.2892782900209949,-0.29301825783888047,-0.2948964076164212,-0.2412303191903433,-0.15944097931274184,-0.28584862520983356,0.2965411231997647,-0.29956728445447917,-0.30085749169296366,-0.2266297461371133,0.0043336812888131685,-0.2974114951446063,-0.2167980403451173,-0.27784607398379024,-0.30085749169296366,-0.3004981934746515,-0.2549489784349889,1.5978702747147733,-0.19739593655626136,-0.2908951320033996,-0.08232251627319828,-0.28490138445246516,0.2129552922306025,-0.29995924614718333,-0.29683988434274605,-0.28692651986476997,-0.2910421176381637,-0.29202202186992404,-0.11147466716807021,-0.2973951634074103,-0.24701175415772966,-0.299191654498971,1.1947050102941523,0.44803431742992267,-0.1776998614978773,-0.2463911481442814,0.4385292463818468,1.903012452484962,-0.29785245204889843,-0.22555185148217688,-0.30084115995576766,0.0929333555771494,0.12384933408919006,-0.30062884737221957,-0.29029085772714736,-0.2683899981473024,0.7182102458634612,-0.30085749169296366,0.24071924546381387,-0.19109188599860277,-0.29198935839553203,-0.264976665073337,0.03320819265135298,-0.2476160284339819,-0.2647643524897889,-0.2229224417936198,-0.2885923570587627,-0.284558417971349,-0.23326043143869202,-0.25744773422597794,-0.2412466509275393,-0.2712480521566036,-0.21296008210405573,-0.23667376451265743,0.09770222283838337,0.1818923280837978,-0.1833179790933036,-0.23644512019191333,0.9674488872117192,-0.2945534411353051,-0.2951250519371653,0.22314629624091067,0.15342611015115815,0.1263480898801791,13.5721856646665,-0.29687254781713807,0.04341552839885716,-0.30085749169296366,-0.02289132461692997,0.3710955034995352,-0.11078873420583793,-0.28955592955332704,-0.24088735270922715,0.07271466492849314,0.20108211928910566,-0.29587631184818164,-0.19252907887185136,0.16422138843771858,-0.3006941743210036,-0.11078873420583793,-0.13290190636923097,-0.26776939213385414,-0.2985383850111307,-0.074319965047155,-0.113418143894395,-0.1715917917865708,-0.2776664248746342,-0.1205061178374619,-0.25587988745516127,-0.28351318679080456,-0.30023688567951545,-0.29904466886420694,-0.2964969178616299,-0.28708983723673004,-0.16971364200903002,-0.2962029465921018,-0.2982280820044066,-0.1813745023669788,-0.06674203898820791,5.072594348799958,2.2001847425034997,-0.09720072885876037,-0.29770546641413437,0.5095069762356919,-0.020702871832665073,-0.14379517507896744,-0.29631726875247383,0.5160723345884866,-0.2518949435793357,-0.019461659805768566,-0.29956728445447917,-0.29973060182643924,-0.29548435015547747,-0.3000899000447514,-0.3001225635191434,0.04122707561459226,-0.30084115995576766,-0.26149800505058757,-0.30084115995576766,-0.2612856924670395,-0.19034062608758648,-0.30082482821857165,-0.20528416562193258,-0.29930597665934305,0.12324505981293782,-0.29768913467693836,0.03188532193847644,-0.3006778425838076,-0.296725562182374,-0.2863222455885177,-0.2579050228674661,-0.03745923419576793,1.2831576989477245,-0.2994202988197151,-0.2700721670784911,0.3675841800023938,-0.23838859691823813,-0.17985565080775018,0.8159556929815612,0.8257547352991652,-0.26267389012870007,0.20059216717322545,-0.22125660459962712,0.4232100768919925,-0.005906317933083021,-0.2769314967008139,-0.08666675836733606,-0.2962029465921018,0.6083793132203162,-0.25223791006045176,-0.2696475419113949,-0.28870667921913473,-0.3004165347886715,-0.3004818617374555,-0.19899644680147002,0.21986361706451335,-0.28539133656834537,-0.06194050825258195,0.8207735554543831,-0.2532994729781922,-0.29270795483215634,-0.2192967961361063,-0.29879969280626684,-0.2955660088414575,-0.30077583300698363,-0.21686336729390132,-0.26192263021768375,0.11720231705041534,-0.2694352293278468,-0.23567752854370103,-0.17962700648700608,0.027018464254066447,-0.27977321897291907,0.6746208392873194,0.14677909311238344,-0.2964642543872379,5.235421768644144,0.5323877400472972,0.2754895139541121,1.3463615218962703,0.3326832576145275,0.5443915668863621,-0.29076447810583156,-0.27900562732470674,-0.19483185381648832,-0.27137870605417164,-0.2926752913577643,-0.3006451791094156,-0.2222201770941915,-0.16218471116167096,-0.27559229425074133,-0.29412881596820895,-0.3004328665258675,-0.30084115995576766,-0.0681955635986525,0.007142740086526317,-0.2735344953640445,-0.2983097406903866,-0.30022055394231945,-0.18558809056354852,0.012254573828876408,-0.2979667742092705,0.7143559558852036,-0.3007268377953956,-0.016227975840959242,-0.2750533469232731,-0.3001715587307314,-0.30080849648137564,-0.30084115995576766,0.24272804913892268,-0.2993713036081271,-0.11723977039826057,-0.30061251563502356,-0.2994366305569111,-0.15849373855537344,-0.2533158047153882,-0.30080849648137564],\"yaxis\":\"y\",\"type\":\"scatter\"},{\"hovertemplate\":\"x=%{x}<br>y=%{y}<br>size=%{marker.size}<extra></extra>\",\"legendgroup\":\"\",\"marker\":{\"color\":\"#636efa\",\"size\":[1,2,3,4,5,6,7,8,9],\"sizemode\":\"area\",\"sizeref\":0.0225,\"symbol\":\"circle\"},\"mode\":\"markers\",\"name\":\"\",\"orientation\":\"v\",\"showlegend\":false,\"x\":[-0.0702618258303883,15.996445840508432,-0.09866075382346635,-0.09869570185578105,-0.09492355009850263,4.982308698716524,-0.080935551135326,-0.0818760157406965,-0.08692411528287797],\"xaxis\":\"x\",\"y\":[-0.27097912852546946,-0.30084115995576766,13.5721856646665,5.154008058722051,1.5208498020984056,-0.30084115995576766,0.25142621139368476,-0.03539770234056914,0.6988011427586641],\"yaxis\":\"y\",\"type\":\"scatter\"}],                        {\"template\":{\"data\":{\"histogram2dcontour\":[{\"type\":\"histogram2dcontour\",\"colorbar\":{\"outlinewidth\":0,\"ticks\":\"\"},\"colorscale\":[[0.0,\"#0d0887\"],[0.1111111111111111,\"#46039f\"],[0.2222222222222222,\"#7201a8\"],[0.3333333333333333,\"#9c179e\"],[0.4444444444444444,\"#bd3786\"],[0.5555555555555556,\"#d8576b\"],[0.6666666666666666,\"#ed7953\"],[0.7777777777777778,\"#fb9f3a\"],[0.8888888888888888,\"#fdca26\"],[1.0,\"#f0f921\"]]}],\"choropleth\":[{\"type\":\"choropleth\",\"colorbar\":{\"outlinewidth\":0,\"ticks\":\"\"}}],\"histogram2d\":[{\"type\":\"histogram2d\",\"colorbar\":{\"outlinewidth\":0,\"ticks\":\"\"},\"colorscale\":[[0.0,\"#0d0887\"],[0.1111111111111111,\"#46039f\"],[0.2222222222222222,\"#7201a8\"],[0.3333333333333333,\"#9c179e\"],[0.4444444444444444,\"#bd3786\"],[0.5555555555555556,\"#d8576b\"],[0.6666666666666666,\"#ed7953\"],[0.7777777777777778,\"#fb9f3a\"],[0.8888888888888888,\"#fdca26\"],[1.0,\"#f0f921\"]]}],\"heatmap\":[{\"type\":\"heatmap\",\"colorbar\":{\"outlinewidth\":0,\"ticks\":\"\"},\"colorscale\":[[0.0,\"#0d0887\"],[0.1111111111111111,\"#46039f\"],[0.2222222222222222,\"#7201a8\"],[0.3333333333333333,\"#9c179e\"],[0.4444444444444444,\"#bd3786\"],[0.5555555555555556,\"#d8576b\"],[0.6666666666666666,\"#ed7953\"],[0.7777777777777778,\"#fb9f3a\"],[0.8888888888888888,\"#fdca26\"],[1.0,\"#f0f921\"]]}],\"heatmapgl\":[{\"type\":\"heatmapgl\",\"colorbar\":{\"outlinewidth\":0,\"ticks\":\"\"},\"colorscale\":[[0.0,\"#0d0887\"],[0.1111111111111111,\"#46039f\"],[0.2222222222222222,\"#7201a8\"],[0.3333333333333333,\"#9c179e\"],[0.4444444444444444,\"#bd3786\"],[0.5555555555555556,\"#d8576b\"],[0.6666666666666666,\"#ed7953\"],[0.7777777777777778,\"#fb9f3a\"],[0.8888888888888888,\"#fdca26\"],[1.0,\"#f0f921\"]]}],\"contourcarpet\":[{\"type\":\"contourcarpet\",\"colorbar\":{\"outlinewidth\":0,\"ticks\":\"\"}}],\"contour\":[{\"type\":\"contour\",\"colorbar\":{\"outlinewidth\":0,\"ticks\":\"\"},\"colorscale\":[[0.0,\"#0d0887\"],[0.1111111111111111,\"#46039f\"],[0.2222222222222222,\"#7201a8\"],[0.3333333333333333,\"#9c179e\"],[0.4444444444444444,\"#bd3786\"],[0.5555555555555556,\"#d8576b\"],[0.6666666666666666,\"#ed7953\"],[0.7777777777777778,\"#fb9f3a\"],[0.8888888888888888,\"#fdca26\"],[1.0,\"#f0f921\"]]}],\"surface\":[{\"type\":\"surface\",\"colorbar\":{\"outlinewidth\":0,\"ticks\":\"\"},\"colorscale\":[[0.0,\"#0d0887\"],[0.1111111111111111,\"#46039f\"],[0.2222222222222222,\"#7201a8\"],[0.3333333333333333,\"#9c179e\"],[0.4444444444444444,\"#bd3786\"],[0.5555555555555556,\"#d8576b\"],[0.6666666666666666,\"#ed7953\"],[0.7777777777777778,\"#fb9f3a\"],[0.8888888888888888,\"#fdca26\"],[1.0,\"#f0f921\"]]}],\"mesh3d\":[{\"type\":\"mesh3d\",\"colorbar\":{\"outlinewidth\":0,\"ticks\":\"\"}}],\"scatter\":[{\"marker\":{\"line\":{\"color\":\"#283442\"}},\"type\":\"scatter\"}],\"parcoords\":[{\"type\":\"parcoords\",\"line\":{\"colorbar\":{\"outlinewidth\":0,\"ticks\":\"\"}}}],\"scatterpolargl\":[{\"type\":\"scatterpolargl\",\"marker\":{\"colorbar\":{\"outlinewidth\":0,\"ticks\":\"\"}}}],\"bar\":[{\"error_x\":{\"color\":\"#f2f5fa\"},\"error_y\":{\"color\":\"#f2f5fa\"},\"marker\":{\"line\":{\"color\":\"rgb(17,17,17)\",\"width\":0.5},\"pattern\":{\"fillmode\":\"overlay\",\"size\":10,\"solidity\":0.2}},\"type\":\"bar\"}],\"scattergeo\":[{\"type\":\"scattergeo\",\"marker\":{\"colorbar\":{\"outlinewidth\":0,\"ticks\":\"\"}}}],\"scatterpolar\":[{\"type\":\"scatterpolar\",\"marker\":{\"colorbar\":{\"outlinewidth\":0,\"ticks\":\"\"}}}],\"histogram\":[{\"marker\":{\"pattern\":{\"fillmode\":\"overlay\",\"size\":10,\"solidity\":0.2}},\"type\":\"histogram\"}],\"scattergl\":[{\"marker\":{\"line\":{\"color\":\"#283442\"}},\"type\":\"scattergl\"}],\"scatter3d\":[{\"type\":\"scatter3d\",\"line\":{\"colorbar\":{\"outlinewidth\":0,\"ticks\":\"\"}},\"marker\":{\"colorbar\":{\"outlinewidth\":0,\"ticks\":\"\"}}}],\"scattermapbox\":[{\"type\":\"scattermapbox\",\"marker\":{\"colorbar\":{\"outlinewidth\":0,\"ticks\":\"\"}}}],\"scatterternary\":[{\"type\":\"scatterternary\",\"marker\":{\"colorbar\":{\"outlinewidth\":0,\"ticks\":\"\"}}}],\"scattercarpet\":[{\"type\":\"scattercarpet\",\"marker\":{\"colorbar\":{\"outlinewidth\":0,\"ticks\":\"\"}}}],\"carpet\":[{\"aaxis\":{\"endlinecolor\":\"#A2B1C6\",\"gridcolor\":\"#506784\",\"linecolor\":\"#506784\",\"minorgridcolor\":\"#506784\",\"startlinecolor\":\"#A2B1C6\"},\"baxis\":{\"endlinecolor\":\"#A2B1C6\",\"gridcolor\":\"#506784\",\"linecolor\":\"#506784\",\"minorgridcolor\":\"#506784\",\"startlinecolor\":\"#A2B1C6\"},\"type\":\"carpet\"}],\"table\":[{\"cells\":{\"fill\":{\"color\":\"#506784\"},\"line\":{\"color\":\"rgb(17,17,17)\"}},\"header\":{\"fill\":{\"color\":\"#2a3f5f\"},\"line\":{\"color\":\"rgb(17,17,17)\"}},\"type\":\"table\"}],\"barpolar\":[{\"marker\":{\"line\":{\"color\":\"rgb(17,17,17)\",\"width\":0.5},\"pattern\":{\"fillmode\":\"overlay\",\"size\":10,\"solidity\":0.2}},\"type\":\"barpolar\"}],\"pie\":[{\"automargin\":true,\"type\":\"pie\"}]},\"layout\":{\"autotypenumbers\":\"strict\",\"colorway\":[\"#636efa\",\"#EF553B\",\"#00cc96\",\"#ab63fa\",\"#FFA15A\",\"#19d3f3\",\"#FF6692\",\"#B6E880\",\"#FF97FF\",\"#FECB52\"],\"font\":{\"color\":\"#f2f5fa\"},\"hovermode\":\"closest\",\"hoverlabel\":{\"align\":\"left\"},\"paper_bgcolor\":\"rgb(17,17,17)\",\"plot_bgcolor\":\"rgb(17,17,17)\",\"polar\":{\"bgcolor\":\"rgb(17,17,17)\",\"angularaxis\":{\"gridcolor\":\"#506784\",\"linecolor\":\"#506784\",\"ticks\":\"\"},\"radialaxis\":{\"gridcolor\":\"#506784\",\"linecolor\":\"#506784\",\"ticks\":\"\"}},\"ternary\":{\"bgcolor\":\"rgb(17,17,17)\",\"aaxis\":{\"gridcolor\":\"#506784\",\"linecolor\":\"#506784\",\"ticks\":\"\"},\"baxis\":{\"gridcolor\":\"#506784\",\"linecolor\":\"#506784\",\"ticks\":\"\"},\"caxis\":{\"gridcolor\":\"#506784\",\"linecolor\":\"#506784\",\"ticks\":\"\"}},\"coloraxis\":{\"colorbar\":{\"outlinewidth\":0,\"ticks\":\"\"}},\"colorscale\":{\"sequential\":[[0.0,\"#0d0887\"],[0.1111111111111111,\"#46039f\"],[0.2222222222222222,\"#7201a8\"],[0.3333333333333333,\"#9c179e\"],[0.4444444444444444,\"#bd3786\"],[0.5555555555555556,\"#d8576b\"],[0.6666666666666666,\"#ed7953\"],[0.7777777777777778,\"#fb9f3a\"],[0.8888888888888888,\"#fdca26\"],[1.0,\"#f0f921\"]],\"sequentialminus\":[[0.0,\"#0d0887\"],[0.1111111111111111,\"#46039f\"],[0.2222222222222222,\"#7201a8\"],[0.3333333333333333,\"#9c179e\"],[0.4444444444444444,\"#bd3786\"],[0.5555555555555556,\"#d8576b\"],[0.6666666666666666,\"#ed7953\"],[0.7777777777777778,\"#fb9f3a\"],[0.8888888888888888,\"#fdca26\"],[1.0,\"#f0f921\"]],\"diverging\":[[0,\"#8e0152\"],[0.1,\"#c51b7d\"],[0.2,\"#de77ae\"],[0.3,\"#f1b6da\"],[0.4,\"#fde0ef\"],[0.5,\"#f7f7f7\"],[0.6,\"#e6f5d0\"],[0.7,\"#b8e186\"],[0.8,\"#7fbc41\"],[0.9,\"#4d9221\"],[1,\"#276419\"]]},\"xaxis\":{\"gridcolor\":\"#283442\",\"linecolor\":\"#506784\",\"ticks\":\"\",\"title\":{\"standoff\":15},\"zerolinecolor\":\"#283442\",\"automargin\":true,\"zerolinewidth\":2},\"yaxis\":{\"gridcolor\":\"#283442\",\"linecolor\":\"#506784\",\"ticks\":\"\",\"title\":{\"standoff\":15},\"zerolinecolor\":\"#283442\",\"automargin\":true,\"zerolinewidth\":2},\"scene\":{\"xaxis\":{\"backgroundcolor\":\"rgb(17,17,17)\",\"gridcolor\":\"#506784\",\"linecolor\":\"#506784\",\"showbackground\":true,\"ticks\":\"\",\"zerolinecolor\":\"#C8D4E3\",\"gridwidth\":2},\"yaxis\":{\"backgroundcolor\":\"rgb(17,17,17)\",\"gridcolor\":\"#506784\",\"linecolor\":\"#506784\",\"showbackground\":true,\"ticks\":\"\",\"zerolinecolor\":\"#C8D4E3\",\"gridwidth\":2},\"zaxis\":{\"backgroundcolor\":\"rgb(17,17,17)\",\"gridcolor\":\"#506784\",\"linecolor\":\"#506784\",\"showbackground\":true,\"ticks\":\"\",\"zerolinecolor\":\"#C8D4E3\",\"gridwidth\":2}},\"shapedefaults\":{\"line\":{\"color\":\"#f2f5fa\"}},\"annotationdefaults\":{\"arrowcolor\":\"#f2f5fa\",\"arrowhead\":0,\"arrowwidth\":1},\"geo\":{\"bgcolor\":\"rgb(17,17,17)\",\"landcolor\":\"rgb(17,17,17)\",\"subunitcolor\":\"#506784\",\"showland\":true,\"showlakes\":true,\"lakecolor\":\"rgb(17,17,17)\"},\"title\":{\"x\":0.05},\"updatemenudefaults\":{\"bgcolor\":\"#506784\",\"borderwidth\":0},\"sliderdefaults\":{\"bgcolor\":\"#C8D4E3\",\"borderwidth\":1,\"bordercolor\":\"rgb(17,17,17)\",\"tickwidth\":0},\"mapbox\":{\"style\":\"dark\"}}}},                        {\"responsive\": true}                    ).then(function(){\n                            \nvar gd = document.getElementById('df6f138c-b65e-4309-b742-6993450b45f3');\nvar x = new MutationObserver(function (mutations, observer) {{\n        var display = window.getComputedStyle(gd).display;\n        if (!display || display === 'none') {{\n            console.log([gd, 'removed!']);\n            Plotly.purge(gd);\n            observer.disconnect();\n        }}\n}});\n\n// Listen for the removal of the full notebook cells\nvar notebookContainer = gd.closest('#notebook-container');\nif (notebookContainer) {{\n    x.observe(notebookContainer, {childList: true});\n}}\n\n// Listen for the clearing of the current output cell\nvar outputEl = gd.closest('.output');\nif (outputEl) {{\n    x.observe(outputEl, {childList: true});\n}}\n\n                        })                };                });            </script>        </div>"
     },
     "metadata": {},
     "output_type": "display_data"
    }
   ],
   "source": [
    "grafico_cluster = px.scatter(y=base_cotacoes[:,0], x=base_cotacoes[:,1], color=rotulos)\n",
    "grafico_centroid = px.scatter(y=centroides[:,0], x=centroides[:,1], size=[1,2,3,4,5,6,7,8,9])\n",
    "grafico_geral = go.Figure(data=grafico_cluster.data + grafico_centroid.data)\n",
    "grafico_geral.show()"
   ],
   "metadata": {
    "collapsed": false,
    "pycharm": {
     "name": "#%%\n"
    }
   }
  },
  {
   "cell_type": "code",
   "execution_count": 36,
   "outputs": [
    {
     "name": "stdout",
     "output_type": "stream",
     "text": [
      "1 Hotel\n",
      "2 Logística\n",
      "3 Lajes Corporativas\n",
      "4 Hospital\n",
      "5 Outros\n",
      "6 Shoppings\n",
      "7 Residencial\n",
      "8 Títulos e Val. Mob.\n",
      "9 Híbrido\n"
     ]
    }
   ],
   "source": [
    "n_cluster = df['Setor']\n",
    "n_cluster = set(n_cluster)\n",
    "nome_cluster = n_cluster\n",
    "for id, x in enumerate(nome_cluster):\n",
    "    id_n = id+1\n",
    "    print(id_n,x)"
   ],
   "metadata": {
    "collapsed": false,
    "pycharm": {
     "name": "#%%\n"
    }
   }
  },
  {
   "cell_type": "markdown",
   "source": [
    "o Y referece ao numero de ações em circulação\n",
    "o X referece ao valor da ação\n",
    "\n",
    "logo quanto mais a direita mais cara é a ação e quanto mais alta mais fácil a liquidez da ação."
   ],
   "metadata": {
    "collapsed": false,
    "pycharm": {
     "name": "#%% md\n"
    }
   }
  },
  {
   "cell_type": "code",
   "execution_count": 37,
   "outputs": [],
   "source": [
    "nome_rotulo = df['Codigo_do_fundo']"
   ],
   "metadata": {
    "collapsed": false,
    "pycharm": {
     "name": "#%%\n"
    }
   }
  },
  {
   "cell_type": "code",
   "execution_count": 38,
   "outputs": [
    {
     "data": {
      "application/vnd.plotly.v1+json": {
       "data": [
        {
         "hovertemplate": "color=Shoppings<br>x=%{x}<br>y=%{y}<extra></extra>",
         "legendgroup": "Shoppings",
         "marker": {
          "color": "#636efa",
          "symbol": "circle"
         },
         "mode": "markers",
         "name": "Shoppings",
         "orientation": "v",
         "showlegend": true,
         "x": [
          2.38,
          84.96,
          4.49,
          28.45,
          62.5,
          2180.0,
          90.0,
          87.88,
          110.77,
          800.0,
          108.07,
          115.77,
          73.66,
          206.79,
          76.0,
          58.7,
          79.69,
          6.89,
          84.01,
          103.69,
          1579.99,
          92.0
         ],
         "xaxis": "x",
         "y": [
          2454,
          11,
          1354,
          5157,
          148,
          55,
          45273,
          1,
          24112,
          142,
          13871,
          7915,
          1420,
          8030,
          285,
          7316,
          2423,
          890,
          88,
          33284,
          15,
          3
         ],
         "yaxis": "y",
         "type": "scatter"
        },
        {
         "hovertemplate": "color=Títulos e Val. Mob.<br>x=%{x}<br>y=%{y}<extra></extra>",
         "legendgroup": "Títulos e Val. Mob.",
         "marker": {
          "color": "#EF553B",
          "symbol": "circle"
         },
         "mode": "markers",
         "name": "Títulos e Val. Mob.",
         "orientation": "v",
         "showlegend": true,
         "x": [
          14.7,
          93.0,
          1000.0,
          7.1,
          87.92,
          0.0,
          97.0,
          93.84,
          97.12,
          92.51,
          99.13,
          9.4,
          85.0,
          71.97,
          80.94,
          69.2,
          109.5,
          10.25,
          88.2,
          102.66,
          86.19,
          106.84,
          91.98,
          8.16,
          59.6,
          75.4,
          90.25,
          8.18,
          86.3,
          73.9,
          77.76,
          86.09,
          105.46,
          94.0,
          95.06,
          79.31,
          10.9,
          104.0,
          95.34,
          98.0,
          106.0,
          91.48,
          97.97,
          9.95,
          96.86,
          7.39,
          88.95,
          27.89,
          51.41,
          297.0,
          72.38,
          84.6,
          73.12,
          66.1,
          7.57,
          91.69,
          97.4,
          70.58,
          92.45,
          86.11,
          95.88,
          97.93,
          92.99,
          79.69,
          92.76,
          66.4,
          89.75,
          103.89,
          75.58,
          101.43,
          10.2,
          100.75,
          9.6,
          97.48,
          89.93,
          95.31,
          73.0,
          71.54,
          90.45,
          76.9,
          99.99,
          67.57,
          80.5,
          99.34,
          89.96,
          86.78,
          100.94,
          95.99,
          107.49,
          95.3,
          95.13,
          95.0
         ],
         "xaxis": "x",
         "y": [
          44041,
          3,
          24,
          47,
          23,
          0,
          2128,
          69685,
          35771,
          6629,
          15393,
          61169,
          8879,
          709,
          480,
          8659,
          79,
          116260,
          3297,
          91574,
          45855,
          7541,
          3335,
          134944,
          4611,
          26005,
          1988,
          62398,
          4772,
          2658,
          3650,
          5382,
          3930,
          24404,
          7197,
          3944,
          77659,
          27816,
          28477,
          10,
          11638,
          11043,
          38,
          329019,
          12470,
          49619,
          2998,
          329,
          47,
          45,
          1,
          2410,
          95,
          20374,
          96990,
          3825,
          30704,
          44335,
          18060,
          13115,
          55673,
          947,
          68678,
          2384,
          25598,
          1924,
          3991,
          7423,
          20076,
          59729,
          338989,
          35290,
          100860,
          38792,
          51755,
          618,
          1338,
          6492,
          1805,
          501,
          4815,
          8491,
          1547,
          18859,
          1673,
          7058,
          19172,
          177,
          8,
          1580,
          42,
          3
         ],
         "yaxis": "y",
         "type": "scatter"
        },
        {
         "hovertemplate": "color=Lajes Corporativas<br>x=%{x}<br>y=%{y}<extra></extra>",
         "legendgroup": "Lajes Corporativas",
         "marker": {
          "color": "#00cc96",
          "symbol": "circle"
         },
         "mode": "markers",
         "name": "Lajes Corporativas",
         "orientation": "v",
         "showlegend": true,
         "x": [
          6.29,
          842.0,
          165.0,
          33.85,
          112.0,
          784.0,
          62.01,
          81.89,
          86.48,
          12.78,
          89.8,
          195.0,
          43.01,
          54.73,
          14.21,
          95.8,
          45.97,
          88.04,
          50.7,
          45.69,
          71.7,
          105.5,
          80.17,
          59.99,
          258.97,
          140.77,
          82.74,
          78.78,
          1992.5,
          105.49,
          216.38,
          23999.0,
          82.01,
          61.27,
          97.11,
          137.95,
          162.51,
          91.49,
          116.3,
          35.43,
          20.38
         ],
         "xaxis": "x",
         "y": [
          2702,
          29,
          200,
          33,
          5,
          41,
          34,
          1539,
          7,
          206,
          21378,
          9,
          4545,
          2811,
          6335,
          31461,
          102,
          14,
          33161,
          6721,
          2197,
          20455,
          3260,
          386,
          351,
          26158,
          11638,
          2026,
          161,
          278,
          79,
          1,
          6767,
          1465,
          27,
          4994,
          324,
          5,
          26,
          87,
          2911
         ],
         "yaxis": "y",
         "type": "scatter"
        },
        {
         "hovertemplate": "color=Híbrido<br>x=%{x}<br>y=%{y}<extra></extra>",
         "legendgroup": "Híbrido",
         "marker": {
          "color": "#ab63fa",
          "symbol": "circle"
         },
         "mode": "markers",
         "name": "Híbrido",
         "orientation": "v",
         "showlegend": true,
         "x": [
          9.4,
          35.06,
          1.04,
          4.09,
          0.0,
          98.84,
          153.18,
          98.88,
          124.49,
          87.75,
          65.82,
          101.87,
          80.0,
          87.58,
          85.1,
          0.0,
          72.51,
          99.46,
          473.51,
          94.8,
          64.8,
          40.68,
          88.08,
          9.39,
          10.24,
          0.0,
          103.4,
          101.74,
          77.91,
          74.5,
          96.95,
          99.99,
          67.52,
          94.0,
          133.71,
          98.0,
          69.2,
          101.97,
          78.79,
          62.5,
          86.46,
          72.59,
          105.11,
          9.69,
          81.0,
          137.62,
          100.69,
          76000.0
         ],
         "xaxis": "x",
         "y": [
          67,
          22,
          2130,
          13485,
          0,
          52,
          32195,
          567,
          32541,
          92795,
          365,
          3651,
          18687,
          211,
          5147,
          0,
          22,
          246,
          853,
          11596,
          212,
          647,
          998,
          4139,
          849453,
          0,
          30734,
          2754,
          14335,
          193,
          9617,
          50021,
          194,
          11,
          253,
          2630,
          40929,
          1911,
          744,
          14629,
          2912,
          5143,
          1291,
          27409,
          412,
          1,
          14246,
          1
         ],
         "yaxis": "y",
         "type": "scatter"
        },
        {
         "hovertemplate": "color=Logística<br>x=%{x}<br>y=%{y}<extra></extra>",
         "legendgroup": "Logística",
         "marker": {
          "color": "#FFA15A",
          "symbol": "circle"
         },
         "mode": "markers",
         "name": "Logística",
         "orientation": "v",
         "showlegend": true,
         "x": [
          351.0,
          108.49,
          158.02,
          94.15,
          105.15,
          169.49,
          108.17,
          76.98,
          83.64,
          95.55,
          57.1,
          94.73,
          107.65,
          95.0,
          237.83,
          94.5,
          115.12,
          82.19,
          49.5,
          97.44,
          102.49,
          117.23
         ],
         "xaxis": "x",
         "y": [
          5,
          13381,
          543,
          1813,
          29559,
          32085,
          41144,
          3672,
          6633,
          11477,
          111,
          843,
          17154,
          17230,
          69,
          2,
          25968,
          4874,
          2977,
          6237,
          62162,
          11243
         ],
         "yaxis": "y",
         "type": "scatter"
        },
        {
         "hovertemplate": "color=Hotel<br>x=%{x}<br>y=%{y}<extra></extra>",
         "legendgroup": "Hotel",
         "marker": {
          "color": "#19d3f3",
          "symbol": "circle"
         },
         "mode": "markers",
         "name": "Hotel",
         "orientation": "v",
         "showlegend": true,
         "x": [
          115.5,
          112.0,
          75.25
         ],
         "xaxis": "x",
         "y": [
          3597,
          610,
          269
         ],
         "yaxis": "y",
         "type": "scatter"
        },
        {
         "hovertemplate": "color=Residencial<br>x=%{x}<br>y=%{y}<extra></extra>",
         "legendgroup": "Residencial",
         "marker": {
          "color": "#FF6692",
          "symbol": "circle"
         },
         "mode": "markers",
         "name": "Residencial",
         "orientation": "v",
         "showlegend": true,
         "x": [
          0.0,
          0.96,
          3.71,
          94.0,
          70.25,
          0.0,
          13.99,
          78.55,
          75.44,
          79.4
         ],
         "xaxis": "x",
         "y": [
          0,
          2823,
          98,
          61,
          218,
          0,
          3677,
          919,
          1409,
          2210
         ],
         "yaxis": "y",
         "type": "scatter"
        },
        {
         "hovertemplate": "color=Outros<br>x=%{x}<br>y=%{y}<extra></extra>",
         "legendgroup": "Outros",
         "marker": {
          "color": "#B6E880",
          "symbol": "circle"
         },
         "mode": "markers",
         "name": "Outros",
         "orientation": "v",
         "showlegend": true,
         "x": [
          42.42,
          910.0,
          1520.0,
          79.6,
          8.06,
          7.73,
          103.7,
          0.0,
          103.3,
          10.82,
          106.03,
          0.0,
          119.49,
          85.4,
          93.98,
          49.88,
          39.97,
          126.47,
          82.99,
          98.7,
          134.1,
          9.18,
          107.29,
          46.93,
          9.31,
          79.0,
          85.6,
          8.86,
          106.66,
          66.5,
          143.0,
          99.99,
          61.73,
          135.0,
          690.0,
          91.19,
          88.99,
          86.0,
          75.45,
          100.64,
          121.72,
          87.0
         ],
         "xaxis": "x",
         "y": [
          408,
          5495,
          300,
          1366,
          109581,
          107752,
          36579,
          0,
          601,
          541,
          184,
          0,
          751,
          244,
          21080,
          17020,
          692,
          22874,
          305,
          10284,
          1062,
          153140,
          20946,
          5852,
          16128,
          1885,
          7409,
          68383,
          68983,
          2338,
          285,
          23,
          31884,
          499,
          126,
          51020,
          13,
          156,
          39,
          17428,
          91,
          8717
         ],
         "yaxis": "y",
         "type": "scatter"
        },
        {
         "hovertemplate": "color=Hospital<br>x=%{x}<br>y=%{y}<extra></extra>",
         "legendgroup": "Hospital",
         "marker": {
          "color": "#FF97FF",
          "symbol": "circle"
         },
         "mode": "markers",
         "name": "Hospital",
         "orientation": "v",
         "showlegend": true,
         "x": [
          240.99,
          160.0,
          10.25
         ],
         "xaxis": "x",
         "y": [
          49,
          977,
          267
         ],
         "yaxis": "y",
         "type": "scatter"
        }
       ],
       "layout": {
        "template": {
         "data": {
          "histogram2dcontour": [
           {
            "type": "histogram2dcontour",
            "colorbar": {
             "outlinewidth": 0,
             "ticks": ""
            },
            "colorscale": [
             [
              0.0,
              "#0d0887"
             ],
             [
              0.1111111111111111,
              "#46039f"
             ],
             [
              0.2222222222222222,
              "#7201a8"
             ],
             [
              0.3333333333333333,
              "#9c179e"
             ],
             [
              0.4444444444444444,
              "#bd3786"
             ],
             [
              0.5555555555555556,
              "#d8576b"
             ],
             [
              0.6666666666666666,
              "#ed7953"
             ],
             [
              0.7777777777777778,
              "#fb9f3a"
             ],
             [
              0.8888888888888888,
              "#fdca26"
             ],
             [
              1.0,
              "#f0f921"
             ]
            ]
           }
          ],
          "choropleth": [
           {
            "type": "choropleth",
            "colorbar": {
             "outlinewidth": 0,
             "ticks": ""
            }
           }
          ],
          "histogram2d": [
           {
            "type": "histogram2d",
            "colorbar": {
             "outlinewidth": 0,
             "ticks": ""
            },
            "colorscale": [
             [
              0.0,
              "#0d0887"
             ],
             [
              0.1111111111111111,
              "#46039f"
             ],
             [
              0.2222222222222222,
              "#7201a8"
             ],
             [
              0.3333333333333333,
              "#9c179e"
             ],
             [
              0.4444444444444444,
              "#bd3786"
             ],
             [
              0.5555555555555556,
              "#d8576b"
             ],
             [
              0.6666666666666666,
              "#ed7953"
             ],
             [
              0.7777777777777778,
              "#fb9f3a"
             ],
             [
              0.8888888888888888,
              "#fdca26"
             ],
             [
              1.0,
              "#f0f921"
             ]
            ]
           }
          ],
          "heatmap": [
           {
            "type": "heatmap",
            "colorbar": {
             "outlinewidth": 0,
             "ticks": ""
            },
            "colorscale": [
             [
              0.0,
              "#0d0887"
             ],
             [
              0.1111111111111111,
              "#46039f"
             ],
             [
              0.2222222222222222,
              "#7201a8"
             ],
             [
              0.3333333333333333,
              "#9c179e"
             ],
             [
              0.4444444444444444,
              "#bd3786"
             ],
             [
              0.5555555555555556,
              "#d8576b"
             ],
             [
              0.6666666666666666,
              "#ed7953"
             ],
             [
              0.7777777777777778,
              "#fb9f3a"
             ],
             [
              0.8888888888888888,
              "#fdca26"
             ],
             [
              1.0,
              "#f0f921"
             ]
            ]
           }
          ],
          "heatmapgl": [
           {
            "type": "heatmapgl",
            "colorbar": {
             "outlinewidth": 0,
             "ticks": ""
            },
            "colorscale": [
             [
              0.0,
              "#0d0887"
             ],
             [
              0.1111111111111111,
              "#46039f"
             ],
             [
              0.2222222222222222,
              "#7201a8"
             ],
             [
              0.3333333333333333,
              "#9c179e"
             ],
             [
              0.4444444444444444,
              "#bd3786"
             ],
             [
              0.5555555555555556,
              "#d8576b"
             ],
             [
              0.6666666666666666,
              "#ed7953"
             ],
             [
              0.7777777777777778,
              "#fb9f3a"
             ],
             [
              0.8888888888888888,
              "#fdca26"
             ],
             [
              1.0,
              "#f0f921"
             ]
            ]
           }
          ],
          "contourcarpet": [
           {
            "type": "contourcarpet",
            "colorbar": {
             "outlinewidth": 0,
             "ticks": ""
            }
           }
          ],
          "contour": [
           {
            "type": "contour",
            "colorbar": {
             "outlinewidth": 0,
             "ticks": ""
            },
            "colorscale": [
             [
              0.0,
              "#0d0887"
             ],
             [
              0.1111111111111111,
              "#46039f"
             ],
             [
              0.2222222222222222,
              "#7201a8"
             ],
             [
              0.3333333333333333,
              "#9c179e"
             ],
             [
              0.4444444444444444,
              "#bd3786"
             ],
             [
              0.5555555555555556,
              "#d8576b"
             ],
             [
              0.6666666666666666,
              "#ed7953"
             ],
             [
              0.7777777777777778,
              "#fb9f3a"
             ],
             [
              0.8888888888888888,
              "#fdca26"
             ],
             [
              1.0,
              "#f0f921"
             ]
            ]
           }
          ],
          "surface": [
           {
            "type": "surface",
            "colorbar": {
             "outlinewidth": 0,
             "ticks": ""
            },
            "colorscale": [
             [
              0.0,
              "#0d0887"
             ],
             [
              0.1111111111111111,
              "#46039f"
             ],
             [
              0.2222222222222222,
              "#7201a8"
             ],
             [
              0.3333333333333333,
              "#9c179e"
             ],
             [
              0.4444444444444444,
              "#bd3786"
             ],
             [
              0.5555555555555556,
              "#d8576b"
             ],
             [
              0.6666666666666666,
              "#ed7953"
             ],
             [
              0.7777777777777778,
              "#fb9f3a"
             ],
             [
              0.8888888888888888,
              "#fdca26"
             ],
             [
              1.0,
              "#f0f921"
             ]
            ]
           }
          ],
          "mesh3d": [
           {
            "type": "mesh3d",
            "colorbar": {
             "outlinewidth": 0,
             "ticks": ""
            }
           }
          ],
          "scatter": [
           {
            "marker": {
             "line": {
              "color": "#283442"
             }
            },
            "type": "scatter"
           }
          ],
          "parcoords": [
           {
            "type": "parcoords",
            "line": {
             "colorbar": {
              "outlinewidth": 0,
              "ticks": ""
             }
            }
           }
          ],
          "scatterpolargl": [
           {
            "type": "scatterpolargl",
            "marker": {
             "colorbar": {
              "outlinewidth": 0,
              "ticks": ""
             }
            }
           }
          ],
          "bar": [
           {
            "error_x": {
             "color": "#f2f5fa"
            },
            "error_y": {
             "color": "#f2f5fa"
            },
            "marker": {
             "line": {
              "color": "rgb(17,17,17)",
              "width": 0.5
             },
             "pattern": {
              "fillmode": "overlay",
              "size": 10,
              "solidity": 0.2
             }
            },
            "type": "bar"
           }
          ],
          "scattergeo": [
           {
            "type": "scattergeo",
            "marker": {
             "colorbar": {
              "outlinewidth": 0,
              "ticks": ""
             }
            }
           }
          ],
          "scatterpolar": [
           {
            "type": "scatterpolar",
            "marker": {
             "colorbar": {
              "outlinewidth": 0,
              "ticks": ""
             }
            }
           }
          ],
          "histogram": [
           {
            "marker": {
             "pattern": {
              "fillmode": "overlay",
              "size": 10,
              "solidity": 0.2
             }
            },
            "type": "histogram"
           }
          ],
          "scattergl": [
           {
            "marker": {
             "line": {
              "color": "#283442"
             }
            },
            "type": "scattergl"
           }
          ],
          "scatter3d": [
           {
            "type": "scatter3d",
            "line": {
             "colorbar": {
              "outlinewidth": 0,
              "ticks": ""
             }
            },
            "marker": {
             "colorbar": {
              "outlinewidth": 0,
              "ticks": ""
             }
            }
           }
          ],
          "scattermapbox": [
           {
            "type": "scattermapbox",
            "marker": {
             "colorbar": {
              "outlinewidth": 0,
              "ticks": ""
             }
            }
           }
          ],
          "scatterternary": [
           {
            "type": "scatterternary",
            "marker": {
             "colorbar": {
              "outlinewidth": 0,
              "ticks": ""
             }
            }
           }
          ],
          "scattercarpet": [
           {
            "type": "scattercarpet",
            "marker": {
             "colorbar": {
              "outlinewidth": 0,
              "ticks": ""
             }
            }
           }
          ],
          "carpet": [
           {
            "aaxis": {
             "endlinecolor": "#A2B1C6",
             "gridcolor": "#506784",
             "linecolor": "#506784",
             "minorgridcolor": "#506784",
             "startlinecolor": "#A2B1C6"
            },
            "baxis": {
             "endlinecolor": "#A2B1C6",
             "gridcolor": "#506784",
             "linecolor": "#506784",
             "minorgridcolor": "#506784",
             "startlinecolor": "#A2B1C6"
            },
            "type": "carpet"
           }
          ],
          "table": [
           {
            "cells": {
             "fill": {
              "color": "#506784"
             },
             "line": {
              "color": "rgb(17,17,17)"
             }
            },
            "header": {
             "fill": {
              "color": "#2a3f5f"
             },
             "line": {
              "color": "rgb(17,17,17)"
             }
            },
            "type": "table"
           }
          ],
          "barpolar": [
           {
            "marker": {
             "line": {
              "color": "rgb(17,17,17)",
              "width": 0.5
             },
             "pattern": {
              "fillmode": "overlay",
              "size": 10,
              "solidity": 0.2
             }
            },
            "type": "barpolar"
           }
          ],
          "pie": [
           {
            "automargin": true,
            "type": "pie"
           }
          ]
         },
         "layout": {
          "autotypenumbers": "strict",
          "colorway": [
           "#636efa",
           "#EF553B",
           "#00cc96",
           "#ab63fa",
           "#FFA15A",
           "#19d3f3",
           "#FF6692",
           "#B6E880",
           "#FF97FF",
           "#FECB52"
          ],
          "font": {
           "color": "#f2f5fa"
          },
          "hovermode": "closest",
          "hoverlabel": {
           "align": "left"
          },
          "paper_bgcolor": "rgb(17,17,17)",
          "plot_bgcolor": "rgb(17,17,17)",
          "polar": {
           "bgcolor": "rgb(17,17,17)",
           "angularaxis": {
            "gridcolor": "#506784",
            "linecolor": "#506784",
            "ticks": ""
           },
           "radialaxis": {
            "gridcolor": "#506784",
            "linecolor": "#506784",
            "ticks": ""
           }
          },
          "ternary": {
           "bgcolor": "rgb(17,17,17)",
           "aaxis": {
            "gridcolor": "#506784",
            "linecolor": "#506784",
            "ticks": ""
           },
           "baxis": {
            "gridcolor": "#506784",
            "linecolor": "#506784",
            "ticks": ""
           },
           "caxis": {
            "gridcolor": "#506784",
            "linecolor": "#506784",
            "ticks": ""
           }
          },
          "coloraxis": {
           "colorbar": {
            "outlinewidth": 0,
            "ticks": ""
           }
          },
          "colorscale": {
           "sequential": [
            [
             0.0,
             "#0d0887"
            ],
            [
             0.1111111111111111,
             "#46039f"
            ],
            [
             0.2222222222222222,
             "#7201a8"
            ],
            [
             0.3333333333333333,
             "#9c179e"
            ],
            [
             0.4444444444444444,
             "#bd3786"
            ],
            [
             0.5555555555555556,
             "#d8576b"
            ],
            [
             0.6666666666666666,
             "#ed7953"
            ],
            [
             0.7777777777777778,
             "#fb9f3a"
            ],
            [
             0.8888888888888888,
             "#fdca26"
            ],
            [
             1.0,
             "#f0f921"
            ]
           ],
           "sequentialminus": [
            [
             0.0,
             "#0d0887"
            ],
            [
             0.1111111111111111,
             "#46039f"
            ],
            [
             0.2222222222222222,
             "#7201a8"
            ],
            [
             0.3333333333333333,
             "#9c179e"
            ],
            [
             0.4444444444444444,
             "#bd3786"
            ],
            [
             0.5555555555555556,
             "#d8576b"
            ],
            [
             0.6666666666666666,
             "#ed7953"
            ],
            [
             0.7777777777777778,
             "#fb9f3a"
            ],
            [
             0.8888888888888888,
             "#fdca26"
            ],
            [
             1.0,
             "#f0f921"
            ]
           ],
           "diverging": [
            [
             0,
             "#8e0152"
            ],
            [
             0.1,
             "#c51b7d"
            ],
            [
             0.2,
             "#de77ae"
            ],
            [
             0.3,
             "#f1b6da"
            ],
            [
             0.4,
             "#fde0ef"
            ],
            [
             0.5,
             "#f7f7f7"
            ],
            [
             0.6,
             "#e6f5d0"
            ],
            [
             0.7,
             "#b8e186"
            ],
            [
             0.8,
             "#7fbc41"
            ],
            [
             0.9,
             "#4d9221"
            ],
            [
             1,
             "#276419"
            ]
           ]
          },
          "xaxis": {
           "gridcolor": "#283442",
           "linecolor": "#506784",
           "ticks": "",
           "title": {
            "standoff": 15
           },
           "zerolinecolor": "#283442",
           "automargin": true,
           "zerolinewidth": 2
          },
          "yaxis": {
           "gridcolor": "#283442",
           "linecolor": "#506784",
           "ticks": "",
           "title": {
            "standoff": 15
           },
           "zerolinecolor": "#283442",
           "automargin": true,
           "zerolinewidth": 2
          },
          "scene": {
           "xaxis": {
            "backgroundcolor": "rgb(17,17,17)",
            "gridcolor": "#506784",
            "linecolor": "#506784",
            "showbackground": true,
            "ticks": "",
            "zerolinecolor": "#C8D4E3",
            "gridwidth": 2
           },
           "yaxis": {
            "backgroundcolor": "rgb(17,17,17)",
            "gridcolor": "#506784",
            "linecolor": "#506784",
            "showbackground": true,
            "ticks": "",
            "zerolinecolor": "#C8D4E3",
            "gridwidth": 2
           },
           "zaxis": {
            "backgroundcolor": "rgb(17,17,17)",
            "gridcolor": "#506784",
            "linecolor": "#506784",
            "showbackground": true,
            "ticks": "",
            "zerolinecolor": "#C8D4E3",
            "gridwidth": 2
           }
          },
          "shapedefaults": {
           "line": {
            "color": "#f2f5fa"
           }
          },
          "annotationdefaults": {
           "arrowcolor": "#f2f5fa",
           "arrowhead": 0,
           "arrowwidth": 1
          },
          "geo": {
           "bgcolor": "rgb(17,17,17)",
           "landcolor": "rgb(17,17,17)",
           "subunitcolor": "#506784",
           "showland": true,
           "showlakes": true,
           "lakecolor": "rgb(17,17,17)"
          },
          "title": {
           "x": 0.05
          },
          "updatemenudefaults": {
           "bgcolor": "#506784",
           "borderwidth": 0
          },
          "sliderdefaults": {
           "bgcolor": "#C8D4E3",
           "borderwidth": 1,
           "bordercolor": "rgb(17,17,17)",
           "tickwidth": 0
          },
          "mapbox": {
           "style": "dark"
          }
         }
        },
        "xaxis": {
         "anchor": "y",
         "domain": [
          0.0,
          1.0
         ],
         "title": {
          "text": "x"
         }
        },
        "yaxis": {
         "anchor": "x",
         "domain": [
          0.0,
          1.0
         ],
         "title": {
          "text": "y"
         }
        },
        "legend": {
         "title": {
          "text": "color"
         },
         "tracegroupgap": 0
        },
        "margin": {
         "t": 60
        }
       },
       "config": {
        "plotlyServerURL": "https://plot.ly"
       }
      },
      "text/html": "<div>                            <div id=\"2b73cd87-6bb9-44f0-a389-34c845182120\" class=\"plotly-graph-div\" style=\"height:525px; width:100%;\"></div>            <script type=\"text/javascript\">                require([\"plotly\"], function(Plotly) {                    window.PLOTLYENV=window.PLOTLYENV || {};                                    if (document.getElementById(\"2b73cd87-6bb9-44f0-a389-34c845182120\")) {                    Plotly.newPlot(                        \"2b73cd87-6bb9-44f0-a389-34c845182120\",                        [{\"hovertemplate\":\"color=Shoppings<br>x=%{x}<br>y=%{y}<extra></extra>\",\"legendgroup\":\"Shoppings\",\"marker\":{\"color\":\"#636efa\",\"symbol\":\"circle\"},\"mode\":\"markers\",\"name\":\"Shoppings\",\"orientation\":\"v\",\"showlegend\":true,\"x\":[2.38,84.96,4.49,28.45,62.5,2180.0,90.0,87.88,110.77,800.0,108.07,115.77,73.66,206.79,76.0,58.7,79.69,6.89,84.01,103.69,1579.99,92.0],\"xaxis\":\"x\",\"y\":[2454,11,1354,5157,148,55,45273,1,24112,142,13871,7915,1420,8030,285,7316,2423,890,88,33284,15,3],\"yaxis\":\"y\",\"type\":\"scatter\"},{\"hovertemplate\":\"color=T\\u00edtulos e Val. Mob.<br>x=%{x}<br>y=%{y}<extra></extra>\",\"legendgroup\":\"T\\u00edtulos e Val. Mob.\",\"marker\":{\"color\":\"#EF553B\",\"symbol\":\"circle\"},\"mode\":\"markers\",\"name\":\"T\\u00edtulos e Val. Mob.\",\"orientation\":\"v\",\"showlegend\":true,\"x\":[14.7,93.0,1000.0,7.1,87.92,0.0,97.0,93.84,97.12,92.51,99.13,9.4,85.0,71.97,80.94,69.2,109.5,10.25,88.2,102.66,86.19,106.84,91.98,8.16,59.6,75.4,90.25,8.18,86.3,73.9,77.76,86.09,105.46,94.0,95.06,79.31,10.9,104.0,95.34,98.0,106.0,91.48,97.97,9.95,96.86,7.39,88.95,27.89,51.41,297.0,72.38,84.6,73.12,66.1,7.57,91.69,97.4,70.58,92.45,86.11,95.88,97.93,92.99,79.69,92.76,66.4,89.75,103.89,75.58,101.43,10.2,100.75,9.6,97.48,89.93,95.31,73.0,71.54,90.45,76.9,99.99,67.57,80.5,99.34,89.96,86.78,100.94,95.99,107.49,95.3,95.13,95.0],\"xaxis\":\"x\",\"y\":[44041,3,24,47,23,0,2128,69685,35771,6629,15393,61169,8879,709,480,8659,79,116260,3297,91574,45855,7541,3335,134944,4611,26005,1988,62398,4772,2658,3650,5382,3930,24404,7197,3944,77659,27816,28477,10,11638,11043,38,329019,12470,49619,2998,329,47,45,1,2410,95,20374,96990,3825,30704,44335,18060,13115,55673,947,68678,2384,25598,1924,3991,7423,20076,59729,338989,35290,100860,38792,51755,618,1338,6492,1805,501,4815,8491,1547,18859,1673,7058,19172,177,8,1580,42,3],\"yaxis\":\"y\",\"type\":\"scatter\"},{\"hovertemplate\":\"color=Lajes Corporativas<br>x=%{x}<br>y=%{y}<extra></extra>\",\"legendgroup\":\"Lajes Corporativas\",\"marker\":{\"color\":\"#00cc96\",\"symbol\":\"circle\"},\"mode\":\"markers\",\"name\":\"Lajes Corporativas\",\"orientation\":\"v\",\"showlegend\":true,\"x\":[6.29,842.0,165.0,33.85,112.0,784.0,62.01,81.89,86.48,12.78,89.8,195.0,43.01,54.73,14.21,95.8,45.97,88.04,50.7,45.69,71.7,105.5,80.17,59.99,258.97,140.77,82.74,78.78,1992.5,105.49,216.38,23999.0,82.01,61.27,97.11,137.95,162.51,91.49,116.3,35.43,20.38],\"xaxis\":\"x\",\"y\":[2702,29,200,33,5,41,34,1539,7,206,21378,9,4545,2811,6335,31461,102,14,33161,6721,2197,20455,3260,386,351,26158,11638,2026,161,278,79,1,6767,1465,27,4994,324,5,26,87,2911],\"yaxis\":\"y\",\"type\":\"scatter\"},{\"hovertemplate\":\"color=H\\u00edbrido<br>x=%{x}<br>y=%{y}<extra></extra>\",\"legendgroup\":\"H\\u00edbrido\",\"marker\":{\"color\":\"#ab63fa\",\"symbol\":\"circle\"},\"mode\":\"markers\",\"name\":\"H\\u00edbrido\",\"orientation\":\"v\",\"showlegend\":true,\"x\":[9.4,35.06,1.04,4.09,0.0,98.84,153.18,98.88,124.49,87.75,65.82,101.87,80.0,87.58,85.1,0.0,72.51,99.46,473.51,94.8,64.8,40.68,88.08,9.39,10.24,0.0,103.4,101.74,77.91,74.5,96.95,99.99,67.52,94.0,133.71,98.0,69.2,101.97,78.79,62.5,86.46,72.59,105.11,9.69,81.0,137.62,100.69,76000.0],\"xaxis\":\"x\",\"y\":[67,22,2130,13485,0,52,32195,567,32541,92795,365,3651,18687,211,5147,0,22,246,853,11596,212,647,998,4139,849453,0,30734,2754,14335,193,9617,50021,194,11,253,2630,40929,1911,744,14629,2912,5143,1291,27409,412,1,14246,1],\"yaxis\":\"y\",\"type\":\"scatter\"},{\"hovertemplate\":\"color=Log\\u00edstica<br>x=%{x}<br>y=%{y}<extra></extra>\",\"legendgroup\":\"Log\\u00edstica\",\"marker\":{\"color\":\"#FFA15A\",\"symbol\":\"circle\"},\"mode\":\"markers\",\"name\":\"Log\\u00edstica\",\"orientation\":\"v\",\"showlegend\":true,\"x\":[351.0,108.49,158.02,94.15,105.15,169.49,108.17,76.98,83.64,95.55,57.1,94.73,107.65,95.0,237.83,94.5,115.12,82.19,49.5,97.44,102.49,117.23],\"xaxis\":\"x\",\"y\":[5,13381,543,1813,29559,32085,41144,3672,6633,11477,111,843,17154,17230,69,2,25968,4874,2977,6237,62162,11243],\"yaxis\":\"y\",\"type\":\"scatter\"},{\"hovertemplate\":\"color=Hotel<br>x=%{x}<br>y=%{y}<extra></extra>\",\"legendgroup\":\"Hotel\",\"marker\":{\"color\":\"#19d3f3\",\"symbol\":\"circle\"},\"mode\":\"markers\",\"name\":\"Hotel\",\"orientation\":\"v\",\"showlegend\":true,\"x\":[115.5,112.0,75.25],\"xaxis\":\"x\",\"y\":[3597,610,269],\"yaxis\":\"y\",\"type\":\"scatter\"},{\"hovertemplate\":\"color=Residencial<br>x=%{x}<br>y=%{y}<extra></extra>\",\"legendgroup\":\"Residencial\",\"marker\":{\"color\":\"#FF6692\",\"symbol\":\"circle\"},\"mode\":\"markers\",\"name\":\"Residencial\",\"orientation\":\"v\",\"showlegend\":true,\"x\":[0.0,0.96,3.71,94.0,70.25,0.0,13.99,78.55,75.44,79.4],\"xaxis\":\"x\",\"y\":[0,2823,98,61,218,0,3677,919,1409,2210],\"yaxis\":\"y\",\"type\":\"scatter\"},{\"hovertemplate\":\"color=Outros<br>x=%{x}<br>y=%{y}<extra></extra>\",\"legendgroup\":\"Outros\",\"marker\":{\"color\":\"#B6E880\",\"symbol\":\"circle\"},\"mode\":\"markers\",\"name\":\"Outros\",\"orientation\":\"v\",\"showlegend\":true,\"x\":[42.42,910.0,1520.0,79.6,8.06,7.73,103.7,0.0,103.3,10.82,106.03,0.0,119.49,85.4,93.98,49.88,39.97,126.47,82.99,98.7,134.1,9.18,107.29,46.93,9.31,79.0,85.6,8.86,106.66,66.5,143.0,99.99,61.73,135.0,690.0,91.19,88.99,86.0,75.45,100.64,121.72,87.0],\"xaxis\":\"x\",\"y\":[408,5495,300,1366,109581,107752,36579,0,601,541,184,0,751,244,21080,17020,692,22874,305,10284,1062,153140,20946,5852,16128,1885,7409,68383,68983,2338,285,23,31884,499,126,51020,13,156,39,17428,91,8717],\"yaxis\":\"y\",\"type\":\"scatter\"},{\"hovertemplate\":\"color=Hospital<br>x=%{x}<br>y=%{y}<extra></extra>\",\"legendgroup\":\"Hospital\",\"marker\":{\"color\":\"#FF97FF\",\"symbol\":\"circle\"},\"mode\":\"markers\",\"name\":\"Hospital\",\"orientation\":\"v\",\"showlegend\":true,\"x\":[240.99,160.0,10.25],\"xaxis\":\"x\",\"y\":[49,977,267],\"yaxis\":\"y\",\"type\":\"scatter\"}],                        {\"template\":{\"data\":{\"histogram2dcontour\":[{\"type\":\"histogram2dcontour\",\"colorbar\":{\"outlinewidth\":0,\"ticks\":\"\"},\"colorscale\":[[0.0,\"#0d0887\"],[0.1111111111111111,\"#46039f\"],[0.2222222222222222,\"#7201a8\"],[0.3333333333333333,\"#9c179e\"],[0.4444444444444444,\"#bd3786\"],[0.5555555555555556,\"#d8576b\"],[0.6666666666666666,\"#ed7953\"],[0.7777777777777778,\"#fb9f3a\"],[0.8888888888888888,\"#fdca26\"],[1.0,\"#f0f921\"]]}],\"choropleth\":[{\"type\":\"choropleth\",\"colorbar\":{\"outlinewidth\":0,\"ticks\":\"\"}}],\"histogram2d\":[{\"type\":\"histogram2d\",\"colorbar\":{\"outlinewidth\":0,\"ticks\":\"\"},\"colorscale\":[[0.0,\"#0d0887\"],[0.1111111111111111,\"#46039f\"],[0.2222222222222222,\"#7201a8\"],[0.3333333333333333,\"#9c179e\"],[0.4444444444444444,\"#bd3786\"],[0.5555555555555556,\"#d8576b\"],[0.6666666666666666,\"#ed7953\"],[0.7777777777777778,\"#fb9f3a\"],[0.8888888888888888,\"#fdca26\"],[1.0,\"#f0f921\"]]}],\"heatmap\":[{\"type\":\"heatmap\",\"colorbar\":{\"outlinewidth\":0,\"ticks\":\"\"},\"colorscale\":[[0.0,\"#0d0887\"],[0.1111111111111111,\"#46039f\"],[0.2222222222222222,\"#7201a8\"],[0.3333333333333333,\"#9c179e\"],[0.4444444444444444,\"#bd3786\"],[0.5555555555555556,\"#d8576b\"],[0.6666666666666666,\"#ed7953\"],[0.7777777777777778,\"#fb9f3a\"],[0.8888888888888888,\"#fdca26\"],[1.0,\"#f0f921\"]]}],\"heatmapgl\":[{\"type\":\"heatmapgl\",\"colorbar\":{\"outlinewidth\":0,\"ticks\":\"\"},\"colorscale\":[[0.0,\"#0d0887\"],[0.1111111111111111,\"#46039f\"],[0.2222222222222222,\"#7201a8\"],[0.3333333333333333,\"#9c179e\"],[0.4444444444444444,\"#bd3786\"],[0.5555555555555556,\"#d8576b\"],[0.6666666666666666,\"#ed7953\"],[0.7777777777777778,\"#fb9f3a\"],[0.8888888888888888,\"#fdca26\"],[1.0,\"#f0f921\"]]}],\"contourcarpet\":[{\"type\":\"contourcarpet\",\"colorbar\":{\"outlinewidth\":0,\"ticks\":\"\"}}],\"contour\":[{\"type\":\"contour\",\"colorbar\":{\"outlinewidth\":0,\"ticks\":\"\"},\"colorscale\":[[0.0,\"#0d0887\"],[0.1111111111111111,\"#46039f\"],[0.2222222222222222,\"#7201a8\"],[0.3333333333333333,\"#9c179e\"],[0.4444444444444444,\"#bd3786\"],[0.5555555555555556,\"#d8576b\"],[0.6666666666666666,\"#ed7953\"],[0.7777777777777778,\"#fb9f3a\"],[0.8888888888888888,\"#fdca26\"],[1.0,\"#f0f921\"]]}],\"surface\":[{\"type\":\"surface\",\"colorbar\":{\"outlinewidth\":0,\"ticks\":\"\"},\"colorscale\":[[0.0,\"#0d0887\"],[0.1111111111111111,\"#46039f\"],[0.2222222222222222,\"#7201a8\"],[0.3333333333333333,\"#9c179e\"],[0.4444444444444444,\"#bd3786\"],[0.5555555555555556,\"#d8576b\"],[0.6666666666666666,\"#ed7953\"],[0.7777777777777778,\"#fb9f3a\"],[0.8888888888888888,\"#fdca26\"],[1.0,\"#f0f921\"]]}],\"mesh3d\":[{\"type\":\"mesh3d\",\"colorbar\":{\"outlinewidth\":0,\"ticks\":\"\"}}],\"scatter\":[{\"marker\":{\"line\":{\"color\":\"#283442\"}},\"type\":\"scatter\"}],\"parcoords\":[{\"type\":\"parcoords\",\"line\":{\"colorbar\":{\"outlinewidth\":0,\"ticks\":\"\"}}}],\"scatterpolargl\":[{\"type\":\"scatterpolargl\",\"marker\":{\"colorbar\":{\"outlinewidth\":0,\"ticks\":\"\"}}}],\"bar\":[{\"error_x\":{\"color\":\"#f2f5fa\"},\"error_y\":{\"color\":\"#f2f5fa\"},\"marker\":{\"line\":{\"color\":\"rgb(17,17,17)\",\"width\":0.5},\"pattern\":{\"fillmode\":\"overlay\",\"size\":10,\"solidity\":0.2}},\"type\":\"bar\"}],\"scattergeo\":[{\"type\":\"scattergeo\",\"marker\":{\"colorbar\":{\"outlinewidth\":0,\"ticks\":\"\"}}}],\"scatterpolar\":[{\"type\":\"scatterpolar\",\"marker\":{\"colorbar\":{\"outlinewidth\":0,\"ticks\":\"\"}}}],\"histogram\":[{\"marker\":{\"pattern\":{\"fillmode\":\"overlay\",\"size\":10,\"solidity\":0.2}},\"type\":\"histogram\"}],\"scattergl\":[{\"marker\":{\"line\":{\"color\":\"#283442\"}},\"type\":\"scattergl\"}],\"scatter3d\":[{\"type\":\"scatter3d\",\"line\":{\"colorbar\":{\"outlinewidth\":0,\"ticks\":\"\"}},\"marker\":{\"colorbar\":{\"outlinewidth\":0,\"ticks\":\"\"}}}],\"scattermapbox\":[{\"type\":\"scattermapbox\",\"marker\":{\"colorbar\":{\"outlinewidth\":0,\"ticks\":\"\"}}}],\"scatterternary\":[{\"type\":\"scatterternary\",\"marker\":{\"colorbar\":{\"outlinewidth\":0,\"ticks\":\"\"}}}],\"scattercarpet\":[{\"type\":\"scattercarpet\",\"marker\":{\"colorbar\":{\"outlinewidth\":0,\"ticks\":\"\"}}}],\"carpet\":[{\"aaxis\":{\"endlinecolor\":\"#A2B1C6\",\"gridcolor\":\"#506784\",\"linecolor\":\"#506784\",\"minorgridcolor\":\"#506784\",\"startlinecolor\":\"#A2B1C6\"},\"baxis\":{\"endlinecolor\":\"#A2B1C6\",\"gridcolor\":\"#506784\",\"linecolor\":\"#506784\",\"minorgridcolor\":\"#506784\",\"startlinecolor\":\"#A2B1C6\"},\"type\":\"carpet\"}],\"table\":[{\"cells\":{\"fill\":{\"color\":\"#506784\"},\"line\":{\"color\":\"rgb(17,17,17)\"}},\"header\":{\"fill\":{\"color\":\"#2a3f5f\"},\"line\":{\"color\":\"rgb(17,17,17)\"}},\"type\":\"table\"}],\"barpolar\":[{\"marker\":{\"line\":{\"color\":\"rgb(17,17,17)\",\"width\":0.5},\"pattern\":{\"fillmode\":\"overlay\",\"size\":10,\"solidity\":0.2}},\"type\":\"barpolar\"}],\"pie\":[{\"automargin\":true,\"type\":\"pie\"}]},\"layout\":{\"autotypenumbers\":\"strict\",\"colorway\":[\"#636efa\",\"#EF553B\",\"#00cc96\",\"#ab63fa\",\"#FFA15A\",\"#19d3f3\",\"#FF6692\",\"#B6E880\",\"#FF97FF\",\"#FECB52\"],\"font\":{\"color\":\"#f2f5fa\"},\"hovermode\":\"closest\",\"hoverlabel\":{\"align\":\"left\"},\"paper_bgcolor\":\"rgb(17,17,17)\",\"plot_bgcolor\":\"rgb(17,17,17)\",\"polar\":{\"bgcolor\":\"rgb(17,17,17)\",\"angularaxis\":{\"gridcolor\":\"#506784\",\"linecolor\":\"#506784\",\"ticks\":\"\"},\"radialaxis\":{\"gridcolor\":\"#506784\",\"linecolor\":\"#506784\",\"ticks\":\"\"}},\"ternary\":{\"bgcolor\":\"rgb(17,17,17)\",\"aaxis\":{\"gridcolor\":\"#506784\",\"linecolor\":\"#506784\",\"ticks\":\"\"},\"baxis\":{\"gridcolor\":\"#506784\",\"linecolor\":\"#506784\",\"ticks\":\"\"},\"caxis\":{\"gridcolor\":\"#506784\",\"linecolor\":\"#506784\",\"ticks\":\"\"}},\"coloraxis\":{\"colorbar\":{\"outlinewidth\":0,\"ticks\":\"\"}},\"colorscale\":{\"sequential\":[[0.0,\"#0d0887\"],[0.1111111111111111,\"#46039f\"],[0.2222222222222222,\"#7201a8\"],[0.3333333333333333,\"#9c179e\"],[0.4444444444444444,\"#bd3786\"],[0.5555555555555556,\"#d8576b\"],[0.6666666666666666,\"#ed7953\"],[0.7777777777777778,\"#fb9f3a\"],[0.8888888888888888,\"#fdca26\"],[1.0,\"#f0f921\"]],\"sequentialminus\":[[0.0,\"#0d0887\"],[0.1111111111111111,\"#46039f\"],[0.2222222222222222,\"#7201a8\"],[0.3333333333333333,\"#9c179e\"],[0.4444444444444444,\"#bd3786\"],[0.5555555555555556,\"#d8576b\"],[0.6666666666666666,\"#ed7953\"],[0.7777777777777778,\"#fb9f3a\"],[0.8888888888888888,\"#fdca26\"],[1.0,\"#f0f921\"]],\"diverging\":[[0,\"#8e0152\"],[0.1,\"#c51b7d\"],[0.2,\"#de77ae\"],[0.3,\"#f1b6da\"],[0.4,\"#fde0ef\"],[0.5,\"#f7f7f7\"],[0.6,\"#e6f5d0\"],[0.7,\"#b8e186\"],[0.8,\"#7fbc41\"],[0.9,\"#4d9221\"],[1,\"#276419\"]]},\"xaxis\":{\"gridcolor\":\"#283442\",\"linecolor\":\"#506784\",\"ticks\":\"\",\"title\":{\"standoff\":15},\"zerolinecolor\":\"#283442\",\"automargin\":true,\"zerolinewidth\":2},\"yaxis\":{\"gridcolor\":\"#283442\",\"linecolor\":\"#506784\",\"ticks\":\"\",\"title\":{\"standoff\":15},\"zerolinecolor\":\"#283442\",\"automargin\":true,\"zerolinewidth\":2},\"scene\":{\"xaxis\":{\"backgroundcolor\":\"rgb(17,17,17)\",\"gridcolor\":\"#506784\",\"linecolor\":\"#506784\",\"showbackground\":true,\"ticks\":\"\",\"zerolinecolor\":\"#C8D4E3\",\"gridwidth\":2},\"yaxis\":{\"backgroundcolor\":\"rgb(17,17,17)\",\"gridcolor\":\"#506784\",\"linecolor\":\"#506784\",\"showbackground\":true,\"ticks\":\"\",\"zerolinecolor\":\"#C8D4E3\",\"gridwidth\":2},\"zaxis\":{\"backgroundcolor\":\"rgb(17,17,17)\",\"gridcolor\":\"#506784\",\"linecolor\":\"#506784\",\"showbackground\":true,\"ticks\":\"\",\"zerolinecolor\":\"#C8D4E3\",\"gridwidth\":2}},\"shapedefaults\":{\"line\":{\"color\":\"#f2f5fa\"}},\"annotationdefaults\":{\"arrowcolor\":\"#f2f5fa\",\"arrowhead\":0,\"arrowwidth\":1},\"geo\":{\"bgcolor\":\"rgb(17,17,17)\",\"landcolor\":\"rgb(17,17,17)\",\"subunitcolor\":\"#506784\",\"showland\":true,\"showlakes\":true,\"lakecolor\":\"rgb(17,17,17)\"},\"title\":{\"x\":0.05},\"updatemenudefaults\":{\"bgcolor\":\"#506784\",\"borderwidth\":0},\"sliderdefaults\":{\"bgcolor\":\"#C8D4E3\",\"borderwidth\":1,\"bordercolor\":\"rgb(17,17,17)\",\"tickwidth\":0},\"mapbox\":{\"style\":\"dark\"}}},\"xaxis\":{\"anchor\":\"y\",\"domain\":[0.0,1.0],\"title\":{\"text\":\"x\"}},\"yaxis\":{\"anchor\":\"x\",\"domain\":[0.0,1.0],\"title\":{\"text\":\"y\"}},\"legend\":{\"title\":{\"text\":\"color\"},\"tracegroupgap\":0},\"margin\":{\"t\":60}},                        {\"responsive\": true}                    ).then(function(){\n                            \nvar gd = document.getElementById('2b73cd87-6bb9-44f0-a389-34c845182120');\nvar x = new MutationObserver(function (mutations, observer) {{\n        var display = window.getComputedStyle(gd).display;\n        if (!display || display === 'none') {{\n            console.log([gd, 'removed!']);\n            Plotly.purge(gd);\n            observer.disconnect();\n        }}\n}});\n\n// Listen for the removal of the full notebook cells\nvar notebookContainer = gd.closest('#notebook-container');\nif (notebookContainer) {{\n    x.observe(notebookContainer, {childList: true});\n}}\n\n// Listen for the clearing of the current output cell\nvar outputEl = gd.closest('.output');\nif (outputEl) {{\n    x.observe(outputEl, {childList: true});\n}}\n\n                        })                };                });            </script>        </div>"
     },
     "metadata": {},
     "output_type": "display_data"
    }
   ],
   "source": [
    "grafico_c_rt = px.scatter(y=lista_lq, x=lista_vc, color=lista_rt, labels=nome_rotulo)\n",
    "grafico_c_rt.show()"
   ],
   "metadata": {
    "collapsed": false,
    "pycharm": {
     "name": "#%%\n"
    }
   }
  },
  {
   "cell_type": "code",
   "execution_count": 39,
   "outputs": [],
   "source": [
    "import matplotlib.pyplot as plt\n",
    "from scipy.cluster.hierarchy import dendrogram, linkage"
   ],
   "metadata": {
    "collapsed": false,
    "pycharm": {
     "name": "#%%\n"
    }
   }
  },
  {
   "cell_type": "markdown",
   "source": [
    "gerando as linhas de hieraquia"
   ],
   "metadata": {
    "collapsed": false,
    "pycharm": {
     "name": "#%% md\n"
    }
   }
  },
  {
   "cell_type": "code",
   "execution_count": 40,
   "outputs": [
    {
     "data": {
      "text/plain": "<Figure size 640x480 with 1 Axes>",
      "image/png": "[encoded data removed]"
     },
     "metadata": {},
     "output_type": "display_data"
    }
   ],
   "source": [
    "dendograma = dendrogram(linkage(base_cotacoes, method='ward'))\n",
    "plt.title('Dendograma')\n",
    "plt.xlabel('ações')\n",
    "plt.ylabel('distancia')\n",
    "plt.show()"
   ],
   "metadata": {
    "collapsed": false,
    "pycharm": {
     "name": "#%%\n"
    }
   }
  },
  {
   "cell_type": "markdown",
   "source": [
    "com sklearn"
   ],
   "metadata": {
    "collapsed": false,
    "pycharm": {
     "name": "#%% md\n"
    }
   }
  },
  {
   "cell_type": "code",
   "execution_count": 41,
   "outputs": [],
   "source": [
    "from sklearn.cluster import AgglomerativeClustering"
   ],
   "metadata": {
    "collapsed": false,
    "pycharm": {
     "name": "#%%\n"
    }
   }
  },
  {
   "cell_type": "code",
   "execution_count": 42,
   "outputs": [],
   "source": [
    "hc_cotas = AgglomerativeClustering(n_clusters=4, linkage='ward', affinity='euclidean')\n",
    "rotulos = hc_cotas.fit_predict(base_cotacoes)"
   ],
   "metadata": {
    "collapsed": false,
    "pycharm": {
     "name": "#%%\n"
    }
   }
  },
  {
   "cell_type": "code",
   "execution_count": 43,
   "outputs": [
    {
     "data": {
      "text/plain": "array([1, 1, 1, 1, 1, 1, 1, 1, 1, 1, 1, 1, 1, 1, 1, 1, 1, 1, 1, 1, 1, 1,\n       1, 1, 1, 1, 1, 1, 1, 1, 1, 1, 1, 1, 1, 1, 1, 0, 1, 1, 1, 1, 1, 1,\n       0, 1, 1, 1, 1, 1, 1, 1, 0, 1, 0, 0, 1, 1, 1, 1, 1, 1, 1, 1, 1, 1,\n       1, 1, 1, 1, 1, 1, 1, 0, 1, 1, 1, 1, 1, 1, 1, 1, 1, 1, 1, 1, 1, 1,\n       0, 1, 1, 1, 1, 0, 1, 1, 1, 1, 1, 1, 1, 1, 0, 1, 1, 1, 1, 1, 1, 1,\n       1, 1, 1, 1, 1, 1, 1, 1, 1, 1, 1, 1, 1, 1, 0, 1, 1, 1, 1, 1, 2, 1,\n       1, 1, 1, 1, 1, 1, 1, 1, 1, 1, 1, 1, 1, 1, 1, 1, 1, 1, 1, 1, 1, 1,\n       1, 1, 1, 1, 1, 1, 1, 1, 1, 1, 1, 0, 0, 1, 1, 1, 1, 1, 1, 1, 1, 1,\n       1, 1, 1, 1, 1, 1, 1, 1, 1, 1, 1, 1, 1, 1, 1, 1, 1, 1, 1, 1, 1, 1,\n       0, 1, 1, 1, 1, 1, 0, 0, 1, 1, 1, 1, 1, 1, 1, 1, 1, 1, 1, 1, 1, 1,\n       1, 1, 1, 1, 0, 1, 1, 1, 1, 1, 1, 1, 1, 1, 1, 1, 1, 1, 1, 0, 1, 1,\n       0, 1, 1, 0, 1, 1, 1, 1, 1, 1, 1, 1, 1, 1, 1, 1, 1, 1, 1, 1, 1, 1,\n       1, 1, 1, 1, 0, 1, 1, 1, 1, 1, 3, 1, 1, 1, 1, 1, 1, 1, 1],\n      dtype=int64)"
     },
     "execution_count": 43,
     "metadata": {},
     "output_type": "execute_result"
    }
   ],
   "source": [
    "rotulos"
   ],
   "metadata": {
    "collapsed": false,
    "pycharm": {
     "name": "#%%\n"
    }
   }
  },
  {
   "cell_type": "code",
   "execution_count": 44,
   "outputs": [
    {
     "data": {
      "application/vnd.plotly.v1+json": {
       "data": [
        {
         "hovertemplate": "x=%{x}<br>y=%{y}<br>color=%{marker.color}<extra></extra>",
         "legendgroup": "",
         "marker": {
          "color": [
           1,
           1,
           1,
           1,
           1,
           1,
           1,
           1,
           1,
           1,
           1,
           1,
           1,
           1,
           1,
           1,
           1,
           1,
           1,
           1,
           1,
           1,
           1,
           1,
           1,
           1,
           1,
           1,
           1,
           1,
           1,
           1,
           1,
           1,
           1,
           1,
           1,
           0,
           1,
           1,
           1,
           1,
           1,
           1,
           0,
           1,
           1,
           1,
           1,
           1,
           1,
           1,
           0,
           1,
           0,
           0,
           1,
           1,
           1,
           1,
           1,
           1,
           1,
           1,
           1,
           1,
           1,
           1,
           1,
           1,
           1,
           1,
           1,
           0,
           1,
           1,
           1,
           1,
           1,
           1,
           1,
           1,
           1,
           1,
           1,
           1,
           1,
           1,
           0,
           1,
           1,
           1,
           1,
           0,
           1,
           1,
           1,
           1,
           1,
           1,
           1,
           1,
           0,
           1,
           1,
           1,
           1,
           1,
           1,
           1,
           1,
           1,
           1,
           1,
           1,
           1,
           1,
           1,
           1,
           1,
           1,
           1,
           1,
           1,
           0,
           1,
           1,
           1,
           1,
           1,
           2,
           1,
           1,
           1,
           1,
           1,
           1,
           1,
           1,
           1,
           1,
           1,
           1,
           1,
           1,
           1,
           1,
           1,
           1,
           1,
           1,
           1,
           1,
           1,
           1,
           1,
           1,
           1,
           1,
           1,
           1,
           1,
           1,
           1,
           1,
           0,
           0,
           1,
           1,
           1,
           1,
           1,
           1,
           1,
           1,
           1,
           1,
           1,
           1,
           1,
           1,
           1,
           1,
           1,
           1,
           1,
           1,
           1,
           1,
           1,
           1,
           1,
           1,
           1,
           1,
           1,
           1,
           1,
           0,
           1,
           1,
           1,
           1,
           1,
           0,
           0,
           1,
           1,
           1,
           1,
           1,
           1,
           1,
           1,
           1,
           1,
           1,
           1,
           1,
           1,
           1,
           1,
           1,
           1,
           0,
           1,
           1,
           1,
           1,
           1,
           1,
           1,
           1,
           1,
           1,
           1,
           1,
           1,
           1,
           0,
           1,
           1,
           0,
           1,
           1,
           0,
           1,
           1,
           1,
           1,
           1,
           1,
           1,
           1,
           1,
           1,
           1,
           1,
           1,
           1,
           1,
           1,
           1,
           1,
           1,
           1,
           1,
           1,
           0,
           1,
           1,
           1,
           1,
           1,
           3,
           1,
           1,
           1,
           1,
           1,
           1,
           1,
           1
          ],
          "coloraxis": "coloraxis",
          "symbol": "circle"
         },
         "mode": "markers",
         "name": "",
         "orientation": "v",
         "showlegend": false,
         "x": [
          -0.10032555099918383,
          -0.09771609791968774,
          -0.09949738853645415,
          0.07751121804355231,
          -0.09883867107888655,
          -0.08113166803944878,
          -0.06588161757486122,
          -0.08283459034132773,
          -0.026485653874676707,
          -0.07636602726926517,
          -0.09987863979806884,
          -0.09366000810862035,
          -0.07710734916684929,
          0.06522645516930123,
          -0.087695543926915,
          -0.10082964988954103,
          -0.10062631588334654,
          -0.10004384867810187,
          -0.09340372253831271,
          -0.09184482849082153,
          0.09191404348232944,
          0.1109766065630639,
          -0.10060937138283033,
          -0.08348483554863723,
          -0.08091986178299618,
          -0.049786460147027777,
          -0.08251264483151975,
          -0.09812276593207675,
          0.22111585991841845,
          -0.09932582546872754,
          -0.08595026037374554,
          -0.0999633623006499,
          -0.08396987187591369,
          -0.10082964988954103,
          -0.09480376189346443,
          -0.10082964988954103,
          -0.08759175886125323,
          -0.09912249146253305,
          -0.07989471950176558,
          -0.08180944806009711,
          -0.059527429881283074,
          -0.082207643822228,
          -0.10082964988954103,
          -0.08028444301363837,
          -0.0809537507840286,
          -0.08025902626286405,
          -0.06838516752613101,
          -0.09786648036176909,
          -0.08123545310511056,
          -0.07988624725150746,
          -0.0798332956873943,
          -0.07446188902375625,
          -0.09883867107888655,
          -0.08282611809106961,
          -0.09919238752716239,
          -0.08224365088582496,
          -0.08558595361264706,
          -0.0836860514922672,
          -0.08688856208983058,
          -0.07925294654471417,
          -0.08617265694302077,
          -0.08419226844518891,
          -0.07886534109540591,
          -0.0776368648079808,
          -0.10082964988954103,
          -0.0917198627995145,
          -0.08388514937333265,
          -0.0822796579494219,
          -0.08280493746542436,
          -0.08485098590275653,
          -0.10082964988954103,
          -0.08547157823416265,
          -0.08923749347388997,
          -0.09865863576090184,
          -0.09781988298534952,
          -0.07710734916684929,
          -0.07785078912699793,
          -0.06694064885712425,
          -0.08053861052138148,
          0.36090798917713773,
          -0.07976339962276495,
          -5.372693966680802E-4,
          -0.07895006359798694,
          -0.09853790619472386,
          -0.08075041677783408,
          -0.08710460447141223,
          -0.08214833807042128,
          -0.0910929162804148,
          -0.0790856196021166,
          -0.08257406864589102,
          -0.07820026945014473,
          -0.08134771042103044,
          -0.0817670868088066,
          -0.09910131083688778,
          -0.07837183251787133,
          -0.08820599700496577,
          -0.08221611607248612,
          -0.077367870862286,
          -0.08485945815301461,
          -0.0821822270714537,
          -0.09221337137704906,
          -0.08171413524469344,
          -0.09909707471175873,
          -0.10082964988954103,
          -0.09009107268739397,
          -0.09115222203222152,
          -0.0673600252449004,
          -0.08564314130188927,
          -0.07848408983379122,
          -0.0838491423097357,
          -0.0840122331272042,
          -0.08255076995768122,
          -0.07552092030601927,
          -0.0821737548211956,
          -0.09884078914145109,
          -0.08517716753769353,
          -0.08435959538778648,
          -0.08088809084452828,
          -0.08259524927153629,
          -0.07849256208404932,
          -0.08091986178299618,
          -0.07855822202354962,
          -0.08069534715115641,
          -0.08403129569028493,
          -0.09852096169420765,
          -0.08812339256494926,
          -0.04597818365600993,
          -0.06493060748338902,
          -0.07880179921847012,
          -0.07101368316870783,
          -0.09866075382346635,
          -0.08274139558848857,
          -0.08092409790812523,
          -0.10082964988954103,
          -0.0902647538176851,
          -0.07791856712906275,
          -0.08330480023065251,
          -0.09236375381913042,
          -0.08452480426781951,
          -0.07404251263598009,
          -0.07892888297234169,
          -0.08325184866653935,
          -0.08311417459984516,
          -0.08063604139934968,
          -0.08007263675718575,
          -0.07837818670556491,
          -0.07992437237766893,
          -0.08414355300620481,
          0.06861535527254291,
          -0.07793974775470802,
          -0.08059156208549463,
          -0.07630883958002296,
          -0.08522800103924215,
          -0.08145361354925673,
          -0.079280481358053,
          -0.07242643089924672,
          -0.08007899094487934,
          -0.08873551264609729,
          -0.09865863576090184,
          -0.08076524321578576,
          -0.05703023411770686,
          -0.08473237439914307,
          0.3211943160922743,
          -0.08839662263577312,
          -0.08432782444931858,
          -0.09872217763783762,
          -0.09888526845530612,
          -0.08031409588954172,
          -0.08505008378382196,
          -0.0992644016543563,
          -0.07802870638241811,
          -0.08029503332646099,
          -0.07848620789635574,
          -0.07965114230684507,
          -0.08198948337808183,
          -0.08070805552654357,
          -0.05499901211832638,
          -0.050455767917418,
          -0.09492237339707789,
          -0.08994069024531261,
          -0.03792319172311737,
          -0.07810495663474105,
          -0.08549911304750149,
          -0.08291084059365067,
          4.982308698716524,
          -0.08395080931283296,
          -0.08345941879786291,
          -0.08081395865476987,
          -0.09088958227422028,
          -0.08534237641772656,
          -0.07644651364671716,
          -0.08652849145386116,
          -0.08682925633802385,
          -0.08091986178299618,
          -0.07250903533926324,
          -0.09937030478258259,
          -0.08007263675718575,
          -0.09885773364196729,
          -0.09922627652819482,
          -0.0830358062849577,
          -0.08409695562978525,
          -0.08617265694302077,
          -0.08140913423540169,
          -0.08269903433719807,
          -0.09895304645737095,
          -0.07823839457630619,
          -0.08674453383544281,
          -0.08019972051105731,
          -0.08342129367170144,
          -0.08588036430911618,
          -0.08124816148049771,
          -0.08785228055668994,
          -0.08259101314640722,
          -0.07054135521681854,
          -0.08052166602086527,
          -0.0903452401951371,
          -0.07923176591906891,
          -0.08414143494364029,
          -0.08026114432542857,
          -0.07965114230684507,
          -0.08019124826079921,
          -0.08775484967872173,
          -0.08008746319513743,
          -0.08759175886125323,
          -0.0811337861020133,
          -0.08251688095664882,
          -0.07223580526843937,
          -0.07161097681190419,
          0.04531666706275636,
          -0.06640901515342822,
          -0.08145149548669221,
          -0.08545463373364645,
          -0.08395080931283296,
          -0.0811825015409974,
          -0.08676571446108806,
          -0.08182003837291975,
          -0.07882509790667991,
          -0.08482133302685316,
          -0.07856669427380773,
          -0.07934614129755331,
          -0.0987772472645153,
          -0.08489122909148251,
          -0.09866922607372447,
          -0.08151503736362799,
          -0.07949016955194109,
          -0.09879630982759602,
          -0.0801827760105411,
          -0.08178191324675828,
          -0.08064239558704327,
          -0.08536779316850088,
          -0.08567703030292168,
          -0.08167177399340292,
          -0.08454174876833571,
          -0.08198101112782372,
          -0.07965114230684507,
          -0.08651790114103852,
          -0.08377924624510634,
          -0.08367334311688003,
          -0.07619658226410309,
          -0.07168087287653355,
          -0.07950287792732824,
          -0.07978881637353927,
          -0.0817755590590647,
          -0.08261431183461701,
          -0.084848867840192,
          -0.08244910295458398,
          -0.0794499263632151,
          -0.08049836733265549,
          -0.07912162666571355,
          -0.07806259538345053,
          -0.07951346824015088,
          -0.08064451364960779,
          -0.08068052071320474,
          -0.08070805552654357,
          15.996445840508432,
          -0.07886745915797043,
          -0.07504859235412997,
          -0.07599960244560215,
          0.23382211724301022,
          -0.09332535422342524,
          -0.0824025055781644,
          -0.09651303838303694,
          -0.08134347429590139
         ],
         "xaxis": "x",
         "y": [
          -0.26077940861396326,
          0.4184085461563666,
          -0.25672913778935363,
          -0.30038387131427946,
          -0.29976326530083125,
          -0.30080849648137564,
          -0.2975911442537623,
          -0.3006778425838076,
          -0.30077583300698363,
          -0.24211223299892765,
          -0.2787443195295706,
          -0.3003185443654955,
          -0.30077583300698363,
          -0.30018789046792743,
          -0.3003022126282995,
          -0.30085749169296366,
          -0.25475299758863684,
          -0.29925698144775503,
          -0.3004981934746515,
          -0.294194142916993,
          -0.21111459580090697,
          -0.3004655300002595,
          -0.2660708914654695,
          -0.2757229481483094,
          -0.2998612557240073,
          -0.3000572365703594,
          -0.3007431695325916,
          -0.29749315383058633,
          -0.2959579705341617,
          -0.3000899000447514,
          -0.29729717298423425,
          -0.08062401560481358,
          -0.27854833868321854,
          -0.30085749169296366,
          -0.21663472297315722,
          -0.30085749169296366,
          -0.2984403945879547,
          1.4887906019826445,
          -0.30000824135877135,
          0.04828238608326715,
          -0.3007105060581996,
          -0.3004818617374555,
          -0.30085749169296366,
          -0.2661035549398615,
          0.8372196148107619,
          0.2833450795453913,
          0.22494278733247142,
          -0.2408056940232471,
          -0.1925944058206354,
          -0.2915973967028279,
          -0.04946306103483284,
          0.23059356840228973,
          0.698138540849569,
          -0.15584799712962036,
          1.4589198546511484,
          1.2146460614104764,
          -0.2892782900209949,
          -0.29301825783888047,
          -0.2948964076164212,
          -0.2412303191903433,
          -0.15944097931274184,
          -0.28584862520983356,
          0.2965411231997647,
          -0.29956728445447917,
          -0.30085749169296366,
          -0.2266297461371133,
          0.0043336812888131685,
          -0.2974114951446063,
          -0.2167980403451173,
          -0.27784607398379024,
          -0.30085749169296366,
          -0.3004981934746515,
          -0.2549489784349889,
          1.5978702747147733,
          -0.19739593655626136,
          -0.2908951320033996,
          -0.08232251627319828,
          -0.28490138445246516,
          0.2129552922306025,
          -0.29995924614718333,
          -0.29683988434274605,
          -0.28692651986476997,
          -0.2910421176381637,
          -0.29202202186992404,
          -0.11147466716807021,
          -0.2973951634074103,
          -0.24701175415772966,
          -0.299191654498971,
          1.1947050102941523,
          0.44803431742992267,
          -0.1776998614978773,
          -0.2463911481442814,
          0.4385292463818468,
          1.903012452484962,
          -0.29785245204889843,
          -0.22555185148217688,
          -0.30084115995576766,
          0.0929333555771494,
          0.12384933408919006,
          -0.30062884737221957,
          -0.29029085772714736,
          -0.2683899981473024,
          0.7182102458634612,
          -0.30085749169296366,
          0.24071924546381387,
          -0.19109188599860277,
          -0.29198935839553203,
          -0.264976665073337,
          0.03320819265135298,
          -0.2476160284339819,
          -0.2647643524897889,
          -0.2229224417936198,
          -0.2885923570587627,
          -0.284558417971349,
          -0.23326043143869202,
          -0.25744773422597794,
          -0.2412466509275393,
          -0.2712480521566036,
          -0.21296008210405573,
          -0.23667376451265743,
          0.09770222283838337,
          0.1818923280837978,
          -0.1833179790933036,
          -0.23644512019191333,
          0.9674488872117192,
          -0.2945534411353051,
          -0.2951250519371653,
          0.22314629624091067,
          0.15342611015115815,
          0.1263480898801791,
          13.5721856646665,
          -0.29687254781713807,
          0.04341552839885716,
          -0.30085749169296366,
          -0.02289132461692997,
          0.3710955034995352,
          -0.11078873420583793,
          -0.28955592955332704,
          -0.24088735270922715,
          0.07271466492849314,
          0.20108211928910566,
          -0.29587631184818164,
          -0.19252907887185136,
          0.16422138843771858,
          -0.3006941743210036,
          -0.11078873420583793,
          -0.13290190636923097,
          -0.26776939213385414,
          -0.2985383850111307,
          -0.074319965047155,
          -0.113418143894395,
          -0.1715917917865708,
          -0.2776664248746342,
          -0.1205061178374619,
          -0.25587988745516127,
          -0.28351318679080456,
          -0.30023688567951545,
          -0.29904466886420694,
          -0.2964969178616299,
          -0.28708983723673004,
          -0.16971364200903002,
          -0.2962029465921018,
          -0.2982280820044066,
          -0.1813745023669788,
          -0.06674203898820791,
          5.072594348799958,
          2.2001847425034997,
          -0.09720072885876037,
          -0.29770546641413437,
          0.5095069762356919,
          -0.020702871832665073,
          -0.14379517507896744,
          -0.29631726875247383,
          0.5160723345884866,
          -0.2518949435793357,
          -0.019461659805768566,
          -0.29956728445447917,
          -0.29973060182643924,
          -0.29548435015547747,
          -0.3000899000447514,
          -0.3001225635191434,
          0.04122707561459226,
          -0.30084115995576766,
          -0.26149800505058757,
          -0.30084115995576766,
          -0.2612856924670395,
          -0.19034062608758648,
          -0.30082482821857165,
          -0.20528416562193258,
          -0.29930597665934305,
          0.12324505981293782,
          -0.29768913467693836,
          0.03188532193847644,
          -0.3006778425838076,
          -0.296725562182374,
          -0.2863222455885177,
          -0.2579050228674661,
          -0.03745923419576793,
          1.2831576989477245,
          -0.2994202988197151,
          -0.2700721670784911,
          0.3675841800023938,
          -0.23838859691823813,
          -0.17985565080775018,
          0.8159556929815612,
          0.8257547352991652,
          -0.26267389012870007,
          0.20059216717322545,
          -0.22125660459962712,
          0.4232100768919925,
          -0.005906317933083021,
          -0.2769314967008139,
          -0.08666675836733606,
          -0.2962029465921018,
          0.6083793132203162,
          -0.25223791006045176,
          -0.2696475419113949,
          -0.28870667921913473,
          -0.3004165347886715,
          -0.3004818617374555,
          -0.19899644680147002,
          0.21986361706451335,
          -0.28539133656834537,
          -0.06194050825258195,
          0.8207735554543831,
          -0.2532994729781922,
          -0.29270795483215634,
          -0.2192967961361063,
          -0.29879969280626684,
          -0.2955660088414575,
          -0.30077583300698363,
          -0.21686336729390132,
          -0.26192263021768375,
          0.11720231705041534,
          -0.2694352293278468,
          -0.23567752854370103,
          -0.17962700648700608,
          0.027018464254066447,
          -0.27977321897291907,
          0.6746208392873194,
          0.14677909311238344,
          -0.2964642543872379,
          5.235421768644144,
          0.5323877400472972,
          0.2754895139541121,
          1.3463615218962703,
          0.3326832576145275,
          0.5443915668863621,
          -0.29076447810583156,
          -0.27900562732470674,
          -0.19483185381648832,
          -0.27137870605417164,
          -0.2926752913577643,
          -0.3006451791094156,
          -0.2222201770941915,
          -0.16218471116167096,
          -0.27559229425074133,
          -0.29412881596820895,
          -0.3004328665258675,
          -0.30084115995576766,
          -0.0681955635986525,
          0.007142740086526317,
          -0.2735344953640445,
          -0.2983097406903866,
          -0.30022055394231945,
          -0.18558809056354852,
          0.012254573828876408,
          -0.2979667742092705,
          0.7143559558852036,
          -0.3007268377953956,
          -0.016227975840959242,
          -0.2750533469232731,
          -0.3001715587307314,
          -0.30080849648137564,
          -0.30084115995576766,
          0.24272804913892268,
          -0.2993713036081271,
          -0.11723977039826057,
          -0.30061251563502356,
          -0.2994366305569111,
          -0.15849373855537344,
          -0.2533158047153882,
          -0.30080849648137564
         ],
         "yaxis": "y",
         "type": "scatter"
        }
       ],
       "layout": {
        "template": {
         "data": {
          "histogram2dcontour": [
           {
            "type": "histogram2dcontour",
            "colorbar": {
             "outlinewidth": 0,
             "ticks": ""
            },
            "colorscale": [
             [
              0.0,
              "#0d0887"
             ],
             [
              0.1111111111111111,
              "#46039f"
             ],
             [
              0.2222222222222222,
              "#7201a8"
             ],
             [
              0.3333333333333333,
              "#9c179e"
             ],
             [
              0.4444444444444444,
              "#bd3786"
             ],
             [
              0.5555555555555556,
              "#d8576b"
             ],
             [
              0.6666666666666666,
              "#ed7953"
             ],
             [
              0.7777777777777778,
              "#fb9f3a"
             ],
             [
              0.8888888888888888,
              "#fdca26"
             ],
             [
              1.0,
              "#f0f921"
             ]
            ]
           }
          ],
          "choropleth": [
           {
            "type": "choropleth",
            "colorbar": {
             "outlinewidth": 0,
             "ticks": ""
            }
           }
          ],
          "histogram2d": [
           {
            "type": "histogram2d",
            "colorbar": {
             "outlinewidth": 0,
             "ticks": ""
            },
            "colorscale": [
             [
              0.0,
              "#0d0887"
             ],
             [
              0.1111111111111111,
              "#46039f"
             ],
             [
              0.2222222222222222,
              "#7201a8"
             ],
             [
              0.3333333333333333,
              "#9c179e"
             ],
             [
              0.4444444444444444,
              "#bd3786"
             ],
             [
              0.5555555555555556,
              "#d8576b"
             ],
             [
              0.6666666666666666,
              "#ed7953"
             ],
             [
              0.7777777777777778,
              "#fb9f3a"
             ],
             [
              0.8888888888888888,
              "#fdca26"
             ],
             [
              1.0,
              "#f0f921"
             ]
            ]
           }
          ],
          "heatmap": [
           {
            "type": "heatmap",
            "colorbar": {
             "outlinewidth": 0,
             "ticks": ""
            },
            "colorscale": [
             [
              0.0,
              "#0d0887"
             ],
             [
              0.1111111111111111,
              "#46039f"
             ],
             [
              0.2222222222222222,
              "#7201a8"
             ],
             [
              0.3333333333333333,
              "#9c179e"
             ],
             [
              0.4444444444444444,
              "#bd3786"
             ],
             [
              0.5555555555555556,
              "#d8576b"
             ],
             [
              0.6666666666666666,
              "#ed7953"
             ],
             [
              0.7777777777777778,
              "#fb9f3a"
             ],
             [
              0.8888888888888888,
              "#fdca26"
             ],
             [
              1.0,
              "#f0f921"
             ]
            ]
           }
          ],
          "heatmapgl": [
           {
            "type": "heatmapgl",
            "colorbar": {
             "outlinewidth": 0,
             "ticks": ""
            },
            "colorscale": [
             [
              0.0,
              "#0d0887"
             ],
             [
              0.1111111111111111,
              "#46039f"
             ],
             [
              0.2222222222222222,
              "#7201a8"
             ],
             [
              0.3333333333333333,
              "#9c179e"
             ],
             [
              0.4444444444444444,
              "#bd3786"
             ],
             [
              0.5555555555555556,
              "#d8576b"
             ],
             [
              0.6666666666666666,
              "#ed7953"
             ],
             [
              0.7777777777777778,
              "#fb9f3a"
             ],
             [
              0.8888888888888888,
              "#fdca26"
             ],
             [
              1.0,
              "#f0f921"
             ]
            ]
           }
          ],
          "contourcarpet": [
           {
            "type": "contourcarpet",
            "colorbar": {
             "outlinewidth": 0,
             "ticks": ""
            }
           }
          ],
          "contour": [
           {
            "type": "contour",
            "colorbar": {
             "outlinewidth": 0,
             "ticks": ""
            },
            "colorscale": [
             [
              0.0,
              "#0d0887"
             ],
             [
              0.1111111111111111,
              "#46039f"
             ],
             [
              0.2222222222222222,
              "#7201a8"
             ],
             [
              0.3333333333333333,
              "#9c179e"
             ],
             [
              0.4444444444444444,
              "#bd3786"
             ],
             [
              0.5555555555555556,
              "#d8576b"
             ],
             [
              0.6666666666666666,
              "#ed7953"
             ],
             [
              0.7777777777777778,
              "#fb9f3a"
             ],
             [
              0.8888888888888888,
              "#fdca26"
             ],
             [
              1.0,
              "#f0f921"
             ]
            ]
           }
          ],
          "surface": [
           {
            "type": "surface",
            "colorbar": {
             "outlinewidth": 0,
             "ticks": ""
            },
            "colorscale": [
             [
              0.0,
              "#0d0887"
             ],
             [
              0.1111111111111111,
              "#46039f"
             ],
             [
              0.2222222222222222,
              "#7201a8"
             ],
             [
              0.3333333333333333,
              "#9c179e"
             ],
             [
              0.4444444444444444,
              "#bd3786"
             ],
             [
              0.5555555555555556,
              "#d8576b"
             ],
             [
              0.6666666666666666,
              "#ed7953"
             ],
             [
              0.7777777777777778,
              "#fb9f3a"
             ],
             [
              0.8888888888888888,
              "#fdca26"
             ],
             [
              1.0,
              "#f0f921"
             ]
            ]
           }
          ],
          "mesh3d": [
           {
            "type": "mesh3d",
            "colorbar": {
             "outlinewidth": 0,
             "ticks": ""
            }
           }
          ],
          "scatter": [
           {
            "marker": {
             "line": {
              "color": "#283442"
             }
            },
            "type": "scatter"
           }
          ],
          "parcoords": [
           {
            "type": "parcoords",
            "line": {
             "colorbar": {
              "outlinewidth": 0,
              "ticks": ""
             }
            }
           }
          ],
          "scatterpolargl": [
           {
            "type": "scatterpolargl",
            "marker": {
             "colorbar": {
              "outlinewidth": 0,
              "ticks": ""
             }
            }
           }
          ],
          "bar": [
           {
            "error_x": {
             "color": "#f2f5fa"
            },
            "error_y": {
             "color": "#f2f5fa"
            },
            "marker": {
             "line": {
              "color": "rgb(17,17,17)",
              "width": 0.5
             },
             "pattern": {
              "fillmode": "overlay",
              "size": 10,
              "solidity": 0.2
             }
            },
            "type": "bar"
           }
          ],
          "scattergeo": [
           {
            "type": "scattergeo",
            "marker": {
             "colorbar": {
              "outlinewidth": 0,
              "ticks": ""
             }
            }
           }
          ],
          "scatterpolar": [
           {
            "type": "scatterpolar",
            "marker": {
             "colorbar": {
              "outlinewidth": 0,
              "ticks": ""
             }
            }
           }
          ],
          "histogram": [
           {
            "marker": {
             "pattern": {
              "fillmode": "overlay",
              "size": 10,
              "solidity": 0.2
             }
            },
            "type": "histogram"
           }
          ],
          "scattergl": [
           {
            "marker": {
             "line": {
              "color": "#283442"
             }
            },
            "type": "scattergl"
           }
          ],
          "scatter3d": [
           {
            "type": "scatter3d",
            "line": {
             "colorbar": {
              "outlinewidth": 0,
              "ticks": ""
             }
            },
            "marker": {
             "colorbar": {
              "outlinewidth": 0,
              "ticks": ""
             }
            }
           }
          ],
          "scattermapbox": [
           {
            "type": "scattermapbox",
            "marker": {
             "colorbar": {
              "outlinewidth": 0,
              "ticks": ""
             }
            }
           }
          ],
          "scatterternary": [
           {
            "type": "scatterternary",
            "marker": {
             "colorbar": {
              "outlinewidth": 0,
              "ticks": ""
             }
            }
           }
          ],
          "scattercarpet": [
           {
            "type": "scattercarpet",
            "marker": {
             "colorbar": {
              "outlinewidth": 0,
              "ticks": ""
             }
            }
           }
          ],
          "carpet": [
           {
            "aaxis": {
             "endlinecolor": "#A2B1C6",
             "gridcolor": "#506784",
             "linecolor": "#506784",
             "minorgridcolor": "#506784",
             "startlinecolor": "#A2B1C6"
            },
            "baxis": {
             "endlinecolor": "#A2B1C6",
             "gridcolor": "#506784",
             "linecolor": "#506784",
             "minorgridcolor": "#506784",
             "startlinecolor": "#A2B1C6"
            },
            "type": "carpet"
           }
          ],
          "table": [
           {
            "cells": {
             "fill": {
              "color": "#506784"
             },
             "line": {
              "color": "rgb(17,17,17)"
             }
            },
            "header": {
             "fill": {
              "color": "#2a3f5f"
             },
             "line": {
              "color": "rgb(17,17,17)"
             }
            },
            "type": "table"
           }
          ],
          "barpolar": [
           {
            "marker": {
             "line": {
              "color": "rgb(17,17,17)",
              "width": 0.5
             },
             "pattern": {
              "fillmode": "overlay",
              "size": 10,
              "solidity": 0.2
             }
            },
            "type": "barpolar"
           }
          ],
          "pie": [
           {
            "automargin": true,
            "type": "pie"
           }
          ]
         },
         "layout": {
          "autotypenumbers": "strict",
          "colorway": [
           "#636efa",
           "#EF553B",
           "#00cc96",
           "#ab63fa",
           "#FFA15A",
           "#19d3f3",
           "#FF6692",
           "#B6E880",
           "#FF97FF",
           "#FECB52"
          ],
          "font": {
           "color": "#f2f5fa"
          },
          "hovermode": "closest",
          "hoverlabel": {
           "align": "left"
          },
          "paper_bgcolor": "rgb(17,17,17)",
          "plot_bgcolor": "rgb(17,17,17)",
          "polar": {
           "bgcolor": "rgb(17,17,17)",
           "angularaxis": {
            "gridcolor": "#506784",
            "linecolor": "#506784",
            "ticks": ""
           },
           "radialaxis": {
            "gridcolor": "#506784",
            "linecolor": "#506784",
            "ticks": ""
           }
          },
          "ternary": {
           "bgcolor": "rgb(17,17,17)",
           "aaxis": {
            "gridcolor": "#506784",
            "linecolor": "#506784",
            "ticks": ""
           },
           "baxis": {
            "gridcolor": "#506784",
            "linecolor": "#506784",
            "ticks": ""
           },
           "caxis": {
            "gridcolor": "#506784",
            "linecolor": "#506784",
            "ticks": ""
           }
          },
          "coloraxis": {
           "colorbar": {
            "outlinewidth": 0,
            "ticks": ""
           }
          },
          "colorscale": {
           "sequential": [
            [
             0.0,
             "#0d0887"
            ],
            [
             0.1111111111111111,
             "#46039f"
            ],
            [
             0.2222222222222222,
             "#7201a8"
            ],
            [
             0.3333333333333333,
             "#9c179e"
            ],
            [
             0.4444444444444444,
             "#bd3786"
            ],
            [
             0.5555555555555556,
             "#d8576b"
            ],
            [
             0.6666666666666666,
             "#ed7953"
            ],
            [
             0.7777777777777778,
             "#fb9f3a"
            ],
            [
             0.8888888888888888,
             "#fdca26"
            ],
            [
             1.0,
             "#f0f921"
            ]
           ],
           "sequentialminus": [
            [
             0.0,
             "#0d0887"
            ],
            [
             0.1111111111111111,
             "#46039f"
            ],
            [
             0.2222222222222222,
             "#7201a8"
            ],
            [
             0.3333333333333333,
             "#9c179e"
            ],
            [
             0.4444444444444444,
             "#bd3786"
            ],
            [
             0.5555555555555556,
             "#d8576b"
            ],
            [
             0.6666666666666666,
             "#ed7953"
            ],
            [
             0.7777777777777778,
             "#fb9f3a"
            ],
            [
             0.8888888888888888,
             "#fdca26"
            ],
            [
             1.0,
             "#f0f921"
            ]
           ],
           "diverging": [
            [
             0,
             "#8e0152"
            ],
            [
             0.1,
             "#c51b7d"
            ],
            [
             0.2,
             "#de77ae"
            ],
            [
             0.3,
             "#f1b6da"
            ],
            [
             0.4,
             "#fde0ef"
            ],
            [
             0.5,
             "#f7f7f7"
            ],
            [
             0.6,
             "#e6f5d0"
            ],
            [
             0.7,
             "#b8e186"
            ],
            [
             0.8,
             "#7fbc41"
            ],
            [
             0.9,
             "#4d9221"
            ],
            [
             1,
             "#276419"
            ]
           ]
          },
          "xaxis": {
           "gridcolor": "#283442",
           "linecolor": "#506784",
           "ticks": "",
           "title": {
            "standoff": 15
           },
           "zerolinecolor": "#283442",
           "automargin": true,
           "zerolinewidth": 2
          },
          "yaxis": {
           "gridcolor": "#283442",
           "linecolor": "#506784",
           "ticks": "",
           "title": {
            "standoff": 15
           },
           "zerolinecolor": "#283442",
           "automargin": true,
           "zerolinewidth": 2
          },
          "scene": {
           "xaxis": {
            "backgroundcolor": "rgb(17,17,17)",
            "gridcolor": "#506784",
            "linecolor": "#506784",
            "showbackground": true,
            "ticks": "",
            "zerolinecolor": "#C8D4E3",
            "gridwidth": 2
           },
           "yaxis": {
            "backgroundcolor": "rgb(17,17,17)",
            "gridcolor": "#506784",
            "linecolor": "#506784",
            "showbackground": true,
            "ticks": "",
            "zerolinecolor": "#C8D4E3",
            "gridwidth": 2
           },
           "zaxis": {
            "backgroundcolor": "rgb(17,17,17)",
            "gridcolor": "#506784",
            "linecolor": "#506784",
            "showbackground": true,
            "ticks": "",
            "zerolinecolor": "#C8D4E3",
            "gridwidth": 2
           }
          },
          "shapedefaults": {
           "line": {
            "color": "#f2f5fa"
           }
          },
          "annotationdefaults": {
           "arrowcolor": "#f2f5fa",
           "arrowhead": 0,
           "arrowwidth": 1
          },
          "geo": {
           "bgcolor": "rgb(17,17,17)",
           "landcolor": "rgb(17,17,17)",
           "subunitcolor": "#506784",
           "showland": true,
           "showlakes": true,
           "lakecolor": "rgb(17,17,17)"
          },
          "title": {
           "x": 0.05
          },
          "updatemenudefaults": {
           "bgcolor": "#506784",
           "borderwidth": 0
          },
          "sliderdefaults": {
           "bgcolor": "#C8D4E3",
           "borderwidth": 1,
           "bordercolor": "rgb(17,17,17)",
           "tickwidth": 0
          },
          "mapbox": {
           "style": "dark"
          }
         }
        },
        "xaxis": {
         "anchor": "y",
         "domain": [
          0.0,
          1.0
         ],
         "title": {
          "text": "x"
         }
        },
        "yaxis": {
         "anchor": "x",
         "domain": [
          0.0,
          1.0
         ],
         "title": {
          "text": "y"
         }
        },
        "coloraxis": {
         "colorbar": {
          "title": {
           "text": "color"
          }
         },
         "colorscale": [
          [
           0.0,
           "#0d0887"
          ],
          [
           0.1111111111111111,
           "#46039f"
          ],
          [
           0.2222222222222222,
           "#7201a8"
          ],
          [
           0.3333333333333333,
           "#9c179e"
          ],
          [
           0.4444444444444444,
           "#bd3786"
          ],
          [
           0.5555555555555556,
           "#d8576b"
          ],
          [
           0.6666666666666666,
           "#ed7953"
          ],
          [
           0.7777777777777778,
           "#fb9f3a"
          ],
          [
           0.8888888888888888,
           "#fdca26"
          ],
          [
           1.0,
           "#f0f921"
          ]
         ]
        },
        "legend": {
         "tracegroupgap": 0
        },
        "margin": {
         "t": 60
        }
       },
       "config": {
        "plotlyServerURL": "https://plot.ly"
       }
      },
      "text/html": "<div>                            <div id=\"9272635f-5c01-45e0-b026-fb95f370494f\" class=\"plotly-graph-div\" style=\"height:525px; width:100%;\"></div>            <script type=\"text/javascript\">                require([\"plotly\"], function(Plotly) {                    window.PLOTLYENV=window.PLOTLYENV || {};                                    if (document.getElementById(\"9272635f-5c01-45e0-b026-fb95f370494f\")) {                    Plotly.newPlot(                        \"9272635f-5c01-45e0-b026-fb95f370494f\",                        [{\"hovertemplate\":\"x=%{x}<br>y=%{y}<br>color=%{marker.color}<extra></extra>\",\"legendgroup\":\"\",\"marker\":{\"color\":[1,1,1,1,1,1,1,1,1,1,1,1,1,1,1,1,1,1,1,1,1,1,1,1,1,1,1,1,1,1,1,1,1,1,1,1,1,0,1,1,1,1,1,1,0,1,1,1,1,1,1,1,0,1,0,0,1,1,1,1,1,1,1,1,1,1,1,1,1,1,1,1,1,0,1,1,1,1,1,1,1,1,1,1,1,1,1,1,0,1,1,1,1,0,1,1,1,1,1,1,1,1,0,1,1,1,1,1,1,1,1,1,1,1,1,1,1,1,1,1,1,1,1,1,0,1,1,1,1,1,2,1,1,1,1,1,1,1,1,1,1,1,1,1,1,1,1,1,1,1,1,1,1,1,1,1,1,1,1,1,1,1,1,1,1,0,0,1,1,1,1,1,1,1,1,1,1,1,1,1,1,1,1,1,1,1,1,1,1,1,1,1,1,1,1,1,1,1,0,1,1,1,1,1,0,0,1,1,1,1,1,1,1,1,1,1,1,1,1,1,1,1,1,1,0,1,1,1,1,1,1,1,1,1,1,1,1,1,1,0,1,1,0,1,1,0,1,1,1,1,1,1,1,1,1,1,1,1,1,1,1,1,1,1,1,1,1,1,0,1,1,1,1,1,3,1,1,1,1,1,1,1,1],\"coloraxis\":\"coloraxis\",\"symbol\":\"circle\"},\"mode\":\"markers\",\"name\":\"\",\"orientation\":\"v\",\"showlegend\":false,\"x\":[-0.10032555099918383,-0.09771609791968774,-0.09949738853645415,0.07751121804355231,-0.09883867107888655,-0.08113166803944878,-0.06588161757486122,-0.08283459034132773,-0.026485653874676707,-0.07636602726926517,-0.09987863979806884,-0.09366000810862035,-0.07710734916684929,0.06522645516930123,-0.087695543926915,-0.10082964988954103,-0.10062631588334654,-0.10004384867810187,-0.09340372253831271,-0.09184482849082153,0.09191404348232944,0.1109766065630639,-0.10060937138283033,-0.08348483554863723,-0.08091986178299618,-0.049786460147027777,-0.08251264483151975,-0.09812276593207675,0.22111585991841845,-0.09932582546872754,-0.08595026037374554,-0.0999633623006499,-0.08396987187591369,-0.10082964988954103,-0.09480376189346443,-0.10082964988954103,-0.08759175886125323,-0.09912249146253305,-0.07989471950176558,-0.08180944806009711,-0.059527429881283074,-0.082207643822228,-0.10082964988954103,-0.08028444301363837,-0.0809537507840286,-0.08025902626286405,-0.06838516752613101,-0.09786648036176909,-0.08123545310511056,-0.07988624725150746,-0.0798332956873943,-0.07446188902375625,-0.09883867107888655,-0.08282611809106961,-0.09919238752716239,-0.08224365088582496,-0.08558595361264706,-0.0836860514922672,-0.08688856208983058,-0.07925294654471417,-0.08617265694302077,-0.08419226844518891,-0.07886534109540591,-0.0776368648079808,-0.10082964988954103,-0.0917198627995145,-0.08388514937333265,-0.0822796579494219,-0.08280493746542436,-0.08485098590275653,-0.10082964988954103,-0.08547157823416265,-0.08923749347388997,-0.09865863576090184,-0.09781988298534952,-0.07710734916684929,-0.07785078912699793,-0.06694064885712425,-0.08053861052138148,0.36090798917713773,-0.07976339962276495,-0.0005372693966680802,-0.07895006359798694,-0.09853790619472386,-0.08075041677783408,-0.08710460447141223,-0.08214833807042128,-0.0910929162804148,-0.0790856196021166,-0.08257406864589102,-0.07820026945014473,-0.08134771042103044,-0.0817670868088066,-0.09910131083688778,-0.07837183251787133,-0.08820599700496577,-0.08221611607248612,-0.077367870862286,-0.08485945815301461,-0.0821822270714537,-0.09221337137704906,-0.08171413524469344,-0.09909707471175873,-0.10082964988954103,-0.09009107268739397,-0.09115222203222152,-0.0673600252449004,-0.08564314130188927,-0.07848408983379122,-0.0838491423097357,-0.0840122331272042,-0.08255076995768122,-0.07552092030601927,-0.0821737548211956,-0.09884078914145109,-0.08517716753769353,-0.08435959538778648,-0.08088809084452828,-0.08259524927153629,-0.07849256208404932,-0.08091986178299618,-0.07855822202354962,-0.08069534715115641,-0.08403129569028493,-0.09852096169420765,-0.08812339256494926,-0.04597818365600993,-0.06493060748338902,-0.07880179921847012,-0.07101368316870783,-0.09866075382346635,-0.08274139558848857,-0.08092409790812523,-0.10082964988954103,-0.0902647538176851,-0.07791856712906275,-0.08330480023065251,-0.09236375381913042,-0.08452480426781951,-0.07404251263598009,-0.07892888297234169,-0.08325184866653935,-0.08311417459984516,-0.08063604139934968,-0.08007263675718575,-0.07837818670556491,-0.07992437237766893,-0.08414355300620481,0.06861535527254291,-0.07793974775470802,-0.08059156208549463,-0.07630883958002296,-0.08522800103924215,-0.08145361354925673,-0.079280481358053,-0.07242643089924672,-0.08007899094487934,-0.08873551264609729,-0.09865863576090184,-0.08076524321578576,-0.05703023411770686,-0.08473237439914307,0.3211943160922743,-0.08839662263577312,-0.08432782444931858,-0.09872217763783762,-0.09888526845530612,-0.08031409588954172,-0.08505008378382196,-0.0992644016543563,-0.07802870638241811,-0.08029503332646099,-0.07848620789635574,-0.07965114230684507,-0.08198948337808183,-0.08070805552654357,-0.05499901211832638,-0.050455767917418,-0.09492237339707789,-0.08994069024531261,-0.03792319172311737,-0.07810495663474105,-0.08549911304750149,-0.08291084059365067,4.982308698716524,-0.08395080931283296,-0.08345941879786291,-0.08081395865476987,-0.09088958227422028,-0.08534237641772656,-0.07644651364671716,-0.08652849145386116,-0.08682925633802385,-0.08091986178299618,-0.07250903533926324,-0.09937030478258259,-0.08007263675718575,-0.09885773364196729,-0.09922627652819482,-0.0830358062849577,-0.08409695562978525,-0.08617265694302077,-0.08140913423540169,-0.08269903433719807,-0.09895304645737095,-0.07823839457630619,-0.08674453383544281,-0.08019972051105731,-0.08342129367170144,-0.08588036430911618,-0.08124816148049771,-0.08785228055668994,-0.08259101314640722,-0.07054135521681854,-0.08052166602086527,-0.0903452401951371,-0.07923176591906891,-0.08414143494364029,-0.08026114432542857,-0.07965114230684507,-0.08019124826079921,-0.08775484967872173,-0.08008746319513743,-0.08759175886125323,-0.0811337861020133,-0.08251688095664882,-0.07223580526843937,-0.07161097681190419,0.04531666706275636,-0.06640901515342822,-0.08145149548669221,-0.08545463373364645,-0.08395080931283296,-0.0811825015409974,-0.08676571446108806,-0.08182003837291975,-0.07882509790667991,-0.08482133302685316,-0.07856669427380773,-0.07934614129755331,-0.0987772472645153,-0.08489122909148251,-0.09866922607372447,-0.08151503736362799,-0.07949016955194109,-0.09879630982759602,-0.0801827760105411,-0.08178191324675828,-0.08064239558704327,-0.08536779316850088,-0.08567703030292168,-0.08167177399340292,-0.08454174876833571,-0.08198101112782372,-0.07965114230684507,-0.08651790114103852,-0.08377924624510634,-0.08367334311688003,-0.07619658226410309,-0.07168087287653355,-0.07950287792732824,-0.07978881637353927,-0.0817755590590647,-0.08261431183461701,-0.084848867840192,-0.08244910295458398,-0.0794499263632151,-0.08049836733265549,-0.07912162666571355,-0.07806259538345053,-0.07951346824015088,-0.08064451364960779,-0.08068052071320474,-0.08070805552654357,15.996445840508432,-0.07886745915797043,-0.07504859235412997,-0.07599960244560215,0.23382211724301022,-0.09332535422342524,-0.0824025055781644,-0.09651303838303694,-0.08134347429590139],\"xaxis\":\"x\",\"y\":[-0.26077940861396326,0.4184085461563666,-0.25672913778935363,-0.30038387131427946,-0.29976326530083125,-0.30080849648137564,-0.2975911442537623,-0.3006778425838076,-0.30077583300698363,-0.24211223299892765,-0.2787443195295706,-0.3003185443654955,-0.30077583300698363,-0.30018789046792743,-0.3003022126282995,-0.30085749169296366,-0.25475299758863684,-0.29925698144775503,-0.3004981934746515,-0.294194142916993,-0.21111459580090697,-0.3004655300002595,-0.2660708914654695,-0.2757229481483094,-0.2998612557240073,-0.3000572365703594,-0.3007431695325916,-0.29749315383058633,-0.2959579705341617,-0.3000899000447514,-0.29729717298423425,-0.08062401560481358,-0.27854833868321854,-0.30085749169296366,-0.21663472297315722,-0.30085749169296366,-0.2984403945879547,1.4887906019826445,-0.30000824135877135,0.04828238608326715,-0.3007105060581996,-0.3004818617374555,-0.30085749169296366,-0.2661035549398615,0.8372196148107619,0.2833450795453913,0.22494278733247142,-0.2408056940232471,-0.1925944058206354,-0.2915973967028279,-0.04946306103483284,0.23059356840228973,0.698138540849569,-0.15584799712962036,1.4589198546511484,1.2146460614104764,-0.2892782900209949,-0.29301825783888047,-0.2948964076164212,-0.2412303191903433,-0.15944097931274184,-0.28584862520983356,0.2965411231997647,-0.29956728445447917,-0.30085749169296366,-0.2266297461371133,0.0043336812888131685,-0.2974114951446063,-0.2167980403451173,-0.27784607398379024,-0.30085749169296366,-0.3004981934746515,-0.2549489784349889,1.5978702747147733,-0.19739593655626136,-0.2908951320033996,-0.08232251627319828,-0.28490138445246516,0.2129552922306025,-0.29995924614718333,-0.29683988434274605,-0.28692651986476997,-0.2910421176381637,-0.29202202186992404,-0.11147466716807021,-0.2973951634074103,-0.24701175415772966,-0.299191654498971,1.1947050102941523,0.44803431742992267,-0.1776998614978773,-0.2463911481442814,0.4385292463818468,1.903012452484962,-0.29785245204889843,-0.22555185148217688,-0.30084115995576766,0.0929333555771494,0.12384933408919006,-0.30062884737221957,-0.29029085772714736,-0.2683899981473024,0.7182102458634612,-0.30085749169296366,0.24071924546381387,-0.19109188599860277,-0.29198935839553203,-0.264976665073337,0.03320819265135298,-0.2476160284339819,-0.2647643524897889,-0.2229224417936198,-0.2885923570587627,-0.284558417971349,-0.23326043143869202,-0.25744773422597794,-0.2412466509275393,-0.2712480521566036,-0.21296008210405573,-0.23667376451265743,0.09770222283838337,0.1818923280837978,-0.1833179790933036,-0.23644512019191333,0.9674488872117192,-0.2945534411353051,-0.2951250519371653,0.22314629624091067,0.15342611015115815,0.1263480898801791,13.5721856646665,-0.29687254781713807,0.04341552839885716,-0.30085749169296366,-0.02289132461692997,0.3710955034995352,-0.11078873420583793,-0.28955592955332704,-0.24088735270922715,0.07271466492849314,0.20108211928910566,-0.29587631184818164,-0.19252907887185136,0.16422138843771858,-0.3006941743210036,-0.11078873420583793,-0.13290190636923097,-0.26776939213385414,-0.2985383850111307,-0.074319965047155,-0.113418143894395,-0.1715917917865708,-0.2776664248746342,-0.1205061178374619,-0.25587988745516127,-0.28351318679080456,-0.30023688567951545,-0.29904466886420694,-0.2964969178616299,-0.28708983723673004,-0.16971364200903002,-0.2962029465921018,-0.2982280820044066,-0.1813745023669788,-0.06674203898820791,5.072594348799958,2.2001847425034997,-0.09720072885876037,-0.29770546641413437,0.5095069762356919,-0.020702871832665073,-0.14379517507896744,-0.29631726875247383,0.5160723345884866,-0.2518949435793357,-0.019461659805768566,-0.29956728445447917,-0.29973060182643924,-0.29548435015547747,-0.3000899000447514,-0.3001225635191434,0.04122707561459226,-0.30084115995576766,-0.26149800505058757,-0.30084115995576766,-0.2612856924670395,-0.19034062608758648,-0.30082482821857165,-0.20528416562193258,-0.29930597665934305,0.12324505981293782,-0.29768913467693836,0.03188532193847644,-0.3006778425838076,-0.296725562182374,-0.2863222455885177,-0.2579050228674661,-0.03745923419576793,1.2831576989477245,-0.2994202988197151,-0.2700721670784911,0.3675841800023938,-0.23838859691823813,-0.17985565080775018,0.8159556929815612,0.8257547352991652,-0.26267389012870007,0.20059216717322545,-0.22125660459962712,0.4232100768919925,-0.005906317933083021,-0.2769314967008139,-0.08666675836733606,-0.2962029465921018,0.6083793132203162,-0.25223791006045176,-0.2696475419113949,-0.28870667921913473,-0.3004165347886715,-0.3004818617374555,-0.19899644680147002,0.21986361706451335,-0.28539133656834537,-0.06194050825258195,0.8207735554543831,-0.2532994729781922,-0.29270795483215634,-0.2192967961361063,-0.29879969280626684,-0.2955660088414575,-0.30077583300698363,-0.21686336729390132,-0.26192263021768375,0.11720231705041534,-0.2694352293278468,-0.23567752854370103,-0.17962700648700608,0.027018464254066447,-0.27977321897291907,0.6746208392873194,0.14677909311238344,-0.2964642543872379,5.235421768644144,0.5323877400472972,0.2754895139541121,1.3463615218962703,0.3326832576145275,0.5443915668863621,-0.29076447810583156,-0.27900562732470674,-0.19483185381648832,-0.27137870605417164,-0.2926752913577643,-0.3006451791094156,-0.2222201770941915,-0.16218471116167096,-0.27559229425074133,-0.29412881596820895,-0.3004328665258675,-0.30084115995576766,-0.0681955635986525,0.007142740086526317,-0.2735344953640445,-0.2983097406903866,-0.30022055394231945,-0.18558809056354852,0.012254573828876408,-0.2979667742092705,0.7143559558852036,-0.3007268377953956,-0.016227975840959242,-0.2750533469232731,-0.3001715587307314,-0.30080849648137564,-0.30084115995576766,0.24272804913892268,-0.2993713036081271,-0.11723977039826057,-0.30061251563502356,-0.2994366305569111,-0.15849373855537344,-0.2533158047153882,-0.30080849648137564],\"yaxis\":\"y\",\"type\":\"scatter\"}],                        {\"template\":{\"data\":{\"histogram2dcontour\":[{\"type\":\"histogram2dcontour\",\"colorbar\":{\"outlinewidth\":0,\"ticks\":\"\"},\"colorscale\":[[0.0,\"#0d0887\"],[0.1111111111111111,\"#46039f\"],[0.2222222222222222,\"#7201a8\"],[0.3333333333333333,\"#9c179e\"],[0.4444444444444444,\"#bd3786\"],[0.5555555555555556,\"#d8576b\"],[0.6666666666666666,\"#ed7953\"],[0.7777777777777778,\"#fb9f3a\"],[0.8888888888888888,\"#fdca26\"],[1.0,\"#f0f921\"]]}],\"choropleth\":[{\"type\":\"choropleth\",\"colorbar\":{\"outlinewidth\":0,\"ticks\":\"\"}}],\"histogram2d\":[{\"type\":\"histogram2d\",\"colorbar\":{\"outlinewidth\":0,\"ticks\":\"\"},\"colorscale\":[[0.0,\"#0d0887\"],[0.1111111111111111,\"#46039f\"],[0.2222222222222222,\"#7201a8\"],[0.3333333333333333,\"#9c179e\"],[0.4444444444444444,\"#bd3786\"],[0.5555555555555556,\"#d8576b\"],[0.6666666666666666,\"#ed7953\"],[0.7777777777777778,\"#fb9f3a\"],[0.8888888888888888,\"#fdca26\"],[1.0,\"#f0f921\"]]}],\"heatmap\":[{\"type\":\"heatmap\",\"colorbar\":{\"outlinewidth\":0,\"ticks\":\"\"},\"colorscale\":[[0.0,\"#0d0887\"],[0.1111111111111111,\"#46039f\"],[0.2222222222222222,\"#7201a8\"],[0.3333333333333333,\"#9c179e\"],[0.4444444444444444,\"#bd3786\"],[0.5555555555555556,\"#d8576b\"],[0.6666666666666666,\"#ed7953\"],[0.7777777777777778,\"#fb9f3a\"],[0.8888888888888888,\"#fdca26\"],[1.0,\"#f0f921\"]]}],\"heatmapgl\":[{\"type\":\"heatmapgl\",\"colorbar\":{\"outlinewidth\":0,\"ticks\":\"\"},\"colorscale\":[[0.0,\"#0d0887\"],[0.1111111111111111,\"#46039f\"],[0.2222222222222222,\"#7201a8\"],[0.3333333333333333,\"#9c179e\"],[0.4444444444444444,\"#bd3786\"],[0.5555555555555556,\"#d8576b\"],[0.6666666666666666,\"#ed7953\"],[0.7777777777777778,\"#fb9f3a\"],[0.8888888888888888,\"#fdca26\"],[1.0,\"#f0f921\"]]}],\"contourcarpet\":[{\"type\":\"contourcarpet\",\"colorbar\":{\"outlinewidth\":0,\"ticks\":\"\"}}],\"contour\":[{\"type\":\"contour\",\"colorbar\":{\"outlinewidth\":0,\"ticks\":\"\"},\"colorscale\":[[0.0,\"#0d0887\"],[0.1111111111111111,\"#46039f\"],[0.2222222222222222,\"#7201a8\"],[0.3333333333333333,\"#9c179e\"],[0.4444444444444444,\"#bd3786\"],[0.5555555555555556,\"#d8576b\"],[0.6666666666666666,\"#ed7953\"],[0.7777777777777778,\"#fb9f3a\"],[0.8888888888888888,\"#fdca26\"],[1.0,\"#f0f921\"]]}],\"surface\":[{\"type\":\"surface\",\"colorbar\":{\"outlinewidth\":0,\"ticks\":\"\"},\"colorscale\":[[0.0,\"#0d0887\"],[0.1111111111111111,\"#46039f\"],[0.2222222222222222,\"#7201a8\"],[0.3333333333333333,\"#9c179e\"],[0.4444444444444444,\"#bd3786\"],[0.5555555555555556,\"#d8576b\"],[0.6666666666666666,\"#ed7953\"],[0.7777777777777778,\"#fb9f3a\"],[0.8888888888888888,\"#fdca26\"],[1.0,\"#f0f921\"]]}],\"mesh3d\":[{\"type\":\"mesh3d\",\"colorbar\":{\"outlinewidth\":0,\"ticks\":\"\"}}],\"scatter\":[{\"marker\":{\"line\":{\"color\":\"#283442\"}},\"type\":\"scatter\"}],\"parcoords\":[{\"type\":\"parcoords\",\"line\":{\"colorbar\":{\"outlinewidth\":0,\"ticks\":\"\"}}}],\"scatterpolargl\":[{\"type\":\"scatterpolargl\",\"marker\":{\"colorbar\":{\"outlinewidth\":0,\"ticks\":\"\"}}}],\"bar\":[{\"error_x\":{\"color\":\"#f2f5fa\"},\"error_y\":{\"color\":\"#f2f5fa\"},\"marker\":{\"line\":{\"color\":\"rgb(17,17,17)\",\"width\":0.5},\"pattern\":{\"fillmode\":\"overlay\",\"size\":10,\"solidity\":0.2}},\"type\":\"bar\"}],\"scattergeo\":[{\"type\":\"scattergeo\",\"marker\":{\"colorbar\":{\"outlinewidth\":0,\"ticks\":\"\"}}}],\"scatterpolar\":[{\"type\":\"scatterpolar\",\"marker\":{\"colorbar\":{\"outlinewidth\":0,\"ticks\":\"\"}}}],\"histogram\":[{\"marker\":{\"pattern\":{\"fillmode\":\"overlay\",\"size\":10,\"solidity\":0.2}},\"type\":\"histogram\"}],\"scattergl\":[{\"marker\":{\"line\":{\"color\":\"#283442\"}},\"type\":\"scattergl\"}],\"scatter3d\":[{\"type\":\"scatter3d\",\"line\":{\"colorbar\":{\"outlinewidth\":0,\"ticks\":\"\"}},\"marker\":{\"colorbar\":{\"outlinewidth\":0,\"ticks\":\"\"}}}],\"scattermapbox\":[{\"type\":\"scattermapbox\",\"marker\":{\"colorbar\":{\"outlinewidth\":0,\"ticks\":\"\"}}}],\"scatterternary\":[{\"type\":\"scatterternary\",\"marker\":{\"colorbar\":{\"outlinewidth\":0,\"ticks\":\"\"}}}],\"scattercarpet\":[{\"type\":\"scattercarpet\",\"marker\":{\"colorbar\":{\"outlinewidth\":0,\"ticks\":\"\"}}}],\"carpet\":[{\"aaxis\":{\"endlinecolor\":\"#A2B1C6\",\"gridcolor\":\"#506784\",\"linecolor\":\"#506784\",\"minorgridcolor\":\"#506784\",\"startlinecolor\":\"#A2B1C6\"},\"baxis\":{\"endlinecolor\":\"#A2B1C6\",\"gridcolor\":\"#506784\",\"linecolor\":\"#506784\",\"minorgridcolor\":\"#506784\",\"startlinecolor\":\"#A2B1C6\"},\"type\":\"carpet\"}],\"table\":[{\"cells\":{\"fill\":{\"color\":\"#506784\"},\"line\":{\"color\":\"rgb(17,17,17)\"}},\"header\":{\"fill\":{\"color\":\"#2a3f5f\"},\"line\":{\"color\":\"rgb(17,17,17)\"}},\"type\":\"table\"}],\"barpolar\":[{\"marker\":{\"line\":{\"color\":\"rgb(17,17,17)\",\"width\":0.5},\"pattern\":{\"fillmode\":\"overlay\",\"size\":10,\"solidity\":0.2}},\"type\":\"barpolar\"}],\"pie\":[{\"automargin\":true,\"type\":\"pie\"}]},\"layout\":{\"autotypenumbers\":\"strict\",\"colorway\":[\"#636efa\",\"#EF553B\",\"#00cc96\",\"#ab63fa\",\"#FFA15A\",\"#19d3f3\",\"#FF6692\",\"#B6E880\",\"#FF97FF\",\"#FECB52\"],\"font\":{\"color\":\"#f2f5fa\"},\"hovermode\":\"closest\",\"hoverlabel\":{\"align\":\"left\"},\"paper_bgcolor\":\"rgb(17,17,17)\",\"plot_bgcolor\":\"rgb(17,17,17)\",\"polar\":{\"bgcolor\":\"rgb(17,17,17)\",\"angularaxis\":{\"gridcolor\":\"#506784\",\"linecolor\":\"#506784\",\"ticks\":\"\"},\"radialaxis\":{\"gridcolor\":\"#506784\",\"linecolor\":\"#506784\",\"ticks\":\"\"}},\"ternary\":{\"bgcolor\":\"rgb(17,17,17)\",\"aaxis\":{\"gridcolor\":\"#506784\",\"linecolor\":\"#506784\",\"ticks\":\"\"},\"baxis\":{\"gridcolor\":\"#506784\",\"linecolor\":\"#506784\",\"ticks\":\"\"},\"caxis\":{\"gridcolor\":\"#506784\",\"linecolor\":\"#506784\",\"ticks\":\"\"}},\"coloraxis\":{\"colorbar\":{\"outlinewidth\":0,\"ticks\":\"\"}},\"colorscale\":{\"sequential\":[[0.0,\"#0d0887\"],[0.1111111111111111,\"#46039f\"],[0.2222222222222222,\"#7201a8\"],[0.3333333333333333,\"#9c179e\"],[0.4444444444444444,\"#bd3786\"],[0.5555555555555556,\"#d8576b\"],[0.6666666666666666,\"#ed7953\"],[0.7777777777777778,\"#fb9f3a\"],[0.8888888888888888,\"#fdca26\"],[1.0,\"#f0f921\"]],\"sequentialminus\":[[0.0,\"#0d0887\"],[0.1111111111111111,\"#46039f\"],[0.2222222222222222,\"#7201a8\"],[0.3333333333333333,\"#9c179e\"],[0.4444444444444444,\"#bd3786\"],[0.5555555555555556,\"#d8576b\"],[0.6666666666666666,\"#ed7953\"],[0.7777777777777778,\"#fb9f3a\"],[0.8888888888888888,\"#fdca26\"],[1.0,\"#f0f921\"]],\"diverging\":[[0,\"#8e0152\"],[0.1,\"#c51b7d\"],[0.2,\"#de77ae\"],[0.3,\"#f1b6da\"],[0.4,\"#fde0ef\"],[0.5,\"#f7f7f7\"],[0.6,\"#e6f5d0\"],[0.7,\"#b8e186\"],[0.8,\"#7fbc41\"],[0.9,\"#4d9221\"],[1,\"#276419\"]]},\"xaxis\":{\"gridcolor\":\"#283442\",\"linecolor\":\"#506784\",\"ticks\":\"\",\"title\":{\"standoff\":15},\"zerolinecolor\":\"#283442\",\"automargin\":true,\"zerolinewidth\":2},\"yaxis\":{\"gridcolor\":\"#283442\",\"linecolor\":\"#506784\",\"ticks\":\"\",\"title\":{\"standoff\":15},\"zerolinecolor\":\"#283442\",\"automargin\":true,\"zerolinewidth\":2},\"scene\":{\"xaxis\":{\"backgroundcolor\":\"rgb(17,17,17)\",\"gridcolor\":\"#506784\",\"linecolor\":\"#506784\",\"showbackground\":true,\"ticks\":\"\",\"zerolinecolor\":\"#C8D4E3\",\"gridwidth\":2},\"yaxis\":{\"backgroundcolor\":\"rgb(17,17,17)\",\"gridcolor\":\"#506784\",\"linecolor\":\"#506784\",\"showbackground\":true,\"ticks\":\"\",\"zerolinecolor\":\"#C8D4E3\",\"gridwidth\":2},\"zaxis\":{\"backgroundcolor\":\"rgb(17,17,17)\",\"gridcolor\":\"#506784\",\"linecolor\":\"#506784\",\"showbackground\":true,\"ticks\":\"\",\"zerolinecolor\":\"#C8D4E3\",\"gridwidth\":2}},\"shapedefaults\":{\"line\":{\"color\":\"#f2f5fa\"}},\"annotationdefaults\":{\"arrowcolor\":\"#f2f5fa\",\"arrowhead\":0,\"arrowwidth\":1},\"geo\":{\"bgcolor\":\"rgb(17,17,17)\",\"landcolor\":\"rgb(17,17,17)\",\"subunitcolor\":\"#506784\",\"showland\":true,\"showlakes\":true,\"lakecolor\":\"rgb(17,17,17)\"},\"title\":{\"x\":0.05},\"updatemenudefaults\":{\"bgcolor\":\"#506784\",\"borderwidth\":0},\"sliderdefaults\":{\"bgcolor\":\"#C8D4E3\",\"borderwidth\":1,\"bordercolor\":\"rgb(17,17,17)\",\"tickwidth\":0},\"mapbox\":{\"style\":\"dark\"}}},\"xaxis\":{\"anchor\":\"y\",\"domain\":[0.0,1.0],\"title\":{\"text\":\"x\"}},\"yaxis\":{\"anchor\":\"x\",\"domain\":[0.0,1.0],\"title\":{\"text\":\"y\"}},\"coloraxis\":{\"colorbar\":{\"title\":{\"text\":\"color\"}},\"colorscale\":[[0.0,\"#0d0887\"],[0.1111111111111111,\"#46039f\"],[0.2222222222222222,\"#7201a8\"],[0.3333333333333333,\"#9c179e\"],[0.4444444444444444,\"#bd3786\"],[0.5555555555555556,\"#d8576b\"],[0.6666666666666666,\"#ed7953\"],[0.7777777777777778,\"#fb9f3a\"],[0.8888888888888888,\"#fdca26\"],[1.0,\"#f0f921\"]]},\"legend\":{\"tracegroupgap\":0},\"margin\":{\"t\":60}},                        {\"responsive\": true}                    ).then(function(){\n                            \nvar gd = document.getElementById('9272635f-5c01-45e0-b026-fb95f370494f');\nvar x = new MutationObserver(function (mutations, observer) {{\n        var display = window.getComputedStyle(gd).display;\n        if (!display || display === 'none') {{\n            console.log([gd, 'removed!']);\n            Plotly.purge(gd);\n            observer.disconnect();\n        }}\n}});\n\n// Listen for the removal of the full notebook cells\nvar notebookContainer = gd.closest('#notebook-container');\nif (notebookContainer) {{\n    x.observe(notebookContainer, {childList: true});\n}}\n\n// Listen for the clearing of the current output cell\nvar outputEl = gd.closest('.output');\nif (outputEl) {{\n    x.observe(outputEl, {childList: true});\n}}\n\n                        })                };                });            </script>        </div>"
     },
     "metadata": {},
     "output_type": "display_data"
    }
   ],
   "source": [
    "grafico_cluster = px.scatter(y=base_cotacoes[:,0], x=base_cotacoes[:,1], color=rotulos)\n",
    "grafico_cluster.show()"
   ],
   "metadata": {
    "collapsed": false,
    "pycharm": {
     "name": "#%%\n"
    }
   }
  },
  {
   "cell_type": "markdown",
   "source": [
    "pegando as colunas do dataset"
   ],
   "metadata": {
    "collapsed": false,
    "pycharm": {
     "name": "#%% md\n"
    }
   }
  },
  {
   "cell_type": "code",
   "execution_count": 45,
   "outputs": [],
   "source": [
    "valor_cota = df['Preco_Atual']\n",
    "rendimento_cota = df['Dividendo']"
   ],
   "metadata": {
    "collapsed": false,
    "pycharm": {
     "name": "#%%\n"
    }
   }
  },
  {
   "cell_type": "markdown",
   "source": [
    "criando os eixos x e y"
   ],
   "metadata": {
    "collapsed": false,
    "pycharm": {
     "name": "#%% md\n"
    }
   }
  },
  {
   "cell_type": "code",
   "execution_count": 46,
   "outputs": [],
   "source": [
    "lista_rend = [] #liquidez_diaria\n",
    "lista_vc = [] #preço atual\n",
    "for rd, vc in zip(rendimento_cota,valor_cota):\n",
    "    try:\n",
    "        lista_rend.append(rd)\n",
    "        lista_vc.append(vc)\n",
    "    except:\n",
    "        pass"
   ],
   "metadata": {
    "collapsed": false,
    "pycharm": {
     "name": "#%%\n"
    }
   }
  },
  {
   "cell_type": "markdown",
   "source": [
    "juntando as informações em coordenadas"
   ],
   "metadata": {
    "collapsed": false,
    "pycharm": {
     "name": "#%% md\n"
    }
   }
  },
  {
   "cell_type": "code",
   "execution_count": 47,
   "outputs": [
    {
     "name": "stdout",
     "output_type": "stream",
     "text": [
      "[[0.0, 2.38], [0.0, 14.7], [0.0, 6.29], [0.0, 842.0], [0.0, 9.4], [1.38, 93.0], [0.22, 165.0], [0.25, 84.96], [0.48, 351.0], [0.0, 115.5], [0.0, 4.49], [0.0, 33.85], [1.62, 112.0], [9.16, 784.0], [0.64, 62.01], [0.0, 0.0], [0.0, 0.96], [0.0, 3.71], [0.32, 35.06], [0.17, 42.42], [10.76, 910.0], [5.4, 1000.0], [6.8, 1.04], [0.0, 81.89], [0.75, 94.0], [2.49, 240.99], [0.33, 86.48], [0.09, 12.78], [12.6, 1520.0], [0.1, 7.1], [0.0, 70.25], [0.0, 4.09], [0.75, 79.6], [0.86, 0.0], [0.18, 28.45], [0.6, 0.0], [0.15, 62.5], [0.17, 8.06], [0.75, 98.84], [0.92, 89.8], [1.68, 195.0], [1.15, 87.92], [0.18, 0.0], [1.45, 97.0], [1.04, 93.84], [1.16, 97.12], [0.91, 153.18], [0.27, 13.99], [1.0, 92.51], [0.98, 98.88], [1.4, 99.13], [0.82, 124.49], [1.31, 9.4], [0.93, 85.0], [0.07, 7.73], [0.49, 87.75], [0.62, 71.97], [1.02, 80.94], [0.56, 65.82], [1.52, 101.87], [0.75, 69.2], [0.56, 78.55], [1.2, 103.7], [1.01, 109.5], [0.68, 0.0], [0.4, 43.01], [0.58, 80.0], [1.0, 87.58], [1.19, 85.1], [0.62, 75.44], [0.75, 0.0], [0.41, 72.51], [0.4, 54.73], [0.14, 10.25], [0.12, 14.21], [0.54, 112.0], [0.74, 108.49], [0.46, 160.0], [0.56, 95.8], [14.24, 2180.0], [0.85, 99.46], [3.5, 473.51], [0.99, 103.3], [0.03, 10.82], [1.1, 94.8], [0.51, 64.8], [1.3, 88.2], [0.26, 45.97], [1.15, 102.66], [0.91, 86.19], [1.21, 106.84], [0.74, 91.98], [0.65, 90.0], [0.07, 8.16], [0.99, 106.03], [0.5, 59.6], [0.45, 87.88], [0.71, 110.77], [0.62, 75.4], [0.54, 88.04], [0.3, 40.68], [1.04, 90.25], [0.07, 8.18], [0.44, 0.0], [0.34, 50.7], [0.35, 45.69], [1.35, 158.02], [0.92, 71.7], [0.59, 105.5], [0.72, 80.17], [0.67, 79.4], [1.0, 86.3], [1.47, 119.49], [0.65, 88.08], [0.12, 9.39], [0.67, 73.9], [0.89, 77.76], [0.83, 94.15], [0.7, 86.09], [1.77, 105.46], [1.1, 94.0], [0.65, 105.15], [1.35, 95.06], [0.65, 79.31], [0.14, 10.9], [0.49, 59.99], [1.5, 258.97], [1.1, 169.49], [1.2, 104.0], [0.78, 140.77], [0.12, 10.24], [0.83, 85.4], [1.02, 93.98], [0.88, 0.0], [0.35, 49.88], [0.72, 108.17], [0.49, 82.74], [0.34, 39.97], [0.75, 76.98], [1.58, 126.47], [1.25, 103.4], [0.88, 82.99], [0.62, 83.64], [1.3, 95.34], [0.55, 98.0], [1.35, 106.0], [1.0, 98.7], [0.72, 78.78], [4.48, 800.0], [0.75, 108.07], [0.76, 95.55], [0.72, 115.77], [0.53, 73.66], [1.0, 91.48], [0.9, 101.74], [1.18, 134.1], [1.1, 97.97], [0.42, 57.1], [0.08, 10.25], [0.65, 94.73], [1.3, 206.79], [0.45, 76.0], [27.24, 1992.5], [0.37, 58.7], [0.65, 77.91], [0.12, 9.95], [0.15, 9.18], [1.5, 96.86], [0.81, 74.5], [0.06, 7.39], [0.72, 107.65], [0.82, 96.95], [0.36, 105.49], [0.63, 99.99], [0.74, 88.95], [0.68, 95.0], [1.6, 216.38], [1.75, 237.83], [0.25, 27.89], [0.65, 51.41], [3.1, 297.0], [0.85, 107.29], [0.71, 72.38], [1.2, 84.6], [37.45, 23999.0], [0.6, 79.69], [0.74, 82.01], [0.8, 94.5], [0.4, 46.93], [0.59, 73.12], [0.86, 115.12], [0.55, 67.52], [0.55, 66.1], [0.61, 94.0], [0.92, 133.71], [0.03, 6.89], [0.86, 98.0], [0.16, 9.31], [0.08, 7.57], [0.61, 84.01], [0.66, 79.0], [0.47, 69.2], [1.31, 91.69], [0.61, 85.6], [0.07, 8.86], [1.25, 106.66], [0.67, 66.5], [1.25, 97.4], [0.8, 82.19], [0.56, 70.58], [1.1, 92.45], [0.5, 61.27], [1.05, 86.11], [1.53, 143.0], [1.1, 95.88], [0.5, 49.5], [1.25, 101.97], [0.75, 78.79], [0.56, 97.11], [0.7, 99.99], [0.65, 97.44], [0.45, 61.73], [1.15, 97.93], [0.5, 62.5], [1.02, 92.99], [0.95, 86.46], [0.66, 135.0], [0.72, 137.95], [10.0, 690.0], [0.92, 162.51], [0.51, 91.49], [0.6, 72.59], [0.75, 79.69], [1.0, 92.76], [0.3, 66.4], [1.25, 89.75], [1.35, 103.89], [0.6, 75.58], [1.65, 105.11], [1.33, 101.43], [0.13, 9.69], [0.8, 75.25], [0.17, 10.2], [1.0, 91.19], [1.3, 100.75], [0.12, 9.6], [1.1, 97.48], [1.1, 89.93], [1.25, 95.31], [0.76, 73.0], [0.65, 71.54], [1.35, 90.45], [0.85, 76.9], [0.52, 88.99], [1.3, 99.99], [0.75, 67.57], [1.15, 80.5], [0.77, 81.0], [0.3, 116.3], [1.09, 137.62], [1.02, 100.69], [1.5, 99.34], [1.06, 89.96], [1.17, 86.0], [0.8, 75.45], [0.65, 86.78], [1.25, 100.94], [1.1, 95.99], [0.74, 102.49], [1.4, 107.49], [0.83, 100.64], [1.3, 95.3], [1.1, 95.13], [1.1, 95.0], [783.96, 76000.0], [0.7, 103.69], [0.87, 121.72], [0.78, 117.23], [10.0, 1579.99], [0.1, 35.43], [0.7, 87.0], [0.09, 20.38], [0.36, 92.0]]\n"
     ]
    }
   ],
   "source": [
    "lista_cotacao = []\n",
    "for x,y in zip(lista_rend, lista_vc):\n",
    "    item = [x,y]\n",
    "    lista_cotacao.append(item)\n",
    "\n",
    "print(lista_cotacao)"
   ],
   "metadata": {
    "collapsed": false,
    "pycharm": {
     "name": "#%%\n"
    }
   }
  },
  {
   "cell_type": "code",
   "execution_count": 48,
   "outputs": [
    {
     "data": {
      "text/plain": "array([[-8.62092570e-02, -1.00325551e-01],\n       [-8.62092570e-02, -9.77160979e-02],\n       [-8.62092570e-02, -9.94973885e-02],\n       [-8.62092570e-02,  7.75112180e-02],\n       [-8.62092570e-02, -9.88386711e-02],\n       [-5.65642215e-02, -8.11316680e-02],\n       [-8.14832369e-02, -6.58816176e-02],\n       [-8.08387796e-02, -8.28345903e-02],\n       [-7.58979403e-02, -2.64856539e-02],\n       [-8.62092570e-02, -7.63660273e-02],\n       [-8.62092570e-02, -9.98786398e-02],\n       [-8.62092570e-02, -9.36600081e-02],\n       [-5.14085632e-02, -7.71073492e-02],\n       [ 1.10565036e-01,  6.52264552e-02],\n       [-7.24608348e-02, -8.76955439e-02],\n       [-8.62092570e-02, -1.00829650e-01],\n       [-8.62092570e-02, -1.00626316e-01],\n       [-8.62092570e-02, -1.00043849e-01],\n       [-7.93350459e-02, -9.34037225e-02],\n       [-8.25573324e-02, -9.18448285e-02],\n       [ 1.44936092e-01,  9.19140435e-02],\n       [ 2.97930557e-02,  1.10976607e-01],\n       [ 5.98677294e-02, -1.00609371e-01],\n       [-8.62092570e-02, -8.34848355e-02],\n       [-7.00978247e-02, -8.09198618e-02],\n       [-3.27193017e-02, -4.97864601e-02],\n       [-7.91202268e-02, -8.25126448e-02],\n       [-8.42758851e-02, -9.81227659e-02],\n       [ 1.84462806e-01,  2.21115860e-01],\n       [-8.40610660e-02, -9.93258255e-02],\n       [-8.62092570e-02, -8.59502604e-02],\n       [-8.62092570e-02, -9.99633623e-02],\n       [-7.00978247e-02, -8.39698719e-02],\n       [-6.77348146e-02, -1.00829650e-01],\n       [-8.23425133e-02, -9.48037619e-02],\n       [-7.33201112e-02, -1.00829650e-01],\n       [-8.29869706e-02, -8.75917589e-02],\n       [-8.25573324e-02, -9.91224915e-02],\n       [-7.00978247e-02, -7.98947195e-02],\n       [-6.64459000e-02, -8.18094481e-02],\n       [-5.01196486e-02, -5.95274299e-02],\n       [-6.15050608e-02, -8.22076438e-02],\n       [-8.23425133e-02, -1.00829650e-01],\n       [-5.50604879e-02, -8.02844430e-02],\n       [-6.38680709e-02, -8.09537508e-02],\n       [-6.12902417e-02, -8.02590263e-02],\n       [-6.66607191e-02, -6.83851675e-02],\n       [-8.04091414e-02, -9.78664804e-02],\n       [-6.47273473e-02, -8.12354531e-02],\n       [-6.51569855e-02, -7.98862473e-02],\n       [-5.61345834e-02, -7.98332957e-02],\n       [-6.85940910e-02, -7.44618890e-02],\n       [-5.80679552e-02, -9.88386711e-02],\n       [-6.62310809e-02, -8.28261181e-02],\n       [-8.47055233e-02, -9.91923875e-02],\n       [-7.56831212e-02, -8.22436509e-02],\n       [-7.28904730e-02, -8.55859536e-02],\n       [-6.42977091e-02, -8.36860515e-02],\n       [-7.41793876e-02, -8.68885621e-02],\n       [-5.35567542e-02, -7.92529465e-02],\n       [-7.00978247e-02, -8.61726569e-02],\n       [-7.41793876e-02, -8.41922684e-02],\n       [-6.04309653e-02, -7.88653411e-02],\n       [-6.45125282e-02, -7.76368648e-02],\n       [-7.16015584e-02, -1.00829650e-01],\n       [-7.76164931e-02, -9.17198628e-02],\n       [-7.37497494e-02, -8.38851494e-02],\n       [-6.47273473e-02, -8.22796579e-02],\n       [-6.06457844e-02, -8.28049375e-02],\n       [-7.28904730e-02, -8.48509859e-02],\n       [-7.00978247e-02, -1.00829650e-01],\n       [-7.74016740e-02, -8.54715782e-02],\n       [-7.76164931e-02, -8.92374935e-02],\n       [-8.32017897e-02, -9.86586358e-02],\n       [-8.36314279e-02, -9.78198830e-02],\n       [-7.46090257e-02, -7.71073492e-02],\n       [-7.03126438e-02, -7.78507891e-02],\n       [-7.63275785e-02, -6.69406489e-02],\n       [-7.41793876e-02, -8.05386105e-02],\n       [ 2.19693138e-01,  3.60907989e-01],\n       [-6.79496337e-02, -7.97633996e-02],\n       [-1.10225729e-02, -5.37269397e-04],\n       [-6.49421664e-02, -7.89500636e-02],\n       [-8.55647997e-02, -9.85379062e-02],\n       [-6.25791563e-02, -8.07504168e-02],\n       [-7.52534830e-02, -8.71046045e-02],\n       [-5.82827743e-02, -8.21483381e-02],\n       [-8.06239605e-02, -9.10929163e-02],\n       [-6.15050608e-02, -7.90856196e-02],\n       [-6.66607191e-02, -8.25740686e-02],\n       [-6.02161462e-02, -7.82002695e-02],\n       [-7.03126438e-02, -8.13477104e-02],\n       [-7.22460157e-02, -8.17670868e-02],\n       [-8.47055233e-02, -9.91013108e-02],\n       [-6.49421664e-02, -7.83718325e-02],\n       [-7.54683021e-02, -8.82059970e-02],\n       [-7.65423976e-02, -8.22161161e-02],\n       [-7.09571011e-02, -7.73678709e-02],\n       [-7.28904730e-02, -8.48594582e-02],\n       [-7.46090257e-02, -8.21822271e-02],\n       [-7.97646841e-02, -9.22133714e-02],\n       [-6.38680709e-02, -8.17141352e-02],\n       [-8.47055233e-02, -9.90970747e-02],\n       [-7.67572167e-02, -1.00829650e-01],\n       [-7.89054077e-02, -9.00910727e-02],\n       [-7.86905886e-02, -9.11522220e-02],\n       [-5.72086788e-02, -6.73600252e-02],\n       [-6.64459000e-02, -8.56431413e-02],\n       [-7.35349303e-02, -7.84840898e-02],\n       [-7.07422820e-02, -8.38491423e-02],\n       [-7.18163775e-02, -8.40122331e-02],\n       [-6.47273473e-02, -8.25507700e-02],\n       [-5.46308497e-02, -7.55209203e-02],\n       [-7.22460157e-02, -8.21737548e-02],\n       [-8.36314279e-02, -9.88407891e-02],\n       [-7.18163775e-02, -8.51771675e-02],\n       [-6.70903573e-02, -8.43595954e-02],\n       [-6.83792719e-02, -8.08880908e-02],\n       [-7.11719202e-02, -8.25952493e-02],\n       [-4.81862767e-02, -7.84925621e-02],\n       [-6.25791563e-02, -8.09198618e-02],\n       [-7.22460157e-02, -7.85582220e-02],\n       [-5.72086788e-02, -8.06953472e-02],\n       [-7.22460157e-02, -8.40312957e-02],\n       [-8.32017897e-02, -9.85209617e-02],\n       [-7.56831212e-02, -8.81233926e-02],\n       [-5.39863924e-02, -4.59781837e-02],\n       [-6.25791563e-02, -6.49306075e-02],\n       [-6.04309653e-02, -7.88017992e-02],\n       [-6.94533674e-02, -7.10136832e-02],\n       [-8.36314279e-02, -9.86607538e-02],\n       [-6.83792719e-02, -8.27413956e-02],\n       [-6.42977091e-02, -8.09240979e-02],\n       [-6.73051764e-02, -1.00829650e-01],\n       [-7.86905886e-02, -9.02647538e-02],\n       [-7.07422820e-02, -7.79185671e-02],\n       [-7.56831212e-02, -8.33048002e-02],\n       [-7.89054077e-02, -9.23637538e-02],\n       [-7.00978247e-02, -8.45248043e-02],\n       [-5.22678396e-02, -7.40425126e-02],\n       [-5.93568698e-02, -7.89288830e-02],\n       [-6.73051764e-02, -8.32518487e-02],\n       [-7.28904730e-02, -8.31141746e-02],\n       [-5.82827743e-02, -8.06360414e-02],\n       [-7.43942067e-02, -8.00726368e-02],\n       [-5.72086788e-02, -7.83781867e-02],\n       [-6.47273473e-02, -7.99243724e-02],\n       [-7.07422820e-02, -8.41435530e-02],\n       [ 1.00296987e-02,  6.86153553e-02],\n       [-7.00978247e-02, -7.79397478e-02],\n       [-6.98830056e-02, -8.05915621e-02],\n       [-7.07422820e-02, -7.63088396e-02],\n       [-7.48238448e-02, -8.52280010e-02],\n       [-6.47273473e-02, -8.14536135e-02],\n       [-6.68755382e-02, -7.92804814e-02],\n       [-6.08606035e-02, -7.24264309e-02],\n       [-6.25791563e-02, -8.00789909e-02],\n       [-7.71868549e-02, -8.87355126e-02],\n       [-8.44907042e-02, -9.86586358e-02],\n       [-7.22460157e-02, -8.07652432e-02],\n       [-5.82827743e-02, -5.70302341e-02],\n       [-7.65423976e-02, -8.47323744e-02],\n       [ 4.98957965e-01,  3.21194316e-01],\n       [-7.82609504e-02, -8.83966226e-02],\n       [-7.22460157e-02, -8.43278244e-02],\n       [-8.36314279e-02, -9.87221776e-02],\n       [-8.29869706e-02, -9.88852685e-02],\n       [-5.39863924e-02, -8.03140959e-02],\n       [-6.88089101e-02, -8.50500838e-02],\n       [-8.49203424e-02, -9.92644017e-02],\n       [-7.07422820e-02, -7.80287064e-02],\n       [-6.85940910e-02, -8.02950333e-02],\n       [-7.84757695e-02, -7.84862079e-02],\n       [-7.26756539e-02, -7.96511423e-02],\n       [-7.03126438e-02, -8.19894834e-02],\n       [-7.16015584e-02, -8.07080555e-02],\n       [-5.18382014e-02, -5.49990121e-02],\n       [-4.86159149e-02, -5.04557679e-02],\n       [-8.08387796e-02, -9.49223734e-02],\n       [-7.22460157e-02, -8.99406902e-02],\n       [-1.96153368e-02, -3.79231917e-02],\n       [-6.79496337e-02, -7.81049566e-02],\n       [-7.09571011e-02, -8.54991130e-02],\n       [-6.04309653e-02, -8.29108406e-02],\n       [ 7.18288264e-01,  4.98230870e+00],\n       [-7.33201112e-02, -8.39508093e-02],\n       [-7.03126438e-02, -8.34594188e-02],\n       [-6.90237292e-02, -8.08139587e-02],\n       [-7.76164931e-02, -9.08895823e-02],\n       [-7.35349303e-02, -8.53423764e-02],\n       [-6.77348146e-02, -7.64465136e-02],\n       [-7.43942067e-02, -8.65284915e-02],\n       [-7.43942067e-02, -8.68292563e-02],\n       [-7.31052921e-02, -8.09198618e-02],\n       [-6.64459000e-02, -7.25090353e-02],\n       [-8.55647997e-02, -9.93703048e-02],\n       [-6.77348146e-02, -8.00726368e-02],\n       [-8.27721515e-02, -9.88577336e-02],\n       [-8.44907042e-02, -9.92262765e-02],\n       [-7.31052921e-02, -8.30358063e-02],\n       [-7.20311966e-02, -8.40969556e-02],\n       [-7.61127594e-02, -8.61726569e-02],\n       [-5.80679552e-02, -8.14091342e-02],\n       [-7.31052921e-02, -8.26990343e-02],\n       [-8.47055233e-02, -9.89530465e-02],\n       [-5.93568698e-02, -7.82383946e-02],\n       [-7.18163775e-02, -8.67445338e-02],\n       [-5.93568698e-02, -8.01997205e-02],\n       [-6.90237292e-02, -8.34212937e-02],\n       [-7.41793876e-02, -8.58803643e-02],\n       [-6.25791563e-02, -8.12481615e-02],\n       [-7.54683021e-02, -8.78522806e-02],\n       [-6.36532518e-02, -8.25910131e-02],\n       [-5.33419351e-02, -7.05413552e-02],\n       [-6.25791563e-02, -8.05216660e-02],\n       [-7.54683021e-02, -9.03452402e-02],\n       [-5.93568698e-02, -7.92317659e-02],\n       [-7.00978247e-02, -8.41414349e-02],\n       [-7.41793876e-02, -8.02611443e-02],\n       [-7.11719202e-02, -7.96511423e-02],\n       [-7.22460157e-02, -8.01912483e-02],\n       [-7.65423976e-02, -8.77548497e-02],\n       [-6.15050608e-02, -8.00874632e-02],\n       [-7.54683021e-02, -8.75917589e-02],\n       [-6.42977091e-02, -8.11337861e-02],\n       [-6.58014427e-02, -8.25168810e-02],\n       [-7.20311966e-02, -7.22358053e-02],\n       [-7.07422820e-02, -7.16109768e-02],\n       [ 1.28609841e-01,  4.53166671e-02],\n       [-6.64459000e-02, -6.64090152e-02],\n       [-7.52534830e-02, -8.14514955e-02],\n       [-7.33201112e-02, -8.54546337e-02],\n       [-7.00978247e-02, -8.39508093e-02],\n       [-6.47273473e-02, -8.11825015e-02],\n       [-7.97646841e-02, -8.67657145e-02],\n       [-5.93568698e-02, -8.18200384e-02],\n       [-5.72086788e-02, -7.88250979e-02],\n       [-7.33201112e-02, -8.48213330e-02],\n       [-5.07641059e-02, -7.85666943e-02],\n       [-5.76383170e-02, -7.93461413e-02],\n       [-8.34166088e-02, -9.87772473e-02],\n       [-6.90237292e-02, -8.48912291e-02],\n       [-8.25573324e-02, -9.86692261e-02],\n       [-6.47273473e-02, -8.15150374e-02],\n       [-5.82827743e-02, -7.94901696e-02],\n       [-8.36314279e-02, -9.87963098e-02],\n       [-6.25791563e-02, -8.01827760e-02],\n       [-6.25791563e-02, -8.17819132e-02],\n       [-5.93568698e-02, -8.06423956e-02],\n       [-6.98830056e-02, -8.53677932e-02],\n       [-7.22460157e-02, -8.56770303e-02],\n       [-5.72086788e-02, -8.16717740e-02],\n       [-6.79496337e-02, -8.45417488e-02],\n       [-7.50386639e-02, -8.19810111e-02],\n       [-5.82827743e-02, -7.96511423e-02],\n       [-7.00978247e-02, -8.65179011e-02],\n       [-6.15050608e-02, -8.37792462e-02],\n       [-6.96681865e-02, -8.36733431e-02],\n       [-7.97646841e-02, -7.61965823e-02],\n       [-6.27939754e-02, -7.16808729e-02],\n       [-6.42977091e-02, -7.95028779e-02],\n       [-5.39863924e-02, -7.97888164e-02],\n       [-6.34384327e-02, -8.17755591e-02],\n       [-6.10754226e-02, -8.26143118e-02],\n       [-6.90237292e-02, -8.48488678e-02],\n       [-7.22460157e-02, -8.24491030e-02],\n       [-5.93568698e-02, -7.94499264e-02],\n       [-6.25791563e-02, -8.04983673e-02],\n       [-7.03126438e-02, -7.91216267e-02],\n       [-5.61345834e-02, -7.80625954e-02],\n       [-6.83792719e-02, -7.95134682e-02],\n       [-5.82827743e-02, -8.06445136e-02],\n       [-6.25791563e-02, -8.06805207e-02],\n       [-6.25791563e-02, -8.07080555e-02],\n       [ 1.67547487e+01,  1.59964458e+01],\n       [-7.11719202e-02, -7.88674592e-02],\n       [-6.75199955e-02, -7.50485924e-02],\n       [-6.94533674e-02, -7.59996024e-02],\n       [ 1.28609841e-01,  2.33822117e-01],\n       [-8.40610660e-02, -9.33253542e-02],\n       [-7.11719202e-02, -8.24025056e-02],\n       [-8.42758851e-02, -9.65130384e-02],\n       [-7.84757695e-02, -8.13434743e-02]])"
     },
     "execution_count": 48,
     "metadata": {},
     "output_type": "execute_result"
    }
   ],
   "source": [
    "base_cotacoes = np.array(lista_cotacao)\n",
    "scaler_base = StandardScaler()\n",
    "base_cotacoes_rend = scaler_base.fit_transform(base_cotacoes)\n",
    "base_cotacoes_rend"
   ],
   "metadata": {
    "collapsed": false,
    "pycharm": {
     "name": "#%%\n"
    }
   }
  },
  {
   "cell_type": "markdown",
   "source": [
    "lembrando que já temos o setor"
   ],
   "metadata": {
    "collapsed": false,
    "pycharm": {
     "name": "#%% md\n"
    }
   }
  },
  {
   "cell_type": "code",
   "execution_count": 49,
   "outputs": [
    {
     "data": {
      "text/plain": "KMeans(n_clusters=4)",
      "text/html": "<style>#sk-container-id-3 {color: black;background-color: white;}#sk-container-id-3 pre{padding: 0;}#sk-container-id-3 div.sk-toggleable {background-color: white;}#sk-container-id-3 label.sk-toggleable__label {cursor: pointer;display: block;width: 100%;margin-bottom: 0;padding: 0.3em;box-sizing: border-box;text-align: center;}#sk-container-id-3 label.sk-toggleable__label-arrow:before {content: \"▸\";float: left;margin-right: 0.25em;color: #696969;}#sk-container-id-3 label.sk-toggleable__label-arrow:hover:before {color: black;}#sk-container-id-3 div.sk-estimator:hover label.sk-toggleable__label-arrow:before {color: black;}#sk-container-id-3 div.sk-toggleable__content {max-height: 0;max-width: 0;overflow: hidden;text-align: left;background-color: #f0f8ff;}#sk-container-id-3 div.sk-toggleable__content pre {margin: 0.2em;color: black;border-radius: 0.25em;background-color: #f0f8ff;}#sk-container-id-3 input.sk-toggleable__control:checked~div.sk-toggleable__content {max-height: 200px;max-width: 100%;overflow: auto;}#sk-container-id-3 input.sk-toggleable__control:checked~label.sk-toggleable__label-arrow:before {content: \"▾\";}#sk-container-id-3 div.sk-estimator input.sk-toggleable__control:checked~label.sk-toggleable__label {background-color: #d4ebff;}#sk-container-id-3 div.sk-label input.sk-toggleable__control:checked~label.sk-toggleable__label {background-color: #d4ebff;}#sk-container-id-3 input.sk-hidden--visually {border: 0;clip: rect(1px 1px 1px 1px);clip: rect(1px, 1px, 1px, 1px);height: 1px;margin: -1px;overflow: hidden;padding: 0;position: absolute;width: 1px;}#sk-container-id-3 div.sk-estimator {font-family: monospace;background-color: #f0f8ff;border: 1px dotted black;border-radius: 0.25em;box-sizing: border-box;margin-bottom: 0.5em;}#sk-container-id-3 div.sk-estimator:hover {background-color: #d4ebff;}#sk-container-id-3 div.sk-parallel-item::after {content: \"\";width: 100%;border-bottom: 1px solid gray;flex-grow: 1;}#sk-container-id-3 div.sk-label:hover label.sk-toggleable__label {background-color: #d4ebff;}#sk-container-id-3 div.sk-serial::before {content: \"\";position: absolute;border-left: 1px solid gray;box-sizing: border-box;top: 0;bottom: 0;left: 50%;z-index: 0;}#sk-container-id-3 div.sk-serial {display: flex;flex-direction: column;align-items: center;background-color: white;padding-right: 0.2em;padding-left: 0.2em;position: relative;}#sk-container-id-3 div.sk-item {position: relative;z-index: 1;}#sk-container-id-3 div.sk-parallel {display: flex;align-items: stretch;justify-content: center;background-color: white;position: relative;}#sk-container-id-3 div.sk-item::before, #sk-container-id-3 div.sk-parallel-item::before {content: \"\";position: absolute;border-left: 1px solid gray;box-sizing: border-box;top: 0;bottom: 0;left: 50%;z-index: -1;}#sk-container-id-3 div.sk-parallel-item {display: flex;flex-direction: column;z-index: 1;position: relative;background-color: white;}#sk-container-id-3 div.sk-parallel-item:first-child::after {align-self: flex-end;width: 50%;}#sk-container-id-3 div.sk-parallel-item:last-child::after {align-self: flex-start;width: 50%;}#sk-container-id-3 div.sk-parallel-item:only-child::after {width: 0;}#sk-container-id-3 div.sk-dashed-wrapped {border: 1px dashed gray;margin: 0 0.4em 0.5em 0.4em;box-sizing: border-box;padding-bottom: 0.4em;background-color: white;}#sk-container-id-3 div.sk-label label {font-family: monospace;font-weight: bold;display: inline-block;line-height: 1.2em;}#sk-container-id-3 div.sk-label-container {text-align: center;}#sk-container-id-3 div.sk-container {/* jupyter's `normalize.less` sets `[hidden] { display: none; }` but bootstrap.min.css set `[hidden] { display: none !important; }` so we also need the `!important` here to be able to override the default hidden behavior on the sphinx rendered scikit-learn.org. See: https://github.com/scikit-learn/scikit-learn/issues/21755 */display: inline-block !important;position: relative;}#sk-container-id-3 div.sk-text-repr-fallback {display: none;}</style><div id=\"sk-container-id-3\" class=\"sk-top-container\"><div class=\"sk-text-repr-fallback\"><pre>KMeans(n_clusters=4)</pre><b>In a Jupyter environment, please rerun this cell to show the HTML representation or trust the notebook. <br />On GitHub, the HTML representation is unable to render, please try loading this page with nbviewer.org.</b></div><div class=\"sk-container\" hidden><div class=\"sk-item\"><div class=\"sk-estimator sk-toggleable\"><input class=\"sk-toggleable__control sk-hidden--visually\" id=\"sk-estimator-id-3\" type=\"checkbox\" checked><label for=\"sk-estimator-id-3\" class=\"sk-toggleable__label sk-toggleable__label-arrow\">KMeans</label><div class=\"sk-toggleable__content\"><pre>KMeans(n_clusters=4)</pre></div></div></div></div></div>"
     },
     "execution_count": 49,
     "metadata": {},
     "output_type": "execute_result"
    }
   ],
   "source": [
    "k_means_cotacao = KMeans(n_clusters=4)\n",
    "k_means_cotacao.fit(base_cotacoes_rend)"
   ],
   "metadata": {
    "collapsed": false,
    "pycharm": {
     "name": "#%%\n"
    }
   }
  },
  {
   "cell_type": "code",
   "execution_count": 50,
   "outputs": [
    {
     "data": {
      "text/plain": "array([[-0.06929914, -0.08215835],\n       [16.75474872, 15.99644584],\n       [ 0.71828826,  4.9823087 ],\n       [ 0.18070347,  0.18130926]])"
     },
     "execution_count": 50,
     "metadata": {},
     "output_type": "execute_result"
    }
   ],
   "source": [
    "centroides = k_means_cotacao.cluster_centers_\n",
    "centroides"
   ],
   "metadata": {
    "collapsed": false,
    "pycharm": {
     "name": "#%%\n"
    }
   }
  },
  {
   "cell_type": "code",
   "execution_count": 51,
   "outputs": [
    {
     "data": {
      "text/plain": "array([0, 0, 0, 0, 0, 0, 0, 0, 0, 0, 0, 0, 0, 3, 0, 0, 0, 0, 0, 0, 3, 3,\n       0, 0, 0, 0, 0, 0, 3, 0, 0, 0, 0, 0, 0, 0, 0, 0, 0, 0, 0, 0, 0, 0,\n       0, 0, 0, 0, 0, 0, 0, 0, 0, 0, 0, 0, 0, 0, 0, 0, 0, 0, 0, 0, 0, 0,\n       0, 0, 0, 0, 0, 0, 0, 0, 0, 0, 0, 0, 0, 3, 0, 0, 0, 0, 0, 0, 0, 0,\n       0, 0, 0, 0, 0, 0, 0, 0, 0, 0, 0, 0, 0, 0, 0, 0, 0, 0, 0, 0, 0, 0,\n       0, 0, 0, 0, 0, 0, 0, 0, 0, 0, 0, 0, 0, 0, 0, 0, 0, 0, 0, 0, 0, 0,\n       0, 0, 0, 0, 0, 0, 0, 0, 0, 0, 0, 0, 0, 0, 0, 0, 0, 0, 0, 0, 0, 0,\n       0, 0, 0, 0, 0, 0, 0, 0, 3, 0, 0, 0, 0, 0, 0, 0, 0, 0, 0, 0, 0, 0,\n       0, 0, 0, 0, 0, 0, 0, 0, 2, 0, 0, 0, 0, 0, 0, 0, 0, 0, 0, 0, 0, 0,\n       0, 0, 0, 0, 0, 0, 0, 0, 0, 0, 0, 0, 0, 0, 0, 0, 0, 0, 0, 0, 0, 0,\n       0, 0, 0, 0, 0, 0, 0, 0, 3, 0, 0, 0, 0, 0, 0, 0, 0, 0, 0, 0, 0, 0,\n       0, 0, 0, 0, 0, 0, 0, 0, 0, 0, 0, 0, 0, 0, 0, 0, 0, 0, 0, 0, 0, 0,\n       0, 0, 0, 0, 0, 0, 0, 0, 0, 0, 1, 0, 0, 0, 3, 0, 0, 0, 0])"
     },
     "execution_count": 51,
     "metadata": {},
     "output_type": "execute_result"
    }
   ],
   "source": [
    "rotulos = k_means_cotacao.labels_\n",
    "rotulos"
   ],
   "metadata": {
    "collapsed": false,
    "pycharm": {
     "name": "#%%\n"
    }
   }
  },
  {
   "cell_type": "code",
   "execution_count": 52,
   "outputs": [
    {
     "name": "stdout",
     "output_type": "stream",
     "text": [
      "1 Hotel\n",
      "2 Logística\n",
      "3 Lajes Corporativas\n",
      "4 Hospital\n",
      "5 Outros\n",
      "6 Shoppings\n",
      "7 Residencial\n",
      "8 Títulos e Val. Mob.\n",
      "9 Híbrido\n"
     ]
    }
   ],
   "source": [
    "n_cluster = df['Setor']\n",
    "n_cluster = set(n_cluster)\n",
    "nome_cluster = n_cluster\n",
    "for id, x in enumerate(nome_cluster):\n",
    "    id_n = id+1\n",
    "    print(id_n,x)"
   ],
   "metadata": {
    "collapsed": false,
    "pycharm": {
     "name": "#%%\n"
    }
   }
  },
  {
   "cell_type": "markdown",
   "source": [
    "grafico por dividendos x valor da cota"
   ],
   "metadata": {
    "collapsed": false,
    "pycharm": {
     "name": "#%% md\n"
    }
   }
  },
  {
   "cell_type": "code",
   "execution_count": 53,
   "outputs": [
    {
     "data": {
      "application/vnd.plotly.v1+json": {
       "data": [
        {
         "hovertemplate": "color=Shoppings<br>x=%{x}<br>y=%{y}<extra></extra>",
         "legendgroup": "Shoppings",
         "marker": {
          "color": "#636efa",
          "symbol": "circle"
         },
         "mode": "markers",
         "name": "Shoppings",
         "orientation": "v",
         "showlegend": true,
         "x": [
          2.38,
          84.96,
          4.49,
          28.45,
          62.5,
          2180.0,
          90.0,
          87.88,
          110.77,
          800.0,
          108.07,
          115.77,
          73.66,
          206.79,
          76.0,
          58.7,
          79.69,
          6.89,
          84.01,
          103.69,
          1579.99,
          92.0
         ],
         "xaxis": "x",
         "y": [
          0.0,
          0.25,
          0.0,
          0.18,
          0.15,
          14.24,
          0.65,
          0.45,
          0.71,
          4.48,
          0.75,
          0.72,
          0.53,
          1.3,
          0.45,
          0.37,
          0.6,
          0.03,
          0.61,
          0.7,
          10.0,
          0.36
         ],
         "yaxis": "y",
         "type": "scatter"
        },
        {
         "hovertemplate": "color=Títulos e Val. Mob.<br>x=%{x}<br>y=%{y}<extra></extra>",
         "legendgroup": "Títulos e Val. Mob.",
         "marker": {
          "color": "#EF553B",
          "symbol": "circle"
         },
         "mode": "markers",
         "name": "Títulos e Val. Mob.",
         "orientation": "v",
         "showlegend": true,
         "x": [
          14.7,
          93.0,
          1000.0,
          7.1,
          87.92,
          0.0,
          97.0,
          93.84,
          97.12,
          92.51,
          99.13,
          9.4,
          85.0,
          71.97,
          80.94,
          69.2,
          109.5,
          10.25,
          88.2,
          102.66,
          86.19,
          106.84,
          91.98,
          8.16,
          59.6,
          75.4,
          90.25,
          8.18,
          86.3,
          73.9,
          77.76,
          86.09,
          105.46,
          94.0,
          95.06,
          79.31,
          10.9,
          104.0,
          95.34,
          98.0,
          106.0,
          91.48,
          97.97,
          9.95,
          96.86,
          7.39,
          88.95,
          27.89,
          51.41,
          297.0,
          72.38,
          84.6,
          73.12,
          66.1,
          7.57,
          91.69,
          97.4,
          70.58,
          92.45,
          86.11,
          95.88,
          97.93,
          92.99,
          79.69,
          92.76,
          66.4,
          89.75,
          103.89,
          75.58,
          101.43,
          10.2,
          100.75,
          9.6,
          97.48,
          89.93,
          95.31,
          73.0,
          71.54,
          90.45,
          76.9,
          99.99,
          67.57,
          80.5,
          99.34,
          89.96,
          86.78,
          100.94,
          95.99,
          107.49,
          95.3,
          95.13,
          95.0
         ],
         "xaxis": "x",
         "y": [
          0.0,
          1.38,
          5.4,
          0.1,
          1.15,
          0.18,
          1.45,
          1.04,
          1.16,
          1.0,
          1.4,
          1.31,
          0.93,
          0.62,
          1.02,
          0.75,
          1.01,
          0.14,
          1.3,
          1.15,
          0.91,
          1.21,
          0.74,
          0.07,
          0.5,
          0.62,
          1.04,
          0.07,
          1.0,
          0.67,
          0.89,
          0.7,
          1.77,
          1.1,
          1.35,
          0.65,
          0.14,
          1.2,
          1.3,
          0.55,
          1.35,
          1.0,
          1.1,
          0.12,
          1.5,
          0.06,
          0.74,
          0.25,
          0.65,
          3.1,
          0.71,
          1.2,
          0.59,
          0.55,
          0.08,
          1.31,
          1.25,
          0.56,
          1.1,
          1.05,
          1.1,
          1.15,
          1.02,
          0.75,
          1.0,
          0.3,
          1.25,
          1.35,
          0.6,
          1.33,
          0.17,
          1.3,
          0.12,
          1.1,
          1.1,
          1.25,
          0.76,
          0.65,
          1.35,
          0.85,
          1.3,
          0.75,
          1.15,
          1.5,
          1.06,
          0.65,
          1.25,
          1.1,
          1.4,
          1.3,
          1.1,
          1.1
         ],
         "yaxis": "y",
         "type": "scatter"
        },
        {
         "hovertemplate": "color=Lajes Corporativas<br>x=%{x}<br>y=%{y}<extra></extra>",
         "legendgroup": "Lajes Corporativas",
         "marker": {
          "color": "#00cc96",
          "symbol": "circle"
         },
         "mode": "markers",
         "name": "Lajes Corporativas",
         "orientation": "v",
         "showlegend": true,
         "x": [
          6.29,
          842.0,
          165.0,
          33.85,
          112.0,
          784.0,
          62.01,
          81.89,
          86.48,
          12.78,
          89.8,
          195.0,
          43.01,
          54.73,
          14.21,
          95.8,
          45.97,
          88.04,
          50.7,
          45.69,
          71.7,
          105.5,
          80.17,
          59.99,
          258.97,
          140.77,
          82.74,
          78.78,
          1992.5,
          105.49,
          216.38,
          23999.0,
          82.01,
          61.27,
          97.11,
          137.95,
          162.51,
          91.49,
          116.3,
          35.43,
          20.38
         ],
         "xaxis": "x",
         "y": [
          0.0,
          0.0,
          0.22,
          0.0,
          1.62,
          9.16,
          0.64,
          0.0,
          0.33,
          0.09,
          0.92,
          1.68,
          0.4,
          0.4,
          0.12,
          0.56,
          0.26,
          0.54,
          0.34,
          0.35,
          0.92,
          0.59,
          0.72,
          0.49,
          1.5,
          0.78,
          0.49,
          0.72,
          27.24,
          0.36,
          1.6,
          37.45,
          0.74,
          0.5,
          0.56,
          0.72,
          0.92,
          0.51,
          0.3,
          0.1,
          0.09
         ],
         "yaxis": "y",
         "type": "scatter"
        },
        {
         "hovertemplate": "color=Híbrido<br>x=%{x}<br>y=%{y}<extra></extra>",
         "legendgroup": "Híbrido",
         "marker": {
          "color": "#ab63fa",
          "symbol": "circle"
         },
         "mode": "markers",
         "name": "Híbrido",
         "orientation": "v",
         "showlegend": true,
         "x": [
          9.4,
          35.06,
          1.04,
          4.09,
          0.0,
          98.84,
          153.18,
          98.88,
          124.49,
          87.75,
          65.82,
          101.87,
          80.0,
          87.58,
          85.1,
          0.0,
          72.51,
          99.46,
          473.51,
          94.8,
          64.8,
          40.68,
          88.08,
          9.39,
          10.24,
          0.0,
          103.4,
          101.74,
          77.91,
          74.5,
          96.95,
          99.99,
          67.52,
          94.0,
          133.71,
          98.0,
          69.2,
          101.97,
          78.79,
          62.5,
          86.46,
          72.59,
          105.11,
          9.69,
          81.0,
          137.62,
          100.69,
          76000.0
         ],
         "xaxis": "x",
         "y": [
          0.0,
          0.32,
          6.8,
          0.0,
          0.86,
          0.75,
          0.91,
          0.98,
          0.82,
          0.49,
          0.56,
          1.52,
          0.58,
          1.0,
          1.19,
          0.75,
          0.41,
          0.85,
          3.5,
          1.1,
          0.51,
          0.3,
          0.65,
          0.12,
          0.12,
          0.88,
          1.25,
          0.9,
          0.65,
          0.81,
          0.82,
          0.63,
          0.55,
          0.61,
          0.92,
          0.86,
          0.47,
          1.25,
          0.75,
          0.5,
          0.95,
          0.6,
          1.65,
          0.13,
          0.77,
          1.09,
          1.02,
          783.96
         ],
         "yaxis": "y",
         "type": "scatter"
        },
        {
         "hovertemplate": "color=Logística<br>x=%{x}<br>y=%{y}<extra></extra>",
         "legendgroup": "Logística",
         "marker": {
          "color": "#FFA15A",
          "symbol": "circle"
         },
         "mode": "markers",
         "name": "Logística",
         "orientation": "v",
         "showlegend": true,
         "x": [
          351.0,
          108.49,
          158.02,
          94.15,
          105.15,
          169.49,
          108.17,
          76.98,
          83.64,
          95.55,
          57.1,
          94.73,
          107.65,
          95.0,
          237.83,
          94.5,
          115.12,
          82.19,
          49.5,
          97.44,
          102.49,
          117.23
         ],
         "xaxis": "x",
         "y": [
          0.48,
          0.74,
          1.35,
          0.83,
          0.65,
          1.1,
          0.72,
          0.75,
          0.62,
          0.76,
          0.42,
          0.65,
          0.72,
          0.68,
          1.75,
          0.8,
          0.86,
          0.8,
          0.5,
          0.65,
          0.74,
          0.78
         ],
         "yaxis": "y",
         "type": "scatter"
        },
        {
         "hovertemplate": "color=Hotel<br>x=%{x}<br>y=%{y}<extra></extra>",
         "legendgroup": "Hotel",
         "marker": {
          "color": "#19d3f3",
          "symbol": "circle"
         },
         "mode": "markers",
         "name": "Hotel",
         "orientation": "v",
         "showlegend": true,
         "x": [
          115.5,
          112.0,
          75.25
         ],
         "xaxis": "x",
         "y": [
          0.0,
          0.54,
          0.8
         ],
         "yaxis": "y",
         "type": "scatter"
        },
        {
         "hovertemplate": "color=Residencial<br>x=%{x}<br>y=%{y}<extra></extra>",
         "legendgroup": "Residencial",
         "marker": {
          "color": "#FF6692",
          "symbol": "circle"
         },
         "mode": "markers",
         "name": "Residencial",
         "orientation": "v",
         "showlegend": true,
         "x": [
          0.0,
          0.96,
          3.71,
          94.0,
          70.25,
          0.0,
          13.99,
          78.55,
          75.44,
          79.4
         ],
         "xaxis": "x",
         "y": [
          0.0,
          0.0,
          0.0,
          0.75,
          0.0,
          0.6,
          0.27,
          0.56,
          0.62,
          0.67
         ],
         "yaxis": "y",
         "type": "scatter"
        },
        {
         "hovertemplate": "color=Outros<br>x=%{x}<br>y=%{y}<extra></extra>",
         "legendgroup": "Outros",
         "marker": {
          "color": "#B6E880",
          "symbol": "circle"
         },
         "mode": "markers",
         "name": "Outros",
         "orientation": "v",
         "showlegend": true,
         "x": [
          42.42,
          910.0,
          1520.0,
          79.6,
          8.06,
          7.73,
          103.7,
          0.0,
          103.3,
          10.82,
          106.03,
          0.0,
          119.49,
          85.4,
          93.98,
          49.88,
          39.97,
          126.47,
          82.99,
          98.7,
          134.1,
          9.18,
          107.29,
          46.93,
          9.31,
          79.0,
          85.6,
          8.86,
          106.66,
          66.5,
          143.0,
          99.99,
          61.73,
          135.0,
          690.0,
          91.19,
          88.99,
          86.0,
          75.45,
          100.64,
          121.72,
          87.0
         ],
         "xaxis": "x",
         "y": [
          0.17,
          10.76,
          12.6,
          0.75,
          0.17,
          0.07,
          1.2,
          0.68,
          0.99,
          0.03,
          0.99,
          0.44,
          1.47,
          0.83,
          1.02,
          0.35,
          0.34,
          1.58,
          0.88,
          1.0,
          1.18,
          0.15,
          0.85,
          0.4,
          0.16,
          0.66,
          0.61,
          0.07,
          1.25,
          0.67,
          1.53,
          0.7,
          0.45,
          0.66,
          10.0,
          1.0,
          0.52,
          1.17,
          0.8,
          0.83,
          0.87,
          0.7
         ],
         "yaxis": "y",
         "type": "scatter"
        },
        {
         "hovertemplate": "color=Hospital<br>x=%{x}<br>y=%{y}<extra></extra>",
         "legendgroup": "Hospital",
         "marker": {
          "color": "#FF97FF",
          "symbol": "circle"
         },
         "mode": "markers",
         "name": "Hospital",
         "orientation": "v",
         "showlegend": true,
         "x": [
          240.99,
          160.0,
          10.25
         ],
         "xaxis": "x",
         "y": [
          2.49,
          0.46,
          0.08
         ],
         "yaxis": "y",
         "type": "scatter"
        }
       ],
       "layout": {
        "template": {
         "data": {
          "histogram2dcontour": [
           {
            "type": "histogram2dcontour",
            "colorbar": {
             "outlinewidth": 0,
             "ticks": ""
            },
            "colorscale": [
             [
              0.0,
              "#0d0887"
             ],
             [
              0.1111111111111111,
              "#46039f"
             ],
             [
              0.2222222222222222,
              "#7201a8"
             ],
             [
              0.3333333333333333,
              "#9c179e"
             ],
             [
              0.4444444444444444,
              "#bd3786"
             ],
             [
              0.5555555555555556,
              "#d8576b"
             ],
             [
              0.6666666666666666,
              "#ed7953"
             ],
             [
              0.7777777777777778,
              "#fb9f3a"
             ],
             [
              0.8888888888888888,
              "#fdca26"
             ],
             [
              1.0,
              "#f0f921"
             ]
            ]
           }
          ],
          "choropleth": [
           {
            "type": "choropleth",
            "colorbar": {
             "outlinewidth": 0,
             "ticks": ""
            }
           }
          ],
          "histogram2d": [
           {
            "type": "histogram2d",
            "colorbar": {
             "outlinewidth": 0,
             "ticks": ""
            },
            "colorscale": [
             [
              0.0,
              "#0d0887"
             ],
             [
              0.1111111111111111,
              "#46039f"
             ],
             [
              0.2222222222222222,
              "#7201a8"
             ],
             [
              0.3333333333333333,
              "#9c179e"
             ],
             [
              0.4444444444444444,
              "#bd3786"
             ],
             [
              0.5555555555555556,
              "#d8576b"
             ],
             [
              0.6666666666666666,
              "#ed7953"
             ],
             [
              0.7777777777777778,
              "#fb9f3a"
             ],
             [
              0.8888888888888888,
              "#fdca26"
             ],
             [
              1.0,
              "#f0f921"
             ]
            ]
           }
          ],
          "heatmap": [
           {
            "type": "heatmap",
            "colorbar": {
             "outlinewidth": 0,
             "ticks": ""
            },
            "colorscale": [
             [
              0.0,
              "#0d0887"
             ],
             [
              0.1111111111111111,
              "#46039f"
             ],
             [
              0.2222222222222222,
              "#7201a8"
             ],
             [
              0.3333333333333333,
              "#9c179e"
             ],
             [
              0.4444444444444444,
              "#bd3786"
             ],
             [
              0.5555555555555556,
              "#d8576b"
             ],
             [
              0.6666666666666666,
              "#ed7953"
             ],
             [
              0.7777777777777778,
              "#fb9f3a"
             ],
             [
              0.8888888888888888,
              "#fdca26"
             ],
             [
              1.0,
              "#f0f921"
             ]
            ]
           }
          ],
          "heatmapgl": [
           {
            "type": "heatmapgl",
            "colorbar": {
             "outlinewidth": 0,
             "ticks": ""
            },
            "colorscale": [
             [
              0.0,
              "#0d0887"
             ],
             [
              0.1111111111111111,
              "#46039f"
             ],
             [
              0.2222222222222222,
              "#7201a8"
             ],
             [
              0.3333333333333333,
              "#9c179e"
             ],
             [
              0.4444444444444444,
              "#bd3786"
             ],
             [
              0.5555555555555556,
              "#d8576b"
             ],
             [
              0.6666666666666666,
              "#ed7953"
             ],
             [
              0.7777777777777778,
              "#fb9f3a"
             ],
             [
              0.8888888888888888,
              "#fdca26"
             ],
             [
              1.0,
              "#f0f921"
             ]
            ]
           }
          ],
          "contourcarpet": [
           {
            "type": "contourcarpet",
            "colorbar": {
             "outlinewidth": 0,
             "ticks": ""
            }
           }
          ],
          "contour": [
           {
            "type": "contour",
            "colorbar": {
             "outlinewidth": 0,
             "ticks": ""
            },
            "colorscale": [
             [
              0.0,
              "#0d0887"
             ],
             [
              0.1111111111111111,
              "#46039f"
             ],
             [
              0.2222222222222222,
              "#7201a8"
             ],
             [
              0.3333333333333333,
              "#9c179e"
             ],
             [
              0.4444444444444444,
              "#bd3786"
             ],
             [
              0.5555555555555556,
              "#d8576b"
             ],
             [
              0.6666666666666666,
              "#ed7953"
             ],
             [
              0.7777777777777778,
              "#fb9f3a"
             ],
             [
              0.8888888888888888,
              "#fdca26"
             ],
             [
              1.0,
              "#f0f921"
             ]
            ]
           }
          ],
          "surface": [
           {
            "type": "surface",
            "colorbar": {
             "outlinewidth": 0,
             "ticks": ""
            },
            "colorscale": [
             [
              0.0,
              "#0d0887"
             ],
             [
              0.1111111111111111,
              "#46039f"
             ],
             [
              0.2222222222222222,
              "#7201a8"
             ],
             [
              0.3333333333333333,
              "#9c179e"
             ],
             [
              0.4444444444444444,
              "#bd3786"
             ],
             [
              0.5555555555555556,
              "#d8576b"
             ],
             [
              0.6666666666666666,
              "#ed7953"
             ],
             [
              0.7777777777777778,
              "#fb9f3a"
             ],
             [
              0.8888888888888888,
              "#fdca26"
             ],
             [
              1.0,
              "#f0f921"
             ]
            ]
           }
          ],
          "mesh3d": [
           {
            "type": "mesh3d",
            "colorbar": {
             "outlinewidth": 0,
             "ticks": ""
            }
           }
          ],
          "scatter": [
           {
            "marker": {
             "line": {
              "color": "#283442"
             }
            },
            "type": "scatter"
           }
          ],
          "parcoords": [
           {
            "type": "parcoords",
            "line": {
             "colorbar": {
              "outlinewidth": 0,
              "ticks": ""
             }
            }
           }
          ],
          "scatterpolargl": [
           {
            "type": "scatterpolargl",
            "marker": {
             "colorbar": {
              "outlinewidth": 0,
              "ticks": ""
             }
            }
           }
          ],
          "bar": [
           {
            "error_x": {
             "color": "#f2f5fa"
            },
            "error_y": {
             "color": "#f2f5fa"
            },
            "marker": {
             "line": {
              "color": "rgb(17,17,17)",
              "width": 0.5
             },
             "pattern": {
              "fillmode": "overlay",
              "size": 10,
              "solidity": 0.2
             }
            },
            "type": "bar"
           }
          ],
          "scattergeo": [
           {
            "type": "scattergeo",
            "marker": {
             "colorbar": {
              "outlinewidth": 0,
              "ticks": ""
             }
            }
           }
          ],
          "scatterpolar": [
           {
            "type": "scatterpolar",
            "marker": {
             "colorbar": {
              "outlinewidth": 0,
              "ticks": ""
             }
            }
           }
          ],
          "histogram": [
           {
            "marker": {
             "pattern": {
              "fillmode": "overlay",
              "size": 10,
              "solidity": 0.2
             }
            },
            "type": "histogram"
           }
          ],
          "scattergl": [
           {
            "marker": {
             "line": {
              "color": "#283442"
             }
            },
            "type": "scattergl"
           }
          ],
          "scatter3d": [
           {
            "type": "scatter3d",
            "line": {
             "colorbar": {
              "outlinewidth": 0,
              "ticks": ""
             }
            },
            "marker": {
             "colorbar": {
              "outlinewidth": 0,
              "ticks": ""
             }
            }
           }
          ],
          "scattermapbox": [
           {
            "type": "scattermapbox",
            "marker": {
             "colorbar": {
              "outlinewidth": 0,
              "ticks": ""
             }
            }
           }
          ],
          "scatterternary": [
           {
            "type": "scatterternary",
            "marker": {
             "colorbar": {
              "outlinewidth": 0,
              "ticks": ""
             }
            }
           }
          ],
          "scattercarpet": [
           {
            "type": "scattercarpet",
            "marker": {
             "colorbar": {
              "outlinewidth": 0,
              "ticks": ""
             }
            }
           }
          ],
          "carpet": [
           {
            "aaxis": {
             "endlinecolor": "#A2B1C6",
             "gridcolor": "#506784",
             "linecolor": "#506784",
             "minorgridcolor": "#506784",
             "startlinecolor": "#A2B1C6"
            },
            "baxis": {
             "endlinecolor": "#A2B1C6",
             "gridcolor": "#506784",
             "linecolor": "#506784",
             "minorgridcolor": "#506784",
             "startlinecolor": "#A2B1C6"
            },
            "type": "carpet"
           }
          ],
          "table": [
           {
            "cells": {
             "fill": {
              "color": "#506784"
             },
             "line": {
              "color": "rgb(17,17,17)"
             }
            },
            "header": {
             "fill": {
              "color": "#2a3f5f"
             },
             "line": {
              "color": "rgb(17,17,17)"
             }
            },
            "type": "table"
           }
          ],
          "barpolar": [
           {
            "marker": {
             "line": {
              "color": "rgb(17,17,17)",
              "width": 0.5
             },
             "pattern": {
              "fillmode": "overlay",
              "size": 10,
              "solidity": 0.2
             }
            },
            "type": "barpolar"
           }
          ],
          "pie": [
           {
            "automargin": true,
            "type": "pie"
           }
          ]
         },
         "layout": {
          "autotypenumbers": "strict",
          "colorway": [
           "#636efa",
           "#EF553B",
           "#00cc96",
           "#ab63fa",
           "#FFA15A",
           "#19d3f3",
           "#FF6692",
           "#B6E880",
           "#FF97FF",
           "#FECB52"
          ],
          "font": {
           "color": "#f2f5fa"
          },
          "hovermode": "closest",
          "hoverlabel": {
           "align": "left"
          },
          "paper_bgcolor": "rgb(17,17,17)",
          "plot_bgcolor": "rgb(17,17,17)",
          "polar": {
           "bgcolor": "rgb(17,17,17)",
           "angularaxis": {
            "gridcolor": "#506784",
            "linecolor": "#506784",
            "ticks": ""
           },
           "radialaxis": {
            "gridcolor": "#506784",
            "linecolor": "#506784",
            "ticks": ""
           }
          },
          "ternary": {
           "bgcolor": "rgb(17,17,17)",
           "aaxis": {
            "gridcolor": "#506784",
            "linecolor": "#506784",
            "ticks": ""
           },
           "baxis": {
            "gridcolor": "#506784",
            "linecolor": "#506784",
            "ticks": ""
           },
           "caxis": {
            "gridcolor": "#506784",
            "linecolor": "#506784",
            "ticks": ""
           }
          },
          "coloraxis": {
           "colorbar": {
            "outlinewidth": 0,
            "ticks": ""
           }
          },
          "colorscale": {
           "sequential": [
            [
             0.0,
             "#0d0887"
            ],
            [
             0.1111111111111111,
             "#46039f"
            ],
            [
             0.2222222222222222,
             "#7201a8"
            ],
            [
             0.3333333333333333,
             "#9c179e"
            ],
            [
             0.4444444444444444,
             "#bd3786"
            ],
            [
             0.5555555555555556,
             "#d8576b"
            ],
            [
             0.6666666666666666,
             "#ed7953"
            ],
            [
             0.7777777777777778,
             "#fb9f3a"
            ],
            [
             0.8888888888888888,
             "#fdca26"
            ],
            [
             1.0,
             "#f0f921"
            ]
           ],
           "sequentialminus": [
            [
             0.0,
             "#0d0887"
            ],
            [
             0.1111111111111111,
             "#46039f"
            ],
            [
             0.2222222222222222,
             "#7201a8"
            ],
            [
             0.3333333333333333,
             "#9c179e"
            ],
            [
             0.4444444444444444,
             "#bd3786"
            ],
            [
             0.5555555555555556,
             "#d8576b"
            ],
            [
             0.6666666666666666,
             "#ed7953"
            ],
            [
             0.7777777777777778,
             "#fb9f3a"
            ],
            [
             0.8888888888888888,
             "#fdca26"
            ],
            [
             1.0,
             "#f0f921"
            ]
           ],
           "diverging": [
            [
             0,
             "#8e0152"
            ],
            [
             0.1,
             "#c51b7d"
            ],
            [
             0.2,
             "#de77ae"
            ],
            [
             0.3,
             "#f1b6da"
            ],
            [
             0.4,
             "#fde0ef"
            ],
            [
             0.5,
             "#f7f7f7"
            ],
            [
             0.6,
             "#e6f5d0"
            ],
            [
             0.7,
             "#b8e186"
            ],
            [
             0.8,
             "#7fbc41"
            ],
            [
             0.9,
             "#4d9221"
            ],
            [
             1,
             "#276419"
            ]
           ]
          },
          "xaxis": {
           "gridcolor": "#283442",
           "linecolor": "#506784",
           "ticks": "",
           "title": {
            "standoff": 15
           },
           "zerolinecolor": "#283442",
           "automargin": true,
           "zerolinewidth": 2
          },
          "yaxis": {
           "gridcolor": "#283442",
           "linecolor": "#506784",
           "ticks": "",
           "title": {
            "standoff": 15
           },
           "zerolinecolor": "#283442",
           "automargin": true,
           "zerolinewidth": 2
          },
          "scene": {
           "xaxis": {
            "backgroundcolor": "rgb(17,17,17)",
            "gridcolor": "#506784",
            "linecolor": "#506784",
            "showbackground": true,
            "ticks": "",
            "zerolinecolor": "#C8D4E3",
            "gridwidth": 2
           },
           "yaxis": {
            "backgroundcolor": "rgb(17,17,17)",
            "gridcolor": "#506784",
            "linecolor": "#506784",
            "showbackground": true,
            "ticks": "",
            "zerolinecolor": "#C8D4E3",
            "gridwidth": 2
           },
           "zaxis": {
            "backgroundcolor": "rgb(17,17,17)",
            "gridcolor": "#506784",
            "linecolor": "#506784",
            "showbackground": true,
            "ticks": "",
            "zerolinecolor": "#C8D4E3",
            "gridwidth": 2
           }
          },
          "shapedefaults": {
           "line": {
            "color": "#f2f5fa"
           }
          },
          "annotationdefaults": {
           "arrowcolor": "#f2f5fa",
           "arrowhead": 0,
           "arrowwidth": 1
          },
          "geo": {
           "bgcolor": "rgb(17,17,17)",
           "landcolor": "rgb(17,17,17)",
           "subunitcolor": "#506784",
           "showland": true,
           "showlakes": true,
           "lakecolor": "rgb(17,17,17)"
          },
          "title": {
           "x": 0.05
          },
          "updatemenudefaults": {
           "bgcolor": "#506784",
           "borderwidth": 0
          },
          "sliderdefaults": {
           "bgcolor": "#C8D4E3",
           "borderwidth": 1,
           "bordercolor": "rgb(17,17,17)",
           "tickwidth": 0
          },
          "mapbox": {
           "style": "dark"
          }
         }
        },
        "xaxis": {
         "anchor": "y",
         "domain": [
          0.0,
          1.0
         ],
         "title": {
          "text": "x"
         }
        },
        "yaxis": {
         "anchor": "x",
         "domain": [
          0.0,
          1.0
         ],
         "title": {
          "text": "y"
         }
        },
        "legend": {
         "title": {
          "text": "color"
         },
         "tracegroupgap": 0
        },
        "margin": {
         "t": 60
        }
       },
       "config": {
        "plotlyServerURL": "https://plot.ly"
       }
      },
      "text/html": "<div>                            <div id=\"57795a9c-fd4d-41d4-b18d-31b577c2eb3d\" class=\"plotly-graph-div\" style=\"height:525px; width:100%;\"></div>            <script type=\"text/javascript\">                require([\"plotly\"], function(Plotly) {                    window.PLOTLYENV=window.PLOTLYENV || {};                                    if (document.getElementById(\"57795a9c-fd4d-41d4-b18d-31b577c2eb3d\")) {                    Plotly.newPlot(                        \"57795a9c-fd4d-41d4-b18d-31b577c2eb3d\",                        [{\"hovertemplate\":\"color=Shoppings<br>x=%{x}<br>y=%{y}<extra></extra>\",\"legendgroup\":\"Shoppings\",\"marker\":{\"color\":\"#636efa\",\"symbol\":\"circle\"},\"mode\":\"markers\",\"name\":\"Shoppings\",\"orientation\":\"v\",\"showlegend\":true,\"x\":[2.38,84.96,4.49,28.45,62.5,2180.0,90.0,87.88,110.77,800.0,108.07,115.77,73.66,206.79,76.0,58.7,79.69,6.89,84.01,103.69,1579.99,92.0],\"xaxis\":\"x\",\"y\":[0.0,0.25,0.0,0.18,0.15,14.24,0.65,0.45,0.71,4.48,0.75,0.72,0.53,1.3,0.45,0.37,0.6,0.03,0.61,0.7,10.0,0.36],\"yaxis\":\"y\",\"type\":\"scatter\"},{\"hovertemplate\":\"color=T\\u00edtulos e Val. Mob.<br>x=%{x}<br>y=%{y}<extra></extra>\",\"legendgroup\":\"T\\u00edtulos e Val. Mob.\",\"marker\":{\"color\":\"#EF553B\",\"symbol\":\"circle\"},\"mode\":\"markers\",\"name\":\"T\\u00edtulos e Val. Mob.\",\"orientation\":\"v\",\"showlegend\":true,\"x\":[14.7,93.0,1000.0,7.1,87.92,0.0,97.0,93.84,97.12,92.51,99.13,9.4,85.0,71.97,80.94,69.2,109.5,10.25,88.2,102.66,86.19,106.84,91.98,8.16,59.6,75.4,90.25,8.18,86.3,73.9,77.76,86.09,105.46,94.0,95.06,79.31,10.9,104.0,95.34,98.0,106.0,91.48,97.97,9.95,96.86,7.39,88.95,27.89,51.41,297.0,72.38,84.6,73.12,66.1,7.57,91.69,97.4,70.58,92.45,86.11,95.88,97.93,92.99,79.69,92.76,66.4,89.75,103.89,75.58,101.43,10.2,100.75,9.6,97.48,89.93,95.31,73.0,71.54,90.45,76.9,99.99,67.57,80.5,99.34,89.96,86.78,100.94,95.99,107.49,95.3,95.13,95.0],\"xaxis\":\"x\",\"y\":[0.0,1.38,5.4,0.1,1.15,0.18,1.45,1.04,1.16,1.0,1.4,1.31,0.93,0.62,1.02,0.75,1.01,0.14,1.3,1.15,0.91,1.21,0.74,0.07,0.5,0.62,1.04,0.07,1.0,0.67,0.89,0.7,1.77,1.1,1.35,0.65,0.14,1.2,1.3,0.55,1.35,1.0,1.1,0.12,1.5,0.06,0.74,0.25,0.65,3.1,0.71,1.2,0.59,0.55,0.08,1.31,1.25,0.56,1.1,1.05,1.1,1.15,1.02,0.75,1.0,0.3,1.25,1.35,0.6,1.33,0.17,1.3,0.12,1.1,1.1,1.25,0.76,0.65,1.35,0.85,1.3,0.75,1.15,1.5,1.06,0.65,1.25,1.1,1.4,1.3,1.1,1.1],\"yaxis\":\"y\",\"type\":\"scatter\"},{\"hovertemplate\":\"color=Lajes Corporativas<br>x=%{x}<br>y=%{y}<extra></extra>\",\"legendgroup\":\"Lajes Corporativas\",\"marker\":{\"color\":\"#00cc96\",\"symbol\":\"circle\"},\"mode\":\"markers\",\"name\":\"Lajes Corporativas\",\"orientation\":\"v\",\"showlegend\":true,\"x\":[6.29,842.0,165.0,33.85,112.0,784.0,62.01,81.89,86.48,12.78,89.8,195.0,43.01,54.73,14.21,95.8,45.97,88.04,50.7,45.69,71.7,105.5,80.17,59.99,258.97,140.77,82.74,78.78,1992.5,105.49,216.38,23999.0,82.01,61.27,97.11,137.95,162.51,91.49,116.3,35.43,20.38],\"xaxis\":\"x\",\"y\":[0.0,0.0,0.22,0.0,1.62,9.16,0.64,0.0,0.33,0.09,0.92,1.68,0.4,0.4,0.12,0.56,0.26,0.54,0.34,0.35,0.92,0.59,0.72,0.49,1.5,0.78,0.49,0.72,27.24,0.36,1.6,37.45,0.74,0.5,0.56,0.72,0.92,0.51,0.3,0.1,0.09],\"yaxis\":\"y\",\"type\":\"scatter\"},{\"hovertemplate\":\"color=H\\u00edbrido<br>x=%{x}<br>y=%{y}<extra></extra>\",\"legendgroup\":\"H\\u00edbrido\",\"marker\":{\"color\":\"#ab63fa\",\"symbol\":\"circle\"},\"mode\":\"markers\",\"name\":\"H\\u00edbrido\",\"orientation\":\"v\",\"showlegend\":true,\"x\":[9.4,35.06,1.04,4.09,0.0,98.84,153.18,98.88,124.49,87.75,65.82,101.87,80.0,87.58,85.1,0.0,72.51,99.46,473.51,94.8,64.8,40.68,88.08,9.39,10.24,0.0,103.4,101.74,77.91,74.5,96.95,99.99,67.52,94.0,133.71,98.0,69.2,101.97,78.79,62.5,86.46,72.59,105.11,9.69,81.0,137.62,100.69,76000.0],\"xaxis\":\"x\",\"y\":[0.0,0.32,6.8,0.0,0.86,0.75,0.91,0.98,0.82,0.49,0.56,1.52,0.58,1.0,1.19,0.75,0.41,0.85,3.5,1.1,0.51,0.3,0.65,0.12,0.12,0.88,1.25,0.9,0.65,0.81,0.82,0.63,0.55,0.61,0.92,0.86,0.47,1.25,0.75,0.5,0.95,0.6,1.65,0.13,0.77,1.09,1.02,783.96],\"yaxis\":\"y\",\"type\":\"scatter\"},{\"hovertemplate\":\"color=Log\\u00edstica<br>x=%{x}<br>y=%{y}<extra></extra>\",\"legendgroup\":\"Log\\u00edstica\",\"marker\":{\"color\":\"#FFA15A\",\"symbol\":\"circle\"},\"mode\":\"markers\",\"name\":\"Log\\u00edstica\",\"orientation\":\"v\",\"showlegend\":true,\"x\":[351.0,108.49,158.02,94.15,105.15,169.49,108.17,76.98,83.64,95.55,57.1,94.73,107.65,95.0,237.83,94.5,115.12,82.19,49.5,97.44,102.49,117.23],\"xaxis\":\"x\",\"y\":[0.48,0.74,1.35,0.83,0.65,1.1,0.72,0.75,0.62,0.76,0.42,0.65,0.72,0.68,1.75,0.8,0.86,0.8,0.5,0.65,0.74,0.78],\"yaxis\":\"y\",\"type\":\"scatter\"},{\"hovertemplate\":\"color=Hotel<br>x=%{x}<br>y=%{y}<extra></extra>\",\"legendgroup\":\"Hotel\",\"marker\":{\"color\":\"#19d3f3\",\"symbol\":\"circle\"},\"mode\":\"markers\",\"name\":\"Hotel\",\"orientation\":\"v\",\"showlegend\":true,\"x\":[115.5,112.0,75.25],\"xaxis\":\"x\",\"y\":[0.0,0.54,0.8],\"yaxis\":\"y\",\"type\":\"scatter\"},{\"hovertemplate\":\"color=Residencial<br>x=%{x}<br>y=%{y}<extra></extra>\",\"legendgroup\":\"Residencial\",\"marker\":{\"color\":\"#FF6692\",\"symbol\":\"circle\"},\"mode\":\"markers\",\"name\":\"Residencial\",\"orientation\":\"v\",\"showlegend\":true,\"x\":[0.0,0.96,3.71,94.0,70.25,0.0,13.99,78.55,75.44,79.4],\"xaxis\":\"x\",\"y\":[0.0,0.0,0.0,0.75,0.0,0.6,0.27,0.56,0.62,0.67],\"yaxis\":\"y\",\"type\":\"scatter\"},{\"hovertemplate\":\"color=Outros<br>x=%{x}<br>y=%{y}<extra></extra>\",\"legendgroup\":\"Outros\",\"marker\":{\"color\":\"#B6E880\",\"symbol\":\"circle\"},\"mode\":\"markers\",\"name\":\"Outros\",\"orientation\":\"v\",\"showlegend\":true,\"x\":[42.42,910.0,1520.0,79.6,8.06,7.73,103.7,0.0,103.3,10.82,106.03,0.0,119.49,85.4,93.98,49.88,39.97,126.47,82.99,98.7,134.1,9.18,107.29,46.93,9.31,79.0,85.6,8.86,106.66,66.5,143.0,99.99,61.73,135.0,690.0,91.19,88.99,86.0,75.45,100.64,121.72,87.0],\"xaxis\":\"x\",\"y\":[0.17,10.76,12.6,0.75,0.17,0.07,1.2,0.68,0.99,0.03,0.99,0.44,1.47,0.83,1.02,0.35,0.34,1.58,0.88,1.0,1.18,0.15,0.85,0.4,0.16,0.66,0.61,0.07,1.25,0.67,1.53,0.7,0.45,0.66,10.0,1.0,0.52,1.17,0.8,0.83,0.87,0.7],\"yaxis\":\"y\",\"type\":\"scatter\"},{\"hovertemplate\":\"color=Hospital<br>x=%{x}<br>y=%{y}<extra></extra>\",\"legendgroup\":\"Hospital\",\"marker\":{\"color\":\"#FF97FF\",\"symbol\":\"circle\"},\"mode\":\"markers\",\"name\":\"Hospital\",\"orientation\":\"v\",\"showlegend\":true,\"x\":[240.99,160.0,10.25],\"xaxis\":\"x\",\"y\":[2.49,0.46,0.08],\"yaxis\":\"y\",\"type\":\"scatter\"}],                        {\"template\":{\"data\":{\"histogram2dcontour\":[{\"type\":\"histogram2dcontour\",\"colorbar\":{\"outlinewidth\":0,\"ticks\":\"\"},\"colorscale\":[[0.0,\"#0d0887\"],[0.1111111111111111,\"#46039f\"],[0.2222222222222222,\"#7201a8\"],[0.3333333333333333,\"#9c179e\"],[0.4444444444444444,\"#bd3786\"],[0.5555555555555556,\"#d8576b\"],[0.6666666666666666,\"#ed7953\"],[0.7777777777777778,\"#fb9f3a\"],[0.8888888888888888,\"#fdca26\"],[1.0,\"#f0f921\"]]}],\"choropleth\":[{\"type\":\"choropleth\",\"colorbar\":{\"outlinewidth\":0,\"ticks\":\"\"}}],\"histogram2d\":[{\"type\":\"histogram2d\",\"colorbar\":{\"outlinewidth\":0,\"ticks\":\"\"},\"colorscale\":[[0.0,\"#0d0887\"],[0.1111111111111111,\"#46039f\"],[0.2222222222222222,\"#7201a8\"],[0.3333333333333333,\"#9c179e\"],[0.4444444444444444,\"#bd3786\"],[0.5555555555555556,\"#d8576b\"],[0.6666666666666666,\"#ed7953\"],[0.7777777777777778,\"#fb9f3a\"],[0.8888888888888888,\"#fdca26\"],[1.0,\"#f0f921\"]]}],\"heatmap\":[{\"type\":\"heatmap\",\"colorbar\":{\"outlinewidth\":0,\"ticks\":\"\"},\"colorscale\":[[0.0,\"#0d0887\"],[0.1111111111111111,\"#46039f\"],[0.2222222222222222,\"#7201a8\"],[0.3333333333333333,\"#9c179e\"],[0.4444444444444444,\"#bd3786\"],[0.5555555555555556,\"#d8576b\"],[0.6666666666666666,\"#ed7953\"],[0.7777777777777778,\"#fb9f3a\"],[0.8888888888888888,\"#fdca26\"],[1.0,\"#f0f921\"]]}],\"heatmapgl\":[{\"type\":\"heatmapgl\",\"colorbar\":{\"outlinewidth\":0,\"ticks\":\"\"},\"colorscale\":[[0.0,\"#0d0887\"],[0.1111111111111111,\"#46039f\"],[0.2222222222222222,\"#7201a8\"],[0.3333333333333333,\"#9c179e\"],[0.4444444444444444,\"#bd3786\"],[0.5555555555555556,\"#d8576b\"],[0.6666666666666666,\"#ed7953\"],[0.7777777777777778,\"#fb9f3a\"],[0.8888888888888888,\"#fdca26\"],[1.0,\"#f0f921\"]]}],\"contourcarpet\":[{\"type\":\"contourcarpet\",\"colorbar\":{\"outlinewidth\":0,\"ticks\":\"\"}}],\"contour\":[{\"type\":\"contour\",\"colorbar\":{\"outlinewidth\":0,\"ticks\":\"\"},\"colorscale\":[[0.0,\"#0d0887\"],[0.1111111111111111,\"#46039f\"],[0.2222222222222222,\"#7201a8\"],[0.3333333333333333,\"#9c179e\"],[0.4444444444444444,\"#bd3786\"],[0.5555555555555556,\"#d8576b\"],[0.6666666666666666,\"#ed7953\"],[0.7777777777777778,\"#fb9f3a\"],[0.8888888888888888,\"#fdca26\"],[1.0,\"#f0f921\"]]}],\"surface\":[{\"type\":\"surface\",\"colorbar\":{\"outlinewidth\":0,\"ticks\":\"\"},\"colorscale\":[[0.0,\"#0d0887\"],[0.1111111111111111,\"#46039f\"],[0.2222222222222222,\"#7201a8\"],[0.3333333333333333,\"#9c179e\"],[0.4444444444444444,\"#bd3786\"],[0.5555555555555556,\"#d8576b\"],[0.6666666666666666,\"#ed7953\"],[0.7777777777777778,\"#fb9f3a\"],[0.8888888888888888,\"#fdca26\"],[1.0,\"#f0f921\"]]}],\"mesh3d\":[{\"type\":\"mesh3d\",\"colorbar\":{\"outlinewidth\":0,\"ticks\":\"\"}}],\"scatter\":[{\"marker\":{\"line\":{\"color\":\"#283442\"}},\"type\":\"scatter\"}],\"parcoords\":[{\"type\":\"parcoords\",\"line\":{\"colorbar\":{\"outlinewidth\":0,\"ticks\":\"\"}}}],\"scatterpolargl\":[{\"type\":\"scatterpolargl\",\"marker\":{\"colorbar\":{\"outlinewidth\":0,\"ticks\":\"\"}}}],\"bar\":[{\"error_x\":{\"color\":\"#f2f5fa\"},\"error_y\":{\"color\":\"#f2f5fa\"},\"marker\":{\"line\":{\"color\":\"rgb(17,17,17)\",\"width\":0.5},\"pattern\":{\"fillmode\":\"overlay\",\"size\":10,\"solidity\":0.2}},\"type\":\"bar\"}],\"scattergeo\":[{\"type\":\"scattergeo\",\"marker\":{\"colorbar\":{\"outlinewidth\":0,\"ticks\":\"\"}}}],\"scatterpolar\":[{\"type\":\"scatterpolar\",\"marker\":{\"colorbar\":{\"outlinewidth\":0,\"ticks\":\"\"}}}],\"histogram\":[{\"marker\":{\"pattern\":{\"fillmode\":\"overlay\",\"size\":10,\"solidity\":0.2}},\"type\":\"histogram\"}],\"scattergl\":[{\"marker\":{\"line\":{\"color\":\"#283442\"}},\"type\":\"scattergl\"}],\"scatter3d\":[{\"type\":\"scatter3d\",\"line\":{\"colorbar\":{\"outlinewidth\":0,\"ticks\":\"\"}},\"marker\":{\"colorbar\":{\"outlinewidth\":0,\"ticks\":\"\"}}}],\"scattermapbox\":[{\"type\":\"scattermapbox\",\"marker\":{\"colorbar\":{\"outlinewidth\":0,\"ticks\":\"\"}}}],\"scatterternary\":[{\"type\":\"scatterternary\",\"marker\":{\"colorbar\":{\"outlinewidth\":0,\"ticks\":\"\"}}}],\"scattercarpet\":[{\"type\":\"scattercarpet\",\"marker\":{\"colorbar\":{\"outlinewidth\":0,\"ticks\":\"\"}}}],\"carpet\":[{\"aaxis\":{\"endlinecolor\":\"#A2B1C6\",\"gridcolor\":\"#506784\",\"linecolor\":\"#506784\",\"minorgridcolor\":\"#506784\",\"startlinecolor\":\"#A2B1C6\"},\"baxis\":{\"endlinecolor\":\"#A2B1C6\",\"gridcolor\":\"#506784\",\"linecolor\":\"#506784\",\"minorgridcolor\":\"#506784\",\"startlinecolor\":\"#A2B1C6\"},\"type\":\"carpet\"}],\"table\":[{\"cells\":{\"fill\":{\"color\":\"#506784\"},\"line\":{\"color\":\"rgb(17,17,17)\"}},\"header\":{\"fill\":{\"color\":\"#2a3f5f\"},\"line\":{\"color\":\"rgb(17,17,17)\"}},\"type\":\"table\"}],\"barpolar\":[{\"marker\":{\"line\":{\"color\":\"rgb(17,17,17)\",\"width\":0.5},\"pattern\":{\"fillmode\":\"overlay\",\"size\":10,\"solidity\":0.2}},\"type\":\"barpolar\"}],\"pie\":[{\"automargin\":true,\"type\":\"pie\"}]},\"layout\":{\"autotypenumbers\":\"strict\",\"colorway\":[\"#636efa\",\"#EF553B\",\"#00cc96\",\"#ab63fa\",\"#FFA15A\",\"#19d3f3\",\"#FF6692\",\"#B6E880\",\"#FF97FF\",\"#FECB52\"],\"font\":{\"color\":\"#f2f5fa\"},\"hovermode\":\"closest\",\"hoverlabel\":{\"align\":\"left\"},\"paper_bgcolor\":\"rgb(17,17,17)\",\"plot_bgcolor\":\"rgb(17,17,17)\",\"polar\":{\"bgcolor\":\"rgb(17,17,17)\",\"angularaxis\":{\"gridcolor\":\"#506784\",\"linecolor\":\"#506784\",\"ticks\":\"\"},\"radialaxis\":{\"gridcolor\":\"#506784\",\"linecolor\":\"#506784\",\"ticks\":\"\"}},\"ternary\":{\"bgcolor\":\"rgb(17,17,17)\",\"aaxis\":{\"gridcolor\":\"#506784\",\"linecolor\":\"#506784\",\"ticks\":\"\"},\"baxis\":{\"gridcolor\":\"#506784\",\"linecolor\":\"#506784\",\"ticks\":\"\"},\"caxis\":{\"gridcolor\":\"#506784\",\"linecolor\":\"#506784\",\"ticks\":\"\"}},\"coloraxis\":{\"colorbar\":{\"outlinewidth\":0,\"ticks\":\"\"}},\"colorscale\":{\"sequential\":[[0.0,\"#0d0887\"],[0.1111111111111111,\"#46039f\"],[0.2222222222222222,\"#7201a8\"],[0.3333333333333333,\"#9c179e\"],[0.4444444444444444,\"#bd3786\"],[0.5555555555555556,\"#d8576b\"],[0.6666666666666666,\"#ed7953\"],[0.7777777777777778,\"#fb9f3a\"],[0.8888888888888888,\"#fdca26\"],[1.0,\"#f0f921\"]],\"sequentialminus\":[[0.0,\"#0d0887\"],[0.1111111111111111,\"#46039f\"],[0.2222222222222222,\"#7201a8\"],[0.3333333333333333,\"#9c179e\"],[0.4444444444444444,\"#bd3786\"],[0.5555555555555556,\"#d8576b\"],[0.6666666666666666,\"#ed7953\"],[0.7777777777777778,\"#fb9f3a\"],[0.8888888888888888,\"#fdca26\"],[1.0,\"#f0f921\"]],\"diverging\":[[0,\"#8e0152\"],[0.1,\"#c51b7d\"],[0.2,\"#de77ae\"],[0.3,\"#f1b6da\"],[0.4,\"#fde0ef\"],[0.5,\"#f7f7f7\"],[0.6,\"#e6f5d0\"],[0.7,\"#b8e186\"],[0.8,\"#7fbc41\"],[0.9,\"#4d9221\"],[1,\"#276419\"]]},\"xaxis\":{\"gridcolor\":\"#283442\",\"linecolor\":\"#506784\",\"ticks\":\"\",\"title\":{\"standoff\":15},\"zerolinecolor\":\"#283442\",\"automargin\":true,\"zerolinewidth\":2},\"yaxis\":{\"gridcolor\":\"#283442\",\"linecolor\":\"#506784\",\"ticks\":\"\",\"title\":{\"standoff\":15},\"zerolinecolor\":\"#283442\",\"automargin\":true,\"zerolinewidth\":2},\"scene\":{\"xaxis\":{\"backgroundcolor\":\"rgb(17,17,17)\",\"gridcolor\":\"#506784\",\"linecolor\":\"#506784\",\"showbackground\":true,\"ticks\":\"\",\"zerolinecolor\":\"#C8D4E3\",\"gridwidth\":2},\"yaxis\":{\"backgroundcolor\":\"rgb(17,17,17)\",\"gridcolor\":\"#506784\",\"linecolor\":\"#506784\",\"showbackground\":true,\"ticks\":\"\",\"zerolinecolor\":\"#C8D4E3\",\"gridwidth\":2},\"zaxis\":{\"backgroundcolor\":\"rgb(17,17,17)\",\"gridcolor\":\"#506784\",\"linecolor\":\"#506784\",\"showbackground\":true,\"ticks\":\"\",\"zerolinecolor\":\"#C8D4E3\",\"gridwidth\":2}},\"shapedefaults\":{\"line\":{\"color\":\"#f2f5fa\"}},\"annotationdefaults\":{\"arrowcolor\":\"#f2f5fa\",\"arrowhead\":0,\"arrowwidth\":1},\"geo\":{\"bgcolor\":\"rgb(17,17,17)\",\"landcolor\":\"rgb(17,17,17)\",\"subunitcolor\":\"#506784\",\"showland\":true,\"showlakes\":true,\"lakecolor\":\"rgb(17,17,17)\"},\"title\":{\"x\":0.05},\"updatemenudefaults\":{\"bgcolor\":\"#506784\",\"borderwidth\":0},\"sliderdefaults\":{\"bgcolor\":\"#C8D4E3\",\"borderwidth\":1,\"bordercolor\":\"rgb(17,17,17)\",\"tickwidth\":0},\"mapbox\":{\"style\":\"dark\"}}},\"xaxis\":{\"anchor\":\"y\",\"domain\":[0.0,1.0],\"title\":{\"text\":\"x\"}},\"yaxis\":{\"anchor\":\"x\",\"domain\":[0.0,1.0],\"title\":{\"text\":\"y\"}},\"legend\":{\"title\":{\"text\":\"color\"},\"tracegroupgap\":0},\"margin\":{\"t\":60}},                        {\"responsive\": true}                    ).then(function(){\n                            \nvar gd = document.getElementById('57795a9c-fd4d-41d4-b18d-31b577c2eb3d');\nvar x = new MutationObserver(function (mutations, observer) {{\n        var display = window.getComputedStyle(gd).display;\n        if (!display || display === 'none') {{\n            console.log([gd, 'removed!']);\n            Plotly.purge(gd);\n            observer.disconnect();\n        }}\n}});\n\n// Listen for the removal of the full notebook cells\nvar notebookContainer = gd.closest('#notebook-container');\nif (notebookContainer) {{\n    x.observe(notebookContainer, {childList: true});\n}}\n\n// Listen for the clearing of the current output cell\nvar outputEl = gd.closest('.output');\nif (outputEl) {{\n    x.observe(outputEl, {childList: true});\n}}\n\n                        })                };                });            </script>        </div>"
     },
     "metadata": {},
     "output_type": "display_data"
    }
   ],
   "source": [
    "nome_rotulo = df['Codigo_do_fundo']\n",
    "grafico_c_rt = px.scatter(y=lista_rend, x=lista_vc, color=lista_rt, labels=nome_rotulo)\n",
    "grafico_c_rt.show()"
   ],
   "metadata": {
    "collapsed": false,
    "pycharm": {
     "name": "#%%\n"
    }
   }
  },
  {
   "cell_type": "code",
   "execution_count": 54,
   "outputs": [
    {
     "data": {
      "application/vnd.plotly.v1+json": {
       "data": [
        {
         "hovertemplate": "x=%{x}<br>y=%{y}<br>color=%{marker.color}<extra></extra>",
         "legendgroup": "",
         "marker": {
          "color": [
           0,
           0,
           0,
           0,
           0,
           0,
           0,
           0,
           0,
           0,
           0,
           0,
           0,
           3,
           0,
           0,
           0,
           0,
           0,
           0,
           3,
           3,
           0,
           0,
           0,
           0,
           0,
           0,
           3,
           0,
           0,
           0,
           0,
           0,
           0,
           0,
           0,
           0,
           0,
           0,
           0,
           0,
           0,
           0,
           0,
           0,
           0,
           0,
           0,
           0,
           0,
           0,
           0,
           0,
           0,
           0,
           0,
           0,
           0,
           0,
           0,
           0,
           0,
           0,
           0,
           0,
           0,
           0,
           0,
           0,
           0,
           0,
           0,
           0,
           0,
           0,
           0,
           0,
           0,
           3,
           0,
           0,
           0,
           0,
           0,
           0,
           0,
           0,
           0,
           0,
           0,
           0,
           0,
           0,
           0,
           0,
           0,
           0,
           0,
           0,
           0,
           0,
           0,
           0,
           0,
           0,
           0,
           0,
           0,
           0,
           0,
           0,
           0,
           0,
           0,
           0,
           0,
           0,
           0,
           0,
           0,
           0,
           0,
           0,
           0,
           0,
           0,
           0,
           0,
           0,
           0,
           0,
           0,
           0,
           0,
           0,
           0,
           0,
           0,
           0,
           0,
           0,
           0,
           0,
           0,
           0,
           0,
           0,
           0,
           0,
           0,
           0,
           0,
           0,
           0,
           0,
           0,
           0,
           0,
           0,
           0,
           0,
           3,
           0,
           0,
           0,
           0,
           0,
           0,
           0,
           0,
           0,
           0,
           0,
           0,
           0,
           0,
           0,
           0,
           0,
           0,
           0,
           0,
           0,
           2,
           0,
           0,
           0,
           0,
           0,
           0,
           0,
           0,
           0,
           0,
           0,
           0,
           0,
           0,
           0,
           0,
           0,
           0,
           0,
           0,
           0,
           0,
           0,
           0,
           0,
           0,
           0,
           0,
           0,
           0,
           0,
           0,
           0,
           0,
           0,
           0,
           0,
           0,
           0,
           0,
           0,
           0,
           0,
           3,
           0,
           0,
           0,
           0,
           0,
           0,
           0,
           0,
           0,
           0,
           0,
           0,
           0,
           0,
           0,
           0,
           0,
           0,
           0,
           0,
           0,
           0,
           0,
           0,
           0,
           0,
           0,
           0,
           0,
           0,
           0,
           0,
           0,
           0,
           0,
           0,
           0,
           0,
           0,
           0,
           0,
           0,
           0,
           0,
           0,
           1,
           0,
           0,
           0,
           3,
           0,
           0,
           0,
           0
          ],
          "coloraxis": "coloraxis",
          "symbol": "circle"
         },
         "mode": "markers",
         "name": "",
         "orientation": "v",
         "showlegend": false,
         "x": [
          -0.10032555099918383,
          -0.09771609791968774,
          -0.09949738853645415,
          0.07751121804355231,
          -0.09883867107888655,
          -0.08113166803944878,
          -0.06588161757486122,
          -0.08283459034132773,
          -0.026485653874676707,
          -0.07636602726926517,
          -0.09987863979806884,
          -0.09366000810862035,
          -0.07710734916684929,
          0.06522645516930123,
          -0.087695543926915,
          -0.10082964988954103,
          -0.10062631588334654,
          -0.10004384867810187,
          -0.09340372253831271,
          -0.09184482849082153,
          0.09191404348232944,
          0.1109766065630639,
          -0.10060937138283033,
          -0.08348483554863723,
          -0.08091986178299618,
          -0.049786460147027777,
          -0.08251264483151975,
          -0.09812276593207675,
          0.22111585991841845,
          -0.09932582546872754,
          -0.08595026037374554,
          -0.0999633623006499,
          -0.08396987187591369,
          -0.10082964988954103,
          -0.09480376189346443,
          -0.10082964988954103,
          -0.08759175886125323,
          -0.09912249146253305,
          -0.07989471950176558,
          -0.08180944806009711,
          -0.059527429881283074,
          -0.082207643822228,
          -0.10082964988954103,
          -0.08028444301363837,
          -0.0809537507840286,
          -0.08025902626286405,
          -0.06838516752613101,
          -0.09786648036176909,
          -0.08123545310511056,
          -0.07988624725150746,
          -0.0798332956873943,
          -0.07446188902375625,
          -0.09883867107888655,
          -0.08282611809106961,
          -0.09919238752716239,
          -0.08224365088582496,
          -0.08558595361264706,
          -0.0836860514922672,
          -0.08688856208983058,
          -0.07925294654471417,
          -0.08617265694302077,
          -0.08419226844518891,
          -0.07886534109540591,
          -0.0776368648079808,
          -0.10082964988954103,
          -0.0917198627995145,
          -0.08388514937333265,
          -0.0822796579494219,
          -0.08280493746542436,
          -0.08485098590275653,
          -0.10082964988954103,
          -0.08547157823416265,
          -0.08923749347388997,
          -0.09865863576090184,
          -0.09781988298534952,
          -0.07710734916684929,
          -0.07785078912699793,
          -0.06694064885712425,
          -0.08053861052138148,
          0.36090798917713773,
          -0.07976339962276495,
          -5.372693966680802E-4,
          -0.07895006359798694,
          -0.09853790619472386,
          -0.08075041677783408,
          -0.08710460447141223,
          -0.08214833807042128,
          -0.0910929162804148,
          -0.0790856196021166,
          -0.08257406864589102,
          -0.07820026945014473,
          -0.08134771042103044,
          -0.0817670868088066,
          -0.09910131083688778,
          -0.07837183251787133,
          -0.08820599700496577,
          -0.08221611607248612,
          -0.077367870862286,
          -0.08485945815301461,
          -0.0821822270714537,
          -0.09221337137704906,
          -0.08171413524469344,
          -0.09909707471175873,
          -0.10082964988954103,
          -0.09009107268739397,
          -0.09115222203222152,
          -0.0673600252449004,
          -0.08564314130188927,
          -0.07848408983379122,
          -0.0838491423097357,
          -0.0840122331272042,
          -0.08255076995768122,
          -0.07552092030601927,
          -0.0821737548211956,
          -0.09884078914145109,
          -0.08517716753769353,
          -0.08435959538778648,
          -0.08088809084452828,
          -0.08259524927153629,
          -0.07849256208404932,
          -0.08091986178299618,
          -0.07855822202354962,
          -0.08069534715115641,
          -0.08403129569028493,
          -0.09852096169420765,
          -0.08812339256494926,
          -0.04597818365600993,
          -0.06493060748338902,
          -0.07880179921847012,
          -0.07101368316870783,
          -0.09866075382346635,
          -0.08274139558848857,
          -0.08092409790812523,
          -0.10082964988954103,
          -0.0902647538176851,
          -0.07791856712906275,
          -0.08330480023065251,
          -0.09236375381913042,
          -0.08452480426781951,
          -0.07404251263598009,
          -0.07892888297234169,
          -0.08325184866653935,
          -0.08311417459984516,
          -0.08063604139934968,
          -0.08007263675718575,
          -0.07837818670556491,
          -0.07992437237766893,
          -0.08414355300620481,
          0.06861535527254291,
          -0.07793974775470802,
          -0.08059156208549463,
          -0.07630883958002296,
          -0.08522800103924215,
          -0.08145361354925673,
          -0.079280481358053,
          -0.07242643089924672,
          -0.08007899094487934,
          -0.08873551264609729,
          -0.09865863576090184,
          -0.08076524321578576,
          -0.05703023411770686,
          -0.08473237439914307,
          0.3211943160922743,
          -0.08839662263577312,
          -0.08432782444931858,
          -0.09872217763783762,
          -0.09888526845530612,
          -0.08031409588954172,
          -0.08505008378382196,
          -0.0992644016543563,
          -0.07802870638241811,
          -0.08029503332646099,
          -0.07848620789635574,
          -0.07965114230684507,
          -0.08198948337808183,
          -0.08070805552654357,
          -0.05499901211832638,
          -0.050455767917418,
          -0.09492237339707789,
          -0.08994069024531261,
          -0.03792319172311737,
          -0.07810495663474105,
          -0.08549911304750149,
          -0.08291084059365067,
          4.982308698716524,
          -0.08395080931283296,
          -0.08345941879786291,
          -0.08081395865476987,
          -0.09088958227422028,
          -0.08534237641772656,
          -0.07644651364671716,
          -0.08652849145386116,
          -0.08682925633802385,
          -0.08091986178299618,
          -0.07250903533926324,
          -0.09937030478258259,
          -0.08007263675718575,
          -0.09885773364196729,
          -0.09922627652819482,
          -0.0830358062849577,
          -0.08409695562978525,
          -0.08617265694302077,
          -0.08140913423540169,
          -0.08269903433719807,
          -0.09895304645737095,
          -0.07823839457630619,
          -0.08674453383544281,
          -0.08019972051105731,
          -0.08342129367170144,
          -0.08588036430911618,
          -0.08124816148049771,
          -0.08785228055668994,
          -0.08259101314640722,
          -0.07054135521681854,
          -0.08052166602086527,
          -0.0903452401951371,
          -0.07923176591906891,
          -0.08414143494364029,
          -0.08026114432542857,
          -0.07965114230684507,
          -0.08019124826079921,
          -0.08775484967872173,
          -0.08008746319513743,
          -0.08759175886125323,
          -0.0811337861020133,
          -0.08251688095664882,
          -0.07223580526843937,
          -0.07161097681190419,
          0.04531666706275636,
          -0.06640901515342822,
          -0.08145149548669221,
          -0.08545463373364645,
          -0.08395080931283296,
          -0.0811825015409974,
          -0.08676571446108806,
          -0.08182003837291975,
          -0.07882509790667991,
          -0.08482133302685316,
          -0.07856669427380773,
          -0.07934614129755331,
          -0.0987772472645153,
          -0.08489122909148251,
          -0.09866922607372447,
          -0.08151503736362799,
          -0.07949016955194109,
          -0.09879630982759602,
          -0.0801827760105411,
          -0.08178191324675828,
          -0.08064239558704327,
          -0.08536779316850088,
          -0.08567703030292168,
          -0.08167177399340292,
          -0.08454174876833571,
          -0.08198101112782372,
          -0.07965114230684507,
          -0.08651790114103852,
          -0.08377924624510634,
          -0.08367334311688003,
          -0.07619658226410309,
          -0.07168087287653355,
          -0.07950287792732824,
          -0.07978881637353927,
          -0.0817755590590647,
          -0.08261431183461701,
          -0.084848867840192,
          -0.08244910295458398,
          -0.0794499263632151,
          -0.08049836733265549,
          -0.07912162666571355,
          -0.07806259538345053,
          -0.07951346824015088,
          -0.08064451364960779,
          -0.08068052071320474,
          -0.08070805552654357,
          15.996445840508432,
          -0.07886745915797043,
          -0.07504859235412997,
          -0.07599960244560215,
          0.23382211724301022,
          -0.09332535422342524,
          -0.0824025055781644,
          -0.09651303838303694,
          -0.08134347429590139
         ],
         "xaxis": "x",
         "y": [
          -0.08620925702166908,
          -0.08620925702166908,
          -0.08620925702166908,
          -0.08620925702166908,
          -0.08620925702166908,
          -0.05656422154849139,
          -0.08148323687377118,
          -0.08083877958087601,
          -0.0758979403353464,
          -0.08620925702166908,
          -0.08620925702166908,
          -0.08620925702166908,
          -0.05140856320533004,
          0.11056503640898867,
          -0.07246083477323884,
          -0.08620925702166908,
          -0.08620925702166908,
          -0.08620925702166908,
          -0.07933504589745397,
          -0.0825573323619298,
          0.14493609203006425,
          0.02979305569946104,
          0.05986772936790217,
          -0.08620925702166908,
          -0.07009782469928989,
          -0.03271930171137019,
          -0.07912022679982224,
          -0.08427588514298358,
          0.18446280599430118,
          -0.08406106604535185,
          -0.08620925702166908,
          -0.08620925702166908,
          -0.07009782469928989,
          -0.06773481462534095,
          -0.08234251326429808,
          -0.07332011116376573,
          -0.08298697055719324,
          -0.0825573323619298,
          -0.07009782469928989,
          -0.06644590003955061,
          -0.050119648619539714,
          -0.061505060794021,
          -0.08234251326429808,
          -0.05506048786506932,
          -0.06386807086796994,
          -0.061290241696389275,
          -0.06666071913718233,
          -0.08040914138561257,
          -0.06472734725849684,
          -0.06515698545376028,
          -0.05613458335322794,
          -0.06859409101586784,
          -0.05806795523191344,
          -0.06623108094191889,
          -0.08470552333824702,
          -0.07568312123771467,
          -0.07289047296850229,
          -0.06429770906323339,
          -0.07417938755429263,
          -0.05355675418164727,
          -0.07009782469928989,
          -0.07417938755429263,
          -0.06043096530586238,
          -0.06451252816086511,
          -0.07160155838271196,
          -0.07761649311640019,
          -0.07374974935902917,
          -0.06472734725849684,
          -0.060645784403494114,
          -0.07289047296850229,
          -0.07009782469928989,
          -0.07740167401876846,
          -0.07761649311640019,
          -0.08320178965482496,
          -0.08363142785008841,
          -0.07460902574955607,
          -0.07031264379692162,
          -0.07632757853060985,
          -0.07417938755429263,
          0.21969313800590368,
          -0.06794963372297268,
          -0.011022572850566228,
          -0.06494216635612855,
          -0.08556479972877391,
          -0.06257915628217961,
          -0.07525348304245123,
          -0.058282774329545164,
          -0.0806239604832443,
          -0.061505060794021,
          -0.06666071913718233,
          -0.06021614620823067,
          -0.07031264379692162,
          -0.07224601567560712,
          -0.08470552333824702,
          -0.06494216635612855,
          -0.07546830214008296,
          -0.07654239762824157,
          -0.07095710108981679,
          -0.07289047296850229,
          -0.07460902574955607,
          -0.0797646840927174,
          -0.06386807086796994,
          -0.08470552333824702,
          -0.0767572167258733,
          -0.07890540770219052,
          -0.0786905886045588,
          -0.05720867884138655,
          -0.06644590003955061,
          -0.07353493026139746,
          -0.07074228199218507,
          -0.07181637748034368,
          -0.06472734725849684,
          -0.054630849669805887,
          -0.07224601567560712,
          -0.08363142785008841,
          -0.07181637748034368,
          -0.06709035733244578,
          -0.06837927191823612,
          -0.0711719201874485,
          -0.04818627674085421,
          -0.06257915628217961,
          -0.07224601567560712,
          -0.05720867884138655,
          -0.07224601567560712,
          -0.08320178965482496,
          -0.07568312123771467,
          -0.05398639237691071,
          -0.06257915628217961,
          -0.06043096530586238,
          -0.06945336740639473,
          -0.08363142785008841,
          -0.06837927191823612,
          -0.06429770906323339,
          -0.06730517643007751,
          -0.0786905886045588,
          -0.07074228199218507,
          -0.07568312123771467,
          -0.07890540770219052,
          -0.07009782469928989,
          -0.05226783959585694,
          -0.05935686981770377,
          -0.06730517643007751,
          -0.07289047296850229,
          -0.058282774329545164,
          -0.07439420665192435,
          -0.05720867884138655,
          -0.06472734725849684,
          -0.07074228199218507,
          0.010029698717342578,
          -0.07009782469928989,
          -0.06988300560165818,
          -0.07074228199218507,
          -0.07482384484718778,
          -0.06472734725849684,
          -0.06687553823481406,
          -0.06086060350112584,
          -0.06257915628217961,
          -0.07718685492113674,
          -0.08449070424061529,
          -0.07224601567560712,
          -0.058282774329545164,
          -0.07654239762824157,
          0.49895796492714284,
          -0.07826095040929534,
          -0.07224601567560712,
          -0.08363142785008841,
          -0.08298697055719324,
          -0.05398639237691071,
          -0.06880891011349956,
          -0.08492034243587875,
          -0.07074228199218507,
          -0.06859409101586784,
          -0.07847576950692707,
          -0.07267565387087056,
          -0.07031264379692162,
          -0.07160155838271196,
          -0.05183820140059349,
          -0.04861591493611765,
          -0.08083877958087601,
          -0.07224601567560712,
          -0.019615336755835124,
          -0.06794963372297268,
          -0.07095710108981679,
          -0.06043096530586238,
          0.7182882636091314,
          -0.07332011116376573,
          -0.07031264379692162,
          -0.06902372921113129,
          -0.07761649311640019,
          -0.07353493026139746,
          -0.06773481462534095,
          -0.07439420665192435,
          -0.07439420665192435,
          -0.07310529206613402,
          -0.06644590003955061,
          -0.08556479972877391,
          -0.06773481462534095,
          -0.08277215145956152,
          -0.08449070424061529,
          -0.07310529206613402,
          -0.0720311965779754,
          -0.07611275943297813,
          -0.05806795523191344,
          -0.07310529206613402,
          -0.08470552333824702,
          -0.05935686981770377,
          -0.07181637748034368,
          -0.05935686981770377,
          -0.06902372921113129,
          -0.07417938755429263,
          -0.06257915628217961,
          -0.07546830214008296,
          -0.06365325177033823,
          -0.053341935084015545,
          -0.06257915628217961,
          -0.07546830214008296,
          -0.05935686981770377,
          -0.07009782469928989,
          -0.07417938755429263,
          -0.0711719201874485,
          -0.07224601567560712,
          -0.07654239762824157,
          -0.061505060794021,
          -0.07546830214008296,
          -0.06429770906323339,
          -0.06580144274665545,
          -0.0720311965779754,
          -0.07074228199218507,
          0.12860984061005334,
          -0.06644590003955061,
          -0.07525348304245123,
          -0.07332011116376573,
          -0.07009782469928989,
          -0.06472734725849684,
          -0.0797646840927174,
          -0.05935686981770377,
          -0.05720867884138655,
          -0.07332011116376573,
          -0.05076410591243488,
          -0.05763831703665,
          -0.08341660875245668,
          -0.06902372921113129,
          -0.0825573323619298,
          -0.06472734725849684,
          -0.058282774329545164,
          -0.08363142785008841,
          -0.06257915628217961,
          -0.06257915628217961,
          -0.05935686981770377,
          -0.06988300560165818,
          -0.07224601567560712,
          -0.05720867884138655,
          -0.06794963372297268,
          -0.0750386639448195,
          -0.058282774329545164,
          -0.07009782469928989,
          -0.061505060794021,
          -0.06966818650402645,
          -0.0797646840927174,
          -0.06279397537981134,
          -0.06429770906323339,
          -0.05398639237691071,
          -0.0634384326727065,
          -0.061075422598757555,
          -0.06902372921113129,
          -0.07224601567560712,
          -0.05935686981770377,
          -0.06257915628217961,
          -0.07031264379692162,
          -0.05613458335322794,
          -0.06837927191823612,
          -0.058282774329545164,
          -0.06257915628217961,
          -0.06257915628217961,
          16.754748720914844,
          -0.0711719201874485,
          -0.06751999552770922,
          -0.06945336740639473,
          0.12860984061005334,
          -0.08406106604535185,
          -0.0711719201874485,
          -0.08427588514298358,
          -0.07847576950692707
         ],
         "yaxis": "y",
         "type": "scatter"
        },
        {
         "hovertemplate": "x=%{x}<br>y=%{y}<br>size=%{marker.size}<extra></extra>",
         "legendgroup": "",
         "marker": {
          "color": "#636efa",
          "size": [
           5,
           2,
           3,
           4
          ],
          "sizemode": "area",
          "sizeref": 0.0125,
          "symbol": "circle"
         },
         "mode": "markers",
         "name": "",
         "orientation": "v",
         "showlegend": false,
         "x": [
          -0.08215834649792397,
          15.996445840508432,
          4.982308698716524,
          0.18130925683853644
         ],
         "xaxis": "x",
         "y": [
          -0.0692991383106591,
          16.754748720914844,
          0.7182882636091314,
          0.18070347178574606
         ],
         "yaxis": "y",
         "type": "scatter"
        }
       ],
       "layout": {
        "template": {
         "data": {
          "histogram2dcontour": [
           {
            "type": "histogram2dcontour",
            "colorbar": {
             "outlinewidth": 0,
             "ticks": ""
            },
            "colorscale": [
             [
              0.0,
              "#0d0887"
             ],
             [
              0.1111111111111111,
              "#46039f"
             ],
             [
              0.2222222222222222,
              "#7201a8"
             ],
             [
              0.3333333333333333,
              "#9c179e"
             ],
             [
              0.4444444444444444,
              "#bd3786"
             ],
             [
              0.5555555555555556,
              "#d8576b"
             ],
             [
              0.6666666666666666,
              "#ed7953"
             ],
             [
              0.7777777777777778,
              "#fb9f3a"
             ],
             [
              0.8888888888888888,
              "#fdca26"
             ],
             [
              1.0,
              "#f0f921"
             ]
            ]
           }
          ],
          "choropleth": [
           {
            "type": "choropleth",
            "colorbar": {
             "outlinewidth": 0,
             "ticks": ""
            }
           }
          ],
          "histogram2d": [
           {
            "type": "histogram2d",
            "colorbar": {
             "outlinewidth": 0,
             "ticks": ""
            },
            "colorscale": [
             [
              0.0,
              "#0d0887"
             ],
             [
              0.1111111111111111,
              "#46039f"
             ],
             [
              0.2222222222222222,
              "#7201a8"
             ],
             [
              0.3333333333333333,
              "#9c179e"
             ],
             [
              0.4444444444444444,
              "#bd3786"
             ],
             [
              0.5555555555555556,
              "#d8576b"
             ],
             [
              0.6666666666666666,
              "#ed7953"
             ],
             [
              0.7777777777777778,
              "#fb9f3a"
             ],
             [
              0.8888888888888888,
              "#fdca26"
             ],
             [
              1.0,
              "#f0f921"
             ]
            ]
           }
          ],
          "heatmap": [
           {
            "type": "heatmap",
            "colorbar": {
             "outlinewidth": 0,
             "ticks": ""
            },
            "colorscale": [
             [
              0.0,
              "#0d0887"
             ],
             [
              0.1111111111111111,
              "#46039f"
             ],
             [
              0.2222222222222222,
              "#7201a8"
             ],
             [
              0.3333333333333333,
              "#9c179e"
             ],
             [
              0.4444444444444444,
              "#bd3786"
             ],
             [
              0.5555555555555556,
              "#d8576b"
             ],
             [
              0.6666666666666666,
              "#ed7953"
             ],
             [
              0.7777777777777778,
              "#fb9f3a"
             ],
             [
              0.8888888888888888,
              "#fdca26"
             ],
             [
              1.0,
              "#f0f921"
             ]
            ]
           }
          ],
          "heatmapgl": [
           {
            "type": "heatmapgl",
            "colorbar": {
             "outlinewidth": 0,
             "ticks": ""
            },
            "colorscale": [
             [
              0.0,
              "#0d0887"
             ],
             [
              0.1111111111111111,
              "#46039f"
             ],
             [
              0.2222222222222222,
              "#7201a8"
             ],
             [
              0.3333333333333333,
              "#9c179e"
             ],
             [
              0.4444444444444444,
              "#bd3786"
             ],
             [
              0.5555555555555556,
              "#d8576b"
             ],
             [
              0.6666666666666666,
              "#ed7953"
             ],
             [
              0.7777777777777778,
              "#fb9f3a"
             ],
             [
              0.8888888888888888,
              "#fdca26"
             ],
             [
              1.0,
              "#f0f921"
             ]
            ]
           }
          ],
          "contourcarpet": [
           {
            "type": "contourcarpet",
            "colorbar": {
             "outlinewidth": 0,
             "ticks": ""
            }
           }
          ],
          "contour": [
           {
            "type": "contour",
            "colorbar": {
             "outlinewidth": 0,
             "ticks": ""
            },
            "colorscale": [
             [
              0.0,
              "#0d0887"
             ],
             [
              0.1111111111111111,
              "#46039f"
             ],
             [
              0.2222222222222222,
              "#7201a8"
             ],
             [
              0.3333333333333333,
              "#9c179e"
             ],
             [
              0.4444444444444444,
              "#bd3786"
             ],
             [
              0.5555555555555556,
              "#d8576b"
             ],
             [
              0.6666666666666666,
              "#ed7953"
             ],
             [
              0.7777777777777778,
              "#fb9f3a"
             ],
             [
              0.8888888888888888,
              "#fdca26"
             ],
             [
              1.0,
              "#f0f921"
             ]
            ]
           }
          ],
          "surface": [
           {
            "type": "surface",
            "colorbar": {
             "outlinewidth": 0,
             "ticks": ""
            },
            "colorscale": [
             [
              0.0,
              "#0d0887"
             ],
             [
              0.1111111111111111,
              "#46039f"
             ],
             [
              0.2222222222222222,
              "#7201a8"
             ],
             [
              0.3333333333333333,
              "#9c179e"
             ],
             [
              0.4444444444444444,
              "#bd3786"
             ],
             [
              0.5555555555555556,
              "#d8576b"
             ],
             [
              0.6666666666666666,
              "#ed7953"
             ],
             [
              0.7777777777777778,
              "#fb9f3a"
             ],
             [
              0.8888888888888888,
              "#fdca26"
             ],
             [
              1.0,
              "#f0f921"
             ]
            ]
           }
          ],
          "mesh3d": [
           {
            "type": "mesh3d",
            "colorbar": {
             "outlinewidth": 0,
             "ticks": ""
            }
           }
          ],
          "scatter": [
           {
            "marker": {
             "line": {
              "color": "#283442"
             }
            },
            "type": "scatter"
           }
          ],
          "parcoords": [
           {
            "type": "parcoords",
            "line": {
             "colorbar": {
              "outlinewidth": 0,
              "ticks": ""
             }
            }
           }
          ],
          "scatterpolargl": [
           {
            "type": "scatterpolargl",
            "marker": {
             "colorbar": {
              "outlinewidth": 0,
              "ticks": ""
             }
            }
           }
          ],
          "bar": [
           {
            "error_x": {
             "color": "#f2f5fa"
            },
            "error_y": {
             "color": "#f2f5fa"
            },
            "marker": {
             "line": {
              "color": "rgb(17,17,17)",
              "width": 0.5
             },
             "pattern": {
              "fillmode": "overlay",
              "size": 10,
              "solidity": 0.2
             }
            },
            "type": "bar"
           }
          ],
          "scattergeo": [
           {
            "type": "scattergeo",
            "marker": {
             "colorbar": {
              "outlinewidth": 0,
              "ticks": ""
             }
            }
           }
          ],
          "scatterpolar": [
           {
            "type": "scatterpolar",
            "marker": {
             "colorbar": {
              "outlinewidth": 0,
              "ticks": ""
             }
            }
           }
          ],
          "histogram": [
           {
            "marker": {
             "pattern": {
              "fillmode": "overlay",
              "size": 10,
              "solidity": 0.2
             }
            },
            "type": "histogram"
           }
          ],
          "scattergl": [
           {
            "marker": {
             "line": {
              "color": "#283442"
             }
            },
            "type": "scattergl"
           }
          ],
          "scatter3d": [
           {
            "type": "scatter3d",
            "line": {
             "colorbar": {
              "outlinewidth": 0,
              "ticks": ""
             }
            },
            "marker": {
             "colorbar": {
              "outlinewidth": 0,
              "ticks": ""
             }
            }
           }
          ],
          "scattermapbox": [
           {
            "type": "scattermapbox",
            "marker": {
             "colorbar": {
              "outlinewidth": 0,
              "ticks": ""
             }
            }
           }
          ],
          "scatterternary": [
           {
            "type": "scatterternary",
            "marker": {
             "colorbar": {
              "outlinewidth": 0,
              "ticks": ""
             }
            }
           }
          ],
          "scattercarpet": [
           {
            "type": "scattercarpet",
            "marker": {
             "colorbar": {
              "outlinewidth": 0,
              "ticks": ""
             }
            }
           }
          ],
          "carpet": [
           {
            "aaxis": {
             "endlinecolor": "#A2B1C6",
             "gridcolor": "#506784",
             "linecolor": "#506784",
             "minorgridcolor": "#506784",
             "startlinecolor": "#A2B1C6"
            },
            "baxis": {
             "endlinecolor": "#A2B1C6",
             "gridcolor": "#506784",
             "linecolor": "#506784",
             "minorgridcolor": "#506784",
             "startlinecolor": "#A2B1C6"
            },
            "type": "carpet"
           }
          ],
          "table": [
           {
            "cells": {
             "fill": {
              "color": "#506784"
             },
             "line": {
              "color": "rgb(17,17,17)"
             }
            },
            "header": {
             "fill": {
              "color": "#2a3f5f"
             },
             "line": {
              "color": "rgb(17,17,17)"
             }
            },
            "type": "table"
           }
          ],
          "barpolar": [
           {
            "marker": {
             "line": {
              "color": "rgb(17,17,17)",
              "width": 0.5
             },
             "pattern": {
              "fillmode": "overlay",
              "size": 10,
              "solidity": 0.2
             }
            },
            "type": "barpolar"
           }
          ],
          "pie": [
           {
            "automargin": true,
            "type": "pie"
           }
          ]
         },
         "layout": {
          "autotypenumbers": "strict",
          "colorway": [
           "#636efa",
           "#EF553B",
           "#00cc96",
           "#ab63fa",
           "#FFA15A",
           "#19d3f3",
           "#FF6692",
           "#B6E880",
           "#FF97FF",
           "#FECB52"
          ],
          "font": {
           "color": "#f2f5fa"
          },
          "hovermode": "closest",
          "hoverlabel": {
           "align": "left"
          },
          "paper_bgcolor": "rgb(17,17,17)",
          "plot_bgcolor": "rgb(17,17,17)",
          "polar": {
           "bgcolor": "rgb(17,17,17)",
           "angularaxis": {
            "gridcolor": "#506784",
            "linecolor": "#506784",
            "ticks": ""
           },
           "radialaxis": {
            "gridcolor": "#506784",
            "linecolor": "#506784",
            "ticks": ""
           }
          },
          "ternary": {
           "bgcolor": "rgb(17,17,17)",
           "aaxis": {
            "gridcolor": "#506784",
            "linecolor": "#506784",
            "ticks": ""
           },
           "baxis": {
            "gridcolor": "#506784",
            "linecolor": "#506784",
            "ticks": ""
           },
           "caxis": {
            "gridcolor": "#506784",
            "linecolor": "#506784",
            "ticks": ""
           }
          },
          "coloraxis": {
           "colorbar": {
            "outlinewidth": 0,
            "ticks": ""
           }
          },
          "colorscale": {
           "sequential": [
            [
             0.0,
             "#0d0887"
            ],
            [
             0.1111111111111111,
             "#46039f"
            ],
            [
             0.2222222222222222,
             "#7201a8"
            ],
            [
             0.3333333333333333,
             "#9c179e"
            ],
            [
             0.4444444444444444,
             "#bd3786"
            ],
            [
             0.5555555555555556,
             "#d8576b"
            ],
            [
             0.6666666666666666,
             "#ed7953"
            ],
            [
             0.7777777777777778,
             "#fb9f3a"
            ],
            [
             0.8888888888888888,
             "#fdca26"
            ],
            [
             1.0,
             "#f0f921"
            ]
           ],
           "sequentialminus": [
            [
             0.0,
             "#0d0887"
            ],
            [
             0.1111111111111111,
             "#46039f"
            ],
            [
             0.2222222222222222,
             "#7201a8"
            ],
            [
             0.3333333333333333,
             "#9c179e"
            ],
            [
             0.4444444444444444,
             "#bd3786"
            ],
            [
             0.5555555555555556,
             "#d8576b"
            ],
            [
             0.6666666666666666,
             "#ed7953"
            ],
            [
             0.7777777777777778,
             "#fb9f3a"
            ],
            [
             0.8888888888888888,
             "#fdca26"
            ],
            [
             1.0,
             "#f0f921"
            ]
           ],
           "diverging": [
            [
             0,
             "#8e0152"
            ],
            [
             0.1,
             "#c51b7d"
            ],
            [
             0.2,
             "#de77ae"
            ],
            [
             0.3,
             "#f1b6da"
            ],
            [
             0.4,
             "#fde0ef"
            ],
            [
             0.5,
             "#f7f7f7"
            ],
            [
             0.6,
             "#e6f5d0"
            ],
            [
             0.7,
             "#b8e186"
            ],
            [
             0.8,
             "#7fbc41"
            ],
            [
             0.9,
             "#4d9221"
            ],
            [
             1,
             "#276419"
            ]
           ]
          },
          "xaxis": {
           "gridcolor": "#283442",
           "linecolor": "#506784",
           "ticks": "",
           "title": {
            "standoff": 15
           },
           "zerolinecolor": "#283442",
           "automargin": true,
           "zerolinewidth": 2
          },
          "yaxis": {
           "gridcolor": "#283442",
           "linecolor": "#506784",
           "ticks": "",
           "title": {
            "standoff": 15
           },
           "zerolinecolor": "#283442",
           "automargin": true,
           "zerolinewidth": 2
          },
          "scene": {
           "xaxis": {
            "backgroundcolor": "rgb(17,17,17)",
            "gridcolor": "#506784",
            "linecolor": "#506784",
            "showbackground": true,
            "ticks": "",
            "zerolinecolor": "#C8D4E3",
            "gridwidth": 2
           },
           "yaxis": {
            "backgroundcolor": "rgb(17,17,17)",
            "gridcolor": "#506784",
            "linecolor": "#506784",
            "showbackground": true,
            "ticks": "",
            "zerolinecolor": "#C8D4E3",
            "gridwidth": 2
           },
           "zaxis": {
            "backgroundcolor": "rgb(17,17,17)",
            "gridcolor": "#506784",
            "linecolor": "#506784",
            "showbackground": true,
            "ticks": "",
            "zerolinecolor": "#C8D4E3",
            "gridwidth": 2
           }
          },
          "shapedefaults": {
           "line": {
            "color": "#f2f5fa"
           }
          },
          "annotationdefaults": {
           "arrowcolor": "#f2f5fa",
           "arrowhead": 0,
           "arrowwidth": 1
          },
          "geo": {
           "bgcolor": "rgb(17,17,17)",
           "landcolor": "rgb(17,17,17)",
           "subunitcolor": "#506784",
           "showland": true,
           "showlakes": true,
           "lakecolor": "rgb(17,17,17)"
          },
          "title": {
           "x": 0.05
          },
          "updatemenudefaults": {
           "bgcolor": "#506784",
           "borderwidth": 0
          },
          "sliderdefaults": {
           "bgcolor": "#C8D4E3",
           "borderwidth": 1,
           "bordercolor": "rgb(17,17,17)",
           "tickwidth": 0
          },
          "mapbox": {
           "style": "dark"
          }
         }
        }
       },
       "config": {
        "plotlyServerURL": "https://plot.ly"
       }
      },
      "text/html": "<div>                            <div id=\"c3fd78f9-64da-43a5-8bcc-97a9d0d22f7b\" class=\"plotly-graph-div\" style=\"height:525px; width:100%;\"></div>            <script type=\"text/javascript\">                require([\"plotly\"], function(Plotly) {                    window.PLOTLYENV=window.PLOTLYENV || {};                                    if (document.getElementById(\"c3fd78f9-64da-43a5-8bcc-97a9d0d22f7b\")) {                    Plotly.newPlot(                        \"c3fd78f9-64da-43a5-8bcc-97a9d0d22f7b\",                        [{\"hovertemplate\":\"x=%{x}<br>y=%{y}<br>color=%{marker.color}<extra></extra>\",\"legendgroup\":\"\",\"marker\":{\"color\":[0,0,0,0,0,0,0,0,0,0,0,0,0,3,0,0,0,0,0,0,3,3,0,0,0,0,0,0,3,0,0,0,0,0,0,0,0,0,0,0,0,0,0,0,0,0,0,0,0,0,0,0,0,0,0,0,0,0,0,0,0,0,0,0,0,0,0,0,0,0,0,0,0,0,0,0,0,0,0,3,0,0,0,0,0,0,0,0,0,0,0,0,0,0,0,0,0,0,0,0,0,0,0,0,0,0,0,0,0,0,0,0,0,0,0,0,0,0,0,0,0,0,0,0,0,0,0,0,0,0,0,0,0,0,0,0,0,0,0,0,0,0,0,0,0,0,0,0,0,0,0,0,0,0,0,0,0,0,0,0,0,0,3,0,0,0,0,0,0,0,0,0,0,0,0,0,0,0,0,0,0,0,0,0,2,0,0,0,0,0,0,0,0,0,0,0,0,0,0,0,0,0,0,0,0,0,0,0,0,0,0,0,0,0,0,0,0,0,0,0,0,0,0,0,0,0,0,0,3,0,0,0,0,0,0,0,0,0,0,0,0,0,0,0,0,0,0,0,0,0,0,0,0,0,0,0,0,0,0,0,0,0,0,0,0,0,0,0,0,0,0,0,0,0,1,0,0,0,3,0,0,0,0],\"coloraxis\":\"coloraxis\",\"symbol\":\"circle\"},\"mode\":\"markers\",\"name\":\"\",\"orientation\":\"v\",\"showlegend\":false,\"x\":[-0.10032555099918383,-0.09771609791968774,-0.09949738853645415,0.07751121804355231,-0.09883867107888655,-0.08113166803944878,-0.06588161757486122,-0.08283459034132773,-0.026485653874676707,-0.07636602726926517,-0.09987863979806884,-0.09366000810862035,-0.07710734916684929,0.06522645516930123,-0.087695543926915,-0.10082964988954103,-0.10062631588334654,-0.10004384867810187,-0.09340372253831271,-0.09184482849082153,0.09191404348232944,0.1109766065630639,-0.10060937138283033,-0.08348483554863723,-0.08091986178299618,-0.049786460147027777,-0.08251264483151975,-0.09812276593207675,0.22111585991841845,-0.09932582546872754,-0.08595026037374554,-0.0999633623006499,-0.08396987187591369,-0.10082964988954103,-0.09480376189346443,-0.10082964988954103,-0.08759175886125323,-0.09912249146253305,-0.07989471950176558,-0.08180944806009711,-0.059527429881283074,-0.082207643822228,-0.10082964988954103,-0.08028444301363837,-0.0809537507840286,-0.08025902626286405,-0.06838516752613101,-0.09786648036176909,-0.08123545310511056,-0.07988624725150746,-0.0798332956873943,-0.07446188902375625,-0.09883867107888655,-0.08282611809106961,-0.09919238752716239,-0.08224365088582496,-0.08558595361264706,-0.0836860514922672,-0.08688856208983058,-0.07925294654471417,-0.08617265694302077,-0.08419226844518891,-0.07886534109540591,-0.0776368648079808,-0.10082964988954103,-0.0917198627995145,-0.08388514937333265,-0.0822796579494219,-0.08280493746542436,-0.08485098590275653,-0.10082964988954103,-0.08547157823416265,-0.08923749347388997,-0.09865863576090184,-0.09781988298534952,-0.07710734916684929,-0.07785078912699793,-0.06694064885712425,-0.08053861052138148,0.36090798917713773,-0.07976339962276495,-0.0005372693966680802,-0.07895006359798694,-0.09853790619472386,-0.08075041677783408,-0.08710460447141223,-0.08214833807042128,-0.0910929162804148,-0.0790856196021166,-0.08257406864589102,-0.07820026945014473,-0.08134771042103044,-0.0817670868088066,-0.09910131083688778,-0.07837183251787133,-0.08820599700496577,-0.08221611607248612,-0.077367870862286,-0.08485945815301461,-0.0821822270714537,-0.09221337137704906,-0.08171413524469344,-0.09909707471175873,-0.10082964988954103,-0.09009107268739397,-0.09115222203222152,-0.0673600252449004,-0.08564314130188927,-0.07848408983379122,-0.0838491423097357,-0.0840122331272042,-0.08255076995768122,-0.07552092030601927,-0.0821737548211956,-0.09884078914145109,-0.08517716753769353,-0.08435959538778648,-0.08088809084452828,-0.08259524927153629,-0.07849256208404932,-0.08091986178299618,-0.07855822202354962,-0.08069534715115641,-0.08403129569028493,-0.09852096169420765,-0.08812339256494926,-0.04597818365600993,-0.06493060748338902,-0.07880179921847012,-0.07101368316870783,-0.09866075382346635,-0.08274139558848857,-0.08092409790812523,-0.10082964988954103,-0.0902647538176851,-0.07791856712906275,-0.08330480023065251,-0.09236375381913042,-0.08452480426781951,-0.07404251263598009,-0.07892888297234169,-0.08325184866653935,-0.08311417459984516,-0.08063604139934968,-0.08007263675718575,-0.07837818670556491,-0.07992437237766893,-0.08414355300620481,0.06861535527254291,-0.07793974775470802,-0.08059156208549463,-0.07630883958002296,-0.08522800103924215,-0.08145361354925673,-0.079280481358053,-0.07242643089924672,-0.08007899094487934,-0.08873551264609729,-0.09865863576090184,-0.08076524321578576,-0.05703023411770686,-0.08473237439914307,0.3211943160922743,-0.08839662263577312,-0.08432782444931858,-0.09872217763783762,-0.09888526845530612,-0.08031409588954172,-0.08505008378382196,-0.0992644016543563,-0.07802870638241811,-0.08029503332646099,-0.07848620789635574,-0.07965114230684507,-0.08198948337808183,-0.08070805552654357,-0.05499901211832638,-0.050455767917418,-0.09492237339707789,-0.08994069024531261,-0.03792319172311737,-0.07810495663474105,-0.08549911304750149,-0.08291084059365067,4.982308698716524,-0.08395080931283296,-0.08345941879786291,-0.08081395865476987,-0.09088958227422028,-0.08534237641772656,-0.07644651364671716,-0.08652849145386116,-0.08682925633802385,-0.08091986178299618,-0.07250903533926324,-0.09937030478258259,-0.08007263675718575,-0.09885773364196729,-0.09922627652819482,-0.0830358062849577,-0.08409695562978525,-0.08617265694302077,-0.08140913423540169,-0.08269903433719807,-0.09895304645737095,-0.07823839457630619,-0.08674453383544281,-0.08019972051105731,-0.08342129367170144,-0.08588036430911618,-0.08124816148049771,-0.08785228055668994,-0.08259101314640722,-0.07054135521681854,-0.08052166602086527,-0.0903452401951371,-0.07923176591906891,-0.08414143494364029,-0.08026114432542857,-0.07965114230684507,-0.08019124826079921,-0.08775484967872173,-0.08008746319513743,-0.08759175886125323,-0.0811337861020133,-0.08251688095664882,-0.07223580526843937,-0.07161097681190419,0.04531666706275636,-0.06640901515342822,-0.08145149548669221,-0.08545463373364645,-0.08395080931283296,-0.0811825015409974,-0.08676571446108806,-0.08182003837291975,-0.07882509790667991,-0.08482133302685316,-0.07856669427380773,-0.07934614129755331,-0.0987772472645153,-0.08489122909148251,-0.09866922607372447,-0.08151503736362799,-0.07949016955194109,-0.09879630982759602,-0.0801827760105411,-0.08178191324675828,-0.08064239558704327,-0.08536779316850088,-0.08567703030292168,-0.08167177399340292,-0.08454174876833571,-0.08198101112782372,-0.07965114230684507,-0.08651790114103852,-0.08377924624510634,-0.08367334311688003,-0.07619658226410309,-0.07168087287653355,-0.07950287792732824,-0.07978881637353927,-0.0817755590590647,-0.08261431183461701,-0.084848867840192,-0.08244910295458398,-0.0794499263632151,-0.08049836733265549,-0.07912162666571355,-0.07806259538345053,-0.07951346824015088,-0.08064451364960779,-0.08068052071320474,-0.08070805552654357,15.996445840508432,-0.07886745915797043,-0.07504859235412997,-0.07599960244560215,0.23382211724301022,-0.09332535422342524,-0.0824025055781644,-0.09651303838303694,-0.08134347429590139],\"xaxis\":\"x\",\"y\":[-0.08620925702166908,-0.08620925702166908,-0.08620925702166908,-0.08620925702166908,-0.08620925702166908,-0.05656422154849139,-0.08148323687377118,-0.08083877958087601,-0.0758979403353464,-0.08620925702166908,-0.08620925702166908,-0.08620925702166908,-0.05140856320533004,0.11056503640898867,-0.07246083477323884,-0.08620925702166908,-0.08620925702166908,-0.08620925702166908,-0.07933504589745397,-0.0825573323619298,0.14493609203006425,0.02979305569946104,0.05986772936790217,-0.08620925702166908,-0.07009782469928989,-0.03271930171137019,-0.07912022679982224,-0.08427588514298358,0.18446280599430118,-0.08406106604535185,-0.08620925702166908,-0.08620925702166908,-0.07009782469928989,-0.06773481462534095,-0.08234251326429808,-0.07332011116376573,-0.08298697055719324,-0.0825573323619298,-0.07009782469928989,-0.06644590003955061,-0.050119648619539714,-0.061505060794021,-0.08234251326429808,-0.05506048786506932,-0.06386807086796994,-0.061290241696389275,-0.06666071913718233,-0.08040914138561257,-0.06472734725849684,-0.06515698545376028,-0.05613458335322794,-0.06859409101586784,-0.05806795523191344,-0.06623108094191889,-0.08470552333824702,-0.07568312123771467,-0.07289047296850229,-0.06429770906323339,-0.07417938755429263,-0.05355675418164727,-0.07009782469928989,-0.07417938755429263,-0.06043096530586238,-0.06451252816086511,-0.07160155838271196,-0.07761649311640019,-0.07374974935902917,-0.06472734725849684,-0.060645784403494114,-0.07289047296850229,-0.07009782469928989,-0.07740167401876846,-0.07761649311640019,-0.08320178965482496,-0.08363142785008841,-0.07460902574955607,-0.07031264379692162,-0.07632757853060985,-0.07417938755429263,0.21969313800590368,-0.06794963372297268,-0.011022572850566228,-0.06494216635612855,-0.08556479972877391,-0.06257915628217961,-0.07525348304245123,-0.058282774329545164,-0.0806239604832443,-0.061505060794021,-0.06666071913718233,-0.06021614620823067,-0.07031264379692162,-0.07224601567560712,-0.08470552333824702,-0.06494216635612855,-0.07546830214008296,-0.07654239762824157,-0.07095710108981679,-0.07289047296850229,-0.07460902574955607,-0.0797646840927174,-0.06386807086796994,-0.08470552333824702,-0.0767572167258733,-0.07890540770219052,-0.0786905886045588,-0.05720867884138655,-0.06644590003955061,-0.07353493026139746,-0.07074228199218507,-0.07181637748034368,-0.06472734725849684,-0.054630849669805887,-0.07224601567560712,-0.08363142785008841,-0.07181637748034368,-0.06709035733244578,-0.06837927191823612,-0.0711719201874485,-0.04818627674085421,-0.06257915628217961,-0.07224601567560712,-0.05720867884138655,-0.07224601567560712,-0.08320178965482496,-0.07568312123771467,-0.05398639237691071,-0.06257915628217961,-0.06043096530586238,-0.06945336740639473,-0.08363142785008841,-0.06837927191823612,-0.06429770906323339,-0.06730517643007751,-0.0786905886045588,-0.07074228199218507,-0.07568312123771467,-0.07890540770219052,-0.07009782469928989,-0.05226783959585694,-0.05935686981770377,-0.06730517643007751,-0.07289047296850229,-0.058282774329545164,-0.07439420665192435,-0.05720867884138655,-0.06472734725849684,-0.07074228199218507,0.010029698717342578,-0.07009782469928989,-0.06988300560165818,-0.07074228199218507,-0.07482384484718778,-0.06472734725849684,-0.06687553823481406,-0.06086060350112584,-0.06257915628217961,-0.07718685492113674,-0.08449070424061529,-0.07224601567560712,-0.058282774329545164,-0.07654239762824157,0.49895796492714284,-0.07826095040929534,-0.07224601567560712,-0.08363142785008841,-0.08298697055719324,-0.05398639237691071,-0.06880891011349956,-0.08492034243587875,-0.07074228199218507,-0.06859409101586784,-0.07847576950692707,-0.07267565387087056,-0.07031264379692162,-0.07160155838271196,-0.05183820140059349,-0.04861591493611765,-0.08083877958087601,-0.07224601567560712,-0.019615336755835124,-0.06794963372297268,-0.07095710108981679,-0.06043096530586238,0.7182882636091314,-0.07332011116376573,-0.07031264379692162,-0.06902372921113129,-0.07761649311640019,-0.07353493026139746,-0.06773481462534095,-0.07439420665192435,-0.07439420665192435,-0.07310529206613402,-0.06644590003955061,-0.08556479972877391,-0.06773481462534095,-0.08277215145956152,-0.08449070424061529,-0.07310529206613402,-0.0720311965779754,-0.07611275943297813,-0.05806795523191344,-0.07310529206613402,-0.08470552333824702,-0.05935686981770377,-0.07181637748034368,-0.05935686981770377,-0.06902372921113129,-0.07417938755429263,-0.06257915628217961,-0.07546830214008296,-0.06365325177033823,-0.053341935084015545,-0.06257915628217961,-0.07546830214008296,-0.05935686981770377,-0.07009782469928989,-0.07417938755429263,-0.0711719201874485,-0.07224601567560712,-0.07654239762824157,-0.061505060794021,-0.07546830214008296,-0.06429770906323339,-0.06580144274665545,-0.0720311965779754,-0.07074228199218507,0.12860984061005334,-0.06644590003955061,-0.07525348304245123,-0.07332011116376573,-0.07009782469928989,-0.06472734725849684,-0.0797646840927174,-0.05935686981770377,-0.05720867884138655,-0.07332011116376573,-0.05076410591243488,-0.05763831703665,-0.08341660875245668,-0.06902372921113129,-0.0825573323619298,-0.06472734725849684,-0.058282774329545164,-0.08363142785008841,-0.06257915628217961,-0.06257915628217961,-0.05935686981770377,-0.06988300560165818,-0.07224601567560712,-0.05720867884138655,-0.06794963372297268,-0.0750386639448195,-0.058282774329545164,-0.07009782469928989,-0.061505060794021,-0.06966818650402645,-0.0797646840927174,-0.06279397537981134,-0.06429770906323339,-0.05398639237691071,-0.0634384326727065,-0.061075422598757555,-0.06902372921113129,-0.07224601567560712,-0.05935686981770377,-0.06257915628217961,-0.07031264379692162,-0.05613458335322794,-0.06837927191823612,-0.058282774329545164,-0.06257915628217961,-0.06257915628217961,16.754748720914844,-0.0711719201874485,-0.06751999552770922,-0.06945336740639473,0.12860984061005334,-0.08406106604535185,-0.0711719201874485,-0.08427588514298358,-0.07847576950692707],\"yaxis\":\"y\",\"type\":\"scatter\"},{\"hovertemplate\":\"x=%{x}<br>y=%{y}<br>size=%{marker.size}<extra></extra>\",\"legendgroup\":\"\",\"marker\":{\"color\":\"#636efa\",\"size\":[5,2,3,4],\"sizemode\":\"area\",\"sizeref\":0.0125,\"symbol\":\"circle\"},\"mode\":\"markers\",\"name\":\"\",\"orientation\":\"v\",\"showlegend\":false,\"x\":[-0.08215834649792397,15.996445840508432,4.982308698716524,0.18130925683853644],\"xaxis\":\"x\",\"y\":[-0.0692991383106591,16.754748720914844,0.7182882636091314,0.18070347178574606],\"yaxis\":\"y\",\"type\":\"scatter\"}],                        {\"template\":{\"data\":{\"histogram2dcontour\":[{\"type\":\"histogram2dcontour\",\"colorbar\":{\"outlinewidth\":0,\"ticks\":\"\"},\"colorscale\":[[0.0,\"#0d0887\"],[0.1111111111111111,\"#46039f\"],[0.2222222222222222,\"#7201a8\"],[0.3333333333333333,\"#9c179e\"],[0.4444444444444444,\"#bd3786\"],[0.5555555555555556,\"#d8576b\"],[0.6666666666666666,\"#ed7953\"],[0.7777777777777778,\"#fb9f3a\"],[0.8888888888888888,\"#fdca26\"],[1.0,\"#f0f921\"]]}],\"choropleth\":[{\"type\":\"choropleth\",\"colorbar\":{\"outlinewidth\":0,\"ticks\":\"\"}}],\"histogram2d\":[{\"type\":\"histogram2d\",\"colorbar\":{\"outlinewidth\":0,\"ticks\":\"\"},\"colorscale\":[[0.0,\"#0d0887\"],[0.1111111111111111,\"#46039f\"],[0.2222222222222222,\"#7201a8\"],[0.3333333333333333,\"#9c179e\"],[0.4444444444444444,\"#bd3786\"],[0.5555555555555556,\"#d8576b\"],[0.6666666666666666,\"#ed7953\"],[0.7777777777777778,\"#fb9f3a\"],[0.8888888888888888,\"#fdca26\"],[1.0,\"#f0f921\"]]}],\"heatmap\":[{\"type\":\"heatmap\",\"colorbar\":{\"outlinewidth\":0,\"ticks\":\"\"},\"colorscale\":[[0.0,\"#0d0887\"],[0.1111111111111111,\"#46039f\"],[0.2222222222222222,\"#7201a8\"],[0.3333333333333333,\"#9c179e\"],[0.4444444444444444,\"#bd3786\"],[0.5555555555555556,\"#d8576b\"],[0.6666666666666666,\"#ed7953\"],[0.7777777777777778,\"#fb9f3a\"],[0.8888888888888888,\"#fdca26\"],[1.0,\"#f0f921\"]]}],\"heatmapgl\":[{\"type\":\"heatmapgl\",\"colorbar\":{\"outlinewidth\":0,\"ticks\":\"\"},\"colorscale\":[[0.0,\"#0d0887\"],[0.1111111111111111,\"#46039f\"],[0.2222222222222222,\"#7201a8\"],[0.3333333333333333,\"#9c179e\"],[0.4444444444444444,\"#bd3786\"],[0.5555555555555556,\"#d8576b\"],[0.6666666666666666,\"#ed7953\"],[0.7777777777777778,\"#fb9f3a\"],[0.8888888888888888,\"#fdca26\"],[1.0,\"#f0f921\"]]}],\"contourcarpet\":[{\"type\":\"contourcarpet\",\"colorbar\":{\"outlinewidth\":0,\"ticks\":\"\"}}],\"contour\":[{\"type\":\"contour\",\"colorbar\":{\"outlinewidth\":0,\"ticks\":\"\"},\"colorscale\":[[0.0,\"#0d0887\"],[0.1111111111111111,\"#46039f\"],[0.2222222222222222,\"#7201a8\"],[0.3333333333333333,\"#9c179e\"],[0.4444444444444444,\"#bd3786\"],[0.5555555555555556,\"#d8576b\"],[0.6666666666666666,\"#ed7953\"],[0.7777777777777778,\"#fb9f3a\"],[0.8888888888888888,\"#fdca26\"],[1.0,\"#f0f921\"]]}],\"surface\":[{\"type\":\"surface\",\"colorbar\":{\"outlinewidth\":0,\"ticks\":\"\"},\"colorscale\":[[0.0,\"#0d0887\"],[0.1111111111111111,\"#46039f\"],[0.2222222222222222,\"#7201a8\"],[0.3333333333333333,\"#9c179e\"],[0.4444444444444444,\"#bd3786\"],[0.5555555555555556,\"#d8576b\"],[0.6666666666666666,\"#ed7953\"],[0.7777777777777778,\"#fb9f3a\"],[0.8888888888888888,\"#fdca26\"],[1.0,\"#f0f921\"]]}],\"mesh3d\":[{\"type\":\"mesh3d\",\"colorbar\":{\"outlinewidth\":0,\"ticks\":\"\"}}],\"scatter\":[{\"marker\":{\"line\":{\"color\":\"#283442\"}},\"type\":\"scatter\"}],\"parcoords\":[{\"type\":\"parcoords\",\"line\":{\"colorbar\":{\"outlinewidth\":0,\"ticks\":\"\"}}}],\"scatterpolargl\":[{\"type\":\"scatterpolargl\",\"marker\":{\"colorbar\":{\"outlinewidth\":0,\"ticks\":\"\"}}}],\"bar\":[{\"error_x\":{\"color\":\"#f2f5fa\"},\"error_y\":{\"color\":\"#f2f5fa\"},\"marker\":{\"line\":{\"color\":\"rgb(17,17,17)\",\"width\":0.5},\"pattern\":{\"fillmode\":\"overlay\",\"size\":10,\"solidity\":0.2}},\"type\":\"bar\"}],\"scattergeo\":[{\"type\":\"scattergeo\",\"marker\":{\"colorbar\":{\"outlinewidth\":0,\"ticks\":\"\"}}}],\"scatterpolar\":[{\"type\":\"scatterpolar\",\"marker\":{\"colorbar\":{\"outlinewidth\":0,\"ticks\":\"\"}}}],\"histogram\":[{\"marker\":{\"pattern\":{\"fillmode\":\"overlay\",\"size\":10,\"solidity\":0.2}},\"type\":\"histogram\"}],\"scattergl\":[{\"marker\":{\"line\":{\"color\":\"#283442\"}},\"type\":\"scattergl\"}],\"scatter3d\":[{\"type\":\"scatter3d\",\"line\":{\"colorbar\":{\"outlinewidth\":0,\"ticks\":\"\"}},\"marker\":{\"colorbar\":{\"outlinewidth\":0,\"ticks\":\"\"}}}],\"scattermapbox\":[{\"type\":\"scattermapbox\",\"marker\":{\"colorbar\":{\"outlinewidth\":0,\"ticks\":\"\"}}}],\"scatterternary\":[{\"type\":\"scatterternary\",\"marker\":{\"colorbar\":{\"outlinewidth\":0,\"ticks\":\"\"}}}],\"scattercarpet\":[{\"type\":\"scattercarpet\",\"marker\":{\"colorbar\":{\"outlinewidth\":0,\"ticks\":\"\"}}}],\"carpet\":[{\"aaxis\":{\"endlinecolor\":\"#A2B1C6\",\"gridcolor\":\"#506784\",\"linecolor\":\"#506784\",\"minorgridcolor\":\"#506784\",\"startlinecolor\":\"#A2B1C6\"},\"baxis\":{\"endlinecolor\":\"#A2B1C6\",\"gridcolor\":\"#506784\",\"linecolor\":\"#506784\",\"minorgridcolor\":\"#506784\",\"startlinecolor\":\"#A2B1C6\"},\"type\":\"carpet\"}],\"table\":[{\"cells\":{\"fill\":{\"color\":\"#506784\"},\"line\":{\"color\":\"rgb(17,17,17)\"}},\"header\":{\"fill\":{\"color\":\"#2a3f5f\"},\"line\":{\"color\":\"rgb(17,17,17)\"}},\"type\":\"table\"}],\"barpolar\":[{\"marker\":{\"line\":{\"color\":\"rgb(17,17,17)\",\"width\":0.5},\"pattern\":{\"fillmode\":\"overlay\",\"size\":10,\"solidity\":0.2}},\"type\":\"barpolar\"}],\"pie\":[{\"automargin\":true,\"type\":\"pie\"}]},\"layout\":{\"autotypenumbers\":\"strict\",\"colorway\":[\"#636efa\",\"#EF553B\",\"#00cc96\",\"#ab63fa\",\"#FFA15A\",\"#19d3f3\",\"#FF6692\",\"#B6E880\",\"#FF97FF\",\"#FECB52\"],\"font\":{\"color\":\"#f2f5fa\"},\"hovermode\":\"closest\",\"hoverlabel\":{\"align\":\"left\"},\"paper_bgcolor\":\"rgb(17,17,17)\",\"plot_bgcolor\":\"rgb(17,17,17)\",\"polar\":{\"bgcolor\":\"rgb(17,17,17)\",\"angularaxis\":{\"gridcolor\":\"#506784\",\"linecolor\":\"#506784\",\"ticks\":\"\"},\"radialaxis\":{\"gridcolor\":\"#506784\",\"linecolor\":\"#506784\",\"ticks\":\"\"}},\"ternary\":{\"bgcolor\":\"rgb(17,17,17)\",\"aaxis\":{\"gridcolor\":\"#506784\",\"linecolor\":\"#506784\",\"ticks\":\"\"},\"baxis\":{\"gridcolor\":\"#506784\",\"linecolor\":\"#506784\",\"ticks\":\"\"},\"caxis\":{\"gridcolor\":\"#506784\",\"linecolor\":\"#506784\",\"ticks\":\"\"}},\"coloraxis\":{\"colorbar\":{\"outlinewidth\":0,\"ticks\":\"\"}},\"colorscale\":{\"sequential\":[[0.0,\"#0d0887\"],[0.1111111111111111,\"#46039f\"],[0.2222222222222222,\"#7201a8\"],[0.3333333333333333,\"#9c179e\"],[0.4444444444444444,\"#bd3786\"],[0.5555555555555556,\"#d8576b\"],[0.6666666666666666,\"#ed7953\"],[0.7777777777777778,\"#fb9f3a\"],[0.8888888888888888,\"#fdca26\"],[1.0,\"#f0f921\"]],\"sequentialminus\":[[0.0,\"#0d0887\"],[0.1111111111111111,\"#46039f\"],[0.2222222222222222,\"#7201a8\"],[0.3333333333333333,\"#9c179e\"],[0.4444444444444444,\"#bd3786\"],[0.5555555555555556,\"#d8576b\"],[0.6666666666666666,\"#ed7953\"],[0.7777777777777778,\"#fb9f3a\"],[0.8888888888888888,\"#fdca26\"],[1.0,\"#f0f921\"]],\"diverging\":[[0,\"#8e0152\"],[0.1,\"#c51b7d\"],[0.2,\"#de77ae\"],[0.3,\"#f1b6da\"],[0.4,\"#fde0ef\"],[0.5,\"#f7f7f7\"],[0.6,\"#e6f5d0\"],[0.7,\"#b8e186\"],[0.8,\"#7fbc41\"],[0.9,\"#4d9221\"],[1,\"#276419\"]]},\"xaxis\":{\"gridcolor\":\"#283442\",\"linecolor\":\"#506784\",\"ticks\":\"\",\"title\":{\"standoff\":15},\"zerolinecolor\":\"#283442\",\"automargin\":true,\"zerolinewidth\":2},\"yaxis\":{\"gridcolor\":\"#283442\",\"linecolor\":\"#506784\",\"ticks\":\"\",\"title\":{\"standoff\":15},\"zerolinecolor\":\"#283442\",\"automargin\":true,\"zerolinewidth\":2},\"scene\":{\"xaxis\":{\"backgroundcolor\":\"rgb(17,17,17)\",\"gridcolor\":\"#506784\",\"linecolor\":\"#506784\",\"showbackground\":true,\"ticks\":\"\",\"zerolinecolor\":\"#C8D4E3\",\"gridwidth\":2},\"yaxis\":{\"backgroundcolor\":\"rgb(17,17,17)\",\"gridcolor\":\"#506784\",\"linecolor\":\"#506784\",\"showbackground\":true,\"ticks\":\"\",\"zerolinecolor\":\"#C8D4E3\",\"gridwidth\":2},\"zaxis\":{\"backgroundcolor\":\"rgb(17,17,17)\",\"gridcolor\":\"#506784\",\"linecolor\":\"#506784\",\"showbackground\":true,\"ticks\":\"\",\"zerolinecolor\":\"#C8D4E3\",\"gridwidth\":2}},\"shapedefaults\":{\"line\":{\"color\":\"#f2f5fa\"}},\"annotationdefaults\":{\"arrowcolor\":\"#f2f5fa\",\"arrowhead\":0,\"arrowwidth\":1},\"geo\":{\"bgcolor\":\"rgb(17,17,17)\",\"landcolor\":\"rgb(17,17,17)\",\"subunitcolor\":\"#506784\",\"showland\":true,\"showlakes\":true,\"lakecolor\":\"rgb(17,17,17)\"},\"title\":{\"x\":0.05},\"updatemenudefaults\":{\"bgcolor\":\"#506784\",\"borderwidth\":0},\"sliderdefaults\":{\"bgcolor\":\"#C8D4E3\",\"borderwidth\":1,\"bordercolor\":\"rgb(17,17,17)\",\"tickwidth\":0},\"mapbox\":{\"style\":\"dark\"}}}},                        {\"responsive\": true}                    ).then(function(){\n                            \nvar gd = document.getElementById('c3fd78f9-64da-43a5-8bcc-97a9d0d22f7b');\nvar x = new MutationObserver(function (mutations, observer) {{\n        var display = window.getComputedStyle(gd).display;\n        if (!display || display === 'none') {{\n            console.log([gd, 'removed!']);\n            Plotly.purge(gd);\n            observer.disconnect();\n        }}\n}});\n\n// Listen for the removal of the full notebook cells\nvar notebookContainer = gd.closest('#notebook-container');\nif (notebookContainer) {{\n    x.observe(notebookContainer, {childList: true});\n}}\n\n// Listen for the clearing of the current output cell\nvar outputEl = gd.closest('.output');\nif (outputEl) {{\n    x.observe(outputEl, {childList: true});\n}}\n\n                        })                };                });            </script>        </div>"
     },
     "metadata": {},
     "output_type": "display_data"
    }
   ],
   "source": [
    "grafico_cluster = px.scatter(y=base_cotacoes_rend[:,0], x=base_cotacoes_rend[:,1], color=rotulos)\n",
    "grafico_centroid = px.scatter(y=centroides[:,0], x=centroides[:,1], size=[5,2,3,4])\n",
    "grafico_geral = go.Figure(data=grafico_cluster.data + grafico_centroid.data)\n",
    "grafico_geral.show()"
   ],
   "metadata": {
    "collapsed": false,
    "pycharm": {
     "name": "#%%\n"
    }
   }
  },
  {
   "cell_type": "code",
   "execution_count": 55,
   "outputs": [
    {
     "data": {
      "text/plain": "<Figure size 640x480 with 1 Axes>",
      "image/png": "[encoded data removed]"
     },
     "metadata": {},
     "output_type": "display_data"
    }
   ],
   "source": [
    "dendograma_rendimento = dendrogram(linkage(base_cotacoes_rend, method='ward'))"
   ],
   "metadata": {
    "collapsed": false,
    "pycharm": {
     "name": "#%%\n"
    }
   }
  },
  {
   "cell_type": "markdown",
   "source": [
    "se imaginarmo uma linha entre 10 e 15 temos ali 3 linhas verticais"
   ],
   "metadata": {
    "collapsed": false,
    "pycharm": {
     "name": "#%% md\n"
    }
   }
  },
  {
   "cell_type": "code",
   "execution_count": 56,
   "outputs": [],
   "source": [
    "hc_rendimento = AgglomerativeClustering(n_clusters=3, affinity='euclidean', linkage='ward')\n",
    "rotulo_hc = hc_rendimento.fit_predict(base_cotacoes_rend)"
   ],
   "metadata": {
    "collapsed": false,
    "pycharm": {
     "name": "#%%\n"
    }
   }
  },
  {
   "cell_type": "code",
   "execution_count": 57,
   "outputs": [
    {
     "data": {
      "text/plain": "array([0, 0, 0, 0, 0, 0, 0, 0, 0, 0, 0, 0, 0, 0, 0, 0, 0, 0, 0, 0, 0, 0,\n       0, 0, 0, 0, 0, 0, 0, 0, 0, 0, 0, 0, 0, 0, 0, 0, 0, 0, 0, 0, 0, 0,\n       0, 0, 0, 0, 0, 0, 0, 0, 0, 0, 0, 0, 0, 0, 0, 0, 0, 0, 0, 0, 0, 0,\n       0, 0, 0, 0, 0, 0, 0, 0, 0, 0, 0, 0, 0, 0, 0, 0, 0, 0, 0, 0, 0, 0,\n       0, 0, 0, 0, 0, 0, 0, 0, 0, 0, 0, 0, 0, 0, 0, 0, 0, 0, 0, 0, 0, 0,\n       0, 0, 0, 0, 0, 0, 0, 0, 0, 0, 0, 0, 0, 0, 0, 0, 0, 0, 0, 0, 0, 0,\n       0, 0, 0, 0, 0, 0, 0, 0, 0, 0, 0, 0, 0, 0, 0, 0, 0, 0, 0, 0, 0, 0,\n       0, 0, 0, 0, 0, 0, 0, 0, 0, 0, 0, 0, 0, 0, 0, 0, 0, 0, 0, 0, 0, 0,\n       0, 0, 0, 0, 0, 0, 0, 0, 2, 0, 0, 0, 0, 0, 0, 0, 0, 0, 0, 0, 0, 0,\n       0, 0, 0, 0, 0, 0, 0, 0, 0, 0, 0, 0, 0, 0, 0, 0, 0, 0, 0, 0, 0, 0,\n       0, 0, 0, 0, 0, 0, 0, 0, 0, 0, 0, 0, 0, 0, 0, 0, 0, 0, 0, 0, 0, 0,\n       0, 0, 0, 0, 0, 0, 0, 0, 0, 0, 0, 0, 0, 0, 0, 0, 0, 0, 0, 0, 0, 0,\n       0, 0, 0, 0, 0, 0, 0, 0, 0, 0, 1, 0, 0, 0, 0, 0, 0, 0, 0],\n      dtype=int64)"
     },
     "execution_count": 57,
     "metadata": {},
     "output_type": "execute_result"
    }
   ],
   "source": [
    "rotulo_hc"
   ],
   "metadata": {
    "collapsed": false,
    "pycharm": {
     "name": "#%%\n"
    }
   }
  },
  {
   "cell_type": "code",
   "execution_count": 58,
   "outputs": [
    {
     "data": {
      "application/vnd.plotly.v1+json": {
       "data": [
        {
         "hovertemplate": "x=%{x}<br>y=%{y}<br>color=%{marker.color}<extra></extra>",
         "legendgroup": "",
         "marker": {
          "color": [
           0,
           0,
           0,
           0,
           0,
           0,
           0,
           0,
           0,
           0,
           0,
           0,
           0,
           0,
           0,
           0,
           0,
           0,
           0,
           0,
           0,
           0,
           0,
           0,
           0,
           0,
           0,
           0,
           0,
           0,
           0,
           0,
           0,
           0,
           0,
           0,
           0,
           0,
           0,
           0,
           0,
           0,
           0,
           0,
           0,
           0,
           0,
           0,
           0,
           0,
           0,
           0,
           0,
           0,
           0,
           0,
           0,
           0,
           0,
           0,
           0,
           0,
           0,
           0,
           0,
           0,
           0,
           0,
           0,
           0,
           0,
           0,
           0,
           0,
           0,
           0,
           0,
           0,
           0,
           0,
           0,
           0,
           0,
           0,
           0,
           0,
           0,
           0,
           0,
           0,
           0,
           0,
           0,
           0,
           0,
           0,
           0,
           0,
           0,
           0,
           0,
           0,
           0,
           0,
           0,
           0,
           0,
           0,
           0,
           0,
           0,
           0,
           0,
           0,
           0,
           0,
           0,
           0,
           0,
           0,
           0,
           0,
           0,
           0,
           0,
           0,
           0,
           0,
           0,
           0,
           0,
           0,
           0,
           0,
           0,
           0,
           0,
           0,
           0,
           0,
           0,
           0,
           0,
           0,
           0,
           0,
           0,
           0,
           0,
           0,
           0,
           0,
           0,
           0,
           0,
           0,
           0,
           0,
           0,
           0,
           0,
           0,
           0,
           0,
           0,
           0,
           0,
           0,
           0,
           0,
           0,
           0,
           0,
           0,
           0,
           0,
           0,
           0,
           0,
           0,
           0,
           0,
           0,
           0,
           2,
           0,
           0,
           0,
           0,
           0,
           0,
           0,
           0,
           0,
           0,
           0,
           0,
           0,
           0,
           0,
           0,
           0,
           0,
           0,
           0,
           0,
           0,
           0,
           0,
           0,
           0,
           0,
           0,
           0,
           0,
           0,
           0,
           0,
           0,
           0,
           0,
           0,
           0,
           0,
           0,
           0,
           0,
           0,
           0,
           0,
           0,
           0,
           0,
           0,
           0,
           0,
           0,
           0,
           0,
           0,
           0,
           0,
           0,
           0,
           0,
           0,
           0,
           0,
           0,
           0,
           0,
           0,
           0,
           0,
           0,
           0,
           0,
           0,
           0,
           0,
           0,
           0,
           0,
           0,
           0,
           0,
           0,
           0,
           0,
           0,
           0,
           0,
           0,
           0,
           1,
           0,
           0,
           0,
           0,
           0,
           0,
           0,
           0
          ],
          "coloraxis": "coloraxis",
          "symbol": "circle"
         },
         "mode": "markers",
         "name": "",
         "orientation": "v",
         "showlegend": false,
         "x": [
          -0.10032555099918383,
          -0.09771609791968774,
          -0.09949738853645415,
          0.07751121804355231,
          -0.09883867107888655,
          -0.08113166803944878,
          -0.06588161757486122,
          -0.08283459034132773,
          -0.026485653874676707,
          -0.07636602726926517,
          -0.09987863979806884,
          -0.09366000810862035,
          -0.07710734916684929,
          0.06522645516930123,
          -0.087695543926915,
          -0.10082964988954103,
          -0.10062631588334654,
          -0.10004384867810187,
          -0.09340372253831271,
          -0.09184482849082153,
          0.09191404348232944,
          0.1109766065630639,
          -0.10060937138283033,
          -0.08348483554863723,
          -0.08091986178299618,
          -0.049786460147027777,
          -0.08251264483151975,
          -0.09812276593207675,
          0.22111585991841845,
          -0.09932582546872754,
          -0.08595026037374554,
          -0.0999633623006499,
          -0.08396987187591369,
          -0.10082964988954103,
          -0.09480376189346443,
          -0.10082964988954103,
          -0.08759175886125323,
          -0.09912249146253305,
          -0.07989471950176558,
          -0.08180944806009711,
          -0.059527429881283074,
          -0.082207643822228,
          -0.10082964988954103,
          -0.08028444301363837,
          -0.0809537507840286,
          -0.08025902626286405,
          -0.06838516752613101,
          -0.09786648036176909,
          -0.08123545310511056,
          -0.07988624725150746,
          -0.0798332956873943,
          -0.07446188902375625,
          -0.09883867107888655,
          -0.08282611809106961,
          -0.09919238752716239,
          -0.08224365088582496,
          -0.08558595361264706,
          -0.0836860514922672,
          -0.08688856208983058,
          -0.07925294654471417,
          -0.08617265694302077,
          -0.08419226844518891,
          -0.07886534109540591,
          -0.0776368648079808,
          -0.10082964988954103,
          -0.0917198627995145,
          -0.08388514937333265,
          -0.0822796579494219,
          -0.08280493746542436,
          -0.08485098590275653,
          -0.10082964988954103,
          -0.08547157823416265,
          -0.08923749347388997,
          -0.09865863576090184,
          -0.09781988298534952,
          -0.07710734916684929,
          -0.07785078912699793,
          -0.06694064885712425,
          -0.08053861052138148,
          0.36090798917713773,
          -0.07976339962276495,
          -5.372693966680802E-4,
          -0.07895006359798694,
          -0.09853790619472386,
          -0.08075041677783408,
          -0.08710460447141223,
          -0.08214833807042128,
          -0.0910929162804148,
          -0.0790856196021166,
          -0.08257406864589102,
          -0.07820026945014473,
          -0.08134771042103044,
          -0.0817670868088066,
          -0.09910131083688778,
          -0.07837183251787133,
          -0.08820599700496577,
          -0.08221611607248612,
          -0.077367870862286,
          -0.08485945815301461,
          -0.0821822270714537,
          -0.09221337137704906,
          -0.08171413524469344,
          -0.09909707471175873,
          -0.10082964988954103,
          -0.09009107268739397,
          -0.09115222203222152,
          -0.0673600252449004,
          -0.08564314130188927,
          -0.07848408983379122,
          -0.0838491423097357,
          -0.0840122331272042,
          -0.08255076995768122,
          -0.07552092030601927,
          -0.0821737548211956,
          -0.09884078914145109,
          -0.08517716753769353,
          -0.08435959538778648,
          -0.08088809084452828,
          -0.08259524927153629,
          -0.07849256208404932,
          -0.08091986178299618,
          -0.07855822202354962,
          -0.08069534715115641,
          -0.08403129569028493,
          -0.09852096169420765,
          -0.08812339256494926,
          -0.04597818365600993,
          -0.06493060748338902,
          -0.07880179921847012,
          -0.07101368316870783,
          -0.09866075382346635,
          -0.08274139558848857,
          -0.08092409790812523,
          -0.10082964988954103,
          -0.0902647538176851,
          -0.07791856712906275,
          -0.08330480023065251,
          -0.09236375381913042,
          -0.08452480426781951,
          -0.07404251263598009,
          -0.07892888297234169,
          -0.08325184866653935,
          -0.08311417459984516,
          -0.08063604139934968,
          -0.08007263675718575,
          -0.07837818670556491,
          -0.07992437237766893,
          -0.08414355300620481,
          0.06861535527254291,
          -0.07793974775470802,
          -0.08059156208549463,
          -0.07630883958002296,
          -0.08522800103924215,
          -0.08145361354925673,
          -0.079280481358053,
          -0.07242643089924672,
          -0.08007899094487934,
          -0.08873551264609729,
          -0.09865863576090184,
          -0.08076524321578576,
          -0.05703023411770686,
          -0.08473237439914307,
          0.3211943160922743,
          -0.08839662263577312,
          -0.08432782444931858,
          -0.09872217763783762,
          -0.09888526845530612,
          -0.08031409588954172,
          -0.08505008378382196,
          -0.0992644016543563,
          -0.07802870638241811,
          -0.08029503332646099,
          -0.07848620789635574,
          -0.07965114230684507,
          -0.08198948337808183,
          -0.08070805552654357,
          -0.05499901211832638,
          -0.050455767917418,
          -0.09492237339707789,
          -0.08994069024531261,
          -0.03792319172311737,
          -0.07810495663474105,
          -0.08549911304750149,
          -0.08291084059365067,
          4.982308698716524,
          -0.08395080931283296,
          -0.08345941879786291,
          -0.08081395865476987,
          -0.09088958227422028,
          -0.08534237641772656,
          -0.07644651364671716,
          -0.08652849145386116,
          -0.08682925633802385,
          -0.08091986178299618,
          -0.07250903533926324,
          -0.09937030478258259,
          -0.08007263675718575,
          -0.09885773364196729,
          -0.09922627652819482,
          -0.0830358062849577,
          -0.08409695562978525,
          -0.08617265694302077,
          -0.08140913423540169,
          -0.08269903433719807,
          -0.09895304645737095,
          -0.07823839457630619,
          -0.08674453383544281,
          -0.08019972051105731,
          -0.08342129367170144,
          -0.08588036430911618,
          -0.08124816148049771,
          -0.08785228055668994,
          -0.08259101314640722,
          -0.07054135521681854,
          -0.08052166602086527,
          -0.0903452401951371,
          -0.07923176591906891,
          -0.08414143494364029,
          -0.08026114432542857,
          -0.07965114230684507,
          -0.08019124826079921,
          -0.08775484967872173,
          -0.08008746319513743,
          -0.08759175886125323,
          -0.0811337861020133,
          -0.08251688095664882,
          -0.07223580526843937,
          -0.07161097681190419,
          0.04531666706275636,
          -0.06640901515342822,
          -0.08145149548669221,
          -0.08545463373364645,
          -0.08395080931283296,
          -0.0811825015409974,
          -0.08676571446108806,
          -0.08182003837291975,
          -0.07882509790667991,
          -0.08482133302685316,
          -0.07856669427380773,
          -0.07934614129755331,
          -0.0987772472645153,
          -0.08489122909148251,
          -0.09866922607372447,
          -0.08151503736362799,
          -0.07949016955194109,
          -0.09879630982759602,
          -0.0801827760105411,
          -0.08178191324675828,
          -0.08064239558704327,
          -0.08536779316850088,
          -0.08567703030292168,
          -0.08167177399340292,
          -0.08454174876833571,
          -0.08198101112782372,
          -0.07965114230684507,
          -0.08651790114103852,
          -0.08377924624510634,
          -0.08367334311688003,
          -0.07619658226410309,
          -0.07168087287653355,
          -0.07950287792732824,
          -0.07978881637353927,
          -0.0817755590590647,
          -0.08261431183461701,
          -0.084848867840192,
          -0.08244910295458398,
          -0.0794499263632151,
          -0.08049836733265549,
          -0.07912162666571355,
          -0.07806259538345053,
          -0.07951346824015088,
          -0.08064451364960779,
          -0.08068052071320474,
          -0.08070805552654357,
          15.996445840508432,
          -0.07886745915797043,
          -0.07504859235412997,
          -0.07599960244560215,
          0.23382211724301022,
          -0.09332535422342524,
          -0.0824025055781644,
          -0.09651303838303694,
          -0.08134347429590139
         ],
         "xaxis": "x",
         "y": [
          -0.08620925702166908,
          -0.08620925702166908,
          -0.08620925702166908,
          -0.08620925702166908,
          -0.08620925702166908,
          -0.05656422154849139,
          -0.08148323687377118,
          -0.08083877958087601,
          -0.0758979403353464,
          -0.08620925702166908,
          -0.08620925702166908,
          -0.08620925702166908,
          -0.05140856320533004,
          0.11056503640898867,
          -0.07246083477323884,
          -0.08620925702166908,
          -0.08620925702166908,
          -0.08620925702166908,
          -0.07933504589745397,
          -0.0825573323619298,
          0.14493609203006425,
          0.02979305569946104,
          0.05986772936790217,
          -0.08620925702166908,
          -0.07009782469928989,
          -0.03271930171137019,
          -0.07912022679982224,
          -0.08427588514298358,
          0.18446280599430118,
          -0.08406106604535185,
          -0.08620925702166908,
          -0.08620925702166908,
          -0.07009782469928989,
          -0.06773481462534095,
          -0.08234251326429808,
          -0.07332011116376573,
          -0.08298697055719324,
          -0.0825573323619298,
          -0.07009782469928989,
          -0.06644590003955061,
          -0.050119648619539714,
          -0.061505060794021,
          -0.08234251326429808,
          -0.05506048786506932,
          -0.06386807086796994,
          -0.061290241696389275,
          -0.06666071913718233,
          -0.08040914138561257,
          -0.06472734725849684,
          -0.06515698545376028,
          -0.05613458335322794,
          -0.06859409101586784,
          -0.05806795523191344,
          -0.06623108094191889,
          -0.08470552333824702,
          -0.07568312123771467,
          -0.07289047296850229,
          -0.06429770906323339,
          -0.07417938755429263,
          -0.05355675418164727,
          -0.07009782469928989,
          -0.07417938755429263,
          -0.06043096530586238,
          -0.06451252816086511,
          -0.07160155838271196,
          -0.07761649311640019,
          -0.07374974935902917,
          -0.06472734725849684,
          -0.060645784403494114,
          -0.07289047296850229,
          -0.07009782469928989,
          -0.07740167401876846,
          -0.07761649311640019,
          -0.08320178965482496,
          -0.08363142785008841,
          -0.07460902574955607,
          -0.07031264379692162,
          -0.07632757853060985,
          -0.07417938755429263,
          0.21969313800590368,
          -0.06794963372297268,
          -0.011022572850566228,
          -0.06494216635612855,
          -0.08556479972877391,
          -0.06257915628217961,
          -0.07525348304245123,
          -0.058282774329545164,
          -0.0806239604832443,
          -0.061505060794021,
          -0.06666071913718233,
          -0.06021614620823067,
          -0.07031264379692162,
          -0.07224601567560712,
          -0.08470552333824702,
          -0.06494216635612855,
          -0.07546830214008296,
          -0.07654239762824157,
          -0.07095710108981679,
          -0.07289047296850229,
          -0.07460902574955607,
          -0.0797646840927174,
          -0.06386807086796994,
          -0.08470552333824702,
          -0.0767572167258733,
          -0.07890540770219052,
          -0.0786905886045588,
          -0.05720867884138655,
          -0.06644590003955061,
          -0.07353493026139746,
          -0.07074228199218507,
          -0.07181637748034368,
          -0.06472734725849684,
          -0.054630849669805887,
          -0.07224601567560712,
          -0.08363142785008841,
          -0.07181637748034368,
          -0.06709035733244578,
          -0.06837927191823612,
          -0.0711719201874485,
          -0.04818627674085421,
          -0.06257915628217961,
          -0.07224601567560712,
          -0.05720867884138655,
          -0.07224601567560712,
          -0.08320178965482496,
          -0.07568312123771467,
          -0.05398639237691071,
          -0.06257915628217961,
          -0.06043096530586238,
          -0.06945336740639473,
          -0.08363142785008841,
          -0.06837927191823612,
          -0.06429770906323339,
          -0.06730517643007751,
          -0.0786905886045588,
          -0.07074228199218507,
          -0.07568312123771467,
          -0.07890540770219052,
          -0.07009782469928989,
          -0.05226783959585694,
          -0.05935686981770377,
          -0.06730517643007751,
          -0.07289047296850229,
          -0.058282774329545164,
          -0.07439420665192435,
          -0.05720867884138655,
          -0.06472734725849684,
          -0.07074228199218507,
          0.010029698717342578,
          -0.07009782469928989,
          -0.06988300560165818,
          -0.07074228199218507,
          -0.07482384484718778,
          -0.06472734725849684,
          -0.06687553823481406,
          -0.06086060350112584,
          -0.06257915628217961,
          -0.07718685492113674,
          -0.08449070424061529,
          -0.07224601567560712,
          -0.058282774329545164,
          -0.07654239762824157,
          0.49895796492714284,
          -0.07826095040929534,
          -0.07224601567560712,
          -0.08363142785008841,
          -0.08298697055719324,
          -0.05398639237691071,
          -0.06880891011349956,
          -0.08492034243587875,
          -0.07074228199218507,
          -0.06859409101586784,
          -0.07847576950692707,
          -0.07267565387087056,
          -0.07031264379692162,
          -0.07160155838271196,
          -0.05183820140059349,
          -0.04861591493611765,
          -0.08083877958087601,
          -0.07224601567560712,
          -0.019615336755835124,
          -0.06794963372297268,
          -0.07095710108981679,
          -0.06043096530586238,
          0.7182882636091314,
          -0.07332011116376573,
          -0.07031264379692162,
          -0.06902372921113129,
          -0.07761649311640019,
          -0.07353493026139746,
          -0.06773481462534095,
          -0.07439420665192435,
          -0.07439420665192435,
          -0.07310529206613402,
          -0.06644590003955061,
          -0.08556479972877391,
          -0.06773481462534095,
          -0.08277215145956152,
          -0.08449070424061529,
          -0.07310529206613402,
          -0.0720311965779754,
          -0.07611275943297813,
          -0.05806795523191344,
          -0.07310529206613402,
          -0.08470552333824702,
          -0.05935686981770377,
          -0.07181637748034368,
          -0.05935686981770377,
          -0.06902372921113129,
          -0.07417938755429263,
          -0.06257915628217961,
          -0.07546830214008296,
          -0.06365325177033823,
          -0.053341935084015545,
          -0.06257915628217961,
          -0.07546830214008296,
          -0.05935686981770377,
          -0.07009782469928989,
          -0.07417938755429263,
          -0.0711719201874485,
          -0.07224601567560712,
          -0.07654239762824157,
          -0.061505060794021,
          -0.07546830214008296,
          -0.06429770906323339,
          -0.06580144274665545,
          -0.0720311965779754,
          -0.07074228199218507,
          0.12860984061005334,
          -0.06644590003955061,
          -0.07525348304245123,
          -0.07332011116376573,
          -0.07009782469928989,
          -0.06472734725849684,
          -0.0797646840927174,
          -0.05935686981770377,
          -0.05720867884138655,
          -0.07332011116376573,
          -0.05076410591243488,
          -0.05763831703665,
          -0.08341660875245668,
          -0.06902372921113129,
          -0.0825573323619298,
          -0.06472734725849684,
          -0.058282774329545164,
          -0.08363142785008841,
          -0.06257915628217961,
          -0.06257915628217961,
          -0.05935686981770377,
          -0.06988300560165818,
          -0.07224601567560712,
          -0.05720867884138655,
          -0.06794963372297268,
          -0.0750386639448195,
          -0.058282774329545164,
          -0.07009782469928989,
          -0.061505060794021,
          -0.06966818650402645,
          -0.0797646840927174,
          -0.06279397537981134,
          -0.06429770906323339,
          -0.05398639237691071,
          -0.0634384326727065,
          -0.061075422598757555,
          -0.06902372921113129,
          -0.07224601567560712,
          -0.05935686981770377,
          -0.06257915628217961,
          -0.07031264379692162,
          -0.05613458335322794,
          -0.06837927191823612,
          -0.058282774329545164,
          -0.06257915628217961,
          -0.06257915628217961,
          16.754748720914844,
          -0.0711719201874485,
          -0.06751999552770922,
          -0.06945336740639473,
          0.12860984061005334,
          -0.08406106604535185,
          -0.0711719201874485,
          -0.08427588514298358,
          -0.07847576950692707
         ],
         "yaxis": "y",
         "type": "scatter"
        }
       ],
       "layout": {
        "template": {
         "data": {
          "histogram2dcontour": [
           {
            "type": "histogram2dcontour",
            "colorbar": {
             "outlinewidth": 0,
             "ticks": ""
            },
            "colorscale": [
             [
              0.0,
              "#0d0887"
             ],
             [
              0.1111111111111111,
              "#46039f"
             ],
             [
              0.2222222222222222,
              "#7201a8"
             ],
             [
              0.3333333333333333,
              "#9c179e"
             ],
             [
              0.4444444444444444,
              "#bd3786"
             ],
             [
              0.5555555555555556,
              "#d8576b"
             ],
             [
              0.6666666666666666,
              "#ed7953"
             ],
             [
              0.7777777777777778,
              "#fb9f3a"
             ],
             [
              0.8888888888888888,
              "#fdca26"
             ],
             [
              1.0,
              "#f0f921"
             ]
            ]
           }
          ],
          "choropleth": [
           {
            "type": "choropleth",
            "colorbar": {
             "outlinewidth": 0,
             "ticks": ""
            }
           }
          ],
          "histogram2d": [
           {
            "type": "histogram2d",
            "colorbar": {
             "outlinewidth": 0,
             "ticks": ""
            },
            "colorscale": [
             [
              0.0,
              "#0d0887"
             ],
             [
              0.1111111111111111,
              "#46039f"
             ],
             [
              0.2222222222222222,
              "#7201a8"
             ],
             [
              0.3333333333333333,
              "#9c179e"
             ],
             [
              0.4444444444444444,
              "#bd3786"
             ],
             [
              0.5555555555555556,
              "#d8576b"
             ],
             [
              0.6666666666666666,
              "#ed7953"
             ],
             [
              0.7777777777777778,
              "#fb9f3a"
             ],
             [
              0.8888888888888888,
              "#fdca26"
             ],
             [
              1.0,
              "#f0f921"
             ]
            ]
           }
          ],
          "heatmap": [
           {
            "type": "heatmap",
            "colorbar": {
             "outlinewidth": 0,
             "ticks": ""
            },
            "colorscale": [
             [
              0.0,
              "#0d0887"
             ],
             [
              0.1111111111111111,
              "#46039f"
             ],
             [
              0.2222222222222222,
              "#7201a8"
             ],
             [
              0.3333333333333333,
              "#9c179e"
             ],
             [
              0.4444444444444444,
              "#bd3786"
             ],
             [
              0.5555555555555556,
              "#d8576b"
             ],
             [
              0.6666666666666666,
              "#ed7953"
             ],
             [
              0.7777777777777778,
              "#fb9f3a"
             ],
             [
              0.8888888888888888,
              "#fdca26"
             ],
             [
              1.0,
              "#f0f921"
             ]
            ]
           }
          ],
          "heatmapgl": [
           {
            "type": "heatmapgl",
            "colorbar": {
             "outlinewidth": 0,
             "ticks": ""
            },
            "colorscale": [
             [
              0.0,
              "#0d0887"
             ],
             [
              0.1111111111111111,
              "#46039f"
             ],
             [
              0.2222222222222222,
              "#7201a8"
             ],
             [
              0.3333333333333333,
              "#9c179e"
             ],
             [
              0.4444444444444444,
              "#bd3786"
             ],
             [
              0.5555555555555556,
              "#d8576b"
             ],
             [
              0.6666666666666666,
              "#ed7953"
             ],
             [
              0.7777777777777778,
              "#fb9f3a"
             ],
             [
              0.8888888888888888,
              "#fdca26"
             ],
             [
              1.0,
              "#f0f921"
             ]
            ]
           }
          ],
          "contourcarpet": [
           {
            "type": "contourcarpet",
            "colorbar": {
             "outlinewidth": 0,
             "ticks": ""
            }
           }
          ],
          "contour": [
           {
            "type": "contour",
            "colorbar": {
             "outlinewidth": 0,
             "ticks": ""
            },
            "colorscale": [
             [
              0.0,
              "#0d0887"
             ],
             [
              0.1111111111111111,
              "#46039f"
             ],
             [
              0.2222222222222222,
              "#7201a8"
             ],
             [
              0.3333333333333333,
              "#9c179e"
             ],
             [
              0.4444444444444444,
              "#bd3786"
             ],
             [
              0.5555555555555556,
              "#d8576b"
             ],
             [
              0.6666666666666666,
              "#ed7953"
             ],
             [
              0.7777777777777778,
              "#fb9f3a"
             ],
             [
              0.8888888888888888,
              "#fdca26"
             ],
             [
              1.0,
              "#f0f921"
             ]
            ]
           }
          ],
          "surface": [
           {
            "type": "surface",
            "colorbar": {
             "outlinewidth": 0,
             "ticks": ""
            },
            "colorscale": [
             [
              0.0,
              "#0d0887"
             ],
             [
              0.1111111111111111,
              "#46039f"
             ],
             [
              0.2222222222222222,
              "#7201a8"
             ],
             [
              0.3333333333333333,
              "#9c179e"
             ],
             [
              0.4444444444444444,
              "#bd3786"
             ],
             [
              0.5555555555555556,
              "#d8576b"
             ],
             [
              0.6666666666666666,
              "#ed7953"
             ],
             [
              0.7777777777777778,
              "#fb9f3a"
             ],
             [
              0.8888888888888888,
              "#fdca26"
             ],
             [
              1.0,
              "#f0f921"
             ]
            ]
           }
          ],
          "mesh3d": [
           {
            "type": "mesh3d",
            "colorbar": {
             "outlinewidth": 0,
             "ticks": ""
            }
           }
          ],
          "scatter": [
           {
            "marker": {
             "line": {
              "color": "#283442"
             }
            },
            "type": "scatter"
           }
          ],
          "parcoords": [
           {
            "type": "parcoords",
            "line": {
             "colorbar": {
              "outlinewidth": 0,
              "ticks": ""
             }
            }
           }
          ],
          "scatterpolargl": [
           {
            "type": "scatterpolargl",
            "marker": {
             "colorbar": {
              "outlinewidth": 0,
              "ticks": ""
             }
            }
           }
          ],
          "bar": [
           {
            "error_x": {
             "color": "#f2f5fa"
            },
            "error_y": {
             "color": "#f2f5fa"
            },
            "marker": {
             "line": {
              "color": "rgb(17,17,17)",
              "width": 0.5
             },
             "pattern": {
              "fillmode": "overlay",
              "size": 10,
              "solidity": 0.2
             }
            },
            "type": "bar"
           }
          ],
          "scattergeo": [
           {
            "type": "scattergeo",
            "marker": {
             "colorbar": {
              "outlinewidth": 0,
              "ticks": ""
             }
            }
           }
          ],
          "scatterpolar": [
           {
            "type": "scatterpolar",
            "marker": {
             "colorbar": {
              "outlinewidth": 0,
              "ticks": ""
             }
            }
           }
          ],
          "histogram": [
           {
            "marker": {
             "pattern": {
              "fillmode": "overlay",
              "size": 10,
              "solidity": 0.2
             }
            },
            "type": "histogram"
           }
          ],
          "scattergl": [
           {
            "marker": {
             "line": {
              "color": "#283442"
             }
            },
            "type": "scattergl"
           }
          ],
          "scatter3d": [
           {
            "type": "scatter3d",
            "line": {
             "colorbar": {
              "outlinewidth": 0,
              "ticks": ""
             }
            },
            "marker": {
             "colorbar": {
              "outlinewidth": 0,
              "ticks": ""
             }
            }
           }
          ],
          "scattermapbox": [
           {
            "type": "scattermapbox",
            "marker": {
             "colorbar": {
              "outlinewidth": 0,
              "ticks": ""
             }
            }
           }
          ],
          "scatterternary": [
           {
            "type": "scatterternary",
            "marker": {
             "colorbar": {
              "outlinewidth": 0,
              "ticks": ""
             }
            }
           }
          ],
          "scattercarpet": [
           {
            "type": "scattercarpet",
            "marker": {
             "colorbar": {
              "outlinewidth": 0,
              "ticks": ""
             }
            }
           }
          ],
          "carpet": [
           {
            "aaxis": {
             "endlinecolor": "#A2B1C6",
             "gridcolor": "#506784",
             "linecolor": "#506784",
             "minorgridcolor": "#506784",
             "startlinecolor": "#A2B1C6"
            },
            "baxis": {
             "endlinecolor": "#A2B1C6",
             "gridcolor": "#506784",
             "linecolor": "#506784",
             "minorgridcolor": "#506784",
             "startlinecolor": "#A2B1C6"
            },
            "type": "carpet"
           }
          ],
          "table": [
           {
            "cells": {
             "fill": {
              "color": "#506784"
             },
             "line": {
              "color": "rgb(17,17,17)"
             }
            },
            "header": {
             "fill": {
              "color": "#2a3f5f"
             },
             "line": {
              "color": "rgb(17,17,17)"
             }
            },
            "type": "table"
           }
          ],
          "barpolar": [
           {
            "marker": {
             "line": {
              "color": "rgb(17,17,17)",
              "width": 0.5
             },
             "pattern": {
              "fillmode": "overlay",
              "size": 10,
              "solidity": 0.2
             }
            },
            "type": "barpolar"
           }
          ],
          "pie": [
           {
            "automargin": true,
            "type": "pie"
           }
          ]
         },
         "layout": {
          "autotypenumbers": "strict",
          "colorway": [
           "#636efa",
           "#EF553B",
           "#00cc96",
           "#ab63fa",
           "#FFA15A",
           "#19d3f3",
           "#FF6692",
           "#B6E880",
           "#FF97FF",
           "#FECB52"
          ],
          "font": {
           "color": "#f2f5fa"
          },
          "hovermode": "closest",
          "hoverlabel": {
           "align": "left"
          },
          "paper_bgcolor": "rgb(17,17,17)",
          "plot_bgcolor": "rgb(17,17,17)",
          "polar": {
           "bgcolor": "rgb(17,17,17)",
           "angularaxis": {
            "gridcolor": "#506784",
            "linecolor": "#506784",
            "ticks": ""
           },
           "radialaxis": {
            "gridcolor": "#506784",
            "linecolor": "#506784",
            "ticks": ""
           }
          },
          "ternary": {
           "bgcolor": "rgb(17,17,17)",
           "aaxis": {
            "gridcolor": "#506784",
            "linecolor": "#506784",
            "ticks": ""
           },
           "baxis": {
            "gridcolor": "#506784",
            "linecolor": "#506784",
            "ticks": ""
           },
           "caxis": {
            "gridcolor": "#506784",
            "linecolor": "#506784",
            "ticks": ""
           }
          },
          "coloraxis": {
           "colorbar": {
            "outlinewidth": 0,
            "ticks": ""
           }
          },
          "colorscale": {
           "sequential": [
            [
             0.0,
             "#0d0887"
            ],
            [
             0.1111111111111111,
             "#46039f"
            ],
            [
             0.2222222222222222,
             "#7201a8"
            ],
            [
             0.3333333333333333,
             "#9c179e"
            ],
            [
             0.4444444444444444,
             "#bd3786"
            ],
            [
             0.5555555555555556,
             "#d8576b"
            ],
            [
             0.6666666666666666,
             "#ed7953"
            ],
            [
             0.7777777777777778,
             "#fb9f3a"
            ],
            [
             0.8888888888888888,
             "#fdca26"
            ],
            [
             1.0,
             "#f0f921"
            ]
           ],
           "sequentialminus": [
            [
             0.0,
             "#0d0887"
            ],
            [
             0.1111111111111111,
             "#46039f"
            ],
            [
             0.2222222222222222,
             "#7201a8"
            ],
            [
             0.3333333333333333,
             "#9c179e"
            ],
            [
             0.4444444444444444,
             "#bd3786"
            ],
            [
             0.5555555555555556,
             "#d8576b"
            ],
            [
             0.6666666666666666,
             "#ed7953"
            ],
            [
             0.7777777777777778,
             "#fb9f3a"
            ],
            [
             0.8888888888888888,
             "#fdca26"
            ],
            [
             1.0,
             "#f0f921"
            ]
           ],
           "diverging": [
            [
             0,
             "#8e0152"
            ],
            [
             0.1,
             "#c51b7d"
            ],
            [
             0.2,
             "#de77ae"
            ],
            [
             0.3,
             "#f1b6da"
            ],
            [
             0.4,
             "#fde0ef"
            ],
            [
             0.5,
             "#f7f7f7"
            ],
            [
             0.6,
             "#e6f5d0"
            ],
            [
             0.7,
             "#b8e186"
            ],
            [
             0.8,
             "#7fbc41"
            ],
            [
             0.9,
             "#4d9221"
            ],
            [
             1,
             "#276419"
            ]
           ]
          },
          "xaxis": {
           "gridcolor": "#283442",
           "linecolor": "#506784",
           "ticks": "",
           "title": {
            "standoff": 15
           },
           "zerolinecolor": "#283442",
           "automargin": true,
           "zerolinewidth": 2
          },
          "yaxis": {
           "gridcolor": "#283442",
           "linecolor": "#506784",
           "ticks": "",
           "title": {
            "standoff": 15
           },
           "zerolinecolor": "#283442",
           "automargin": true,
           "zerolinewidth": 2
          },
          "scene": {
           "xaxis": {
            "backgroundcolor": "rgb(17,17,17)",
            "gridcolor": "#506784",
            "linecolor": "#506784",
            "showbackground": true,
            "ticks": "",
            "zerolinecolor": "#C8D4E3",
            "gridwidth": 2
           },
           "yaxis": {
            "backgroundcolor": "rgb(17,17,17)",
            "gridcolor": "#506784",
            "linecolor": "#506784",
            "showbackground": true,
            "ticks": "",
            "zerolinecolor": "#C8D4E3",
            "gridwidth": 2
           },
           "zaxis": {
            "backgroundcolor": "rgb(17,17,17)",
            "gridcolor": "#506784",
            "linecolor": "#506784",
            "showbackground": true,
            "ticks": "",
            "zerolinecolor": "#C8D4E3",
            "gridwidth": 2
           }
          },
          "shapedefaults": {
           "line": {
            "color": "#f2f5fa"
           }
          },
          "annotationdefaults": {
           "arrowcolor": "#f2f5fa",
           "arrowhead": 0,
           "arrowwidth": 1
          },
          "geo": {
           "bgcolor": "rgb(17,17,17)",
           "landcolor": "rgb(17,17,17)",
           "subunitcolor": "#506784",
           "showland": true,
           "showlakes": true,
           "lakecolor": "rgb(17,17,17)"
          },
          "title": {
           "x": 0.05
          },
          "updatemenudefaults": {
           "bgcolor": "#506784",
           "borderwidth": 0
          },
          "sliderdefaults": {
           "bgcolor": "#C8D4E3",
           "borderwidth": 1,
           "bordercolor": "rgb(17,17,17)",
           "tickwidth": 0
          },
          "mapbox": {
           "style": "dark"
          }
         }
        },
        "xaxis": {
         "anchor": "y",
         "domain": [
          0.0,
          1.0
         ],
         "title": {
          "text": "x"
         }
        },
        "yaxis": {
         "anchor": "x",
         "domain": [
          0.0,
          1.0
         ],
         "title": {
          "text": "y"
         }
        },
        "coloraxis": {
         "colorbar": {
          "title": {
           "text": "color"
          }
         },
         "colorscale": [
          [
           0.0,
           "#0d0887"
          ],
          [
           0.1111111111111111,
           "#46039f"
          ],
          [
           0.2222222222222222,
           "#7201a8"
          ],
          [
           0.3333333333333333,
           "#9c179e"
          ],
          [
           0.4444444444444444,
           "#bd3786"
          ],
          [
           0.5555555555555556,
           "#d8576b"
          ],
          [
           0.6666666666666666,
           "#ed7953"
          ],
          [
           0.7777777777777778,
           "#fb9f3a"
          ],
          [
           0.8888888888888888,
           "#fdca26"
          ],
          [
           1.0,
           "#f0f921"
          ]
         ]
        },
        "legend": {
         "tracegroupgap": 0
        },
        "margin": {
         "t": 60
        }
       },
       "config": {
        "plotlyServerURL": "https://plot.ly"
       }
      },
      "text/html": "<div>                            <div id=\"69923256-8388-4ca6-a9f5-f12b321b3cb7\" class=\"plotly-graph-div\" style=\"height:525px; width:100%;\"></div>            <script type=\"text/javascript\">                require([\"plotly\"], function(Plotly) {                    window.PLOTLYENV=window.PLOTLYENV || {};                                    if (document.getElementById(\"69923256-8388-4ca6-a9f5-f12b321b3cb7\")) {                    Plotly.newPlot(                        \"69923256-8388-4ca6-a9f5-f12b321b3cb7\",                        [{\"hovertemplate\":\"x=%{x}<br>y=%{y}<br>color=%{marker.color}<extra></extra>\",\"legendgroup\":\"\",\"marker\":{\"color\":[0,0,0,0,0,0,0,0,0,0,0,0,0,0,0,0,0,0,0,0,0,0,0,0,0,0,0,0,0,0,0,0,0,0,0,0,0,0,0,0,0,0,0,0,0,0,0,0,0,0,0,0,0,0,0,0,0,0,0,0,0,0,0,0,0,0,0,0,0,0,0,0,0,0,0,0,0,0,0,0,0,0,0,0,0,0,0,0,0,0,0,0,0,0,0,0,0,0,0,0,0,0,0,0,0,0,0,0,0,0,0,0,0,0,0,0,0,0,0,0,0,0,0,0,0,0,0,0,0,0,0,0,0,0,0,0,0,0,0,0,0,0,0,0,0,0,0,0,0,0,0,0,0,0,0,0,0,0,0,0,0,0,0,0,0,0,0,0,0,0,0,0,0,0,0,0,0,0,0,0,0,0,0,0,2,0,0,0,0,0,0,0,0,0,0,0,0,0,0,0,0,0,0,0,0,0,0,0,0,0,0,0,0,0,0,0,0,0,0,0,0,0,0,0,0,0,0,0,0,0,0,0,0,0,0,0,0,0,0,0,0,0,0,0,0,0,0,0,0,0,0,0,0,0,0,0,0,0,0,0,0,0,0,0,0,0,0,0,0,0,0,0,0,0,1,0,0,0,0,0,0,0,0],\"coloraxis\":\"coloraxis\",\"symbol\":\"circle\"},\"mode\":\"markers\",\"name\":\"\",\"orientation\":\"v\",\"showlegend\":false,\"x\":[-0.10032555099918383,-0.09771609791968774,-0.09949738853645415,0.07751121804355231,-0.09883867107888655,-0.08113166803944878,-0.06588161757486122,-0.08283459034132773,-0.026485653874676707,-0.07636602726926517,-0.09987863979806884,-0.09366000810862035,-0.07710734916684929,0.06522645516930123,-0.087695543926915,-0.10082964988954103,-0.10062631588334654,-0.10004384867810187,-0.09340372253831271,-0.09184482849082153,0.09191404348232944,0.1109766065630639,-0.10060937138283033,-0.08348483554863723,-0.08091986178299618,-0.049786460147027777,-0.08251264483151975,-0.09812276593207675,0.22111585991841845,-0.09932582546872754,-0.08595026037374554,-0.0999633623006499,-0.08396987187591369,-0.10082964988954103,-0.09480376189346443,-0.10082964988954103,-0.08759175886125323,-0.09912249146253305,-0.07989471950176558,-0.08180944806009711,-0.059527429881283074,-0.082207643822228,-0.10082964988954103,-0.08028444301363837,-0.0809537507840286,-0.08025902626286405,-0.06838516752613101,-0.09786648036176909,-0.08123545310511056,-0.07988624725150746,-0.0798332956873943,-0.07446188902375625,-0.09883867107888655,-0.08282611809106961,-0.09919238752716239,-0.08224365088582496,-0.08558595361264706,-0.0836860514922672,-0.08688856208983058,-0.07925294654471417,-0.08617265694302077,-0.08419226844518891,-0.07886534109540591,-0.0776368648079808,-0.10082964988954103,-0.0917198627995145,-0.08388514937333265,-0.0822796579494219,-0.08280493746542436,-0.08485098590275653,-0.10082964988954103,-0.08547157823416265,-0.08923749347388997,-0.09865863576090184,-0.09781988298534952,-0.07710734916684929,-0.07785078912699793,-0.06694064885712425,-0.08053861052138148,0.36090798917713773,-0.07976339962276495,-0.0005372693966680802,-0.07895006359798694,-0.09853790619472386,-0.08075041677783408,-0.08710460447141223,-0.08214833807042128,-0.0910929162804148,-0.0790856196021166,-0.08257406864589102,-0.07820026945014473,-0.08134771042103044,-0.0817670868088066,-0.09910131083688778,-0.07837183251787133,-0.08820599700496577,-0.08221611607248612,-0.077367870862286,-0.08485945815301461,-0.0821822270714537,-0.09221337137704906,-0.08171413524469344,-0.09909707471175873,-0.10082964988954103,-0.09009107268739397,-0.09115222203222152,-0.0673600252449004,-0.08564314130188927,-0.07848408983379122,-0.0838491423097357,-0.0840122331272042,-0.08255076995768122,-0.07552092030601927,-0.0821737548211956,-0.09884078914145109,-0.08517716753769353,-0.08435959538778648,-0.08088809084452828,-0.08259524927153629,-0.07849256208404932,-0.08091986178299618,-0.07855822202354962,-0.08069534715115641,-0.08403129569028493,-0.09852096169420765,-0.08812339256494926,-0.04597818365600993,-0.06493060748338902,-0.07880179921847012,-0.07101368316870783,-0.09866075382346635,-0.08274139558848857,-0.08092409790812523,-0.10082964988954103,-0.0902647538176851,-0.07791856712906275,-0.08330480023065251,-0.09236375381913042,-0.08452480426781951,-0.07404251263598009,-0.07892888297234169,-0.08325184866653935,-0.08311417459984516,-0.08063604139934968,-0.08007263675718575,-0.07837818670556491,-0.07992437237766893,-0.08414355300620481,0.06861535527254291,-0.07793974775470802,-0.08059156208549463,-0.07630883958002296,-0.08522800103924215,-0.08145361354925673,-0.079280481358053,-0.07242643089924672,-0.08007899094487934,-0.08873551264609729,-0.09865863576090184,-0.08076524321578576,-0.05703023411770686,-0.08473237439914307,0.3211943160922743,-0.08839662263577312,-0.08432782444931858,-0.09872217763783762,-0.09888526845530612,-0.08031409588954172,-0.08505008378382196,-0.0992644016543563,-0.07802870638241811,-0.08029503332646099,-0.07848620789635574,-0.07965114230684507,-0.08198948337808183,-0.08070805552654357,-0.05499901211832638,-0.050455767917418,-0.09492237339707789,-0.08994069024531261,-0.03792319172311737,-0.07810495663474105,-0.08549911304750149,-0.08291084059365067,4.982308698716524,-0.08395080931283296,-0.08345941879786291,-0.08081395865476987,-0.09088958227422028,-0.08534237641772656,-0.07644651364671716,-0.08652849145386116,-0.08682925633802385,-0.08091986178299618,-0.07250903533926324,-0.09937030478258259,-0.08007263675718575,-0.09885773364196729,-0.09922627652819482,-0.0830358062849577,-0.08409695562978525,-0.08617265694302077,-0.08140913423540169,-0.08269903433719807,-0.09895304645737095,-0.07823839457630619,-0.08674453383544281,-0.08019972051105731,-0.08342129367170144,-0.08588036430911618,-0.08124816148049771,-0.08785228055668994,-0.08259101314640722,-0.07054135521681854,-0.08052166602086527,-0.0903452401951371,-0.07923176591906891,-0.08414143494364029,-0.08026114432542857,-0.07965114230684507,-0.08019124826079921,-0.08775484967872173,-0.08008746319513743,-0.08759175886125323,-0.0811337861020133,-0.08251688095664882,-0.07223580526843937,-0.07161097681190419,0.04531666706275636,-0.06640901515342822,-0.08145149548669221,-0.08545463373364645,-0.08395080931283296,-0.0811825015409974,-0.08676571446108806,-0.08182003837291975,-0.07882509790667991,-0.08482133302685316,-0.07856669427380773,-0.07934614129755331,-0.0987772472645153,-0.08489122909148251,-0.09866922607372447,-0.08151503736362799,-0.07949016955194109,-0.09879630982759602,-0.0801827760105411,-0.08178191324675828,-0.08064239558704327,-0.08536779316850088,-0.08567703030292168,-0.08167177399340292,-0.08454174876833571,-0.08198101112782372,-0.07965114230684507,-0.08651790114103852,-0.08377924624510634,-0.08367334311688003,-0.07619658226410309,-0.07168087287653355,-0.07950287792732824,-0.07978881637353927,-0.0817755590590647,-0.08261431183461701,-0.084848867840192,-0.08244910295458398,-0.0794499263632151,-0.08049836733265549,-0.07912162666571355,-0.07806259538345053,-0.07951346824015088,-0.08064451364960779,-0.08068052071320474,-0.08070805552654357,15.996445840508432,-0.07886745915797043,-0.07504859235412997,-0.07599960244560215,0.23382211724301022,-0.09332535422342524,-0.0824025055781644,-0.09651303838303694,-0.08134347429590139],\"xaxis\":\"x\",\"y\":[-0.08620925702166908,-0.08620925702166908,-0.08620925702166908,-0.08620925702166908,-0.08620925702166908,-0.05656422154849139,-0.08148323687377118,-0.08083877958087601,-0.0758979403353464,-0.08620925702166908,-0.08620925702166908,-0.08620925702166908,-0.05140856320533004,0.11056503640898867,-0.07246083477323884,-0.08620925702166908,-0.08620925702166908,-0.08620925702166908,-0.07933504589745397,-0.0825573323619298,0.14493609203006425,0.02979305569946104,0.05986772936790217,-0.08620925702166908,-0.07009782469928989,-0.03271930171137019,-0.07912022679982224,-0.08427588514298358,0.18446280599430118,-0.08406106604535185,-0.08620925702166908,-0.08620925702166908,-0.07009782469928989,-0.06773481462534095,-0.08234251326429808,-0.07332011116376573,-0.08298697055719324,-0.0825573323619298,-0.07009782469928989,-0.06644590003955061,-0.050119648619539714,-0.061505060794021,-0.08234251326429808,-0.05506048786506932,-0.06386807086796994,-0.061290241696389275,-0.06666071913718233,-0.08040914138561257,-0.06472734725849684,-0.06515698545376028,-0.05613458335322794,-0.06859409101586784,-0.05806795523191344,-0.06623108094191889,-0.08470552333824702,-0.07568312123771467,-0.07289047296850229,-0.06429770906323339,-0.07417938755429263,-0.05355675418164727,-0.07009782469928989,-0.07417938755429263,-0.06043096530586238,-0.06451252816086511,-0.07160155838271196,-0.07761649311640019,-0.07374974935902917,-0.06472734725849684,-0.060645784403494114,-0.07289047296850229,-0.07009782469928989,-0.07740167401876846,-0.07761649311640019,-0.08320178965482496,-0.08363142785008841,-0.07460902574955607,-0.07031264379692162,-0.07632757853060985,-0.07417938755429263,0.21969313800590368,-0.06794963372297268,-0.011022572850566228,-0.06494216635612855,-0.08556479972877391,-0.06257915628217961,-0.07525348304245123,-0.058282774329545164,-0.0806239604832443,-0.061505060794021,-0.06666071913718233,-0.06021614620823067,-0.07031264379692162,-0.07224601567560712,-0.08470552333824702,-0.06494216635612855,-0.07546830214008296,-0.07654239762824157,-0.07095710108981679,-0.07289047296850229,-0.07460902574955607,-0.0797646840927174,-0.06386807086796994,-0.08470552333824702,-0.0767572167258733,-0.07890540770219052,-0.0786905886045588,-0.05720867884138655,-0.06644590003955061,-0.07353493026139746,-0.07074228199218507,-0.07181637748034368,-0.06472734725849684,-0.054630849669805887,-0.07224601567560712,-0.08363142785008841,-0.07181637748034368,-0.06709035733244578,-0.06837927191823612,-0.0711719201874485,-0.04818627674085421,-0.06257915628217961,-0.07224601567560712,-0.05720867884138655,-0.07224601567560712,-0.08320178965482496,-0.07568312123771467,-0.05398639237691071,-0.06257915628217961,-0.06043096530586238,-0.06945336740639473,-0.08363142785008841,-0.06837927191823612,-0.06429770906323339,-0.06730517643007751,-0.0786905886045588,-0.07074228199218507,-0.07568312123771467,-0.07890540770219052,-0.07009782469928989,-0.05226783959585694,-0.05935686981770377,-0.06730517643007751,-0.07289047296850229,-0.058282774329545164,-0.07439420665192435,-0.05720867884138655,-0.06472734725849684,-0.07074228199218507,0.010029698717342578,-0.07009782469928989,-0.06988300560165818,-0.07074228199218507,-0.07482384484718778,-0.06472734725849684,-0.06687553823481406,-0.06086060350112584,-0.06257915628217961,-0.07718685492113674,-0.08449070424061529,-0.07224601567560712,-0.058282774329545164,-0.07654239762824157,0.49895796492714284,-0.07826095040929534,-0.07224601567560712,-0.08363142785008841,-0.08298697055719324,-0.05398639237691071,-0.06880891011349956,-0.08492034243587875,-0.07074228199218507,-0.06859409101586784,-0.07847576950692707,-0.07267565387087056,-0.07031264379692162,-0.07160155838271196,-0.05183820140059349,-0.04861591493611765,-0.08083877958087601,-0.07224601567560712,-0.019615336755835124,-0.06794963372297268,-0.07095710108981679,-0.06043096530586238,0.7182882636091314,-0.07332011116376573,-0.07031264379692162,-0.06902372921113129,-0.07761649311640019,-0.07353493026139746,-0.06773481462534095,-0.07439420665192435,-0.07439420665192435,-0.07310529206613402,-0.06644590003955061,-0.08556479972877391,-0.06773481462534095,-0.08277215145956152,-0.08449070424061529,-0.07310529206613402,-0.0720311965779754,-0.07611275943297813,-0.05806795523191344,-0.07310529206613402,-0.08470552333824702,-0.05935686981770377,-0.07181637748034368,-0.05935686981770377,-0.06902372921113129,-0.07417938755429263,-0.06257915628217961,-0.07546830214008296,-0.06365325177033823,-0.053341935084015545,-0.06257915628217961,-0.07546830214008296,-0.05935686981770377,-0.07009782469928989,-0.07417938755429263,-0.0711719201874485,-0.07224601567560712,-0.07654239762824157,-0.061505060794021,-0.07546830214008296,-0.06429770906323339,-0.06580144274665545,-0.0720311965779754,-0.07074228199218507,0.12860984061005334,-0.06644590003955061,-0.07525348304245123,-0.07332011116376573,-0.07009782469928989,-0.06472734725849684,-0.0797646840927174,-0.05935686981770377,-0.05720867884138655,-0.07332011116376573,-0.05076410591243488,-0.05763831703665,-0.08341660875245668,-0.06902372921113129,-0.0825573323619298,-0.06472734725849684,-0.058282774329545164,-0.08363142785008841,-0.06257915628217961,-0.06257915628217961,-0.05935686981770377,-0.06988300560165818,-0.07224601567560712,-0.05720867884138655,-0.06794963372297268,-0.0750386639448195,-0.058282774329545164,-0.07009782469928989,-0.061505060794021,-0.06966818650402645,-0.0797646840927174,-0.06279397537981134,-0.06429770906323339,-0.05398639237691071,-0.0634384326727065,-0.061075422598757555,-0.06902372921113129,-0.07224601567560712,-0.05935686981770377,-0.06257915628217961,-0.07031264379692162,-0.05613458335322794,-0.06837927191823612,-0.058282774329545164,-0.06257915628217961,-0.06257915628217961,16.754748720914844,-0.0711719201874485,-0.06751999552770922,-0.06945336740639473,0.12860984061005334,-0.08406106604535185,-0.0711719201874485,-0.08427588514298358,-0.07847576950692707],\"yaxis\":\"y\",\"type\":\"scatter\"}],                        {\"template\":{\"data\":{\"histogram2dcontour\":[{\"type\":\"histogram2dcontour\",\"colorbar\":{\"outlinewidth\":0,\"ticks\":\"\"},\"colorscale\":[[0.0,\"#0d0887\"],[0.1111111111111111,\"#46039f\"],[0.2222222222222222,\"#7201a8\"],[0.3333333333333333,\"#9c179e\"],[0.4444444444444444,\"#bd3786\"],[0.5555555555555556,\"#d8576b\"],[0.6666666666666666,\"#ed7953\"],[0.7777777777777778,\"#fb9f3a\"],[0.8888888888888888,\"#fdca26\"],[1.0,\"#f0f921\"]]}],\"choropleth\":[{\"type\":\"choropleth\",\"colorbar\":{\"outlinewidth\":0,\"ticks\":\"\"}}],\"histogram2d\":[{\"type\":\"histogram2d\",\"colorbar\":{\"outlinewidth\":0,\"ticks\":\"\"},\"colorscale\":[[0.0,\"#0d0887\"],[0.1111111111111111,\"#46039f\"],[0.2222222222222222,\"#7201a8\"],[0.3333333333333333,\"#9c179e\"],[0.4444444444444444,\"#bd3786\"],[0.5555555555555556,\"#d8576b\"],[0.6666666666666666,\"#ed7953\"],[0.7777777777777778,\"#fb9f3a\"],[0.8888888888888888,\"#fdca26\"],[1.0,\"#f0f921\"]]}],\"heatmap\":[{\"type\":\"heatmap\",\"colorbar\":{\"outlinewidth\":0,\"ticks\":\"\"},\"colorscale\":[[0.0,\"#0d0887\"],[0.1111111111111111,\"#46039f\"],[0.2222222222222222,\"#7201a8\"],[0.3333333333333333,\"#9c179e\"],[0.4444444444444444,\"#bd3786\"],[0.5555555555555556,\"#d8576b\"],[0.6666666666666666,\"#ed7953\"],[0.7777777777777778,\"#fb9f3a\"],[0.8888888888888888,\"#fdca26\"],[1.0,\"#f0f921\"]]}],\"heatmapgl\":[{\"type\":\"heatmapgl\",\"colorbar\":{\"outlinewidth\":0,\"ticks\":\"\"},\"colorscale\":[[0.0,\"#0d0887\"],[0.1111111111111111,\"#46039f\"],[0.2222222222222222,\"#7201a8\"],[0.3333333333333333,\"#9c179e\"],[0.4444444444444444,\"#bd3786\"],[0.5555555555555556,\"#d8576b\"],[0.6666666666666666,\"#ed7953\"],[0.7777777777777778,\"#fb9f3a\"],[0.8888888888888888,\"#fdca26\"],[1.0,\"#f0f921\"]]}],\"contourcarpet\":[{\"type\":\"contourcarpet\",\"colorbar\":{\"outlinewidth\":0,\"ticks\":\"\"}}],\"contour\":[{\"type\":\"contour\",\"colorbar\":{\"outlinewidth\":0,\"ticks\":\"\"},\"colorscale\":[[0.0,\"#0d0887\"],[0.1111111111111111,\"#46039f\"],[0.2222222222222222,\"#7201a8\"],[0.3333333333333333,\"#9c179e\"],[0.4444444444444444,\"#bd3786\"],[0.5555555555555556,\"#d8576b\"],[0.6666666666666666,\"#ed7953\"],[0.7777777777777778,\"#fb9f3a\"],[0.8888888888888888,\"#fdca26\"],[1.0,\"#f0f921\"]]}],\"surface\":[{\"type\":\"surface\",\"colorbar\":{\"outlinewidth\":0,\"ticks\":\"\"},\"colorscale\":[[0.0,\"#0d0887\"],[0.1111111111111111,\"#46039f\"],[0.2222222222222222,\"#7201a8\"],[0.3333333333333333,\"#9c179e\"],[0.4444444444444444,\"#bd3786\"],[0.5555555555555556,\"#d8576b\"],[0.6666666666666666,\"#ed7953\"],[0.7777777777777778,\"#fb9f3a\"],[0.8888888888888888,\"#fdca26\"],[1.0,\"#f0f921\"]]}],\"mesh3d\":[{\"type\":\"mesh3d\",\"colorbar\":{\"outlinewidth\":0,\"ticks\":\"\"}}],\"scatter\":[{\"marker\":{\"line\":{\"color\":\"#283442\"}},\"type\":\"scatter\"}],\"parcoords\":[{\"type\":\"parcoords\",\"line\":{\"colorbar\":{\"outlinewidth\":0,\"ticks\":\"\"}}}],\"scatterpolargl\":[{\"type\":\"scatterpolargl\",\"marker\":{\"colorbar\":{\"outlinewidth\":0,\"ticks\":\"\"}}}],\"bar\":[{\"error_x\":{\"color\":\"#f2f5fa\"},\"error_y\":{\"color\":\"#f2f5fa\"},\"marker\":{\"line\":{\"color\":\"rgb(17,17,17)\",\"width\":0.5},\"pattern\":{\"fillmode\":\"overlay\",\"size\":10,\"solidity\":0.2}},\"type\":\"bar\"}],\"scattergeo\":[{\"type\":\"scattergeo\",\"marker\":{\"colorbar\":{\"outlinewidth\":0,\"ticks\":\"\"}}}],\"scatterpolar\":[{\"type\":\"scatterpolar\",\"marker\":{\"colorbar\":{\"outlinewidth\":0,\"ticks\":\"\"}}}],\"histogram\":[{\"marker\":{\"pattern\":{\"fillmode\":\"overlay\",\"size\":10,\"solidity\":0.2}},\"type\":\"histogram\"}],\"scattergl\":[{\"marker\":{\"line\":{\"color\":\"#283442\"}},\"type\":\"scattergl\"}],\"scatter3d\":[{\"type\":\"scatter3d\",\"line\":{\"colorbar\":{\"outlinewidth\":0,\"ticks\":\"\"}},\"marker\":{\"colorbar\":{\"outlinewidth\":0,\"ticks\":\"\"}}}],\"scattermapbox\":[{\"type\":\"scattermapbox\",\"marker\":{\"colorbar\":{\"outlinewidth\":0,\"ticks\":\"\"}}}],\"scatterternary\":[{\"type\":\"scatterternary\",\"marker\":{\"colorbar\":{\"outlinewidth\":0,\"ticks\":\"\"}}}],\"scattercarpet\":[{\"type\":\"scattercarpet\",\"marker\":{\"colorbar\":{\"outlinewidth\":0,\"ticks\":\"\"}}}],\"carpet\":[{\"aaxis\":{\"endlinecolor\":\"#A2B1C6\",\"gridcolor\":\"#506784\",\"linecolor\":\"#506784\",\"minorgridcolor\":\"#506784\",\"startlinecolor\":\"#A2B1C6\"},\"baxis\":{\"endlinecolor\":\"#A2B1C6\",\"gridcolor\":\"#506784\",\"linecolor\":\"#506784\",\"minorgridcolor\":\"#506784\",\"startlinecolor\":\"#A2B1C6\"},\"type\":\"carpet\"}],\"table\":[{\"cells\":{\"fill\":{\"color\":\"#506784\"},\"line\":{\"color\":\"rgb(17,17,17)\"}},\"header\":{\"fill\":{\"color\":\"#2a3f5f\"},\"line\":{\"color\":\"rgb(17,17,17)\"}},\"type\":\"table\"}],\"barpolar\":[{\"marker\":{\"line\":{\"color\":\"rgb(17,17,17)\",\"width\":0.5},\"pattern\":{\"fillmode\":\"overlay\",\"size\":10,\"solidity\":0.2}},\"type\":\"barpolar\"}],\"pie\":[{\"automargin\":true,\"type\":\"pie\"}]},\"layout\":{\"autotypenumbers\":\"strict\",\"colorway\":[\"#636efa\",\"#EF553B\",\"#00cc96\",\"#ab63fa\",\"#FFA15A\",\"#19d3f3\",\"#FF6692\",\"#B6E880\",\"#FF97FF\",\"#FECB52\"],\"font\":{\"color\":\"#f2f5fa\"},\"hovermode\":\"closest\",\"hoverlabel\":{\"align\":\"left\"},\"paper_bgcolor\":\"rgb(17,17,17)\",\"plot_bgcolor\":\"rgb(17,17,17)\",\"polar\":{\"bgcolor\":\"rgb(17,17,17)\",\"angularaxis\":{\"gridcolor\":\"#506784\",\"linecolor\":\"#506784\",\"ticks\":\"\"},\"radialaxis\":{\"gridcolor\":\"#506784\",\"linecolor\":\"#506784\",\"ticks\":\"\"}},\"ternary\":{\"bgcolor\":\"rgb(17,17,17)\",\"aaxis\":{\"gridcolor\":\"#506784\",\"linecolor\":\"#506784\",\"ticks\":\"\"},\"baxis\":{\"gridcolor\":\"#506784\",\"linecolor\":\"#506784\",\"ticks\":\"\"},\"caxis\":{\"gridcolor\":\"#506784\",\"linecolor\":\"#506784\",\"ticks\":\"\"}},\"coloraxis\":{\"colorbar\":{\"outlinewidth\":0,\"ticks\":\"\"}},\"colorscale\":{\"sequential\":[[0.0,\"#0d0887\"],[0.1111111111111111,\"#46039f\"],[0.2222222222222222,\"#7201a8\"],[0.3333333333333333,\"#9c179e\"],[0.4444444444444444,\"#bd3786\"],[0.5555555555555556,\"#d8576b\"],[0.6666666666666666,\"#ed7953\"],[0.7777777777777778,\"#fb9f3a\"],[0.8888888888888888,\"#fdca26\"],[1.0,\"#f0f921\"]],\"sequentialminus\":[[0.0,\"#0d0887\"],[0.1111111111111111,\"#46039f\"],[0.2222222222222222,\"#7201a8\"],[0.3333333333333333,\"#9c179e\"],[0.4444444444444444,\"#bd3786\"],[0.5555555555555556,\"#d8576b\"],[0.6666666666666666,\"#ed7953\"],[0.7777777777777778,\"#fb9f3a\"],[0.8888888888888888,\"#fdca26\"],[1.0,\"#f0f921\"]],\"diverging\":[[0,\"#8e0152\"],[0.1,\"#c51b7d\"],[0.2,\"#de77ae\"],[0.3,\"#f1b6da\"],[0.4,\"#fde0ef\"],[0.5,\"#f7f7f7\"],[0.6,\"#e6f5d0\"],[0.7,\"#b8e186\"],[0.8,\"#7fbc41\"],[0.9,\"#4d9221\"],[1,\"#276419\"]]},\"xaxis\":{\"gridcolor\":\"#283442\",\"linecolor\":\"#506784\",\"ticks\":\"\",\"title\":{\"standoff\":15},\"zerolinecolor\":\"#283442\",\"automargin\":true,\"zerolinewidth\":2},\"yaxis\":{\"gridcolor\":\"#283442\",\"linecolor\":\"#506784\",\"ticks\":\"\",\"title\":{\"standoff\":15},\"zerolinecolor\":\"#283442\",\"automargin\":true,\"zerolinewidth\":2},\"scene\":{\"xaxis\":{\"backgroundcolor\":\"rgb(17,17,17)\",\"gridcolor\":\"#506784\",\"linecolor\":\"#506784\",\"showbackground\":true,\"ticks\":\"\",\"zerolinecolor\":\"#C8D4E3\",\"gridwidth\":2},\"yaxis\":{\"backgroundcolor\":\"rgb(17,17,17)\",\"gridcolor\":\"#506784\",\"linecolor\":\"#506784\",\"showbackground\":true,\"ticks\":\"\",\"zerolinecolor\":\"#C8D4E3\",\"gridwidth\":2},\"zaxis\":{\"backgroundcolor\":\"rgb(17,17,17)\",\"gridcolor\":\"#506784\",\"linecolor\":\"#506784\",\"showbackground\":true,\"ticks\":\"\",\"zerolinecolor\":\"#C8D4E3\",\"gridwidth\":2}},\"shapedefaults\":{\"line\":{\"color\":\"#f2f5fa\"}},\"annotationdefaults\":{\"arrowcolor\":\"#f2f5fa\",\"arrowhead\":0,\"arrowwidth\":1},\"geo\":{\"bgcolor\":\"rgb(17,17,17)\",\"landcolor\":\"rgb(17,17,17)\",\"subunitcolor\":\"#506784\",\"showland\":true,\"showlakes\":true,\"lakecolor\":\"rgb(17,17,17)\"},\"title\":{\"x\":0.05},\"updatemenudefaults\":{\"bgcolor\":\"#506784\",\"borderwidth\":0},\"sliderdefaults\":{\"bgcolor\":\"#C8D4E3\",\"borderwidth\":1,\"bordercolor\":\"rgb(17,17,17)\",\"tickwidth\":0},\"mapbox\":{\"style\":\"dark\"}}},\"xaxis\":{\"anchor\":\"y\",\"domain\":[0.0,1.0],\"title\":{\"text\":\"x\"}},\"yaxis\":{\"anchor\":\"x\",\"domain\":[0.0,1.0],\"title\":{\"text\":\"y\"}},\"coloraxis\":{\"colorbar\":{\"title\":{\"text\":\"color\"}},\"colorscale\":[[0.0,\"#0d0887\"],[0.1111111111111111,\"#46039f\"],[0.2222222222222222,\"#7201a8\"],[0.3333333333333333,\"#9c179e\"],[0.4444444444444444,\"#bd3786\"],[0.5555555555555556,\"#d8576b\"],[0.6666666666666666,\"#ed7953\"],[0.7777777777777778,\"#fb9f3a\"],[0.8888888888888888,\"#fdca26\"],[1.0,\"#f0f921\"]]},\"legend\":{\"tracegroupgap\":0},\"margin\":{\"t\":60}},                        {\"responsive\": true}                    ).then(function(){\n                            \nvar gd = document.getElementById('69923256-8388-4ca6-a9f5-f12b321b3cb7');\nvar x = new MutationObserver(function (mutations, observer) {{\n        var display = window.getComputedStyle(gd).display;\n        if (!display || display === 'none') {{\n            console.log([gd, 'removed!']);\n            Plotly.purge(gd);\n            observer.disconnect();\n        }}\n}});\n\n// Listen for the removal of the full notebook cells\nvar notebookContainer = gd.closest('#notebook-container');\nif (notebookContainer) {{\n    x.observe(notebookContainer, {childList: true});\n}}\n\n// Listen for the clearing of the current output cell\nvar outputEl = gd.closest('.output');\nif (outputEl) {{\n    x.observe(outputEl, {childList: true});\n}}\n\n                        })                };                });            </script>        </div>"
     },
     "metadata": {},
     "output_type": "display_data"
    }
   ],
   "source": [
    "grafico_cluster_rend = px.scatter(y=base_cotacoes_rend[:,0], x=base_cotacoes_rend[:,1], color=rotulo_hc)\n",
    "grafico_cluster_rend.show()"
   ],
   "metadata": {
    "collapsed": false,
    "pycharm": {
     "name": "#%%\n"
    }
   }
  },
  {
   "cell_type": "markdown",
   "source": [
    "vizualizando o csv que atende os requisitos"
   ],
   "metadata": {
    "collapsed": false,
    "pycharm": {
     "name": "#%% md\n"
    }
   }
  },
  {
   "cell_type": "code",
   "execution_count": 59,
   "outputs": [
    {
     "data": {
      "text/plain": "     Unnamed: 0 Codigo_do_fundo                Setor  Preco_Atual  \\\n0             0          FIVN11            Shoppings         2.38   \n1             1          BZLI11  Títulos e Val. Mob.        14.70   \n2             2          XTED11   Lajes Corporativas         6.29   \n3             3          ALMI11   Lajes Corporativas       842.00   \n4             4          PABY11              Híbrido         9.40   \n..          ...             ...                  ...          ...   \n278         278          FLRP11            Shoppings      1579.99   \n279         279          CNES11   Lajes Corporativas        35.43   \n280         280          BTRA11               Outros        87.00   \n281         281          EDGA11   Lajes Corporativas        20.38   \n282         282          LASC11            Shoppings        92.00   \n\n     Liquidez_Diária  Dividendo DividendYield DY_(3M)Acumulado  \\\n0               2454       0.00         0.00%            0.00%   \n1              44041       0.00         0.00%            0.00%   \n2               2702       0.00         0.00%            0.00%   \n3                 29       0.00         0.00%            0.00%   \n4                 67       0.00         0.00%            0.00%   \n..               ...        ...           ...              ...   \n278               15      10.00         0.63%            2.33%   \n279               87       0.10         0.26%            0.83%   \n280             8717       0.70         0.74%            2.46%   \n281             2911       0.09         0.47%            2.12%   \n282                3       0.36         0.39%            1.46%   \n\n    DY_(6M)Acumulado DY_(12M)Acumulado  ... PatrimônioLíq      VPA  P/VPA  \\\n0              0.00%             0.00%  ...   65531708.68     6.96   34.0   \n1              0.00%             0.00%  ...  439856409.07    10.80  136.0   \n2              0.00%             0.00%  ...   27172278.20    13.83   45.0   \n3              0.00%             0.00%  ...  249878508.15  2247.57   37.0   \n4              0.00%             0.00%  ...  -10622559.80   -14.01  -67.0   \n..               ...               ...  ...           ...      ...    ...   \n278            4.70%             8.08%  ...  112693577.60  1727.58   91.0   \n279            1.49%             3.62%  ...  257461125.79    87.30   41.0   \n280            5.21%            10.20%  ...  348490615.97   103.58   84.0   \n281            4.51%             7.21%  ...  252351519.37    66.20   31.0   \n282            3.26%             6.79%  ...  282238377.82   112.08   82.0   \n\n    DYPatrimonial VariaçãoPatrimonial Rentab.Patr.noPeríodo  \\\n0           0.00%               0.00%                 0.00%   \n1           0.00%               0.00%                 0.00%   \n2           0.00%               0.00%                 0.00%   \n3           0.00%               0.00%                 0.00%   \n4           0.00%               0.00%                 0.00%   \n..            ...                 ...                   ...   \n278         0.58%               0.48%                 1.06%   \n279         0.11%               0.84%                 0.95%   \n280         0.68%               0.25%                 0.93%   \n281         0.26%              -0.06%                 0.20%   \n282         0.56%              -0.16%                 0.40%   \n\n    Rentab.Patr.Acumulada VacânciaFísica VacânciaFinanceira  QuantidadeAtivos  \n0                   0.00%         56.00%              0.00%                 1  \n1                   0.00%          0.00%              0.00%                 0  \n2                   0.00%          0.00%            100.00%                 1  \n3                   0.00%         64.05%              0.00%                 1  \n4                   0.00%          0.00%              0.00%                 1  \n..                    ...            ...                ...               ...  \n278                 3.30%          2.01%              0.00%                 1  \n279                 1.16%         56.70%              0.00%                 1  \n280                 3.63%          0.00%              0.00%                 0  \n281                 0.36%         48.81%              0.00%                 1  \n282                 1.92%          2.40%              0.00%                 3  \n\n[283 rows x 27 columns]",
      "text/html": "<div>\n<style scoped>\n    .dataframe tbody tr th:only-of-type {\n        vertical-align: middle;\n    }\n\n    .dataframe tbody tr th {\n        vertical-align: top;\n    }\n\n    .dataframe thead th {\n        text-align: right;\n    }\n</style>\n<table border=\"1\" class=\"dataframe\">\n  <thead>\n    <tr style=\"text-align: right;\">\n      <th></th>\n      <th>Unnamed: 0</th>\n      <th>Codigo_do_fundo</th>\n      <th>Setor</th>\n      <th>Preco_Atual</th>\n      <th>Liquidez_Diária</th>\n      <th>Dividendo</th>\n      <th>DividendYield</th>\n      <th>DY_(3M)Acumulado</th>\n      <th>DY_(6M)Acumulado</th>\n      <th>DY_(12M)Acumulado</th>\n      <th>...</th>\n      <th>PatrimônioLíq</th>\n      <th>VPA</th>\n      <th>P/VPA</th>\n      <th>DYPatrimonial</th>\n      <th>VariaçãoPatrimonial</th>\n      <th>Rentab.Patr.noPeríodo</th>\n      <th>Rentab.Patr.Acumulada</th>\n      <th>VacânciaFísica</th>\n      <th>VacânciaFinanceira</th>\n      <th>QuantidadeAtivos</th>\n    </tr>\n  </thead>\n  <tbody>\n    <tr>\n      <th>0</th>\n      <td>0</td>\n      <td>FIVN11</td>\n      <td>Shoppings</td>\n      <td>2.38</td>\n      <td>2454</td>\n      <td>0.00</td>\n      <td>0.00%</td>\n      <td>0.00%</td>\n      <td>0.00%</td>\n      <td>0.00%</td>\n      <td>...</td>\n      <td>65531708.68</td>\n      <td>6.96</td>\n      <td>34.0</td>\n      <td>0.00%</td>\n      <td>0.00%</td>\n      <td>0.00%</td>\n      <td>0.00%</td>\n      <td>56.00%</td>\n      <td>0.00%</td>\n      <td>1</td>\n    </tr>\n    <tr>\n      <th>1</th>\n      <td>1</td>\n      <td>BZLI11</td>\n      <td>Títulos e Val. Mob.</td>\n      <td>14.70</td>\n      <td>44041</td>\n      <td>0.00</td>\n      <td>0.00%</td>\n      <td>0.00%</td>\n      <td>0.00%</td>\n      <td>0.00%</td>\n      <td>...</td>\n      <td>439856409.07</td>\n      <td>10.80</td>\n      <td>136.0</td>\n      <td>0.00%</td>\n      <td>0.00%</td>\n      <td>0.00%</td>\n      <td>0.00%</td>\n      <td>0.00%</td>\n      <td>0.00%</td>\n      <td>0</td>\n    </tr>\n    <tr>\n      <th>2</th>\n      <td>2</td>\n      <td>XTED11</td>\n      <td>Lajes Corporativas</td>\n      <td>6.29</td>\n      <td>2702</td>\n      <td>0.00</td>\n      <td>0.00%</td>\n      <td>0.00%</td>\n      <td>0.00%</td>\n      <td>0.00%</td>\n      <td>...</td>\n      <td>27172278.20</td>\n      <td>13.83</td>\n      <td>45.0</td>\n      <td>0.00%</td>\n      <td>0.00%</td>\n      <td>0.00%</td>\n      <td>0.00%</td>\n      <td>0.00%</td>\n      <td>100.00%</td>\n      <td>1</td>\n    </tr>\n    <tr>\n      <th>3</th>\n      <td>3</td>\n      <td>ALMI11</td>\n      <td>Lajes Corporativas</td>\n      <td>842.00</td>\n      <td>29</td>\n      <td>0.00</td>\n      <td>0.00%</td>\n      <td>0.00%</td>\n      <td>0.00%</td>\n      <td>0.00%</td>\n      <td>...</td>\n      <td>249878508.15</td>\n      <td>2247.57</td>\n      <td>37.0</td>\n      <td>0.00%</td>\n      <td>0.00%</td>\n      <td>0.00%</td>\n      <td>0.00%</td>\n      <td>64.05%</td>\n      <td>0.00%</td>\n      <td>1</td>\n    </tr>\n    <tr>\n      <th>4</th>\n      <td>4</td>\n      <td>PABY11</td>\n      <td>Híbrido</td>\n      <td>9.40</td>\n      <td>67</td>\n      <td>0.00</td>\n      <td>0.00%</td>\n      <td>0.00%</td>\n      <td>0.00%</td>\n      <td>0.00%</td>\n      <td>...</td>\n      <td>-10622559.80</td>\n      <td>-14.01</td>\n      <td>-67.0</td>\n      <td>0.00%</td>\n      <td>0.00%</td>\n      <td>0.00%</td>\n      <td>0.00%</td>\n      <td>0.00%</td>\n      <td>0.00%</td>\n      <td>1</td>\n    </tr>\n    <tr>\n      <th>...</th>\n      <td>...</td>\n      <td>...</td>\n      <td>...</td>\n      <td>...</td>\n      <td>...</td>\n      <td>...</td>\n      <td>...</td>\n      <td>...</td>\n      <td>...</td>\n      <td>...</td>\n      <td>...</td>\n      <td>...</td>\n      <td>...</td>\n      <td>...</td>\n      <td>...</td>\n      <td>...</td>\n      <td>...</td>\n      <td>...</td>\n      <td>...</td>\n      <td>...</td>\n      <td>...</td>\n    </tr>\n    <tr>\n      <th>278</th>\n      <td>278</td>\n      <td>FLRP11</td>\n      <td>Shoppings</td>\n      <td>1579.99</td>\n      <td>15</td>\n      <td>10.00</td>\n      <td>0.63%</td>\n      <td>2.33%</td>\n      <td>4.70%</td>\n      <td>8.08%</td>\n      <td>...</td>\n      <td>112693577.60</td>\n      <td>1727.58</td>\n      <td>91.0</td>\n      <td>0.58%</td>\n      <td>0.48%</td>\n      <td>1.06%</td>\n      <td>3.30%</td>\n      <td>2.01%</td>\n      <td>0.00%</td>\n      <td>1</td>\n    </tr>\n    <tr>\n      <th>279</th>\n      <td>279</td>\n      <td>CNES11</td>\n      <td>Lajes Corporativas</td>\n      <td>35.43</td>\n      <td>87</td>\n      <td>0.10</td>\n      <td>0.26%</td>\n      <td>0.83%</td>\n      <td>1.49%</td>\n      <td>3.62%</td>\n      <td>...</td>\n      <td>257461125.79</td>\n      <td>87.30</td>\n      <td>41.0</td>\n      <td>0.11%</td>\n      <td>0.84%</td>\n      <td>0.95%</td>\n      <td>1.16%</td>\n      <td>56.70%</td>\n      <td>0.00%</td>\n      <td>1</td>\n    </tr>\n    <tr>\n      <th>280</th>\n      <td>280</td>\n      <td>BTRA11</td>\n      <td>Outros</td>\n      <td>87.00</td>\n      <td>8717</td>\n      <td>0.70</td>\n      <td>0.74%</td>\n      <td>2.46%</td>\n      <td>5.21%</td>\n      <td>10.20%</td>\n      <td>...</td>\n      <td>348490615.97</td>\n      <td>103.58</td>\n      <td>84.0</td>\n      <td>0.68%</td>\n      <td>0.25%</td>\n      <td>0.93%</td>\n      <td>3.63%</td>\n      <td>0.00%</td>\n      <td>0.00%</td>\n      <td>0</td>\n    </tr>\n    <tr>\n      <th>281</th>\n      <td>281</td>\n      <td>EDGA11</td>\n      <td>Lajes Corporativas</td>\n      <td>20.38</td>\n      <td>2911</td>\n      <td>0.09</td>\n      <td>0.47%</td>\n      <td>2.12%</td>\n      <td>4.51%</td>\n      <td>7.21%</td>\n      <td>...</td>\n      <td>252351519.37</td>\n      <td>66.20</td>\n      <td>31.0</td>\n      <td>0.26%</td>\n      <td>-0.06%</td>\n      <td>0.20%</td>\n      <td>0.36%</td>\n      <td>48.81%</td>\n      <td>0.00%</td>\n      <td>1</td>\n    </tr>\n    <tr>\n      <th>282</th>\n      <td>282</td>\n      <td>LASC11</td>\n      <td>Shoppings</td>\n      <td>92.00</td>\n      <td>3</td>\n      <td>0.36</td>\n      <td>0.39%</td>\n      <td>1.46%</td>\n      <td>3.26%</td>\n      <td>6.79%</td>\n      <td>...</td>\n      <td>282238377.82</td>\n      <td>112.08</td>\n      <td>82.0</td>\n      <td>0.56%</td>\n      <td>-0.16%</td>\n      <td>0.40%</td>\n      <td>1.92%</td>\n      <td>2.40%</td>\n      <td>0.00%</td>\n      <td>3</td>\n    </tr>\n  </tbody>\n</table>\n<p>283 rows × 27 columns</p>\n</div>"
     },
     "execution_count": 59,
     "metadata": {},
     "output_type": "execute_result"
    }
   ],
   "source": [
    "dataframe = df\n",
    "dataframe"
   ],
   "metadata": {
    "collapsed": false,
    "pycharm": {
     "name": "#%%\n"
    }
   }
  },
  {
   "cell_type": "code",
   "execution_count": 60,
   "outputs": [
    {
     "name": "stdout",
     "output_type": "stream",
     "text": [
      "Hotel\n",
      "Logística\n",
      "Lajes Corporativas\n",
      "Hospital\n",
      "Outros\n",
      "Shoppings\n",
      "Residencial\n",
      "Títulos e Val. Mob.\n",
      "Híbrido\n"
     ]
    }
   ],
   "source": [
    "n_cluster = df['Setor']\n",
    "n_cluster = set(n_cluster)\n",
    "nome_cluster = n_cluster\n",
    "for id, x in enumerate(nome_cluster):\n",
    "    print(x)"
   ],
   "metadata": {
    "collapsed": false,
    "pycharm": {
     "name": "#%%\n"
    }
   }
  },
  {
   "cell_type": "code",
   "execution_count": 72,
   "outputs": [
    {
     "data": {
      "text/plain": "    Unnamed: 0 Codigo_do_fundo                Setor  Preco_Atual  \\\n52          52          ARRI11  Títulos e Val. Mob.          9.4   \n\n    Liquidez_Diária  Dividendo DividendYield DY_(3M)Acumulado  \\\n52            61169       1.31         1.43%            4.11%   \n\n   DY_(6M)Acumulado DY_(12M)Acumulado  ...   PatrimônioLíq    VPA P/VPA  \\\n52            8.05%            16.20%  ...  108.835.561.27  92.37  10.0   \n\n   DYPatrimonial VariaçãoPatrimonial Rentab.Patr.noPeríodo  \\\n52         1.42%              -1.26%                 0.14%   \n\n   Rentab.Patr.Acumulada VacânciaFísica VacânciaFinanceira  QuantidadeAtivos  \n52                 7.14%          0.00%              0.00%                 0  \n\n[1 rows x 27 columns]",
      "text/html": "<div>\n<style scoped>\n    .dataframe tbody tr th:only-of-type {\n        vertical-align: middle;\n    }\n\n    .dataframe tbody tr th {\n        vertical-align: top;\n    }\n\n    .dataframe thead th {\n        text-align: right;\n    }\n</style>\n<table border=\"1\" class=\"dataframe\">\n  <thead>\n    <tr style=\"text-align: right;\">\n      <th></th>\n      <th>Unnamed: 0</th>\n      <th>Codigo_do_fundo</th>\n      <th>Setor</th>\n      <th>Preco_Atual</th>\n      <th>Liquidez_Diária</th>\n      <th>Dividendo</th>\n      <th>DividendYield</th>\n      <th>DY_(3M)Acumulado</th>\n      <th>DY_(6M)Acumulado</th>\n      <th>DY_(12M)Acumulado</th>\n      <th>...</th>\n      <th>PatrimônioLíq</th>\n      <th>VPA</th>\n      <th>P/VPA</th>\n      <th>DYPatrimonial</th>\n      <th>VariaçãoPatrimonial</th>\n      <th>Rentab.Patr.noPeríodo</th>\n      <th>Rentab.Patr.Acumulada</th>\n      <th>VacânciaFísica</th>\n      <th>VacânciaFinanceira</th>\n      <th>QuantidadeAtivos</th>\n    </tr>\n  </thead>\n  <tbody>\n    <tr>\n      <th>52</th>\n      <td>52</td>\n      <td>ARRI11</td>\n      <td>Títulos e Val. Mob.</td>\n      <td>9.4</td>\n      <td>61169</td>\n      <td>1.31</td>\n      <td>1.43%</td>\n      <td>4.11%</td>\n      <td>8.05%</td>\n      <td>16.20%</td>\n      <td>...</td>\n      <td>108.835.561.27</td>\n      <td>92.37</td>\n      <td>10.0</td>\n      <td>1.42%</td>\n      <td>-1.26%</td>\n      <td>0.14%</td>\n      <td>7.14%</td>\n      <td>0.00%</td>\n      <td>0.00%</td>\n      <td>0</td>\n    </tr>\n  </tbody>\n</table>\n<p>1 rows × 27 columns</p>\n</div>"
     },
     "execution_count": 72,
     "metadata": {},
     "output_type": "execute_result"
    }
   ],
   "source": [
    "restricao_setor = 'Shoppings'\n",
    "restricao_lq_diaria = 25000\n",
    "# filtro_df = dataframe[(dataframe.Dividendo >= 0.1) & (dataframe.QuantidadeAtivos != 0)]\n",
    "filtro_df = dataframe[(dataframe.Codigo_do_fundo == 'ARRI11')]\n",
    "filtro_df"
   ],
   "metadata": {
    "collapsed": false,
    "pycharm": {
     "name": "#%%\n"
    }
   }
  }
 ],
 "metadata": {
  "kernelspec": {
   "display_name": "Python 3",
   "language": "python",
   "name": "python3"
  },
  "language_info": {
   "codemirror_mode": {
    "name": "ipython",
    "version": 2
   },
   "file_extension": ".py",
   "mimetype": "text/x-python",
   "name": "python",
   "nbconvert_exporter": "python",
   "pygments_lexer": "ipython2",
   "version": "2.7.6"
  }
 },
 "nbformat": 4,
 "nbformat_minor": 0
}