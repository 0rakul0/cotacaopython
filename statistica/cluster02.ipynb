{
 "cells": [
  {
   "cell_type": "markdown",
   "metadata": {
    "pycharm": {
     "name": "#%% md\n"
    }
   },
   "source": [
    "importações"
   ]
  },
  {
   "cell_type": "code",
   "execution_count": 7,
   "metadata": {
    "pycharm": {
     "name": "#%%\n"
    }
   },
   "outputs": [],
   "source": [
    "import plotly.express as px\n",
    "import plotly.graph_objects as go\n",
    "import numpy as np\n",
    "from sklearn.preprocessing import StandardScaler\n",
    "from sklearn.cluster import KMeans\n",
    "import pandas as pd\n",
    "import datetime"
   ]
  },
  {
   "cell_type": "markdown",
   "metadata": {
    "pycharm": {
     "name": "#%% md\n"
    }
   },
   "source": [
    "leitura do csv"
   ]
  },
  {
   "cell_type": "code",
   "execution_count": 8,
   "outputs": [],
   "source": [
    "data = datetime.date.today()"
   ],
   "metadata": {
    "collapsed": false,
    "pycharm": {
     "name": "#%%\n"
    }
   }
  },
  {
   "cell_type": "code",
   "execution_count": 9,
   "metadata": {
    "pycharm": {
     "name": "#%%\n"
    }
   },
   "outputs": [
    {
     "data": {
      "text/plain": "     Unnamed: 0 Codigo_do_fundo                Setor  Preco_Atual  \\\n0             0          FIVN11            Shoppings         2.38   \n1             1          BZLI11  Títulos e Val. Mob.        14.70   \n2             2          XTED11   Lajes Corporativas         6.29   \n3             3          ALMI11   Lajes Corporativas       842.00   \n4             4          PABY11              Híbrido         9.40   \n..          ...             ...                  ...          ...   \n278         278          FLRP11            Shoppings      1579.99   \n279         279          CNES11   Lajes Corporativas        35.43   \n280         280          BTRA11               Outros        87.00   \n281         281          EDGA11   Lajes Corporativas        20.38   \n282         282          LASC11            Shoppings        92.00   \n\n     Liquidez_Diária  Dividendo DividendYield DY_(3M)Acumulado  \\\n0               2454       0.00         0.00%            0.00%   \n1              44041       0.00         0.00%            0.00%   \n2               2702       0.00         0.00%            0.00%   \n3                 29       0.00         0.00%            0.00%   \n4                 67       0.00         0.00%            0.00%   \n..               ...        ...           ...              ...   \n278               15      10.00         0.63%            2.33%   \n279               87       0.10         0.26%            0.83%   \n280             8717       0.70         0.74%            2.46%   \n281             2911       0.09         0.47%            2.12%   \n282                3       0.36         0.39%            1.46%   \n\n    DY_(6M)Acumulado DY_(12M)Acumulado  ... PatrimônioLíq      VPA  P/VPA  \\\n0              0.00%             0.00%  ...   65531708.68     6.96   34.0   \n1              0.00%             0.00%  ...  439856409.07    10.80  136.0   \n2              0.00%             0.00%  ...   27172278.20    13.83   45.0   \n3              0.00%             0.00%  ...  249878508.15  2247.57   37.0   \n4              0.00%             0.00%  ...  -10622559.80   -14.01  -67.0   \n..               ...               ...  ...           ...      ...    ...   \n278            4.70%             8.08%  ...  112693577.60  1727.58   91.0   \n279            1.49%             3.62%  ...  257461125.79    87.30   41.0   \n280            5.21%            10.20%  ...  348490615.97   103.58   84.0   \n281            4.51%             7.21%  ...  252351519.37    66.20   31.0   \n282            3.26%             6.79%  ...  282238377.82   112.08   82.0   \n\n    DYPatrimonial VariaçãoPatrimonial Rentab.Patr.noPeríodo  \\\n0           0.00%               0.00%                 0.00%   \n1           0.00%               0.00%                 0.00%   \n2           0.00%               0.00%                 0.00%   \n3           0.00%               0.00%                 0.00%   \n4           0.00%               0.00%                 0.00%   \n..            ...                 ...                   ...   \n278         0.58%               0.48%                 1.06%   \n279         0.11%               0.84%                 0.95%   \n280         0.68%               0.25%                 0.93%   \n281         0.26%              -0.06%                 0.20%   \n282         0.56%              -0.16%                 0.40%   \n\n    Rentab.Patr.Acumulada VacânciaFísica VacânciaFinanceira  QuantidadeAtivos  \n0                   0.00%         56.00%              0.00%                 1  \n1                   0.00%          0.00%              0.00%                 0  \n2                   0.00%          0.00%            100.00%                 1  \n3                   0.00%         64.05%              0.00%                 1  \n4                   0.00%          0.00%              0.00%                 1  \n..                    ...            ...                ...               ...  \n278                 3.30%          2.01%              0.00%                 1  \n279                 1.16%         56.70%              0.00%                 1  \n280                 3.63%          0.00%              0.00%                 0  \n281                 0.36%         48.81%              0.00%                 1  \n282                 1.92%          2.40%              0.00%                 3  \n\n[283 rows x 27 columns]",
      "text/html": "<div>\n<style scoped>\n    .dataframe tbody tr th:only-of-type {\n        vertical-align: middle;\n    }\n\n    .dataframe tbody tr th {\n        vertical-align: top;\n    }\n\n    .dataframe thead th {\n        text-align: right;\n    }\n</style>\n<table border=\"1\" class=\"dataframe\">\n  <thead>\n    <tr style=\"text-align: right;\">\n      <th></th>\n      <th>Unnamed: 0</th>\n      <th>Codigo_do_fundo</th>\n      <th>Setor</th>\n      <th>Preco_Atual</th>\n      <th>Liquidez_Diária</th>\n      <th>Dividendo</th>\n      <th>DividendYield</th>\n      <th>DY_(3M)Acumulado</th>\n      <th>DY_(6M)Acumulado</th>\n      <th>DY_(12M)Acumulado</th>\n      <th>...</th>\n      <th>PatrimônioLíq</th>\n      <th>VPA</th>\n      <th>P/VPA</th>\n      <th>DYPatrimonial</th>\n      <th>VariaçãoPatrimonial</th>\n      <th>Rentab.Patr.noPeríodo</th>\n      <th>Rentab.Patr.Acumulada</th>\n      <th>VacânciaFísica</th>\n      <th>VacânciaFinanceira</th>\n      <th>QuantidadeAtivos</th>\n    </tr>\n  </thead>\n  <tbody>\n    <tr>\n      <th>0</th>\n      <td>0</td>\n      <td>FIVN11</td>\n      <td>Shoppings</td>\n      <td>2.38</td>\n      <td>2454</td>\n      <td>0.00</td>\n      <td>0.00%</td>\n      <td>0.00%</td>\n      <td>0.00%</td>\n      <td>0.00%</td>\n      <td>...</td>\n      <td>65531708.68</td>\n      <td>6.96</td>\n      <td>34.0</td>\n      <td>0.00%</td>\n      <td>0.00%</td>\n      <td>0.00%</td>\n      <td>0.00%</td>\n      <td>56.00%</td>\n      <td>0.00%</td>\n      <td>1</td>\n    </tr>\n    <tr>\n      <th>1</th>\n      <td>1</td>\n      <td>BZLI11</td>\n      <td>Títulos e Val. Mob.</td>\n      <td>14.70</td>\n      <td>44041</td>\n      <td>0.00</td>\n      <td>0.00%</td>\n      <td>0.00%</td>\n      <td>0.00%</td>\n      <td>0.00%</td>\n      <td>...</td>\n      <td>439856409.07</td>\n      <td>10.80</td>\n      <td>136.0</td>\n      <td>0.00%</td>\n      <td>0.00%</td>\n      <td>0.00%</td>\n      <td>0.00%</td>\n      <td>0.00%</td>\n      <td>0.00%</td>\n      <td>0</td>\n    </tr>\n    <tr>\n      <th>2</th>\n      <td>2</td>\n      <td>XTED11</td>\n      <td>Lajes Corporativas</td>\n      <td>6.29</td>\n      <td>2702</td>\n      <td>0.00</td>\n      <td>0.00%</td>\n      <td>0.00%</td>\n      <td>0.00%</td>\n      <td>0.00%</td>\n      <td>...</td>\n      <td>27172278.20</td>\n      <td>13.83</td>\n      <td>45.0</td>\n      <td>0.00%</td>\n      <td>0.00%</td>\n      <td>0.00%</td>\n      <td>0.00%</td>\n      <td>0.00%</td>\n      <td>100.00%</td>\n      <td>1</td>\n    </tr>\n    <tr>\n      <th>3</th>\n      <td>3</td>\n      <td>ALMI11</td>\n      <td>Lajes Corporativas</td>\n      <td>842.00</td>\n      <td>29</td>\n      <td>0.00</td>\n      <td>0.00%</td>\n      <td>0.00%</td>\n      <td>0.00%</td>\n      <td>0.00%</td>\n      <td>...</td>\n      <td>249878508.15</td>\n      <td>2247.57</td>\n      <td>37.0</td>\n      <td>0.00%</td>\n      <td>0.00%</td>\n      <td>0.00%</td>\n      <td>0.00%</td>\n      <td>64.05%</td>\n      <td>0.00%</td>\n      <td>1</td>\n    </tr>\n    <tr>\n      <th>4</th>\n      <td>4</td>\n      <td>PABY11</td>\n      <td>Híbrido</td>\n      <td>9.40</td>\n      <td>67</td>\n      <td>0.00</td>\n      <td>0.00%</td>\n      <td>0.00%</td>\n      <td>0.00%</td>\n      <td>0.00%</td>\n      <td>...</td>\n      <td>-10622559.80</td>\n      <td>-14.01</td>\n      <td>-67.0</td>\n      <td>0.00%</td>\n      <td>0.00%</td>\n      <td>0.00%</td>\n      <td>0.00%</td>\n      <td>0.00%</td>\n      <td>0.00%</td>\n      <td>1</td>\n    </tr>\n    <tr>\n      <th>...</th>\n      <td>...</td>\n      <td>...</td>\n      <td>...</td>\n      <td>...</td>\n      <td>...</td>\n      <td>...</td>\n      <td>...</td>\n      <td>...</td>\n      <td>...</td>\n      <td>...</td>\n      <td>...</td>\n      <td>...</td>\n      <td>...</td>\n      <td>...</td>\n      <td>...</td>\n      <td>...</td>\n      <td>...</td>\n      <td>...</td>\n      <td>...</td>\n      <td>...</td>\n      <td>...</td>\n    </tr>\n    <tr>\n      <th>278</th>\n      <td>278</td>\n      <td>FLRP11</td>\n      <td>Shoppings</td>\n      <td>1579.99</td>\n      <td>15</td>\n      <td>10.00</td>\n      <td>0.63%</td>\n      <td>2.33%</td>\n      <td>4.70%</td>\n      <td>8.08%</td>\n      <td>...</td>\n      <td>112693577.60</td>\n      <td>1727.58</td>\n      <td>91.0</td>\n      <td>0.58%</td>\n      <td>0.48%</td>\n      <td>1.06%</td>\n      <td>3.30%</td>\n      <td>2.01%</td>\n      <td>0.00%</td>\n      <td>1</td>\n    </tr>\n    <tr>\n      <th>279</th>\n      <td>279</td>\n      <td>CNES11</td>\n      <td>Lajes Corporativas</td>\n      <td>35.43</td>\n      <td>87</td>\n      <td>0.10</td>\n      <td>0.26%</td>\n      <td>0.83%</td>\n      <td>1.49%</td>\n      <td>3.62%</td>\n      <td>...</td>\n      <td>257461125.79</td>\n      <td>87.30</td>\n      <td>41.0</td>\n      <td>0.11%</td>\n      <td>0.84%</td>\n      <td>0.95%</td>\n      <td>1.16%</td>\n      <td>56.70%</td>\n      <td>0.00%</td>\n      <td>1</td>\n    </tr>\n    <tr>\n      <th>280</th>\n      <td>280</td>\n      <td>BTRA11</td>\n      <td>Outros</td>\n      <td>87.00</td>\n      <td>8717</td>\n      <td>0.70</td>\n      <td>0.74%</td>\n      <td>2.46%</td>\n      <td>5.21%</td>\n      <td>10.20%</td>\n      <td>...</td>\n      <td>348490615.97</td>\n      <td>103.58</td>\n      <td>84.0</td>\n      <td>0.68%</td>\n      <td>0.25%</td>\n      <td>0.93%</td>\n      <td>3.63%</td>\n      <td>0.00%</td>\n      <td>0.00%</td>\n      <td>0</td>\n    </tr>\n    <tr>\n      <th>281</th>\n      <td>281</td>\n      <td>EDGA11</td>\n      <td>Lajes Corporativas</td>\n      <td>20.38</td>\n      <td>2911</td>\n      <td>0.09</td>\n      <td>0.47%</td>\n      <td>2.12%</td>\n      <td>4.51%</td>\n      <td>7.21%</td>\n      <td>...</td>\n      <td>252351519.37</td>\n      <td>66.20</td>\n      <td>31.0</td>\n      <td>0.26%</td>\n      <td>-0.06%</td>\n      <td>0.20%</td>\n      <td>0.36%</td>\n      <td>48.81%</td>\n      <td>0.00%</td>\n      <td>1</td>\n    </tr>\n    <tr>\n      <th>282</th>\n      <td>282</td>\n      <td>LASC11</td>\n      <td>Shoppings</td>\n      <td>92.00</td>\n      <td>3</td>\n      <td>0.36</td>\n      <td>0.39%</td>\n      <td>1.46%</td>\n      <td>3.26%</td>\n      <td>6.79%</td>\n      <td>...</td>\n      <td>282238377.82</td>\n      <td>112.08</td>\n      <td>82.0</td>\n      <td>0.56%</td>\n      <td>-0.16%</td>\n      <td>0.40%</td>\n      <td>1.92%</td>\n      <td>2.40%</td>\n      <td>0.00%</td>\n      <td>3</td>\n    </tr>\n  </tbody>\n</table>\n<p>283 rows × 27 columns</p>\n</div>"
     },
     "execution_count": 9,
     "metadata": {},
     "output_type": "execute_result"
    }
   ],
   "source": [
    "df = pd.read_csv(f'../bi/dataframe_cotacao.tsv', sep='\\t')\n",
    "df"
   ]
  },
  {
   "cell_type": "markdown",
   "metadata": {
    "pycharm": {
     "name": "#%% md\n"
    }
   },
   "source": [
    "variaveis de leitura do tsv"
   ]
  },
  {
   "cell_type": "code",
   "execution_count": 10,
   "metadata": {
    "pycharm": {
     "name": "#%%\n"
    }
   },
   "outputs": [],
   "source": [
    "# variavel para guardar a liquidez\n",
    "liquidez_valor = df['Liquidez_Diária']\n",
    "# variavel para guardar os valores das cotas\n",
    "valor_cota = df['Preco_Atual']"
   ]
  },
  {
   "cell_type": "markdown",
   "metadata": {
    "pycharm": {
     "name": "#%% md\n"
    }
   },
   "source": [
    "preparando o as listas dos graficos"
   ]
  },
  {
   "cell_type": "code",
   "execution_count": 11,
   "metadata": {
    "pycharm": {
     "name": "#%%\n"
    }
   },
   "outputs": [],
   "source": [
    "lista_lq = [] #liquidez_diaria\n",
    "lista_vc = [] #preço atual\n",
    "for lq, vc in zip(liquidez_valor,valor_cota):\n",
    "    try:\n",
    "        vc = vc.split(' ')[-1]\n",
    "        vc = vc.replace(',', '.')\n",
    "        vc = float(vc)\n",
    "        lista_lq.append(lq)\n",
    "        lista_vc.append(vc)\n",
    "    except:\n",
    "        pass"
   ]
  },
  {
   "cell_type": "markdown",
   "metadata": {
    "pycharm": {
     "name": "#%% md\n"
    }
   },
   "source": [
    "grafico de dispersão"
   ]
  },
  {
   "cell_type": "markdown",
   "metadata": {
    "pycharm": {
     "name": "#%% md\n"
    }
   },
   "source": [
    "altura referece a liquidez diaria, x referece ao valor da cota"
   ]
  },
  {
   "cell_type": "code",
   "execution_count": 12,
   "metadata": {
    "pycharm": {
     "name": "#%%\n"
    }
   },
   "outputs": [
    {
     "ename": "ValueError",
     "evalue": "Cannot accept list of column references or list of columns for both `x` and `y`.",
     "output_type": "error",
     "traceback": [
      "\u001B[1;31m---------------------------------------------------------------------------\u001B[0m",
      "\u001B[1;31mValueError\u001B[0m                                Traceback (most recent call last)",
      "Input \u001B[1;32mIn [12]\u001B[0m, in \u001B[0;36m<cell line: 1>\u001B[1;34m()\u001B[0m\n\u001B[1;32m----> 1\u001B[0m grafico_s_rt \u001B[38;5;241m=\u001B[39m \u001B[43mpx\u001B[49m\u001B[38;5;241;43m.\u001B[39;49m\u001B[43mscatter\u001B[49m\u001B[43m(\u001B[49m\u001B[43my\u001B[49m\u001B[38;5;241;43m=\u001B[39;49m\u001B[43mlista_lq\u001B[49m\u001B[43m,\u001B[49m\u001B[43m \u001B[49m\u001B[43mx\u001B[49m\u001B[38;5;241;43m=\u001B[39;49m\u001B[43mlista_vc\u001B[49m\u001B[43m)\u001B[49m\n\u001B[0;32m      2\u001B[0m grafico_s_rt\u001B[38;5;241m.\u001B[39mshow()\n",
      "File \u001B[1;32m~\\Desktop\\GITHUB\\cotacaopython\\venv\\lib\\site-packages\\plotly\\express\\_chart_types.py:66\u001B[0m, in \u001B[0;36mscatter\u001B[1;34m(data_frame, x, y, color, symbol, size, hover_name, hover_data, custom_data, text, facet_row, facet_col, facet_col_wrap, facet_row_spacing, facet_col_spacing, error_x, error_x_minus, error_y, error_y_minus, animation_frame, animation_group, category_orders, labels, orientation, color_discrete_sequence, color_discrete_map, color_continuous_scale, range_color, color_continuous_midpoint, symbol_sequence, symbol_map, opacity, size_max, marginal_x, marginal_y, trendline, trendline_options, trendline_color_override, trendline_scope, log_x, log_y, range_x, range_y, render_mode, title, template, width, height)\u001B[0m\n\u001B[0;32m     12\u001B[0m \u001B[38;5;28;01mdef\u001B[39;00m \u001B[38;5;21mscatter\u001B[39m(\n\u001B[0;32m     13\u001B[0m     data_frame\u001B[38;5;241m=\u001B[39m\u001B[38;5;28;01mNone\u001B[39;00m,\n\u001B[0;32m     14\u001B[0m     x\u001B[38;5;241m=\u001B[39m\u001B[38;5;28;01mNone\u001B[39;00m,\n\u001B[1;32m   (...)\u001B[0m\n\u001B[0;32m     60\u001B[0m     height\u001B[38;5;241m=\u001B[39m\u001B[38;5;28;01mNone\u001B[39;00m,\n\u001B[0;32m     61\u001B[0m ) \u001B[38;5;241m-\u001B[39m\u001B[38;5;241m>\u001B[39m go\u001B[38;5;241m.\u001B[39mFigure:\n\u001B[0;32m     62\u001B[0m     \u001B[38;5;124;03m\"\"\"\u001B[39;00m\n\u001B[0;32m     63\u001B[0m \u001B[38;5;124;03m    In a scatter plot, each row of `data_frame` is represented by a symbol\u001B[39;00m\n\u001B[0;32m     64\u001B[0m \u001B[38;5;124;03m    mark in 2D space.\u001B[39;00m\n\u001B[0;32m     65\u001B[0m \u001B[38;5;124;03m    \"\"\"\u001B[39;00m\n\u001B[1;32m---> 66\u001B[0m     \u001B[38;5;28;01mreturn\u001B[39;00m \u001B[43mmake_figure\u001B[49m\u001B[43m(\u001B[49m\u001B[43margs\u001B[49m\u001B[38;5;241;43m=\u001B[39;49m\u001B[38;5;28;43mlocals\u001B[39;49m\u001B[43m(\u001B[49m\u001B[43m)\u001B[49m\u001B[43m,\u001B[49m\u001B[43m \u001B[49m\u001B[43mconstructor\u001B[49m\u001B[38;5;241;43m=\u001B[39;49m\u001B[43mgo\u001B[49m\u001B[38;5;241;43m.\u001B[39;49m\u001B[43mScatter\u001B[49m\u001B[43m)\u001B[49m\n",
      "File \u001B[1;32m~\\Desktop\\GITHUB\\cotacaopython\\venv\\lib\\site-packages\\plotly\\express\\_core.py:1990\u001B[0m, in \u001B[0;36mmake_figure\u001B[1;34m(args, constructor, trace_patch, layout_patch)\u001B[0m\n\u001B[0;32m   1987\u001B[0m layout_patch \u001B[38;5;241m=\u001B[39m layout_patch \u001B[38;5;129;01mor\u001B[39;00m {}\n\u001B[0;32m   1988\u001B[0m apply_default_cascade(args)\n\u001B[1;32m-> 1990\u001B[0m args \u001B[38;5;241m=\u001B[39m \u001B[43mbuild_dataframe\u001B[49m\u001B[43m(\u001B[49m\u001B[43margs\u001B[49m\u001B[43m,\u001B[49m\u001B[43m \u001B[49m\u001B[43mconstructor\u001B[49m\u001B[43m)\u001B[49m\n\u001B[0;32m   1991\u001B[0m \u001B[38;5;28;01mif\u001B[39;00m constructor \u001B[38;5;129;01min\u001B[39;00m [go\u001B[38;5;241m.\u001B[39mTreemap, go\u001B[38;5;241m.\u001B[39mSunburst, go\u001B[38;5;241m.\u001B[39mIcicle] \u001B[38;5;129;01mand\u001B[39;00m args[\u001B[38;5;124m\"\u001B[39m\u001B[38;5;124mpath\u001B[39m\u001B[38;5;124m\"\u001B[39m] \u001B[38;5;129;01mis\u001B[39;00m \u001B[38;5;129;01mnot\u001B[39;00m \u001B[38;5;28;01mNone\u001B[39;00m:\n\u001B[0;32m   1992\u001B[0m     args \u001B[38;5;241m=\u001B[39m process_dataframe_hierarchy(args)\n",
      "File \u001B[1;32m~\\Desktop\\GITHUB\\cotacaopython\\venv\\lib\\site-packages\\plotly\\express\\_core.py:1324\u001B[0m, in \u001B[0;36mbuild_dataframe\u001B[1;34m(args, constructor)\u001B[0m\n\u001B[0;32m   1322\u001B[0m \u001B[38;5;28;01mif\u001B[39;00m constructor \u001B[38;5;129;01min\u001B[39;00m cartesians:\n\u001B[0;32m   1323\u001B[0m     \u001B[38;5;28;01mif\u001B[39;00m wide_x \u001B[38;5;129;01mand\u001B[39;00m wide_y:\n\u001B[1;32m-> 1324\u001B[0m         \u001B[38;5;28;01mraise\u001B[39;00m \u001B[38;5;167;01mValueError\u001B[39;00m(\n\u001B[0;32m   1325\u001B[0m             \u001B[38;5;124m\"\u001B[39m\u001B[38;5;124mCannot accept list of column references or list of columns for both `x` and `y`.\u001B[39m\u001B[38;5;124m\"\u001B[39m\n\u001B[0;32m   1326\u001B[0m         )\n\u001B[0;32m   1327\u001B[0m     \u001B[38;5;28;01mif\u001B[39;00m df_provided \u001B[38;5;129;01mand\u001B[39;00m no_x \u001B[38;5;129;01mand\u001B[39;00m no_y:\n\u001B[0;32m   1328\u001B[0m         wide_mode \u001B[38;5;241m=\u001B[39m \u001B[38;5;28;01mTrue\u001B[39;00m\n",
      "\u001B[1;31mValueError\u001B[0m: Cannot accept list of column references or list of columns for both `x` and `y`."
     ]
    }
   ],
   "source": [
    "grafico_s_rt = px.scatter(y=lista_lq, x=lista_vc)\n",
    "grafico_s_rt.show()"
   ]
  },
  {
   "cell_type": "code",
   "execution_count": null,
   "metadata": {
    "pycharm": {
     "name": "#%%\n"
    }
   },
   "outputs": [],
   "source": [
    "rotulo = df['Setor']"
   ]
  },
  {
   "cell_type": "code",
   "execution_count": null,
   "metadata": {
    "pycharm": {
     "name": "#%%\n"
    }
   },
   "outputs": [],
   "source": [
    "lista_lq = [] #liquidez_diaria\n",
    "lista_vc = [] #preço atual\n",
    "lista_rt = [] #rotulo\n",
    "for lq, vc, rt in zip(liquidez_valor,valor_cota, rotulo):\n",
    "    try:\n",
    "        vc = vc.split(' ')[-1]\n",
    "        vc = vc.replace(',', '.')\n",
    "        vc = float(vc)\n",
    "        lista_lq.append(lq)\n",
    "        lista_vc.append(vc)\n",
    "        lista_rt.append(rt)\n",
    "    except:\n",
    "        pass"
   ]
  },
  {
   "cell_type": "code",
   "execution_count": null,
   "metadata": {
    "pycharm": {
     "name": "#%%\n"
    }
   },
   "outputs": [],
   "source": [
    "grafico_c_rt = px.scatter(y=lista_lq, x=lista_vc, color=lista_rt)\n",
    "grafico_c_rt.show()"
   ]
  },
  {
   "cell_type": "markdown",
   "metadata": {
    "pycharm": {
     "name": "#%% md\n"
    }
   },
   "source": [
    "Transformando em matriz"
   ]
  },
  {
   "cell_type": "code",
   "execution_count": null,
   "metadata": {
    "pycharm": {
     "name": "#%%\n"
    }
   },
   "outputs": [],
   "source": [
    "lista_cotacao = []\n",
    "for x,y in zip(lista_lq, lista_vc):\n",
    "    item = [x,y]\n",
    "    lista_cotacao.append(item)\n",
    "print(lista_cotacao)"
   ]
  },
  {
   "cell_type": "code",
   "execution_count": null,
   "metadata": {
    "pycharm": {
     "name": "#%%\n"
    }
   },
   "outputs": [],
   "source": [
    "base_cotacoes = np.array(lista_cotacao)"
   ]
  },
  {
   "cell_type": "markdown",
   "metadata": {
    "pycharm": {
     "name": "#%% md\n"
    }
   },
   "source": [
    "treino"
   ]
  },
  {
   "cell_type": "code",
   "execution_count": null,
   "metadata": {
    "pycharm": {
     "name": "#%%\n"
    }
   },
   "outputs": [],
   "source": [
    "scaler_base = StandardScaler()\n",
    "base_cotacoes = scaler_base.fit_transform(base_cotacoes)\n",
    "base_cotacoes"
   ]
  },
  {
   "cell_type": "markdown",
   "metadata": {
    "pycharm": {
     "name": "#%% md\n"
    }
   },
   "source": [
    "cluster"
   ]
  },
  {
   "cell_type": "markdown",
   "metadata": {
    "pycharm": {
     "name": "#%% md\n"
    }
   },
   "source": [
    "separando o numero de segmentos"
   ]
  },
  {
   "cell_type": "code",
   "execution_count": null,
   "metadata": {
    "pycharm": {
     "name": "#%%\n"
    }
   },
   "outputs": [],
   "source": [
    "n_cluster = df['Setor']\n",
    "n_cluster = set(n_cluster)\n",
    "n_cluster = len(n_cluster)\n",
    "n_cluster"
   ]
  },
  {
   "cell_type": "code",
   "execution_count": null,
   "metadata": {
    "pycharm": {
     "name": "#%%\n"
    }
   },
   "outputs": [],
   "source": [
    "k_means_cotacao = KMeans(n_clusters=6)\n",
    "k_means_cotacao.fit(base_cotacoes)"
   ]
  },
  {
   "cell_type": "markdown",
   "metadata": {
    "pycharm": {
     "name": "#%% md\n"
    }
   },
   "source": [
    "localizando os pontos de referencia"
   ]
  },
  {
   "cell_type": "code",
   "execution_count": null,
   "metadata": {
    "pycharm": {
     "name": "#%%\n"
    }
   },
   "outputs": [],
   "source": [
    "centroides = k_means_cotacao.cluster_centers_\n",
    "centroides"
   ]
  },
  {
   "cell_type": "markdown",
   "metadata": {
    "pycharm": {
     "name": "#%% md\n"
    }
   },
   "source": [
    "vizualizando centros em 2D matematicamente pelo reverse scaler"
   ]
  },
  {
   "cell_type": "code",
   "execution_count": null,
   "metadata": {
    "pycharm": {
     "name": "#%%\n"
    }
   },
   "outputs": [],
   "source": [
    "# scaler_base.inverse_transform(k_means_cotacao.cluster_centers_)"
   ]
  },
  {
   "cell_type": "markdown",
   "metadata": {
    "pycharm": {
     "name": "#%% md\n"
    }
   },
   "source": [
    "add rotulos"
   ]
  },
  {
   "cell_type": "markdown",
   "metadata": {
    "pycharm": {
     "name": "#%% md\n"
    }
   },
   "source": []
  },
  {
   "cell_type": "code",
   "execution_count": null,
   "metadata": {
    "pycharm": {
     "name": "#%%\n"
    }
   },
   "outputs": [],
   "source": [
    "rotulos = k_means_cotacao.labels_\n",
    "rotulos"
   ]
  },
  {
   "cell_type": "markdown",
   "metadata": {
    "pycharm": {
     "name": "#%% md\n"
    }
   },
   "source": [
    "grafico do cluster"
   ]
  },
  {
   "cell_type": "code",
   "execution_count": null,
   "metadata": {
    "pycharm": {
     "name": "#%%\n"
    }
   },
   "outputs": [],
   "source": [
    "grafico_cluster = px.scatter(y=base_cotacoes[:,0], x=base_cotacoes[:,1], color=rotulos)\n",
    "grafico_centroid = px.scatter(y=centroides[:,0], x=centroides[:,1], size=[1,2,3,4,5,6])\n",
    "grafico_geral = go.Figure(data=grafico_cluster.data + grafico_centroid.data)\n",
    "grafico_geral.show()"
   ]
  },
  {
   "cell_type": "code",
   "execution_count": null,
   "metadata": {
    "pycharm": {
     "name": "#%%\n"
    }
   },
   "outputs": [],
   "source": [
    "n_cluster = df['Setor']\n",
    "n_cluster = set(n_cluster)\n",
    "nome_cluster = n_cluster\n",
    "for id, x in enumerate(nome_cluster):\n",
    "    id_n = id+1\n",
    "    print(id_n,x)"
   ]
  },
  {
   "cell_type": "markdown",
   "metadata": {
    "pycharm": {
     "name": "#%% md\n"
    }
   },
   "source": [
    "o Y referece ao numero de ações em circulação\n",
    "o X referece ao valor da ação\n",
    "\n",
    "logo quanto mais a direita mais cara é a ação e quanto mais alta mais fácil a liquidez da ação."
   ]
  },
  {
   "cell_type": "code",
   "execution_count": null,
   "metadata": {
    "pycharm": {
     "name": "#%%\n"
    }
   },
   "outputs": [],
   "source": [
    "nome_rotulo = df['Codigo_do_fundo']\n",
    "len(nome_rotulo)"
   ]
  },
  {
   "cell_type": "code",
   "execution_count": null,
   "metadata": {
    "pycharm": {
     "name": "#%%\n"
    }
   },
   "outputs": [],
   "source": [
    "grafico_c_rt = px.scatter(y=lista_lq, x=lista_vc, color=nome_rotulo)\n",
    "grafico_c_rt.show()"
   ]
  },
  {
   "cell_type": "code",
   "execution_count": null,
   "metadata": {
    "pycharm": {
     "name": "#%%\n"
    }
   },
   "outputs": [],
   "source": [
    "import matplotlib.pyplot as plt\n",
    "from scipy.cluster.hierarchy import dendrogram, linkage"
   ]
  },
  {
   "cell_type": "markdown",
   "metadata": {
    "pycharm": {
     "name": "#%% md\n"
    }
   },
   "source": [
    "gerando as linhas de hieraquia"
   ]
  },
  {
   "cell_type": "code",
   "execution_count": null,
   "metadata": {
    "pycharm": {
     "name": "#%%\n"
    }
   },
   "outputs": [],
   "source": [
    "dendograma = dendrogram(linkage(base_cotacoes, method='ward'))\n",
    "plt.title('Dendograma')\n",
    "plt.xlabel('ações')\n",
    "plt.ylabel('distancia')\n",
    "plt.show()"
   ]
  },
  {
   "cell_type": "markdown",
   "metadata": {
    "pycharm": {
     "name": "#%% md\n"
    }
   },
   "source": [
    "com sklearn"
   ]
  },
  {
   "cell_type": "code",
   "execution_count": null,
   "metadata": {
    "pycharm": {
     "name": "#%%\n"
    }
   },
   "outputs": [],
   "source": [
    "from sklearn.cluster import AgglomerativeClustering"
   ]
  },
  {
   "cell_type": "code",
   "execution_count": null,
   "metadata": {
    "pycharm": {
     "name": "#%%\n"
    }
   },
   "outputs": [],
   "source": [
    "hc_cotas = AgglomerativeClustering(n_clusters=4, linkage='ward', affinity='euclidean')\n",
    "rotulos = hc_cotas.fit_predict(base_cotacoes)"
   ]
  },
  {
   "cell_type": "code",
   "execution_count": null,
   "metadata": {
    "pycharm": {
     "name": "#%%\n"
    }
   },
   "outputs": [],
   "source": [
    "rotulos"
   ]
  },
  {
   "cell_type": "code",
   "execution_count": null,
   "metadata": {
    "pycharm": {
     "name": "#%%\n"
    }
   },
   "outputs": [],
   "source": [
    "grafico_cluster = px.scatter(y=base_cotacoes[:,0], x=base_cotacoes[:,1], color=rotulos)\n",
    "grafico_cluster.show()"
   ]
  },
  {
   "cell_type": "code",
   "execution_count": null,
   "metadata": {
    "pycharm": {
     "name": "#%%\n"
    }
   },
   "outputs": [],
   "source": [
    "grafico_c_rt = px.scatter(y=lista_lq, x=lista_vc, labels=nome_rotulo)\n",
    "grafico_c_rt.show()"
   ]
  },
  {
   "cell_type": "markdown",
   "metadata": {
    "pycharm": {
     "name": "#%% md\n"
    }
   },
   "source": [
    "################### preço cota com rendimento ##################"
   ]
  },
  {
   "cell_type": "markdown",
   "metadata": {
    "pycharm": {
     "name": "#%% md\n"
    }
   },
   "source": [
    "pegando as colunas do dataset"
   ]
  },
  {
   "cell_type": "code",
   "execution_count": null,
   "metadata": {
    "pycharm": {
     "name": "#%%\n"
    }
   },
   "outputs": [],
   "source": [
    "valor_cota = df['Preco_Atual']\n",
    "rendimento_cota = df['Dividendo']"
   ]
  },
  {
   "cell_type": "markdown",
   "metadata": {
    "pycharm": {
     "name": "#%% md\n"
    }
   },
   "source": [
    "criando os eixos x e y"
   ]
  },
  {
   "cell_type": "code",
   "execution_count": null,
   "metadata": {
    "pycharm": {
     "name": "#%%\n"
    }
   },
   "outputs": [],
   "source": [
    "lista_rend = [] #liquidez_diaria\n",
    "lista_vc = [] #preço atual\n",
    "for rd, vc in zip(rendimento_cota,valor_cota):\n",
    "    try:\n",
    "        vc = vc.split(' ')[-1]\n",
    "        vc = vc.replace(',', '.')\n",
    "        vc = float(vc)\n",
    "        rd = rd.split(' ')[-1]\n",
    "        rd = rd.replace(',', '.')\n",
    "        rd = float(rd)\n",
    "        lista_rend.append(rd)\n",
    "        lista_vc.append(vc)\n",
    "    except:\n",
    "        pass"
   ]
  },
  {
   "cell_type": "markdown",
   "metadata": {
    "pycharm": {
     "name": "#%% md\n"
    }
   },
   "source": [
    "juntando as informações em coordenadas"
   ]
  },
  {
   "cell_type": "code",
   "execution_count": null,
   "metadata": {
    "pycharm": {
     "name": "#%%\n"
    }
   },
   "outputs": [],
   "source": [
    "lista_cotacao = []\n",
    "for x,y in zip(lista_rend, lista_vc):\n",
    "    item = [x,y]\n",
    "    lista_cotacao.append(item)\n",
    "\n",
    "print(lista_cotacao)"
   ]
  },
  {
   "cell_type": "code",
   "execution_count": null,
   "metadata": {
    "pycharm": {
     "name": "#%%\n"
    }
   },
   "outputs": [],
   "source": [
    "base_cotacoes = np.array(lista_cotacao)\n",
    "scaler_base = StandardScaler()\n",
    "base_cotacoes_rend = scaler_base.fit_transform(base_cotacoes)\n",
    "base_cotacoes_rend"
   ]
  },
  {
   "cell_type": "markdown",
   "metadata": {
    "pycharm": {
     "name": "#%% md\n"
    }
   },
   "source": [
    "lembrando que já temos o setor"
   ]
  },
  {
   "cell_type": "code",
   "execution_count": null,
   "metadata": {
    "pycharm": {
     "name": "#%%\n"
    }
   },
   "outputs": [],
   "source": [
    "k_means_cotacao = KMeans(n_clusters=6)\n",
    "k_means_cotacao.fit(base_cotacoes_rend)"
   ]
  },
  {
   "cell_type": "code",
   "execution_count": null,
   "metadata": {
    "pycharm": {
     "name": "#%%\n"
    }
   },
   "outputs": [],
   "source": [
    "centroides = k_means_cotacao.cluster_centers_\n",
    "centroides"
   ]
  },
  {
   "cell_type": "code",
   "execution_count": null,
   "metadata": {
    "pycharm": {
     "name": "#%%\n"
    }
   },
   "outputs": [],
   "source": [
    "rotulos = k_means_cotacao.labels_\n",
    "rotulos"
   ]
  },
  {
   "cell_type": "code",
   "execution_count": null,
   "metadata": {
    "pycharm": {
     "name": "#%%\n"
    }
   },
   "outputs": [],
   "source": [
    "n_cluster = df['Setor']\n",
    "n_cluster = set(n_cluster)\n",
    "nome_cluster = n_cluster\n",
    "for id, x in enumerate(nome_cluster):\n",
    "    id_n = id+1\n",
    "    print(id_n,x)"
   ]
  },
  {
   "cell_type": "markdown",
   "metadata": {
    "pycharm": {
     "name": "#%% md\n"
    }
   },
   "source": [
    "grafico por dividendos x valor da cota"
   ]
  },
  {
   "cell_type": "markdown",
   "metadata": {
    "pycharm": {
     "name": "#%% md\n"
    }
   },
   "source": [
    "## y = referece ao rendimento mensal, quanto maior e mais alta melhor\n",
    "## x = referece ao valor da cota quanto mais a direita mais cara é"
   ]
  },
  {
   "cell_type": "code",
   "execution_count": null,
   "metadata": {
    "pycharm": {
     "name": "#%%\n"
    }
   },
   "outputs": [],
   "source": [
    "nome_rotulo = df['Codigo_do_fundo']\n",
    "grafico_c_rt = px.scatter(y=lista_rend, x=lista_vc)\n",
    "grafico_c_rt.show()"
   ]
  },
  {
   "cell_type": "code",
   "execution_count": null,
   "metadata": {
    "pycharm": {
     "name": "#%%\n"
    }
   },
   "outputs": [],
   "source": [
    "grafico_cluster = px.scatter(y=base_cotacoes_rend[:,0], x=base_cotacoes_rend[:,1], color=rotulos)\n",
    "grafico_centroid = px.scatter(y=centroides[:,0], x=centroides[:,1], size=[2,3,4,5,6,7])\n",
    "grafico_geral = go.Figure(data=grafico_cluster.data + grafico_centroid.data)\n",
    "grafico_geral.show()"
   ]
  },
  {
   "cell_type": "code",
   "execution_count": null,
   "metadata": {
    "pycharm": {
     "name": "#%%\n"
    }
   },
   "outputs": [],
   "source": [
    "dendograma_rendimento = dendrogram(linkage(base_cotacoes_rend, method='ward'))"
   ]
  },
  {
   "cell_type": "markdown",
   "metadata": {
    "pycharm": {
     "name": "#%% md\n"
    }
   },
   "source": [
    "se imaginarmo uma linha entre 10 e 15 temos ali 3 linhas verticais"
   ]
  },
  {
   "cell_type": "code",
   "execution_count": null,
   "metadata": {
    "pycharm": {
     "name": "#%%\n"
    }
   },
   "outputs": [],
   "source": [
    "hc_rendimento = AgglomerativeClustering(n_clusters=3, affinity='euclidean', linkage='ward')\n",
    "rotulo_hc = hc_rendimento.fit_predict(base_cotacoes_rend)"
   ]
  },
  {
   "cell_type": "code",
   "execution_count": null,
   "metadata": {
    "pycharm": {
     "name": "#%%\n"
    }
   },
   "outputs": [],
   "source": [
    "rotulo_hc"
   ]
  },
  {
   "cell_type": "code",
   "execution_count": null,
   "metadata": {
    "pycharm": {
     "name": "#%%\n"
    }
   },
   "outputs": [],
   "source": [
    "grafico_cluster_rend = px.scatter(y=base_cotacoes_rend[:,0], x=base_cotacoes_rend[:,1], color=rotulo_hc)\n",
    "grafico_cluster_rend.show()"
   ]
  },
  {
   "cell_type": "markdown",
   "metadata": {
    "pycharm": {
     "name": "#%% md\n"
    }
   },
   "source": [
    "vizualizando o csv que atende os requisitos"
   ]
  },
  {
   "cell_type": "code",
   "execution_count": null,
   "metadata": {
    "pycharm": {
     "name": "#%%\n"
    }
   },
   "outputs": [],
   "source": [
    "dataframe = df\n",
    "dataframe"
   ]
  },
  {
   "cell_type": "code",
   "execution_count": null,
   "metadata": {
    "pycharm": {
     "name": "#%%\n"
    }
   },
   "outputs": [],
   "source": [
    "n_cluster = df['Setor']\n",
    "n_cluster = set(n_cluster)\n",
    "nome_cluster = n_cluster\n",
    "for id, x in enumerate(nome_cluster):\n",
    "    print(x)"
   ]
  },
  {
   "cell_type": "code",
   "execution_count": null,
   "metadata": {
    "pycharm": {
     "name": "#%%\n"
    }
   },
   "outputs": [],
   "source": [
    "restricao_setor = 'Shoppings'\n",
    "restricao_lq_diaria = 25000\n",
    "filtro_df = dataframe[(dataframe.Preco_Atual <= 150) & (dataframe.Preco_Atual >= 7) & (dataframe.DividendYield >= 1)]\n",
    "# filtro_df = dataframe[(dataframe.Codigo_do_fundo == 'MXRF11')]\n",
    "filtro_df"
   ]
  }
 ],
 "metadata": {
  "kernelspec": {
   "display_name": "Python 3 (ipykernel)",
   "language": "python",
   "name": "python3"
  },
  "language_info": {
   "codemirror_mode": {
    "name": "ipython",
    "version": 3
   },
   "file_extension": ".py",
   "mimetype": "text/x-python",
   "name": "python",
   "nbconvert_exporter": "python",
   "pygments_lexer": "ipython3",
   "version": "3.9.12"
  }
 },
 "nbformat": 4,
 "nbformat_minor": 1
}