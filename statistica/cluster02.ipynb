{
 "cells": [
  {
   "cell_type": "markdown",
   "metadata": {
    "pycharm": {
     "name": "#%% md\n"
    }
   },
   "source": [
    "importações"
   ]
  },
  {
   "cell_type": "code",
   "execution_count": 24,
   "metadata": {
    "pycharm": {
     "name": "#%%\n"
    }
   },
   "outputs": [],
   "source": [
    "import plotly.express as px\n",
    "import plotly.graph_objects as go\n",
    "import numpy as np\n",
    "from sklearn.preprocessing import StandardScaler\n",
    "from sklearn.cluster import KMeans\n",
    "import pandas as pd\n",
    "import datetime"
   ]
  },
  {
   "cell_type": "markdown",
   "metadata": {
    "pycharm": {
     "name": "#%% md\n"
    }
   },
   "source": [
    "leitura do csv"
   ]
  },
  {
   "cell_type": "code",
   "execution_count": 25,
   "outputs": [],
   "source": [
    "data = datetime.date.today()"
   ],
   "metadata": {
    "collapsed": false,
    "pycharm": {
     "name": "#%%\n"
    }
   }
  },
  {
   "cell_type": "code",
   "execution_count": 26,
   "metadata": {
    "pycharm": {
     "name": "#%%\n"
    }
   },
   "outputs": [
    {
     "data": {
      "text/plain": "     Unnamed: 0 Codigo_do_fundo                Setor Preco_Atual  \\\n0             0          FIVN11            Shoppings     R$ 3,23   \n1             1          BZLI11  Títulos e Val. Mob.    R$ 17,00   \n2             2          XTED11   Lajes Corporativas     R$ 7,25   \n3             3          ALMI11   Lajes Corporativas   R$ 910,00   \n4             4          PABY11              Híbrido     R$ 7,30   \n..          ...             ...                  ...         ...   \n301         301          MFAI11              Híbrido    R$ 66,48   \n302         302          BBFO11  Títulos e Val. Mob.    R$ 77,11   \n303         303          MFII11              Híbrido    R$ 96,49   \n304         304          RZAG11  Títulos e Val. Mob.    R$ 10,07   \n305         305          XPCA11  Títulos e Val. Mob.    R$ 10,25   \n\n     Liquidez_Diaria Dividendo DividendYield DY_(3M)Acumulado  \\\n0             1850.0   R$ 0,00         0,00%            0,00%   \n1                1.0   R$ 0,00         0,00%            0,00%   \n2             1088.0   R$ 0,00         0,00%            0,00%   \n3               18.0   R$ 0,00         0,00%            0,00%   \n4                4.0   R$ 0,00         0,00%            0,00%   \n..               ...       ...           ...              ...   \n301            554.0   R$ 0,70         1,05%            2,91%   \n302           2264.0   R$ 0,70         0,91%            3,14%   \n303           4741.0   R$ 1,09         1,13%            3,43%   \n304         271899.0   R$ 0,14         1,39%            4,07%   \n305         151848.0   R$ 0,14         1,37%            4,00%   \n\n    DY_(6M)Acumulado DY_(12M)Acumulado  ...     PatrimônioLíq.          VPA  \\\n0              0,00%             0,00%  ...   R$ 65.491.905,42      R$ 6,96   \n1              0,00%             0,00%  ...  R$ 440.205.505,76     R$ 10,78   \n2              0,00%             0,00%  ...   R$ 27.085.416,91     R$ 13,78   \n3              0,00%             0,00%  ...  R$ 250.158.727,48  R$ 2.250,09   \n4              0,00%             0,00%  ...  R$ -10.950.151,50    R$ -14,44   \n..               ...               ...  ...                ...          ...   \n301            4,86%            12,33%  ...   R$ 24.142.001,77     R$ 78,06   \n302            6,56%            12,33%  ...  R$ 349.116.913,80     R$ 87,19   \n303            6,77%            13,46%  ...  R$ 416.574.943,40    R$ 100,45   \n304            7,80%             0,00%  ...  R$ 289.264.320,71      R$ 9,53   \n305            8,11%             0,00%  ...  R$ 168.095.144,07      R$ 9,50   \n\n     P_VPA DYPatrimonial Variacao_Patrimonial Rentab._Patr.no_Periodo  \\\n0     46.0           NaN                  NaN                     NaN   \n1    158.0           NaN                  NaN                     NaN   \n2     53.0           NaN                  NaN                     NaN   \n3     40.0           NaN                  NaN                     NaN   \n4    -51.0           NaN                  NaN                     NaN   \n..     ...           ...                  ...                     ...   \n301   85.0         0,86%                6,46%                   7,37%   \n302   88.0         0,87%                4,63%                   5,54%   \n303   96.0         1,10%               -0,06%                   1,03%   \n304  106.0         1,47%                0,05%                   1,52%   \n305  108.0         1,47%                0,04%                   1,52%   \n\n    Rentab._Patr.Acumulada Vacancia_Fisica VacanciaFinanceira  \\\n0                      NaN          56,00%                NaN   \n1                      NaN             NaN                NaN   \n2                      NaN           0,00%            100,00%   \n3                      NaN          64,05%                NaN   \n4                      NaN             NaN                NaN   \n..                     ...             ...                ...   \n301                  1,32%             NaN                NaN   \n302                  8,43%             NaN                NaN   \n303                  0,59%             NaN                NaN   \n304                 10,67%             NaN                NaN   \n305                 10,99%             NaN                NaN   \n\n     QuantidadeAtivos  \n0                   1  \n1                   0  \n2                   1  \n3                   1  \n4                   1  \n..                ...  \n301                 0  \n302                 0  \n303                 9  \n304                 0  \n305                 0  \n\n[306 rows x 27 columns]",
      "text/html": "<div>\n<style scoped>\n    .dataframe tbody tr th:only-of-type {\n        vertical-align: middle;\n    }\n\n    .dataframe tbody tr th {\n        vertical-align: top;\n    }\n\n    .dataframe thead th {\n        text-align: right;\n    }\n</style>\n<table border=\"1\" class=\"dataframe\">\n  <thead>\n    <tr style=\"text-align: right;\">\n      <th></th>\n      <th>Unnamed: 0</th>\n      <th>Codigo_do_fundo</th>\n      <th>Setor</th>\n      <th>Preco_Atual</th>\n      <th>Liquidez_Diaria</th>\n      <th>Dividendo</th>\n      <th>DividendYield</th>\n      <th>DY_(3M)Acumulado</th>\n      <th>DY_(6M)Acumulado</th>\n      <th>DY_(12M)Acumulado</th>\n      <th>...</th>\n      <th>PatrimônioLíq.</th>\n      <th>VPA</th>\n      <th>P_VPA</th>\n      <th>DYPatrimonial</th>\n      <th>Variacao_Patrimonial</th>\n      <th>Rentab._Patr.no_Periodo</th>\n      <th>Rentab._Patr.Acumulada</th>\n      <th>Vacancia_Fisica</th>\n      <th>VacanciaFinanceira</th>\n      <th>QuantidadeAtivos</th>\n    </tr>\n  </thead>\n  <tbody>\n    <tr>\n      <th>0</th>\n      <td>0</td>\n      <td>FIVN11</td>\n      <td>Shoppings</td>\n      <td>R$ 3,23</td>\n      <td>1850.0</td>\n      <td>R$ 0,00</td>\n      <td>0,00%</td>\n      <td>0,00%</td>\n      <td>0,00%</td>\n      <td>0,00%</td>\n      <td>...</td>\n      <td>R$ 65.491.905,42</td>\n      <td>R$ 6,96</td>\n      <td>46.0</td>\n      <td>NaN</td>\n      <td>NaN</td>\n      <td>NaN</td>\n      <td>NaN</td>\n      <td>56,00%</td>\n      <td>NaN</td>\n      <td>1</td>\n    </tr>\n    <tr>\n      <th>1</th>\n      <td>1</td>\n      <td>BZLI11</td>\n      <td>Títulos e Val. Mob.</td>\n      <td>R$ 17,00</td>\n      <td>1.0</td>\n      <td>R$ 0,00</td>\n      <td>0,00%</td>\n      <td>0,00%</td>\n      <td>0,00%</td>\n      <td>0,00%</td>\n      <td>...</td>\n      <td>R$ 440.205.505,76</td>\n      <td>R$ 10,78</td>\n      <td>158.0</td>\n      <td>NaN</td>\n      <td>NaN</td>\n      <td>NaN</td>\n      <td>NaN</td>\n      <td>NaN</td>\n      <td>NaN</td>\n      <td>0</td>\n    </tr>\n    <tr>\n      <th>2</th>\n      <td>2</td>\n      <td>XTED11</td>\n      <td>Lajes Corporativas</td>\n      <td>R$ 7,25</td>\n      <td>1088.0</td>\n      <td>R$ 0,00</td>\n      <td>0,00%</td>\n      <td>0,00%</td>\n      <td>0,00%</td>\n      <td>0,00%</td>\n      <td>...</td>\n      <td>R$ 27.085.416,91</td>\n      <td>R$ 13,78</td>\n      <td>53.0</td>\n      <td>NaN</td>\n      <td>NaN</td>\n      <td>NaN</td>\n      <td>NaN</td>\n      <td>0,00%</td>\n      <td>100,00%</td>\n      <td>1</td>\n    </tr>\n    <tr>\n      <th>3</th>\n      <td>3</td>\n      <td>ALMI11</td>\n      <td>Lajes Corporativas</td>\n      <td>R$ 910,00</td>\n      <td>18.0</td>\n      <td>R$ 0,00</td>\n      <td>0,00%</td>\n      <td>0,00%</td>\n      <td>0,00%</td>\n      <td>0,00%</td>\n      <td>...</td>\n      <td>R$ 250.158.727,48</td>\n      <td>R$ 2.250,09</td>\n      <td>40.0</td>\n      <td>NaN</td>\n      <td>NaN</td>\n      <td>NaN</td>\n      <td>NaN</td>\n      <td>64,05%</td>\n      <td>NaN</td>\n      <td>1</td>\n    </tr>\n    <tr>\n      <th>4</th>\n      <td>4</td>\n      <td>PABY11</td>\n      <td>Híbrido</td>\n      <td>R$ 7,30</td>\n      <td>4.0</td>\n      <td>R$ 0,00</td>\n      <td>0,00%</td>\n      <td>0,00%</td>\n      <td>0,00%</td>\n      <td>0,00%</td>\n      <td>...</td>\n      <td>R$ -10.950.151,50</td>\n      <td>R$ -14,44</td>\n      <td>-51.0</td>\n      <td>NaN</td>\n      <td>NaN</td>\n      <td>NaN</td>\n      <td>NaN</td>\n      <td>NaN</td>\n      <td>NaN</td>\n      <td>1</td>\n    </tr>\n    <tr>\n      <th>...</th>\n      <td>...</td>\n      <td>...</td>\n      <td>...</td>\n      <td>...</td>\n      <td>...</td>\n      <td>...</td>\n      <td>...</td>\n      <td>...</td>\n      <td>...</td>\n      <td>...</td>\n      <td>...</td>\n      <td>...</td>\n      <td>...</td>\n      <td>...</td>\n      <td>...</td>\n      <td>...</td>\n      <td>...</td>\n      <td>...</td>\n      <td>...</td>\n      <td>...</td>\n      <td>...</td>\n    </tr>\n    <tr>\n      <th>301</th>\n      <td>301</td>\n      <td>MFAI11</td>\n      <td>Híbrido</td>\n      <td>R$ 66,48</td>\n      <td>554.0</td>\n      <td>R$ 0,70</td>\n      <td>1,05%</td>\n      <td>2,91%</td>\n      <td>4,86%</td>\n      <td>12,33%</td>\n      <td>...</td>\n      <td>R$ 24.142.001,77</td>\n      <td>R$ 78,06</td>\n      <td>85.0</td>\n      <td>0,86%</td>\n      <td>6,46%</td>\n      <td>7,37%</td>\n      <td>1,32%</td>\n      <td>NaN</td>\n      <td>NaN</td>\n      <td>0</td>\n    </tr>\n    <tr>\n      <th>302</th>\n      <td>302</td>\n      <td>BBFO11</td>\n      <td>Títulos e Val. Mob.</td>\n      <td>R$ 77,11</td>\n      <td>2264.0</td>\n      <td>R$ 0,70</td>\n      <td>0,91%</td>\n      <td>3,14%</td>\n      <td>6,56%</td>\n      <td>12,33%</td>\n      <td>...</td>\n      <td>R$ 349.116.913,80</td>\n      <td>R$ 87,19</td>\n      <td>88.0</td>\n      <td>0,87%</td>\n      <td>4,63%</td>\n      <td>5,54%</td>\n      <td>8,43%</td>\n      <td>NaN</td>\n      <td>NaN</td>\n      <td>0</td>\n    </tr>\n    <tr>\n      <th>303</th>\n      <td>303</td>\n      <td>MFII11</td>\n      <td>Híbrido</td>\n      <td>R$ 96,49</td>\n      <td>4741.0</td>\n      <td>R$ 1,09</td>\n      <td>1,13%</td>\n      <td>3,43%</td>\n      <td>6,77%</td>\n      <td>13,46%</td>\n      <td>...</td>\n      <td>R$ 416.574.943,40</td>\n      <td>R$ 100,45</td>\n      <td>96.0</td>\n      <td>1,10%</td>\n      <td>-0,06%</td>\n      <td>1,03%</td>\n      <td>0,59%</td>\n      <td>NaN</td>\n      <td>NaN</td>\n      <td>9</td>\n    </tr>\n    <tr>\n      <th>304</th>\n      <td>304</td>\n      <td>RZAG11</td>\n      <td>Títulos e Val. Mob.</td>\n      <td>R$ 10,07</td>\n      <td>271899.0</td>\n      <td>R$ 0,14</td>\n      <td>1,39%</td>\n      <td>4,07%</td>\n      <td>7,80%</td>\n      <td>0,00%</td>\n      <td>...</td>\n      <td>R$ 289.264.320,71</td>\n      <td>R$ 9,53</td>\n      <td>106.0</td>\n      <td>1,47%</td>\n      <td>0,05%</td>\n      <td>1,52%</td>\n      <td>10,67%</td>\n      <td>NaN</td>\n      <td>NaN</td>\n      <td>0</td>\n    </tr>\n    <tr>\n      <th>305</th>\n      <td>305</td>\n      <td>XPCA11</td>\n      <td>Títulos e Val. Mob.</td>\n      <td>R$ 10,25</td>\n      <td>151848.0</td>\n      <td>R$ 0,14</td>\n      <td>1,37%</td>\n      <td>4,00%</td>\n      <td>8,11%</td>\n      <td>0,00%</td>\n      <td>...</td>\n      <td>R$ 168.095.144,07</td>\n      <td>R$ 9,50</td>\n      <td>108.0</td>\n      <td>1,47%</td>\n      <td>0,04%</td>\n      <td>1,52%</td>\n      <td>10,99%</td>\n      <td>NaN</td>\n      <td>NaN</td>\n      <td>0</td>\n    </tr>\n  </tbody>\n</table>\n<p>306 rows × 27 columns</p>\n</div>"
     },
     "execution_count": 26,
     "metadata": {},
     "output_type": "execute_result"
    }
   ],
   "source": [
    "df = pd.read_csv(f'../bi/{data}_dataframe_cotacao.tsv', sep='\\t')\n",
    "df"
   ]
  },
  {
   "cell_type": "markdown",
   "metadata": {
    "pycharm": {
     "name": "#%% md\n"
    }
   },
   "source": [
    "variaveis de leitura do tsv"
   ]
  },
  {
   "cell_type": "code",
   "execution_count": 27,
   "metadata": {
    "pycharm": {
     "name": "#%%\n"
    }
   },
   "outputs": [],
   "source": [
    "# variavel para guardar a liquidez\n",
    "liquidez_valor = df['Liquidez_Diaria']\n",
    "# variavel para guardar os valores das cotas\n",
    "valor_cota = df['Preco_Atual']"
   ]
  },
  {
   "cell_type": "markdown",
   "metadata": {
    "pycharm": {
     "name": "#%% md\n"
    }
   },
   "source": [
    "preparando o as listas dos graficos"
   ]
  },
  {
   "cell_type": "code",
   "execution_count": 28,
   "metadata": {
    "pycharm": {
     "name": "#%%\n"
    }
   },
   "outputs": [],
   "source": [
    "lista_lq = [] #liquidez_diaria\n",
    "lista_vc = [] #preço atual\n",
    "for lq, vc in zip(liquidez_valor,valor_cota):\n",
    "    try:\n",
    "        vc = vc.split(' ')[-1]\n",
    "        vc = vc.replace(',', '.')\n",
    "        vc = float(vc)\n",
    "        lista_lq.append(lq)\n",
    "        lista_vc.append(vc)\n",
    "    except:\n",
    "        pass"
   ]
  },
  {
   "cell_type": "markdown",
   "metadata": {
    "pycharm": {
     "name": "#%% md\n"
    }
   },
   "source": [
    "grafico de dispersão"
   ]
  },
  {
   "cell_type": "markdown",
   "metadata": {
    "pycharm": {
     "name": "#%% md\n"
    }
   },
   "source": [
    "altura referece a liquidez diaria, x referece ao valor da cota"
   ]
  },
  {
   "cell_type": "code",
   "execution_count": 29,
   "metadata": {
    "pycharm": {
     "name": "#%%\n"
    }
   },
   "outputs": [
    {
     "data": {
      "application/vnd.plotly.v1+json": {
       "data": [
        {
         "hovertemplate": "x=%{x}<br>y=%{y}<extra></extra>",
         "legendgroup": "",
         "marker": {
          "color": "#636efa",
          "symbol": "circle"
         },
         "mode": "markers",
         "name": "",
         "orientation": "v",
         "showlegend": false,
         "x": [
          3.23,
          17.0,
          7.25,
          910.0,
          7.3,
          93.0,
          165.0,
          80.03,
          116.69,
          4.75,
          35.21,
          122.0,
          784.0,
          64.99,
          0.0,
          0.99,
          3.5,
          36.71,
          47.0,
          923.0,
          950.0,
          1.03,
          83.0,
          87.9,
          228.0,
          95.6,
          12.21,
          7.5,
          68.21,
          3.99,
          0.0,
          28.45,
          64.25,
          8.1,
          66.4,
          96.54,
          0.0,
          152.8,
          89.79,
          76.93,
          81.0,
          101.75,
          84.5,
          94.0,
          103.0,
          89.1,
          89.2,
          88.55,
          89.31,
          88.83,
          88.66,
          88.3,
          88.24,
          85.05,
          92.0,
          101.0,
          101.5,
          97.06,
          95.8,
          102.4,
          85.6,
          107.35,
          87.75,
          87.72,
          79.4,
          84.55,
          144.12,
          51.93,
          118.38,
          66.58,
          65.5,
          136.81,
          93.97,
          55.95,
          83.44,
          79.99,
          56.6,
          76.74,
          94.03,
          9.0,
          101.35,
          796.0,
          98.4,
          0.0,
          10.3,
          109.87,
          103.1,
          79.74,
          97.0,
          10.0,
          101.38,
          68.97,
          84.7,
          74.9,
          179.22,
          99.0,
          116.0,
          483.0,
          73.61,
          44.3,
          109.3,
          95.54,
          91.4,
          100.0,
          44.83,
          113.0,
          86.35,
          92.44,
          9.25,
          9.15,
          109.41,
          108.5,
          90.11,
          87.2,
          88.88,
          7.67,
          105.49,
          86.0,
          96.3,
          9.87,
          272.0,
          41.3,
          8.15,
          110.43,
          80.92,
          93.82,
          86.48,
          124.5,
          163.01,
          205.99,
          39.99,
          95.55,
          78.04,
          0.0,
          129.35,
          104.71,
          102.0,
          262.0,
          82.59,
          171.5,
          93.0,
          97.07,
          81.89,
          86.5,
          82.78,
          97.1,
          216.0,
          85.99,
          112.0,
          58.67,
          84.82,
          100.0,
          105.3,
          125.71,
          8.45,
          70.94,
          45.9,
          44.3,
          84.0,
          17.85,
          57.54,
          72.29,
          97.82,
          98.0,
          78.03,
          100.99,
          27.15,
          94.25,
          104.3,
          90.9,
          79.7,
          51.0,
          11.63,
          81.8,
          91.9,
          102.11,
          9.0,
          7.67,
          50.0,
          111.49,
          75.8,
          115.12,
          208.05,
          230.93,
          0.0,
          108.81,
          0.0,
          79.07,
          9.8,
          77.91,
          98.4,
          47.19,
          110.0,
          119.75,
          73.99,
          69.93,
          80.72,
          6.14,
          129.89,
          10.08,
          10.03,
          10.04,
          10.04,
          10.06,
          10.02,
          10.04,
          10.03,
          97.89,
          9.22,
          7.82,
          680.0,
          171.99,
          146.97,
          86.47,
          101.88,
          65.2,
          66.7,
          94.64,
          100.13,
          153.5,
          60.3,
          82.8,
          69.79,
          91.52,
          94.98,
          88.4,
          71.68,
          59.95,
          9.14,
          86.73,
          100.97,
          76.29,
          82.27,
          93.68,
          44.37,
          96.49,
          89.35,
          61.39,
          84.0,
          97.99,
          128.0,
          90.0,
          90.19,
          80.66,
          74.97,
          89.89,
          76.47,
          90.6,
          99.71,
          103.01,
          102.18,
          9.58,
          91.15,
          10.07,
          90.05,
          10.08,
          69.55,
          97.4,
          150.0,
          9.19,
          111.0,
          117.23,
          100.45,
          81.41,
          103.56,
          100.18,
          33.06,
          124.0,
          103.41,
          93.77,
          100.15,
          18.02,
          76.6,
          67.11,
          71.69,
          92.0,
          73.77,
          82.9,
          91.6,
          87.5,
          97.0,
          97.0,
          91.49,
          9.8,
          93.88,
          88.94,
          94.28,
          94.06,
          93.97,
          93.72,
          93.31,
          93.52,
          94.17,
          94.15,
          85.98,
          66.48,
          77.11,
          96.49,
          10.07,
          10.25
         ],
         "xaxis": "x",
         "y": [
          1850.0,
          1.0,
          1088.0,
          18.0,
          4.0,
          3.0,
          200.0,
          42.0,
          1959.0,
          2642.0,
          38.0,
          626.0,
          4.0,
          3.0,
          0.0,
          1813.0,
          329.0,
          60.0,
          1260.0,
          8830.0,
          240.0,
          332.0,
          15.0,
          1.0,
          164.0,
          5.0,
          45.0,
          1.0,
          40.0,
          6391.0,
          0.0,
          5157.0,
          8700.0,
          88584.0,
          1924.0,
          4632.0,
          0.0,
          14531.0,
          4554.0,
          2188.0,
          412.0,
          12638.0,
          189.0,
          669.0,
          36726.0,
          177.0,
          4779.0,
          2738.0,
          2315.0,
          6123.0,
          2350.0,
          9724.0,
          3488.0,
          2911.0,
          639.0,
          468.0,
          2211.0,
          22959.0,
          12195.0,
          167209.0,
          32320.0,
          16616.0,
          37813.0,
          141579.0,
          300.0,
          1535.0,
          12052.0,
          2939.0,
          1040.0,
          121.0,
          2207.0,
          866.0,
          12.0,
          1.0,
          492.0,
          15476.0,
          3407.0,
          214.0,
          25868.0,
          64664.0,
          10187.0,
          81.0,
          1088.0,
          0.0,
          592771.0,
          44767.0,
          84655.0,
          1668.0,
          7605.0,
          624.0,
          618.0,
          626.0,
          4874.0,
          7351.0,
          205.0,
          66358.0,
          136034.0,
          417.0,
          830.0,
          5917.0,
          5323.0,
          28692.0,
          60085.0,
          4453.0,
          252.0,
          207.0,
          3061.0,
          16453.0,
          5415.0,
          6414.0,
          11512.0,
          76823.0,
          9739.0,
          91.0,
          3168.0,
          83391.0,
          274.0,
          31.0,
          2040.0,
          434538.0,
          32.0,
          499.0,
          35887.0,
          15294.0,
          2054.0,
          5419.0,
          1419.0,
          787.0,
          497.0,
          1.0,
          291.0,
          174.0,
          39.0,
          0.0,
          39967.0,
          46659.0,
          151.0,
          2557.0,
          847.0,
          32937.0,
          11.0,
          10083.0,
          5552.0,
          810.0,
          61.0,
          564.0,
          99782.0,
          10399.0,
          52.0,
          476.0,
          3693.0,
          248.0,
          31438.0,
          45225.0,
          84173.0,
          8802.0,
          12136.0,
          2217.0,
          10546.0,
          9013.0,
          2013.0,
          3183.0,
          4209.0,
          12380.0,
          2928.0,
          4950.0,
          173.0,
          30282.0,
          7903.0,
          4735.0,
          2387.0,
          752.0,
          128.0,
          2980.0,
          14242.0,
          1670.0,
          44206.0,
          10746.0,
          20245.0,
          21103.0,
          21566.0,
          60434.0,
          30.0,
          133.0,
          0.0,
          17.0,
          0.0,
          9534.0,
          172058.0,
          1423.0,
          1.0,
          5371.0,
          2239.0,
          11123.0,
          20.0,
          299.0,
          830.0,
          1152.0,
          626.0,
          11424.0,
          18597.0,
          31943.0,
          26907.0,
          66447.0,
          40990.0,
          40677.0,
          20744.0,
          1785.0,
          21780.0,
          36864.0,
          236.0,
          166.0,
          2736.0,
          1475.0,
          55935.0,
          28779.0,
          5610.0,
          26659.0,
          3809.0,
          891.0,
          14870.0,
          1029.0,
          40651.0,
          6722.0,
          3548.0,
          6332.0,
          31804.0,
          108.0,
          60356.0,
          7913.0,
          4361.0,
          612.0,
          801.0,
          4096.0,
          731.0,
          265.0,
          58588.0,
          11541.0,
          1462.0,
          5300.0,
          20.0,
          3.0,
          32127.0,
          1129.0,
          5310.0,
          1897.0,
          65640.0,
          176649.0,
          9839.0,
          58106.0,
          1230.0,
          7908.0,
          80488.0,
          257729.0,
          30997.0,
          195289.0,
          332.0,
          33669.0,
          334.0,
          162524.0,
          140.0,
          11968.0,
          8556.0,
          986.0,
          35243.0,
          10441.0,
          142.0,
          2332.0,
          720.0,
          995.0,
          8459.0,
          3507.0,
          21.0,
          2476.0,
          435.0,
          639.0,
          6031.0,
          5769.0,
          768.0,
          5058.0,
          6653.0,
          3.0,
          5.0,
          1067.0,
          869.0,
          4081.0,
          1419.0,
          3047.0,
          1356.0,
          4356.0,
          6678.0,
          2670.0,
          2323.0,
          4019.0,
          948.0,
          554.0,
          2264.0,
          4741.0,
          271899.0,
          151848.0
         ],
         "yaxis": "y",
         "type": "scatter"
        }
       ],
       "layout": {
        "template": {
         "data": {
          "histogram2dcontour": [
           {
            "type": "histogram2dcontour",
            "colorbar": {
             "outlinewidth": 0,
             "ticks": ""
            },
            "colorscale": [
             [
              0.0,
              "#0d0887"
             ],
             [
              0.1111111111111111,
              "#46039f"
             ],
             [
              0.2222222222222222,
              "#7201a8"
             ],
             [
              0.3333333333333333,
              "#9c179e"
             ],
             [
              0.4444444444444444,
              "#bd3786"
             ],
             [
              0.5555555555555556,
              "#d8576b"
             ],
             [
              0.6666666666666666,
              "#ed7953"
             ],
             [
              0.7777777777777778,
              "#fb9f3a"
             ],
             [
              0.8888888888888888,
              "#fdca26"
             ],
             [
              1.0,
              "#f0f921"
             ]
            ]
           }
          ],
          "choropleth": [
           {
            "type": "choropleth",
            "colorbar": {
             "outlinewidth": 0,
             "ticks": ""
            }
           }
          ],
          "histogram2d": [
           {
            "type": "histogram2d",
            "colorbar": {
             "outlinewidth": 0,
             "ticks": ""
            },
            "colorscale": [
             [
              0.0,
              "#0d0887"
             ],
             [
              0.1111111111111111,
              "#46039f"
             ],
             [
              0.2222222222222222,
              "#7201a8"
             ],
             [
              0.3333333333333333,
              "#9c179e"
             ],
             [
              0.4444444444444444,
              "#bd3786"
             ],
             [
              0.5555555555555556,
              "#d8576b"
             ],
             [
              0.6666666666666666,
              "#ed7953"
             ],
             [
              0.7777777777777778,
              "#fb9f3a"
             ],
             [
              0.8888888888888888,
              "#fdca26"
             ],
             [
              1.0,
              "#f0f921"
             ]
            ]
           }
          ],
          "heatmap": [
           {
            "type": "heatmap",
            "colorbar": {
             "outlinewidth": 0,
             "ticks": ""
            },
            "colorscale": [
             [
              0.0,
              "#0d0887"
             ],
             [
              0.1111111111111111,
              "#46039f"
             ],
             [
              0.2222222222222222,
              "#7201a8"
             ],
             [
              0.3333333333333333,
              "#9c179e"
             ],
             [
              0.4444444444444444,
              "#bd3786"
             ],
             [
              0.5555555555555556,
              "#d8576b"
             ],
             [
              0.6666666666666666,
              "#ed7953"
             ],
             [
              0.7777777777777778,
              "#fb9f3a"
             ],
             [
              0.8888888888888888,
              "#fdca26"
             ],
             [
              1.0,
              "#f0f921"
             ]
            ]
           }
          ],
          "heatmapgl": [
           {
            "type": "heatmapgl",
            "colorbar": {
             "outlinewidth": 0,
             "ticks": ""
            },
            "colorscale": [
             [
              0.0,
              "#0d0887"
             ],
             [
              0.1111111111111111,
              "#46039f"
             ],
             [
              0.2222222222222222,
              "#7201a8"
             ],
             [
              0.3333333333333333,
              "#9c179e"
             ],
             [
              0.4444444444444444,
              "#bd3786"
             ],
             [
              0.5555555555555556,
              "#d8576b"
             ],
             [
              0.6666666666666666,
              "#ed7953"
             ],
             [
              0.7777777777777778,
              "#fb9f3a"
             ],
             [
              0.8888888888888888,
              "#fdca26"
             ],
             [
              1.0,
              "#f0f921"
             ]
            ]
           }
          ],
          "contourcarpet": [
           {
            "type": "contourcarpet",
            "colorbar": {
             "outlinewidth": 0,
             "ticks": ""
            }
           }
          ],
          "contour": [
           {
            "type": "contour",
            "colorbar": {
             "outlinewidth": 0,
             "ticks": ""
            },
            "colorscale": [
             [
              0.0,
              "#0d0887"
             ],
             [
              0.1111111111111111,
              "#46039f"
             ],
             [
              0.2222222222222222,
              "#7201a8"
             ],
             [
              0.3333333333333333,
              "#9c179e"
             ],
             [
              0.4444444444444444,
              "#bd3786"
             ],
             [
              0.5555555555555556,
              "#d8576b"
             ],
             [
              0.6666666666666666,
              "#ed7953"
             ],
             [
              0.7777777777777778,
              "#fb9f3a"
             ],
             [
              0.8888888888888888,
              "#fdca26"
             ],
             [
              1.0,
              "#f0f921"
             ]
            ]
           }
          ],
          "surface": [
           {
            "type": "surface",
            "colorbar": {
             "outlinewidth": 0,
             "ticks": ""
            },
            "colorscale": [
             [
              0.0,
              "#0d0887"
             ],
             [
              0.1111111111111111,
              "#46039f"
             ],
             [
              0.2222222222222222,
              "#7201a8"
             ],
             [
              0.3333333333333333,
              "#9c179e"
             ],
             [
              0.4444444444444444,
              "#bd3786"
             ],
             [
              0.5555555555555556,
              "#d8576b"
             ],
             [
              0.6666666666666666,
              "#ed7953"
             ],
             [
              0.7777777777777778,
              "#fb9f3a"
             ],
             [
              0.8888888888888888,
              "#fdca26"
             ],
             [
              1.0,
              "#f0f921"
             ]
            ]
           }
          ],
          "mesh3d": [
           {
            "type": "mesh3d",
            "colorbar": {
             "outlinewidth": 0,
             "ticks": ""
            }
           }
          ],
          "scatter": [
           {
            "marker": {
             "line": {
              "color": "#283442"
             }
            },
            "type": "scatter"
           }
          ],
          "parcoords": [
           {
            "type": "parcoords",
            "line": {
             "colorbar": {
              "outlinewidth": 0,
              "ticks": ""
             }
            }
           }
          ],
          "scatterpolargl": [
           {
            "type": "scatterpolargl",
            "marker": {
             "colorbar": {
              "outlinewidth": 0,
              "ticks": ""
             }
            }
           }
          ],
          "bar": [
           {
            "error_x": {
             "color": "#f2f5fa"
            },
            "error_y": {
             "color": "#f2f5fa"
            },
            "marker": {
             "line": {
              "color": "rgb(17,17,17)",
              "width": 0.5
             },
             "pattern": {
              "fillmode": "overlay",
              "size": 10,
              "solidity": 0.2
             }
            },
            "type": "bar"
           }
          ],
          "scattergeo": [
           {
            "type": "scattergeo",
            "marker": {
             "colorbar": {
              "outlinewidth": 0,
              "ticks": ""
             }
            }
           }
          ],
          "scatterpolar": [
           {
            "type": "scatterpolar",
            "marker": {
             "colorbar": {
              "outlinewidth": 0,
              "ticks": ""
             }
            }
           }
          ],
          "histogram": [
           {
            "marker": {
             "pattern": {
              "fillmode": "overlay",
              "size": 10,
              "solidity": 0.2
             }
            },
            "type": "histogram"
           }
          ],
          "scattergl": [
           {
            "marker": {
             "line": {
              "color": "#283442"
             }
            },
            "type": "scattergl"
           }
          ],
          "scatter3d": [
           {
            "type": "scatter3d",
            "line": {
             "colorbar": {
              "outlinewidth": 0,
              "ticks": ""
             }
            },
            "marker": {
             "colorbar": {
              "outlinewidth": 0,
              "ticks": ""
             }
            }
           }
          ],
          "scattermapbox": [
           {
            "type": "scattermapbox",
            "marker": {
             "colorbar": {
              "outlinewidth": 0,
              "ticks": ""
             }
            }
           }
          ],
          "scatterternary": [
           {
            "type": "scatterternary",
            "marker": {
             "colorbar": {
              "outlinewidth": 0,
              "ticks": ""
             }
            }
           }
          ],
          "scattercarpet": [
           {
            "type": "scattercarpet",
            "marker": {
             "colorbar": {
              "outlinewidth": 0,
              "ticks": ""
             }
            }
           }
          ],
          "carpet": [
           {
            "aaxis": {
             "endlinecolor": "#A2B1C6",
             "gridcolor": "#506784",
             "linecolor": "#506784",
             "minorgridcolor": "#506784",
             "startlinecolor": "#A2B1C6"
            },
            "baxis": {
             "endlinecolor": "#A2B1C6",
             "gridcolor": "#506784",
             "linecolor": "#506784",
             "minorgridcolor": "#506784",
             "startlinecolor": "#A2B1C6"
            },
            "type": "carpet"
           }
          ],
          "table": [
           {
            "cells": {
             "fill": {
              "color": "#506784"
             },
             "line": {
              "color": "rgb(17,17,17)"
             }
            },
            "header": {
             "fill": {
              "color": "#2a3f5f"
             },
             "line": {
              "color": "rgb(17,17,17)"
             }
            },
            "type": "table"
           }
          ],
          "barpolar": [
           {
            "marker": {
             "line": {
              "color": "rgb(17,17,17)",
              "width": 0.5
             },
             "pattern": {
              "fillmode": "overlay",
              "size": 10,
              "solidity": 0.2
             }
            },
            "type": "barpolar"
           }
          ],
          "pie": [
           {
            "automargin": true,
            "type": "pie"
           }
          ]
         },
         "layout": {
          "autotypenumbers": "strict",
          "colorway": [
           "#636efa",
           "#EF553B",
           "#00cc96",
           "#ab63fa",
           "#FFA15A",
           "#19d3f3",
           "#FF6692",
           "#B6E880",
           "#FF97FF",
           "#FECB52"
          ],
          "font": {
           "color": "#f2f5fa"
          },
          "hovermode": "closest",
          "hoverlabel": {
           "align": "left"
          },
          "paper_bgcolor": "rgb(17,17,17)",
          "plot_bgcolor": "rgb(17,17,17)",
          "polar": {
           "bgcolor": "rgb(17,17,17)",
           "angularaxis": {
            "gridcolor": "#506784",
            "linecolor": "#506784",
            "ticks": ""
           },
           "radialaxis": {
            "gridcolor": "#506784",
            "linecolor": "#506784",
            "ticks": ""
           }
          },
          "ternary": {
           "bgcolor": "rgb(17,17,17)",
           "aaxis": {
            "gridcolor": "#506784",
            "linecolor": "#506784",
            "ticks": ""
           },
           "baxis": {
            "gridcolor": "#506784",
            "linecolor": "#506784",
            "ticks": ""
           },
           "caxis": {
            "gridcolor": "#506784",
            "linecolor": "#506784",
            "ticks": ""
           }
          },
          "coloraxis": {
           "colorbar": {
            "outlinewidth": 0,
            "ticks": ""
           }
          },
          "colorscale": {
           "sequential": [
            [
             0.0,
             "#0d0887"
            ],
            [
             0.1111111111111111,
             "#46039f"
            ],
            [
             0.2222222222222222,
             "#7201a8"
            ],
            [
             0.3333333333333333,
             "#9c179e"
            ],
            [
             0.4444444444444444,
             "#bd3786"
            ],
            [
             0.5555555555555556,
             "#d8576b"
            ],
            [
             0.6666666666666666,
             "#ed7953"
            ],
            [
             0.7777777777777778,
             "#fb9f3a"
            ],
            [
             0.8888888888888888,
             "#fdca26"
            ],
            [
             1.0,
             "#f0f921"
            ]
           ],
           "sequentialminus": [
            [
             0.0,
             "#0d0887"
            ],
            [
             0.1111111111111111,
             "#46039f"
            ],
            [
             0.2222222222222222,
             "#7201a8"
            ],
            [
             0.3333333333333333,
             "#9c179e"
            ],
            [
             0.4444444444444444,
             "#bd3786"
            ],
            [
             0.5555555555555556,
             "#d8576b"
            ],
            [
             0.6666666666666666,
             "#ed7953"
            ],
            [
             0.7777777777777778,
             "#fb9f3a"
            ],
            [
             0.8888888888888888,
             "#fdca26"
            ],
            [
             1.0,
             "#f0f921"
            ]
           ],
           "diverging": [
            [
             0,
             "#8e0152"
            ],
            [
             0.1,
             "#c51b7d"
            ],
            [
             0.2,
             "#de77ae"
            ],
            [
             0.3,
             "#f1b6da"
            ],
            [
             0.4,
             "#fde0ef"
            ],
            [
             0.5,
             "#f7f7f7"
            ],
            [
             0.6,
             "#e6f5d0"
            ],
            [
             0.7,
             "#b8e186"
            ],
            [
             0.8,
             "#7fbc41"
            ],
            [
             0.9,
             "#4d9221"
            ],
            [
             1,
             "#276419"
            ]
           ]
          },
          "xaxis": {
           "gridcolor": "#283442",
           "linecolor": "#506784",
           "ticks": "",
           "title": {
            "standoff": 15
           },
           "zerolinecolor": "#283442",
           "automargin": true,
           "zerolinewidth": 2
          },
          "yaxis": {
           "gridcolor": "#283442",
           "linecolor": "#506784",
           "ticks": "",
           "title": {
            "standoff": 15
           },
           "zerolinecolor": "#283442",
           "automargin": true,
           "zerolinewidth": 2
          },
          "scene": {
           "xaxis": {
            "backgroundcolor": "rgb(17,17,17)",
            "gridcolor": "#506784",
            "linecolor": "#506784",
            "showbackground": true,
            "ticks": "",
            "zerolinecolor": "#C8D4E3",
            "gridwidth": 2
           },
           "yaxis": {
            "backgroundcolor": "rgb(17,17,17)",
            "gridcolor": "#506784",
            "linecolor": "#506784",
            "showbackground": true,
            "ticks": "",
            "zerolinecolor": "#C8D4E3",
            "gridwidth": 2
           },
           "zaxis": {
            "backgroundcolor": "rgb(17,17,17)",
            "gridcolor": "#506784",
            "linecolor": "#506784",
            "showbackground": true,
            "ticks": "",
            "zerolinecolor": "#C8D4E3",
            "gridwidth": 2
           }
          },
          "shapedefaults": {
           "line": {
            "color": "#f2f5fa"
           }
          },
          "annotationdefaults": {
           "arrowcolor": "#f2f5fa",
           "arrowhead": 0,
           "arrowwidth": 1
          },
          "geo": {
           "bgcolor": "rgb(17,17,17)",
           "landcolor": "rgb(17,17,17)",
           "subunitcolor": "#506784",
           "showland": true,
           "showlakes": true,
           "lakecolor": "rgb(17,17,17)"
          },
          "title": {
           "x": 0.05
          },
          "updatemenudefaults": {
           "bgcolor": "#506784",
           "borderwidth": 0
          },
          "sliderdefaults": {
           "bgcolor": "#C8D4E3",
           "borderwidth": 1,
           "bordercolor": "rgb(17,17,17)",
           "tickwidth": 0
          },
          "mapbox": {
           "style": "dark"
          }
         }
        },
        "xaxis": {
         "anchor": "y",
         "domain": [
          0.0,
          1.0
         ],
         "title": {
          "text": "x"
         }
        },
        "yaxis": {
         "anchor": "x",
         "domain": [
          0.0,
          1.0
         ],
         "title": {
          "text": "y"
         }
        },
        "legend": {
         "tracegroupgap": 0
        },
        "margin": {
         "t": 60
        }
       },
       "config": {
        "plotlyServerURL": "https://plot.ly"
       }
      },
      "text/html": "<div>                            <div id=\"d896c1bb-c571-4e0a-b2a7-586f770ef0c0\" class=\"plotly-graph-div\" style=\"height:525px; width:100%;\"></div>            <script type=\"text/javascript\">                require([\"plotly\"], function(Plotly) {                    window.PLOTLYENV=window.PLOTLYENV || {};                                    if (document.getElementById(\"d896c1bb-c571-4e0a-b2a7-586f770ef0c0\")) {                    Plotly.newPlot(                        \"d896c1bb-c571-4e0a-b2a7-586f770ef0c0\",                        [{\"hovertemplate\":\"x=%{x}<br>y=%{y}<extra></extra>\",\"legendgroup\":\"\",\"marker\":{\"color\":\"#636efa\",\"symbol\":\"circle\"},\"mode\":\"markers\",\"name\":\"\",\"orientation\":\"v\",\"showlegend\":false,\"x\":[3.23,17.0,7.25,910.0,7.3,93.0,165.0,80.03,116.69,4.75,35.21,122.0,784.0,64.99,0.0,0.99,3.5,36.71,47.0,923.0,950.0,1.03,83.0,87.9,228.0,95.6,12.21,7.5,68.21,3.99,0.0,28.45,64.25,8.1,66.4,96.54,0.0,152.8,89.79,76.93,81.0,101.75,84.5,94.0,103.0,89.1,89.2,88.55,89.31,88.83,88.66,88.3,88.24,85.05,92.0,101.0,101.5,97.06,95.8,102.4,85.6,107.35,87.75,87.72,79.4,84.55,144.12,51.93,118.38,66.58,65.5,136.81,93.97,55.95,83.44,79.99,56.6,76.74,94.03,9.0,101.35,796.0,98.4,0.0,10.3,109.87,103.1,79.74,97.0,10.0,101.38,68.97,84.7,74.9,179.22,99.0,116.0,483.0,73.61,44.3,109.3,95.54,91.4,100.0,44.83,113.0,86.35,92.44,9.25,9.15,109.41,108.5,90.11,87.2,88.88,7.67,105.49,86.0,96.3,9.87,272.0,41.3,8.15,110.43,80.92,93.82,86.48,124.5,163.01,205.99,39.99,95.55,78.04,0.0,129.35,104.71,102.0,262.0,82.59,171.5,93.0,97.07,81.89,86.5,82.78,97.1,216.0,85.99,112.0,58.67,84.82,100.0,105.3,125.71,8.45,70.94,45.9,44.3,84.0,17.85,57.54,72.29,97.82,98.0,78.03,100.99,27.15,94.25,104.3,90.9,79.7,51.0,11.63,81.8,91.9,102.11,9.0,7.67,50.0,111.49,75.8,115.12,208.05,230.93,0.0,108.81,0.0,79.07,9.8,77.91,98.4,47.19,110.0,119.75,73.99,69.93,80.72,6.14,129.89,10.08,10.03,10.04,10.04,10.06,10.02,10.04,10.03,97.89,9.22,7.82,680.0,171.99,146.97,86.47,101.88,65.2,66.7,94.64,100.13,153.5,60.3,82.8,69.79,91.52,94.98,88.4,71.68,59.95,9.14,86.73,100.97,76.29,82.27,93.68,44.37,96.49,89.35,61.39,84.0,97.99,128.0,90.0,90.19,80.66,74.97,89.89,76.47,90.6,99.71,103.01,102.18,9.58,91.15,10.07,90.05,10.08,69.55,97.4,150.0,9.19,111.0,117.23,100.45,81.41,103.56,100.18,33.06,124.0,103.41,93.77,100.15,18.02,76.6,67.11,71.69,92.0,73.77,82.9,91.6,87.5,97.0,97.0,91.49,9.8,93.88,88.94,94.28,94.06,93.97,93.72,93.31,93.52,94.17,94.15,85.98,66.48,77.11,96.49,10.07,10.25],\"xaxis\":\"x\",\"y\":[1850.0,1.0,1088.0,18.0,4.0,3.0,200.0,42.0,1959.0,2642.0,38.0,626.0,4.0,3.0,0.0,1813.0,329.0,60.0,1260.0,8830.0,240.0,332.0,15.0,1.0,164.0,5.0,45.0,1.0,40.0,6391.0,0.0,5157.0,8700.0,88584.0,1924.0,4632.0,0.0,14531.0,4554.0,2188.0,412.0,12638.0,189.0,669.0,36726.0,177.0,4779.0,2738.0,2315.0,6123.0,2350.0,9724.0,3488.0,2911.0,639.0,468.0,2211.0,22959.0,12195.0,167209.0,32320.0,16616.0,37813.0,141579.0,300.0,1535.0,12052.0,2939.0,1040.0,121.0,2207.0,866.0,12.0,1.0,492.0,15476.0,3407.0,214.0,25868.0,64664.0,10187.0,81.0,1088.0,0.0,592771.0,44767.0,84655.0,1668.0,7605.0,624.0,618.0,626.0,4874.0,7351.0,205.0,66358.0,136034.0,417.0,830.0,5917.0,5323.0,28692.0,60085.0,4453.0,252.0,207.0,3061.0,16453.0,5415.0,6414.0,11512.0,76823.0,9739.0,91.0,3168.0,83391.0,274.0,31.0,2040.0,434538.0,32.0,499.0,35887.0,15294.0,2054.0,5419.0,1419.0,787.0,497.0,1.0,291.0,174.0,39.0,0.0,39967.0,46659.0,151.0,2557.0,847.0,32937.0,11.0,10083.0,5552.0,810.0,61.0,564.0,99782.0,10399.0,52.0,476.0,3693.0,248.0,31438.0,45225.0,84173.0,8802.0,12136.0,2217.0,10546.0,9013.0,2013.0,3183.0,4209.0,12380.0,2928.0,4950.0,173.0,30282.0,7903.0,4735.0,2387.0,752.0,128.0,2980.0,14242.0,1670.0,44206.0,10746.0,20245.0,21103.0,21566.0,60434.0,30.0,133.0,0.0,17.0,0.0,9534.0,172058.0,1423.0,1.0,5371.0,2239.0,11123.0,20.0,299.0,830.0,1152.0,626.0,11424.0,18597.0,31943.0,26907.0,66447.0,40990.0,40677.0,20744.0,1785.0,21780.0,36864.0,236.0,166.0,2736.0,1475.0,55935.0,28779.0,5610.0,26659.0,3809.0,891.0,14870.0,1029.0,40651.0,6722.0,3548.0,6332.0,31804.0,108.0,60356.0,7913.0,4361.0,612.0,801.0,4096.0,731.0,265.0,58588.0,11541.0,1462.0,5300.0,20.0,3.0,32127.0,1129.0,5310.0,1897.0,65640.0,176649.0,9839.0,58106.0,1230.0,7908.0,80488.0,257729.0,30997.0,195289.0,332.0,33669.0,334.0,162524.0,140.0,11968.0,8556.0,986.0,35243.0,10441.0,142.0,2332.0,720.0,995.0,8459.0,3507.0,21.0,2476.0,435.0,639.0,6031.0,5769.0,768.0,5058.0,6653.0,3.0,5.0,1067.0,869.0,4081.0,1419.0,3047.0,1356.0,4356.0,6678.0,2670.0,2323.0,4019.0,948.0,554.0,2264.0,4741.0,271899.0,151848.0],\"yaxis\":\"y\",\"type\":\"scatter\"}],                        {\"template\":{\"data\":{\"histogram2dcontour\":[{\"type\":\"histogram2dcontour\",\"colorbar\":{\"outlinewidth\":0,\"ticks\":\"\"},\"colorscale\":[[0.0,\"#0d0887\"],[0.1111111111111111,\"#46039f\"],[0.2222222222222222,\"#7201a8\"],[0.3333333333333333,\"#9c179e\"],[0.4444444444444444,\"#bd3786\"],[0.5555555555555556,\"#d8576b\"],[0.6666666666666666,\"#ed7953\"],[0.7777777777777778,\"#fb9f3a\"],[0.8888888888888888,\"#fdca26\"],[1.0,\"#f0f921\"]]}],\"choropleth\":[{\"type\":\"choropleth\",\"colorbar\":{\"outlinewidth\":0,\"ticks\":\"\"}}],\"histogram2d\":[{\"type\":\"histogram2d\",\"colorbar\":{\"outlinewidth\":0,\"ticks\":\"\"},\"colorscale\":[[0.0,\"#0d0887\"],[0.1111111111111111,\"#46039f\"],[0.2222222222222222,\"#7201a8\"],[0.3333333333333333,\"#9c179e\"],[0.4444444444444444,\"#bd3786\"],[0.5555555555555556,\"#d8576b\"],[0.6666666666666666,\"#ed7953\"],[0.7777777777777778,\"#fb9f3a\"],[0.8888888888888888,\"#fdca26\"],[1.0,\"#f0f921\"]]}],\"heatmap\":[{\"type\":\"heatmap\",\"colorbar\":{\"outlinewidth\":0,\"ticks\":\"\"},\"colorscale\":[[0.0,\"#0d0887\"],[0.1111111111111111,\"#46039f\"],[0.2222222222222222,\"#7201a8\"],[0.3333333333333333,\"#9c179e\"],[0.4444444444444444,\"#bd3786\"],[0.5555555555555556,\"#d8576b\"],[0.6666666666666666,\"#ed7953\"],[0.7777777777777778,\"#fb9f3a\"],[0.8888888888888888,\"#fdca26\"],[1.0,\"#f0f921\"]]}],\"heatmapgl\":[{\"type\":\"heatmapgl\",\"colorbar\":{\"outlinewidth\":0,\"ticks\":\"\"},\"colorscale\":[[0.0,\"#0d0887\"],[0.1111111111111111,\"#46039f\"],[0.2222222222222222,\"#7201a8\"],[0.3333333333333333,\"#9c179e\"],[0.4444444444444444,\"#bd3786\"],[0.5555555555555556,\"#d8576b\"],[0.6666666666666666,\"#ed7953\"],[0.7777777777777778,\"#fb9f3a\"],[0.8888888888888888,\"#fdca26\"],[1.0,\"#f0f921\"]]}],\"contourcarpet\":[{\"type\":\"contourcarpet\",\"colorbar\":{\"outlinewidth\":0,\"ticks\":\"\"}}],\"contour\":[{\"type\":\"contour\",\"colorbar\":{\"outlinewidth\":0,\"ticks\":\"\"},\"colorscale\":[[0.0,\"#0d0887\"],[0.1111111111111111,\"#46039f\"],[0.2222222222222222,\"#7201a8\"],[0.3333333333333333,\"#9c179e\"],[0.4444444444444444,\"#bd3786\"],[0.5555555555555556,\"#d8576b\"],[0.6666666666666666,\"#ed7953\"],[0.7777777777777778,\"#fb9f3a\"],[0.8888888888888888,\"#fdca26\"],[1.0,\"#f0f921\"]]}],\"surface\":[{\"type\":\"surface\",\"colorbar\":{\"outlinewidth\":0,\"ticks\":\"\"},\"colorscale\":[[0.0,\"#0d0887\"],[0.1111111111111111,\"#46039f\"],[0.2222222222222222,\"#7201a8\"],[0.3333333333333333,\"#9c179e\"],[0.4444444444444444,\"#bd3786\"],[0.5555555555555556,\"#d8576b\"],[0.6666666666666666,\"#ed7953\"],[0.7777777777777778,\"#fb9f3a\"],[0.8888888888888888,\"#fdca26\"],[1.0,\"#f0f921\"]]}],\"mesh3d\":[{\"type\":\"mesh3d\",\"colorbar\":{\"outlinewidth\":0,\"ticks\":\"\"}}],\"scatter\":[{\"marker\":{\"line\":{\"color\":\"#283442\"}},\"type\":\"scatter\"}],\"parcoords\":[{\"type\":\"parcoords\",\"line\":{\"colorbar\":{\"outlinewidth\":0,\"ticks\":\"\"}}}],\"scatterpolargl\":[{\"type\":\"scatterpolargl\",\"marker\":{\"colorbar\":{\"outlinewidth\":0,\"ticks\":\"\"}}}],\"bar\":[{\"error_x\":{\"color\":\"#f2f5fa\"},\"error_y\":{\"color\":\"#f2f5fa\"},\"marker\":{\"line\":{\"color\":\"rgb(17,17,17)\",\"width\":0.5},\"pattern\":{\"fillmode\":\"overlay\",\"size\":10,\"solidity\":0.2}},\"type\":\"bar\"}],\"scattergeo\":[{\"type\":\"scattergeo\",\"marker\":{\"colorbar\":{\"outlinewidth\":0,\"ticks\":\"\"}}}],\"scatterpolar\":[{\"type\":\"scatterpolar\",\"marker\":{\"colorbar\":{\"outlinewidth\":0,\"ticks\":\"\"}}}],\"histogram\":[{\"marker\":{\"pattern\":{\"fillmode\":\"overlay\",\"size\":10,\"solidity\":0.2}},\"type\":\"histogram\"}],\"scattergl\":[{\"marker\":{\"line\":{\"color\":\"#283442\"}},\"type\":\"scattergl\"}],\"scatter3d\":[{\"type\":\"scatter3d\",\"line\":{\"colorbar\":{\"outlinewidth\":0,\"ticks\":\"\"}},\"marker\":{\"colorbar\":{\"outlinewidth\":0,\"ticks\":\"\"}}}],\"scattermapbox\":[{\"type\":\"scattermapbox\",\"marker\":{\"colorbar\":{\"outlinewidth\":0,\"ticks\":\"\"}}}],\"scatterternary\":[{\"type\":\"scatterternary\",\"marker\":{\"colorbar\":{\"outlinewidth\":0,\"ticks\":\"\"}}}],\"scattercarpet\":[{\"type\":\"scattercarpet\",\"marker\":{\"colorbar\":{\"outlinewidth\":0,\"ticks\":\"\"}}}],\"carpet\":[{\"aaxis\":{\"endlinecolor\":\"#A2B1C6\",\"gridcolor\":\"#506784\",\"linecolor\":\"#506784\",\"minorgridcolor\":\"#506784\",\"startlinecolor\":\"#A2B1C6\"},\"baxis\":{\"endlinecolor\":\"#A2B1C6\",\"gridcolor\":\"#506784\",\"linecolor\":\"#506784\",\"minorgridcolor\":\"#506784\",\"startlinecolor\":\"#A2B1C6\"},\"type\":\"carpet\"}],\"table\":[{\"cells\":{\"fill\":{\"color\":\"#506784\"},\"line\":{\"color\":\"rgb(17,17,17)\"}},\"header\":{\"fill\":{\"color\":\"#2a3f5f\"},\"line\":{\"color\":\"rgb(17,17,17)\"}},\"type\":\"table\"}],\"barpolar\":[{\"marker\":{\"line\":{\"color\":\"rgb(17,17,17)\",\"width\":0.5},\"pattern\":{\"fillmode\":\"overlay\",\"size\":10,\"solidity\":0.2}},\"type\":\"barpolar\"}],\"pie\":[{\"automargin\":true,\"type\":\"pie\"}]},\"layout\":{\"autotypenumbers\":\"strict\",\"colorway\":[\"#636efa\",\"#EF553B\",\"#00cc96\",\"#ab63fa\",\"#FFA15A\",\"#19d3f3\",\"#FF6692\",\"#B6E880\",\"#FF97FF\",\"#FECB52\"],\"font\":{\"color\":\"#f2f5fa\"},\"hovermode\":\"closest\",\"hoverlabel\":{\"align\":\"left\"},\"paper_bgcolor\":\"rgb(17,17,17)\",\"plot_bgcolor\":\"rgb(17,17,17)\",\"polar\":{\"bgcolor\":\"rgb(17,17,17)\",\"angularaxis\":{\"gridcolor\":\"#506784\",\"linecolor\":\"#506784\",\"ticks\":\"\"},\"radialaxis\":{\"gridcolor\":\"#506784\",\"linecolor\":\"#506784\",\"ticks\":\"\"}},\"ternary\":{\"bgcolor\":\"rgb(17,17,17)\",\"aaxis\":{\"gridcolor\":\"#506784\",\"linecolor\":\"#506784\",\"ticks\":\"\"},\"baxis\":{\"gridcolor\":\"#506784\",\"linecolor\":\"#506784\",\"ticks\":\"\"},\"caxis\":{\"gridcolor\":\"#506784\",\"linecolor\":\"#506784\",\"ticks\":\"\"}},\"coloraxis\":{\"colorbar\":{\"outlinewidth\":0,\"ticks\":\"\"}},\"colorscale\":{\"sequential\":[[0.0,\"#0d0887\"],[0.1111111111111111,\"#46039f\"],[0.2222222222222222,\"#7201a8\"],[0.3333333333333333,\"#9c179e\"],[0.4444444444444444,\"#bd3786\"],[0.5555555555555556,\"#d8576b\"],[0.6666666666666666,\"#ed7953\"],[0.7777777777777778,\"#fb9f3a\"],[0.8888888888888888,\"#fdca26\"],[1.0,\"#f0f921\"]],\"sequentialminus\":[[0.0,\"#0d0887\"],[0.1111111111111111,\"#46039f\"],[0.2222222222222222,\"#7201a8\"],[0.3333333333333333,\"#9c179e\"],[0.4444444444444444,\"#bd3786\"],[0.5555555555555556,\"#d8576b\"],[0.6666666666666666,\"#ed7953\"],[0.7777777777777778,\"#fb9f3a\"],[0.8888888888888888,\"#fdca26\"],[1.0,\"#f0f921\"]],\"diverging\":[[0,\"#8e0152\"],[0.1,\"#c51b7d\"],[0.2,\"#de77ae\"],[0.3,\"#f1b6da\"],[0.4,\"#fde0ef\"],[0.5,\"#f7f7f7\"],[0.6,\"#e6f5d0\"],[0.7,\"#b8e186\"],[0.8,\"#7fbc41\"],[0.9,\"#4d9221\"],[1,\"#276419\"]]},\"xaxis\":{\"gridcolor\":\"#283442\",\"linecolor\":\"#506784\",\"ticks\":\"\",\"title\":{\"standoff\":15},\"zerolinecolor\":\"#283442\",\"automargin\":true,\"zerolinewidth\":2},\"yaxis\":{\"gridcolor\":\"#283442\",\"linecolor\":\"#506784\",\"ticks\":\"\",\"title\":{\"standoff\":15},\"zerolinecolor\":\"#283442\",\"automargin\":true,\"zerolinewidth\":2},\"scene\":{\"xaxis\":{\"backgroundcolor\":\"rgb(17,17,17)\",\"gridcolor\":\"#506784\",\"linecolor\":\"#506784\",\"showbackground\":true,\"ticks\":\"\",\"zerolinecolor\":\"#C8D4E3\",\"gridwidth\":2},\"yaxis\":{\"backgroundcolor\":\"rgb(17,17,17)\",\"gridcolor\":\"#506784\",\"linecolor\":\"#506784\",\"showbackground\":true,\"ticks\":\"\",\"zerolinecolor\":\"#C8D4E3\",\"gridwidth\":2},\"zaxis\":{\"backgroundcolor\":\"rgb(17,17,17)\",\"gridcolor\":\"#506784\",\"linecolor\":\"#506784\",\"showbackground\":true,\"ticks\":\"\",\"zerolinecolor\":\"#C8D4E3\",\"gridwidth\":2}},\"shapedefaults\":{\"line\":{\"color\":\"#f2f5fa\"}},\"annotationdefaults\":{\"arrowcolor\":\"#f2f5fa\",\"arrowhead\":0,\"arrowwidth\":1},\"geo\":{\"bgcolor\":\"rgb(17,17,17)\",\"landcolor\":\"rgb(17,17,17)\",\"subunitcolor\":\"#506784\",\"showland\":true,\"showlakes\":true,\"lakecolor\":\"rgb(17,17,17)\"},\"title\":{\"x\":0.05},\"updatemenudefaults\":{\"bgcolor\":\"#506784\",\"borderwidth\":0},\"sliderdefaults\":{\"bgcolor\":\"#C8D4E3\",\"borderwidth\":1,\"bordercolor\":\"rgb(17,17,17)\",\"tickwidth\":0},\"mapbox\":{\"style\":\"dark\"}}},\"xaxis\":{\"anchor\":\"y\",\"domain\":[0.0,1.0],\"title\":{\"text\":\"x\"}},\"yaxis\":{\"anchor\":\"x\",\"domain\":[0.0,1.0],\"title\":{\"text\":\"y\"}},\"legend\":{\"tracegroupgap\":0},\"margin\":{\"t\":60}},                        {\"responsive\": true}                    ).then(function(){\n                            \nvar gd = document.getElementById('d896c1bb-c571-4e0a-b2a7-586f770ef0c0');\nvar x = new MutationObserver(function (mutations, observer) {{\n        var display = window.getComputedStyle(gd).display;\n        if (!display || display === 'none') {{\n            console.log([gd, 'removed!']);\n            Plotly.purge(gd);\n            observer.disconnect();\n        }}\n}});\n\n// Listen for the removal of the full notebook cells\nvar notebookContainer = gd.closest('#notebook-container');\nif (notebookContainer) {{\n    x.observe(notebookContainer, {childList: true});\n}}\n\n// Listen for the clearing of the current output cell\nvar outputEl = gd.closest('.output');\nif (outputEl) {{\n    x.observe(outputEl, {childList: true});\n}}\n\n                        })                };                });            </script>        </div>"
     },
     "metadata": {},
     "output_type": "display_data"
    }
   ],
   "source": [
    "grafico_s_rt = px.scatter(y=lista_lq, x=lista_vc)\n",
    "grafico_s_rt.show()"
   ]
  },
  {
   "cell_type": "code",
   "execution_count": 30,
   "metadata": {
    "pycharm": {
     "name": "#%%\n"
    }
   },
   "outputs": [],
   "source": [
    "rotulo = df['Setor']"
   ]
  },
  {
   "cell_type": "code",
   "execution_count": 31,
   "metadata": {
    "pycharm": {
     "name": "#%%\n"
    }
   },
   "outputs": [],
   "source": [
    "lista_lq = [] #liquidez_diaria\n",
    "lista_vc = [] #preço atual\n",
    "lista_rt = [] #rotulo\n",
    "for lq, vc, rt in zip(liquidez_valor,valor_cota, rotulo):\n",
    "    try:\n",
    "        vc = vc.split(' ')[-1]\n",
    "        vc = vc.replace(',', '.')\n",
    "        vc = float(vc)\n",
    "        lista_lq.append(lq)\n",
    "        lista_vc.append(vc)\n",
    "        lista_rt.append(rt)\n",
    "    except:\n",
    "        pass"
   ]
  },
  {
   "cell_type": "code",
   "execution_count": 32,
   "metadata": {
    "pycharm": {
     "name": "#%%\n"
    }
   },
   "outputs": [
    {
     "data": {
      "application/vnd.plotly.v1+json": {
       "data": [
        {
         "hovertemplate": "color=Shoppings<br>x=%{x}<br>y=%{y}<extra></extra>",
         "legendgroup": "Shoppings",
         "marker": {
          "color": "#636efa",
          "symbol": "circle"
         },
         "mode": "markers",
         "name": "Shoppings",
         "orientation": "v",
         "showlegend": true,
         "x": [
          3.23,
          80.03,
          4.75,
          28.45,
          64.25,
          92.0,
          118.38,
          56.6,
          76.74,
          796.0,
          73.61,
          109.41,
          82.78,
          216.0,
          94.25,
          79.7,
          111.49,
          6.14,
          86.47,
          103.56,
          92.0
         ],
         "xaxis": "x",
         "y": [
          1850.0,
          42.0,
          2642.0,
          5157.0,
          8700.0,
          639.0,
          1040.0,
          3407.0,
          214.0,
          81.0,
          830.0,
          11512.0,
          61.0,
          99782.0,
          30282.0,
          2387.0,
          21103.0,
          1152.0,
          1475.0,
          35243.0,
          639.0
         ],
         "yaxis": "y",
         "type": "scatter"
        },
        {
         "hovertemplate": "color=Títulos e Val. Mob.<br>x=%{x}<br>y=%{y}<extra></extra>",
         "legendgroup": "Títulos e Val. Mob.",
         "marker": {
          "color": "#EF553B",
          "symbol": "circle"
         },
         "mode": "markers",
         "name": "Títulos e Val. Mob.",
         "orientation": "v",
         "showlegend": true,
         "x": [
          17.0,
          93.0,
          950.0,
          7.5,
          66.4,
          96.54,
          89.79,
          76.93,
          101.75,
          94.0,
          97.06,
          95.8,
          102.4,
          85.6,
          107.35,
          93.97,
          83.44,
          79.99,
          94.03,
          9.0,
          97.0,
          84.7,
          109.3,
          95.54,
          91.4,
          100.0,
          92.44,
          90.11,
          88.88,
          86.0,
          9.87,
          272.0,
          8.15,
          93.82,
          86.48,
          78.04,
          104.71,
          102.0,
          82.59,
          81.89,
          85.99,
          8.45,
          70.94,
          57.54,
          27.15,
          104.3,
          90.9,
          51.0,
          7.67,
          0.0,
          77.91,
          110.0,
          73.99,
          7.82,
          65.2,
          94.64,
          91.52,
          94.98,
          88.4,
          71.68,
          96.49,
          89.35,
          90.19,
          80.66,
          89.89,
          76.47,
          90.6,
          99.71,
          103.01,
          91.15,
          10.07,
          10.08,
          97.4,
          9.19,
          81.41,
          103.41,
          93.77,
          100.15,
          67.11,
          71.69,
          73.77,
          91.6,
          87.5,
          97.0,
          97.0,
          9.8,
          93.88,
          88.94,
          85.98,
          77.11,
          10.07,
          10.25
         ],
         "xaxis": "x",
         "y": [
          1.0,
          3.0,
          240.0,
          1.0,
          1924.0,
          4632.0,
          4554.0,
          2188.0,
          12638.0,
          669.0,
          22959.0,
          12195.0,
          167209.0,
          32320.0,
          16616.0,
          12.0,
          492.0,
          15476.0,
          25868.0,
          64664.0,
          7605.0,
          4874.0,
          5323.0,
          28692.0,
          60085.0,
          4453.0,
          16453.0,
          9739.0,
          3168.0,
          31.0,
          434538.0,
          32.0,
          35887.0,
          5419.0,
          1419.0,
          39.0,
          46659.0,
          151.0,
          847.0,
          5552.0,
          10399.0,
          84173.0,
          8802.0,
          2013.0,
          173.0,
          7903.0,
          4735.0,
          752.0,
          10746.0,
          0.0,
          1423.0,
          2239.0,
          20.0,
          36864.0,
          28779.0,
          26659.0,
          6722.0,
          3548.0,
          6332.0,
          31804.0,
          265.0,
          58588.0,
          32127.0,
          1129.0,
          1897.0,
          65640.0,
          176649.0,
          9839.0,
          58106.0,
          80488.0,
          257729.0,
          195289.0,
          33669.0,
          162524.0,
          986.0,
          720.0,
          995.0,
          8459.0,
          2476.0,
          435.0,
          6031.0,
          768.0,
          5058.0,
          6653.0,
          3.0,
          1067.0,
          869.0,
          4081.0,
          948.0,
          2264.0,
          271899.0,
          151848.0
         ],
         "yaxis": "y",
         "type": "scatter"
        },
        {
         "hovertemplate": "color=Lajes Corporativas<br>x=%{x}<br>y=%{y}<extra></extra>",
         "legendgroup": "Lajes Corporativas",
         "marker": {
          "color": "#00cc96",
          "symbol": "circle"
         },
         "mode": "markers",
         "name": "Lajes Corporativas",
         "orientation": "v",
         "showlegend": true,
         "x": [
          7.25,
          910.0,
          165.0,
          35.21,
          122.0,
          784.0,
          64.99,
          83.0,
          95.6,
          12.21,
          144.12,
          51.93,
          99.0,
          44.3,
          44.83,
          105.49,
          205.99,
          262.0,
          93.0,
          58.67,
          84.82,
          44.3,
          17.85,
          78.03,
          81.8,
          91.9,
          50.0,
          75.8,
          208.05,
          108.81,
          79.07,
          171.99,
          146.97,
          59.95,
          100.97,
          90.0,
          111.0,
          33.06,
          18.02
         ],
         "xaxis": "x",
         "y": [
          1088.0,
          18.0,
          200.0,
          38.0,
          626.0,
          4.0,
          3.0,
          15.0,
          5.0,
          45.0,
          12052.0,
          2939.0,
          66358.0,
          5917.0,
          252.0,
          274.0,
          1.0,
          2557.0,
          11.0,
          476.0,
          3693.0,
          2217.0,
          9013.0,
          2928.0,
          2980.0,
          14242.0,
          20245.0,
          21566.0,
          30.0,
          17.0,
          9534.0,
          166.0,
          2736.0,
          108.0,
          4361.0,
          3.0,
          140.0,
          142.0,
          3507.0
         ],
         "yaxis": "y",
         "type": "scatter"
        },
        {
         "hovertemplate": "color=Híbrido<br>x=%{x}<br>y=%{y}<extra></extra>",
         "legendgroup": "Híbrido",
         "marker": {
          "color": "#ab63fa",
          "symbol": "circle"
         },
         "mode": "markers",
         "name": "Híbrido",
         "orientation": "v",
         "showlegend": true,
         "x": [
          7.3,
          36.71,
          1.03,
          3.99,
          0.0,
          152.8,
          81.0,
          89.1,
          89.2,
          88.55,
          89.31,
          88.83,
          88.66,
          88.3,
          88.24,
          101.0,
          101.5,
          87.75,
          66.58,
          65.5,
          101.35,
          98.4,
          10.3,
          101.38,
          68.97,
          74.9,
          483.0,
          86.35,
          9.15,
          87.2,
          41.3,
          95.55,
          0.0,
          129.35,
          100.0,
          105.3,
          84.0,
          100.99,
          9.8,
          69.93,
          129.89,
          10.08,
          10.03,
          10.04,
          10.04,
          10.06,
          10.02,
          10.04,
          10.03,
          97.89,
          100.13,
          69.79,
          76.29,
          61.39,
          84.0,
          74.97,
          102.18,
          9.58,
          150.0,
          100.18,
          66.48,
          96.49
         ],
         "xaxis": "x",
         "y": [
          4.0,
          60.0,
          332.0,
          6391.0,
          0.0,
          14531.0,
          412.0,
          177.0,
          4779.0,
          2738.0,
          2315.0,
          6123.0,
          2350.0,
          9724.0,
          3488.0,
          468.0,
          2211.0,
          37813.0,
          121.0,
          2207.0,
          10187.0,
          1088.0,
          592771.0,
          618.0,
          626.0,
          7351.0,
          417.0,
          3061.0,
          6414.0,
          91.0,
          499.0,
          174.0,
          0.0,
          39967.0,
          248.0,
          31438.0,
          10546.0,
          4950.0,
          172058.0,
          299.0,
          626.0,
          11424.0,
          18597.0,
          31943.0,
          26907.0,
          66447.0,
          40990.0,
          40677.0,
          20744.0,
          1785.0,
          3809.0,
          40651.0,
          612.0,
          11541.0,
          1462.0,
          5310.0,
          1230.0,
          7908.0,
          334.0,
          10441.0,
          554.0,
          4741.0
         ],
         "yaxis": "y",
         "type": "scatter"
        },
        {
         "hovertemplate": "color=Hotel<br>x=%{x}<br>y=%{y}<extra></extra>",
         "legendgroup": "Hotel",
         "marker": {
          "color": "#FFA15A",
          "symbol": "circle"
         },
         "mode": "markers",
         "name": "Hotel",
         "orientation": "v",
         "showlegend": true,
         "x": [
          116.69,
          113.0,
          69.55
         ],
         "xaxis": "x",
         "y": [
          1959.0,
          207.0,
          332.0
         ],
         "yaxis": "y",
         "type": "scatter"
        },
        {
         "hovertemplate": "color=Residencial<br>x=%{x}<br>y=%{y}<extra></extra>",
         "legendgroup": "Residencial",
         "marker": {
          "color": "#19d3f3",
          "symbol": "circle"
         },
         "mode": "markers",
         "name": "Residencial",
         "orientation": "v",
         "showlegend": true,
         "x": [
          0.0,
          0.99,
          3.5,
          87.9,
          68.21,
          0.0,
          79.4,
          9.25,
          80.92,
          72.29
         ],
         "xaxis": "x",
         "y": [
          0.0,
          1813.0,
          329.0,
          1.0,
          40.0,
          0.0,
          300.0,
          5415.0,
          2054.0,
          3183.0
         ],
         "yaxis": "y",
         "type": "scatter"
        },
        {
         "hovertemplate": "color=Outros<br>x=%{x}<br>y=%{y}<extra></extra>",
         "legendgroup": "Outros",
         "marker": {
          "color": "#FF6692",
          "symbol": "circle"
         },
         "mode": "markers",
         "name": "Outros",
         "orientation": "v",
         "showlegend": true,
         "x": [
          47.0,
          923.0,
          8.1,
          84.5,
          85.05,
          87.72,
          136.81,
          0.0,
          103.1,
          7.67,
          124.5,
          39.99,
          97.07,
          86.5,
          112.0,
          125.71,
          45.9,
          11.63,
          102.11,
          115.12,
          0.0,
          47.19,
          80.72,
          680.0,
          101.88,
          66.7,
          153.5,
          60.3,
          82.8,
          9.14,
          90.05,
          100.45,
          124.0,
          76.6,
          82.9,
          91.49
         ],
         "xaxis": "x",
         "y": [
          1260.0,
          8830.0,
          88584.0,
          189.0,
          2911.0,
          141579.0,
          866.0,
          0.0,
          84655.0,
          83391.0,
          787.0,
          291.0,
          10083.0,
          810.0,
          52.0,
          45225.0,
          12136.0,
          128.0,
          1670.0,
          60434.0,
          0.0,
          5371.0,
          830.0,
          236.0,
          55935.0,
          5610.0,
          891.0,
          14870.0,
          1029.0,
          60356.0,
          30997.0,
          8556.0,
          2332.0,
          21.0,
          5769.0,
          5.0
         ],
         "yaxis": "y",
         "type": "scatter"
        },
        {
         "hovertemplate": "color=Hospital<br>x=%{x}<br>y=%{y}<extra></extra>",
         "legendgroup": "Hospital",
         "marker": {
          "color": "#B6E880",
          "symbol": "circle"
         },
         "mode": "markers",
         "name": "Hospital",
         "orientation": "v",
         "showlegend": true,
         "x": [
          228.0,
          10.0,
          179.22
         ],
         "xaxis": "x",
         "y": [
          164.0,
          624.0,
          205.0
         ],
         "yaxis": "y",
         "type": "scatter"
        },
        {
         "hovertemplate": "color=Logística<br>x=%{x}<br>y=%{y}<extra></extra>",
         "legendgroup": "Logística",
         "marker": {
          "color": "#FF97FF",
          "symbol": "circle"
         },
         "mode": "markers",
         "name": "Logística",
         "orientation": "v",
         "showlegend": true,
         "x": [
          103.0,
          84.55,
          55.95,
          109.87,
          79.74,
          116.0,
          108.5,
          96.3,
          110.43,
          163.01,
          171.5,
          97.1,
          97.82,
          98.0,
          230.93,
          98.4,
          119.75,
          86.73,
          93.68,
          44.37,
          117.23,
          94.28,
          94.06,
          93.97,
          93.72,
          93.31,
          93.52,
          94.17,
          94.15
         ],
         "xaxis": "x",
         "y": [
          36726.0,
          1535.0,
          1.0,
          44767.0,
          1668.0,
          136034.0,
          76823.0,
          2040.0,
          15294.0,
          497.0,
          32937.0,
          564.0,
          4209.0,
          12380.0,
          133.0,
          1.0,
          11123.0,
          7913.0,
          4096.0,
          731.0,
          11968.0,
          1419.0,
          3047.0,
          1356.0,
          4356.0,
          6678.0,
          2670.0,
          2323.0,
          4019.0
         ],
         "yaxis": "y",
         "type": "scatter"
        }
       ],
       "layout": {
        "template": {
         "data": {
          "histogram2dcontour": [
           {
            "type": "histogram2dcontour",
            "colorbar": {
             "outlinewidth": 0,
             "ticks": ""
            },
            "colorscale": [
             [
              0.0,
              "#0d0887"
             ],
             [
              0.1111111111111111,
              "#46039f"
             ],
             [
              0.2222222222222222,
              "#7201a8"
             ],
             [
              0.3333333333333333,
              "#9c179e"
             ],
             [
              0.4444444444444444,
              "#bd3786"
             ],
             [
              0.5555555555555556,
              "#d8576b"
             ],
             [
              0.6666666666666666,
              "#ed7953"
             ],
             [
              0.7777777777777778,
              "#fb9f3a"
             ],
             [
              0.8888888888888888,
              "#fdca26"
             ],
             [
              1.0,
              "#f0f921"
             ]
            ]
           }
          ],
          "choropleth": [
           {
            "type": "choropleth",
            "colorbar": {
             "outlinewidth": 0,
             "ticks": ""
            }
           }
          ],
          "histogram2d": [
           {
            "type": "histogram2d",
            "colorbar": {
             "outlinewidth": 0,
             "ticks": ""
            },
            "colorscale": [
             [
              0.0,
              "#0d0887"
             ],
             [
              0.1111111111111111,
              "#46039f"
             ],
             [
              0.2222222222222222,
              "#7201a8"
             ],
             [
              0.3333333333333333,
              "#9c179e"
             ],
             [
              0.4444444444444444,
              "#bd3786"
             ],
             [
              0.5555555555555556,
              "#d8576b"
             ],
             [
              0.6666666666666666,
              "#ed7953"
             ],
             [
              0.7777777777777778,
              "#fb9f3a"
             ],
             [
              0.8888888888888888,
              "#fdca26"
             ],
             [
              1.0,
              "#f0f921"
             ]
            ]
           }
          ],
          "heatmap": [
           {
            "type": "heatmap",
            "colorbar": {
             "outlinewidth": 0,
             "ticks": ""
            },
            "colorscale": [
             [
              0.0,
              "#0d0887"
             ],
             [
              0.1111111111111111,
              "#46039f"
             ],
             [
              0.2222222222222222,
              "#7201a8"
             ],
             [
              0.3333333333333333,
              "#9c179e"
             ],
             [
              0.4444444444444444,
              "#bd3786"
             ],
             [
              0.5555555555555556,
              "#d8576b"
             ],
             [
              0.6666666666666666,
              "#ed7953"
             ],
             [
              0.7777777777777778,
              "#fb9f3a"
             ],
             [
              0.8888888888888888,
              "#fdca26"
             ],
             [
              1.0,
              "#f0f921"
             ]
            ]
           }
          ],
          "heatmapgl": [
           {
            "type": "heatmapgl",
            "colorbar": {
             "outlinewidth": 0,
             "ticks": ""
            },
            "colorscale": [
             [
              0.0,
              "#0d0887"
             ],
             [
              0.1111111111111111,
              "#46039f"
             ],
             [
              0.2222222222222222,
              "#7201a8"
             ],
             [
              0.3333333333333333,
              "#9c179e"
             ],
             [
              0.4444444444444444,
              "#bd3786"
             ],
             [
              0.5555555555555556,
              "#d8576b"
             ],
             [
              0.6666666666666666,
              "#ed7953"
             ],
             [
              0.7777777777777778,
              "#fb9f3a"
             ],
             [
              0.8888888888888888,
              "#fdca26"
             ],
             [
              1.0,
              "#f0f921"
             ]
            ]
           }
          ],
          "contourcarpet": [
           {
            "type": "contourcarpet",
            "colorbar": {
             "outlinewidth": 0,
             "ticks": ""
            }
           }
          ],
          "contour": [
           {
            "type": "contour",
            "colorbar": {
             "outlinewidth": 0,
             "ticks": ""
            },
            "colorscale": [
             [
              0.0,
              "#0d0887"
             ],
             [
              0.1111111111111111,
              "#46039f"
             ],
             [
              0.2222222222222222,
              "#7201a8"
             ],
             [
              0.3333333333333333,
              "#9c179e"
             ],
             [
              0.4444444444444444,
              "#bd3786"
             ],
             [
              0.5555555555555556,
              "#d8576b"
             ],
             [
              0.6666666666666666,
              "#ed7953"
             ],
             [
              0.7777777777777778,
              "#fb9f3a"
             ],
             [
              0.8888888888888888,
              "#fdca26"
             ],
             [
              1.0,
              "#f0f921"
             ]
            ]
           }
          ],
          "surface": [
           {
            "type": "surface",
            "colorbar": {
             "outlinewidth": 0,
             "ticks": ""
            },
            "colorscale": [
             [
              0.0,
              "#0d0887"
             ],
             [
              0.1111111111111111,
              "#46039f"
             ],
             [
              0.2222222222222222,
              "#7201a8"
             ],
             [
              0.3333333333333333,
              "#9c179e"
             ],
             [
              0.4444444444444444,
              "#bd3786"
             ],
             [
              0.5555555555555556,
              "#d8576b"
             ],
             [
              0.6666666666666666,
              "#ed7953"
             ],
             [
              0.7777777777777778,
              "#fb9f3a"
             ],
             [
              0.8888888888888888,
              "#fdca26"
             ],
             [
              1.0,
              "#f0f921"
             ]
            ]
           }
          ],
          "mesh3d": [
           {
            "type": "mesh3d",
            "colorbar": {
             "outlinewidth": 0,
             "ticks": ""
            }
           }
          ],
          "scatter": [
           {
            "marker": {
             "line": {
              "color": "#283442"
             }
            },
            "type": "scatter"
           }
          ],
          "parcoords": [
           {
            "type": "parcoords",
            "line": {
             "colorbar": {
              "outlinewidth": 0,
              "ticks": ""
             }
            }
           }
          ],
          "scatterpolargl": [
           {
            "type": "scatterpolargl",
            "marker": {
             "colorbar": {
              "outlinewidth": 0,
              "ticks": ""
             }
            }
           }
          ],
          "bar": [
           {
            "error_x": {
             "color": "#f2f5fa"
            },
            "error_y": {
             "color": "#f2f5fa"
            },
            "marker": {
             "line": {
              "color": "rgb(17,17,17)",
              "width": 0.5
             },
             "pattern": {
              "fillmode": "overlay",
              "size": 10,
              "solidity": 0.2
             }
            },
            "type": "bar"
           }
          ],
          "scattergeo": [
           {
            "type": "scattergeo",
            "marker": {
             "colorbar": {
              "outlinewidth": 0,
              "ticks": ""
             }
            }
           }
          ],
          "scatterpolar": [
           {
            "type": "scatterpolar",
            "marker": {
             "colorbar": {
              "outlinewidth": 0,
              "ticks": ""
             }
            }
           }
          ],
          "histogram": [
           {
            "marker": {
             "pattern": {
              "fillmode": "overlay",
              "size": 10,
              "solidity": 0.2
             }
            },
            "type": "histogram"
           }
          ],
          "scattergl": [
           {
            "marker": {
             "line": {
              "color": "#283442"
             }
            },
            "type": "scattergl"
           }
          ],
          "scatter3d": [
           {
            "type": "scatter3d",
            "line": {
             "colorbar": {
              "outlinewidth": 0,
              "ticks": ""
             }
            },
            "marker": {
             "colorbar": {
              "outlinewidth": 0,
              "ticks": ""
             }
            }
           }
          ],
          "scattermapbox": [
           {
            "type": "scattermapbox",
            "marker": {
             "colorbar": {
              "outlinewidth": 0,
              "ticks": ""
             }
            }
           }
          ],
          "scatterternary": [
           {
            "type": "scatterternary",
            "marker": {
             "colorbar": {
              "outlinewidth": 0,
              "ticks": ""
             }
            }
           }
          ],
          "scattercarpet": [
           {
            "type": "scattercarpet",
            "marker": {
             "colorbar": {
              "outlinewidth": 0,
              "ticks": ""
             }
            }
           }
          ],
          "carpet": [
           {
            "aaxis": {
             "endlinecolor": "#A2B1C6",
             "gridcolor": "#506784",
             "linecolor": "#506784",
             "minorgridcolor": "#506784",
             "startlinecolor": "#A2B1C6"
            },
            "baxis": {
             "endlinecolor": "#A2B1C6",
             "gridcolor": "#506784",
             "linecolor": "#506784",
             "minorgridcolor": "#506784",
             "startlinecolor": "#A2B1C6"
            },
            "type": "carpet"
           }
          ],
          "table": [
           {
            "cells": {
             "fill": {
              "color": "#506784"
             },
             "line": {
              "color": "rgb(17,17,17)"
             }
            },
            "header": {
             "fill": {
              "color": "#2a3f5f"
             },
             "line": {
              "color": "rgb(17,17,17)"
             }
            },
            "type": "table"
           }
          ],
          "barpolar": [
           {
            "marker": {
             "line": {
              "color": "rgb(17,17,17)",
              "width": 0.5
             },
             "pattern": {
              "fillmode": "overlay",
              "size": 10,
              "solidity": 0.2
             }
            },
            "type": "barpolar"
           }
          ],
          "pie": [
           {
            "automargin": true,
            "type": "pie"
           }
          ]
         },
         "layout": {
          "autotypenumbers": "strict",
          "colorway": [
           "#636efa",
           "#EF553B",
           "#00cc96",
           "#ab63fa",
           "#FFA15A",
           "#19d3f3",
           "#FF6692",
           "#B6E880",
           "#FF97FF",
           "#FECB52"
          ],
          "font": {
           "color": "#f2f5fa"
          },
          "hovermode": "closest",
          "hoverlabel": {
           "align": "left"
          },
          "paper_bgcolor": "rgb(17,17,17)",
          "plot_bgcolor": "rgb(17,17,17)",
          "polar": {
           "bgcolor": "rgb(17,17,17)",
           "angularaxis": {
            "gridcolor": "#506784",
            "linecolor": "#506784",
            "ticks": ""
           },
           "radialaxis": {
            "gridcolor": "#506784",
            "linecolor": "#506784",
            "ticks": ""
           }
          },
          "ternary": {
           "bgcolor": "rgb(17,17,17)",
           "aaxis": {
            "gridcolor": "#506784",
            "linecolor": "#506784",
            "ticks": ""
           },
           "baxis": {
            "gridcolor": "#506784",
            "linecolor": "#506784",
            "ticks": ""
           },
           "caxis": {
            "gridcolor": "#506784",
            "linecolor": "#506784",
            "ticks": ""
           }
          },
          "coloraxis": {
           "colorbar": {
            "outlinewidth": 0,
            "ticks": ""
           }
          },
          "colorscale": {
           "sequential": [
            [
             0.0,
             "#0d0887"
            ],
            [
             0.1111111111111111,
             "#46039f"
            ],
            [
             0.2222222222222222,
             "#7201a8"
            ],
            [
             0.3333333333333333,
             "#9c179e"
            ],
            [
             0.4444444444444444,
             "#bd3786"
            ],
            [
             0.5555555555555556,
             "#d8576b"
            ],
            [
             0.6666666666666666,
             "#ed7953"
            ],
            [
             0.7777777777777778,
             "#fb9f3a"
            ],
            [
             0.8888888888888888,
             "#fdca26"
            ],
            [
             1.0,
             "#f0f921"
            ]
           ],
           "sequentialminus": [
            [
             0.0,
             "#0d0887"
            ],
            [
             0.1111111111111111,
             "#46039f"
            ],
            [
             0.2222222222222222,
             "#7201a8"
            ],
            [
             0.3333333333333333,
             "#9c179e"
            ],
            [
             0.4444444444444444,
             "#bd3786"
            ],
            [
             0.5555555555555556,
             "#d8576b"
            ],
            [
             0.6666666666666666,
             "#ed7953"
            ],
            [
             0.7777777777777778,
             "#fb9f3a"
            ],
            [
             0.8888888888888888,
             "#fdca26"
            ],
            [
             1.0,
             "#f0f921"
            ]
           ],
           "diverging": [
            [
             0,
             "#8e0152"
            ],
            [
             0.1,
             "#c51b7d"
            ],
            [
             0.2,
             "#de77ae"
            ],
            [
             0.3,
             "#f1b6da"
            ],
            [
             0.4,
             "#fde0ef"
            ],
            [
             0.5,
             "#f7f7f7"
            ],
            [
             0.6,
             "#e6f5d0"
            ],
            [
             0.7,
             "#b8e186"
            ],
            [
             0.8,
             "#7fbc41"
            ],
            [
             0.9,
             "#4d9221"
            ],
            [
             1,
             "#276419"
            ]
           ]
          },
          "xaxis": {
           "gridcolor": "#283442",
           "linecolor": "#506784",
           "ticks": "",
           "title": {
            "standoff": 15
           },
           "zerolinecolor": "#283442",
           "automargin": true,
           "zerolinewidth": 2
          },
          "yaxis": {
           "gridcolor": "#283442",
           "linecolor": "#506784",
           "ticks": "",
           "title": {
            "standoff": 15
           },
           "zerolinecolor": "#283442",
           "automargin": true,
           "zerolinewidth": 2
          },
          "scene": {
           "xaxis": {
            "backgroundcolor": "rgb(17,17,17)",
            "gridcolor": "#506784",
            "linecolor": "#506784",
            "showbackground": true,
            "ticks": "",
            "zerolinecolor": "#C8D4E3",
            "gridwidth": 2
           },
           "yaxis": {
            "backgroundcolor": "rgb(17,17,17)",
            "gridcolor": "#506784",
            "linecolor": "#506784",
            "showbackground": true,
            "ticks": "",
            "zerolinecolor": "#C8D4E3",
            "gridwidth": 2
           },
           "zaxis": {
            "backgroundcolor": "rgb(17,17,17)",
            "gridcolor": "#506784",
            "linecolor": "#506784",
            "showbackground": true,
            "ticks": "",
            "zerolinecolor": "#C8D4E3",
            "gridwidth": 2
           }
          },
          "shapedefaults": {
           "line": {
            "color": "#f2f5fa"
           }
          },
          "annotationdefaults": {
           "arrowcolor": "#f2f5fa",
           "arrowhead": 0,
           "arrowwidth": 1
          },
          "geo": {
           "bgcolor": "rgb(17,17,17)",
           "landcolor": "rgb(17,17,17)",
           "subunitcolor": "#506784",
           "showland": true,
           "showlakes": true,
           "lakecolor": "rgb(17,17,17)"
          },
          "title": {
           "x": 0.05
          },
          "updatemenudefaults": {
           "bgcolor": "#506784",
           "borderwidth": 0
          },
          "sliderdefaults": {
           "bgcolor": "#C8D4E3",
           "borderwidth": 1,
           "bordercolor": "rgb(17,17,17)",
           "tickwidth": 0
          },
          "mapbox": {
           "style": "dark"
          }
         }
        },
        "xaxis": {
         "anchor": "y",
         "domain": [
          0.0,
          1.0
         ],
         "title": {
          "text": "x"
         }
        },
        "yaxis": {
         "anchor": "x",
         "domain": [
          0.0,
          1.0
         ],
         "title": {
          "text": "y"
         }
        },
        "legend": {
         "title": {
          "text": "color"
         },
         "tracegroupgap": 0
        },
        "margin": {
         "t": 60
        }
       },
       "config": {
        "plotlyServerURL": "https://plot.ly"
       }
      },
      "text/html": "<div>                            <div id=\"9a4274ee-1de8-4cc4-8a8b-aa4c1d905d95\" class=\"plotly-graph-div\" style=\"height:525px; width:100%;\"></div>            <script type=\"text/javascript\">                require([\"plotly\"], function(Plotly) {                    window.PLOTLYENV=window.PLOTLYENV || {};                                    if (document.getElementById(\"9a4274ee-1de8-4cc4-8a8b-aa4c1d905d95\")) {                    Plotly.newPlot(                        \"9a4274ee-1de8-4cc4-8a8b-aa4c1d905d95\",                        [{\"hovertemplate\":\"color=Shoppings<br>x=%{x}<br>y=%{y}<extra></extra>\",\"legendgroup\":\"Shoppings\",\"marker\":{\"color\":\"#636efa\",\"symbol\":\"circle\"},\"mode\":\"markers\",\"name\":\"Shoppings\",\"orientation\":\"v\",\"showlegend\":true,\"x\":[3.23,80.03,4.75,28.45,64.25,92.0,118.38,56.6,76.74,796.0,73.61,109.41,82.78,216.0,94.25,79.7,111.49,6.14,86.47,103.56,92.0],\"xaxis\":\"x\",\"y\":[1850.0,42.0,2642.0,5157.0,8700.0,639.0,1040.0,3407.0,214.0,81.0,830.0,11512.0,61.0,99782.0,30282.0,2387.0,21103.0,1152.0,1475.0,35243.0,639.0],\"yaxis\":\"y\",\"type\":\"scatter\"},{\"hovertemplate\":\"color=T\\u00edtulos e Val. Mob.<br>x=%{x}<br>y=%{y}<extra></extra>\",\"legendgroup\":\"T\\u00edtulos e Val. Mob.\",\"marker\":{\"color\":\"#EF553B\",\"symbol\":\"circle\"},\"mode\":\"markers\",\"name\":\"T\\u00edtulos e Val. Mob.\",\"orientation\":\"v\",\"showlegend\":true,\"x\":[17.0,93.0,950.0,7.5,66.4,96.54,89.79,76.93,101.75,94.0,97.06,95.8,102.4,85.6,107.35,93.97,83.44,79.99,94.03,9.0,97.0,84.7,109.3,95.54,91.4,100.0,92.44,90.11,88.88,86.0,9.87,272.0,8.15,93.82,86.48,78.04,104.71,102.0,82.59,81.89,85.99,8.45,70.94,57.54,27.15,104.3,90.9,51.0,7.67,0.0,77.91,110.0,73.99,7.82,65.2,94.64,91.52,94.98,88.4,71.68,96.49,89.35,90.19,80.66,89.89,76.47,90.6,99.71,103.01,91.15,10.07,10.08,97.4,9.19,81.41,103.41,93.77,100.15,67.11,71.69,73.77,91.6,87.5,97.0,97.0,9.8,93.88,88.94,85.98,77.11,10.07,10.25],\"xaxis\":\"x\",\"y\":[1.0,3.0,240.0,1.0,1924.0,4632.0,4554.0,2188.0,12638.0,669.0,22959.0,12195.0,167209.0,32320.0,16616.0,12.0,492.0,15476.0,25868.0,64664.0,7605.0,4874.0,5323.0,28692.0,60085.0,4453.0,16453.0,9739.0,3168.0,31.0,434538.0,32.0,35887.0,5419.0,1419.0,39.0,46659.0,151.0,847.0,5552.0,10399.0,84173.0,8802.0,2013.0,173.0,7903.0,4735.0,752.0,10746.0,0.0,1423.0,2239.0,20.0,36864.0,28779.0,26659.0,6722.0,3548.0,6332.0,31804.0,265.0,58588.0,32127.0,1129.0,1897.0,65640.0,176649.0,9839.0,58106.0,80488.0,257729.0,195289.0,33669.0,162524.0,986.0,720.0,995.0,8459.0,2476.0,435.0,6031.0,768.0,5058.0,6653.0,3.0,1067.0,869.0,4081.0,948.0,2264.0,271899.0,151848.0],\"yaxis\":\"y\",\"type\":\"scatter\"},{\"hovertemplate\":\"color=Lajes Corporativas<br>x=%{x}<br>y=%{y}<extra></extra>\",\"legendgroup\":\"Lajes Corporativas\",\"marker\":{\"color\":\"#00cc96\",\"symbol\":\"circle\"},\"mode\":\"markers\",\"name\":\"Lajes Corporativas\",\"orientation\":\"v\",\"showlegend\":true,\"x\":[7.25,910.0,165.0,35.21,122.0,784.0,64.99,83.0,95.6,12.21,144.12,51.93,99.0,44.3,44.83,105.49,205.99,262.0,93.0,58.67,84.82,44.3,17.85,78.03,81.8,91.9,50.0,75.8,208.05,108.81,79.07,171.99,146.97,59.95,100.97,90.0,111.0,33.06,18.02],\"xaxis\":\"x\",\"y\":[1088.0,18.0,200.0,38.0,626.0,4.0,3.0,15.0,5.0,45.0,12052.0,2939.0,66358.0,5917.0,252.0,274.0,1.0,2557.0,11.0,476.0,3693.0,2217.0,9013.0,2928.0,2980.0,14242.0,20245.0,21566.0,30.0,17.0,9534.0,166.0,2736.0,108.0,4361.0,3.0,140.0,142.0,3507.0],\"yaxis\":\"y\",\"type\":\"scatter\"},{\"hovertemplate\":\"color=H\\u00edbrido<br>x=%{x}<br>y=%{y}<extra></extra>\",\"legendgroup\":\"H\\u00edbrido\",\"marker\":{\"color\":\"#ab63fa\",\"symbol\":\"circle\"},\"mode\":\"markers\",\"name\":\"H\\u00edbrido\",\"orientation\":\"v\",\"showlegend\":true,\"x\":[7.3,36.71,1.03,3.99,0.0,152.8,81.0,89.1,89.2,88.55,89.31,88.83,88.66,88.3,88.24,101.0,101.5,87.75,66.58,65.5,101.35,98.4,10.3,101.38,68.97,74.9,483.0,86.35,9.15,87.2,41.3,95.55,0.0,129.35,100.0,105.3,84.0,100.99,9.8,69.93,129.89,10.08,10.03,10.04,10.04,10.06,10.02,10.04,10.03,97.89,100.13,69.79,76.29,61.39,84.0,74.97,102.18,9.58,150.0,100.18,66.48,96.49],\"xaxis\":\"x\",\"y\":[4.0,60.0,332.0,6391.0,0.0,14531.0,412.0,177.0,4779.0,2738.0,2315.0,6123.0,2350.0,9724.0,3488.0,468.0,2211.0,37813.0,121.0,2207.0,10187.0,1088.0,592771.0,618.0,626.0,7351.0,417.0,3061.0,6414.0,91.0,499.0,174.0,0.0,39967.0,248.0,31438.0,10546.0,4950.0,172058.0,299.0,626.0,11424.0,18597.0,31943.0,26907.0,66447.0,40990.0,40677.0,20744.0,1785.0,3809.0,40651.0,612.0,11541.0,1462.0,5310.0,1230.0,7908.0,334.0,10441.0,554.0,4741.0],\"yaxis\":\"y\",\"type\":\"scatter\"},{\"hovertemplate\":\"color=Hotel<br>x=%{x}<br>y=%{y}<extra></extra>\",\"legendgroup\":\"Hotel\",\"marker\":{\"color\":\"#FFA15A\",\"symbol\":\"circle\"},\"mode\":\"markers\",\"name\":\"Hotel\",\"orientation\":\"v\",\"showlegend\":true,\"x\":[116.69,113.0,69.55],\"xaxis\":\"x\",\"y\":[1959.0,207.0,332.0],\"yaxis\":\"y\",\"type\":\"scatter\"},{\"hovertemplate\":\"color=Residencial<br>x=%{x}<br>y=%{y}<extra></extra>\",\"legendgroup\":\"Residencial\",\"marker\":{\"color\":\"#19d3f3\",\"symbol\":\"circle\"},\"mode\":\"markers\",\"name\":\"Residencial\",\"orientation\":\"v\",\"showlegend\":true,\"x\":[0.0,0.99,3.5,87.9,68.21,0.0,79.4,9.25,80.92,72.29],\"xaxis\":\"x\",\"y\":[0.0,1813.0,329.0,1.0,40.0,0.0,300.0,5415.0,2054.0,3183.0],\"yaxis\":\"y\",\"type\":\"scatter\"},{\"hovertemplate\":\"color=Outros<br>x=%{x}<br>y=%{y}<extra></extra>\",\"legendgroup\":\"Outros\",\"marker\":{\"color\":\"#FF6692\",\"symbol\":\"circle\"},\"mode\":\"markers\",\"name\":\"Outros\",\"orientation\":\"v\",\"showlegend\":true,\"x\":[47.0,923.0,8.1,84.5,85.05,87.72,136.81,0.0,103.1,7.67,124.5,39.99,97.07,86.5,112.0,125.71,45.9,11.63,102.11,115.12,0.0,47.19,80.72,680.0,101.88,66.7,153.5,60.3,82.8,9.14,90.05,100.45,124.0,76.6,82.9,91.49],\"xaxis\":\"x\",\"y\":[1260.0,8830.0,88584.0,189.0,2911.0,141579.0,866.0,0.0,84655.0,83391.0,787.0,291.0,10083.0,810.0,52.0,45225.0,12136.0,128.0,1670.0,60434.0,0.0,5371.0,830.0,236.0,55935.0,5610.0,891.0,14870.0,1029.0,60356.0,30997.0,8556.0,2332.0,21.0,5769.0,5.0],\"yaxis\":\"y\",\"type\":\"scatter\"},{\"hovertemplate\":\"color=Hospital<br>x=%{x}<br>y=%{y}<extra></extra>\",\"legendgroup\":\"Hospital\",\"marker\":{\"color\":\"#B6E880\",\"symbol\":\"circle\"},\"mode\":\"markers\",\"name\":\"Hospital\",\"orientation\":\"v\",\"showlegend\":true,\"x\":[228.0,10.0,179.22],\"xaxis\":\"x\",\"y\":[164.0,624.0,205.0],\"yaxis\":\"y\",\"type\":\"scatter\"},{\"hovertemplate\":\"color=Log\\u00edstica<br>x=%{x}<br>y=%{y}<extra></extra>\",\"legendgroup\":\"Log\\u00edstica\",\"marker\":{\"color\":\"#FF97FF\",\"symbol\":\"circle\"},\"mode\":\"markers\",\"name\":\"Log\\u00edstica\",\"orientation\":\"v\",\"showlegend\":true,\"x\":[103.0,84.55,55.95,109.87,79.74,116.0,108.5,96.3,110.43,163.01,171.5,97.1,97.82,98.0,230.93,98.4,119.75,86.73,93.68,44.37,117.23,94.28,94.06,93.97,93.72,93.31,93.52,94.17,94.15],\"xaxis\":\"x\",\"y\":[36726.0,1535.0,1.0,44767.0,1668.0,136034.0,76823.0,2040.0,15294.0,497.0,32937.0,564.0,4209.0,12380.0,133.0,1.0,11123.0,7913.0,4096.0,731.0,11968.0,1419.0,3047.0,1356.0,4356.0,6678.0,2670.0,2323.0,4019.0],\"yaxis\":\"y\",\"type\":\"scatter\"}],                        {\"template\":{\"data\":{\"histogram2dcontour\":[{\"type\":\"histogram2dcontour\",\"colorbar\":{\"outlinewidth\":0,\"ticks\":\"\"},\"colorscale\":[[0.0,\"#0d0887\"],[0.1111111111111111,\"#46039f\"],[0.2222222222222222,\"#7201a8\"],[0.3333333333333333,\"#9c179e\"],[0.4444444444444444,\"#bd3786\"],[0.5555555555555556,\"#d8576b\"],[0.6666666666666666,\"#ed7953\"],[0.7777777777777778,\"#fb9f3a\"],[0.8888888888888888,\"#fdca26\"],[1.0,\"#f0f921\"]]}],\"choropleth\":[{\"type\":\"choropleth\",\"colorbar\":{\"outlinewidth\":0,\"ticks\":\"\"}}],\"histogram2d\":[{\"type\":\"histogram2d\",\"colorbar\":{\"outlinewidth\":0,\"ticks\":\"\"},\"colorscale\":[[0.0,\"#0d0887\"],[0.1111111111111111,\"#46039f\"],[0.2222222222222222,\"#7201a8\"],[0.3333333333333333,\"#9c179e\"],[0.4444444444444444,\"#bd3786\"],[0.5555555555555556,\"#d8576b\"],[0.6666666666666666,\"#ed7953\"],[0.7777777777777778,\"#fb9f3a\"],[0.8888888888888888,\"#fdca26\"],[1.0,\"#f0f921\"]]}],\"heatmap\":[{\"type\":\"heatmap\",\"colorbar\":{\"outlinewidth\":0,\"ticks\":\"\"},\"colorscale\":[[0.0,\"#0d0887\"],[0.1111111111111111,\"#46039f\"],[0.2222222222222222,\"#7201a8\"],[0.3333333333333333,\"#9c179e\"],[0.4444444444444444,\"#bd3786\"],[0.5555555555555556,\"#d8576b\"],[0.6666666666666666,\"#ed7953\"],[0.7777777777777778,\"#fb9f3a\"],[0.8888888888888888,\"#fdca26\"],[1.0,\"#f0f921\"]]}],\"heatmapgl\":[{\"type\":\"heatmapgl\",\"colorbar\":{\"outlinewidth\":0,\"ticks\":\"\"},\"colorscale\":[[0.0,\"#0d0887\"],[0.1111111111111111,\"#46039f\"],[0.2222222222222222,\"#7201a8\"],[0.3333333333333333,\"#9c179e\"],[0.4444444444444444,\"#bd3786\"],[0.5555555555555556,\"#d8576b\"],[0.6666666666666666,\"#ed7953\"],[0.7777777777777778,\"#fb9f3a\"],[0.8888888888888888,\"#fdca26\"],[1.0,\"#f0f921\"]]}],\"contourcarpet\":[{\"type\":\"contourcarpet\",\"colorbar\":{\"outlinewidth\":0,\"ticks\":\"\"}}],\"contour\":[{\"type\":\"contour\",\"colorbar\":{\"outlinewidth\":0,\"ticks\":\"\"},\"colorscale\":[[0.0,\"#0d0887\"],[0.1111111111111111,\"#46039f\"],[0.2222222222222222,\"#7201a8\"],[0.3333333333333333,\"#9c179e\"],[0.4444444444444444,\"#bd3786\"],[0.5555555555555556,\"#d8576b\"],[0.6666666666666666,\"#ed7953\"],[0.7777777777777778,\"#fb9f3a\"],[0.8888888888888888,\"#fdca26\"],[1.0,\"#f0f921\"]]}],\"surface\":[{\"type\":\"surface\",\"colorbar\":{\"outlinewidth\":0,\"ticks\":\"\"},\"colorscale\":[[0.0,\"#0d0887\"],[0.1111111111111111,\"#46039f\"],[0.2222222222222222,\"#7201a8\"],[0.3333333333333333,\"#9c179e\"],[0.4444444444444444,\"#bd3786\"],[0.5555555555555556,\"#d8576b\"],[0.6666666666666666,\"#ed7953\"],[0.7777777777777778,\"#fb9f3a\"],[0.8888888888888888,\"#fdca26\"],[1.0,\"#f0f921\"]]}],\"mesh3d\":[{\"type\":\"mesh3d\",\"colorbar\":{\"outlinewidth\":0,\"ticks\":\"\"}}],\"scatter\":[{\"marker\":{\"line\":{\"color\":\"#283442\"}},\"type\":\"scatter\"}],\"parcoords\":[{\"type\":\"parcoords\",\"line\":{\"colorbar\":{\"outlinewidth\":0,\"ticks\":\"\"}}}],\"scatterpolargl\":[{\"type\":\"scatterpolargl\",\"marker\":{\"colorbar\":{\"outlinewidth\":0,\"ticks\":\"\"}}}],\"bar\":[{\"error_x\":{\"color\":\"#f2f5fa\"},\"error_y\":{\"color\":\"#f2f5fa\"},\"marker\":{\"line\":{\"color\":\"rgb(17,17,17)\",\"width\":0.5},\"pattern\":{\"fillmode\":\"overlay\",\"size\":10,\"solidity\":0.2}},\"type\":\"bar\"}],\"scattergeo\":[{\"type\":\"scattergeo\",\"marker\":{\"colorbar\":{\"outlinewidth\":0,\"ticks\":\"\"}}}],\"scatterpolar\":[{\"type\":\"scatterpolar\",\"marker\":{\"colorbar\":{\"outlinewidth\":0,\"ticks\":\"\"}}}],\"histogram\":[{\"marker\":{\"pattern\":{\"fillmode\":\"overlay\",\"size\":10,\"solidity\":0.2}},\"type\":\"histogram\"}],\"scattergl\":[{\"marker\":{\"line\":{\"color\":\"#283442\"}},\"type\":\"scattergl\"}],\"scatter3d\":[{\"type\":\"scatter3d\",\"line\":{\"colorbar\":{\"outlinewidth\":0,\"ticks\":\"\"}},\"marker\":{\"colorbar\":{\"outlinewidth\":0,\"ticks\":\"\"}}}],\"scattermapbox\":[{\"type\":\"scattermapbox\",\"marker\":{\"colorbar\":{\"outlinewidth\":0,\"ticks\":\"\"}}}],\"scatterternary\":[{\"type\":\"scatterternary\",\"marker\":{\"colorbar\":{\"outlinewidth\":0,\"ticks\":\"\"}}}],\"scattercarpet\":[{\"type\":\"scattercarpet\",\"marker\":{\"colorbar\":{\"outlinewidth\":0,\"ticks\":\"\"}}}],\"carpet\":[{\"aaxis\":{\"endlinecolor\":\"#A2B1C6\",\"gridcolor\":\"#506784\",\"linecolor\":\"#506784\",\"minorgridcolor\":\"#506784\",\"startlinecolor\":\"#A2B1C6\"},\"baxis\":{\"endlinecolor\":\"#A2B1C6\",\"gridcolor\":\"#506784\",\"linecolor\":\"#506784\",\"minorgridcolor\":\"#506784\",\"startlinecolor\":\"#A2B1C6\"},\"type\":\"carpet\"}],\"table\":[{\"cells\":{\"fill\":{\"color\":\"#506784\"},\"line\":{\"color\":\"rgb(17,17,17)\"}},\"header\":{\"fill\":{\"color\":\"#2a3f5f\"},\"line\":{\"color\":\"rgb(17,17,17)\"}},\"type\":\"table\"}],\"barpolar\":[{\"marker\":{\"line\":{\"color\":\"rgb(17,17,17)\",\"width\":0.5},\"pattern\":{\"fillmode\":\"overlay\",\"size\":10,\"solidity\":0.2}},\"type\":\"barpolar\"}],\"pie\":[{\"automargin\":true,\"type\":\"pie\"}]},\"layout\":{\"autotypenumbers\":\"strict\",\"colorway\":[\"#636efa\",\"#EF553B\",\"#00cc96\",\"#ab63fa\",\"#FFA15A\",\"#19d3f3\",\"#FF6692\",\"#B6E880\",\"#FF97FF\",\"#FECB52\"],\"font\":{\"color\":\"#f2f5fa\"},\"hovermode\":\"closest\",\"hoverlabel\":{\"align\":\"left\"},\"paper_bgcolor\":\"rgb(17,17,17)\",\"plot_bgcolor\":\"rgb(17,17,17)\",\"polar\":{\"bgcolor\":\"rgb(17,17,17)\",\"angularaxis\":{\"gridcolor\":\"#506784\",\"linecolor\":\"#506784\",\"ticks\":\"\"},\"radialaxis\":{\"gridcolor\":\"#506784\",\"linecolor\":\"#506784\",\"ticks\":\"\"}},\"ternary\":{\"bgcolor\":\"rgb(17,17,17)\",\"aaxis\":{\"gridcolor\":\"#506784\",\"linecolor\":\"#506784\",\"ticks\":\"\"},\"baxis\":{\"gridcolor\":\"#506784\",\"linecolor\":\"#506784\",\"ticks\":\"\"},\"caxis\":{\"gridcolor\":\"#506784\",\"linecolor\":\"#506784\",\"ticks\":\"\"}},\"coloraxis\":{\"colorbar\":{\"outlinewidth\":0,\"ticks\":\"\"}},\"colorscale\":{\"sequential\":[[0.0,\"#0d0887\"],[0.1111111111111111,\"#46039f\"],[0.2222222222222222,\"#7201a8\"],[0.3333333333333333,\"#9c179e\"],[0.4444444444444444,\"#bd3786\"],[0.5555555555555556,\"#d8576b\"],[0.6666666666666666,\"#ed7953\"],[0.7777777777777778,\"#fb9f3a\"],[0.8888888888888888,\"#fdca26\"],[1.0,\"#f0f921\"]],\"sequentialminus\":[[0.0,\"#0d0887\"],[0.1111111111111111,\"#46039f\"],[0.2222222222222222,\"#7201a8\"],[0.3333333333333333,\"#9c179e\"],[0.4444444444444444,\"#bd3786\"],[0.5555555555555556,\"#d8576b\"],[0.6666666666666666,\"#ed7953\"],[0.7777777777777778,\"#fb9f3a\"],[0.8888888888888888,\"#fdca26\"],[1.0,\"#f0f921\"]],\"diverging\":[[0,\"#8e0152\"],[0.1,\"#c51b7d\"],[0.2,\"#de77ae\"],[0.3,\"#f1b6da\"],[0.4,\"#fde0ef\"],[0.5,\"#f7f7f7\"],[0.6,\"#e6f5d0\"],[0.7,\"#b8e186\"],[0.8,\"#7fbc41\"],[0.9,\"#4d9221\"],[1,\"#276419\"]]},\"xaxis\":{\"gridcolor\":\"#283442\",\"linecolor\":\"#506784\",\"ticks\":\"\",\"title\":{\"standoff\":15},\"zerolinecolor\":\"#283442\",\"automargin\":true,\"zerolinewidth\":2},\"yaxis\":{\"gridcolor\":\"#283442\",\"linecolor\":\"#506784\",\"ticks\":\"\",\"title\":{\"standoff\":15},\"zerolinecolor\":\"#283442\",\"automargin\":true,\"zerolinewidth\":2},\"scene\":{\"xaxis\":{\"backgroundcolor\":\"rgb(17,17,17)\",\"gridcolor\":\"#506784\",\"linecolor\":\"#506784\",\"showbackground\":true,\"ticks\":\"\",\"zerolinecolor\":\"#C8D4E3\",\"gridwidth\":2},\"yaxis\":{\"backgroundcolor\":\"rgb(17,17,17)\",\"gridcolor\":\"#506784\",\"linecolor\":\"#506784\",\"showbackground\":true,\"ticks\":\"\",\"zerolinecolor\":\"#C8D4E3\",\"gridwidth\":2},\"zaxis\":{\"backgroundcolor\":\"rgb(17,17,17)\",\"gridcolor\":\"#506784\",\"linecolor\":\"#506784\",\"showbackground\":true,\"ticks\":\"\",\"zerolinecolor\":\"#C8D4E3\",\"gridwidth\":2}},\"shapedefaults\":{\"line\":{\"color\":\"#f2f5fa\"}},\"annotationdefaults\":{\"arrowcolor\":\"#f2f5fa\",\"arrowhead\":0,\"arrowwidth\":1},\"geo\":{\"bgcolor\":\"rgb(17,17,17)\",\"landcolor\":\"rgb(17,17,17)\",\"subunitcolor\":\"#506784\",\"showland\":true,\"showlakes\":true,\"lakecolor\":\"rgb(17,17,17)\"},\"title\":{\"x\":0.05},\"updatemenudefaults\":{\"bgcolor\":\"#506784\",\"borderwidth\":0},\"sliderdefaults\":{\"bgcolor\":\"#C8D4E3\",\"borderwidth\":1,\"bordercolor\":\"rgb(17,17,17)\",\"tickwidth\":0},\"mapbox\":{\"style\":\"dark\"}}},\"xaxis\":{\"anchor\":\"y\",\"domain\":[0.0,1.0],\"title\":{\"text\":\"x\"}},\"yaxis\":{\"anchor\":\"x\",\"domain\":[0.0,1.0],\"title\":{\"text\":\"y\"}},\"legend\":{\"title\":{\"text\":\"color\"},\"tracegroupgap\":0},\"margin\":{\"t\":60}},                        {\"responsive\": true}                    ).then(function(){\n                            \nvar gd = document.getElementById('9a4274ee-1de8-4cc4-8a8b-aa4c1d905d95');\nvar x = new MutationObserver(function (mutations, observer) {{\n        var display = window.getComputedStyle(gd).display;\n        if (!display || display === 'none') {{\n            console.log([gd, 'removed!']);\n            Plotly.purge(gd);\n            observer.disconnect();\n        }}\n}});\n\n// Listen for the removal of the full notebook cells\nvar notebookContainer = gd.closest('#notebook-container');\nif (notebookContainer) {{\n    x.observe(notebookContainer, {childList: true});\n}}\n\n// Listen for the clearing of the current output cell\nvar outputEl = gd.closest('.output');\nif (outputEl) {{\n    x.observe(outputEl, {childList: true});\n}}\n\n                        })                };                });            </script>        </div>"
     },
     "metadata": {},
     "output_type": "display_data"
    }
   ],
   "source": [
    "grafico_c_rt = px.scatter(y=lista_lq, x=lista_vc, color=lista_rt)\n",
    "grafico_c_rt.show()"
   ]
  },
  {
   "cell_type": "markdown",
   "metadata": {
    "pycharm": {
     "name": "#%% md\n"
    }
   },
   "source": [
    "Transformando em matriz"
   ]
  },
  {
   "cell_type": "code",
   "execution_count": 33,
   "metadata": {
    "pycharm": {
     "name": "#%%\n"
    }
   },
   "outputs": [
    {
     "name": "stdout",
     "output_type": "stream",
     "text": [
      "[[1850.0, 3.23], [1.0, 17.0], [1088.0, 7.25], [18.0, 910.0], [4.0, 7.3], [3.0, 93.0], [200.0, 165.0], [42.0, 80.03], [1959.0, 116.69], [2642.0, 4.75], [38.0, 35.21], [626.0, 122.0], [4.0, 784.0], [3.0, 64.99], [0.0, 0.0], [1813.0, 0.99], [329.0, 3.5], [60.0, 36.71], [1260.0, 47.0], [8830.0, 923.0], [240.0, 950.0], [332.0, 1.03], [15.0, 83.0], [1.0, 87.9], [164.0, 228.0], [5.0, 95.6], [45.0, 12.21], [1.0, 7.5], [40.0, 68.21], [6391.0, 3.99], [0.0, 0.0], [5157.0, 28.45], [8700.0, 64.25], [88584.0, 8.1], [1924.0, 66.4], [4632.0, 96.54], [0.0, 0.0], [14531.0, 152.8], [4554.0, 89.79], [2188.0, 76.93], [412.0, 81.0], [12638.0, 101.75], [189.0, 84.5], [669.0, 94.0], [36726.0, 103.0], [177.0, 89.1], [4779.0, 89.2], [2738.0, 88.55], [2315.0, 89.31], [6123.0, 88.83], [2350.0, 88.66], [9724.0, 88.3], [3488.0, 88.24], [2911.0, 85.05], [639.0, 92.0], [468.0, 101.0], [2211.0, 101.5], [22959.0, 97.06], [12195.0, 95.8], [167209.0, 102.4], [32320.0, 85.6], [16616.0, 107.35], [37813.0, 87.75], [141579.0, 87.72], [300.0, 79.4], [1535.0, 84.55], [12052.0, 144.12], [2939.0, 51.93], [1040.0, 118.38], [121.0, 66.58], [2207.0, 65.5], [866.0, 136.81], [12.0, 93.97], [1.0, 55.95], [492.0, 83.44], [15476.0, 79.99], [3407.0, 56.6], [214.0, 76.74], [25868.0, 94.03], [64664.0, 9.0], [10187.0, 101.35], [81.0, 796.0], [1088.0, 98.4], [0.0, 0.0], [592771.0, 10.3], [44767.0, 109.87], [84655.0, 103.1], [1668.0, 79.74], [7605.0, 97.0], [624.0, 10.0], [618.0, 101.38], [626.0, 68.97], [4874.0, 84.7], [7351.0, 74.9], [205.0, 179.22], [66358.0, 99.0], [136034.0, 116.0], [417.0, 483.0], [830.0, 73.61], [5917.0, 44.3], [5323.0, 109.3], [28692.0, 95.54], [60085.0, 91.4], [4453.0, 100.0], [252.0, 44.83], [207.0, 113.0], [3061.0, 86.35], [16453.0, 92.44], [5415.0, 9.25], [6414.0, 9.15], [11512.0, 109.41], [76823.0, 108.5], [9739.0, 90.11], [91.0, 87.2], [3168.0, 88.88], [83391.0, 7.67], [274.0, 105.49], [31.0, 86.0], [2040.0, 96.3], [434538.0, 9.87], [32.0, 272.0], [499.0, 41.3], [35887.0, 8.15], [15294.0, 110.43], [2054.0, 80.92], [5419.0, 93.82], [1419.0, 86.48], [787.0, 124.5], [497.0, 163.01], [1.0, 205.99], [291.0, 39.99], [174.0, 95.55], [39.0, 78.04], [0.0, 0.0], [39967.0, 129.35], [46659.0, 104.71], [151.0, 102.0], [2557.0, 262.0], [847.0, 82.59], [32937.0, 171.5], [11.0, 93.0], [10083.0, 97.07], [5552.0, 81.89], [810.0, 86.5], [61.0, 82.78], [564.0, 97.1], [99782.0, 216.0], [10399.0, 85.99], [52.0, 112.0], [476.0, 58.67], [3693.0, 84.82], [248.0, 100.0], [31438.0, 105.3], [45225.0, 125.71], [84173.0, 8.45], [8802.0, 70.94], [12136.0, 45.9], [2217.0, 44.3], [10546.0, 84.0], [9013.0, 17.85], [2013.0, 57.54], [3183.0, 72.29], [4209.0, 97.82], [12380.0, 98.0], [2928.0, 78.03], [4950.0, 100.99], [173.0, 27.15], [30282.0, 94.25], [7903.0, 104.3], [4735.0, 90.9], [2387.0, 79.7], [752.0, 51.0], [128.0, 11.63], [2980.0, 81.8], [14242.0, 91.9], [1670.0, 102.11], [44206.0, 9.0], [10746.0, 7.67], [20245.0, 50.0], [21103.0, 111.49], [21566.0, 75.8], [60434.0, 115.12], [30.0, 208.05], [133.0, 230.93], [0.0, 0.0], [17.0, 108.81], [0.0, 0.0], [9534.0, 79.07], [172058.0, 9.8], [1423.0, 77.91], [1.0, 98.4], [5371.0, 47.19], [2239.0, 110.0], [11123.0, 119.75], [20.0, 73.99], [299.0, 69.93], [830.0, 80.72], [1152.0, 6.14], [626.0, 129.89], [11424.0, 10.08], [18597.0, 10.03], [31943.0, 10.04], [26907.0, 10.04], [66447.0, 10.06], [40990.0, 10.02], [40677.0, 10.04], [20744.0, 10.03], [1785.0, 97.89], [21780.0, 9.22], [36864.0, 7.82], [236.0, 680.0], [166.0, 171.99], [2736.0, 146.97], [1475.0, 86.47], [55935.0, 101.88], [28779.0, 65.2], [5610.0, 66.7], [26659.0, 94.64], [3809.0, 100.13], [891.0, 153.5], [14870.0, 60.3], [1029.0, 82.8], [40651.0, 69.79], [6722.0, 91.52], [3548.0, 94.98], [6332.0, 88.4], [31804.0, 71.68], [108.0, 59.95], [60356.0, 9.14], [7913.0, 86.73], [4361.0, 100.97], [612.0, 76.29], [801.0, 82.27], [4096.0, 93.68], [731.0, 44.37], [265.0, 96.49], [58588.0, 89.35], [11541.0, 61.39], [1462.0, 84.0], [5300.0, 97.99], [20.0, 128.0], [3.0, 90.0], [32127.0, 90.19], [1129.0, 80.66], [5310.0, 74.97], [1897.0, 89.89], [65640.0, 76.47], [176649.0, 90.6], [9839.0, 99.71], [58106.0, 103.01], [1230.0, 102.18], [7908.0, 9.58], [80488.0, 91.15], [257729.0, 10.07], [30997.0, 90.05], [195289.0, 10.08], [332.0, 69.55], [33669.0, 97.4], [334.0, 150.0], [162524.0, 9.19], [140.0, 111.0], [11968.0, 117.23], [8556.0, 100.45], [986.0, 81.41], [35243.0, 103.56], [10441.0, 100.18], [142.0, 33.06], [2332.0, 124.0], [720.0, 103.41], [995.0, 93.77], [8459.0, 100.15], [3507.0, 18.02], [21.0, 76.6], [2476.0, 67.11], [435.0, 71.69], [639.0, 92.0], [6031.0, 73.77], [5769.0, 82.9], [768.0, 91.6], [5058.0, 87.5], [6653.0, 97.0], [3.0, 97.0], [5.0, 91.49], [1067.0, 9.8], [869.0, 93.88], [4081.0, 88.94], [1419.0, 94.28], [3047.0, 94.06], [1356.0, 93.97], [4356.0, 93.72], [6678.0, 93.31], [2670.0, 93.52], [2323.0, 94.17], [4019.0, 94.15], [948.0, 85.98], [554.0, 66.48], [2264.0, 77.11], [4741.0, 96.49], [271899.0, 10.07], [151848.0, 10.25]]\n"
     ]
    }
   ],
   "source": [
    "lista_cotacao = []\n",
    "for x,y in zip(lista_lq, lista_vc):\n",
    "    item = [x,y]\n",
    "    lista_cotacao.append(item)\n",
    "print(lista_cotacao)"
   ]
  },
  {
   "cell_type": "code",
   "execution_count": 34,
   "metadata": {
    "pycharm": {
     "name": "#%%\n"
    }
   },
   "outputs": [],
   "source": [
    "base_cotacoes = np.array(lista_cotacao)"
   ]
  },
  {
   "cell_type": "markdown",
   "metadata": {
    "pycharm": {
     "name": "#%% md\n"
    }
   },
   "source": [
    "treino"
   ]
  },
  {
   "cell_type": "code",
   "execution_count": 35,
   "metadata": {
    "pycharm": {
     "name": "#%%\n"
    }
   },
   "outputs": [
    {
     "data": {
      "text/plain": "array([[-3.24948898e-01, -7.76805381e-01],\n       [-3.58493191e-01, -6.60714036e-01],\n       [-3.38772993e-01, -7.42913790e-01],\n       [-3.58184780e-01,  6.86794037e+00],\n       [-3.58438766e-01, -7.42492253e-01],\n       [-3.58456908e-01, -1.99774910e-02],\n       [-3.54882962e-01,  5.87036078e-01],\n       [-3.57749375e-01, -1.29324241e-01],\n       [-3.22971436e-01,  1.79746835e-01],\n       [-3.10580547e-01, -7.63990650e-01],\n       [-3.57821943e-01, -5.07190188e-01],\n       [-3.47154531e-01,  2.24514085e-01],\n       [-3.58438766e-01,  5.80566662e+00],\n       [-3.58456908e-01, -2.56122631e-01],\n       [-3.58511333e-01, -8.04036685e-01],\n       [-3.25620147e-01, -7.95690248e-01],\n       [-3.52542662e-01, -7.74529081e-01],\n       [-3.57422822e-01, -4.94544072e-01],\n       [-3.35652594e-01, -4.07791716e-01],\n       [-1.98318737e-01,  6.97754004e+00],\n       [-3.54157288e-01,  7.20517013e+00],\n       [-3.52488237e-01, -7.95353018e-01],\n       [-3.58239205e-01, -1.04284931e-01],\n       [-3.58493191e-01, -6.29742855e-02],\n       [-3.55536069e-01,  1.11817295e+00],\n       [-3.58420624e-01,  1.94244342e-03],\n       [-3.57694950e-01, -7.01097300e-01],\n       [-3.58493191e-01, -7.40806104e-01],\n       [-3.57785659e-01, -2.28975635e-01],\n       [-2.42566726e-01, -7.70398016e-01],\n       [-3.58511333e-01, -8.04036685e-01],\n       [-2.64953777e-01, -5.64182017e-01],\n       [-2.00677178e-01, -2.62361381e-01],\n       [ 1.24856692e+00, -7.35747658e-01],\n       [-3.23606401e-01, -2.44235282e-01],\n       [-2.74478252e-01,  9.86734280e-03],\n       [-3.58511333e-01, -8.04036685e-01],\n       [-9.48920106e-02,  4.84181001e-01],\n       [-2.75893317e-01, -4.70401793e-02],\n       [-3.18816950e-01, -1.55459547e-01],\n       [-3.51036888e-01, -1.21146419e-01],\n       [-1.29234546e-01,  5.37915191e-02],\n       [-3.55082522e-01, -9.16388152e-02],\n       [-3.46374431e-01, -1.15467470e-02],\n       [ 3.07766503e-01,  6.43299491e-02],\n       [-3.55300225e-01, -5.28573927e-02],\n       [-2.71811399e-01, -5.20143183e-02],\n       [-3.08838929e-01, -5.74943019e-02],\n       [-3.16512935e-01, -5.10869364e-02],\n       [-2.47428743e-01, -5.51336936e-02],\n       [-3.15877970e-01, -5.65669201e-02],\n       [-1.82099917e-01, -5.96019879e-02],\n       [-2.95232536e-01, -6.01078325e-02],\n       [-3.05700388e-01, -8.70019060e-02],\n       [-3.46918687e-01, -2.84082350e-02],\n       [-3.50020944e-01,  4.74684611e-02],\n       [-3.18399688e-01,  5.16838331e-02],\n       [ 5.80075594e-02,  1.42513297e-02],\n       [-1.37271388e-01,  3.62859222e-03],\n       [ 2.67497042e+00,  5.92715027e-02],\n       [ 2.27833482e-01, -8.23649967e-02],\n       [-5.70662389e-02,  1.01003686e-01],\n       [ 3.27486702e-01, -6.42388971e-02],\n       [ 2.20999463e+00, -6.44918194e-02],\n       [-3.53068776e-01, -1.34635610e-01],\n       [-3.30663583e-01, -9.12172780e-02],\n       [-1.39865674e-01,  4.11002143e-01],\n       [-3.05192416e-01, -3.66228148e-01],\n       [-3.39643802e-01,  1.93994792e-01],\n       [-3.56316169e-01, -2.42717748e-01],\n       [-3.18472255e-01, -2.51822951e-01],\n       [-3.42800485e-01,  3.49373404e-01],\n       [-3.58293631e-01, -1.17996693e-02],\n       [-3.58493191e-01, -3.32336557e-01],\n       [-3.49585540e-01, -1.00575404e-01],\n       [-7.77479558e-02, -1.29661471e-01],\n       [-2.96702027e-01, -3.26856573e-01],\n       [-3.54628976e-01, -1.57061389e-01],\n       [ 1.10782221e-01, -1.12938247e-02],\n       [ 8.14613702e-01, -7.28159988e-01],\n       [-1.73700237e-01,  5.04192215e-02],\n       [-3.57041843e-01,  5.90683555e+00],\n       [-3.38772993e-01,  2.55485267e-02],\n       [-3.58511333e-01, -8.04036685e-01],\n       [ 1.03954553e+01, -7.17200021e-01],\n       [ 4.53645175e-01,  1.22249161e-01],\n       [ 1.17728756e+00,  6.51730235e-02],\n       [-3.28250716e-01, -1.31769157e-01],\n       [-2.20542512e-01,  1.37454850e-02],\n       [-3.47190815e-01, -7.19729244e-01],\n       [-3.47299666e-01,  5.06721438e-02],\n       [-3.47154531e-01, -2.22568270e-01],\n       [-2.70087923e-01, -8.99526664e-02],\n       [-2.25150543e-01, -1.72573958e-01],\n       [-3.54792253e-01,  7.06921258e-01],\n       [ 8.45346007e-01,  3.06069731e-02],\n       [ 2.10939803e+00,  1.73929621e-01],\n       [-3.50946179e-01,  3.26801268e+00],\n       [-3.43453592e-01, -1.83449618e-01],\n       [-2.51165966e-01, -4.30554725e-01],\n       [-2.61942229e-01,  1.17443636e-01],\n       [ 1.62014825e-01,  1.43659878e-03],\n       [ 7.31542139e-01, -3.34666814e-02],\n       [-2.77725645e-01,  3.90377171e-02],\n       [-3.53939585e-01, -4.26086430e-01],\n       [-3.54755969e-01,  1.48637389e-01],\n       [-3.02979109e-01, -7.60419387e-02],\n       [-6.00233616e-02, -2.46987077e-02],\n       [-2.60273178e-01, -7.26052302e-01],\n       [-2.42149463e-01, -7.26895377e-01],\n       [-1.49662277e-01,  1.18371018e-01],\n       [ 1.03520054e+00,  1.10699041e-01],\n       [-1.81827789e-01, -4.43423412e-02],\n       [-3.56860424e-01, -6.88758063e-02],\n       [-3.01037931e-01, -5.47121564e-02],\n       [ 1.15435626e+00, -7.39372878e-01],\n       [-3.53540465e-01,  8.53225017e-02],\n       [-3.57948936e-01, -7.89926991e-02],\n       [-3.21501945e-01,  7.84396423e-03],\n       [ 7.52481488e+00, -7.20825241e-01],\n       [-3.57930794e-01,  1.48912569e+00],\n       [-3.49458547e-01, -4.55846957e-01],\n       [ 2.92545486e-01, -7.35326121e-01],\n       [-8.10497738e-02,  1.26970377e-01],\n       [-3.21247959e-01, -1.21820879e-01],\n       [-2.60200611e-01, -1.30642809e-02],\n       [-3.32768038e-01, -7.49459420e-02],\n       [-3.44233692e-01,  2.45590945e-01],\n       [-3.49494830e-01,  5.70258898e-01],\n       [-3.58493191e-01,  9.32612275e-01],\n       [-3.53232053e-01, -4.66891231e-01],\n       [-3.55354650e-01,  1.52090622e-03],\n       [-3.57803801e-01, -1.46101422e-01],\n       [-3.58511333e-01, -8.04036685e-01],\n       [ 3.66564262e-01,  2.86480054e-01],\n       [ 4.87969568e-01,  7.87465214e-02],\n       [-3.55771913e-01,  5.58992051e-02],\n       [-3.12122605e-01,  1.40481825e+00],\n       [-3.43145181e-01, -1.07741536e-01],\n       [ 2.39027008e-01,  6.41835914e-01],\n       [-3.58311773e-01, -1.99774910e-02],\n       [-1.75586990e-01,  1.43356371e-02],\n       [-2.57787744e-01, -1.13643057e-01],\n       [-3.43816429e-01, -7.47773271e-02],\n       [-3.57404680e-01, -1.06139695e-01],\n       [-3.48279326e-01,  1.45885594e-02],\n       [ 1.45171943e+00,  1.01700402e+00],\n       [-1.69854163e-01, -7.90770066e-02],\n       [-3.57567957e-01,  1.40206645e-01],\n       [-3.49875809e-01, -3.09404933e-01],\n       [-2.91513456e-01, -8.89409771e-02],\n       [-3.54012153e-01,  3.90377171e-02],\n       [ 2.11832364e-01,  8.37206604e-02],\n       [ 4.61954145e-01,  2.55792146e-01],\n       [ 1.16854319e+00, -7.32796898e-01],\n       [-1.98826709e-01, -2.05959704e-01],\n       [-1.38341758e-01, -4.17065534e-01],\n       [-3.18290837e-01, -4.30554725e-01],\n       [-1.67187310e-01, -9.58541872e-02],\n       [-1.94998777e-01, -6.53547904e-01],\n       [-3.21991775e-01, -3.18931674e-01],\n       [-3.00765803e-01, -1.94578200e-01],\n       [-2.82152258e-01,  2.06586951e-02],\n       [-1.33915145e-01,  2.21762291e-02],\n       [-3.05391976e-01, -1.46185729e-01],\n       [-2.68709142e-01,  4.73841537e-02],\n       [-3.55372792e-01, -5.75141985e-01],\n       [ 1.90860378e-01, -9.43906100e-03],\n       [-2.15136238e-01,  7.52899164e-02],\n       [-2.72609641e-01, -3.76820535e-02],\n       [-3.15206721e-01, -1.32106386e-01],\n       [-3.44868657e-01, -3.74068740e-01],\n       [-3.56189176e-01, -7.05987132e-01],\n       [-3.04448600e-01, -1.14401824e-01],\n       [-1.00135007e-01, -2.92513094e-02],\n       [-3.28214432e-01,  5.68265870e-02],\n       [ 4.43467593e-01, -7.28159988e-01],\n       [-1.63558939e-01, -7.39372878e-01],\n       [ 8.77055978e-03, -3.82499484e-01],\n       [ 2.43362730e-02,  1.35906966e-01],\n       [ 3.27359528e-02, -1.64986288e-01],\n       [ 7.37873647e-01,  1.66510567e-01],\n       [-3.57967078e-01,  9.49979608e-01],\n       [-3.56098466e-01,  1.14287503e+00],\n       [-3.58511333e-01, -8.04036685e-01],\n       [-3.58202922e-01,  1.13312572e-01],\n       [-3.58511333e-01, -8.04036685e-01],\n       [-1.85546870e-01, -1.37417755e-01],\n       [ 2.76294028e+00, -7.21415393e-01],\n       [-3.32695471e-01, -1.47197418e-01],\n       [-3.58493191e-01,  2.55485267e-02],\n       [-2.61071420e-01, -4.06189874e-01],\n       [-3.17891716e-01,  1.23345157e-01],\n       [-1.56719459e-01,  2.05544911e-01],\n       [-3.58148496e-01, -1.80245935e-01],\n       [-3.53086918e-01, -2.14474755e-01],\n       [-3.43453592e-01, -1.23507028e-01],\n       [-3.37611914e-01, -7.52271916e-01],\n       [-3.47154531e-01,  2.91032656e-01],\n       [-1.51258760e-01, -7.19054785e-01],\n       [-2.11272204e-02, -7.19476322e-01],\n       [ 2.20994002e-01, -7.19392015e-01],\n       [ 1.29631611e-01, -7.19392015e-01],\n       [ 8.46960633e-01, -7.19223400e-01],\n       [ 3.85123381e-01, -7.19560630e-01],\n       [ 3.79444980e-01, -7.19392015e-01],\n       [ 1.78233464e-02, -7.19476322e-01],\n       [-3.26128119e-01,  2.12488472e-02],\n       [ 3.66183101e-02, -7.26305225e-01],\n       [ 3.10270080e-01, -7.38108266e-01],\n       [-3.54229855e-01,  4.92886925e+00],\n       [-3.55499785e-01,  6.45966979e-01],\n       [-3.08875213e-01,  4.35029764e-01],\n       [-3.31752094e-01, -7.50302494e-02],\n       [ 6.56253433e-01,  5.48875158e-02],\n       [ 1.63593167e-01, -2.54352175e-01],\n       [-2.56735516e-01, -2.41706059e-01],\n       [ 1.25132430e-01, -6.15107083e-03],\n       [-2.89409000e-01,  4.01337138e-02],\n       [-3.42346939e-01,  4.90082522e-01],\n       [-8.87419211e-02, -2.95662820e-01],\n       [-3.39843363e-01, -1.05971080e-01],\n       [ 3.78973292e-01, -2.15655060e-01],\n       [-2.36561771e-01, -3.24549922e-02],\n       [-2.94144025e-01, -3.28461787e-03],\n       [-2.43637095e-01, -5.87589135e-02],\n       [ 2.18472284e-01, -1.99720953e-01],\n       [-3.56552013e-01, -2.98613581e-01],\n       [ 7.36458582e-01, -7.26979684e-01],\n       [-2.14954820e-01, -7.28382560e-02],\n       [-2.79394695e-01,  4.72155388e-02],\n       [-3.47408517e-01, -1.60855224e-01],\n       [-3.43979706e-01, -1.10439374e-01],\n       [-2.84202287e-01, -1.42445851e-02],\n       [-3.45249636e-01, -4.29964573e-01],\n       [-3.53703741e-01,  9.44580560e-03],\n       [ 7.04383779e-01, -5.07497067e-02],\n       [-1.49136163e-01, -2.86473309e-01],\n       [-3.31987939e-01, -9.58541872e-02],\n       [-2.62359492e-01,  2.20919216e-02],\n       [-3.58148496e-01,  2.75098550e-01],\n       [-3.58456908e-01, -4.52697231e-02],\n       [ 2.24332104e-01, -4.36678817e-02],\n       [-3.38029177e-01, -1.24012872e-01],\n       [-2.62178073e-01, -1.71983806e-01],\n       [-3.24096231e-01, -4.61971049e-02],\n       [ 8.32320154e-01, -1.59337690e-01],\n       [ 2.84622955e+00, -4.02112767e-02],\n       [-1.80013603e-01,  3.65928013e-02],\n       [ 6.95639404e-01,  6.44142566e-02],\n       [-3.36196849e-01,  5.74167391e-02],\n       [-2.15045529e-01, -7.23270157e-01],\n       [ 1.10169045e+00, -3.55743675e-02],\n       [ 4.31717131e+00, -7.19139092e-01],\n       [ 2.03831805e-01, -4.48481859e-02],\n       [ 3.18439376e+00, -7.19054785e-01],\n       [-3.52488237e-01, -2.17678438e-01],\n       [ 2.52306847e-01,  1.71177827e-02],\n       [-3.52451953e-01,  4.60574918e-01],\n       [ 2.58997582e+00, -7.26558147e-01],\n       [-3.55971473e-01,  1.31775901e-01],\n       [-1.41389590e-01,  1.84299436e-01],\n       [-2.03289606e-01,  4.28315519e-02],\n       [-3.40623462e-01, -1.17689814e-01],\n       [ 2.80862130e-01,  6.90511658e-02],\n       [-1.69092205e-01,  4.05552510e-02],\n       [-3.55935190e-01, -5.25316287e-01],\n       [-3.16204523e-01,  2.41375573e-01],\n       [-3.45449196e-01,  6.77865542e-02],\n       [-3.40460186e-01, -1.34858181e-02],\n       [-2.05049366e-01,  4.03023287e-02],\n       [-2.94887841e-01, -6.52114677e-01],\n       [-3.58130354e-01, -1.58241693e-01],\n       [-3.13592096e-01, -2.38249454e-01],\n       [-3.50619626e-01, -1.99636646e-01],\n       [-3.46918687e-01, -2.84082350e-02],\n       [-2.49097794e-01, -1.82100698e-01],\n       [-2.53850961e-01, -1.05128006e-01],\n       [-3.44578387e-01, -3.17805326e-02],\n       [-2.66749821e-01, -6.63465831e-02],\n       [-2.37813559e-01,  1.37454850e-02],\n       [-3.58456908e-01,  1.37454850e-02],\n       [-3.58420624e-01, -3.27079145e-02],\n       [-3.39153972e-01, -7.21415393e-01],\n       [-3.42746060e-01, -1.25584363e-02],\n       [-2.84474415e-01, -5.42063117e-02],\n       [-3.32768038e-01, -9.18613868e-03],\n       [-3.03233095e-01, -1.10409024e-02],\n       [-3.33910975e-01, -1.17996693e-02],\n       [-2.79485405e-01, -1.39073553e-02],\n       [-2.37360013e-01, -1.73639604e-02],\n       [-3.10072575e-01, -1.55935041e-02],\n       [-3.16367800e-01, -1.01135205e-02],\n       [-2.85599210e-01, -1.02821354e-02],\n       [-3.41312853e-01, -7.91613140e-02],\n       [-3.48460745e-01, -2.43560822e-01],\n       [-3.17438169e-01, -1.53942013e-01],\n       [-2.72500790e-01,  9.44580560e-03],\n       [ 4.57424142e+00, -7.19139092e-01],\n       [ 2.39629335e+00, -7.17621558e-01]])"
     },
     "execution_count": 35,
     "metadata": {},
     "output_type": "execute_result"
    }
   ],
   "source": [
    "scaler_base = StandardScaler()\n",
    "base_cotacoes = scaler_base.fit_transform(base_cotacoes)\n",
    "base_cotacoes"
   ]
  },
  {
   "cell_type": "markdown",
   "metadata": {
    "pycharm": {
     "name": "#%% md\n"
    }
   },
   "source": [
    "cluster"
   ]
  },
  {
   "cell_type": "markdown",
   "metadata": {
    "pycharm": {
     "name": "#%% md\n"
    }
   },
   "source": [
    "separando o numero de segmentos"
   ]
  },
  {
   "cell_type": "code",
   "execution_count": 36,
   "metadata": {
    "pycharm": {
     "name": "#%%\n"
    }
   },
   "outputs": [
    {
     "data": {
      "text/plain": "10"
     },
     "execution_count": 36,
     "metadata": {},
     "output_type": "execute_result"
    }
   ],
   "source": [
    "n_cluster = df['Setor']\n",
    "n_cluster = set(n_cluster)\n",
    "n_cluster = len(n_cluster)\n",
    "n_cluster"
   ]
  },
  {
   "cell_type": "code",
   "execution_count": 37,
   "metadata": {
    "pycharm": {
     "name": "#%%\n"
    }
   },
   "outputs": [
    {
     "data": {
      "text/plain": "KMeans(n_clusters=6)",
      "text/html": "<style>#sk-container-id-2 {color: black;background-color: white;}#sk-container-id-2 pre{padding: 0;}#sk-container-id-2 div.sk-toggleable {background-color: white;}#sk-container-id-2 label.sk-toggleable__label {cursor: pointer;display: block;width: 100%;margin-bottom: 0;padding: 0.3em;box-sizing: border-box;text-align: center;}#sk-container-id-2 label.sk-toggleable__label-arrow:before {content: \"▸\";float: left;margin-right: 0.25em;color: #696969;}#sk-container-id-2 label.sk-toggleable__label-arrow:hover:before {color: black;}#sk-container-id-2 div.sk-estimator:hover label.sk-toggleable__label-arrow:before {color: black;}#sk-container-id-2 div.sk-toggleable__content {max-height: 0;max-width: 0;overflow: hidden;text-align: left;background-color: #f0f8ff;}#sk-container-id-2 div.sk-toggleable__content pre {margin: 0.2em;color: black;border-radius: 0.25em;background-color: #f0f8ff;}#sk-container-id-2 input.sk-toggleable__control:checked~div.sk-toggleable__content {max-height: 200px;max-width: 100%;overflow: auto;}#sk-container-id-2 input.sk-toggleable__control:checked~label.sk-toggleable__label-arrow:before {content: \"▾\";}#sk-container-id-2 div.sk-estimator input.sk-toggleable__control:checked~label.sk-toggleable__label {background-color: #d4ebff;}#sk-container-id-2 div.sk-label input.sk-toggleable__control:checked~label.sk-toggleable__label {background-color: #d4ebff;}#sk-container-id-2 input.sk-hidden--visually {border: 0;clip: rect(1px 1px 1px 1px);clip: rect(1px, 1px, 1px, 1px);height: 1px;margin: -1px;overflow: hidden;padding: 0;position: absolute;width: 1px;}#sk-container-id-2 div.sk-estimator {font-family: monospace;background-color: #f0f8ff;border: 1px dotted black;border-radius: 0.25em;box-sizing: border-box;margin-bottom: 0.5em;}#sk-container-id-2 div.sk-estimator:hover {background-color: #d4ebff;}#sk-container-id-2 div.sk-parallel-item::after {content: \"\";width: 100%;border-bottom: 1px solid gray;flex-grow: 1;}#sk-container-id-2 div.sk-label:hover label.sk-toggleable__label {background-color: #d4ebff;}#sk-container-id-2 div.sk-serial::before {content: \"\";position: absolute;border-left: 1px solid gray;box-sizing: border-box;top: 0;bottom: 0;left: 50%;z-index: 0;}#sk-container-id-2 div.sk-serial {display: flex;flex-direction: column;align-items: center;background-color: white;padding-right: 0.2em;padding-left: 0.2em;position: relative;}#sk-container-id-2 div.sk-item {position: relative;z-index: 1;}#sk-container-id-2 div.sk-parallel {display: flex;align-items: stretch;justify-content: center;background-color: white;position: relative;}#sk-container-id-2 div.sk-item::before, #sk-container-id-2 div.sk-parallel-item::before {content: \"\";position: absolute;border-left: 1px solid gray;box-sizing: border-box;top: 0;bottom: 0;left: 50%;z-index: -1;}#sk-container-id-2 div.sk-parallel-item {display: flex;flex-direction: column;z-index: 1;position: relative;background-color: white;}#sk-container-id-2 div.sk-parallel-item:first-child::after {align-self: flex-end;width: 50%;}#sk-container-id-2 div.sk-parallel-item:last-child::after {align-self: flex-start;width: 50%;}#sk-container-id-2 div.sk-parallel-item:only-child::after {width: 0;}#sk-container-id-2 div.sk-dashed-wrapped {border: 1px dashed gray;margin: 0 0.4em 0.5em 0.4em;box-sizing: border-box;padding-bottom: 0.4em;background-color: white;}#sk-container-id-2 div.sk-label label {font-family: monospace;font-weight: bold;display: inline-block;line-height: 1.2em;}#sk-container-id-2 div.sk-label-container {text-align: center;}#sk-container-id-2 div.sk-container {/* jupyter's `normalize.less` sets `[hidden] { display: none; }` but bootstrap.min.css set `[hidden] { display: none !important; }` so we also need the `!important` here to be able to override the default hidden behavior on the sphinx rendered scikit-learn.org. See: https://github.com/scikit-learn/scikit-learn/issues/21755 */display: inline-block !important;position: relative;}#sk-container-id-2 div.sk-text-repr-fallback {display: none;}</style><div id=\"sk-container-id-2\" class=\"sk-top-container\"><div class=\"sk-text-repr-fallback\"><pre>KMeans(n_clusters=6)</pre><b>In a Jupyter environment, please rerun this cell to show the HTML representation or trust the notebook. <br />On GitHub, the HTML representation is unable to render, please try loading this page with nbviewer.org.</b></div><div class=\"sk-container\" hidden><div class=\"sk-item\"><div class=\"sk-estimator sk-toggleable\"><input class=\"sk-toggleable__control sk-hidden--visually\" id=\"sk-estimator-id-2\" type=\"checkbox\" checked><label for=\"sk-estimator-id-2\" class=\"sk-toggleable__label sk-toggleable__label-arrow\">KMeans</label><div class=\"sk-toggleable__content\"><pre>KMeans(n_clusters=6)</pre></div></div></div></div></div>"
     },
     "execution_count": 37,
     "metadata": {},
     "output_type": "execute_result"
    }
   ],
   "source": [
    "k_means_cotacao = KMeans(n_clusters=6)\n",
    "k_means_cotacao.fit(base_cotacoes)"
   ]
  },
  {
   "cell_type": "markdown",
   "metadata": {
    "pycharm": {
     "name": "#%% md\n"
    }
   },
   "source": [
    "localizando os pontos de referencia"
   ]
  },
  {
   "cell_type": "code",
   "execution_count": 38,
   "metadata": {
    "pycharm": {
     "name": "#%%\n"
    }
   },
   "outputs": [
    {
     "data": {
      "text/plain": "array([[ 0.60847433, -0.14600072],\n       [-0.33304535,  5.85143352],\n       [ 8.96013511, -0.71901263],\n       [ 2.96656086, -0.419443  ],\n       [-0.28127728,  0.03198925],\n       [-0.25104804, -0.62161283]])"
     },
     "execution_count": 38,
     "metadata": {},
     "output_type": "execute_result"
    }
   ],
   "source": [
    "centroides = k_means_cotacao.cluster_centers_\n",
    "centroides"
   ]
  },
  {
   "cell_type": "markdown",
   "metadata": {
    "pycharm": {
     "name": "#%% md\n"
    }
   },
   "source": [
    "vizualizando centros em 2D matematicamente pelo reverse scaler"
   ]
  },
  {
   "cell_type": "code",
   "execution_count": 39,
   "metadata": {
    "pycharm": {
     "name": "#%%\n"
    }
   },
   "outputs": [],
   "source": [
    "# scaler_base.inverse_transform(k_means_cotacao.cluster_centers_)"
   ]
  },
  {
   "cell_type": "markdown",
   "metadata": {
    "pycharm": {
     "name": "#%% md\n"
    }
   },
   "source": [
    "add rotulos"
   ]
  },
  {
   "cell_type": "markdown",
   "metadata": {
    "pycharm": {
     "name": "#%% md\n"
    }
   },
   "source": []
  },
  {
   "cell_type": "code",
   "execution_count": 40,
   "metadata": {
    "pycharm": {
     "name": "#%%\n"
    }
   },
   "outputs": [
    {
     "data": {
      "text/plain": "array([5, 5, 5, 1, 5, 4, 4, 4, 4, 5, 5, 4, 1, 4, 5, 5, 5, 5, 5, 1, 1, 5,\n       4, 4, 4, 4, 5, 5, 4, 5, 5, 5, 4, 0, 4, 4, 5, 4, 4, 4, 4, 4, 4, 4,\n       0, 4, 4, 4, 4, 4, 4, 4, 4, 4, 4, 4, 4, 4, 4, 3, 0, 4, 0, 3, 4, 4,\n       4, 5, 4, 4, 4, 4, 4, 5, 4, 4, 5, 4, 4, 0, 4, 1, 4, 5, 2, 0, 0, 4,\n       4, 5, 4, 4, 4, 4, 4, 0, 3, 1, 4, 5, 4, 4, 0, 4, 5, 4, 4, 4, 5, 5,\n       4, 0, 4, 4, 4, 0, 4, 4, 4, 2, 4, 5, 5, 4, 4, 4, 4, 4, 4, 4, 5, 4,\n       4, 5, 0, 0, 4, 4, 4, 4, 4, 4, 4, 4, 4, 4, 0, 4, 4, 5, 4, 4, 0, 0,\n       0, 4, 5, 5, 4, 5, 5, 4, 4, 4, 4, 4, 5, 0, 4, 4, 4, 5, 5, 4, 4, 4,\n       0, 5, 5, 4, 4, 0, 4, 4, 5, 4, 5, 4, 3, 4, 4, 5, 4, 4, 4, 4, 4, 5,\n       4, 5, 5, 5, 5, 0, 0, 0, 5, 4, 5, 5, 1, 4, 4, 4, 0, 0, 4, 4, 4, 4,\n       5, 4, 0, 4, 4, 4, 0, 4, 0, 4, 4, 4, 4, 4, 5, 4, 0, 4, 4, 4, 4, 4,\n       0, 4, 4, 4, 0, 3, 4, 0, 4, 5, 0, 3, 0, 3, 4, 0, 4, 3, 4, 4, 4, 4,\n       0, 4, 5, 4, 4, 4, 4, 5, 4, 4, 4, 4, 4, 4, 4, 4, 4, 4, 4, 5, 4, 4,\n       4, 4, 4, 4, 4, 4, 4, 4, 4, 4, 4, 4, 3, 3])"
     },
     "execution_count": 40,
     "metadata": {},
     "output_type": "execute_result"
    }
   ],
   "source": [
    "rotulos = k_means_cotacao.labels_\n",
    "rotulos"
   ]
  },
  {
   "cell_type": "markdown",
   "metadata": {
    "pycharm": {
     "name": "#%% md\n"
    }
   },
   "source": [
    "grafico do cluster"
   ]
  },
  {
   "cell_type": "code",
   "execution_count": 41,
   "metadata": {
    "pycharm": {
     "name": "#%%\n"
    }
   },
   "outputs": [
    {
     "data": {
      "application/vnd.plotly.v1+json": {
       "data": [
        {
         "hovertemplate": "x=%{x}<br>y=%{y}<br>color=%{marker.color}<extra></extra>",
         "legendgroup": "",
         "marker": {
          "color": [
           5,
           5,
           5,
           1,
           5,
           4,
           4,
           4,
           4,
           5,
           5,
           4,
           1,
           4,
           5,
           5,
           5,
           5,
           5,
           1,
           1,
           5,
           4,
           4,
           4,
           4,
           5,
           5,
           4,
           5,
           5,
           5,
           4,
           0,
           4,
           4,
           5,
           4,
           4,
           4,
           4,
           4,
           4,
           4,
           0,
           4,
           4,
           4,
           4,
           4,
           4,
           4,
           4,
           4,
           4,
           4,
           4,
           4,
           4,
           3,
           0,
           4,
           0,
           3,
           4,
           4,
           4,
           5,
           4,
           4,
           4,
           4,
           4,
           5,
           4,
           4,
           5,
           4,
           4,
           0,
           4,
           1,
           4,
           5,
           2,
           0,
           0,
           4,
           4,
           5,
           4,
           4,
           4,
           4,
           4,
           0,
           3,
           1,
           4,
           5,
           4,
           4,
           0,
           4,
           5,
           4,
           4,
           4,
           5,
           5,
           4,
           0,
           4,
           4,
           4,
           0,
           4,
           4,
           4,
           2,
           4,
           5,
           5,
           4,
           4,
           4,
           4,
           4,
           4,
           4,
           5,
           4,
           4,
           5,
           0,
           0,
           4,
           4,
           4,
           4,
           4,
           4,
           4,
           4,
           4,
           4,
           0,
           4,
           4,
           5,
           4,
           4,
           0,
           0,
           0,
           4,
           5,
           5,
           4,
           5,
           5,
           4,
           4,
           4,
           4,
           4,
           5,
           0,
           4,
           4,
           4,
           5,
           5,
           4,
           4,
           4,
           0,
           5,
           5,
           4,
           4,
           0,
           4,
           4,
           5,
           4,
           5,
           4,
           3,
           4,
           4,
           5,
           4,
           4,
           4,
           4,
           4,
           5,
           4,
           5,
           5,
           5,
           5,
           0,
           0,
           0,
           5,
           4,
           5,
           5,
           1,
           4,
           4,
           4,
           0,
           0,
           4,
           4,
           4,
           4,
           5,
           4,
           0,
           4,
           4,
           4,
           0,
           4,
           0,
           4,
           4,
           4,
           4,
           4,
           5,
           4,
           0,
           4,
           4,
           4,
           4,
           4,
           0,
           4,
           4,
           4,
           0,
           3,
           4,
           0,
           4,
           5,
           0,
           3,
           0,
           3,
           4,
           0,
           4,
           3,
           4,
           4,
           4,
           4,
           0,
           4,
           5,
           4,
           4,
           4,
           4,
           5,
           4,
           4,
           4,
           4,
           4,
           4,
           4,
           4,
           4,
           4,
           4,
           5,
           4,
           4,
           4,
           4,
           4,
           4,
           4,
           4,
           4,
           4,
           4,
           4,
           4,
           4,
           3,
           3
          ],
          "coloraxis": "coloraxis",
          "symbol": "circle"
         },
         "mode": "markers",
         "name": "",
         "orientation": "v",
         "showlegend": false,
         "x": [
          -0.7768053813877291,
          -0.6607140362797732,
          -0.7429137904411799,
          6.867940370503428,
          -0.7424922532403522,
          -0.019977491021628397,
          0.5870360781702982,
          -0.12932424091634073,
          0.17974683473054856,
          -0.7639906504825663,
          -0.507190187738315,
          0.22451408545845317,
          5.805666624417556,
          -0.256122630925321,
          -0.8040366845612004,
          -0.7956902479848114,
          -0.7745290805032594,
          -0.49454407171348325,
          -0.4077917157831371,
          6.977540042718637,
          7.20517013116561,
          -0.7953530182241492,
          -0.10428493118717376,
          -0.06297428550605648,
          1.118172951213234,
          0.0019424434214133522,
          -0.7010973001190695,
          -0.7408061044370413,
          -0.22897563519201541,
          -0.7703980159351478,
          -0.8040366845612004,
          -0.5641820172902238,
          -0.2623613814975713,
          -0.7357476580271086,
          -0.24423528186197901,
          0.009867342796974718,
          -0.8040366845612004,
          0.484181001168333,
          -0.04704017931476841,
          -0.15545954736765974,
          -0.12114641922028284,
          0.0537915191232238,
          -0.09163881516234196,
          -0.01154674700507386,
          0.06432994914391697,
          -0.052857392686191135,
          -0.052014318284535614,
          -0.057494301895296106,
          -0.051086936442714614,
          -0.05513369357066083,
          -0.05656692005347511,
          -0.059601987899434744,
          -0.060107832540428036,
          -0.08700190595323698,
          -0.028408235038182933,
          0.0474684611108079,
          0.051683833119085164,
          0.014251329685583044,
          0.003628592224724284,
          0.0592715027339843,
          -0.08236499674413202,
          0.10100368561592916,
          -0.06423889710853971,
          -0.06449181942903635,
          -0.13463560964677004,
          -0.09121727796151426,
          0.41100214310463956,
          -0.36622814778152324,
          0.19399479211852572,
          -0.24271774793899928,
          -0.25182295147687817,
          0.3493734043436259,
          -0.011799669325570505,
          -0.332336556834974,
          -0.10057540381988979,
          -0.12966147067700295,
          -0.3268565732242135,
          -0.15706138873080522,
          -0.011293824684577214,
          -0.7281599884122095,
          0.05041922151660194,
          5.906835552616211,
          0.02554852666776615,
          -0.8040366845612004,
          -0.7172000211906886,
          0.12224916053764667,
          0.06517302354557238,
          -0.13176915668114159,
          0.013745485044589752,
          -0.719729244395655,
          0.05067214383709859,
          -0.22256826973943392,
          -0.08995266635903103,
          -0.17257395772126546,
          0.7069212580857037,
          0.030606973077698826,
          0.17392962135912596,
          3.268012675434641,
          -0.18344961750262087,
          -0.43055472462783434,
          0.11744363644821053,
          0.0014365987804201808,
          -0.033466681448115605,
          0.03903771709425336,
          -0.42608643029906046,
          0.14863738930946235,
          -0.07604193873171611,
          -0.024698707670898955,
          -0.7260523024080708,
          -0.7268953768097263,
          0.11837101829003152,
          0.11069904123496692,
          -0.04434234122947101,
          -0.06887580631764469,
          -0.05471215636983313,
          -0.739372877954227,
          0.08532250174513772,
          -0.07899269913751016,
          0.007843964233001552,
          -0.720825241117807,
          1.4891256879416335,
          -0.45584695667749797,
          -0.7353261208262808,
          0.12697037718691723,
          -0.12182087874160719,
          -0.013064280928053732,
          -0.07494594200956393,
          0.2455909454998395,
          0.5702588975773546,
          0.9326122754088688,
          -0.46689123133918436,
          0.0015209062205856494,
          -0.1461014215092842,
          -0.8040366845612004,
          0.286480053980129,
          0.07874652141222517,
          0.055899205127362434,
          1.4048182477760882,
          -0.1077415362339611,
          0.6418359142779028,
          -0.019977491021628397,
          0.014335637125748512,
          -0.11364305704554929,
          -0.07477732712923288,
          -0.10613969487081575,
          0.014588559446245158,
          1.0170040230145796,
          -0.07907700657767575,
          0.1402066452929078,
          -0.3094049331099456,
          -0.08894097707704457,
          0.03903771709425336,
          0.08372066038199238,
          0.25579214575987047,
          -0.7327968976213145,
          -0.20595970402682148,
          -0.41706553420134707,
          -0.43055472462783434,
          -0.09585418717061922,
          -0.6535479038657017,
          -0.3189316738486523,
          -0.1945781996044728,
          0.020658695138164415,
          0.02217622906114429,
          -0.1461857289494498,
          0.04738415367064231,
          -0.5751419845117447,
          -0.009439061000935224,
          0.07528991636543785,
          -0.037682053456392875,
          -0.1321063864418037,
          -0.37406873971691895,
          -0.7059871316486711,
          -0.11440182400703923,
          -0.02925130943983834,
          0.056826586969183426,
          -0.7281599884122095,
          -0.739372877954227,
          -0.3824994837334735,
          0.13590696584446493,
          -0.16498628810636645,
          0.166510566624558,
          0.9499796080829711,
          1.1428750311817388,
          -0.8040366845612004,
          0.11331257188009886,
          -0.8040366845612004,
          -0.13741775517223315,
          -0.7214153931989659,
          -0.1471974182314364,
          0.02554852666776615,
          -0.40618987441999177,
          0.12334515725979874,
          0.20554491142120546,
          -0.1802459347763302,
          -0.2144747554835415,
          -0.12350702754491812,
          -0.7522719162995555,
          0.29103265574906834,
          -0.7190547848743306,
          -0.7194763220751583,
          -0.7193920146349927,
          -0.7193920146349927,
          -0.7192233997546617,
          -0.7195606295153238,
          -0.7193920146349927,
          -0.7194763220751583,
          0.021248847219323293,
          -0.7263052247285675,
          -0.7381082663517438,
          4.928869246695885,
          0.6459669788460145,
          0.43502976355181994,
          -0.07503024944972952,
          0.05488751584537585,
          -0.2543521746818445,
          -0.2417060586570127,
          -0.00615107083447895,
          0.04013371381640541,
          0.4900825219799211,
          -0.29566282036296176,
          -0.10597107999048469,
          -0.21565505964585915,
          -0.03245499216612914,
          -0.003284617868850379,
          -0.05875891349777922,
          -0.19972095345457105,
          -0.2986135807687558,
          -0.7269796842498918,
          -0.0728382560054253,
          0.047215538790311255,
          -0.16085522353825465,
          -0.11043937431925861,
          -0.014244585090371253,
          -0.4299645725466755,
          0.009445805596146896,
          -0.0507497066820525,
          -0.2864733093849173,
          -0.09585418717061922,
          0.0220919216209787,
          0.2750985495577804,
          -0.045269723071292005,
          -0.043667881708146665,
          -0.12401287218591141,
          -0.1719838056401067,
          -0.046197104913113,
          -0.1593376896152749,
          -0.04021127666135933,
          0.036592801329452494,
          0.06441425658408256,
          0.05741673905034231,
          -0.7232701568826079,
          -0.035574367452254244,
          -0.719139092314496,
          -0.044848185870464304,
          -0.7190547848743306,
          -0.2176784382098323,
          0.017117782651211614,
          0.4605749179219802,
          -0.7265581470490642,
          0.13177590127635327,
          0.18429943649948807,
          0.04283155190170293,
          -0.1176898141734955,
          0.06905116579318753,
          0.040555251017233236,
          -0.5253162873739073,
          0.24137557349156225,
          0.0677865541907043,
          -0.013485818128881435,
          0.04030232869673659,
          -0.6521146773828876,
          -0.15824169289312284,
          -0.23824945361022537,
          -0.1996366460144056,
          -0.028408235038182933,
          -0.18210069845997218,
          -0.10512800558882916,
          -0.03178053264480479,
          -0.06634658311267835,
          0.013745485044589752,
          0.013745485044589752,
          -0.032707914486625786,
          -0.7214153931989659,
          -0.01255843628706044,
          -0.054206311728839836,
          -0.009186138680438579,
          -0.011040902364080568,
          -0.011799669325570505,
          -0.013907355329709138,
          -0.01736396037649647,
          -0.01559350413302007,
          -0.010113520522259573,
          -0.01028213540259063,
          -0.07916131401784121,
          -0.24356082234065468,
          -0.15394201344467998,
          0.009445805596146896,
          -0.719139092314496,
          -0.7176215583915163
         ],
         "xaxis": "x",
         "y": [
          -0.32494889805990945,
          -0.35849319148421666,
          -0.3387729930243887,
          -0.3581847799167676,
          -0.35843876591349033,
          -0.3584569077703991,
          -0.35488296195937236,
          -0.35774937535095724,
          -0.322971435656854,
          -0.31058054738816726,
          -0.3578219427785923,
          -0.34715453091623827,
          -0.35843876591349033,
          -0.3584569077703991,
          -0.3585113333411254,
          -0.32562014676553375,
          -0.3525426624181416,
          -0.35742282192659947,
          -0.335652593636081,
          -0.19831873683672702,
          -0.35415728768302174,
          -0.3524882368474153,
          -0.35823920548749394,
          -0.35849319148421666,
          -0.35553606880808786,
          -0.3584206240565816,
          -0.357694949780231,
          -0.35849319148421666,
          -0.3577856590647748,
          -0.24256672583720582,
          -0.3585113333411254,
          -0.2649537772626223,
          -0.20067717823486653,
          1.2485669190649478,
          -0.3236064006486608,
          -0.2744782521397241,
          -0.3585113333411254,
          -0.09489201059985554,
          -0.2758933169786078,
          -0.3188169504247467,
          -0.3510368882947141,
          -0.1292345457281484,
          -0.35508252238536875,
          -0.3463744310691614,
          0.30776650349019224,
          -0.35530022466827393,
          -0.2718113991741356,
          -0.3088389291249258,
          -0.31651293459733354,
          -0.24742874348875493,
          -0.3158779696055267,
          -0.18209991676029078,
          -0.29523253644335173,
          -0.3057003878797094,
          -0.34691868677642435,
          -0.3500209443078232,
          -0.31839968771584515,
          0.058007559427219156,
          -0.13727138833873148,
          2.6749704185166263,
          0.22783348195017197,
          -0.05706623894507971,
          0.3274867019500202,
          2.2099946259449696,
          -0.3530687762684958,
          -0.33066358298617055,
          -0.13986567387668494,
          -0.30519241588626395,
          -0.3396438021560094,
          -0.3563161686551648,
          -0.3184722551434802,
          -0.34280048525813456,
          -0.3582936310582202,
          -0.35849319148421666,
          -0.34958553974201284,
          -0.07774795582107225,
          -0.2967020268529617,
          -0.35462897596264964,
          0.11078222117481767,
          0.8146137018072797,
          -0.1737002370115324,
          -0.3570418429315154,
          -0.3387729930243887,
          -0.3585113333411254,
          10.395455328324644,
          0.45364517489357475,
          1.1772875632704085,
          -0.3282507160173047,
          -0.22054251154996463,
          -0.3471908146300558,
          -0.3472996657715084,
          -0.34715453091623827,
          -0.2700879227678029,
          -0.22515054320479103,
          -0.3547922526748285,
          0.8453460074107282,
          2.1093980293858654,
          -0.3509461790101702,
          -0.3434535921068501,
          -0.2511659660119606,
          -0.26194222901576725,
          0.16201482508517112,
          0.7315421390220429,
          -0.27772564452639315,
          -0.35393958540011655,
          -0.35475596896101097,
          -0.30297910934339456,
          -0.060023361621208464,
          -0.2602731781801608,
          -0.2421494631283042,
          -0.14966227660741824,
          1.035200539960958,
          -0.1818277889066593,
          -0.35686042436242776,
          -0.3010379306541567,
          1.154356256137729,
          -0.3535404645481237,
          -0.3579489357769537,
          -0.321501945247244,
          7.524814884079969,
          -0.3579307939200449,
          -0.34945854674365145,
          0.2925454855437381,
          -0.08104977377846755,
          -0.3212479592505213,
          -0.26020061075252576,
          -0.33276803838758734,
          -0.34423369195392706,
          -0.349494830457469,
          -0.35849319148421666,
          -0.35323205298067467,
          -0.3553546502390002,
          -0.35780380092168357,
          -0.3585113333411254,
          0.3665642617315009,
          0.4879695681649589,
          -0.35577191294790184,
          -0.3121226052254123,
          -0.34314518053940113,
          0.2390270076628802,
          -0.358311772915129,
          -0.175586990130044,
          -0.25778774378366,
          -0.3438164292450254,
          -0.35740468006969073,
          -0.3482793260445817,
          1.4517194327293026,
          -0.16985416334687412,
          -0.3575679567818696,
          -0.3498758094525531,
          -0.29151345577705484,
          -0.3540121528277516,
          0.2118323641566409,
          0.4619541453577893,
          1.1685431882403836,
          -0.19882670883017245,
          -0.13834175789634864,
          -0.31829083657439255,
          -0.16718731038128562,
          -0.19499877702242296,
          -0.32199177538378065,
          -0.3007658028005252,
          -0.28215225761213186,
          -0.1339151448106099,
          -0.30539197631226034,
          -0.26870914164273674,
          -0.355372792095909,
          0.1908603775701081,
          -0.21513623819115255,
          -0.2726096408781213,
          -0.3152067208999024,
          -0.3448686569457338,
          -0.3561891756568034,
          -0.30444859975300453,
          -0.10013500724648874,
          -0.3282144323034872,
          0.44346759316775736,
          -0.16355893899953253,
          0.008770559776829891,
          0.024336273004550595,
          0.03273595275330897,
          0.737873647083202,
          -0.35796707763386243,
          -0.3560984663722596,
          -0.3585113333411254,
          -0.3582029217736764,
          -0.3585113333411254,
          -0.18554686957295619,
          2.76294028266723,
          -0.3326954709599523,
          -0.35849319148421666,
          -0.2610714198841465,
          -0.3178917157223997,
          -0.15671945894492798,
          -0.3581484962029501,
          -0.35308691812540455,
          -0.3434535921068501,
          -0.3376119141822277,
          -0.34715453091623827,
          -0.1512587600153896,
          -0.02112722040881547,
          0.22099400189556742,
          0.1296316105030249,
          0.8469606326756083,
          0.3851233813491679,
          0.37944498013672434,
          0.01782334637430382,
          -0.3261281187589792,
          0.036618310131784765,
          0.3102700797436019,
          -0.3542298551106568,
          -0.3554997850942703,
          -0.3088752128387433,
          -0.3317520944006965,
          0.6562534328506665,
          0.16359316663623372,
          -0.2567355160829516,
          0.1251324299896511,
          -0.28940900037563805,
          -0.34234693883541545,
          -0.08874192110778407,
          -0.3398433625820058,
          0.37897329185709644,
          -0.23656177120040447,
          -0.2941440250288258,
          -0.24363709539482298,
          0.21847228378524902,
          -0.3565520127949787,
          0.7364585822443184,
          -0.2149548196220649,
          -0.27939469536199957,
          -0.347408516912961,
          -0.34397970595720434,
          -0.2842022874428224,
          -0.3452496359408179,
          -0.3537037412603026,
          0.7043837792296211,
          -0.14913616275706407,
          -0.3319879385405104,
          -0.2623594917246688,
          -0.3581484962029501,
          -0.3584569077703991,
          0.22433210356678024,
          -0.33802917689112927,
          -0.26217807315558117,
          -0.32409623078519745,
          0.8323201541502346,
          2.846229547735372,
          -0.18001360321578275,
          0.6956394041995962,
          -0.336196849343344,
          -0.21504552890660872,
          1.1016904455315832,
          4.31717130589807,
          0.20383180525987535,
          3.1843937605147588,
          -0.3524882368474153,
          0.2523068469200965,
          -0.3524519531335978,
          2.5899758188990605,
          -0.35597147337389823,
          -0.14138958985702124,
          -0.20328960562972875,
          -0.34062346242908276,
          0.2808621296944932,
          -0.169092205356706,
          -0.3559351896600807,
          -0.3162045230298845,
          -0.3454491963668143,
          -0.34046018571690384,
          -0.20504936574987898,
          -0.29488784116208516,
          -0.35813035434604135,
          -0.3135920956350223,
          -0.35061962558581244,
          -0.34691868677642435,
          -0.24909779432436135,
          -0.2538509608344579,
          -0.3445783872351936,
          -0.26674982109659007,
          -0.23781355932710926,
          -0.3584569077703991,
          -0.3584206240565816,
          -0.3391539720194727,
          -0.3427460596874083,
          -0.28447441529645384,
          -0.33276803838758734,
          -0.3032330953401173,
          -0.33391097537283954,
          -0.27948540464654337,
          -0.23736001290439013,
          -0.3100725753947218,
          -0.3163677997420634,
          -0.2855992104247973,
          -0.34131285299161584,
          -0.3484607446136694,
          -0.31743816929968055,
          -0.2725007897366687,
          4.574241418295275,
          2.3962933545410814
         ],
         "yaxis": "y",
         "type": "scatter"
        },
        {
         "hovertemplate": "x=%{x}<br>y=%{y}<br>size=%{marker.size}<extra></extra>",
         "legendgroup": "",
         "marker": {
          "color": "#636efa",
          "size": [
           1,
           2,
           3,
           4,
           5,
           6
          ],
          "sizemode": "area",
          "sizeref": 0.015,
          "symbol": "circle"
         },
         "mode": "markers",
         "name": "",
         "orientation": "v",
         "showlegend": false,
         "x": [
          -0.14600072095575317,
          5.851433520507424,
          -0.7190126311542478,
          -0.4194430040140154,
          0.03198925442287295,
          -0.621612826961615
         ],
         "xaxis": "x",
         "y": [
          0.6084743329790843,
          -0.333045349628907,
          8.960135106202307,
          2.9665608562398305,
          -0.28127727682357495,
          -0.2510480439420537
         ],
         "yaxis": "y",
         "type": "scatter"
        }
       ],
       "layout": {
        "template": {
         "data": {
          "histogram2dcontour": [
           {
            "type": "histogram2dcontour",
            "colorbar": {
             "outlinewidth": 0,
             "ticks": ""
            },
            "colorscale": [
             [
              0.0,
              "#0d0887"
             ],
             [
              0.1111111111111111,
              "#46039f"
             ],
             [
              0.2222222222222222,
              "#7201a8"
             ],
             [
              0.3333333333333333,
              "#9c179e"
             ],
             [
              0.4444444444444444,
              "#bd3786"
             ],
             [
              0.5555555555555556,
              "#d8576b"
             ],
             [
              0.6666666666666666,
              "#ed7953"
             ],
             [
              0.7777777777777778,
              "#fb9f3a"
             ],
             [
              0.8888888888888888,
              "#fdca26"
             ],
             [
              1.0,
              "#f0f921"
             ]
            ]
           }
          ],
          "choropleth": [
           {
            "type": "choropleth",
            "colorbar": {
             "outlinewidth": 0,
             "ticks": ""
            }
           }
          ],
          "histogram2d": [
           {
            "type": "histogram2d",
            "colorbar": {
             "outlinewidth": 0,
             "ticks": ""
            },
            "colorscale": [
             [
              0.0,
              "#0d0887"
             ],
             [
              0.1111111111111111,
              "#46039f"
             ],
             [
              0.2222222222222222,
              "#7201a8"
             ],
             [
              0.3333333333333333,
              "#9c179e"
             ],
             [
              0.4444444444444444,
              "#bd3786"
             ],
             [
              0.5555555555555556,
              "#d8576b"
             ],
             [
              0.6666666666666666,
              "#ed7953"
             ],
             [
              0.7777777777777778,
              "#fb9f3a"
             ],
             [
              0.8888888888888888,
              "#fdca26"
             ],
             [
              1.0,
              "#f0f921"
             ]
            ]
           }
          ],
          "heatmap": [
           {
            "type": "heatmap",
            "colorbar": {
             "outlinewidth": 0,
             "ticks": ""
            },
            "colorscale": [
             [
              0.0,
              "#0d0887"
             ],
             [
              0.1111111111111111,
              "#46039f"
             ],
             [
              0.2222222222222222,
              "#7201a8"
             ],
             [
              0.3333333333333333,
              "#9c179e"
             ],
             [
              0.4444444444444444,
              "#bd3786"
             ],
             [
              0.5555555555555556,
              "#d8576b"
             ],
             [
              0.6666666666666666,
              "#ed7953"
             ],
             [
              0.7777777777777778,
              "#fb9f3a"
             ],
             [
              0.8888888888888888,
              "#fdca26"
             ],
             [
              1.0,
              "#f0f921"
             ]
            ]
           }
          ],
          "heatmapgl": [
           {
            "type": "heatmapgl",
            "colorbar": {
             "outlinewidth": 0,
             "ticks": ""
            },
            "colorscale": [
             [
              0.0,
              "#0d0887"
             ],
             [
              0.1111111111111111,
              "#46039f"
             ],
             [
              0.2222222222222222,
              "#7201a8"
             ],
             [
              0.3333333333333333,
              "#9c179e"
             ],
             [
              0.4444444444444444,
              "#bd3786"
             ],
             [
              0.5555555555555556,
              "#d8576b"
             ],
             [
              0.6666666666666666,
              "#ed7953"
             ],
             [
              0.7777777777777778,
              "#fb9f3a"
             ],
             [
              0.8888888888888888,
              "#fdca26"
             ],
             [
              1.0,
              "#f0f921"
             ]
            ]
           }
          ],
          "contourcarpet": [
           {
            "type": "contourcarpet",
            "colorbar": {
             "outlinewidth": 0,
             "ticks": ""
            }
           }
          ],
          "contour": [
           {
            "type": "contour",
            "colorbar": {
             "outlinewidth": 0,
             "ticks": ""
            },
            "colorscale": [
             [
              0.0,
              "#0d0887"
             ],
             [
              0.1111111111111111,
              "#46039f"
             ],
             [
              0.2222222222222222,
              "#7201a8"
             ],
             [
              0.3333333333333333,
              "#9c179e"
             ],
             [
              0.4444444444444444,
              "#bd3786"
             ],
             [
              0.5555555555555556,
              "#d8576b"
             ],
             [
              0.6666666666666666,
              "#ed7953"
             ],
             [
              0.7777777777777778,
              "#fb9f3a"
             ],
             [
              0.8888888888888888,
              "#fdca26"
             ],
             [
              1.0,
              "#f0f921"
             ]
            ]
           }
          ],
          "surface": [
           {
            "type": "surface",
            "colorbar": {
             "outlinewidth": 0,
             "ticks": ""
            },
            "colorscale": [
             [
              0.0,
              "#0d0887"
             ],
             [
              0.1111111111111111,
              "#46039f"
             ],
             [
              0.2222222222222222,
              "#7201a8"
             ],
             [
              0.3333333333333333,
              "#9c179e"
             ],
             [
              0.4444444444444444,
              "#bd3786"
             ],
             [
              0.5555555555555556,
              "#d8576b"
             ],
             [
              0.6666666666666666,
              "#ed7953"
             ],
             [
              0.7777777777777778,
              "#fb9f3a"
             ],
             [
              0.8888888888888888,
              "#fdca26"
             ],
             [
              1.0,
              "#f0f921"
             ]
            ]
           }
          ],
          "mesh3d": [
           {
            "type": "mesh3d",
            "colorbar": {
             "outlinewidth": 0,
             "ticks": ""
            }
           }
          ],
          "scatter": [
           {
            "marker": {
             "line": {
              "color": "#283442"
             }
            },
            "type": "scatter"
           }
          ],
          "parcoords": [
           {
            "type": "parcoords",
            "line": {
             "colorbar": {
              "outlinewidth": 0,
              "ticks": ""
             }
            }
           }
          ],
          "scatterpolargl": [
           {
            "type": "scatterpolargl",
            "marker": {
             "colorbar": {
              "outlinewidth": 0,
              "ticks": ""
             }
            }
           }
          ],
          "bar": [
           {
            "error_x": {
             "color": "#f2f5fa"
            },
            "error_y": {
             "color": "#f2f5fa"
            },
            "marker": {
             "line": {
              "color": "rgb(17,17,17)",
              "width": 0.5
             },
             "pattern": {
              "fillmode": "overlay",
              "size": 10,
              "solidity": 0.2
             }
            },
            "type": "bar"
           }
          ],
          "scattergeo": [
           {
            "type": "scattergeo",
            "marker": {
             "colorbar": {
              "outlinewidth": 0,
              "ticks": ""
             }
            }
           }
          ],
          "scatterpolar": [
           {
            "type": "scatterpolar",
            "marker": {
             "colorbar": {
              "outlinewidth": 0,
              "ticks": ""
             }
            }
           }
          ],
          "histogram": [
           {
            "marker": {
             "pattern": {
              "fillmode": "overlay",
              "size": 10,
              "solidity": 0.2
             }
            },
            "type": "histogram"
           }
          ],
          "scattergl": [
           {
            "marker": {
             "line": {
              "color": "#283442"
             }
            },
            "type": "scattergl"
           }
          ],
          "scatter3d": [
           {
            "type": "scatter3d",
            "line": {
             "colorbar": {
              "outlinewidth": 0,
              "ticks": ""
             }
            },
            "marker": {
             "colorbar": {
              "outlinewidth": 0,
              "ticks": ""
             }
            }
           }
          ],
          "scattermapbox": [
           {
            "type": "scattermapbox",
            "marker": {
             "colorbar": {
              "outlinewidth": 0,
              "ticks": ""
             }
            }
           }
          ],
          "scatterternary": [
           {
            "type": "scatterternary",
            "marker": {
             "colorbar": {
              "outlinewidth": 0,
              "ticks": ""
             }
            }
           }
          ],
          "scattercarpet": [
           {
            "type": "scattercarpet",
            "marker": {
             "colorbar": {
              "outlinewidth": 0,
              "ticks": ""
             }
            }
           }
          ],
          "carpet": [
           {
            "aaxis": {
             "endlinecolor": "#A2B1C6",
             "gridcolor": "#506784",
             "linecolor": "#506784",
             "minorgridcolor": "#506784",
             "startlinecolor": "#A2B1C6"
            },
            "baxis": {
             "endlinecolor": "#A2B1C6",
             "gridcolor": "#506784",
             "linecolor": "#506784",
             "minorgridcolor": "#506784",
             "startlinecolor": "#A2B1C6"
            },
            "type": "carpet"
           }
          ],
          "table": [
           {
            "cells": {
             "fill": {
              "color": "#506784"
             },
             "line": {
              "color": "rgb(17,17,17)"
             }
            },
            "header": {
             "fill": {
              "color": "#2a3f5f"
             },
             "line": {
              "color": "rgb(17,17,17)"
             }
            },
            "type": "table"
           }
          ],
          "barpolar": [
           {
            "marker": {
             "line": {
              "color": "rgb(17,17,17)",
              "width": 0.5
             },
             "pattern": {
              "fillmode": "overlay",
              "size": 10,
              "solidity": 0.2
             }
            },
            "type": "barpolar"
           }
          ],
          "pie": [
           {
            "automargin": true,
            "type": "pie"
           }
          ]
         },
         "layout": {
          "autotypenumbers": "strict",
          "colorway": [
           "#636efa",
           "#EF553B",
           "#00cc96",
           "#ab63fa",
           "#FFA15A",
           "#19d3f3",
           "#FF6692",
           "#B6E880",
           "#FF97FF",
           "#FECB52"
          ],
          "font": {
           "color": "#f2f5fa"
          },
          "hovermode": "closest",
          "hoverlabel": {
           "align": "left"
          },
          "paper_bgcolor": "rgb(17,17,17)",
          "plot_bgcolor": "rgb(17,17,17)",
          "polar": {
           "bgcolor": "rgb(17,17,17)",
           "angularaxis": {
            "gridcolor": "#506784",
            "linecolor": "#506784",
            "ticks": ""
           },
           "radialaxis": {
            "gridcolor": "#506784",
            "linecolor": "#506784",
            "ticks": ""
           }
          },
          "ternary": {
           "bgcolor": "rgb(17,17,17)",
           "aaxis": {
            "gridcolor": "#506784",
            "linecolor": "#506784",
            "ticks": ""
           },
           "baxis": {
            "gridcolor": "#506784",
            "linecolor": "#506784",
            "ticks": ""
           },
           "caxis": {
            "gridcolor": "#506784",
            "linecolor": "#506784",
            "ticks": ""
           }
          },
          "coloraxis": {
           "colorbar": {
            "outlinewidth": 0,
            "ticks": ""
           }
          },
          "colorscale": {
           "sequential": [
            [
             0.0,
             "#0d0887"
            ],
            [
             0.1111111111111111,
             "#46039f"
            ],
            [
             0.2222222222222222,
             "#7201a8"
            ],
            [
             0.3333333333333333,
             "#9c179e"
            ],
            [
             0.4444444444444444,
             "#bd3786"
            ],
            [
             0.5555555555555556,
             "#d8576b"
            ],
            [
             0.6666666666666666,
             "#ed7953"
            ],
            [
             0.7777777777777778,
             "#fb9f3a"
            ],
            [
             0.8888888888888888,
             "#fdca26"
            ],
            [
             1.0,
             "#f0f921"
            ]
           ],
           "sequentialminus": [
            [
             0.0,
             "#0d0887"
            ],
            [
             0.1111111111111111,
             "#46039f"
            ],
            [
             0.2222222222222222,
             "#7201a8"
            ],
            [
             0.3333333333333333,
             "#9c179e"
            ],
            [
             0.4444444444444444,
             "#bd3786"
            ],
            [
             0.5555555555555556,
             "#d8576b"
            ],
            [
             0.6666666666666666,
             "#ed7953"
            ],
            [
             0.7777777777777778,
             "#fb9f3a"
            ],
            [
             0.8888888888888888,
             "#fdca26"
            ],
            [
             1.0,
             "#f0f921"
            ]
           ],
           "diverging": [
            [
             0,
             "#8e0152"
            ],
            [
             0.1,
             "#c51b7d"
            ],
            [
             0.2,
             "#de77ae"
            ],
            [
             0.3,
             "#f1b6da"
            ],
            [
             0.4,
             "#fde0ef"
            ],
            [
             0.5,
             "#f7f7f7"
            ],
            [
             0.6,
             "#e6f5d0"
            ],
            [
             0.7,
             "#b8e186"
            ],
            [
             0.8,
             "#7fbc41"
            ],
            [
             0.9,
             "#4d9221"
            ],
            [
             1,
             "#276419"
            ]
           ]
          },
          "xaxis": {
           "gridcolor": "#283442",
           "linecolor": "#506784",
           "ticks": "",
           "title": {
            "standoff": 15
           },
           "zerolinecolor": "#283442",
           "automargin": true,
           "zerolinewidth": 2
          },
          "yaxis": {
           "gridcolor": "#283442",
           "linecolor": "#506784",
           "ticks": "",
           "title": {
            "standoff": 15
           },
           "zerolinecolor": "#283442",
           "automargin": true,
           "zerolinewidth": 2
          },
          "scene": {
           "xaxis": {
            "backgroundcolor": "rgb(17,17,17)",
            "gridcolor": "#506784",
            "linecolor": "#506784",
            "showbackground": true,
            "ticks": "",
            "zerolinecolor": "#C8D4E3",
            "gridwidth": 2
           },
           "yaxis": {
            "backgroundcolor": "rgb(17,17,17)",
            "gridcolor": "#506784",
            "linecolor": "#506784",
            "showbackground": true,
            "ticks": "",
            "zerolinecolor": "#C8D4E3",
            "gridwidth": 2
           },
           "zaxis": {
            "backgroundcolor": "rgb(17,17,17)",
            "gridcolor": "#506784",
            "linecolor": "#506784",
            "showbackground": true,
            "ticks": "",
            "zerolinecolor": "#C8D4E3",
            "gridwidth": 2
           }
          },
          "shapedefaults": {
           "line": {
            "color": "#f2f5fa"
           }
          },
          "annotationdefaults": {
           "arrowcolor": "#f2f5fa",
           "arrowhead": 0,
           "arrowwidth": 1
          },
          "geo": {
           "bgcolor": "rgb(17,17,17)",
           "landcolor": "rgb(17,17,17)",
           "subunitcolor": "#506784",
           "showland": true,
           "showlakes": true,
           "lakecolor": "rgb(17,17,17)"
          },
          "title": {
           "x": 0.05
          },
          "updatemenudefaults": {
           "bgcolor": "#506784",
           "borderwidth": 0
          },
          "sliderdefaults": {
           "bgcolor": "#C8D4E3",
           "borderwidth": 1,
           "bordercolor": "rgb(17,17,17)",
           "tickwidth": 0
          },
          "mapbox": {
           "style": "dark"
          }
         }
        }
       },
       "config": {
        "plotlyServerURL": "https://plot.ly"
       }
      },
      "text/html": "<div>                            <div id=\"d6d2f2e5-749c-4fda-a480-5a7ff3b834e2\" class=\"plotly-graph-div\" style=\"height:525px; width:100%;\"></div>            <script type=\"text/javascript\">                require([\"plotly\"], function(Plotly) {                    window.PLOTLYENV=window.PLOTLYENV || {};                                    if (document.getElementById(\"d6d2f2e5-749c-4fda-a480-5a7ff3b834e2\")) {                    Plotly.newPlot(                        \"d6d2f2e5-749c-4fda-a480-5a7ff3b834e2\",                        [{\"hovertemplate\":\"x=%{x}<br>y=%{y}<br>color=%{marker.color}<extra></extra>\",\"legendgroup\":\"\",\"marker\":{\"color\":[5,5,5,1,5,4,4,4,4,5,5,4,1,4,5,5,5,5,5,1,1,5,4,4,4,4,5,5,4,5,5,5,4,0,4,4,5,4,4,4,4,4,4,4,0,4,4,4,4,4,4,4,4,4,4,4,4,4,4,3,0,4,0,3,4,4,4,5,4,4,4,4,4,5,4,4,5,4,4,0,4,1,4,5,2,0,0,4,4,5,4,4,4,4,4,0,3,1,4,5,4,4,0,4,5,4,4,4,5,5,4,0,4,4,4,0,4,4,4,2,4,5,5,4,4,4,4,4,4,4,5,4,4,5,0,0,4,4,4,4,4,4,4,4,4,4,0,4,4,5,4,4,0,0,0,4,5,5,4,5,5,4,4,4,4,4,5,0,4,4,4,5,5,4,4,4,0,5,5,4,4,0,4,4,5,4,5,4,3,4,4,5,4,4,4,4,4,5,4,5,5,5,5,0,0,0,5,4,5,5,1,4,4,4,0,0,4,4,4,4,5,4,0,4,4,4,0,4,0,4,4,4,4,4,5,4,0,4,4,4,4,4,0,4,4,4,0,3,4,0,4,5,0,3,0,3,4,0,4,3,4,4,4,4,0,4,5,4,4,4,4,5,4,4,4,4,4,4,4,4,4,4,4,5,4,4,4,4,4,4,4,4,4,4,4,4,4,4,3,3],\"coloraxis\":\"coloraxis\",\"symbol\":\"circle\"},\"mode\":\"markers\",\"name\":\"\",\"orientation\":\"v\",\"showlegend\":false,\"x\":[-0.7768053813877291,-0.6607140362797732,-0.7429137904411799,6.867940370503428,-0.7424922532403522,-0.019977491021628397,0.5870360781702982,-0.12932424091634073,0.17974683473054856,-0.7639906504825663,-0.507190187738315,0.22451408545845317,5.805666624417556,-0.256122630925321,-0.8040366845612004,-0.7956902479848114,-0.7745290805032594,-0.49454407171348325,-0.4077917157831371,6.977540042718637,7.20517013116561,-0.7953530182241492,-0.10428493118717376,-0.06297428550605648,1.118172951213234,0.0019424434214133522,-0.7010973001190695,-0.7408061044370413,-0.22897563519201541,-0.7703980159351478,-0.8040366845612004,-0.5641820172902238,-0.2623613814975713,-0.7357476580271086,-0.24423528186197901,0.009867342796974718,-0.8040366845612004,0.484181001168333,-0.04704017931476841,-0.15545954736765974,-0.12114641922028284,0.0537915191232238,-0.09163881516234196,-0.01154674700507386,0.06432994914391697,-0.052857392686191135,-0.052014318284535614,-0.057494301895296106,-0.051086936442714614,-0.05513369357066083,-0.05656692005347511,-0.059601987899434744,-0.060107832540428036,-0.08700190595323698,-0.028408235038182933,0.0474684611108079,0.051683833119085164,0.014251329685583044,0.003628592224724284,0.0592715027339843,-0.08236499674413202,0.10100368561592916,-0.06423889710853971,-0.06449181942903635,-0.13463560964677004,-0.09121727796151426,0.41100214310463956,-0.36622814778152324,0.19399479211852572,-0.24271774793899928,-0.25182295147687817,0.3493734043436259,-0.011799669325570505,-0.332336556834974,-0.10057540381988979,-0.12966147067700295,-0.3268565732242135,-0.15706138873080522,-0.011293824684577214,-0.7281599884122095,0.05041922151660194,5.906835552616211,0.02554852666776615,-0.8040366845612004,-0.7172000211906886,0.12224916053764667,0.06517302354557238,-0.13176915668114159,0.013745485044589752,-0.719729244395655,0.05067214383709859,-0.22256826973943392,-0.08995266635903103,-0.17257395772126546,0.7069212580857037,0.030606973077698826,0.17392962135912596,3.268012675434641,-0.18344961750262087,-0.43055472462783434,0.11744363644821053,0.0014365987804201808,-0.033466681448115605,0.03903771709425336,-0.42608643029906046,0.14863738930946235,-0.07604193873171611,-0.024698707670898955,-0.7260523024080708,-0.7268953768097263,0.11837101829003152,0.11069904123496692,-0.04434234122947101,-0.06887580631764469,-0.05471215636983313,-0.739372877954227,0.08532250174513772,-0.07899269913751016,0.007843964233001552,-0.720825241117807,1.4891256879416335,-0.45584695667749797,-0.7353261208262808,0.12697037718691723,-0.12182087874160719,-0.013064280928053732,-0.07494594200956393,0.2455909454998395,0.5702588975773546,0.9326122754088688,-0.46689123133918436,0.0015209062205856494,-0.1461014215092842,-0.8040366845612004,0.286480053980129,0.07874652141222517,0.055899205127362434,1.4048182477760882,-0.1077415362339611,0.6418359142779028,-0.019977491021628397,0.014335637125748512,-0.11364305704554929,-0.07477732712923288,-0.10613969487081575,0.014588559446245158,1.0170040230145796,-0.07907700657767575,0.1402066452929078,-0.3094049331099456,-0.08894097707704457,0.03903771709425336,0.08372066038199238,0.25579214575987047,-0.7327968976213145,-0.20595970402682148,-0.41706553420134707,-0.43055472462783434,-0.09585418717061922,-0.6535479038657017,-0.3189316738486523,-0.1945781996044728,0.020658695138164415,0.02217622906114429,-0.1461857289494498,0.04738415367064231,-0.5751419845117447,-0.009439061000935224,0.07528991636543785,-0.037682053456392875,-0.1321063864418037,-0.37406873971691895,-0.7059871316486711,-0.11440182400703923,-0.02925130943983834,0.056826586969183426,-0.7281599884122095,-0.739372877954227,-0.3824994837334735,0.13590696584446493,-0.16498628810636645,0.166510566624558,0.9499796080829711,1.1428750311817388,-0.8040366845612004,0.11331257188009886,-0.8040366845612004,-0.13741775517223315,-0.7214153931989659,-0.1471974182314364,0.02554852666776615,-0.40618987441999177,0.12334515725979874,0.20554491142120546,-0.1802459347763302,-0.2144747554835415,-0.12350702754491812,-0.7522719162995555,0.29103265574906834,-0.7190547848743306,-0.7194763220751583,-0.7193920146349927,-0.7193920146349927,-0.7192233997546617,-0.7195606295153238,-0.7193920146349927,-0.7194763220751583,0.021248847219323293,-0.7263052247285675,-0.7381082663517438,4.928869246695885,0.6459669788460145,0.43502976355181994,-0.07503024944972952,0.05488751584537585,-0.2543521746818445,-0.2417060586570127,-0.00615107083447895,0.04013371381640541,0.4900825219799211,-0.29566282036296176,-0.10597107999048469,-0.21565505964585915,-0.03245499216612914,-0.003284617868850379,-0.05875891349777922,-0.19972095345457105,-0.2986135807687558,-0.7269796842498918,-0.0728382560054253,0.047215538790311255,-0.16085522353825465,-0.11043937431925861,-0.014244585090371253,-0.4299645725466755,0.009445805596146896,-0.0507497066820525,-0.2864733093849173,-0.09585418717061922,0.0220919216209787,0.2750985495577804,-0.045269723071292005,-0.043667881708146665,-0.12401287218591141,-0.1719838056401067,-0.046197104913113,-0.1593376896152749,-0.04021127666135933,0.036592801329452494,0.06441425658408256,0.05741673905034231,-0.7232701568826079,-0.035574367452254244,-0.719139092314496,-0.044848185870464304,-0.7190547848743306,-0.2176784382098323,0.017117782651211614,0.4605749179219802,-0.7265581470490642,0.13177590127635327,0.18429943649948807,0.04283155190170293,-0.1176898141734955,0.06905116579318753,0.040555251017233236,-0.5253162873739073,0.24137557349156225,0.0677865541907043,-0.013485818128881435,0.04030232869673659,-0.6521146773828876,-0.15824169289312284,-0.23824945361022537,-0.1996366460144056,-0.028408235038182933,-0.18210069845997218,-0.10512800558882916,-0.03178053264480479,-0.06634658311267835,0.013745485044589752,0.013745485044589752,-0.032707914486625786,-0.7214153931989659,-0.01255843628706044,-0.054206311728839836,-0.009186138680438579,-0.011040902364080568,-0.011799669325570505,-0.013907355329709138,-0.01736396037649647,-0.01559350413302007,-0.010113520522259573,-0.01028213540259063,-0.07916131401784121,-0.24356082234065468,-0.15394201344467998,0.009445805596146896,-0.719139092314496,-0.7176215583915163],\"xaxis\":\"x\",\"y\":[-0.32494889805990945,-0.35849319148421666,-0.3387729930243887,-0.3581847799167676,-0.35843876591349033,-0.3584569077703991,-0.35488296195937236,-0.35774937535095724,-0.322971435656854,-0.31058054738816726,-0.3578219427785923,-0.34715453091623827,-0.35843876591349033,-0.3584569077703991,-0.3585113333411254,-0.32562014676553375,-0.3525426624181416,-0.35742282192659947,-0.335652593636081,-0.19831873683672702,-0.35415728768302174,-0.3524882368474153,-0.35823920548749394,-0.35849319148421666,-0.35553606880808786,-0.3584206240565816,-0.357694949780231,-0.35849319148421666,-0.3577856590647748,-0.24256672583720582,-0.3585113333411254,-0.2649537772626223,-0.20067717823486653,1.2485669190649478,-0.3236064006486608,-0.2744782521397241,-0.3585113333411254,-0.09489201059985554,-0.2758933169786078,-0.3188169504247467,-0.3510368882947141,-0.1292345457281484,-0.35508252238536875,-0.3463744310691614,0.30776650349019224,-0.35530022466827393,-0.2718113991741356,-0.3088389291249258,-0.31651293459733354,-0.24742874348875493,-0.3158779696055267,-0.18209991676029078,-0.29523253644335173,-0.3057003878797094,-0.34691868677642435,-0.3500209443078232,-0.31839968771584515,0.058007559427219156,-0.13727138833873148,2.6749704185166263,0.22783348195017197,-0.05706623894507971,0.3274867019500202,2.2099946259449696,-0.3530687762684958,-0.33066358298617055,-0.13986567387668494,-0.30519241588626395,-0.3396438021560094,-0.3563161686551648,-0.3184722551434802,-0.34280048525813456,-0.3582936310582202,-0.35849319148421666,-0.34958553974201284,-0.07774795582107225,-0.2967020268529617,-0.35462897596264964,0.11078222117481767,0.8146137018072797,-0.1737002370115324,-0.3570418429315154,-0.3387729930243887,-0.3585113333411254,10.395455328324644,0.45364517489357475,1.1772875632704085,-0.3282507160173047,-0.22054251154996463,-0.3471908146300558,-0.3472996657715084,-0.34715453091623827,-0.2700879227678029,-0.22515054320479103,-0.3547922526748285,0.8453460074107282,2.1093980293858654,-0.3509461790101702,-0.3434535921068501,-0.2511659660119606,-0.26194222901576725,0.16201482508517112,0.7315421390220429,-0.27772564452639315,-0.35393958540011655,-0.35475596896101097,-0.30297910934339456,-0.060023361621208464,-0.2602731781801608,-0.2421494631283042,-0.14966227660741824,1.035200539960958,-0.1818277889066593,-0.35686042436242776,-0.3010379306541567,1.154356256137729,-0.3535404645481237,-0.3579489357769537,-0.321501945247244,7.524814884079969,-0.3579307939200449,-0.34945854674365145,0.2925454855437381,-0.08104977377846755,-0.3212479592505213,-0.26020061075252576,-0.33276803838758734,-0.34423369195392706,-0.349494830457469,-0.35849319148421666,-0.35323205298067467,-0.3553546502390002,-0.35780380092168357,-0.3585113333411254,0.3665642617315009,0.4879695681649589,-0.35577191294790184,-0.3121226052254123,-0.34314518053940113,0.2390270076628802,-0.358311772915129,-0.175586990130044,-0.25778774378366,-0.3438164292450254,-0.35740468006969073,-0.3482793260445817,1.4517194327293026,-0.16985416334687412,-0.3575679567818696,-0.3498758094525531,-0.29151345577705484,-0.3540121528277516,0.2118323641566409,0.4619541453577893,1.1685431882403836,-0.19882670883017245,-0.13834175789634864,-0.31829083657439255,-0.16718731038128562,-0.19499877702242296,-0.32199177538378065,-0.3007658028005252,-0.28215225761213186,-0.1339151448106099,-0.30539197631226034,-0.26870914164273674,-0.355372792095909,0.1908603775701081,-0.21513623819115255,-0.2726096408781213,-0.3152067208999024,-0.3448686569457338,-0.3561891756568034,-0.30444859975300453,-0.10013500724648874,-0.3282144323034872,0.44346759316775736,-0.16355893899953253,0.008770559776829891,0.024336273004550595,0.03273595275330897,0.737873647083202,-0.35796707763386243,-0.3560984663722596,-0.3585113333411254,-0.3582029217736764,-0.3585113333411254,-0.18554686957295619,2.76294028266723,-0.3326954709599523,-0.35849319148421666,-0.2610714198841465,-0.3178917157223997,-0.15671945894492798,-0.3581484962029501,-0.35308691812540455,-0.3434535921068501,-0.3376119141822277,-0.34715453091623827,-0.1512587600153896,-0.02112722040881547,0.22099400189556742,0.1296316105030249,0.8469606326756083,0.3851233813491679,0.37944498013672434,0.01782334637430382,-0.3261281187589792,0.036618310131784765,0.3102700797436019,-0.3542298551106568,-0.3554997850942703,-0.3088752128387433,-0.3317520944006965,0.6562534328506665,0.16359316663623372,-0.2567355160829516,0.1251324299896511,-0.28940900037563805,-0.34234693883541545,-0.08874192110778407,-0.3398433625820058,0.37897329185709644,-0.23656177120040447,-0.2941440250288258,-0.24363709539482298,0.21847228378524902,-0.3565520127949787,0.7364585822443184,-0.2149548196220649,-0.27939469536199957,-0.347408516912961,-0.34397970595720434,-0.2842022874428224,-0.3452496359408179,-0.3537037412603026,0.7043837792296211,-0.14913616275706407,-0.3319879385405104,-0.2623594917246688,-0.3581484962029501,-0.3584569077703991,0.22433210356678024,-0.33802917689112927,-0.26217807315558117,-0.32409623078519745,0.8323201541502346,2.846229547735372,-0.18001360321578275,0.6956394041995962,-0.336196849343344,-0.21504552890660872,1.1016904455315832,4.31717130589807,0.20383180525987535,3.1843937605147588,-0.3524882368474153,0.2523068469200965,-0.3524519531335978,2.5899758188990605,-0.35597147337389823,-0.14138958985702124,-0.20328960562972875,-0.34062346242908276,0.2808621296944932,-0.169092205356706,-0.3559351896600807,-0.3162045230298845,-0.3454491963668143,-0.34046018571690384,-0.20504936574987898,-0.29488784116208516,-0.35813035434604135,-0.3135920956350223,-0.35061962558581244,-0.34691868677642435,-0.24909779432436135,-0.2538509608344579,-0.3445783872351936,-0.26674982109659007,-0.23781355932710926,-0.3584569077703991,-0.3584206240565816,-0.3391539720194727,-0.3427460596874083,-0.28447441529645384,-0.33276803838758734,-0.3032330953401173,-0.33391097537283954,-0.27948540464654337,-0.23736001290439013,-0.3100725753947218,-0.3163677997420634,-0.2855992104247973,-0.34131285299161584,-0.3484607446136694,-0.31743816929968055,-0.2725007897366687,4.574241418295275,2.3962933545410814],\"yaxis\":\"y\",\"type\":\"scatter\"},{\"hovertemplate\":\"x=%{x}<br>y=%{y}<br>size=%{marker.size}<extra></extra>\",\"legendgroup\":\"\",\"marker\":{\"color\":\"#636efa\",\"size\":[1,2,3,4,5,6],\"sizemode\":\"area\",\"sizeref\":0.015,\"symbol\":\"circle\"},\"mode\":\"markers\",\"name\":\"\",\"orientation\":\"v\",\"showlegend\":false,\"x\":[-0.14600072095575317,5.851433520507424,-0.7190126311542478,-0.4194430040140154,0.03198925442287295,-0.621612826961615],\"xaxis\":\"x\",\"y\":[0.6084743329790843,-0.333045349628907,8.960135106202307,2.9665608562398305,-0.28127727682357495,-0.2510480439420537],\"yaxis\":\"y\",\"type\":\"scatter\"}],                        {\"template\":{\"data\":{\"histogram2dcontour\":[{\"type\":\"histogram2dcontour\",\"colorbar\":{\"outlinewidth\":0,\"ticks\":\"\"},\"colorscale\":[[0.0,\"#0d0887\"],[0.1111111111111111,\"#46039f\"],[0.2222222222222222,\"#7201a8\"],[0.3333333333333333,\"#9c179e\"],[0.4444444444444444,\"#bd3786\"],[0.5555555555555556,\"#d8576b\"],[0.6666666666666666,\"#ed7953\"],[0.7777777777777778,\"#fb9f3a\"],[0.8888888888888888,\"#fdca26\"],[1.0,\"#f0f921\"]]}],\"choropleth\":[{\"type\":\"choropleth\",\"colorbar\":{\"outlinewidth\":0,\"ticks\":\"\"}}],\"histogram2d\":[{\"type\":\"histogram2d\",\"colorbar\":{\"outlinewidth\":0,\"ticks\":\"\"},\"colorscale\":[[0.0,\"#0d0887\"],[0.1111111111111111,\"#46039f\"],[0.2222222222222222,\"#7201a8\"],[0.3333333333333333,\"#9c179e\"],[0.4444444444444444,\"#bd3786\"],[0.5555555555555556,\"#d8576b\"],[0.6666666666666666,\"#ed7953\"],[0.7777777777777778,\"#fb9f3a\"],[0.8888888888888888,\"#fdca26\"],[1.0,\"#f0f921\"]]}],\"heatmap\":[{\"type\":\"heatmap\",\"colorbar\":{\"outlinewidth\":0,\"ticks\":\"\"},\"colorscale\":[[0.0,\"#0d0887\"],[0.1111111111111111,\"#46039f\"],[0.2222222222222222,\"#7201a8\"],[0.3333333333333333,\"#9c179e\"],[0.4444444444444444,\"#bd3786\"],[0.5555555555555556,\"#d8576b\"],[0.6666666666666666,\"#ed7953\"],[0.7777777777777778,\"#fb9f3a\"],[0.8888888888888888,\"#fdca26\"],[1.0,\"#f0f921\"]]}],\"heatmapgl\":[{\"type\":\"heatmapgl\",\"colorbar\":{\"outlinewidth\":0,\"ticks\":\"\"},\"colorscale\":[[0.0,\"#0d0887\"],[0.1111111111111111,\"#46039f\"],[0.2222222222222222,\"#7201a8\"],[0.3333333333333333,\"#9c179e\"],[0.4444444444444444,\"#bd3786\"],[0.5555555555555556,\"#d8576b\"],[0.6666666666666666,\"#ed7953\"],[0.7777777777777778,\"#fb9f3a\"],[0.8888888888888888,\"#fdca26\"],[1.0,\"#f0f921\"]]}],\"contourcarpet\":[{\"type\":\"contourcarpet\",\"colorbar\":{\"outlinewidth\":0,\"ticks\":\"\"}}],\"contour\":[{\"type\":\"contour\",\"colorbar\":{\"outlinewidth\":0,\"ticks\":\"\"},\"colorscale\":[[0.0,\"#0d0887\"],[0.1111111111111111,\"#46039f\"],[0.2222222222222222,\"#7201a8\"],[0.3333333333333333,\"#9c179e\"],[0.4444444444444444,\"#bd3786\"],[0.5555555555555556,\"#d8576b\"],[0.6666666666666666,\"#ed7953\"],[0.7777777777777778,\"#fb9f3a\"],[0.8888888888888888,\"#fdca26\"],[1.0,\"#f0f921\"]]}],\"surface\":[{\"type\":\"surface\",\"colorbar\":{\"outlinewidth\":0,\"ticks\":\"\"},\"colorscale\":[[0.0,\"#0d0887\"],[0.1111111111111111,\"#46039f\"],[0.2222222222222222,\"#7201a8\"],[0.3333333333333333,\"#9c179e\"],[0.4444444444444444,\"#bd3786\"],[0.5555555555555556,\"#d8576b\"],[0.6666666666666666,\"#ed7953\"],[0.7777777777777778,\"#fb9f3a\"],[0.8888888888888888,\"#fdca26\"],[1.0,\"#f0f921\"]]}],\"mesh3d\":[{\"type\":\"mesh3d\",\"colorbar\":{\"outlinewidth\":0,\"ticks\":\"\"}}],\"scatter\":[{\"marker\":{\"line\":{\"color\":\"#283442\"}},\"type\":\"scatter\"}],\"parcoords\":[{\"type\":\"parcoords\",\"line\":{\"colorbar\":{\"outlinewidth\":0,\"ticks\":\"\"}}}],\"scatterpolargl\":[{\"type\":\"scatterpolargl\",\"marker\":{\"colorbar\":{\"outlinewidth\":0,\"ticks\":\"\"}}}],\"bar\":[{\"error_x\":{\"color\":\"#f2f5fa\"},\"error_y\":{\"color\":\"#f2f5fa\"},\"marker\":{\"line\":{\"color\":\"rgb(17,17,17)\",\"width\":0.5},\"pattern\":{\"fillmode\":\"overlay\",\"size\":10,\"solidity\":0.2}},\"type\":\"bar\"}],\"scattergeo\":[{\"type\":\"scattergeo\",\"marker\":{\"colorbar\":{\"outlinewidth\":0,\"ticks\":\"\"}}}],\"scatterpolar\":[{\"type\":\"scatterpolar\",\"marker\":{\"colorbar\":{\"outlinewidth\":0,\"ticks\":\"\"}}}],\"histogram\":[{\"marker\":{\"pattern\":{\"fillmode\":\"overlay\",\"size\":10,\"solidity\":0.2}},\"type\":\"histogram\"}],\"scattergl\":[{\"marker\":{\"line\":{\"color\":\"#283442\"}},\"type\":\"scattergl\"}],\"scatter3d\":[{\"type\":\"scatter3d\",\"line\":{\"colorbar\":{\"outlinewidth\":0,\"ticks\":\"\"}},\"marker\":{\"colorbar\":{\"outlinewidth\":0,\"ticks\":\"\"}}}],\"scattermapbox\":[{\"type\":\"scattermapbox\",\"marker\":{\"colorbar\":{\"outlinewidth\":0,\"ticks\":\"\"}}}],\"scatterternary\":[{\"type\":\"scatterternary\",\"marker\":{\"colorbar\":{\"outlinewidth\":0,\"ticks\":\"\"}}}],\"scattercarpet\":[{\"type\":\"scattercarpet\",\"marker\":{\"colorbar\":{\"outlinewidth\":0,\"ticks\":\"\"}}}],\"carpet\":[{\"aaxis\":{\"endlinecolor\":\"#A2B1C6\",\"gridcolor\":\"#506784\",\"linecolor\":\"#506784\",\"minorgridcolor\":\"#506784\",\"startlinecolor\":\"#A2B1C6\"},\"baxis\":{\"endlinecolor\":\"#A2B1C6\",\"gridcolor\":\"#506784\",\"linecolor\":\"#506784\",\"minorgridcolor\":\"#506784\",\"startlinecolor\":\"#A2B1C6\"},\"type\":\"carpet\"}],\"table\":[{\"cells\":{\"fill\":{\"color\":\"#506784\"},\"line\":{\"color\":\"rgb(17,17,17)\"}},\"header\":{\"fill\":{\"color\":\"#2a3f5f\"},\"line\":{\"color\":\"rgb(17,17,17)\"}},\"type\":\"table\"}],\"barpolar\":[{\"marker\":{\"line\":{\"color\":\"rgb(17,17,17)\",\"width\":0.5},\"pattern\":{\"fillmode\":\"overlay\",\"size\":10,\"solidity\":0.2}},\"type\":\"barpolar\"}],\"pie\":[{\"automargin\":true,\"type\":\"pie\"}]},\"layout\":{\"autotypenumbers\":\"strict\",\"colorway\":[\"#636efa\",\"#EF553B\",\"#00cc96\",\"#ab63fa\",\"#FFA15A\",\"#19d3f3\",\"#FF6692\",\"#B6E880\",\"#FF97FF\",\"#FECB52\"],\"font\":{\"color\":\"#f2f5fa\"},\"hovermode\":\"closest\",\"hoverlabel\":{\"align\":\"left\"},\"paper_bgcolor\":\"rgb(17,17,17)\",\"plot_bgcolor\":\"rgb(17,17,17)\",\"polar\":{\"bgcolor\":\"rgb(17,17,17)\",\"angularaxis\":{\"gridcolor\":\"#506784\",\"linecolor\":\"#506784\",\"ticks\":\"\"},\"radialaxis\":{\"gridcolor\":\"#506784\",\"linecolor\":\"#506784\",\"ticks\":\"\"}},\"ternary\":{\"bgcolor\":\"rgb(17,17,17)\",\"aaxis\":{\"gridcolor\":\"#506784\",\"linecolor\":\"#506784\",\"ticks\":\"\"},\"baxis\":{\"gridcolor\":\"#506784\",\"linecolor\":\"#506784\",\"ticks\":\"\"},\"caxis\":{\"gridcolor\":\"#506784\",\"linecolor\":\"#506784\",\"ticks\":\"\"}},\"coloraxis\":{\"colorbar\":{\"outlinewidth\":0,\"ticks\":\"\"}},\"colorscale\":{\"sequential\":[[0.0,\"#0d0887\"],[0.1111111111111111,\"#46039f\"],[0.2222222222222222,\"#7201a8\"],[0.3333333333333333,\"#9c179e\"],[0.4444444444444444,\"#bd3786\"],[0.5555555555555556,\"#d8576b\"],[0.6666666666666666,\"#ed7953\"],[0.7777777777777778,\"#fb9f3a\"],[0.8888888888888888,\"#fdca26\"],[1.0,\"#f0f921\"]],\"sequentialminus\":[[0.0,\"#0d0887\"],[0.1111111111111111,\"#46039f\"],[0.2222222222222222,\"#7201a8\"],[0.3333333333333333,\"#9c179e\"],[0.4444444444444444,\"#bd3786\"],[0.5555555555555556,\"#d8576b\"],[0.6666666666666666,\"#ed7953\"],[0.7777777777777778,\"#fb9f3a\"],[0.8888888888888888,\"#fdca26\"],[1.0,\"#f0f921\"]],\"diverging\":[[0,\"#8e0152\"],[0.1,\"#c51b7d\"],[0.2,\"#de77ae\"],[0.3,\"#f1b6da\"],[0.4,\"#fde0ef\"],[0.5,\"#f7f7f7\"],[0.6,\"#e6f5d0\"],[0.7,\"#b8e186\"],[0.8,\"#7fbc41\"],[0.9,\"#4d9221\"],[1,\"#276419\"]]},\"xaxis\":{\"gridcolor\":\"#283442\",\"linecolor\":\"#506784\",\"ticks\":\"\",\"title\":{\"standoff\":15},\"zerolinecolor\":\"#283442\",\"automargin\":true,\"zerolinewidth\":2},\"yaxis\":{\"gridcolor\":\"#283442\",\"linecolor\":\"#506784\",\"ticks\":\"\",\"title\":{\"standoff\":15},\"zerolinecolor\":\"#283442\",\"automargin\":true,\"zerolinewidth\":2},\"scene\":{\"xaxis\":{\"backgroundcolor\":\"rgb(17,17,17)\",\"gridcolor\":\"#506784\",\"linecolor\":\"#506784\",\"showbackground\":true,\"ticks\":\"\",\"zerolinecolor\":\"#C8D4E3\",\"gridwidth\":2},\"yaxis\":{\"backgroundcolor\":\"rgb(17,17,17)\",\"gridcolor\":\"#506784\",\"linecolor\":\"#506784\",\"showbackground\":true,\"ticks\":\"\",\"zerolinecolor\":\"#C8D4E3\",\"gridwidth\":2},\"zaxis\":{\"backgroundcolor\":\"rgb(17,17,17)\",\"gridcolor\":\"#506784\",\"linecolor\":\"#506784\",\"showbackground\":true,\"ticks\":\"\",\"zerolinecolor\":\"#C8D4E3\",\"gridwidth\":2}},\"shapedefaults\":{\"line\":{\"color\":\"#f2f5fa\"}},\"annotationdefaults\":{\"arrowcolor\":\"#f2f5fa\",\"arrowhead\":0,\"arrowwidth\":1},\"geo\":{\"bgcolor\":\"rgb(17,17,17)\",\"landcolor\":\"rgb(17,17,17)\",\"subunitcolor\":\"#506784\",\"showland\":true,\"showlakes\":true,\"lakecolor\":\"rgb(17,17,17)\"},\"title\":{\"x\":0.05},\"updatemenudefaults\":{\"bgcolor\":\"#506784\",\"borderwidth\":0},\"sliderdefaults\":{\"bgcolor\":\"#C8D4E3\",\"borderwidth\":1,\"bordercolor\":\"rgb(17,17,17)\",\"tickwidth\":0},\"mapbox\":{\"style\":\"dark\"}}}},                        {\"responsive\": true}                    ).then(function(){\n                            \nvar gd = document.getElementById('d6d2f2e5-749c-4fda-a480-5a7ff3b834e2');\nvar x = new MutationObserver(function (mutations, observer) {{\n        var display = window.getComputedStyle(gd).display;\n        if (!display || display === 'none') {{\n            console.log([gd, 'removed!']);\n            Plotly.purge(gd);\n            observer.disconnect();\n        }}\n}});\n\n// Listen for the removal of the full notebook cells\nvar notebookContainer = gd.closest('#notebook-container');\nif (notebookContainer) {{\n    x.observe(notebookContainer, {childList: true});\n}}\n\n// Listen for the clearing of the current output cell\nvar outputEl = gd.closest('.output');\nif (outputEl) {{\n    x.observe(outputEl, {childList: true});\n}}\n\n                        })                };                });            </script>        </div>"
     },
     "metadata": {},
     "output_type": "display_data"
    }
   ],
   "source": [
    "grafico_cluster = px.scatter(y=base_cotacoes[:,0], x=base_cotacoes[:,1], color=rotulos)\n",
    "grafico_centroid = px.scatter(y=centroides[:,0], x=centroides[:,1], size=[1,2,3,4,5,6])\n",
    "grafico_geral = go.Figure(data=grafico_cluster.data + grafico_centroid.data)\n",
    "grafico_geral.show()"
   ]
  },
  {
   "cell_type": "code",
   "execution_count": 42,
   "metadata": {
    "pycharm": {
     "name": "#%%\n"
    }
   },
   "outputs": [
    {
     "name": "stdout",
     "output_type": "stream",
     "text": [
      "1 Outros\n",
      "2 Hospital\n",
      "3 nan\n",
      "4 Títulos e Val. Mob.\n",
      "5 Logística\n",
      "6 Shoppings\n",
      "7 Hotel\n",
      "8 Híbrido\n",
      "9 Lajes Corporativas\n",
      "10 Residencial\n"
     ]
    }
   ],
   "source": [
    "n_cluster = df['Setor']\n",
    "n_cluster = set(n_cluster)\n",
    "nome_cluster = n_cluster\n",
    "for id, x in enumerate(nome_cluster):\n",
    "    id_n = id+1\n",
    "    print(id_n,x)"
   ]
  },
  {
   "cell_type": "markdown",
   "metadata": {
    "pycharm": {
     "name": "#%% md\n"
    }
   },
   "source": [
    "o Y referece ao numero de ações em circulação\n",
    "o X referece ao valor da ação\n",
    "\n",
    "logo quanto mais a direita mais cara é a ação e quanto mais alta mais fácil a liquidez da ação."
   ]
  },
  {
   "cell_type": "code",
   "execution_count": 43,
   "metadata": {
    "pycharm": {
     "name": "#%%\n"
    }
   },
   "outputs": [
    {
     "data": {
      "text/plain": "306"
     },
     "execution_count": 43,
     "metadata": {},
     "output_type": "execute_result"
    }
   ],
   "source": [
    "nome_rotulo = df['Codigo_do_fundo']\n",
    "len(nome_rotulo)"
   ]
  },
  {
   "cell_type": "code",
   "execution_count": 45,
   "metadata": {
    "pycharm": {
     "name": "#%%\n"
    }
   },
   "outputs": [
    {
     "ename": "ValueError",
     "evalue": "All arguments should have the same length. The length of argument `color` is 306, whereas the length of  previously-processed arguments ['x', 'y'] is 300",
     "output_type": "error",
     "traceback": [
      "\u001B[1;31m---------------------------------------------------------------------------\u001B[0m",
      "\u001B[1;31mValueError\u001B[0m                                Traceback (most recent call last)",
      "Input \u001B[1;32mIn [45]\u001B[0m, in \u001B[0;36m<cell line: 1>\u001B[1;34m()\u001B[0m\n\u001B[1;32m----> 1\u001B[0m grafico_c_rt \u001B[38;5;241m=\u001B[39m \u001B[43mpx\u001B[49m\u001B[38;5;241;43m.\u001B[39;49m\u001B[43mscatter\u001B[49m\u001B[43m(\u001B[49m\u001B[43my\u001B[49m\u001B[38;5;241;43m=\u001B[39;49m\u001B[43mlista_lq\u001B[49m\u001B[43m,\u001B[49m\u001B[43m \u001B[49m\u001B[43mx\u001B[49m\u001B[38;5;241;43m=\u001B[39;49m\u001B[43mlista_vc\u001B[49m\u001B[43m,\u001B[49m\u001B[43m \u001B[49m\u001B[43mcolor\u001B[49m\u001B[38;5;241;43m=\u001B[39;49m\u001B[43mnome_rotulo\u001B[49m\u001B[43m)\u001B[49m\n\u001B[0;32m      2\u001B[0m grafico_c_rt\u001B[38;5;241m.\u001B[39mshow()\n",
      "File \u001B[1;32m~\\Desktop\\GITHUB\\cotacaopython\\venv\\lib\\site-packages\\plotly\\express\\_chart_types.py:66\u001B[0m, in \u001B[0;36mscatter\u001B[1;34m(data_frame, x, y, color, symbol, size, hover_name, hover_data, custom_data, text, facet_row, facet_col, facet_col_wrap, facet_row_spacing, facet_col_spacing, error_x, error_x_minus, error_y, error_y_minus, animation_frame, animation_group, category_orders, labels, orientation, color_discrete_sequence, color_discrete_map, color_continuous_scale, range_color, color_continuous_midpoint, symbol_sequence, symbol_map, opacity, size_max, marginal_x, marginal_y, trendline, trendline_options, trendline_color_override, trendline_scope, log_x, log_y, range_x, range_y, render_mode, title, template, width, height)\u001B[0m\n\u001B[0;32m     12\u001B[0m \u001B[38;5;28;01mdef\u001B[39;00m \u001B[38;5;21mscatter\u001B[39m(\n\u001B[0;32m     13\u001B[0m     data_frame\u001B[38;5;241m=\u001B[39m\u001B[38;5;28;01mNone\u001B[39;00m,\n\u001B[0;32m     14\u001B[0m     x\u001B[38;5;241m=\u001B[39m\u001B[38;5;28;01mNone\u001B[39;00m,\n\u001B[1;32m   (...)\u001B[0m\n\u001B[0;32m     60\u001B[0m     height\u001B[38;5;241m=\u001B[39m\u001B[38;5;28;01mNone\u001B[39;00m,\n\u001B[0;32m     61\u001B[0m ) \u001B[38;5;241m-\u001B[39m\u001B[38;5;241m>\u001B[39m go\u001B[38;5;241m.\u001B[39mFigure:\n\u001B[0;32m     62\u001B[0m     \u001B[38;5;124;03m\"\"\"\u001B[39;00m\n\u001B[0;32m     63\u001B[0m \u001B[38;5;124;03m    In a scatter plot, each row of `data_frame` is represented by a symbol\u001B[39;00m\n\u001B[0;32m     64\u001B[0m \u001B[38;5;124;03m    mark in 2D space.\u001B[39;00m\n\u001B[0;32m     65\u001B[0m \u001B[38;5;124;03m    \"\"\"\u001B[39;00m\n\u001B[1;32m---> 66\u001B[0m     \u001B[38;5;28;01mreturn\u001B[39;00m \u001B[43mmake_figure\u001B[49m\u001B[43m(\u001B[49m\u001B[43margs\u001B[49m\u001B[38;5;241;43m=\u001B[39;49m\u001B[38;5;28;43mlocals\u001B[39;49m\u001B[43m(\u001B[49m\u001B[43m)\u001B[49m\u001B[43m,\u001B[49m\u001B[43m \u001B[49m\u001B[43mconstructor\u001B[49m\u001B[38;5;241;43m=\u001B[39;49m\u001B[43mgo\u001B[49m\u001B[38;5;241;43m.\u001B[39;49m\u001B[43mScatter\u001B[49m\u001B[43m)\u001B[49m\n",
      "File \u001B[1;32m~\\Desktop\\GITHUB\\cotacaopython\\venv\\lib\\site-packages\\plotly\\express\\_core.py:1990\u001B[0m, in \u001B[0;36mmake_figure\u001B[1;34m(args, constructor, trace_patch, layout_patch)\u001B[0m\n\u001B[0;32m   1987\u001B[0m layout_patch \u001B[38;5;241m=\u001B[39m layout_patch \u001B[38;5;129;01mor\u001B[39;00m {}\n\u001B[0;32m   1988\u001B[0m apply_default_cascade(args)\n\u001B[1;32m-> 1990\u001B[0m args \u001B[38;5;241m=\u001B[39m \u001B[43mbuild_dataframe\u001B[49m\u001B[43m(\u001B[49m\u001B[43margs\u001B[49m\u001B[43m,\u001B[49m\u001B[43m \u001B[49m\u001B[43mconstructor\u001B[49m\u001B[43m)\u001B[49m\n\u001B[0;32m   1991\u001B[0m \u001B[38;5;28;01mif\u001B[39;00m constructor \u001B[38;5;129;01min\u001B[39;00m [go\u001B[38;5;241m.\u001B[39mTreemap, go\u001B[38;5;241m.\u001B[39mSunburst, go\u001B[38;5;241m.\u001B[39mIcicle] \u001B[38;5;129;01mand\u001B[39;00m args[\u001B[38;5;124m\"\u001B[39m\u001B[38;5;124mpath\u001B[39m\u001B[38;5;124m\"\u001B[39m] \u001B[38;5;129;01mis\u001B[39;00m \u001B[38;5;129;01mnot\u001B[39;00m \u001B[38;5;28;01mNone\u001B[39;00m:\n\u001B[0;32m   1992\u001B[0m     args \u001B[38;5;241m=\u001B[39m process_dataframe_hierarchy(args)\n",
      "File \u001B[1;32m~\\Desktop\\GITHUB\\cotacaopython\\venv\\lib\\site-packages\\plotly\\express\\_core.py:1405\u001B[0m, in \u001B[0;36mbuild_dataframe\u001B[1;34m(args, constructor)\u001B[0m\n\u001B[0;32m   1402\u001B[0m     args[\u001B[38;5;124m\"\u001B[39m\u001B[38;5;124mcolor\u001B[39m\u001B[38;5;124m\"\u001B[39m] \u001B[38;5;241m=\u001B[39m \u001B[38;5;28;01mNone\u001B[39;00m\n\u001B[0;32m   1403\u001B[0m \u001B[38;5;66;03m# now that things have been prepped, we do the systematic rewriting of `args`\u001B[39;00m\n\u001B[1;32m-> 1405\u001B[0m df_output, wide_id_vars \u001B[38;5;241m=\u001B[39m \u001B[43mprocess_args_into_dataframe\u001B[49m\u001B[43m(\u001B[49m\n\u001B[0;32m   1406\u001B[0m \u001B[43m    \u001B[49m\u001B[43margs\u001B[49m\u001B[43m,\u001B[49m\u001B[43m \u001B[49m\u001B[43mwide_mode\u001B[49m\u001B[43m,\u001B[49m\u001B[43m \u001B[49m\u001B[43mvar_name\u001B[49m\u001B[43m,\u001B[49m\u001B[43m \u001B[49m\u001B[43mvalue_name\u001B[49m\n\u001B[0;32m   1407\u001B[0m \u001B[43m\u001B[49m\u001B[43m)\u001B[49m\n\u001B[0;32m   1409\u001B[0m \u001B[38;5;66;03m# now that `df_output` exists and `args` contains only references, we complete\u001B[39;00m\n\u001B[0;32m   1410\u001B[0m \u001B[38;5;66;03m# the special-case and wide-mode handling by further rewriting args and/or mutating\u001B[39;00m\n\u001B[0;32m   1411\u001B[0m \u001B[38;5;66;03m# df_output\u001B[39;00m\n\u001B[0;32m   1413\u001B[0m count_name \u001B[38;5;241m=\u001B[39m _escape_col_name(df_output, \u001B[38;5;124m\"\u001B[39m\u001B[38;5;124mcount\u001B[39m\u001B[38;5;124m\"\u001B[39m, [var_name, value_name])\n",
      "File \u001B[1;32m~\\Desktop\\GITHUB\\cotacaopython\\venv\\lib\\site-packages\\plotly\\express\\_core.py:1245\u001B[0m, in \u001B[0;36mprocess_args_into_dataframe\u001B[1;34m(args, wide_mode, var_name, value_name)\u001B[0m\n\u001B[0;32m   1242\u001B[0m         col_name \u001B[38;5;241m=\u001B[39m _check_name_not_reserved(field, reserved_names)\n\u001B[0;32m   1244\u001B[0m     \u001B[38;5;28;01mif\u001B[39;00m length \u001B[38;5;129;01mand\u001B[39;00m \u001B[38;5;28mlen\u001B[39m(argument) \u001B[38;5;241m!=\u001B[39m length:\n\u001B[1;32m-> 1245\u001B[0m         \u001B[38;5;28;01mraise\u001B[39;00m \u001B[38;5;167;01mValueError\u001B[39;00m(\n\u001B[0;32m   1246\u001B[0m             \u001B[38;5;124m\"\u001B[39m\u001B[38;5;124mAll arguments should have the same length. \u001B[39m\u001B[38;5;124m\"\u001B[39m\n\u001B[0;32m   1247\u001B[0m             \u001B[38;5;124m\"\u001B[39m\u001B[38;5;124mThe length of argument `\u001B[39m\u001B[38;5;132;01m%s\u001B[39;00m\u001B[38;5;124m` is \u001B[39m\u001B[38;5;132;01m%d\u001B[39;00m\u001B[38;5;124m, whereas the \u001B[39m\u001B[38;5;124m\"\u001B[39m\n\u001B[0;32m   1248\u001B[0m             \u001B[38;5;124m\"\u001B[39m\u001B[38;5;124mlength of  previously-processed arguments \u001B[39m\u001B[38;5;132;01m%s\u001B[39;00m\u001B[38;5;124m is \u001B[39m\u001B[38;5;132;01m%d\u001B[39;00m\u001B[38;5;124m\"\u001B[39m\n\u001B[0;32m   1249\u001B[0m             \u001B[38;5;241m%\u001B[39m (field, \u001B[38;5;28mlen\u001B[39m(argument), \u001B[38;5;28mstr\u001B[39m(\u001B[38;5;28mlist\u001B[39m(df_output\u001B[38;5;241m.\u001B[39mcolumns)), length)\n\u001B[0;32m   1250\u001B[0m         )\n\u001B[0;32m   1251\u001B[0m     df_output[\u001B[38;5;28mstr\u001B[39m(col_name)] \u001B[38;5;241m=\u001B[39m to_unindexed_series(argument)\n\u001B[0;32m   1253\u001B[0m \u001B[38;5;66;03m# Finally, update argument with column name now that column exists\u001B[39;00m\n",
      "\u001B[1;31mValueError\u001B[0m: All arguments should have the same length. The length of argument `color` is 306, whereas the length of  previously-processed arguments ['x', 'y'] is 300"
     ]
    }
   ],
   "source": [
    "grafico_c_rt = px.scatter(y=lista_lq, x=lista_vc, color=nome_rotulo)\n",
    "grafico_c_rt.show()"
   ]
  },
  {
   "cell_type": "code",
   "execution_count": null,
   "metadata": {
    "pycharm": {
     "name": "#%%\n"
    }
   },
   "outputs": [],
   "source": [
    "import matplotlib.pyplot as plt\n",
    "from scipy.cluster.hierarchy import dendrogram, linkage"
   ]
  },
  {
   "cell_type": "markdown",
   "metadata": {
    "pycharm": {
     "name": "#%% md\n"
    }
   },
   "source": [
    "gerando as linhas de hieraquia"
   ]
  },
  {
   "cell_type": "code",
   "execution_count": null,
   "metadata": {
    "pycharm": {
     "name": "#%%\n"
    }
   },
   "outputs": [],
   "source": [
    "dendograma = dendrogram(linkage(base_cotacoes, method='ward'))\n",
    "plt.title('Dendograma')\n",
    "plt.xlabel('ações')\n",
    "plt.ylabel('distancia')\n",
    "plt.show()"
   ]
  },
  {
   "cell_type": "markdown",
   "metadata": {
    "pycharm": {
     "name": "#%% md\n"
    }
   },
   "source": [
    "com sklearn"
   ]
  },
  {
   "cell_type": "code",
   "execution_count": null,
   "metadata": {
    "pycharm": {
     "name": "#%%\n"
    }
   },
   "outputs": [],
   "source": [
    "from sklearn.cluster import AgglomerativeClustering"
   ]
  },
  {
   "cell_type": "code",
   "execution_count": null,
   "metadata": {
    "pycharm": {
     "name": "#%%\n"
    }
   },
   "outputs": [],
   "source": [
    "hc_cotas = AgglomerativeClustering(n_clusters=4, linkage='ward', affinity='euclidean')\n",
    "rotulos = hc_cotas.fit_predict(base_cotacoes)"
   ]
  },
  {
   "cell_type": "code",
   "execution_count": null,
   "metadata": {
    "pycharm": {
     "name": "#%%\n"
    }
   },
   "outputs": [],
   "source": [
    "rotulos"
   ]
  },
  {
   "cell_type": "code",
   "execution_count": null,
   "metadata": {
    "pycharm": {
     "name": "#%%\n"
    }
   },
   "outputs": [],
   "source": [
    "grafico_cluster = px.scatter(y=base_cotacoes[:,0], x=base_cotacoes[:,1], color=rotulos)\n",
    "grafico_cluster.show()"
   ]
  },
  {
   "cell_type": "code",
   "execution_count": null,
   "metadata": {
    "pycharm": {
     "name": "#%%\n"
    }
   },
   "outputs": [],
   "source": [
    "grafico_c_rt = px.scatter(y=lista_lq, x=lista_vc, labels=nome_rotulo)\n",
    "grafico_c_rt.show()"
   ]
  },
  {
   "cell_type": "markdown",
   "metadata": {
    "pycharm": {
     "name": "#%% md\n"
    }
   },
   "source": [
    "################### preço cota com rendimento ##################"
   ]
  },
  {
   "cell_type": "markdown",
   "metadata": {
    "pycharm": {
     "name": "#%% md\n"
    }
   },
   "source": [
    "pegando as colunas do dataset"
   ]
  },
  {
   "cell_type": "code",
   "execution_count": null,
   "metadata": {
    "pycharm": {
     "name": "#%%\n"
    }
   },
   "outputs": [],
   "source": [
    "valor_cota = df['Preco_Atual']\n",
    "rendimento_cota = df['Dividendo']"
   ]
  },
  {
   "cell_type": "markdown",
   "metadata": {
    "pycharm": {
     "name": "#%% md\n"
    }
   },
   "source": [
    "criando os eixos x e y"
   ]
  },
  {
   "cell_type": "code",
   "execution_count": null,
   "metadata": {
    "pycharm": {
     "name": "#%%\n"
    }
   },
   "outputs": [],
   "source": [
    "lista_rend = [] #liquidez_diaria\n",
    "lista_vc = [] #preço atual\n",
    "for rd, vc in zip(rendimento_cota,valor_cota):\n",
    "    try:\n",
    "        vc = vc.split(' ')[-1]\n",
    "        vc = vc.replace(',', '.')\n",
    "        vc = float(vc)\n",
    "        rd = rd.split(' ')[-1]\n",
    "        rd = rd.replace(',', '.')\n",
    "        rd = float(rd)\n",
    "        lista_rend.append(rd)\n",
    "        lista_vc.append(vc)\n",
    "    except:\n",
    "        pass"
   ]
  },
  {
   "cell_type": "markdown",
   "metadata": {
    "pycharm": {
     "name": "#%% md\n"
    }
   },
   "source": [
    "juntando as informações em coordenadas"
   ]
  },
  {
   "cell_type": "code",
   "execution_count": null,
   "metadata": {
    "pycharm": {
     "name": "#%%\n"
    }
   },
   "outputs": [],
   "source": [
    "lista_cotacao = []\n",
    "for x,y in zip(lista_rend, lista_vc):\n",
    "    item = [x,y]\n",
    "    lista_cotacao.append(item)\n",
    "\n",
    "print(lista_cotacao)"
   ]
  },
  {
   "cell_type": "code",
   "execution_count": null,
   "metadata": {
    "pycharm": {
     "name": "#%%\n"
    }
   },
   "outputs": [],
   "source": [
    "base_cotacoes = np.array(lista_cotacao)\n",
    "scaler_base = StandardScaler()\n",
    "base_cotacoes_rend = scaler_base.fit_transform(base_cotacoes)\n",
    "base_cotacoes_rend"
   ]
  },
  {
   "cell_type": "markdown",
   "metadata": {
    "pycharm": {
     "name": "#%% md\n"
    }
   },
   "source": [
    "lembrando que já temos o setor"
   ]
  },
  {
   "cell_type": "code",
   "execution_count": null,
   "metadata": {
    "pycharm": {
     "name": "#%%\n"
    }
   },
   "outputs": [],
   "source": [
    "k_means_cotacao = KMeans(n_clusters=6)\n",
    "k_means_cotacao.fit(base_cotacoes_rend)"
   ]
  },
  {
   "cell_type": "code",
   "execution_count": null,
   "metadata": {
    "pycharm": {
     "name": "#%%\n"
    }
   },
   "outputs": [],
   "source": [
    "centroides = k_means_cotacao.cluster_centers_\n",
    "centroides"
   ]
  },
  {
   "cell_type": "code",
   "execution_count": null,
   "metadata": {
    "pycharm": {
     "name": "#%%\n"
    }
   },
   "outputs": [],
   "source": [
    "rotulos = k_means_cotacao.labels_\n",
    "rotulos"
   ]
  },
  {
   "cell_type": "code",
   "execution_count": null,
   "metadata": {
    "pycharm": {
     "name": "#%%\n"
    }
   },
   "outputs": [],
   "source": [
    "n_cluster = df['Setor']\n",
    "n_cluster = set(n_cluster)\n",
    "nome_cluster = n_cluster\n",
    "for id, x in enumerate(nome_cluster):\n",
    "    id_n = id+1\n",
    "    print(id_n,x)"
   ]
  },
  {
   "cell_type": "markdown",
   "metadata": {
    "pycharm": {
     "name": "#%% md\n"
    }
   },
   "source": [
    "grafico por dividendos x valor da cota"
   ]
  },
  {
   "cell_type": "markdown",
   "metadata": {
    "pycharm": {
     "name": "#%% md\n"
    }
   },
   "source": [
    "## y = referece ao rendimento mensal, quanto maior e mais alta melhor\n",
    "## x = referece ao valor da cota quanto mais a direita mais cara é"
   ]
  },
  {
   "cell_type": "code",
   "execution_count": null,
   "metadata": {
    "pycharm": {
     "name": "#%%\n"
    }
   },
   "outputs": [],
   "source": [
    "nome_rotulo = df['Codigo_do_fundo']\n",
    "grafico_c_rt = px.scatter(y=lista_rend, x=lista_vc)\n",
    "grafico_c_rt.show()"
   ]
  },
  {
   "cell_type": "code",
   "execution_count": null,
   "metadata": {
    "pycharm": {
     "name": "#%%\n"
    }
   },
   "outputs": [],
   "source": [
    "grafico_cluster = px.scatter(y=base_cotacoes_rend[:,0], x=base_cotacoes_rend[:,1], color=rotulos)\n",
    "grafico_centroid = px.scatter(y=centroides[:,0], x=centroides[:,1], size=[2,3,4,5,6,7])\n",
    "grafico_geral = go.Figure(data=grafico_cluster.data + grafico_centroid.data)\n",
    "grafico_geral.show()"
   ]
  },
  {
   "cell_type": "code",
   "execution_count": null,
   "metadata": {
    "pycharm": {
     "name": "#%%\n"
    }
   },
   "outputs": [],
   "source": [
    "dendograma_rendimento = dendrogram(linkage(base_cotacoes_rend, method='ward'))"
   ]
  },
  {
   "cell_type": "markdown",
   "metadata": {
    "pycharm": {
     "name": "#%% md\n"
    }
   },
   "source": [
    "se imaginarmo uma linha entre 10 e 15 temos ali 3 linhas verticais"
   ]
  },
  {
   "cell_type": "code",
   "execution_count": null,
   "metadata": {
    "pycharm": {
     "name": "#%%\n"
    }
   },
   "outputs": [],
   "source": [
    "hc_rendimento = AgglomerativeClustering(n_clusters=3, affinity='euclidean', linkage='ward')\n",
    "rotulo_hc = hc_rendimento.fit_predict(base_cotacoes_rend)"
   ]
  },
  {
   "cell_type": "code",
   "execution_count": null,
   "metadata": {
    "pycharm": {
     "name": "#%%\n"
    }
   },
   "outputs": [],
   "source": [
    "rotulo_hc"
   ]
  },
  {
   "cell_type": "code",
   "execution_count": null,
   "metadata": {
    "pycharm": {
     "name": "#%%\n"
    }
   },
   "outputs": [],
   "source": [
    "grafico_cluster_rend = px.scatter(y=base_cotacoes_rend[:,0], x=base_cotacoes_rend[:,1], color=rotulo_hc)\n",
    "grafico_cluster_rend.show()"
   ]
  },
  {
   "cell_type": "markdown",
   "metadata": {
    "pycharm": {
     "name": "#%% md\n"
    }
   },
   "source": [
    "vizualizando o csv que atende os requisitos"
   ]
  },
  {
   "cell_type": "code",
   "execution_count": null,
   "metadata": {
    "pycharm": {
     "name": "#%%\n"
    }
   },
   "outputs": [],
   "source": [
    "dataframe = df\n",
    "dataframe"
   ]
  },
  {
   "cell_type": "code",
   "execution_count": null,
   "metadata": {
    "pycharm": {
     "name": "#%%\n"
    }
   },
   "outputs": [],
   "source": [
    "n_cluster = df['Setor']\n",
    "n_cluster = set(n_cluster)\n",
    "nome_cluster = n_cluster\n",
    "for id, x in enumerate(nome_cluster):\n",
    "    print(x)"
   ]
  },
  {
   "cell_type": "code",
   "execution_count": null,
   "metadata": {
    "pycharm": {
     "name": "#%%\n"
    }
   },
   "outputs": [],
   "source": [
    "restricao_setor = 'Shoppings'\n",
    "restricao_lq_diaria = 25000\n",
    "filtro_df = dataframe[(dataframe.Preco_Atual <= 150) & (dataframe.Preco_Atual >= 7) & (dataframe.DividendYield >= 1)]\n",
    "# filtro_df = dataframe[(dataframe.Codigo_do_fundo == 'MXRF11')]\n",
    "filtro_df"
   ]
  }
 ],
 "metadata": {
  "kernelspec": {
   "display_name": "Python 3 (ipykernel)",
   "language": "python",
   "name": "python3"
  },
  "language_info": {
   "codemirror_mode": {
    "name": "ipython",
    "version": 3
   },
   "file_extension": ".py",
   "mimetype": "text/x-python",
   "name": "python",
   "nbconvert_exporter": "python",
   "pygments_lexer": "ipython3",
   "version": "3.9.12"
  }
 },
 "nbformat": 4,
 "nbformat_minor": 1
}